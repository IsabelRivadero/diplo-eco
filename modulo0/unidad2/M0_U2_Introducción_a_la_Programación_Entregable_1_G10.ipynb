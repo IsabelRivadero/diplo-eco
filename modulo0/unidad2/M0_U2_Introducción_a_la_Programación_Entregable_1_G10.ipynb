{
  "nbformat": 4,
  "nbformat_minor": 0,
  "metadata": {
    "colab": {
      "name": "M0.U2 Introducción a la Programación - Entregable 1- G10.ipynb",
      "provenance": [],
      "collapsed_sections": []
    },
    "kernelspec": {
      "display_name": "Python 3",
      "name": "python3"
    }
  },
  "cells": [
    {
      "cell_type": "markdown",
      "metadata": {
        "id": "7cUqukj4_P_A"
      },
      "source": [
        "![img](https://drive.google.com/uc?export=view&id=1kgX98Ziw9LzgBCT2BxChttfrTcBltLej)\n"
      ]
    },
    {
      "cell_type": "markdown",
      "metadata": {
        "id": "mgqhxY2yCx6i"
      },
      "source": [
        "# MÓDULO 0. Unidad 2 - Trabajo Práctico Entregable 1\n",
        "\n",
        "---\n",
        "\n",
        "> Aplicaciones integradoras de los contenidos aprendidos hasta la clase 3.\n",
        "\n",
        "\n"
      ]
    },
    {
      "cell_type": "markdown",
      "metadata": {
        "id": "O63cYKbC1ABf"
      },
      "source": [
        "# Introducción"
      ]
    },
    {
      "cell_type": "markdown",
      "metadata": {
        "id": "9wbTEd7pASze"
      },
      "source": [
        "En la siguiente notebook, se plantean una serie de problemas que deberán resolver con programas, utilizando las herramientas provistas hasta la clase 3.\n",
        "\n",
        "**La fecha de entrega es el 21/05.**\n",
        "\n",
        "*Nota: No es necesaria la importación de librerías aún.*"
      ]
    },
    {
      "cell_type": "markdown",
      "metadata": {
        "id": "8L6F_M5JtFnN"
      },
      "source": [
        "# 1- Transacciones Bancarias\n",
        "\n",
        "Tener una cuenta bancaria es muy común hoy en día. Consideren que se necesita desarrollar una función a la que se le pueda ingresar el saldo inicial, una lista con el tipo de operación y el monto de cada operación realizada en el lapso de un mes, y devuelva el saldo final de ese mes.\n",
        "\n",
        "Además, las posibles operaciones que se pueden realizar son:\n",
        "- Depósito\n",
        "- Transferencia Recibida\n",
        "- Transferencia Realizada\n",
        "- Pago\n",
        "- Extracción\n",
        "\n",
        "Y cada operación tiene una comisión diferente:\n",
        "- Depósito: 0%\n",
        "- Transferencia Recibida: 0.01%\n",
        "- Transferencia Realizada: 0.1%\n",
        "- Pago: 0.5%\n",
        "- Extracción: 1%\n",
        "\n",
        "Finalmente, este tipo de cuenta rinde un interés de 1% mensual, según el saldo al inicio del mes.\n",
        "\n",
        "Desarrollar una función que cumpla con lo especificado."
      ]
    },
    {
      "cell_type": "code",
      "metadata": {
        "colab": {
          "base_uri": "https://localhost:8080/"
        },
        "id": "lzTGVhL901Yi",
        "outputId": "63cff43a-6d09-4649-ef7f-bfb9036670a9"
      },
      "source": [
        "#funcion de cálculo de saldo\n",
        "\n",
        "def calculo_saldo (inicial , lista):\n",
        "  saldo_final=0\n",
        "  interes = inicial * 0.01\n",
        "  for i in range (len(lista)):\n",
        "    if lista [i][0] == 1:\n",
        "      saldo_final= inicial + lista [i][1]\n",
        "      inicial= saldo_final\n",
        "    if lista [i][0] == 2:\n",
        "      saldo_final = inicial + lista [i][1] - (lista [i][1]* 0.0001)\n",
        "      inicial = saldo_final\n",
        "    if lista [i][0]== 3:\n",
        "      saldo_final = inicial - lista [i][1] -(lista [i][1]* 0.001)\n",
        "      inicial = saldo_final\n",
        "    if lista [i][0]== 4:\n",
        "      saldo_final = inicial - lista [i][1] -(lista [i][1]* 0.005)\n",
        "      inicial= saldo_final\n",
        "    if lista [i][0]== 5:\n",
        "      saldo_final = inicial - lista [i][1] -(lista [i][1]* 0.01)\n",
        "      inicial= saldo_final\n",
        "\n",
        "  saldo_final = saldo_final + interes\n",
        "  print(\"El Saldo de su cuenta es $:  \", saldo_final)\n",
        "  print (\"interes:\", interes)\n",
        "\n",
        "# MENU PARA CARGAR LAS VARIABLES - ESTE BLOQUE SE REALIZA PARA FACILITAR LA CARGA AL USUARIO Y EVITAR ERRORES \n",
        "print (\"TRANSACCIONES BANCARIAS REALIZADAS EN UN MES\")\n",
        "print (\"------------------\")\n",
        "print (\"OPCION 1: DEPOSITO\")\n",
        "print (\"OPCION 2: TRANSFENCIA RECIBIDA\")\n",
        "print (\"OPCION 3: TRANSFERENCIA REALIZADA\")\n",
        "print (\"OPCION 4: PAGO \")\n",
        "print (\"OPCION 5: EXTRACCION\")\n",
        "print (\"OPCION 6: FINALIZAR\")\n",
        "lista_operaciones= []\n",
        "opcion =  0\n",
        "importe= 0\n",
        "while True:\n",
        "  print (\"---------------------------\")\n",
        "  opcion = int(input(\"INGRESE UNA OPCION ENTRE 1 Y 6:   \")) \n",
        "  if opcion < 1 or opcion > 6:\n",
        "    print(\"ERROR!!!!!: DEBE ELEGIR UNA OPCION ENTRE 1 Y 6\")\n",
        "    opcion = int(input(\"INGRESE UNA OPCION ENTRE 1 Y 6:   \"))\n",
        "  if opcion >= 1 and opcion <6:\n",
        "    importe = float(input(\"INGRESE EL IMPORTE CORRESPONDIENTE: \"))\n",
        "    operacion=[]\n",
        "    operacion.append (opcion)\n",
        "    operacion.append (importe)\n",
        "    lista_operaciones.append (operacion)\n",
        "  if opcion == 6:\n",
        "    break\n",
        "print (\"__________________________________________\")\n",
        "print (\"CARGA DE OPERACIONES FINALIZADA\")\n",
        "print (\"----------------------------\")\n",
        "saldo_inicial= float(input(\"INGRESE EL SALDO INCIAL:    \"))  \n",
        "print(lista_operaciones)\n",
        "#inicializar la funcion\n",
        "calculo_saldo (saldo_inicial,lista_operaciones)\n",
        "\n",
        "\n",
        "\n"
      ],
      "execution_count": null,
      "outputs": [
        {
          "output_type": "stream",
          "text": [
            "TRANSACCIONES BANCARIAS REALIZADAS EN UN MES\n",
            "------------------\n",
            "OPCION 1: DEPOSITO\n",
            "OPCION 2: TRANSFENCIA RECIBIDA\n",
            "OPCION 3: TRANSFERENCIA REALIZADA\n",
            "OPCION 4: PAGO \n",
            "OPCION 5: EXTRACCION\n",
            "OPCION 6: FINALIZAR\n",
            "---------------------------\n",
            "INGRESE UNA OPCION ENTRE 1 Y 6:   1\n",
            "INGRESE EL IMPORTE CORRESPONDIENTE: 2000\n",
            "---------------------------\n",
            "INGRESE UNA OPCION ENTRE 1 Y 6:   2\n",
            "INGRESE EL IMPORTE CORRESPONDIENTE: 2000\n",
            "---------------------------\n",
            "INGRESE UNA OPCION ENTRE 1 Y 6:   3\n",
            "INGRESE EL IMPORTE CORRESPONDIENTE: 2000\n",
            "---------------------------\n",
            "INGRESE UNA OPCION ENTRE 1 Y 6:   6\n",
            "__________________________________________\n",
            "CARGA DE OPERACIONES FINALIZADA\n",
            "----------------------------\n",
            "INGRESE EL SALDO INCIAL:    1000\n",
            "[[1, 2000.0], [2, 2000.0], [3, 2000.0]]\n",
            "El Saldo de su cuenta es $:   3007.8\n",
            "interes: 10.0\n"
          ],
          "name": "stdout"
        }
      ]
    },
    {
      "cell_type": "markdown",
      "metadata": {
        "id": "UynyOMH202d9"
      },
      "source": [
        "# 2- Lista del Super\n",
        "\n",
        "El siguiente diccionario, `productos`, contiene cantidades en stock y precios unitarios de los productos disponibles en un supermercado:"
      ]
    },
    {
      "cell_type": "markdown",
      "metadata": {
        "id": "qIjNLS0vl8zT"
      },
      "source": [
        "Están planificando una cena en grupo y decidieron que van a comer milanesas con puré mixto y arroz primavera. Tienen que definir la lista de compras para tal fin. Un ejemplo de lista podría ser el siguiente:\n",
        "\n",
        "```\n",
        "mi_lista = [('milanesas', 1.5), ('aceite de girasol', 1),\n",
        "('pure de papas knorr con zapallo', 2), ('arroz', 1),\n",
        "('cerveza andes rubia', 2), ('zanahoria', 0.5)]\n",
        "```\n",
        "\n",
        "1. Elaborar un programa que tenga como input una lista de compras, con las respectivas cantidades para cada producto, y devuelva:\n",
        "\n",
        "- Los productos que no se encuentran disponibles en este supermercado.\n",
        "- Los productos que están en falta.\n",
        "- El monto total del carrito de compras.\n",
        "\n",
        "> Además, considerar que si no hay suficiente stock de un producto, se comprará hasta el máximo posible y que hay productos que se venden por unidad mientras que otros son fraccionables. De los fraccionables, considerar que se puede obtener la cantidad exacta.\n",
        "\n",
        "- Almacenar en un diccionario (`ticket`) el ticket de compra."
      ]
    },
    {
      "cell_type": "markdown",
      "metadata": {
        "id": "l7jifNWaJnDB"
      },
      "source": [
        "2. Solicitar que el usuario ingrese su nombre, apellido y últimos cuatro dígitos de su tarjeta de crédito y, a partir del ticket previamente almacenado, elaborar el cuerpo de un mail automático con los detalles de la compra. Un ejemplo de mail puede ser el siguiente:\n",
        "\n",
        "*Buenos días, Juana López.*\n",
        "\n",
        "*Usted ha realizado una compra por \\$2220,30, con su tarjeta de crédito terminada en 8740. A continuación sigue el detalle de su compra:*\n",
        "\n",
        "*- milanesas x 1.5*\n",
        "  \n",
        "*precio unitario = \\$832.00* || *total = \\$1248.00*\n",
        "\n",
        "*- arroz dos hermanos doble carolina 1kg x 1*\n",
        "  \n",
        "*precio unitario = \\$135.00* || *total = \\$135.00*\n",
        "...\n",
        "\n",
        "*¡Gracias por su compra!*\n",
        "\n",
        "*El Super*"
      ]
    },
    {
      "cell_type": "code",
      "metadata": {
        "id": "TfUpgMZXabWJ",
        "colab": {
          "base_uri": "https://localhost:8080/"
        },
        "outputId": "cd06265d-1c10-47a4-d027-f99caa8fa9a8"
      },
      "source": [
        "productos = {\n",
        "    'milanesas 1kg': {\n",
        "        'stock': 15.2,\n",
        "        'precio': 832,\n",
        "        'fraccionable': True,\n",
        "    },\n",
        "\n",
        "    'aceite de girasol natura 1.5l': {\n",
        "        'stock': 5,\n",
        "        'precio': 259,\n",
        "        'fraccionable': False,\n",
        "    },\n",
        "    'arroz dos hermanos doble carolina 1kg':{\n",
        "        'stock': 1,\n",
        "        'precio': 135,\n",
        "        'fraccionable': False,\n",
        "    },\n",
        "    'papa 1kg': {\n",
        "        'stock': 35.60,\n",
        "        'precio': 84.9,\n",
        "        'fraccionable': True,\n",
        "    },\n",
        "    'calabacín anquito 1kg': {\n",
        "        'stock': 4.25,\n",
        "        'precio': 59.9,\n",
        "        'fraccionable': True,\n",
        "    },\n",
        "    'cebolla 1kg': {\n",
        "        'stock': 1.2,\n",
        "        'precio': 84.90,\n",
        "        'fraccionable': True,\n",
        "    },\n",
        "    'provenzal alicante 25g': {\n",
        "        'stock': 10,\n",
        "        'precio': 45.5,\n",
        "        'fraccionable': False,\n",
        "    },\n",
        "    'agua 2l': {\n",
        "        'stock': 15,\n",
        "        'precio': 62.90,\n",
        "        'fraccionable': False,\n",
        "    },\n",
        "    'cerveza andes rubia 1l': {\n",
        "        'stock': 1,\n",
        "        'precio': 177.90,\n",
        "        'fraccionable': False,\n",
        "    },\n",
        "    'pure de papas knorr con zapallo 125g': {\n",
        "        'stock': 1,\n",
        "        'precio': 117,\n",
        "        'fraccionable': False,\n",
        "    }\n",
        "}\n",
        "print (productos)\n",
        "\n",
        "# REALIZAR LA LISTA DE INGREDIENTES PARA COMPRAR\n",
        "#mi_lista = []\n",
        "\n",
        "print (\"LISTA DE COMPRAS PARA LA CENA\")\n",
        "print (\"----------------------------\")\n",
        "print (\"INGRESAR EL PRODUCTO Y LA CANTIDAD NECESARIA\")\n",
        "\n",
        "opcion = \"s\"\n",
        "while opcion != \"n\":\n",
        "  ingrediente = input (\"INGRESE EL PRODUCTO A COMPRAR: \")\n",
        "  cantidad = float(input(\" INGRESE LA CANTIDAD NECESARIA:  \"))\n",
        "  mi_lista.append ((ingrediente, cantidad))\n",
        "  print (\"--------------------------------------\")\n",
        "  opcion= input (\"QUIERE INGRESAR OTRO INGREDIENTE (s/n):  \")\n",
        "  if opcion != \"n\" and opcion != \"s\":\n",
        "    print (\"Error: Debe ingresar (s/n)!!!!!!\")\n",
        "    opcion= input (\"QUIERE INGRESAR OTRO INGREDIENTE (s/n):  \")\n",
        "\n",
        "\"\"\"mi_lista = [('milanesas', 1.5), ('aceite de girasol', 1),\n",
        "('pure de papas knorr con zapallo', 2), ('arroz', 1),\n",
        "('cerveza andes rubia', 2), ('zanahoria', 0.5)]\"\"\"\n",
        "\n",
        "print (\"      \" ) \n",
        "print (\"LISTA DE INGREDIENTES COMPLETA!!!!!\")\n",
        "print (mi_lista)\n",
        "print (\"    \")\n",
        "lista = dict(mi_lista)\n",
        "\n",
        "# BUSQUEDA DE LOS INGREDIENTES EN EL ALMACEN\n",
        "sin_existencia = []\n",
        "\n",
        "productos_faltantes= []\n",
        "compra = {}\n",
        "for clave in lista:\n",
        "    \n",
        "    no_encontrado = True\n",
        "\n",
        "    for clave1 in productos:\n",
        "        if clave in clave1:    \n",
        "          mi_producto = productos.get(clave1)\n",
        "          existencia = mi_producto.get(\"stock\")\n",
        "          cantidad = lista.get(clave)\n",
        "          precio = mi_producto.get (\"precio\")\n",
        "          \n",
        "          no_encontrado = False\n",
        "          \n",
        "          if existencia >= cantidad: \n",
        "            compra[clave1] = {\"precio\": precio, \"cantidad\":cantidad}\n",
        "          else:\n",
        "            compra[clave1] = {\"precio\": precio, \"cantidad\":existencia}              \n",
        "            cantidad_faltante = cantidad - existencia\n",
        "            productos_faltantes.append((clave1, cantidad_faltante))\n",
        "        \n",
        "    if no_encontrado :\n",
        "          item_sin = []\n",
        "          item_sin.append(clave)\n",
        "          cantidad_inexistente = lista.get(clave)\n",
        "          item_sin.append(cantidad_inexistente)\n",
        "          sin_existencia.append(item_sin)\n",
        "          \n",
        "print (\"    \")\n",
        "print (\"Lista de Productos y cantidades faltantes:\", productos_faltantes)\n",
        "print (\"    \")\n",
        "print (\"    \")\n",
        "print (\"Diccionario de ticket de compra\", compra)\n",
        "print (\"    \")\n",
        "print (\"Productos no encontrados:\", sin_existencia)\n",
        "print (\"    \")\n",
        "\n",
        "# ARMAR EL TICKET\n",
        "ticket = []\n",
        "for k in compra:\n",
        "  item = []\n",
        "  producto_comprado = k\n",
        "  item.append (producto_comprado)\n",
        "  mi_compra = compra.get(k)\n",
        "  cantidad_comprada = mi_compra.get(\"cantidad\")\n",
        "  item.append (cantidad_comprada)\n",
        "  precio_compra = mi_compra.get (\"precio\")\n",
        "  item.append(precio_compra)\n",
        "  total_item = mi_compra.get (\"cantidad\")* mi_compra.get (\"precio\")\n",
        "  item.append (total_item)\n",
        "  ticket.append (item)\n",
        "#print(ticket)\n",
        "\n",
        "\n",
        "total_compra=0\n",
        "\n",
        "for x in range(len(ticket)):\n",
        "  total_compra += ticket [x][3]\n",
        "print (\"    \")\n",
        "print (\"monto total de compra es de $:\", total_compra)\n",
        "print (\"    \")\n",
        "\n",
        "nombre = input( \"Ingrese su nombre:\")\n",
        "tarjeta = int(input(\"Ingrese los cuatro ultimos numeros de su Tarjeta de Crédito: \"))\n",
        "print (\"       \")\n",
        "print (\"        \")\n",
        "print (\"----------\")\n",
        "\n",
        "\n",
        "print (\"Buenos Dias\", nombre)\n",
        "print (\"Usted a realizado una compra por $\", total_compra, \"con su tarjeta de credito finalizada en:\", tarjeta)\n",
        "print (\"cuyo detalle es: \")\n",
        "for x in range (len(ticket)):\n",
        "  producto_ticket = ticket [x][0]\n",
        "  cantidad_ticket = ticket [x][1]\n",
        "  precio_ticket = ticket [x][2]\n",
        "  total_ticket = ticket [x][3]\n",
        "  print (f\" {producto_ticket} x {cantidad_ticket} Precio Unitario = {precio_ticket}  // Total {total_ticket}\")\n",
        "\n"
      ],
      "execution_count": null,
      "outputs": [
        {
          "output_type": "stream",
          "text": [
            "{'milanesas 1kg': {'stock': 15.2, 'precio': 832, 'fraccionable': True}, 'aceite de girasol natura 1.5l': {'stock': 5, 'precio': 259, 'fraccionable': False}, 'arroz dos hermanos doble carolina 1kg': {'stock': 1, 'precio': 135, 'fraccionable': False}, 'papa 1kg': {'stock': 35.6, 'precio': 84.9, 'fraccionable': True}, 'calabacín anquito 1kg': {'stock': 4.25, 'precio': 59.9, 'fraccionable': True}, 'cebolla 1kg': {'stock': 1.2, 'precio': 84.9, 'fraccionable': True}, 'provenzal alicante 25g': {'stock': 10, 'precio': 45.5, 'fraccionable': False}, 'agua 2l': {'stock': 15, 'precio': 62.9, 'fraccionable': False}, 'cerveza andes rubia 1l': {'stock': 1, 'precio': 177.9, 'fraccionable': False}, 'pure de papas knorr con zapallo 125g': {'stock': 1, 'precio': 117, 'fraccionable': False}}\n",
            "LISTA DE COMPRAS PARA LA CENA\n",
            "----------------------------\n",
            "INGRESAR EL PRODUCTO Y LA CANTIDAD NECESARIA\n",
            "INGRESE EL PRODUCTO A COMPRAR: milanesa\n",
            " INGRESE LA CANTIDAD NECESARIA:  2\n",
            "--------------------------------------\n",
            "QUIERE INGRESAR OTRO INGREDIENTE (s/n):  s\n",
            "INGRESE EL PRODUCTO A COMPRAR: arroz\n",
            " INGRESE LA CANTIDAD NECESARIA:  3\n",
            "--------------------------------------\n",
            "QUIERE INGRESAR OTRO INGREDIENTE (s/n):  s\n",
            "INGRESE EL PRODUCTO A COMPRAR: banana\n",
            " INGRESE LA CANTIDAD NECESARIA:  2\n",
            "--------------------------------------\n",
            "QUIERE INGRESAR OTRO INGREDIENTE (s/n):  n\n",
            "      \n",
            "LISTA DE INGREDIENTES COMPLETA!!!!!\n",
            "[['milanesa', 2.0], ['arroz', 2.0], ('milanesa', 2.0), ('arroz', 3.0), ('banana', 2.0)]\n",
            "    \n",
            "    \n",
            "Lista de Productos y cantidades faltantes: [('arroz dos hermanos doble carolina 1kg', 2.0)]\n",
            "    \n",
            "    \n",
            "Diccionario de ticket de compra {'milanesas 1kg': {'precio': 832, 'cantidad': 2.0}, 'arroz dos hermanos doble carolina 1kg': {'precio': 135, 'cantidad': 1}}\n",
            "    \n",
            "Productos no encontrados: [['banana', 2.0]]\n",
            "    \n",
            "    \n",
            "monto total de compra es de $: 1799.0\n",
            "    \n",
            "Ingrese su nombre:juan\n",
            "Ingrese los cuatro ultimos numeros de su Tarjeta de Crédito: 3333\n",
            "       \n",
            "        \n",
            "----------\n",
            "Buenos Dias juan\n",
            "Usted a realizado una compra por $ 1799.0 con su tarjeta de credito finalizada en: 3333\n",
            "cuyo detalle es: \n",
            " milanesas 1kg x 2.0 Precio Unitario = 832  // Total 1664.0\n",
            " arroz dos hermanos doble carolina 1kg x 1 Precio Unitario = 135  // Total 135\n"
          ],
          "name": "stdout"
        }
      ]
    },
    {
      "cell_type": "code",
      "metadata": {
        "id": "1tAES6x2Jm0r"
      },
      "source": [
        ""
      ],
      "execution_count": null,
      "outputs": []
    },
    {
      "cell_type": "markdown",
      "metadata": {
        "id": "iwis_XylF6oQ"
      },
      "source": [
        "# 3- Ingresos de una Empresa\n",
        "\n",
        "Las ventas del mes de abril de una empresa fueron almacenadas en la siguiente lista, que contiene las cantidades vendidas para 10 productos:"
      ]
    },
    {
      "cell_type": "code",
      "metadata": {
        "id": "rhCXVmdmF57z"
      },
      "source": [
        "ventas_q = [1204, 285, 219, 568, 563, 291, 682, 1295, 340, 452]"
      ],
      "execution_count": null,
      "outputs": []
    },
    {
      "cell_type": "markdown",
      "metadata": {
        "id": "HBX1Ok4qGQKn"
      },
      "source": [
        "Y los respectivos precios unitarios del mes se encuentran en esta otra:"
      ]
    },
    {
      "cell_type": "code",
      "metadata": {
        "id": "G4p0eewcGzNf"
      },
      "source": [
        "precios = [123.23, 902.12, 107.3, 109.2, 192.56, 209.32, 909.2, 826.3, 683.32, 325.5]"
      ],
      "execution_count": null,
      "outputs": []
    },
    {
      "cell_type": "markdown",
      "metadata": {
        "id": "KeYmiYfYHOrc"
      },
      "source": [
        "1. A partir de estos datos, calcular e imprimir amigablemente:\n",
        "\n",
        "- Ingreso por producto\n",
        "- Ingreso total\n",
        "- Precio medio\n",
        "- Precio promedio ponderado\n",
        "- Guardar el ingreso calculado por producto en un diccionario, donde la clave sea el producto y el valor, el ingreso.\n",
        "\n",
        "2. El objetivo de ventas para el mes era de 3 millones. Elaborar una función que indique si el objetivo de venta se cumplió o no y qué porcentaje de desvío se produjo. ¿Y si el objetivo de ventas cambiara cada mes, cómo adaptarían la función para poder establecer un objetivo diferente cada vez que se llame la función?"
      ]
    },
    {
      "cell_type": "code",
      "metadata": {
        "id": "Oe2i2g6MkHfV",
        "colab": {
          "base_uri": "https://localhost:8080/"
        },
        "outputId": "0b13e035-13e2-42fd-d194-b0ae415b6621"
      },
      "source": [
        "\n",
        "#--------------------------------------------------------\n",
        "ingresos_por_producto=[]\n",
        "for i in range(10):\n",
        "  ingreso= ventas_q[i]*precios[i]\n",
        "  ingresos_por_producto.append(ingreso)\n",
        "print(f\"Ingreso por producto: {ingresos_por_producto}\")\n",
        "#-------------------------------------------------------\n",
        "ingreso_total= sum(ingresos_por_producto)\n",
        "print(f\"Ingreso total: {ingreso_total}\")\n",
        "#-------------------------------------------------------\n",
        "precio_promedio= sum(precios)/10     \n",
        "print(f\"Precio promedio: {precio_promedio}\")\n",
        "#-------------------------------------------------------\n",
        "suma_cantidad = sum (ventas_q)\n",
        "\n",
        "media_ponderada= ingreso_total/suma_cantidad\n",
        "print(f\"Precio promedio ponderado: {media_ponderada}\")\n",
        "#--------------------------------------------------------\n",
        "diccionario_ing_por_producto= {}\n",
        "for i in range(10):\n",
        "  diccionario_ing_por_producto[i]= ingresos_por_producto[i]\n",
        "\n",
        "print(f\"Diccionario de ingresos por producto: {diccionario_ing_por_producto}\")\n",
        "\n",
        "#---------------------------------------------------------\n",
        "def objetivo_cumplido(ingreso_total, objetivo=3000000):\n",
        "  porcentaje_de_desvio= (objetivo-ingreso_total)/objetivo\n",
        "  if ingreso_total>=objetivo:\n",
        "    print(f\"El objetivo de venta se cumplio con un porcentaje de desvio de: {porcentaje_de_desvio}\")\n",
        "  else:\n",
        "    print(f\"El objetivo de venta no se cumplio con un porcentaje de desvio de: {porcentaje_de_desvio}\")\n",
        "\n",
        "\n",
        "objetivo_cumplido(2000000)"
      ],
      "execution_count": null,
      "outputs": [
        {
          "output_type": "stream",
          "text": [
            "Ingreso por producto: [148368.92, 257104.2, 23498.7, 62025.6, 108411.28, 60912.119999999995, 620074.4, 1070058.5, 232328.80000000002, 147126.0]\n",
            "Ingreso total: 2729908.5199999996\n",
            "Precio promedio: 438.80499999999995\n",
            "Precio promedio ponderado: 462.77479572808943\n",
            "Diccionario de ingresos por producto: {0: 148368.92, 1: 257104.2, 2: 23498.7, 3: 62025.6, 4: 108411.28, 5: 60912.119999999995, 6: 620074.4, 7: 1070058.5, 8: 232328.80000000002, 9: 147126.0}\n",
            "El objetivo de venta no se cumplio con un porcentaje de desvio de: 0.3333333333333333\n"
          ],
          "name": "stdout"
        }
      ]
    },
    {
      "cell_type": "markdown",
      "metadata": {
        "id": "IxTNk5c5Clzd"
      },
      "source": [
        "# 4- Análisis del Precio de una Acción\n",
        "\n",
        "Una operacion muy común al manejar datos es la derivada\n",
        "\n",
        "$$ \\frac{d }{dt} (\\mathrm{Datos}) $$\n",
        "\n",
        "Escribir una función que reciba una lista de precios diarios de las acciones de una compañía. Llamemos $n$ a la cantidad de elementos en esta lista. Debe devolver una lista de tamaño $n-1$ con los valores de la *derivada discreta* de la lista recibida.\n",
        "\n",
        "La *derivada discreta* corresponde a la diferencia entre un elemento y su anterior, podemos usar la siguiente definición:\n",
        "* $\\mathrm{derivada}[i]=x[i+1]-x[i]$ \n",
        "\n",
        "Indicar el día en el cual se produjo el mayor salto positivo en el precio de las acciones, y el día en el cual se produjo el mayor salto negativo."
      ]
    },
    {
      "cell_type": "code",
      "metadata": {
        "id": "8cNXMscNC2Hi",
        "colab": {
          "base_uri": "https://localhost:8080/"
        },
        "outputId": "3ee2cefa-52da-4cf0-ec78-6cef60d93943"
      },
      "source": [
        "# Una lista de ejemplo puede ser el precio de Mercado Libre durante el mes de marzo.\n",
        "lista_mercado= [1713.28, 1642.41, 1528.0, 1458.64, 1470.24, 1369.54, 1452.01, 1435.57, 1570.78, 1550.15, 1581.32, 1550.49,\n",
        " 1537.62, 1436.17, 1448.89, 1476.11, 1446.65, 1387.85, 1402.5, 1431.97, 1403.42, 1428.03, 1472.14]\n",
        "print(len(lista_mercado))"
      ],
      "execution_count": null,
      "outputs": [
        {
          "output_type": "stream",
          "text": [
            "23\n"
          ],
          "name": "stdout"
        }
      ]
    },
    {
      "cell_type": "code",
      "metadata": {
        "id": "x--JqKqKuLrV",
        "colab": {
          "base_uri": "https://localhost:8080/"
        },
        "outputId": "aea29b3b-5a91-4ea2-f7e0-68be854b7d4a"
      },
      "source": [
        "def precios (lista):\n",
        "  variaciones = []\n",
        "  variaciones_ordenadas = []\n",
        "  for x in range (len(lista )- 1):\n",
        "    valor = lista[x + 1] - lista[x]\n",
        "    variaciones.append (valor)\n",
        "  \n",
        "  print(\"variaciones diarias:\", variaciones)\n",
        "  variaciones_ordenadas = list (variaciones)\n",
        "  variaciones_ordenadas.sort()\n",
        "  mayor= variaciones_ordenadas[-1]\n",
        "  menor = variaciones_ordenadas [0]\n",
        "  \n",
        "  for i in range (len(variaciones)):\n",
        "    if variaciones [i] == menor:\n",
        "      print(\"La mayor variación negativa es de $\", menor, \"y se produjo en el día: \", i + 1)\n",
        "    if variaciones [i] == mayor:\n",
        "      print(\"La mayor variación positiva es de $\", mayor, \"y se produjo en el día: \", i + 1)\n",
        "    \n",
        "    \n",
        "  \n",
        "\n",
        "precios (lista_mercado)\n"
      ],
      "execution_count": null,
      "outputs": [
        {
          "output_type": "stream",
          "text": [
            "variaciones diarias: [-70.86999999999989, -114.41000000000008, -69.3599999999999, 11.599999999999909, -100.70000000000005, 82.47000000000003, -16.440000000000055, 135.21000000000004, -20.62999999999988, 31.169999999999845, -30.829999999999927, -12.870000000000118, -101.44999999999982, 12.720000000000027, 27.2199999999998, -29.45999999999981, -58.80000000000018, 14.650000000000091, 29.470000000000027, -28.549999999999955, 24.6099999999999, 44.11000000000013]\n",
            "La mayor variación negativa es de $ -114.41000000000008 y se produjo en el día:  2\n",
            "La mayor variación positiva es de $ 135.21000000000004 y se produjo en el día:  8\n"
          ],
          "name": "stdout"
        }
      ]
    }
  ]
}