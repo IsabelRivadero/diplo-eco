{
 "cells": [
  {
   "cell_type": "markdown",
   "metadata": {
    "id": "IGQqZ8VrL51s"
   },
   "source": [
    "\n",
    "\n",
    "    \n",
    "<center>\n",
    "<img src=\"FIFA20.jpg\" />\n",
    "        \n",
    "# Diplo 2021\n",
    "# Clasificacion con FIFA 20\n",
    "\n",
    "### Práctico Ana Georgina Flesia  "
   ]
  },
  {
   "cell_type": "markdown",
   "metadata": {
    "id": "eEBFAcW1n0Wm"
   },
   "source": [
    "### Vamos a trabajar con otro grupo de datos correspondiente al juego FIFA, el recolectado en el año 2020. "
   ]
  },
  {
   "cell_type": "code",
   "execution_count": 2,
   "metadata": {
    "colab": {
     "base_uri": "https://localhost:8080/",
     "height": 230
    },
    "executionInfo": {
     "elapsed": 825,
     "status": "ok",
     "timestamp": 1630705766781,
     "user": {
      "displayName": "ANA GEORGINA FLESIA",
      "photoUrl": "https://lh3.googleusercontent.com/a-/AOh14GhEzdrRs7t9rM7bZMeG13bgILnDQQBYsSPcsT4=s64",
      "userId": "06600501239941405182"
     },
     "user_tz": 180
    },
    "id": "_Fdk2oqfCb9H",
    "outputId": "8192bf6e-eed9-4d48-c447-35d270f72fa7"
   },
   "outputs": [
    {
     "data": {
      "text/html": [
       "<style  type=\"text/css\" >\n",
       "</style><table id=\"T_e7983d40_0d7a_11ec_a476_cdde47fcaeb4\" ><thead>    <tr>        <th class=\"blank level0\" ></th>        <th class=\"col_heading level0 col0\" >age</th>        <th class=\"col_heading level0 col1\" >height_cm</th>        <th class=\"col_heading level0 col2\" >weight_kg</th>        <th class=\"col_heading level0 col3\" >overall</th>        <th class=\"col_heading level0 col4\" >potential</th>        <th class=\"col_heading level0 col5\" >value_eur</th>        <th class=\"col_heading level0 col6\" >wage_eur</th>        <th class=\"col_heading level0 col7\" >international_reputation</th>        <th class=\"col_heading level0 col8\" >weak_foot</th>        <th class=\"col_heading level0 col9\" >skill_moves</th>        <th class=\"col_heading level0 col10\" >release_clause_eur</th>        <th class=\"col_heading level0 col11\" >team_jersey_number</th>        <th class=\"col_heading level0 col12\" >contract_valid_until</th>        <th class=\"col_heading level0 col13\" >nation_jersey_number</th>        <th class=\"col_heading level0 col14\" >pace</th>        <th class=\"col_heading level0 col15\" >shooting</th>        <th class=\"col_heading level0 col16\" >passing</th>        <th class=\"col_heading level0 col17\" >dribbling</th>        <th class=\"col_heading level0 col18\" >defending</th>        <th class=\"col_heading level0 col19\" >physic</th>        <th class=\"col_heading level0 col20\" >gk_diving</th>        <th class=\"col_heading level0 col21\" >gk_handling</th>        <th class=\"col_heading level0 col22\" >gk_kicking</th>        <th class=\"col_heading level0 col23\" >gk_reflexes</th>        <th class=\"col_heading level0 col24\" >gk_speed</th>        <th class=\"col_heading level0 col25\" >gk_positioning</th>        <th class=\"col_heading level0 col26\" >attacking_crossing</th>        <th class=\"col_heading level0 col27\" >attacking_finishing</th>        <th class=\"col_heading level0 col28\" >attacking_heading_accuracy</th>        <th class=\"col_heading level0 col29\" >attacking_short_passing</th>        <th class=\"col_heading level0 col30\" >attacking_volleys</th>        <th class=\"col_heading level0 col31\" >skill_dribbling</th>        <th class=\"col_heading level0 col32\" >skill_curve</th>        <th class=\"col_heading level0 col33\" >skill_fk_accuracy</th>        <th class=\"col_heading level0 col34\" >skill_long_passing</th>        <th class=\"col_heading level0 col35\" >skill_ball_control</th>        <th class=\"col_heading level0 col36\" >movement_acceleration</th>        <th class=\"col_heading level0 col37\" >movement_sprint_speed</th>        <th class=\"col_heading level0 col38\" >movement_agility</th>        <th class=\"col_heading level0 col39\" >movement_reactions</th>        <th class=\"col_heading level0 col40\" >movement_balance</th>        <th class=\"col_heading level0 col41\" >power_shot_power</th>        <th class=\"col_heading level0 col42\" >power_jumping</th>        <th class=\"col_heading level0 col43\" >power_stamina</th>        <th class=\"col_heading level0 col44\" >power_strength</th>        <th class=\"col_heading level0 col45\" >power_long_shots</th>        <th class=\"col_heading level0 col46\" >mentality_aggression</th>        <th class=\"col_heading level0 col47\" >mentality_interceptions</th>        <th class=\"col_heading level0 col48\" >mentality_positioning</th>        <th class=\"col_heading level0 col49\" >mentality_vision</th>        <th class=\"col_heading level0 col50\" >mentality_penalties</th>        <th class=\"col_heading level0 col51\" >mentality_composure</th>        <th class=\"col_heading level0 col52\" >defending_marking</th>        <th class=\"col_heading level0 col53\" >defending_standing_tackle</th>        <th class=\"col_heading level0 col54\" >defending_sliding_tackle</th>        <th class=\"col_heading level0 col55\" >goalkeeping_diving</th>        <th class=\"col_heading level0 col56\" >goalkeeping_handling</th>        <th class=\"col_heading level0 col57\" >goalkeeping_kicking</th>        <th class=\"col_heading level0 col58\" >goalkeeping_positioning</th>        <th class=\"col_heading level0 col59\" >goalkeeping_reflexes</th>    </tr></thead><tbody>\n",
       "                <tr>\n",
       "                        <th id=\"T_e7983d40_0d7a_11ec_a476_cdde47fcaeb4level0_row0\" class=\"row_heading level0 row0\" >count</th>\n",
       "                        <td id=\"T_e7983d40_0d7a_11ec_a476_cdde47fcaeb4row0_col0\" class=\"data row0 col0\" >18278.0</td>\n",
       "                        <td id=\"T_e7983d40_0d7a_11ec_a476_cdde47fcaeb4row0_col1\" class=\"data row0 col1\" >18278.0</td>\n",
       "                        <td id=\"T_e7983d40_0d7a_11ec_a476_cdde47fcaeb4row0_col2\" class=\"data row0 col2\" >18278.0</td>\n",
       "                        <td id=\"T_e7983d40_0d7a_11ec_a476_cdde47fcaeb4row0_col3\" class=\"data row0 col3\" >18278.0</td>\n",
       "                        <td id=\"T_e7983d40_0d7a_11ec_a476_cdde47fcaeb4row0_col4\" class=\"data row0 col4\" >18278.0</td>\n",
       "                        <td id=\"T_e7983d40_0d7a_11ec_a476_cdde47fcaeb4row0_col5\" class=\"data row0 col5\" >18278.0</td>\n",
       "                        <td id=\"T_e7983d40_0d7a_11ec_a476_cdde47fcaeb4row0_col6\" class=\"data row0 col6\" >18278.0</td>\n",
       "                        <td id=\"T_e7983d40_0d7a_11ec_a476_cdde47fcaeb4row0_col7\" class=\"data row0 col7\" >18278.0</td>\n",
       "                        <td id=\"T_e7983d40_0d7a_11ec_a476_cdde47fcaeb4row0_col8\" class=\"data row0 col8\" >18278.0</td>\n",
       "                        <td id=\"T_e7983d40_0d7a_11ec_a476_cdde47fcaeb4row0_col9\" class=\"data row0 col9\" >18278.0</td>\n",
       "                        <td id=\"T_e7983d40_0d7a_11ec_a476_cdde47fcaeb4row0_col10\" class=\"data row0 col10\" >16980.0</td>\n",
       "                        <td id=\"T_e7983d40_0d7a_11ec_a476_cdde47fcaeb4row0_col11\" class=\"data row0 col11\" >18038.0</td>\n",
       "                        <td id=\"T_e7983d40_0d7a_11ec_a476_cdde47fcaeb4row0_col12\" class=\"data row0 col12\" >18038.0</td>\n",
       "                        <td id=\"T_e7983d40_0d7a_11ec_a476_cdde47fcaeb4row0_col13\" class=\"data row0 col13\" >1126.0</td>\n",
       "                        <td id=\"T_e7983d40_0d7a_11ec_a476_cdde47fcaeb4row0_col14\" class=\"data row0 col14\" >16242.0</td>\n",
       "                        <td id=\"T_e7983d40_0d7a_11ec_a476_cdde47fcaeb4row0_col15\" class=\"data row0 col15\" >16242.0</td>\n",
       "                        <td id=\"T_e7983d40_0d7a_11ec_a476_cdde47fcaeb4row0_col16\" class=\"data row0 col16\" >16242.0</td>\n",
       "                        <td id=\"T_e7983d40_0d7a_11ec_a476_cdde47fcaeb4row0_col17\" class=\"data row0 col17\" >16242.0</td>\n",
       "                        <td id=\"T_e7983d40_0d7a_11ec_a476_cdde47fcaeb4row0_col18\" class=\"data row0 col18\" >16242.0</td>\n",
       "                        <td id=\"T_e7983d40_0d7a_11ec_a476_cdde47fcaeb4row0_col19\" class=\"data row0 col19\" >16242.0</td>\n",
       "                        <td id=\"T_e7983d40_0d7a_11ec_a476_cdde47fcaeb4row0_col20\" class=\"data row0 col20\" >2036.0</td>\n",
       "                        <td id=\"T_e7983d40_0d7a_11ec_a476_cdde47fcaeb4row0_col21\" class=\"data row0 col21\" >2036.0</td>\n",
       "                        <td id=\"T_e7983d40_0d7a_11ec_a476_cdde47fcaeb4row0_col22\" class=\"data row0 col22\" >2036.0</td>\n",
       "                        <td id=\"T_e7983d40_0d7a_11ec_a476_cdde47fcaeb4row0_col23\" class=\"data row0 col23\" >2036.0</td>\n",
       "                        <td id=\"T_e7983d40_0d7a_11ec_a476_cdde47fcaeb4row0_col24\" class=\"data row0 col24\" >2036.0</td>\n",
       "                        <td id=\"T_e7983d40_0d7a_11ec_a476_cdde47fcaeb4row0_col25\" class=\"data row0 col25\" >2036.0</td>\n",
       "                        <td id=\"T_e7983d40_0d7a_11ec_a476_cdde47fcaeb4row0_col26\" class=\"data row0 col26\" >18278.0</td>\n",
       "                        <td id=\"T_e7983d40_0d7a_11ec_a476_cdde47fcaeb4row0_col27\" class=\"data row0 col27\" >18278.0</td>\n",
       "                        <td id=\"T_e7983d40_0d7a_11ec_a476_cdde47fcaeb4row0_col28\" class=\"data row0 col28\" >18278.0</td>\n",
       "                        <td id=\"T_e7983d40_0d7a_11ec_a476_cdde47fcaeb4row0_col29\" class=\"data row0 col29\" >18278.0</td>\n",
       "                        <td id=\"T_e7983d40_0d7a_11ec_a476_cdde47fcaeb4row0_col30\" class=\"data row0 col30\" >18278.0</td>\n",
       "                        <td id=\"T_e7983d40_0d7a_11ec_a476_cdde47fcaeb4row0_col31\" class=\"data row0 col31\" >18278.0</td>\n",
       "                        <td id=\"T_e7983d40_0d7a_11ec_a476_cdde47fcaeb4row0_col32\" class=\"data row0 col32\" >18278.0</td>\n",
       "                        <td id=\"T_e7983d40_0d7a_11ec_a476_cdde47fcaeb4row0_col33\" class=\"data row0 col33\" >18278.0</td>\n",
       "                        <td id=\"T_e7983d40_0d7a_11ec_a476_cdde47fcaeb4row0_col34\" class=\"data row0 col34\" >18278.0</td>\n",
       "                        <td id=\"T_e7983d40_0d7a_11ec_a476_cdde47fcaeb4row0_col35\" class=\"data row0 col35\" >18278.0</td>\n",
       "                        <td id=\"T_e7983d40_0d7a_11ec_a476_cdde47fcaeb4row0_col36\" class=\"data row0 col36\" >18278.0</td>\n",
       "                        <td id=\"T_e7983d40_0d7a_11ec_a476_cdde47fcaeb4row0_col37\" class=\"data row0 col37\" >18278.0</td>\n",
       "                        <td id=\"T_e7983d40_0d7a_11ec_a476_cdde47fcaeb4row0_col38\" class=\"data row0 col38\" >18278.0</td>\n",
       "                        <td id=\"T_e7983d40_0d7a_11ec_a476_cdde47fcaeb4row0_col39\" class=\"data row0 col39\" >18278.0</td>\n",
       "                        <td id=\"T_e7983d40_0d7a_11ec_a476_cdde47fcaeb4row0_col40\" class=\"data row0 col40\" >18278.0</td>\n",
       "                        <td id=\"T_e7983d40_0d7a_11ec_a476_cdde47fcaeb4row0_col41\" class=\"data row0 col41\" >18278.0</td>\n",
       "                        <td id=\"T_e7983d40_0d7a_11ec_a476_cdde47fcaeb4row0_col42\" class=\"data row0 col42\" >18278.0</td>\n",
       "                        <td id=\"T_e7983d40_0d7a_11ec_a476_cdde47fcaeb4row0_col43\" class=\"data row0 col43\" >18278.0</td>\n",
       "                        <td id=\"T_e7983d40_0d7a_11ec_a476_cdde47fcaeb4row0_col44\" class=\"data row0 col44\" >18278.0</td>\n",
       "                        <td id=\"T_e7983d40_0d7a_11ec_a476_cdde47fcaeb4row0_col45\" class=\"data row0 col45\" >18278.0</td>\n",
       "                        <td id=\"T_e7983d40_0d7a_11ec_a476_cdde47fcaeb4row0_col46\" class=\"data row0 col46\" >18278.0</td>\n",
       "                        <td id=\"T_e7983d40_0d7a_11ec_a476_cdde47fcaeb4row0_col47\" class=\"data row0 col47\" >18278.0</td>\n",
       "                        <td id=\"T_e7983d40_0d7a_11ec_a476_cdde47fcaeb4row0_col48\" class=\"data row0 col48\" >18278.0</td>\n",
       "                        <td id=\"T_e7983d40_0d7a_11ec_a476_cdde47fcaeb4row0_col49\" class=\"data row0 col49\" >18278.0</td>\n",
       "                        <td id=\"T_e7983d40_0d7a_11ec_a476_cdde47fcaeb4row0_col50\" class=\"data row0 col50\" >18278.0</td>\n",
       "                        <td id=\"T_e7983d40_0d7a_11ec_a476_cdde47fcaeb4row0_col51\" class=\"data row0 col51\" >18278.0</td>\n",
       "                        <td id=\"T_e7983d40_0d7a_11ec_a476_cdde47fcaeb4row0_col52\" class=\"data row0 col52\" >18278.0</td>\n",
       "                        <td id=\"T_e7983d40_0d7a_11ec_a476_cdde47fcaeb4row0_col53\" class=\"data row0 col53\" >18278.0</td>\n",
       "                        <td id=\"T_e7983d40_0d7a_11ec_a476_cdde47fcaeb4row0_col54\" class=\"data row0 col54\" >18278.0</td>\n",
       "                        <td id=\"T_e7983d40_0d7a_11ec_a476_cdde47fcaeb4row0_col55\" class=\"data row0 col55\" >18278.0</td>\n",
       "                        <td id=\"T_e7983d40_0d7a_11ec_a476_cdde47fcaeb4row0_col56\" class=\"data row0 col56\" >18278.0</td>\n",
       "                        <td id=\"T_e7983d40_0d7a_11ec_a476_cdde47fcaeb4row0_col57\" class=\"data row0 col57\" >18278.0</td>\n",
       "                        <td id=\"T_e7983d40_0d7a_11ec_a476_cdde47fcaeb4row0_col58\" class=\"data row0 col58\" >18278.0</td>\n",
       "                        <td id=\"T_e7983d40_0d7a_11ec_a476_cdde47fcaeb4row0_col59\" class=\"data row0 col59\" >18278.0</td>\n",
       "            </tr>\n",
       "            <tr>\n",
       "                        <th id=\"T_e7983d40_0d7a_11ec_a476_cdde47fcaeb4level0_row1\" class=\"row_heading level0 row1\" >mean</th>\n",
       "                        <td id=\"T_e7983d40_0d7a_11ec_a476_cdde47fcaeb4row1_col0\" class=\"data row1 col0\" >25.3</td>\n",
       "                        <td id=\"T_e7983d40_0d7a_11ec_a476_cdde47fcaeb4row1_col1\" class=\"data row1 col1\" >181.4</td>\n",
       "                        <td id=\"T_e7983d40_0d7a_11ec_a476_cdde47fcaeb4row1_col2\" class=\"data row1 col2\" >75.3</td>\n",
       "                        <td id=\"T_e7983d40_0d7a_11ec_a476_cdde47fcaeb4row1_col3\" class=\"data row1 col3\" >66.2</td>\n",
       "                        <td id=\"T_e7983d40_0d7a_11ec_a476_cdde47fcaeb4row1_col4\" class=\"data row1 col4\" >71.5</td>\n",
       "                        <td id=\"T_e7983d40_0d7a_11ec_a476_cdde47fcaeb4row1_col5\" class=\"data row1 col5\" >2484037.6</td>\n",
       "                        <td id=\"T_e7983d40_0d7a_11ec_a476_cdde47fcaeb4row1_col6\" class=\"data row1 col6\" >9456.9</td>\n",
       "                        <td id=\"T_e7983d40_0d7a_11ec_a476_cdde47fcaeb4row1_col7\" class=\"data row1 col7\" >1.1</td>\n",
       "                        <td id=\"T_e7983d40_0d7a_11ec_a476_cdde47fcaeb4row1_col8\" class=\"data row1 col8\" >2.9</td>\n",
       "                        <td id=\"T_e7983d40_0d7a_11ec_a476_cdde47fcaeb4row1_col9\" class=\"data row1 col9\" >2.4</td>\n",
       "                        <td id=\"T_e7983d40_0d7a_11ec_a476_cdde47fcaeb4row1_col10\" class=\"data row1 col10\" >4740717.4</td>\n",
       "                        <td id=\"T_e7983d40_0d7a_11ec_a476_cdde47fcaeb4row1_col11\" class=\"data row1 col11\" >20.1</td>\n",
       "                        <td id=\"T_e7983d40_0d7a_11ec_a476_cdde47fcaeb4row1_col12\" class=\"data row1 col12\" >2021.1</td>\n",
       "                        <td id=\"T_e7983d40_0d7a_11ec_a476_cdde47fcaeb4row1_col13\" class=\"data row1 col13\" >12.1</td>\n",
       "                        <td id=\"T_e7983d40_0d7a_11ec_a476_cdde47fcaeb4row1_col14\" class=\"data row1 col14\" >67.7</td>\n",
       "                        <td id=\"T_e7983d40_0d7a_11ec_a476_cdde47fcaeb4row1_col15\" class=\"data row1 col15\" >52.3</td>\n",
       "                        <td id=\"T_e7983d40_0d7a_11ec_a476_cdde47fcaeb4row1_col16\" class=\"data row1 col16\" >57.2</td>\n",
       "                        <td id=\"T_e7983d40_0d7a_11ec_a476_cdde47fcaeb4row1_col17\" class=\"data row1 col17\" >62.5</td>\n",
       "                        <td id=\"T_e7983d40_0d7a_11ec_a476_cdde47fcaeb4row1_col18\" class=\"data row1 col18\" >51.6</td>\n",
       "                        <td id=\"T_e7983d40_0d7a_11ec_a476_cdde47fcaeb4row1_col19\" class=\"data row1 col19\" >64.9</td>\n",
       "                        <td id=\"T_e7983d40_0d7a_11ec_a476_cdde47fcaeb4row1_col20\" class=\"data row1 col20\" >65.4</td>\n",
       "                        <td id=\"T_e7983d40_0d7a_11ec_a476_cdde47fcaeb4row1_col21\" class=\"data row1 col21\" >63.1</td>\n",
       "                        <td id=\"T_e7983d40_0d7a_11ec_a476_cdde47fcaeb4row1_col22\" class=\"data row1 col22\" >61.8</td>\n",
       "                        <td id=\"T_e7983d40_0d7a_11ec_a476_cdde47fcaeb4row1_col23\" class=\"data row1 col23\" >66.4</td>\n",
       "                        <td id=\"T_e7983d40_0d7a_11ec_a476_cdde47fcaeb4row1_col24\" class=\"data row1 col24\" >37.8</td>\n",
       "                        <td id=\"T_e7983d40_0d7a_11ec_a476_cdde47fcaeb4row1_col25\" class=\"data row1 col25\" >63.4</td>\n",
       "                        <td id=\"T_e7983d40_0d7a_11ec_a476_cdde47fcaeb4row1_col26\" class=\"data row1 col26\" >49.7</td>\n",
       "                        <td id=\"T_e7983d40_0d7a_11ec_a476_cdde47fcaeb4row1_col27\" class=\"data row1 col27\" >45.6</td>\n",
       "                        <td id=\"T_e7983d40_0d7a_11ec_a476_cdde47fcaeb4row1_col28\" class=\"data row1 col28\" >52.2</td>\n",
       "                        <td id=\"T_e7983d40_0d7a_11ec_a476_cdde47fcaeb4row1_col29\" class=\"data row1 col29\" >58.7</td>\n",
       "                        <td id=\"T_e7983d40_0d7a_11ec_a476_cdde47fcaeb4row1_col30\" class=\"data row1 col30\" >42.8</td>\n",
       "                        <td id=\"T_e7983d40_0d7a_11ec_a476_cdde47fcaeb4row1_col31\" class=\"data row1 col31\" >55.6</td>\n",
       "                        <td id=\"T_e7983d40_0d7a_11ec_a476_cdde47fcaeb4row1_col32\" class=\"data row1 col32\" >47.3</td>\n",
       "                        <td id=\"T_e7983d40_0d7a_11ec_a476_cdde47fcaeb4row1_col33\" class=\"data row1 col33\" >42.7</td>\n",
       "                        <td id=\"T_e7983d40_0d7a_11ec_a476_cdde47fcaeb4row1_col34\" class=\"data row1 col34\" >52.8</td>\n",
       "                        <td id=\"T_e7983d40_0d7a_11ec_a476_cdde47fcaeb4row1_col35\" class=\"data row1 col35\" >58.5</td>\n",
       "                        <td id=\"T_e7983d40_0d7a_11ec_a476_cdde47fcaeb4row1_col36\" class=\"data row1 col36\" >64.3</td>\n",
       "                        <td id=\"T_e7983d40_0d7a_11ec_a476_cdde47fcaeb4row1_col37\" class=\"data row1 col37\" >64.4</td>\n",
       "                        <td id=\"T_e7983d40_0d7a_11ec_a476_cdde47fcaeb4row1_col38\" class=\"data row1 col38\" >63.5</td>\n",
       "                        <td id=\"T_e7983d40_0d7a_11ec_a476_cdde47fcaeb4row1_col39\" class=\"data row1 col39\" >61.8</td>\n",
       "                        <td id=\"T_e7983d40_0d7a_11ec_a476_cdde47fcaeb4row1_col40\" class=\"data row1 col40\" >63.9</td>\n",
       "                        <td id=\"T_e7983d40_0d7a_11ec_a476_cdde47fcaeb4row1_col41\" class=\"data row1 col41\" >58.2</td>\n",
       "                        <td id=\"T_e7983d40_0d7a_11ec_a476_cdde47fcaeb4row1_col42\" class=\"data row1 col42\" >64.9</td>\n",
       "                        <td id=\"T_e7983d40_0d7a_11ec_a476_cdde47fcaeb4row1_col43\" class=\"data row1 col43\" >62.9</td>\n",
       "                        <td id=\"T_e7983d40_0d7a_11ec_a476_cdde47fcaeb4row1_col44\" class=\"data row1 col44\" >65.2</td>\n",
       "                        <td id=\"T_e7983d40_0d7a_11ec_a476_cdde47fcaeb4row1_col45\" class=\"data row1 col45\" >46.8</td>\n",
       "                        <td id=\"T_e7983d40_0d7a_11ec_a476_cdde47fcaeb4row1_col46\" class=\"data row1 col46\" >55.7</td>\n",
       "                        <td id=\"T_e7983d40_0d7a_11ec_a476_cdde47fcaeb4row1_col47\" class=\"data row1 col47\" >46.4</td>\n",
       "                        <td id=\"T_e7983d40_0d7a_11ec_a476_cdde47fcaeb4row1_col48\" class=\"data row1 col48\" >50.1</td>\n",
       "                        <td id=\"T_e7983d40_0d7a_11ec_a476_cdde47fcaeb4row1_col49\" class=\"data row1 col49\" >53.6</td>\n",
       "                        <td id=\"T_e7983d40_0d7a_11ec_a476_cdde47fcaeb4row1_col50\" class=\"data row1 col50\" >48.4</td>\n",
       "                        <td id=\"T_e7983d40_0d7a_11ec_a476_cdde47fcaeb4row1_col51\" class=\"data row1 col51\" >58.5</td>\n",
       "                        <td id=\"T_e7983d40_0d7a_11ec_a476_cdde47fcaeb4row1_col52\" class=\"data row1 col52\" >46.8</td>\n",
       "                        <td id=\"T_e7983d40_0d7a_11ec_a476_cdde47fcaeb4row1_col53\" class=\"data row1 col53\" >47.6</td>\n",
       "                        <td id=\"T_e7983d40_0d7a_11ec_a476_cdde47fcaeb4row1_col54\" class=\"data row1 col54\" >45.6</td>\n",
       "                        <td id=\"T_e7983d40_0d7a_11ec_a476_cdde47fcaeb4row1_col55\" class=\"data row1 col55\" >16.6</td>\n",
       "                        <td id=\"T_e7983d40_0d7a_11ec_a476_cdde47fcaeb4row1_col56\" class=\"data row1 col56\" >16.4</td>\n",
       "                        <td id=\"T_e7983d40_0d7a_11ec_a476_cdde47fcaeb4row1_col57\" class=\"data row1 col57\" >16.2</td>\n",
       "                        <td id=\"T_e7983d40_0d7a_11ec_a476_cdde47fcaeb4row1_col58\" class=\"data row1 col58\" >16.4</td>\n",
       "                        <td id=\"T_e7983d40_0d7a_11ec_a476_cdde47fcaeb4row1_col59\" class=\"data row1 col59\" >16.7</td>\n",
       "            </tr>\n",
       "            <tr>\n",
       "                        <th id=\"T_e7983d40_0d7a_11ec_a476_cdde47fcaeb4level0_row2\" class=\"row_heading level0 row2\" >std</th>\n",
       "                        <td id=\"T_e7983d40_0d7a_11ec_a476_cdde47fcaeb4row2_col0\" class=\"data row2 col0\" >4.7</td>\n",
       "                        <td id=\"T_e7983d40_0d7a_11ec_a476_cdde47fcaeb4row2_col1\" class=\"data row2 col1\" >6.8</td>\n",
       "                        <td id=\"T_e7983d40_0d7a_11ec_a476_cdde47fcaeb4row2_col2\" class=\"data row2 col2\" >7.0</td>\n",
       "                        <td id=\"T_e7983d40_0d7a_11ec_a476_cdde47fcaeb4row2_col3\" class=\"data row2 col3\" >6.9</td>\n",
       "                        <td id=\"T_e7983d40_0d7a_11ec_a476_cdde47fcaeb4row2_col4\" class=\"data row2 col4\" >6.1</td>\n",
       "                        <td id=\"T_e7983d40_0d7a_11ec_a476_cdde47fcaeb4row2_col5\" class=\"data row2 col5\" >5585481.1</td>\n",
       "                        <td id=\"T_e7983d40_0d7a_11ec_a476_cdde47fcaeb4row2_col6\" class=\"data row2 col6\" >21351.7</td>\n",
       "                        <td id=\"T_e7983d40_0d7a_11ec_a476_cdde47fcaeb4row2_col7\" class=\"data row2 col7\" >0.4</td>\n",
       "                        <td id=\"T_e7983d40_0d7a_11ec_a476_cdde47fcaeb4row2_col8\" class=\"data row2 col8\" >0.7</td>\n",
       "                        <td id=\"T_e7983d40_0d7a_11ec_a476_cdde47fcaeb4row2_col9\" class=\"data row2 col9\" >0.8</td>\n",
       "                        <td id=\"T_e7983d40_0d7a_11ec_a476_cdde47fcaeb4row2_col10\" class=\"data row2 col10\" >11030016.3</td>\n",
       "                        <td id=\"T_e7983d40_0d7a_11ec_a476_cdde47fcaeb4row2_col11\" class=\"data row2 col11\" >16.6</td>\n",
       "                        <td id=\"T_e7983d40_0d7a_11ec_a476_cdde47fcaeb4row2_col12\" class=\"data row2 col12\" >1.3</td>\n",
       "                        <td id=\"T_e7983d40_0d7a_11ec_a476_cdde47fcaeb4row2_col13\" class=\"data row2 col13\" >6.7</td>\n",
       "                        <td id=\"T_e7983d40_0d7a_11ec_a476_cdde47fcaeb4row2_col14\" class=\"data row2 col14\" >11.3</td>\n",
       "                        <td id=\"T_e7983d40_0d7a_11ec_a476_cdde47fcaeb4row2_col15\" class=\"data row2 col15\" >14.0</td>\n",
       "                        <td id=\"T_e7983d40_0d7a_11ec_a476_cdde47fcaeb4row2_col16\" class=\"data row2 col16\" >10.4</td>\n",
       "                        <td id=\"T_e7983d40_0d7a_11ec_a476_cdde47fcaeb4row2_col17\" class=\"data row2 col17\" >10.3</td>\n",
       "                        <td id=\"T_e7983d40_0d7a_11ec_a476_cdde47fcaeb4row2_col18\" class=\"data row2 col18\" >16.4</td>\n",
       "                        <td id=\"T_e7983d40_0d7a_11ec_a476_cdde47fcaeb4row2_col19\" class=\"data row2 col19\" >9.8</td>\n",
       "                        <td id=\"T_e7983d40_0d7a_11ec_a476_cdde47fcaeb4row2_col20\" class=\"data row2 col20\" >7.7</td>\n",
       "                        <td id=\"T_e7983d40_0d7a_11ec_a476_cdde47fcaeb4row2_col21\" class=\"data row2 col21\" >7.2</td>\n",
       "                        <td id=\"T_e7983d40_0d7a_11ec_a476_cdde47fcaeb4row2_col22\" class=\"data row2 col22\" >7.5</td>\n",
       "                        <td id=\"T_e7983d40_0d7a_11ec_a476_cdde47fcaeb4row2_col23\" class=\"data row2 col23\" >8.2</td>\n",
       "                        <td id=\"T_e7983d40_0d7a_11ec_a476_cdde47fcaeb4row2_col24\" class=\"data row2 col24\" >10.6</td>\n",
       "                        <td id=\"T_e7983d40_0d7a_11ec_a476_cdde47fcaeb4row2_col25\" class=\"data row2 col25\" >8.4</td>\n",
       "                        <td id=\"T_e7983d40_0d7a_11ec_a476_cdde47fcaeb4row2_col26\" class=\"data row2 col26\" >18.3</td>\n",
       "                        <td id=\"T_e7983d40_0d7a_11ec_a476_cdde47fcaeb4row2_col27\" class=\"data row2 col27\" >19.6</td>\n",
       "                        <td id=\"T_e7983d40_0d7a_11ec_a476_cdde47fcaeb4row2_col28\" class=\"data row2 col28\" >17.4</td>\n",
       "                        <td id=\"T_e7983d40_0d7a_11ec_a476_cdde47fcaeb4row2_col29\" class=\"data row2 col29\" >14.7</td>\n",
       "                        <td id=\"T_e7983d40_0d7a_11ec_a476_cdde47fcaeb4row2_col30\" class=\"data row2 col30\" >17.7</td>\n",
       "                        <td id=\"T_e7983d40_0d7a_11ec_a476_cdde47fcaeb4row2_col31\" class=\"data row2 col31\" >18.9</td>\n",
       "                        <td id=\"T_e7983d40_0d7a_11ec_a476_cdde47fcaeb4row2_col32\" class=\"data row2 col32\" >18.4</td>\n",
       "                        <td id=\"T_e7983d40_0d7a_11ec_a476_cdde47fcaeb4row2_col33\" class=\"data row2 col33\" >17.4</td>\n",
       "                        <td id=\"T_e7983d40_0d7a_11ec_a476_cdde47fcaeb4row2_col34\" class=\"data row2 col34\" >15.2</td>\n",
       "                        <td id=\"T_e7983d40_0d7a_11ec_a476_cdde47fcaeb4row2_col35\" class=\"data row2 col35\" >16.7</td>\n",
       "                        <td id=\"T_e7983d40_0d7a_11ec_a476_cdde47fcaeb4row2_col36\" class=\"data row2 col36\" >15.0</td>\n",
       "                        <td id=\"T_e7983d40_0d7a_11ec_a476_cdde47fcaeb4row2_col37\" class=\"data row2 col37\" >14.8</td>\n",
       "                        <td id=\"T_e7983d40_0d7a_11ec_a476_cdde47fcaeb4row2_col38\" class=\"data row2 col38\" >14.8</td>\n",
       "                        <td id=\"T_e7983d40_0d7a_11ec_a476_cdde47fcaeb4row2_col39\" class=\"data row2 col39\" >9.1</td>\n",
       "                        <td id=\"T_e7983d40_0d7a_11ec_a476_cdde47fcaeb4row2_col40\" class=\"data row2 col40\" >14.2</td>\n",
       "                        <td id=\"T_e7983d40_0d7a_11ec_a476_cdde47fcaeb4row2_col41\" class=\"data row2 col41\" >13.3</td>\n",
       "                        <td id=\"T_e7983d40_0d7a_11ec_a476_cdde47fcaeb4row2_col42\" class=\"data row2 col42\" >11.9</td>\n",
       "                        <td id=\"T_e7983d40_0d7a_11ec_a476_cdde47fcaeb4row2_col43\" class=\"data row2 col43\" >16.0</td>\n",
       "                        <td id=\"T_e7983d40_0d7a_11ec_a476_cdde47fcaeb4row2_col44\" class=\"data row2 col44\" >12.5</td>\n",
       "                        <td id=\"T_e7983d40_0d7a_11ec_a476_cdde47fcaeb4row2_col45\" class=\"data row2 col45\" >19.3</td>\n",
       "                        <td id=\"T_e7983d40_0d7a_11ec_a476_cdde47fcaeb4row2_col46\" class=\"data row2 col46\" >17.3</td>\n",
       "                        <td id=\"T_e7983d40_0d7a_11ec_a476_cdde47fcaeb4row2_col47\" class=\"data row2 col47\" >20.8</td>\n",
       "                        <td id=\"T_e7983d40_0d7a_11ec_a476_cdde47fcaeb4row2_col48\" class=\"data row2 col48\" >19.6</td>\n",
       "                        <td id=\"T_e7983d40_0d7a_11ec_a476_cdde47fcaeb4row2_col49\" class=\"data row2 col49\" >14.0</td>\n",
       "                        <td id=\"T_e7983d40_0d7a_11ec_a476_cdde47fcaeb4row2_col50\" class=\"data row2 col50\" >15.7</td>\n",
       "                        <td id=\"T_e7983d40_0d7a_11ec_a476_cdde47fcaeb4row2_col51\" class=\"data row2 col51\" >11.9</td>\n",
       "                        <td id=\"T_e7983d40_0d7a_11ec_a476_cdde47fcaeb4row2_col52\" class=\"data row2 col52\" >20.1</td>\n",
       "                        <td id=\"T_e7983d40_0d7a_11ec_a476_cdde47fcaeb4row2_col53\" class=\"data row2 col53\" >21.6</td>\n",
       "                        <td id=\"T_e7983d40_0d7a_11ec_a476_cdde47fcaeb4row2_col54\" class=\"data row2 col54\" >21.2</td>\n",
       "                        <td id=\"T_e7983d40_0d7a_11ec_a476_cdde47fcaeb4row2_col55\" class=\"data row2 col55\" >17.7</td>\n",
       "                        <td id=\"T_e7983d40_0d7a_11ec_a476_cdde47fcaeb4row2_col56\" class=\"data row2 col56\" >17.0</td>\n",
       "                        <td id=\"T_e7983d40_0d7a_11ec_a476_cdde47fcaeb4row2_col57\" class=\"data row2 col57\" >16.6</td>\n",
       "                        <td id=\"T_e7983d40_0d7a_11ec_a476_cdde47fcaeb4row2_col58\" class=\"data row2 col58\" >17.1</td>\n",
       "                        <td id=\"T_e7983d40_0d7a_11ec_a476_cdde47fcaeb4row2_col59\" class=\"data row2 col59\" >18.0</td>\n",
       "            </tr>\n",
       "            <tr>\n",
       "                        <th id=\"T_e7983d40_0d7a_11ec_a476_cdde47fcaeb4level0_row3\" class=\"row_heading level0 row3\" >min</th>\n",
       "                        <td id=\"T_e7983d40_0d7a_11ec_a476_cdde47fcaeb4row3_col0\" class=\"data row3 col0\" >16.0</td>\n",
       "                        <td id=\"T_e7983d40_0d7a_11ec_a476_cdde47fcaeb4row3_col1\" class=\"data row3 col1\" >156.0</td>\n",
       "                        <td id=\"T_e7983d40_0d7a_11ec_a476_cdde47fcaeb4row3_col2\" class=\"data row3 col2\" >50.0</td>\n",
       "                        <td id=\"T_e7983d40_0d7a_11ec_a476_cdde47fcaeb4row3_col3\" class=\"data row3 col3\" >48.0</td>\n",
       "                        <td id=\"T_e7983d40_0d7a_11ec_a476_cdde47fcaeb4row3_col4\" class=\"data row3 col4\" >49.0</td>\n",
       "                        <td id=\"T_e7983d40_0d7a_11ec_a476_cdde47fcaeb4row3_col5\" class=\"data row3 col5\" >0.0</td>\n",
       "                        <td id=\"T_e7983d40_0d7a_11ec_a476_cdde47fcaeb4row3_col6\" class=\"data row3 col6\" >0.0</td>\n",
       "                        <td id=\"T_e7983d40_0d7a_11ec_a476_cdde47fcaeb4row3_col7\" class=\"data row3 col7\" >1.0</td>\n",
       "                        <td id=\"T_e7983d40_0d7a_11ec_a476_cdde47fcaeb4row3_col8\" class=\"data row3 col8\" >1.0</td>\n",
       "                        <td id=\"T_e7983d40_0d7a_11ec_a476_cdde47fcaeb4row3_col9\" class=\"data row3 col9\" >1.0</td>\n",
       "                        <td id=\"T_e7983d40_0d7a_11ec_a476_cdde47fcaeb4row3_col10\" class=\"data row3 col10\" >13000.0</td>\n",
       "                        <td id=\"T_e7983d40_0d7a_11ec_a476_cdde47fcaeb4row3_col11\" class=\"data row3 col11\" >1.0</td>\n",
       "                        <td id=\"T_e7983d40_0d7a_11ec_a476_cdde47fcaeb4row3_col12\" class=\"data row3 col12\" >2019.0</td>\n",
       "                        <td id=\"T_e7983d40_0d7a_11ec_a476_cdde47fcaeb4row3_col13\" class=\"data row3 col13\" >1.0</td>\n",
       "                        <td id=\"T_e7983d40_0d7a_11ec_a476_cdde47fcaeb4row3_col14\" class=\"data row3 col14\" >24.0</td>\n",
       "                        <td id=\"T_e7983d40_0d7a_11ec_a476_cdde47fcaeb4row3_col15\" class=\"data row3 col15\" >15.0</td>\n",
       "                        <td id=\"T_e7983d40_0d7a_11ec_a476_cdde47fcaeb4row3_col16\" class=\"data row3 col16\" >24.0</td>\n",
       "                        <td id=\"T_e7983d40_0d7a_11ec_a476_cdde47fcaeb4row3_col17\" class=\"data row3 col17\" >23.0</td>\n",
       "                        <td id=\"T_e7983d40_0d7a_11ec_a476_cdde47fcaeb4row3_col18\" class=\"data row3 col18\" >15.0</td>\n",
       "                        <td id=\"T_e7983d40_0d7a_11ec_a476_cdde47fcaeb4row3_col19\" class=\"data row3 col19\" >27.0</td>\n",
       "                        <td id=\"T_e7983d40_0d7a_11ec_a476_cdde47fcaeb4row3_col20\" class=\"data row3 col20\" >44.0</td>\n",
       "                        <td id=\"T_e7983d40_0d7a_11ec_a476_cdde47fcaeb4row3_col21\" class=\"data row3 col21\" >42.0</td>\n",
       "                        <td id=\"T_e7983d40_0d7a_11ec_a476_cdde47fcaeb4row3_col22\" class=\"data row3 col22\" >35.0</td>\n",
       "                        <td id=\"T_e7983d40_0d7a_11ec_a476_cdde47fcaeb4row3_col23\" class=\"data row3 col23\" >45.0</td>\n",
       "                        <td id=\"T_e7983d40_0d7a_11ec_a476_cdde47fcaeb4row3_col24\" class=\"data row3 col24\" >12.0</td>\n",
       "                        <td id=\"T_e7983d40_0d7a_11ec_a476_cdde47fcaeb4row3_col25\" class=\"data row3 col25\" >41.0</td>\n",
       "                        <td id=\"T_e7983d40_0d7a_11ec_a476_cdde47fcaeb4row3_col26\" class=\"data row3 col26\" >5.0</td>\n",
       "                        <td id=\"T_e7983d40_0d7a_11ec_a476_cdde47fcaeb4row3_col27\" class=\"data row3 col27\" >2.0</td>\n",
       "                        <td id=\"T_e7983d40_0d7a_11ec_a476_cdde47fcaeb4row3_col28\" class=\"data row3 col28\" >5.0</td>\n",
       "                        <td id=\"T_e7983d40_0d7a_11ec_a476_cdde47fcaeb4row3_col29\" class=\"data row3 col29\" >7.0</td>\n",
       "                        <td id=\"T_e7983d40_0d7a_11ec_a476_cdde47fcaeb4row3_col30\" class=\"data row3 col30\" >3.0</td>\n",
       "                        <td id=\"T_e7983d40_0d7a_11ec_a476_cdde47fcaeb4row3_col31\" class=\"data row3 col31\" >4.0</td>\n",
       "                        <td id=\"T_e7983d40_0d7a_11ec_a476_cdde47fcaeb4row3_col32\" class=\"data row3 col32\" >6.0</td>\n",
       "                        <td id=\"T_e7983d40_0d7a_11ec_a476_cdde47fcaeb4row3_col33\" class=\"data row3 col33\" >4.0</td>\n",
       "                        <td id=\"T_e7983d40_0d7a_11ec_a476_cdde47fcaeb4row3_col34\" class=\"data row3 col34\" >8.0</td>\n",
       "                        <td id=\"T_e7983d40_0d7a_11ec_a476_cdde47fcaeb4row3_col35\" class=\"data row3 col35\" >5.0</td>\n",
       "                        <td id=\"T_e7983d40_0d7a_11ec_a476_cdde47fcaeb4row3_col36\" class=\"data row3 col36\" >12.0</td>\n",
       "                        <td id=\"T_e7983d40_0d7a_11ec_a476_cdde47fcaeb4row3_col37\" class=\"data row3 col37\" >11.0</td>\n",
       "                        <td id=\"T_e7983d40_0d7a_11ec_a476_cdde47fcaeb4row3_col38\" class=\"data row3 col38\" >11.0</td>\n",
       "                        <td id=\"T_e7983d40_0d7a_11ec_a476_cdde47fcaeb4row3_col39\" class=\"data row3 col39\" >21.0</td>\n",
       "                        <td id=\"T_e7983d40_0d7a_11ec_a476_cdde47fcaeb4row3_col40\" class=\"data row3 col40\" >12.0</td>\n",
       "                        <td id=\"T_e7983d40_0d7a_11ec_a476_cdde47fcaeb4row3_col41\" class=\"data row3 col41\" >14.0</td>\n",
       "                        <td id=\"T_e7983d40_0d7a_11ec_a476_cdde47fcaeb4row3_col42\" class=\"data row3 col42\" >19.0</td>\n",
       "                        <td id=\"T_e7983d40_0d7a_11ec_a476_cdde47fcaeb4row3_col43\" class=\"data row3 col43\" >12.0</td>\n",
       "                        <td id=\"T_e7983d40_0d7a_11ec_a476_cdde47fcaeb4row3_col44\" class=\"data row3 col44\" >20.0</td>\n",
       "                        <td id=\"T_e7983d40_0d7a_11ec_a476_cdde47fcaeb4row3_col45\" class=\"data row3 col45\" >4.0</td>\n",
       "                        <td id=\"T_e7983d40_0d7a_11ec_a476_cdde47fcaeb4row3_col46\" class=\"data row3 col46\" >9.0</td>\n",
       "                        <td id=\"T_e7983d40_0d7a_11ec_a476_cdde47fcaeb4row3_col47\" class=\"data row3 col47\" >3.0</td>\n",
       "                        <td id=\"T_e7983d40_0d7a_11ec_a476_cdde47fcaeb4row3_col48\" class=\"data row3 col48\" >2.0</td>\n",
       "                        <td id=\"T_e7983d40_0d7a_11ec_a476_cdde47fcaeb4row3_col49\" class=\"data row3 col49\" >9.0</td>\n",
       "                        <td id=\"T_e7983d40_0d7a_11ec_a476_cdde47fcaeb4row3_col50\" class=\"data row3 col50\" >7.0</td>\n",
       "                        <td id=\"T_e7983d40_0d7a_11ec_a476_cdde47fcaeb4row3_col51\" class=\"data row3 col51\" >12.0</td>\n",
       "                        <td id=\"T_e7983d40_0d7a_11ec_a476_cdde47fcaeb4row3_col52\" class=\"data row3 col52\" >1.0</td>\n",
       "                        <td id=\"T_e7983d40_0d7a_11ec_a476_cdde47fcaeb4row3_col53\" class=\"data row3 col53\" >5.0</td>\n",
       "                        <td id=\"T_e7983d40_0d7a_11ec_a476_cdde47fcaeb4row3_col54\" class=\"data row3 col54\" >3.0</td>\n",
       "                        <td id=\"T_e7983d40_0d7a_11ec_a476_cdde47fcaeb4row3_col55\" class=\"data row3 col55\" >1.0</td>\n",
       "                        <td id=\"T_e7983d40_0d7a_11ec_a476_cdde47fcaeb4row3_col56\" class=\"data row3 col56\" >1.0</td>\n",
       "                        <td id=\"T_e7983d40_0d7a_11ec_a476_cdde47fcaeb4row3_col57\" class=\"data row3 col57\" >1.0</td>\n",
       "                        <td id=\"T_e7983d40_0d7a_11ec_a476_cdde47fcaeb4row3_col58\" class=\"data row3 col58\" >1.0</td>\n",
       "                        <td id=\"T_e7983d40_0d7a_11ec_a476_cdde47fcaeb4row3_col59\" class=\"data row3 col59\" >1.0</td>\n",
       "            </tr>\n",
       "            <tr>\n",
       "                        <th id=\"T_e7983d40_0d7a_11ec_a476_cdde47fcaeb4level0_row4\" class=\"row_heading level0 row4\" >25%</th>\n",
       "                        <td id=\"T_e7983d40_0d7a_11ec_a476_cdde47fcaeb4row4_col0\" class=\"data row4 col0\" >22.0</td>\n",
       "                        <td id=\"T_e7983d40_0d7a_11ec_a476_cdde47fcaeb4row4_col1\" class=\"data row4 col1\" >177.0</td>\n",
       "                        <td id=\"T_e7983d40_0d7a_11ec_a476_cdde47fcaeb4row4_col2\" class=\"data row4 col2\" >70.0</td>\n",
       "                        <td id=\"T_e7983d40_0d7a_11ec_a476_cdde47fcaeb4row4_col3\" class=\"data row4 col3\" >62.0</td>\n",
       "                        <td id=\"T_e7983d40_0d7a_11ec_a476_cdde47fcaeb4row4_col4\" class=\"data row4 col4\" >67.0</td>\n",
       "                        <td id=\"T_e7983d40_0d7a_11ec_a476_cdde47fcaeb4row4_col5\" class=\"data row4 col5\" >325000.0</td>\n",
       "                        <td id=\"T_e7983d40_0d7a_11ec_a476_cdde47fcaeb4row4_col6\" class=\"data row4 col6\" >1000.0</td>\n",
       "                        <td id=\"T_e7983d40_0d7a_11ec_a476_cdde47fcaeb4row4_col7\" class=\"data row4 col7\" >1.0</td>\n",
       "                        <td id=\"T_e7983d40_0d7a_11ec_a476_cdde47fcaeb4row4_col8\" class=\"data row4 col8\" >3.0</td>\n",
       "                        <td id=\"T_e7983d40_0d7a_11ec_a476_cdde47fcaeb4row4_col9\" class=\"data row4 col9\" >2.0</td>\n",
       "                        <td id=\"T_e7983d40_0d7a_11ec_a476_cdde47fcaeb4row4_col10\" class=\"data row4 col10\" >563000.0</td>\n",
       "                        <td id=\"T_e7983d40_0d7a_11ec_a476_cdde47fcaeb4row4_col11\" class=\"data row4 col11\" >9.0</td>\n",
       "                        <td id=\"T_e7983d40_0d7a_11ec_a476_cdde47fcaeb4row4_col12\" class=\"data row4 col12\" >2020.0</td>\n",
       "                        <td id=\"T_e7983d40_0d7a_11ec_a476_cdde47fcaeb4row4_col13\" class=\"data row4 col13\" >6.0</td>\n",
       "                        <td id=\"T_e7983d40_0d7a_11ec_a476_cdde47fcaeb4row4_col14\" class=\"data row4 col14\" >61.0</td>\n",
       "                        <td id=\"T_e7983d40_0d7a_11ec_a476_cdde47fcaeb4row4_col15\" class=\"data row4 col15\" >42.0</td>\n",
       "                        <td id=\"T_e7983d40_0d7a_11ec_a476_cdde47fcaeb4row4_col16\" class=\"data row4 col16\" >50.0</td>\n",
       "                        <td id=\"T_e7983d40_0d7a_11ec_a476_cdde47fcaeb4row4_col17\" class=\"data row4 col17\" >57.0</td>\n",
       "                        <td id=\"T_e7983d40_0d7a_11ec_a476_cdde47fcaeb4row4_col18\" class=\"data row4 col18\" >36.0</td>\n",
       "                        <td id=\"T_e7983d40_0d7a_11ec_a476_cdde47fcaeb4row4_col19\" class=\"data row4 col19\" >59.0</td>\n",
       "                        <td id=\"T_e7983d40_0d7a_11ec_a476_cdde47fcaeb4row4_col20\" class=\"data row4 col20\" >60.0</td>\n",
       "                        <td id=\"T_e7983d40_0d7a_11ec_a476_cdde47fcaeb4row4_col21\" class=\"data row4 col21\" >58.0</td>\n",
       "                        <td id=\"T_e7983d40_0d7a_11ec_a476_cdde47fcaeb4row4_col22\" class=\"data row4 col22\" >57.0</td>\n",
       "                        <td id=\"T_e7983d40_0d7a_11ec_a476_cdde47fcaeb4row4_col23\" class=\"data row4 col23\" >60.8</td>\n",
       "                        <td id=\"T_e7983d40_0d7a_11ec_a476_cdde47fcaeb4row4_col24\" class=\"data row4 col24\" >29.0</td>\n",
       "                        <td id=\"T_e7983d40_0d7a_11ec_a476_cdde47fcaeb4row4_col25\" class=\"data row4 col25\" >58.0</td>\n",
       "                        <td id=\"T_e7983d40_0d7a_11ec_a476_cdde47fcaeb4row4_col26\" class=\"data row4 col26\" >38.0</td>\n",
       "                        <td id=\"T_e7983d40_0d7a_11ec_a476_cdde47fcaeb4row4_col27\" class=\"data row4 col27\" >30.0</td>\n",
       "                        <td id=\"T_e7983d40_0d7a_11ec_a476_cdde47fcaeb4row4_col28\" class=\"data row4 col28\" >44.0</td>\n",
       "                        <td id=\"T_e7983d40_0d7a_11ec_a476_cdde47fcaeb4row4_col29\" class=\"data row4 col29\" >54.0</td>\n",
       "                        <td id=\"T_e7983d40_0d7a_11ec_a476_cdde47fcaeb4row4_col30\" class=\"data row4 col30\" >30.0</td>\n",
       "                        <td id=\"T_e7983d40_0d7a_11ec_a476_cdde47fcaeb4row4_col31\" class=\"data row4 col31\" >50.0</td>\n",
       "                        <td id=\"T_e7983d40_0d7a_11ec_a476_cdde47fcaeb4row4_col32\" class=\"data row4 col32\" >34.0</td>\n",
       "                        <td id=\"T_e7983d40_0d7a_11ec_a476_cdde47fcaeb4row4_col33\" class=\"data row4 col33\" >31.0</td>\n",
       "                        <td id=\"T_e7983d40_0d7a_11ec_a476_cdde47fcaeb4row4_col34\" class=\"data row4 col34\" >43.0</td>\n",
       "                        <td id=\"T_e7983d40_0d7a_11ec_a476_cdde47fcaeb4row4_col35\" class=\"data row4 col35\" >54.0</td>\n",
       "                        <td id=\"T_e7983d40_0d7a_11ec_a476_cdde47fcaeb4row4_col36\" class=\"data row4 col36\" >56.0</td>\n",
       "                        <td id=\"T_e7983d40_0d7a_11ec_a476_cdde47fcaeb4row4_col37\" class=\"data row4 col37\" >57.0</td>\n",
       "                        <td id=\"T_e7983d40_0d7a_11ec_a476_cdde47fcaeb4row4_col38\" class=\"data row4 col38\" >55.0</td>\n",
       "                        <td id=\"T_e7983d40_0d7a_11ec_a476_cdde47fcaeb4row4_col39\" class=\"data row4 col39\" >56.0</td>\n",
       "                        <td id=\"T_e7983d40_0d7a_11ec_a476_cdde47fcaeb4row4_col40\" class=\"data row4 col40\" >56.0</td>\n",
       "                        <td id=\"T_e7983d40_0d7a_11ec_a476_cdde47fcaeb4row4_col41\" class=\"data row4 col41\" >48.0</td>\n",
       "                        <td id=\"T_e7983d40_0d7a_11ec_a476_cdde47fcaeb4row4_col42\" class=\"data row4 col42\" >58.0</td>\n",
       "                        <td id=\"T_e7983d40_0d7a_11ec_a476_cdde47fcaeb4row4_col43\" class=\"data row4 col43\" >56.0</td>\n",
       "                        <td id=\"T_e7983d40_0d7a_11ec_a476_cdde47fcaeb4row4_col44\" class=\"data row4 col44\" >58.0</td>\n",
       "                        <td id=\"T_e7983d40_0d7a_11ec_a476_cdde47fcaeb4row4_col45\" class=\"data row4 col45\" >32.0</td>\n",
       "                        <td id=\"T_e7983d40_0d7a_11ec_a476_cdde47fcaeb4row4_col46\" class=\"data row4 col46\" >44.0</td>\n",
       "                        <td id=\"T_e7983d40_0d7a_11ec_a476_cdde47fcaeb4row4_col47\" class=\"data row4 col47\" >25.0</td>\n",
       "                        <td id=\"T_e7983d40_0d7a_11ec_a476_cdde47fcaeb4row4_col48\" class=\"data row4 col48\" >39.0</td>\n",
       "                        <td id=\"T_e7983d40_0d7a_11ec_a476_cdde47fcaeb4row4_col49\" class=\"data row4 col49\" >44.0</td>\n",
       "                        <td id=\"T_e7983d40_0d7a_11ec_a476_cdde47fcaeb4row4_col50\" class=\"data row4 col50\" >39.0</td>\n",
       "                        <td id=\"T_e7983d40_0d7a_11ec_a476_cdde47fcaeb4row4_col51\" class=\"data row4 col51\" >51.0</td>\n",
       "                        <td id=\"T_e7983d40_0d7a_11ec_a476_cdde47fcaeb4row4_col52\" class=\"data row4 col52\" >29.0</td>\n",
       "                        <td id=\"T_e7983d40_0d7a_11ec_a476_cdde47fcaeb4row4_col53\" class=\"data row4 col53\" >27.0</td>\n",
       "                        <td id=\"T_e7983d40_0d7a_11ec_a476_cdde47fcaeb4row4_col54\" class=\"data row4 col54\" >24.0</td>\n",
       "                        <td id=\"T_e7983d40_0d7a_11ec_a476_cdde47fcaeb4row4_col55\" class=\"data row4 col55\" >8.0</td>\n",
       "                        <td id=\"T_e7983d40_0d7a_11ec_a476_cdde47fcaeb4row4_col56\" class=\"data row4 col56\" >8.0</td>\n",
       "                        <td id=\"T_e7983d40_0d7a_11ec_a476_cdde47fcaeb4row4_col57\" class=\"data row4 col57\" >8.0</td>\n",
       "                        <td id=\"T_e7983d40_0d7a_11ec_a476_cdde47fcaeb4row4_col58\" class=\"data row4 col58\" >8.0</td>\n",
       "                        <td id=\"T_e7983d40_0d7a_11ec_a476_cdde47fcaeb4row4_col59\" class=\"data row4 col59\" >8.0</td>\n",
       "            </tr>\n",
       "            <tr>\n",
       "                        <th id=\"T_e7983d40_0d7a_11ec_a476_cdde47fcaeb4level0_row5\" class=\"row_heading level0 row5\" >50%</th>\n",
       "                        <td id=\"T_e7983d40_0d7a_11ec_a476_cdde47fcaeb4row5_col0\" class=\"data row5 col0\" >25.0</td>\n",
       "                        <td id=\"T_e7983d40_0d7a_11ec_a476_cdde47fcaeb4row5_col1\" class=\"data row5 col1\" >181.0</td>\n",
       "                        <td id=\"T_e7983d40_0d7a_11ec_a476_cdde47fcaeb4row5_col2\" class=\"data row5 col2\" >75.0</td>\n",
       "                        <td id=\"T_e7983d40_0d7a_11ec_a476_cdde47fcaeb4row5_col3\" class=\"data row5 col3\" >66.0</td>\n",
       "                        <td id=\"T_e7983d40_0d7a_11ec_a476_cdde47fcaeb4row5_col4\" class=\"data row5 col4\" >71.0</td>\n",
       "                        <td id=\"T_e7983d40_0d7a_11ec_a476_cdde47fcaeb4row5_col5\" class=\"data row5 col5\" >700000.0</td>\n",
       "                        <td id=\"T_e7983d40_0d7a_11ec_a476_cdde47fcaeb4row5_col6\" class=\"data row5 col6\" >3000.0</td>\n",
       "                        <td id=\"T_e7983d40_0d7a_11ec_a476_cdde47fcaeb4row5_col7\" class=\"data row5 col7\" >1.0</td>\n",
       "                        <td id=\"T_e7983d40_0d7a_11ec_a476_cdde47fcaeb4row5_col8\" class=\"data row5 col8\" >3.0</td>\n",
       "                        <td id=\"T_e7983d40_0d7a_11ec_a476_cdde47fcaeb4row5_col9\" class=\"data row5 col9\" >2.0</td>\n",
       "                        <td id=\"T_e7983d40_0d7a_11ec_a476_cdde47fcaeb4row5_col10\" class=\"data row5 col10\" >1200000.0</td>\n",
       "                        <td id=\"T_e7983d40_0d7a_11ec_a476_cdde47fcaeb4row5_col11\" class=\"data row5 col11\" >17.0</td>\n",
       "                        <td id=\"T_e7983d40_0d7a_11ec_a476_cdde47fcaeb4row5_col12\" class=\"data row5 col12\" >2021.0</td>\n",
       "                        <td id=\"T_e7983d40_0d7a_11ec_a476_cdde47fcaeb4row5_col13\" class=\"data row5 col13\" >12.0</td>\n",
       "                        <td id=\"T_e7983d40_0d7a_11ec_a476_cdde47fcaeb4row5_col14\" class=\"data row5 col14\" >69.0</td>\n",
       "                        <td id=\"T_e7983d40_0d7a_11ec_a476_cdde47fcaeb4row5_col15\" class=\"data row5 col15\" >54.0</td>\n",
       "                        <td id=\"T_e7983d40_0d7a_11ec_a476_cdde47fcaeb4row5_col16\" class=\"data row5 col16\" >58.0</td>\n",
       "                        <td id=\"T_e7983d40_0d7a_11ec_a476_cdde47fcaeb4row5_col17\" class=\"data row5 col17\" >64.0</td>\n",
       "                        <td id=\"T_e7983d40_0d7a_11ec_a476_cdde47fcaeb4row5_col18\" class=\"data row5 col18\" >56.0</td>\n",
       "                        <td id=\"T_e7983d40_0d7a_11ec_a476_cdde47fcaeb4row5_col19\" class=\"data row5 col19\" >66.0</td>\n",
       "                        <td id=\"T_e7983d40_0d7a_11ec_a476_cdde47fcaeb4row5_col20\" class=\"data row5 col20\" >65.0</td>\n",
       "                        <td id=\"T_e7983d40_0d7a_11ec_a476_cdde47fcaeb4row5_col21\" class=\"data row5 col21\" >63.0</td>\n",
       "                        <td id=\"T_e7983d40_0d7a_11ec_a476_cdde47fcaeb4row5_col22\" class=\"data row5 col22\" >61.0</td>\n",
       "                        <td id=\"T_e7983d40_0d7a_11ec_a476_cdde47fcaeb4row5_col23\" class=\"data row5 col23\" >66.0</td>\n",
       "                        <td id=\"T_e7983d40_0d7a_11ec_a476_cdde47fcaeb4row5_col24\" class=\"data row5 col24\" >39.0</td>\n",
       "                        <td id=\"T_e7983d40_0d7a_11ec_a476_cdde47fcaeb4row5_col25\" class=\"data row5 col25\" >64.0</td>\n",
       "                        <td id=\"T_e7983d40_0d7a_11ec_a476_cdde47fcaeb4row5_col26\" class=\"data row5 col26\" >54.0</td>\n",
       "                        <td id=\"T_e7983d40_0d7a_11ec_a476_cdde47fcaeb4row5_col27\" class=\"data row5 col27\" >49.0</td>\n",
       "                        <td id=\"T_e7983d40_0d7a_11ec_a476_cdde47fcaeb4row5_col28\" class=\"data row5 col28\" >56.0</td>\n",
       "                        <td id=\"T_e7983d40_0d7a_11ec_a476_cdde47fcaeb4row5_col29\" class=\"data row5 col29\" >62.0</td>\n",
       "                        <td id=\"T_e7983d40_0d7a_11ec_a476_cdde47fcaeb4row5_col30\" class=\"data row5 col30\" >44.0</td>\n",
       "                        <td id=\"T_e7983d40_0d7a_11ec_a476_cdde47fcaeb4row5_col31\" class=\"data row5 col31\" >61.0</td>\n",
       "                        <td id=\"T_e7983d40_0d7a_11ec_a476_cdde47fcaeb4row5_col32\" class=\"data row5 col32\" >49.0</td>\n",
       "                        <td id=\"T_e7983d40_0d7a_11ec_a476_cdde47fcaeb4row5_col33\" class=\"data row5 col33\" >41.0</td>\n",
       "                        <td id=\"T_e7983d40_0d7a_11ec_a476_cdde47fcaeb4row5_col34\" class=\"data row5 col34\" >56.0</td>\n",
       "                        <td id=\"T_e7983d40_0d7a_11ec_a476_cdde47fcaeb4row5_col35\" class=\"data row5 col35\" >63.0</td>\n",
       "                        <td id=\"T_e7983d40_0d7a_11ec_a476_cdde47fcaeb4row5_col36\" class=\"data row5 col36\" >67.0</td>\n",
       "                        <td id=\"T_e7983d40_0d7a_11ec_a476_cdde47fcaeb4row5_col37\" class=\"data row5 col37\" >67.0</td>\n",
       "                        <td id=\"T_e7983d40_0d7a_11ec_a476_cdde47fcaeb4row5_col38\" class=\"data row5 col38\" >66.0</td>\n",
       "                        <td id=\"T_e7983d40_0d7a_11ec_a476_cdde47fcaeb4row5_col39\" class=\"data row5 col39\" >62.0</td>\n",
       "                        <td id=\"T_e7983d40_0d7a_11ec_a476_cdde47fcaeb4row5_col40\" class=\"data row5 col40\" >66.0</td>\n",
       "                        <td id=\"T_e7983d40_0d7a_11ec_a476_cdde47fcaeb4row5_col41\" class=\"data row5 col41\" >59.0</td>\n",
       "                        <td id=\"T_e7983d40_0d7a_11ec_a476_cdde47fcaeb4row5_col42\" class=\"data row5 col42\" >66.0</td>\n",
       "                        <td id=\"T_e7983d40_0d7a_11ec_a476_cdde47fcaeb4row5_col43\" class=\"data row5 col43\" >66.0</td>\n",
       "                        <td id=\"T_e7983d40_0d7a_11ec_a476_cdde47fcaeb4row5_col44\" class=\"data row5 col44\" >66.0</td>\n",
       "                        <td id=\"T_e7983d40_0d7a_11ec_a476_cdde47fcaeb4row5_col45\" class=\"data row5 col45\" >51.0</td>\n",
       "                        <td id=\"T_e7983d40_0d7a_11ec_a476_cdde47fcaeb4row5_col46\" class=\"data row5 col46\" >58.0</td>\n",
       "                        <td id=\"T_e7983d40_0d7a_11ec_a476_cdde47fcaeb4row5_col47\" class=\"data row5 col47\" >52.0</td>\n",
       "                        <td id=\"T_e7983d40_0d7a_11ec_a476_cdde47fcaeb4row5_col48\" class=\"data row5 col48\" >55.0</td>\n",
       "                        <td id=\"T_e7983d40_0d7a_11ec_a476_cdde47fcaeb4row5_col49\" class=\"data row5 col49\" >55.0</td>\n",
       "                        <td id=\"T_e7983d40_0d7a_11ec_a476_cdde47fcaeb4row5_col50\" class=\"data row5 col50\" >49.0</td>\n",
       "                        <td id=\"T_e7983d40_0d7a_11ec_a476_cdde47fcaeb4row5_col51\" class=\"data row5 col51\" >60.0</td>\n",
       "                        <td id=\"T_e7983d40_0d7a_11ec_a476_cdde47fcaeb4row5_col52\" class=\"data row5 col52\" >52.0</td>\n",
       "                        <td id=\"T_e7983d40_0d7a_11ec_a476_cdde47fcaeb4row5_col53\" class=\"data row5 col53\" >55.0</td>\n",
       "                        <td id=\"T_e7983d40_0d7a_11ec_a476_cdde47fcaeb4row5_col54\" class=\"data row5 col54\" >52.0</td>\n",
       "                        <td id=\"T_e7983d40_0d7a_11ec_a476_cdde47fcaeb4row5_col55\" class=\"data row5 col55\" >11.0</td>\n",
       "                        <td id=\"T_e7983d40_0d7a_11ec_a476_cdde47fcaeb4row5_col56\" class=\"data row5 col56\" >11.0</td>\n",
       "                        <td id=\"T_e7983d40_0d7a_11ec_a476_cdde47fcaeb4row5_col57\" class=\"data row5 col57\" >11.0</td>\n",
       "                        <td id=\"T_e7983d40_0d7a_11ec_a476_cdde47fcaeb4row5_col58\" class=\"data row5 col58\" >11.0</td>\n",
       "                        <td id=\"T_e7983d40_0d7a_11ec_a476_cdde47fcaeb4row5_col59\" class=\"data row5 col59\" >11.0</td>\n",
       "            </tr>\n",
       "            <tr>\n",
       "                        <th id=\"T_e7983d40_0d7a_11ec_a476_cdde47fcaeb4level0_row6\" class=\"row_heading level0 row6\" >75%</th>\n",
       "                        <td id=\"T_e7983d40_0d7a_11ec_a476_cdde47fcaeb4row6_col0\" class=\"data row6 col0\" >29.0</td>\n",
       "                        <td id=\"T_e7983d40_0d7a_11ec_a476_cdde47fcaeb4row6_col1\" class=\"data row6 col1\" >186.0</td>\n",
       "                        <td id=\"T_e7983d40_0d7a_11ec_a476_cdde47fcaeb4row6_col2\" class=\"data row6 col2\" >80.0</td>\n",
       "                        <td id=\"T_e7983d40_0d7a_11ec_a476_cdde47fcaeb4row6_col3\" class=\"data row6 col3\" >71.0</td>\n",
       "                        <td id=\"T_e7983d40_0d7a_11ec_a476_cdde47fcaeb4row6_col4\" class=\"data row6 col4\" >75.0</td>\n",
       "                        <td id=\"T_e7983d40_0d7a_11ec_a476_cdde47fcaeb4row6_col5\" class=\"data row6 col5\" >2100000.0</td>\n",
       "                        <td id=\"T_e7983d40_0d7a_11ec_a476_cdde47fcaeb4row6_col6\" class=\"data row6 col6\" >8000.0</td>\n",
       "                        <td id=\"T_e7983d40_0d7a_11ec_a476_cdde47fcaeb4row6_col7\" class=\"data row6 col7\" >1.0</td>\n",
       "                        <td id=\"T_e7983d40_0d7a_11ec_a476_cdde47fcaeb4row6_col8\" class=\"data row6 col8\" >3.0</td>\n",
       "                        <td id=\"T_e7983d40_0d7a_11ec_a476_cdde47fcaeb4row6_col9\" class=\"data row6 col9\" >3.0</td>\n",
       "                        <td id=\"T_e7983d40_0d7a_11ec_a476_cdde47fcaeb4row6_col10\" class=\"data row6 col10\" >3700000.0</td>\n",
       "                        <td id=\"T_e7983d40_0d7a_11ec_a476_cdde47fcaeb4row6_col11\" class=\"data row6 col11\" >27.0</td>\n",
       "                        <td id=\"T_e7983d40_0d7a_11ec_a476_cdde47fcaeb4row6_col12\" class=\"data row6 col12\" >2022.0</td>\n",
       "                        <td id=\"T_e7983d40_0d7a_11ec_a476_cdde47fcaeb4row6_col13\" class=\"data row6 col13\" >18.0</td>\n",
       "                        <td id=\"T_e7983d40_0d7a_11ec_a476_cdde47fcaeb4row6_col14\" class=\"data row6 col14\" >75.0</td>\n",
       "                        <td id=\"T_e7983d40_0d7a_11ec_a476_cdde47fcaeb4row6_col15\" class=\"data row6 col15\" >63.0</td>\n",
       "                        <td id=\"T_e7983d40_0d7a_11ec_a476_cdde47fcaeb4row6_col16\" class=\"data row6 col16\" >64.0</td>\n",
       "                        <td id=\"T_e7983d40_0d7a_11ec_a476_cdde47fcaeb4row6_col17\" class=\"data row6 col17\" >69.0</td>\n",
       "                        <td id=\"T_e7983d40_0d7a_11ec_a476_cdde47fcaeb4row6_col18\" class=\"data row6 col18\" >65.0</td>\n",
       "                        <td id=\"T_e7983d40_0d7a_11ec_a476_cdde47fcaeb4row6_col19\" class=\"data row6 col19\" >72.0</td>\n",
       "                        <td id=\"T_e7983d40_0d7a_11ec_a476_cdde47fcaeb4row6_col20\" class=\"data row6 col20\" >70.0</td>\n",
       "                        <td id=\"T_e7983d40_0d7a_11ec_a476_cdde47fcaeb4row6_col21\" class=\"data row6 col21\" >68.0</td>\n",
       "                        <td id=\"T_e7983d40_0d7a_11ec_a476_cdde47fcaeb4row6_col22\" class=\"data row6 col22\" >66.0</td>\n",
       "                        <td id=\"T_e7983d40_0d7a_11ec_a476_cdde47fcaeb4row6_col23\" class=\"data row6 col23\" >72.0</td>\n",
       "                        <td id=\"T_e7983d40_0d7a_11ec_a476_cdde47fcaeb4row6_col24\" class=\"data row6 col24\" >46.0</td>\n",
       "                        <td id=\"T_e7983d40_0d7a_11ec_a476_cdde47fcaeb4row6_col25\" class=\"data row6 col25\" >69.0</td>\n",
       "                        <td id=\"T_e7983d40_0d7a_11ec_a476_cdde47fcaeb4row6_col26\" class=\"data row6 col26\" >64.0</td>\n",
       "                        <td id=\"T_e7983d40_0d7a_11ec_a476_cdde47fcaeb4row6_col27\" class=\"data row6 col27\" >62.0</td>\n",
       "                        <td id=\"T_e7983d40_0d7a_11ec_a476_cdde47fcaeb4row6_col28\" class=\"data row6 col28\" >64.0</td>\n",
       "                        <td id=\"T_e7983d40_0d7a_11ec_a476_cdde47fcaeb4row6_col29\" class=\"data row6 col29\" >68.0</td>\n",
       "                        <td id=\"T_e7983d40_0d7a_11ec_a476_cdde47fcaeb4row6_col30\" class=\"data row6 col30\" >56.0</td>\n",
       "                        <td id=\"T_e7983d40_0d7a_11ec_a476_cdde47fcaeb4row6_col31\" class=\"data row6 col31\" >68.0</td>\n",
       "                        <td id=\"T_e7983d40_0d7a_11ec_a476_cdde47fcaeb4row6_col32\" class=\"data row6 col32\" >62.0</td>\n",
       "                        <td id=\"T_e7983d40_0d7a_11ec_a476_cdde47fcaeb4row6_col33\" class=\"data row6 col33\" >56.0</td>\n",
       "                        <td id=\"T_e7983d40_0d7a_11ec_a476_cdde47fcaeb4row6_col34\" class=\"data row6 col34\" >64.0</td>\n",
       "                        <td id=\"T_e7983d40_0d7a_11ec_a476_cdde47fcaeb4row6_col35\" class=\"data row6 col35\" >69.0</td>\n",
       "                        <td id=\"T_e7983d40_0d7a_11ec_a476_cdde47fcaeb4row6_col36\" class=\"data row6 col36\" >75.0</td>\n",
       "                        <td id=\"T_e7983d40_0d7a_11ec_a476_cdde47fcaeb4row6_col37\" class=\"data row6 col37\" >75.0</td>\n",
       "                        <td id=\"T_e7983d40_0d7a_11ec_a476_cdde47fcaeb4row6_col38\" class=\"data row6 col38\" >74.0</td>\n",
       "                        <td id=\"T_e7983d40_0d7a_11ec_a476_cdde47fcaeb4row6_col39\" class=\"data row6 col39\" >68.0</td>\n",
       "                        <td id=\"T_e7983d40_0d7a_11ec_a476_cdde47fcaeb4row6_col40\" class=\"data row6 col40\" >74.0</td>\n",
       "                        <td id=\"T_e7983d40_0d7a_11ec_a476_cdde47fcaeb4row6_col41\" class=\"data row6 col41\" >68.0</td>\n",
       "                        <td id=\"T_e7983d40_0d7a_11ec_a476_cdde47fcaeb4row6_col42\" class=\"data row6 col42\" >73.0</td>\n",
       "                        <td id=\"T_e7983d40_0d7a_11ec_a476_cdde47fcaeb4row6_col43\" class=\"data row6 col43\" >74.0</td>\n",
       "                        <td id=\"T_e7983d40_0d7a_11ec_a476_cdde47fcaeb4row6_col44\" class=\"data row6 col44\" >74.0</td>\n",
       "                        <td id=\"T_e7983d40_0d7a_11ec_a476_cdde47fcaeb4row6_col45\" class=\"data row6 col45\" >62.0</td>\n",
       "                        <td id=\"T_e7983d40_0d7a_11ec_a476_cdde47fcaeb4row6_col46\" class=\"data row6 col46\" >69.0</td>\n",
       "                        <td id=\"T_e7983d40_0d7a_11ec_a476_cdde47fcaeb4row6_col47\" class=\"data row6 col47\" >64.0</td>\n",
       "                        <td id=\"T_e7983d40_0d7a_11ec_a476_cdde47fcaeb4row6_col48\" class=\"data row6 col48\" >64.0</td>\n",
       "                        <td id=\"T_e7983d40_0d7a_11ec_a476_cdde47fcaeb4row6_col49\" class=\"data row6 col49\" >64.0</td>\n",
       "                        <td id=\"T_e7983d40_0d7a_11ec_a476_cdde47fcaeb4row6_col50\" class=\"data row6 col50\" >60.0</td>\n",
       "                        <td id=\"T_e7983d40_0d7a_11ec_a476_cdde47fcaeb4row6_col51\" class=\"data row6 col51\" >67.0</td>\n",
       "                        <td id=\"T_e7983d40_0d7a_11ec_a476_cdde47fcaeb4row6_col52\" class=\"data row6 col52\" >64.0</td>\n",
       "                        <td id=\"T_e7983d40_0d7a_11ec_a476_cdde47fcaeb4row6_col53\" class=\"data row6 col53\" >66.0</td>\n",
       "                        <td id=\"T_e7983d40_0d7a_11ec_a476_cdde47fcaeb4row6_col54\" class=\"data row6 col54\" >64.0</td>\n",
       "                        <td id=\"T_e7983d40_0d7a_11ec_a476_cdde47fcaeb4row6_col55\" class=\"data row6 col55\" >14.0</td>\n",
       "                        <td id=\"T_e7983d40_0d7a_11ec_a476_cdde47fcaeb4row6_col56\" class=\"data row6 col56\" >14.0</td>\n",
       "                        <td id=\"T_e7983d40_0d7a_11ec_a476_cdde47fcaeb4row6_col57\" class=\"data row6 col57\" >14.0</td>\n",
       "                        <td id=\"T_e7983d40_0d7a_11ec_a476_cdde47fcaeb4row6_col58\" class=\"data row6 col58\" >14.0</td>\n",
       "                        <td id=\"T_e7983d40_0d7a_11ec_a476_cdde47fcaeb4row6_col59\" class=\"data row6 col59\" >14.0</td>\n",
       "            </tr>\n",
       "            <tr>\n",
       "                        <th id=\"T_e7983d40_0d7a_11ec_a476_cdde47fcaeb4level0_row7\" class=\"row_heading level0 row7\" >max</th>\n",
       "                        <td id=\"T_e7983d40_0d7a_11ec_a476_cdde47fcaeb4row7_col0\" class=\"data row7 col0\" >42.0</td>\n",
       "                        <td id=\"T_e7983d40_0d7a_11ec_a476_cdde47fcaeb4row7_col1\" class=\"data row7 col1\" >205.0</td>\n",
       "                        <td id=\"T_e7983d40_0d7a_11ec_a476_cdde47fcaeb4row7_col2\" class=\"data row7 col2\" >110.0</td>\n",
       "                        <td id=\"T_e7983d40_0d7a_11ec_a476_cdde47fcaeb4row7_col3\" class=\"data row7 col3\" >94.0</td>\n",
       "                        <td id=\"T_e7983d40_0d7a_11ec_a476_cdde47fcaeb4row7_col4\" class=\"data row7 col4\" >95.0</td>\n",
       "                        <td id=\"T_e7983d40_0d7a_11ec_a476_cdde47fcaeb4row7_col5\" class=\"data row7 col5\" >105500000.0</td>\n",
       "                        <td id=\"T_e7983d40_0d7a_11ec_a476_cdde47fcaeb4row7_col6\" class=\"data row7 col6\" >565000.0</td>\n",
       "                        <td id=\"T_e7983d40_0d7a_11ec_a476_cdde47fcaeb4row7_col7\" class=\"data row7 col7\" >5.0</td>\n",
       "                        <td id=\"T_e7983d40_0d7a_11ec_a476_cdde47fcaeb4row7_col8\" class=\"data row7 col8\" >5.0</td>\n",
       "                        <td id=\"T_e7983d40_0d7a_11ec_a476_cdde47fcaeb4row7_col9\" class=\"data row7 col9\" >5.0</td>\n",
       "                        <td id=\"T_e7983d40_0d7a_11ec_a476_cdde47fcaeb4row7_col10\" class=\"data row7 col10\" >195800000.0</td>\n",
       "                        <td id=\"T_e7983d40_0d7a_11ec_a476_cdde47fcaeb4row7_col11\" class=\"data row7 col11\" >99.0</td>\n",
       "                        <td id=\"T_e7983d40_0d7a_11ec_a476_cdde47fcaeb4row7_col12\" class=\"data row7 col12\" >2026.0</td>\n",
       "                        <td id=\"T_e7983d40_0d7a_11ec_a476_cdde47fcaeb4row7_col13\" class=\"data row7 col13\" >30.0</td>\n",
       "                        <td id=\"T_e7983d40_0d7a_11ec_a476_cdde47fcaeb4row7_col14\" class=\"data row7 col14\" >96.0</td>\n",
       "                        <td id=\"T_e7983d40_0d7a_11ec_a476_cdde47fcaeb4row7_col15\" class=\"data row7 col15\" >93.0</td>\n",
       "                        <td id=\"T_e7983d40_0d7a_11ec_a476_cdde47fcaeb4row7_col16\" class=\"data row7 col16\" >92.0</td>\n",
       "                        <td id=\"T_e7983d40_0d7a_11ec_a476_cdde47fcaeb4row7_col17\" class=\"data row7 col17\" >96.0</td>\n",
       "                        <td id=\"T_e7983d40_0d7a_11ec_a476_cdde47fcaeb4row7_col18\" class=\"data row7 col18\" >90.0</td>\n",
       "                        <td id=\"T_e7983d40_0d7a_11ec_a476_cdde47fcaeb4row7_col19\" class=\"data row7 col19\" >90.0</td>\n",
       "                        <td id=\"T_e7983d40_0d7a_11ec_a476_cdde47fcaeb4row7_col20\" class=\"data row7 col20\" >90.0</td>\n",
       "                        <td id=\"T_e7983d40_0d7a_11ec_a476_cdde47fcaeb4row7_col21\" class=\"data row7 col21\" >92.0</td>\n",
       "                        <td id=\"T_e7983d40_0d7a_11ec_a476_cdde47fcaeb4row7_col22\" class=\"data row7 col22\" >93.0</td>\n",
       "                        <td id=\"T_e7983d40_0d7a_11ec_a476_cdde47fcaeb4row7_col23\" class=\"data row7 col23\" >92.0</td>\n",
       "                        <td id=\"T_e7983d40_0d7a_11ec_a476_cdde47fcaeb4row7_col24\" class=\"data row7 col24\" >65.0</td>\n",
       "                        <td id=\"T_e7983d40_0d7a_11ec_a476_cdde47fcaeb4row7_col25\" class=\"data row7 col25\" >91.0</td>\n",
       "                        <td id=\"T_e7983d40_0d7a_11ec_a476_cdde47fcaeb4row7_col26\" class=\"data row7 col26\" >93.0</td>\n",
       "                        <td id=\"T_e7983d40_0d7a_11ec_a476_cdde47fcaeb4row7_col27\" class=\"data row7 col27\" >95.0</td>\n",
       "                        <td id=\"T_e7983d40_0d7a_11ec_a476_cdde47fcaeb4row7_col28\" class=\"data row7 col28\" >93.0</td>\n",
       "                        <td id=\"T_e7983d40_0d7a_11ec_a476_cdde47fcaeb4row7_col29\" class=\"data row7 col29\" >92.0</td>\n",
       "                        <td id=\"T_e7983d40_0d7a_11ec_a476_cdde47fcaeb4row7_col30\" class=\"data row7 col30\" >90.0</td>\n",
       "                        <td id=\"T_e7983d40_0d7a_11ec_a476_cdde47fcaeb4row7_col31\" class=\"data row7 col31\" >97.0</td>\n",
       "                        <td id=\"T_e7983d40_0d7a_11ec_a476_cdde47fcaeb4row7_col32\" class=\"data row7 col32\" >94.0</td>\n",
       "                        <td id=\"T_e7983d40_0d7a_11ec_a476_cdde47fcaeb4row7_col33\" class=\"data row7 col33\" >94.0</td>\n",
       "                        <td id=\"T_e7983d40_0d7a_11ec_a476_cdde47fcaeb4row7_col34\" class=\"data row7 col34\" >92.0</td>\n",
       "                        <td id=\"T_e7983d40_0d7a_11ec_a476_cdde47fcaeb4row7_col35\" class=\"data row7 col35\" >96.0</td>\n",
       "                        <td id=\"T_e7983d40_0d7a_11ec_a476_cdde47fcaeb4row7_col36\" class=\"data row7 col36\" >97.0</td>\n",
       "                        <td id=\"T_e7983d40_0d7a_11ec_a476_cdde47fcaeb4row7_col37\" class=\"data row7 col37\" >96.0</td>\n",
       "                        <td id=\"T_e7983d40_0d7a_11ec_a476_cdde47fcaeb4row7_col38\" class=\"data row7 col38\" >96.0</td>\n",
       "                        <td id=\"T_e7983d40_0d7a_11ec_a476_cdde47fcaeb4row7_col39\" class=\"data row7 col39\" >96.0</td>\n",
       "                        <td id=\"T_e7983d40_0d7a_11ec_a476_cdde47fcaeb4row7_col40\" class=\"data row7 col40\" >97.0</td>\n",
       "                        <td id=\"T_e7983d40_0d7a_11ec_a476_cdde47fcaeb4row7_col41\" class=\"data row7 col41\" >95.0</td>\n",
       "                        <td id=\"T_e7983d40_0d7a_11ec_a476_cdde47fcaeb4row7_col42\" class=\"data row7 col42\" >95.0</td>\n",
       "                        <td id=\"T_e7983d40_0d7a_11ec_a476_cdde47fcaeb4row7_col43\" class=\"data row7 col43\" >97.0</td>\n",
       "                        <td id=\"T_e7983d40_0d7a_11ec_a476_cdde47fcaeb4row7_col44\" class=\"data row7 col44\" >97.0</td>\n",
       "                        <td id=\"T_e7983d40_0d7a_11ec_a476_cdde47fcaeb4row7_col45\" class=\"data row7 col45\" >94.0</td>\n",
       "                        <td id=\"T_e7983d40_0d7a_11ec_a476_cdde47fcaeb4row7_col46\" class=\"data row7 col46\" >95.0</td>\n",
       "                        <td id=\"T_e7983d40_0d7a_11ec_a476_cdde47fcaeb4row7_col47\" class=\"data row7 col47\" >92.0</td>\n",
       "                        <td id=\"T_e7983d40_0d7a_11ec_a476_cdde47fcaeb4row7_col48\" class=\"data row7 col48\" >95.0</td>\n",
       "                        <td id=\"T_e7983d40_0d7a_11ec_a476_cdde47fcaeb4row7_col49\" class=\"data row7 col49\" >94.0</td>\n",
       "                        <td id=\"T_e7983d40_0d7a_11ec_a476_cdde47fcaeb4row7_col50\" class=\"data row7 col50\" >92.0</td>\n",
       "                        <td id=\"T_e7983d40_0d7a_11ec_a476_cdde47fcaeb4row7_col51\" class=\"data row7 col51\" >96.0</td>\n",
       "                        <td id=\"T_e7983d40_0d7a_11ec_a476_cdde47fcaeb4row7_col52\" class=\"data row7 col52\" >94.0</td>\n",
       "                        <td id=\"T_e7983d40_0d7a_11ec_a476_cdde47fcaeb4row7_col53\" class=\"data row7 col53\" >92.0</td>\n",
       "                        <td id=\"T_e7983d40_0d7a_11ec_a476_cdde47fcaeb4row7_col54\" class=\"data row7 col54\" >90.0</td>\n",
       "                        <td id=\"T_e7983d40_0d7a_11ec_a476_cdde47fcaeb4row7_col55\" class=\"data row7 col55\" >90.0</td>\n",
       "                        <td id=\"T_e7983d40_0d7a_11ec_a476_cdde47fcaeb4row7_col56\" class=\"data row7 col56\" >92.0</td>\n",
       "                        <td id=\"T_e7983d40_0d7a_11ec_a476_cdde47fcaeb4row7_col57\" class=\"data row7 col57\" >93.0</td>\n",
       "                        <td id=\"T_e7983d40_0d7a_11ec_a476_cdde47fcaeb4row7_col58\" class=\"data row7 col58\" >91.0</td>\n",
       "                        <td id=\"T_e7983d40_0d7a_11ec_a476_cdde47fcaeb4row7_col59\" class=\"data row7 col59\" >92.0</td>\n",
       "            </tr>\n",
       "    </tbody></table>"
      ],
      "text/plain": [
       "<pandas.io.formats.style.Styler at 0x7fbce8085668>"
      ]
     },
     "execution_count": 2,
     "metadata": {},
     "output_type": "execute_result"
    }
   ],
   "source": [
    "import os\n",
    "import pandas as pd\n",
    "\n",
    "df = pd.read_csv('players_20.csv')\n",
    "df.drop('sofifa_id', axis = 1, inplace = True)\n",
    "df.describe().style.format(\"{:.1f}\")"
   ]
  },
  {
   "cell_type": "markdown",
   "metadata": {
    "id": "5X6MkIHEoHfj"
   },
   "source": [
    "Veamos si es muy diferente al dataset trabajado anteriormente"
   ]
  },
  {
   "cell_type": "code",
   "execution_count": 3,
   "metadata": {
    "colab": {
     "base_uri": "https://localhost:8080/"
    },
    "executionInfo": {
     "elapsed": 278,
     "status": "ok",
     "timestamp": 1630705773452,
     "user": {
      "displayName": "ANA GEORGINA FLESIA",
      "photoUrl": "https://lh3.googleusercontent.com/a-/AOh14GhEzdrRs7t9rM7bZMeG13bgILnDQQBYsSPcsT4=s64",
      "userId": "06600501239941405182"
     },
     "user_tz": 180
    },
    "id": "_O1WohgenmU_",
    "outputId": "7d3e48a7-5873-49e3-da14-f8b9f72fa92c"
   },
   "outputs": [
    {
     "name": "stdout",
     "output_type": "stream",
     "text": [
      "<class 'pandas.core.frame.DataFrame'>\n",
      "RangeIndex: 18278 entries, 0 to 18277\n",
      "Columns: 103 entries, player_url to rb\n",
      "dtypes: float64(16), int64(44), object(43)\n",
      "memory usage: 14.4+ MB\n"
     ]
    }
   ],
   "source": [
    "df.info()"
   ]
  },
  {
   "cell_type": "markdown",
   "metadata": {
    "id": "6Ef-P_7MF1bu"
   },
   "source": [
    "# Preguntas"
   ]
  },
  {
   "cell_type": "code",
   "execution_count": 4,
   "metadata": {
    "colab": {
     "base_uri": "https://localhost:8080/"
    },
    "executionInfo": {
     "elapsed": 268,
     "status": "ok",
     "timestamp": 1630705775801,
     "user": {
      "displayName": "ANA GEORGINA FLESIA",
      "photoUrl": "https://lh3.googleusercontent.com/a-/AOh14GhEzdrRs7t9rM7bZMeG13bgILnDQQBYsSPcsT4=s64",
      "userId": "06600501239941405182"
     },
     "user_tz": 180
    },
    "id": "hYOdwuKbCb9N",
    "outputId": "d168386f-19d2-475e-dd7c-6e28c43580bf"
   },
   "outputs": [
    {
     "name": "stdout",
     "output_type": "stream",
     "text": [
      "El jugador mas caro 2020 es Neymar Jr\n",
      "El jugador mejor pago en 2020 es L. Messi\n"
     ]
    }
   ],
   "source": [
    "most_expns_plyr = df.loc[df.value_eur == df['value_eur'].max(),'short_name']\n",
    "print('El jugador mas caro 2020 es', most_expns_plyr.values[0])\n",
    "\n",
    "top_wage_plyr = df.loc[df.wage_eur == df['wage_eur'].max(),'short_name']\n",
    "print('El jugador mejor pago en 2020 es', top_wage_plyr.values[0])"
   ]
  },
  {
   "cell_type": "code",
   "execution_count": 5,
   "metadata": {
    "colab": {
     "base_uri": "https://localhost:8080/"
    },
    "executionInfo": {
     "elapsed": 272,
     "status": "ok",
     "timestamp": 1630705803393,
     "user": {
      "displayName": "ANA GEORGINA FLESIA",
      "photoUrl": "https://lh3.googleusercontent.com/a-/AOh14GhEzdrRs7t9rM7bZMeG13bgILnDQQBYsSPcsT4=s64",
      "userId": "06600501239941405182"
     },
     "user_tz": 180
    },
    "id": "X2SgxCLjCb9Q",
    "outputId": "dc26d27a-278a-484c-d1b2-8a638fff59a5"
   },
   "outputs": [
    {
     "name": "stdout",
     "output_type": "stream",
     "text": [
      "El pais con mas jugadores en FIFA 20 es England\n"
     ]
    }
   ],
   "source": [
    "print('El pais con mas jugadores en FIFA 20 es', df['nationality'].value_counts().idxmax())"
   ]
  },
  {
   "cell_type": "markdown",
   "metadata": {
    "id": "kusWIC7Qo_xv"
   },
   "source": [
    "### Inspeccionemos las posiciones en las que los jugadores han participado del juego."
   ]
  },
  {
   "cell_type": "code",
   "execution_count": 6,
   "metadata": {
    "colab": {
     "base_uri": "https://localhost:8080/"
    },
    "executionInfo": {
     "elapsed": 274,
     "status": "ok",
     "timestamp": 1630705846113,
     "user": {
      "displayName": "ANA GEORGINA FLESIA",
      "photoUrl": "https://lh3.googleusercontent.com/a-/AOh14GhEzdrRs7t9rM7bZMeG13bgILnDQQBYsSPcsT4=s64",
      "userId": "06600501239941405182"
     },
     "user_tz": 180
    },
    "id": "0u3o_vdKCb9R",
    "outputId": "5f5636bd-e30c-4ccf-ad10-0206e4a915ea"
   },
   "outputs": [
    {
     "data": {
      "text/plain": [
       "35             CB\n",
       "36             CM\n",
       "37    CAM, LM, ST\n",
       "38         ST, LM\n",
       "39         LW, LM\n",
       "40         CB, LB\n",
       "41    RW, CAM, CM\n",
       "42            CDM\n",
       "43         CF, LM\n",
       "44            CDM\n",
       "Name: player_positions, dtype: object"
      ]
     },
     "execution_count": 6,
     "metadata": {},
     "output_type": "execute_result"
    }
   ],
   "source": [
    "df.player_positions[35:45]"
   ]
  },
  {
   "cell_type": "markdown",
   "metadata": {
    "id": "h9yiCXUmpJ-l"
   },
   "source": [
    "### Para poder hacer este trabajo, combinamos las etiquetas para tener solo cuatro etiquetas"
   ]
  },
  {
   "cell_type": "code",
   "execution_count": 7,
   "metadata": {
    "executionInfo": {
     "elapsed": 421,
     "status": "ok",
     "timestamp": 1630700738279,
     "user": {
      "displayName": "ANA GEORGINA FLESIA",
      "photoUrl": "https://lh3.googleusercontent.com/a-/AOh14GhEzdrRs7t9rM7bZMeG13bgILnDQQBYsSPcsT4=s64",
      "userId": "06600501239941405182"
     },
     "user_tz": 180
    },
    "id": "UqEGqeDeCb9S"
   },
   "outputs": [],
   "source": [
    "def combine_positions(row):\n",
    "    # There are 15 different positions\n",
    "    positions = row['player_positions'].split(', ') \n",
    "    N = len(positions)\n",
    "    if N < 3:\n",
    "        # If a player has two positions the first one will be considered as their\n",
    "        # position, of course, players with only one position won't be affected\n",
    "        position = positions[0]\n",
    "        if position in ['ST', 'LW', 'RW','CF']: #4\n",
    "            return 0 #ATTACKER\n",
    "        elif position in ['CAM', 'LM', 'CM', 'RM', 'CDM']: #5\n",
    "            return 1 #MIDFIELDER\n",
    "        elif position in ['LWB', 'RWB', 'LB', 'CB', 'RB']: #5\n",
    "            return 2 #DEFENDER\n",
    "        elif position in ['GK']: #1\n",
    "            return 3 #GOALKEEPER\n",
    "    else: # If player has three possible positions\n",
    "        position_count = [0, 0, 0, 0] \n",
    "        for position in positions:\n",
    "            if position in ['ST', 'LW', 'RW','CF']: #4\n",
    "                index = 0 #ATTACKER\n",
    "            elif position in ['CAM', 'LM', 'CM', 'RM', 'CDM']: #5\n",
    "                index = 1 #MIDFIELDER\n",
    "            elif position in ['LWB', 'RWB', 'LB', 'CB', 'RB']: #5\n",
    "                index = 2 #DEFENDER\n",
    "            elif position in ['GK']: #1\n",
    "                index = 3 #GOALKEEPER\n",
    "            else:\n",
    "                continue \n",
    "            position_count[index] += 1 \n",
    "        # This will count which was the most repeated position and assign it\n",
    "        # to the player\n",
    "        return position_count.index(max(position_count))\n",
    "\n",
    "df['player_positions'] = df.apply(combine_positions, axis=1)"
   ]
  },
  {
   "cell_type": "markdown",
   "metadata": {
    "id": "gllyCny9pUiX"
   },
   "source": [
    "### Observemos la variable overall que representa el score que ordena los jugadores de mejor a peor."
   ]
  },
  {
   "cell_type": "code",
   "execution_count": 8,
   "metadata": {
    "colab": {
     "base_uri": "https://localhost:8080/",
     "height": 313
    },
    "executionInfo": {
     "elapsed": 859,
     "status": "ok",
     "timestamp": 1630705926064,
     "user": {
      "displayName": "ANA GEORGINA FLESIA",
      "photoUrl": "https://lh3.googleusercontent.com/a-/AOh14GhEzdrRs7t9rM7bZMeG13bgILnDQQBYsSPcsT4=s64",
      "userId": "06600501239941405182"
     },
     "user_tz": 180
    },
    "id": "-hFJvvmjCb9T",
    "outputId": "515fdcc3-7c76-4bc9-ef63-2d83fc3c0179"
   },
   "outputs": [
    {
     "name": "stderr",
     "output_type": "stream",
     "text": [
      "/home/adalisa/anaconda3/lib/python3.7/site-packages/seaborn/distributions.py:2557: FutureWarning: `distplot` is a deprecated function and will be removed in a future version. Please adapt your code to use either `displot` (a figure-level function with similar flexibility) or `histplot` (an axes-level function for histograms).\n",
      "  warnings.warn(msg, FutureWarning)\n"
     ]
    },
    {
     "name": "stdout",
     "output_type": "stream",
     "text": [
      "Skew of the distribution is 0.07089343291701235\n",
      "Kurtosis of the distribution is 0.05761583098542822\n"
     ]
    },
    {
     "data": {
      "image/png": "[encoded data removed]",
      "text/plain": [
       "<Figure size 432x288 with 1 Axes>"
      ]
     },
     "metadata": {
      "needs_background": "light"
     },
     "output_type": "display_data"
    }
   ],
   "source": [
    "import seaborn as sns\n",
    "import numpy as np\n",
    "\n",
    "bins = np.linspace(df.overall.min(), df.overall.max(), 10)\n",
    "sns.distplot(df['overall'], hist=True, \n",
    "             bins=bins, color = 'blue', \n",
    "             hist_kws={'edgecolor':'black'},\n",
    "             kde_kws={'linewidth': 4})\n",
    "print('Skew of the distribution is', df['overall'].skew())\n",
    "print('Kurtosis of the distribution is', df['overall'].kurt())"
   ]
  },
  {
   "cell_type": "markdown",
   "metadata": {
    "id": "NIHG7X3-pgJc"
   },
   "source": [
    "# Dataset solo con las variables de habilidades de los jugadores"
   ]
  },
  {
   "cell_type": "code",
   "execution_count": 9,
   "metadata": {
    "colab": {
     "base_uri": "https://localhost:8080/"
    },
    "executionInfo": {
     "elapsed": 282,
     "status": "ok",
     "timestamp": 1630700747035,
     "user": {
      "displayName": "ANA GEORGINA FLESIA",
      "photoUrl": "https://lh3.googleusercontent.com/a-/AOh14GhEzdrRs7t9rM7bZMeG13bgILnDQQBYsSPcsT4=s64",
      "userId": "06600501239941405182"
     },
     "user_tz": 180
    },
    "id": "7CxM9rEPCb9V",
    "outputId": "16b55e91-33db-4cba-9e28-1cccfc364bd5"
   },
   "outputs": [
    {
     "data": {
      "text/plain": [
       "skill_moves                   0\n",
       "player_positions              0\n",
       "attacking_crossing            0\n",
       "attacking_finishing           0\n",
       "attacking_heading_accuracy    0\n",
       "attacking_short_passing       0\n",
       "attacking_volleys             0\n",
       "skill_dribbling               0\n",
       "skill_curve                   0\n",
       "skill_fk_accuracy             0\n",
       "skill_long_passing            0\n",
       "skill_ball_control            0\n",
       "movement_acceleration         0\n",
       "movement_sprint_speed         0\n",
       "movement_agility              0\n",
       "movement_reactions            0\n",
       "movement_balance              0\n",
       "power_shot_power              0\n",
       "power_jumping                 0\n",
       "power_stamina                 0\n",
       "power_strength                0\n",
       "power_long_shots              0\n",
       "mentality_aggression          0\n",
       "mentality_interceptions       0\n",
       "mentality_positioning         0\n",
       "mentality_vision              0\n",
       "mentality_penalties           0\n",
       "mentality_composure           0\n",
       "defending_marking             0\n",
       "defending_standing_tackle     0\n",
       "defending_sliding_tackle      0\n",
       "goalkeeping_diving            0\n",
       "goalkeeping_handling          0\n",
       "goalkeeping_kicking           0\n",
       "goalkeeping_positioning       0\n",
       "goalkeeping_reflexes          0\n",
       "dtype: int64"
      ]
     },
     "execution_count": 9,
     "metadata": {},
     "output_type": "execute_result"
    }
   ],
   "source": [
    "df = df[['skill_moves', 'player_positions', 'attacking_crossing', 'attacking_finishing',\n",
    "         'attacking_heading_accuracy', 'attacking_short_passing', 'attacking_volleys',\n",
    "         'skill_dribbling', 'skill_curve', 'skill_fk_accuracy', 'skill_long_passing',\n",
    "         'skill_ball_control', 'movement_acceleration', 'movement_sprint_speed', \n",
    "         'movement_agility', 'movement_reactions', 'movement_balance', 'power_shot_power',\n",
    "         'power_jumping', 'power_stamina', 'power_strength', 'power_long_shots',\n",
    "         'mentality_aggression', 'mentality_interceptions', 'mentality_positioning',\n",
    "         'mentality_vision', 'mentality_penalties', 'mentality_composure',\n",
    "         'defending_marking', 'defending_standing_tackle', 'defending_sliding_tackle',\n",
    "         'goalkeeping_diving', 'goalkeeping_handling', 'goalkeeping_kicking',\n",
    "         'goalkeeping_positioning', 'goalkeeping_reflexes']]\n",
    "df.isnull().sum()"
   ]
  },
  {
   "cell_type": "markdown",
   "metadata": {
    "id": "S1MbwxirpxN1"
   },
   "source": [
    "### Armemos ahora un conjunto de test y otro de test para calcular generalizacion de los métodos"
   ]
  },
  {
   "cell_type": "code",
   "execution_count": 10,
   "metadata": {
    "executionInfo": {
     "elapsed": 299,
     "status": "ok",
     "timestamp": 1630700752323,
     "user": {
      "displayName": "ANA GEORGINA FLESIA",
      "photoUrl": "https://lh3.googleusercontent.com/a-/AOh14GhEzdrRs7t9rM7bZMeG13bgILnDQQBYsSPcsT4=s64",
      "userId": "06600501239941405182"
     },
     "user_tz": 180
    },
    "id": "tNx-t9FcCb9X"
   },
   "outputs": [],
   "source": [
    "from sklearn.model_selection import train_test_split\n",
    "\n",
    "# Create X and y\n",
    "X = df.drop([\"player_positions\"],axis = 1)\n",
    "y = df.player_positions\n",
    "\n",
    "# Split the data to 80-20\n",
    "X_train,X_test,y_train,y_test = train_test_split(X,y,test_size=0.2,random_state=42, stratify=y)"
   ]
  },
  {
   "cell_type": "markdown",
   "metadata": {
    "id": "qB41wLqep6ex"
   },
   "source": [
    "### Cada método tiene muchos parámetros, para que sean comparables, hay que buscar los mejores parámetros usando la muestra de entrenamiento."
   ]
  },
  {
   "cell_type": "code",
   "execution_count": 11,
   "metadata": {
    "executionInfo": {
     "elapsed": 284,
     "status": "ok",
     "timestamp": 1630700763420,
     "user": {
      "displayName": "ANA GEORGINA FLESIA",
      "photoUrl": "https://lh3.googleusercontent.com/a-/AOh14GhEzdrRs7t9rM7bZMeG13bgILnDQQBYsSPcsT4=s64",
      "userId": "06600501239941405182"
     },
     "user_tz": 180
    },
    "id": "LoFnGU8LCb9Z"
   },
   "outputs": [],
   "source": [
    "from sklearn.model_selection import GridSearchCV\n",
    "from sklearn.preprocessing import StandardScaler\n",
    "from sklearn.pipeline import Pipeline"
   ]
  },
  {
   "cell_type": "markdown",
   "metadata": {
    "id": "7Gv-A5tNu-xD"
   },
   "source": [
    "# Clasificadores"
   ]
  },
  {
   "cell_type": "markdown",
   "metadata": {
    "id": "GCTxOcQou7p7"
   },
   "source": [
    "AdaBoostClassifier: este algoritmo comienza ajustando un clasificador en el conjunto de datos original y luego ajusta copias adicionales del clasificador en el mismo conjunto de datos pero donde los pesos de las instancias clasificadas incorrectamente se ajustan de modo que los clasificadores posteriores se centren más en casos difíciles.\n",
    "\n",
    "Bagging Classifier: es un algoritmo que ajusta clasificadores base, cada uno en un subconjunto aleatorio del conjunto de datos original y luego agrega su prediccion individual(ya sea por voto o promedio) para formar una prediccion final.El objetivo es generar un modelo compuesto con menor tasa de error.\n",
    "\n",
    "ExtraTreesClassifier: este algoritmo implementa un estimador que se ajusta a varios árboles de decisión aleatorios (también conocidos como árboles adicionales) en varias submuestras del conjunto de datos y utiliza el promedio para mejorar la precisión predictiva y controlar el sobreajuste.\n",
    "\n",
    "GradientBoostingClassifier: este algoritmo construye un modelo aditivo de manera progresiva por etapas. Permite la optimización de funciones arbitrarias de pérdida diferenciable. En cada etapa, las n_clases de los árboles de regresión se ajustan en el gradiente negativo de la función de pérdida de desviación binomial o multinomial. La clasificación binaria es un caso especial donde solo se induce un solo árbol de regresión.\n",
    "\n",
    "RandomForestClassifier: un bosque aleatorio es un estimador que se ajusta a varios clasificadores de árbol de decisión en varias submuestras del conjunto de datos y utiliza el promedio para mejorar la precisión predictiva y controlar el sobreajuste. El tamaño de la submuestra siempre es el mismo que el tamaño de la muestra de entrada original, pero las muestras se extraen con reemplazo y a diferencia de Bagging tambien se aleatorizan las variables.\n",
    "\n",
    "LogisticRegression : la regresión logística es un método estadístico para analizar un conjunto de datos en el que hay una o más variables independientes que determinan un resultado. El resultado se mide con una variable dicotómica. En este modelo, las probabilidades que describen los posibles resultados de un solo ensayo se modelan utilizando una función logística.\n",
    "\n",
    "\n",
    "KNeighborsClassifier: Clasificador que implementa el voto de k-vecinos más cercanos.\n",
    "\n",
    "SVC: Usa un clasificador discriminativo definido formalmente por un hiperplano de separación. Es decir, dados los datos de entrenamiento etiquetados, el algoritmo genera un hiperplano óptimo que categoriza nuevos ejemplos. En dos espacios dimensionales, este hiperplano es una línea que divide un plano en dos partes donde en cada clase se encuentra a cada lado.\n",
    "\n",
    "\n",
    "DecisionTree: los árboles de decisión son un método de aprendizaje supervisado no paramétrico utilizado para la clasificación y la regresión. El objetivo es crear un modelo que prediga el valor de una variable objetivo mediante el aprendizaje de reglas de decisión simples inferidas de las características de los datos.\n",
    "\n",
    "\n",
    "ExtraTreeClassifier: estos algoritmos difieren de los árboles de decisión clásicos en la forma en que se construyen. Al buscar la mejor división para separar las muestras de un nodo en dos grupos, se dibujan divisiones aleatorias para cada una de las características max_features seleccionadas aleatoriamente y se elige la mejor división entre ellas. Cuando max_features se establece en 1, esto equivale a construir un árbol de decisión totalmente aleatorio.\n",
    "\n",
    "\n",
    "XGBoost: es un algoritmo de aprendizaje automático de conjunto basado en un árbol de decisión que utiliza un marco de refuerzo de gradiente."
   ]
  },
  {
   "cell_type": "code",
   "execution_count": 12,
   "metadata": {
    "executionInfo": {
     "elapsed": 251,
     "status": "ok",
     "timestamp": 1630718264875,
     "user": {
      "displayName": "ANA GEORGINA FLESIA",
      "photoUrl": "https://lh3.googleusercontent.com/a-/AOh14GhEzdrRs7t9rM7bZMeG13bgILnDQQBYsSPcsT4=s64",
      "userId": "06600501239941405182"
     },
     "user_tz": 180
    },
    "id": "YnaJO8cWYe0D"
   },
   "outputs": [
    {
     "ename": "ModuleNotFoundError",
     "evalue": "No module named 'xgboost'",
     "output_type": "error",
     "traceback": [
      "\u001b[0;31m---------------------------------------------------------------------------\u001b[0m",
      "\u001b[0;31mModuleNotFoundError\u001b[0m                       Traceback (most recent call last)",
      "\u001b[0;32m<ipython-input-12-2f4393fe2e08>\u001b[0m in \u001b[0;36m<module>\u001b[0;34m\u001b[0m\n\u001b[1;32m      1\u001b[0m \u001b[0;31m#Clasificadores usuales\u001b[0m\u001b[0;34m\u001b[0m\u001b[0;34m\u001b[0m\u001b[0;34m\u001b[0m\u001b[0m\n\u001b[1;32m      2\u001b[0m \u001b[0;32mfrom\u001b[0m \u001b[0msklearn\u001b[0m \u001b[0;32mimport\u001b[0m \u001b[0msvm\u001b[0m\u001b[0;34m,\u001b[0m \u001b[0mtree\u001b[0m\u001b[0;34m,\u001b[0m \u001b[0mlinear_model\u001b[0m\u001b[0;34m,\u001b[0m \u001b[0mneighbors\u001b[0m\u001b[0;34m,\u001b[0m \u001b[0mnaive_bayes\u001b[0m\u001b[0;34m,\u001b[0m \u001b[0mensemble\u001b[0m\u001b[0;34m,\u001b[0m \u001b[0mdiscriminant_analysis\u001b[0m\u001b[0;34m,\u001b[0m \u001b[0mgaussian_process\u001b[0m\u001b[0;34m\u001b[0m\u001b[0;34m\u001b[0m\u001b[0m\n\u001b[0;32m----> 3\u001b[0;31m \u001b[0;32mfrom\u001b[0m \u001b[0mxgboost\u001b[0m \u001b[0;32mimport\u001b[0m \u001b[0mXGBClassifier\u001b[0m\u001b[0;34m\u001b[0m\u001b[0;34m\u001b[0m\u001b[0m\n\u001b[0m\u001b[1;32m      4\u001b[0m \u001b[0;31m#Evaluaciones usuales de los modelos\u001b[0m\u001b[0;34m\u001b[0m\u001b[0;34m\u001b[0m\u001b[0;34m\u001b[0m\u001b[0m\n\u001b[1;32m      5\u001b[0m \u001b[0;32mfrom\u001b[0m \u001b[0msklearn\u001b[0m \u001b[0;32mimport\u001b[0m \u001b[0mfeature_selection\u001b[0m\u001b[0;34m\u001b[0m\u001b[0;34m\u001b[0m\u001b[0m\n",
      "\u001b[0;31mModuleNotFoundError\u001b[0m: No module named 'xgboost'"
     ]
    }
   ],
   "source": [
    "#Clasificadores usuales\n",
    "from sklearn import svm, tree, linear_model, neighbors, naive_bayes, ensemble, discriminant_analysis, gaussian_process\n",
    "from xgboost import XGBClassifier\n",
    "#Evaluaciones usuales de los modelos\n",
    "from sklearn import feature_selection\n",
    "from sklearn import model_selection\n",
    "from sklearn import metrics\n",
    "from sklearn.model_selection import train_test_split\n",
    "from sklearn.metrics import confusion_matrix\n",
    "import warnings\n",
    "warnings.filterwarnings('ignore')"
   ]
  },
  {
   "cell_type": "markdown",
   "metadata": {
    "id": "g057nKvXqIvM"
   },
   "source": [
    "# K vecinos mas cercanos"
   ]
  },
  {
   "cell_type": "code",
   "execution_count": 13,
   "metadata": {
    "executionInfo": {
     "elapsed": 284,
     "status": "ok",
     "timestamp": 1630700787324,
     "user": {
      "displayName": "ANA GEORGINA FLESIA",
      "photoUrl": "https://lh3.googleusercontent.com/a-/AOh14GhEzdrRs7t9rM7bZMeG13bgILnDQQBYsSPcsT4=s64",
      "userId": "06600501239941405182"
     },
     "user_tz": 180
    },
    "id": "XUO44WV9VzvL"
   },
   "outputs": [],
   "source": [
    "from sklearn.neighbors import KNeighborsClassifier"
   ]
  },
  {
   "cell_type": "code",
   "execution_count": 14,
   "metadata": {
    "colab": {
     "base_uri": "https://localhost:8080/"
    },
    "executionInfo": {
     "elapsed": 881572,
     "status": "ok",
     "timestamp": 1630704872035,
     "user": {
      "displayName": "ANA GEORGINA FLESIA",
      "photoUrl": "https://lh3.googleusercontent.com/a-/AOh14GhEzdrRs7t9rM7bZMeG13bgILnDQQBYsSPcsT4=s64",
      "userId": "06600501239941405182"
     },
     "user_tz": 180
    },
    "id": "x49YzPKNCb9b",
    "outputId": "b994ab97-ebd1-4c56-c06d-0bab90ed2fc4"
   },
   "outputs": [
    {
     "name": "stdout",
     "output_type": "stream",
     "text": [
      " Best score is: 0.8800440328785062 with parameters: {'knn__n_neighbors': 19}\n"
     ]
    }
   ],
   "source": [
    "\n",
    "\n",
    "pipe_knn = Pipeline([\n",
    "    ('sc', StandardScaler()),\n",
    "    ('knn', KNeighborsClassifier())\n",
    "    ])\n",
    "\n",
    "params_knn = {\n",
    "    'knn__n_neighbors': range(1, 20)\n",
    "    }\n",
    "\n",
    "search_knn = GridSearchCV(estimator=pipe_knn,\n",
    "                      param_grid=params_knn,\n",
    "                      cv = 5,\n",
    "                      return_train_score=True)\n",
    "\n",
    "search_knn.fit(X_train, y_train)\n",
    "print(f\" Best score is: {search_knn.best_score_} with parameters: {search_knn.best_params_}\")"
   ]
  },
  {
   "cell_type": "markdown",
   "metadata": {
    "id": "BwQz5UMAqPb1"
   },
   "source": [
    "### El único parametro es K y despues de 35 minutos, encontro que el mejor k en 19 vecinos"
   ]
  },
  {
   "cell_type": "code",
   "execution_count": 15,
   "metadata": {
    "executionInfo": {
     "elapsed": 2683,
     "status": "ok",
     "timestamp": 1630700792589,
     "user": {
      "displayName": "ANA GEORGINA FLESIA",
      "photoUrl": "https://lh3.googleusercontent.com/a-/AOh14GhEzdrRs7t9rM7bZMeG13bgILnDQQBYsSPcsT4=s64",
      "userId": "06600501239941405182"
     },
     "user_tz": 180
    },
    "id": "SRTCRpiACb9c"
   },
   "outputs": [],
   "source": [
    "knn = KNeighborsClassifier(n_neighbors = 19)\n",
    "# Train the model\n",
    "knn.fit(X_train, y_train)\n",
    "# Get the predict value from X_test\n",
    "y_pred_knn = knn.predict(X_test)"
   ]
  },
  {
   "cell_type": "code",
   "execution_count": null,
   "metadata": {
    "executionInfo": {
     "elapsed": 269,
     "status": "ok",
     "timestamp": 1630700795964,
     "user": {
      "displayName": "ANA GEORGINA FLESIA",
      "photoUrl": "https://lh3.googleusercontent.com/a-/AOh14GhEzdrRs7t9rM7bZMeG13bgILnDQQBYsSPcsT4=s64",
      "userId": "06600501239941405182"
     },
     "user_tz": 180
    },
    "id": "AzfHCFsXCb9c"
   },
   "outputs": [],
   "source": [
    "from sklearn import metrics\n",
    "from sklearn.metrics import classification_report"
   ]
  },
  {
   "cell_type": "code",
   "execution_count": null,
   "metadata": {
    "colab": {
     "base_uri": "https://localhost:8080/"
    },
    "executionInfo": {
     "elapsed": 311,
     "status": "ok",
     "timestamp": 1630700798434,
     "user": {
      "displayName": "ANA GEORGINA FLESIA",
      "photoUrl": "https://lh3.googleusercontent.com/a-/AOh14GhEzdrRs7t9rM7bZMeG13bgILnDQQBYsSPcsT4=s64",
      "userId": "06600501239941405182"
     },
     "user_tz": 180
    },
    "id": "KY40dRXUCb9d",
    "outputId": "f348812a-5a1a-4a71-892e-a45c0f76d66e"
   },
   "outputs": [],
   "source": [
    "# Report\n",
    "print(classification_report(y_pred_knn,y_test, digits = 3))\n",
    "print('accuracy: ', metrics.accuracy_score(y_pred_knn, y_test))"
   ]
  },
  {
   "cell_type": "code",
   "execution_count": null,
   "metadata": {
    "colab": {
     "base_uri": "https://localhost:8080/",
     "height": 573
    },
    "executionInfo": {
     "elapsed": 5638,
     "status": "ok",
     "timestamp": 1630700806731,
     "user": {
      "displayName": "ANA GEORGINA FLESIA",
      "photoUrl": "https://lh3.googleusercontent.com/a-/AOh14GhEzdrRs7t9rM7bZMeG13bgILnDQQBYsSPcsT4=s64",
      "userId": "06600501239941405182"
     },
     "user_tz": 180
    },
    "id": "3qMZJBOeCb9e",
    "outputId": "53e76889-d983-40a5-911a-98a7301ab8d6"
   },
   "outputs": [],
   "source": [
    "from sklearn.metrics import plot_confusion_matrix\n",
    "titles_options = [(\"Unnormalized Confusion Matrix\", None),\n",
    "                  (\"Normalized Confusion Matrix\", 'true')]\n",
    "for title, normalize in titles_options:\n",
    "    disp = plot_confusion_matrix(knn.fit(X_train, y_train), X_test, y_test,\n",
    "                                  display_labels=['ATT', 'MID', 'DEF', 'GK'],\n",
    "                                  cmap='Blues',\n",
    "                                  normalize=normalize)\n",
    "    disp.ax_.set_title(title)"
   ]
  },
  {
   "cell_type": "markdown",
   "metadata": {
    "id": "RCfMOoAAqc_n"
   },
   "source": [
    "# Arbol de decision"
   ]
  },
  {
   "cell_type": "code",
   "execution_count": null,
   "metadata": {
    "colab": {
     "base_uri": "https://localhost:8080/"
    },
    "executionInfo": {
     "elapsed": 20235,
     "status": "ok",
     "timestamp": 1630700833450,
     "user": {
      "displayName": "ANA GEORGINA FLESIA",
      "photoUrl": "https://lh3.googleusercontent.com/a-/AOh14GhEzdrRs7t9rM7bZMeG13bgILnDQQBYsSPcsT4=s64",
      "userId": "06600501239941405182"
     },
     "user_tz": 180
    },
    "id": "5UHh6au0Cb9f",
    "outputId": "cc0e876f-b668-4a9d-d16c-a73c64a74082"
   },
   "outputs": [],
   "source": [
    "from sklearn.tree import DecisionTreeClassifier\n",
    "import numpy as np\n",
    "\n",
    "pipe_decsT = Pipeline([\n",
    "    ('sc', StandardScaler()),\n",
    "    ('decsT', DecisionTreeClassifier())\n",
    "    ])\n",
    "\n",
    "params_decsT = {\n",
    "    'decsT__criterion' : ['gini', 'entropy'],\n",
    "    'decsT__max_depth' : np.arange(3, 15)\n",
    "    }\n",
    "\n",
    "search_decsT = GridSearchCV(estimator=pipe_decsT,\n",
    "                      param_grid=params_decsT,\n",
    "                      cv = 5,\n",
    "                      return_train_score=True)\n",
    "\n",
    "search_decsT.fit(X_train, y_train)\n",
    "print(f\" Best score is: {search_decsT.best_score_} with parameters: {search_decsT.best_params_}\")"
   ]
  },
  {
   "cell_type": "markdown",
   "metadata": {
    "id": "rrQwDx0rqhg-"
   },
   "source": [
    "### Encontramos que la metrica Gini y la profundidad es 8"
   ]
  },
  {
   "cell_type": "code",
   "execution_count": null,
   "metadata": {
    "colab": {
     "base_uri": "https://localhost:8080/"
    },
    "executionInfo": {
     "elapsed": 297,
     "status": "ok",
     "timestamp": 1630700839624,
     "user": {
      "displayName": "ANA GEORGINA FLESIA",
      "photoUrl": "https://lh3.googleusercontent.com/a-/AOh14GhEzdrRs7t9rM7bZMeG13bgILnDQQBYsSPcsT4=s64",
      "userId": "06600501239941405182"
     },
     "user_tz": 180
    },
    "id": "78rlcNKaCb9g",
    "outputId": "b6648cba-c67b-4c0a-eea7-673f17f56450"
   },
   "outputs": [],
   "source": [
    "scores_decsT = search_decsT.cv_results_['mean_test_score']\n",
    "criterion = ['gini', 'entropy']\n",
    "DEPTH = np.arange(3, 15)\n",
    "for idx, criterion in enumerate(criterion):\n",
    "    for score, depth in (zip(scores_decsT[idx*len(DEPTH): (idx+1)*len(DEPTH)], DEPTH)):\n",
    "        print(f\"{depth, criterion}: {score:.10f}\")"
   ]
  },
  {
   "cell_type": "code",
   "execution_count": null,
   "metadata": {
    "executionInfo": {
     "elapsed": 266,
     "status": "ok",
     "timestamp": 1630700843641,
     "user": {
      "displayName": "ANA GEORGINA FLESIA",
      "photoUrl": "https://lh3.googleusercontent.com/a-/AOh14GhEzdrRs7t9rM7bZMeG13bgILnDQQBYsSPcsT4=s64",
      "userId": "06600501239941405182"
     },
     "user_tz": 180
    },
    "id": "hbEXcDpRCb9g"
   },
   "outputs": [],
   "source": [
    "decsT = DecisionTreeClassifier(max_depth=8)\n",
    "decsT.fit(X_train,y_train)\n",
    "y_pred_decsT = decsT.predict(X_test)"
   ]
  },
  {
   "cell_type": "code",
   "execution_count": null,
   "metadata": {
    "colab": {
     "base_uri": "https://localhost:8080/"
    },
    "executionInfo": {
     "elapsed": 272,
     "status": "ok",
     "timestamp": 1630700846576,
     "user": {
      "displayName": "ANA GEORGINA FLESIA",
      "photoUrl": "https://lh3.googleusercontent.com/a-/AOh14GhEzdrRs7t9rM7bZMeG13bgILnDQQBYsSPcsT4=s64",
      "userId": "06600501239941405182"
     },
     "user_tz": 180
    },
    "id": "IQiTCbm1Cb9g",
    "outputId": "28e0f76d-445d-4fbb-b442-7d194b0beb0e"
   },
   "outputs": [],
   "source": [
    "# Report\n",
    "print(classification_report(y_pred_decsT,y_test, digits = 3))\n",
    "print('accuracy: ', metrics.accuracy_score(y_pred_decsT,y_test))"
   ]
  },
  {
   "cell_type": "code",
   "execution_count": null,
   "metadata": {
    "colab": {
     "base_uri": "https://localhost:8080/",
     "height": 573
    },
    "executionInfo": {
     "elapsed": 1124,
     "status": "ok",
     "timestamp": 1630700850240,
     "user": {
      "displayName": "ANA GEORGINA FLESIA",
      "photoUrl": "https://lh3.googleusercontent.com/a-/AOh14GhEzdrRs7t9rM7bZMeG13bgILnDQQBYsSPcsT4=s64",
      "userId": "06600501239941405182"
     },
     "user_tz": 180
    },
    "id": "yX1KN-zTCb9h",
    "outputId": "95479c7a-7e12-48d2-8594-997b128f17f4"
   },
   "outputs": [],
   "source": [
    "for title, normalize in titles_options:\n",
    "    disp = plot_confusion_matrix(decsT.fit(X_train, y_train), X_test, y_test,\n",
    "                                  display_labels=['ATT', 'MID', 'DEF', 'GK'],\n",
    "                                  cmap='Blues',\n",
    "                                  normalize=normalize)\n",
    "    disp.ax_.set_title(title)"
   ]
  },
  {
   "cell_type": "markdown",
   "metadata": {
    "id": "BqGWtpGcrOdz"
   },
   "source": [
    "# Support Vector Machine "
   ]
  },
  {
   "cell_type": "code",
   "execution_count": null,
   "metadata": {
    "colab": {
     "base_uri": "https://localhost:8080/"
    },
    "executionInfo": {
     "elapsed": 2133700,
     "status": "ok",
     "timestamp": 1630702987489,
     "user": {
      "displayName": "ANA GEORGINA FLESIA",
      "photoUrl": "https://lh3.googleusercontent.com/a-/AOh14GhEzdrRs7t9rM7bZMeG13bgILnDQQBYsSPcsT4=s64",
      "userId": "06600501239941405182"
     },
     "user_tz": 180
    },
    "id": "SnjTPXjbCb9h",
    "outputId": "7db8ccd6-61eb-41db-afb4-1de52b6b62de"
   },
   "outputs": [],
   "source": [
    "from sklearn.svm import SVC\n",
    "import numpy as np\n",
    "\n",
    "kernels = ['rbf', 'poly', 'sigmoid']\n",
    "C = np.logspace(-2, 10, 13)\n",
    "\n",
    "pipe_svm = Pipeline([\n",
    "    ('sc', StandardScaler()),\n",
    "    ('SVM', SVC())\n",
    "    ])\n",
    "\n",
    "params_svm = {'SVM__C': C,\n",
    "              'SVM__kernel': kernels,\n",
    "             }\n",
    "\n",
    "search_svm = GridSearchCV(estimator=pipe_svm,\n",
    "                      param_grid=params_svm,\n",
    "                      cv = 5,\n",
    "                      return_train_score=True)\n",
    "\n",
    "search_svm.fit(X_train, y_train)\n",
    "print(f\" Best score is: {search_svm.best_score_} with parameters: {search_svm.best_params_}\")"
   ]
  },
  {
   "cell_type": "markdown",
   "metadata": {
    "id": "c3Ob7i6_fEHQ"
   },
   "source": [
    "{'SVM__C': 1.0, 'SVM__kernel': 'rbf'} es el default "
   ]
  },
  {
   "cell_type": "code",
   "execution_count": null,
   "metadata": {
    "executionInfo": {
     "elapsed": 5794,
     "status": "ok",
     "timestamp": 1630703255349,
     "user": {
      "displayName": "ANA GEORGINA FLESIA",
      "photoUrl": "https://lh3.googleusercontent.com/a-/AOh14GhEzdrRs7t9rM7bZMeG13bgILnDQQBYsSPcsT4=s64",
      "userId": "06600501239941405182"
     },
     "user_tz": 180
    },
    "id": "9uPkcOebCb9i"
   },
   "outputs": [],
   "source": [
    "svc = SVC()\n",
    "svc.fit(X_train,y_train)\n",
    "y_pred_svm = svc.predict(X_test)"
   ]
  },
  {
   "cell_type": "code",
   "execution_count": null,
   "metadata": {
    "colab": {
     "base_uri": "https://localhost:8080/"
    },
    "executionInfo": {
     "elapsed": 9,
     "status": "ok",
     "timestamp": 1630703255350,
     "user": {
      "displayName": "ANA GEORGINA FLESIA",
      "photoUrl": "https://lh3.googleusercontent.com/a-/AOh14GhEzdrRs7t9rM7bZMeG13bgILnDQQBYsSPcsT4=s64",
      "userId": "06600501239941405182"
     },
     "user_tz": 180
    },
    "id": "SOnKWgXmCb9j",
    "outputId": "072308c6-8fa0-4b9c-e211-db8f7fa675af"
   },
   "outputs": [],
   "source": [
    "# Report\n",
    "print(metrics.classification_report(y_pred_svm,y_test, digits = 3))\n",
    "print('accuracy: ', metrics.accuracy_score(y_pred_svm,y_test))"
   ]
  },
  {
   "cell_type": "code",
   "execution_count": null,
   "metadata": {
    "colab": {
     "base_uri": "https://localhost:8080/",
     "height": 573
    },
    "executionInfo": {
     "elapsed": 11728,
     "status": "ok",
     "timestamp": 1630703270438,
     "user": {
      "displayName": "ANA GEORGINA FLESIA",
      "photoUrl": "https://lh3.googleusercontent.com/a-/AOh14GhEzdrRs7t9rM7bZMeG13bgILnDQQBYsSPcsT4=s64",
      "userId": "06600501239941405182"
     },
     "user_tz": 180
    },
    "id": "m9880NthCb9j",
    "outputId": "70dd3c26-b20d-4e68-c03d-d8cb0406dd41"
   },
   "outputs": [],
   "source": [
    "for title, normalize in titles_options:\n",
    "    disp = plot_confusion_matrix(svc.fit(X_train, y_train), X_test, y_test,\n",
    "                                  display_labels=['ATT', 'MID', 'DEF', 'GK'],\n",
    "                                  cmap='Blues',\n",
    "                                  normalize=normalize)\n",
    "    disp.ax_.set_title(title)"
   ]
  },
  {
   "cell_type": "code",
   "execution_count": null,
   "metadata": {
    "executionInfo": {
     "elapsed": 282,
     "status": "ok",
     "timestamp": 1630703297107,
     "user": {
      "displayName": "ANA GEORGINA FLESIA",
      "photoUrl": "https://lh3.googleusercontent.com/a-/AOh14GhEzdrRs7t9rM7bZMeG13bgILnDQQBYsSPcsT4=s64",
      "userId": "06600501239941405182"
     },
     "user_tz": 180
    },
    "id": "eYkidC89Cb9j"
   },
   "outputs": [],
   "source": [
    "import warnings\n",
    "warnings.filterwarnings(\"ignore\")"
   ]
  },
  {
   "cell_type": "markdown",
   "metadata": {
    "id": "OGZxFj0wrVP0"
   },
   "source": [
    "# Logistic regression"
   ]
  },
  {
   "cell_type": "code",
   "execution_count": null,
   "metadata": {
    "colab": {
     "base_uri": "https://localhost:8080/"
    },
    "executionInfo": {
     "elapsed": 475837,
     "status": "ok",
     "timestamp": 1630703782845,
     "user": {
      "displayName": "ANA GEORGINA FLESIA",
      "photoUrl": "https://lh3.googleusercontent.com/a-/AOh14GhEzdrRs7t9rM7bZMeG13bgILnDQQBYsSPcsT4=s64",
      "userId": "06600501239941405182"
     },
     "user_tz": 180
    },
    "id": "iFggi_xmCb9k",
    "outputId": "b2132ebf-42af-4b89-99c9-e1ca92e968b7"
   },
   "outputs": [],
   "source": [
    "from sklearn.linear_model import LogisticRegression\n",
    "\n",
    "solver = ['liblinear', 'newton-cg', 'lbfgs', 'sag', 'saga']\n",
    "C = np.logspace(-2, 10, 13)\n",
    "\n",
    "pipe_lr = Pipeline([\n",
    "    ('sc', StandardScaler()),\n",
    "    ('LR', LogisticRegression())\n",
    "    ])\n",
    "\n",
    "params_lr = {\n",
    "    'LR__C': C,\n",
    "    'LR__solver': solver\n",
    "    }\n",
    "\n",
    "search_lr = GridSearchCV(estimator=pipe_lr,\n",
    "                      param_grid=params_lr,\n",
    "                      cv = 5,\n",
    "                      return_train_score=True)\n",
    "\n",
    "search_lr.fit(X_train, y_train)\n",
    "print(f\" Best score is: {search_lr.best_score_} with parameters: {search_lr.best_params_}\")"
   ]
  },
  {
   "cell_type": "code",
   "execution_count": null,
   "metadata": {
    "executionInfo": {
     "elapsed": 15319,
     "status": "ok",
     "timestamp": 1630703842230,
     "user": {
      "displayName": "ANA GEORGINA FLESIA",
      "photoUrl": "https://lh3.googleusercontent.com/a-/AOh14GhEzdrRs7t9rM7bZMeG13bgILnDQQBYsSPcsT4=s64",
      "userId": "06600501239941405182"
     },
     "user_tz": 180
    },
    "id": "8isGm_jOCb9k"
   },
   "outputs": [],
   "source": [
    "lr = LogisticRegression(C=10, solver='newton-cg') \n",
    "lr.fit(X_train,y_train)\n",
    "y_pred_lr = lr.predict(X_test)"
   ]
  },
  {
   "cell_type": "code",
   "execution_count": null,
   "metadata": {
    "colab": {
     "base_uri": "https://localhost:8080/"
    },
    "executionInfo": {
     "elapsed": 271,
     "status": "ok",
     "timestamp": 1630703846523,
     "user": {
      "displayName": "ANA GEORGINA FLESIA",
      "photoUrl": "https://lh3.googleusercontent.com/a-/AOh14GhEzdrRs7t9rM7bZMeG13bgILnDQQBYsSPcsT4=s64",
      "userId": "06600501239941405182"
     },
     "user_tz": 180
    },
    "id": "mHhGlKGECb9k",
    "outputId": "36eb04ce-bc01-49ee-d033-38ef7a4bcdb1"
   },
   "outputs": [],
   "source": [
    "# Report\n",
    "print(metrics.classification_report(y_pred_lr,y_test, digits = 3))\n",
    "print('accuracy: ', metrics.accuracy_score(y_pred_lr,y_test))"
   ]
  },
  {
   "cell_type": "code",
   "execution_count": null,
   "metadata": {
    "colab": {
     "base_uri": "https://localhost:8080/",
     "height": 573
    },
    "executionInfo": {
     "elapsed": 31217,
     "status": "ok",
     "timestamp": 1630703880274,
     "user": {
      "displayName": "ANA GEORGINA FLESIA",
      "photoUrl": "https://lh3.googleusercontent.com/a-/AOh14GhEzdrRs7t9rM7bZMeG13bgILnDQQBYsSPcsT4=s64",
      "userId": "06600501239941405182"
     },
     "user_tz": 180
    },
    "id": "CMzsJDVUCb9l",
    "outputId": "d8ec4012-effe-44f4-8b58-db1dcd0b4f21"
   },
   "outputs": [],
   "source": [
    "for title, normalize in titles_options:\n",
    "    disp = plot_confusion_matrix(lr.fit(X_train, y_train), X_test, y_test,\n",
    "                                  display_labels=['ATT', 'MID', 'DEF', 'GK'],\n",
    "                                  cmap='Blues',\n",
    "                                  normalize=normalize)\n",
    "    disp.ax_.set_title(title)"
   ]
  },
  {
   "cell_type": "markdown",
   "metadata": {
    "id": "iXYuSACgrfhd"
   },
   "source": [
    "## Gradient Boosting Classifier"
   ]
  },
  {
   "cell_type": "markdown",
   "metadata": {},
   "source": [
    "### A continuación se pretende realizar un mejoramiento de los parámetros del algoritmo Gradient Boosting Classifier. Para ello se probarán diferentes combinaciones de algunos parámetros que seran considerados dentro de ciertos rangos y se buscara la combinación óptima. Los parámetros que se utilizaran con valores diferentes a los establecidos por defecto son: **min_samples_split**, **subsample**,**max_depth**, **learning_rate**, **n_estimators**."
   ]
  },
  {
   "cell_type": "code",
   "execution_count": null,
   "metadata": {},
   "outputs": [],
   "source": [
    "from sklearn.model_selection import RandomizedSearchCV, GridSearchCV\n",
    "from sklearn.model_selection import StratifiedKFold\n",
    "from datetime import datetime\n",
    "params = {\n",
    "        'min_samples_split':[180, 370],\n",
    "        'subsample': [0.6, 0.8, 1.0],\n",
    "        'max_depth': [5,8]\n",
    "        }\n",
    "GBC =  ensemble.GradientBoostingClassifier(learning_rate=0.02, n_estimators=600,min_samples_leaf = 50, warm_start=True)\n",
    "folds = 3\n",
    "param_comb = 3\n",
    "\n",
    "skf = StratifiedKFold(n_splits=folds, shuffle = True, random_state = 1001)\n",
    "\n",
    "random_search = RandomizedSearchCV(GBC, param_distributions=params, n_iter=param_comb, n_jobs=4, cv=skf.split(X_train,y_train), verbose=3, random_state=1001 )\n",
    "random_search.fit(X_train,y_train)\n",
    "print('\\n Mejores hypermarametros:')\n",
    "print(random_search.best_params_)\n"
   ]
  },
  {
   "cell_type": "markdown",
   "metadata": {},
   "source": [
    "**El clasificador Gradient Boosting queda determinado por los siguientes parametros:**"
   ]
  },
  {
   "cell_type": "code",
   "execution_count": null,
   "metadata": {
    "executionInfo": {
     "elapsed": 253,
     "status": "ok",
     "timestamp": 1630718086853,
     "user": {
      "displayName": "ANA GEORGINA FLESIA",
      "photoUrl": "https://lh3.googleusercontent.com/a-/AOh14GhEzdrRs7t9rM7bZMeG13bgILnDQQBYsSPcsT4=s64",
      "userId": "06600501239941405182"
     },
     "user_tz": 180
    },
    "id": "t5V4q57lWn7I"
   },
   "outputs": [],
   "source": [
    "ejemplos = np.array([[ 'Parametro', 'Valor'],\n",
    "['criterion', 'friedman_mse'], \n",
    "['init', 'None'],\n",
    "['learning_rate', 0.02], \n",
    "['loss', 'deviance'], \n",
    "['max_depth' ,8],\n",
    "['max_features', 'None'], \n",
    "['max_leaf_nodes','None'],\n",
    "['min_impurity_decrease',0.0], \n",
    "['min_impurity_split','None'],\n",
    "['min_samples_leaf',50], \n",
    "['min_samples_split',180],\n",
    "['min_weight_fraction_leaf',0.0], \n",
    "['n_estimators', 600],\n",
    "['n_iter_no_change','None'], \n",
    "['presort','auto'],\n",
    "['random_state','None'], \n",
    "['subsample',0.6], \n",
    "['tol', 0.0001],\n",
    "['validation_fraction',0.1], \n",
    "['verbose',0], \n",
    "['warm_start',True]])\n",
    "Parametros = pd.DataFrame(data=ejemplos[1:,0:],\n",
    "                   columns = ejemplos[0,0:])"
   ]
  },
  {
   "cell_type": "code",
   "execution_count": null,
   "metadata": {
    "id": "jNn6ScBPWtgI"
   },
   "outputs": [],
   "source": [
    "GBC=ensemble.GradientBoostingClassifier(criterion='friedman_mse', init=None,\n",
    "                           learning_rate=0.02, loss='deviance', max_depth=8,\n",
    "                           max_features=None, max_leaf_nodes=None,\n",
    "                           min_impurity_decrease=0.0, min_impurity_split=None,\n",
    "                           min_samples_leaf=50, min_samples_split=180,\n",
    "                           min_weight_fraction_leaf=0.0, n_estimators=600,\n",
    "                           n_iter_no_change=None,\n",
    "                           random_state=None, subsample=0.6, tol=0.0001,\n",
    "                           validation_fraction=0.1, verbose=0, warm_start=True)\n",
    "GBC_model  = GBC.fit(X_train,y_train)\n",
    "\n",
    "y_pred_GBC = GBC.predict(X_test)\n",
    "\n",
    "print('Exactitud del clasificador Gradient Boost Classifier en la base de prueba: {:.2f}'.format(GBC.score(X_test, y_test)))"
   ]
  },
  {
   "cell_type": "code",
   "execution_count": null,
   "metadata": {},
   "outputs": [],
   "source": [
    "print(metrics.classification_report(y_pred_GBC,y_test, digits = 3))\n",
    "print('accuracy: ', metrics.accuracy_score(y_pred_GBC,y_test))"
   ]
  },
  {
   "cell_type": "code",
   "execution_count": null,
   "metadata": {},
   "outputs": [],
   "source": [
    "for title, normalize in titles_options:\n",
    "    disp = plot_confusion_matrix(GBC_model, X_test, y_test,\n",
    "                                  display_labels=['ATT', 'MID', 'DEF', 'GK'],\n",
    "                                  cmap='Blues',\n",
    "                                  normalize=normalize)\n",
    "    disp.ax_.set_title(title)"
   ]
  },
  {
   "cell_type": "markdown",
   "metadata": {
    "id": "3d3-TKpJsaLn"
   },
   "source": [
    "# XGboost\n",
    "XGBoost es un algoritmo de aprendizaje automático de conjunto basado en un árbol de decisión que utiliza un marco de refuerzo de gradiente.\n",
    "\n",
    "## Parametros generales\n",
    "Se relacionan con el refuerzo que estamos utilizando para impulsar, comúnmente árbol o modelo lineal\n",
    "\n",
    "booster [default= gbtree ] Qué booster usar. Puede ser gbtree, gblinear o dart; gbtree y dart usan modelos basados en árboles, mientras que gblinear usa funciones lineales.\n",
    "\n",
    "silent [default=0] [Deprecated] Obsoleto. Por favor, use verbosidad en su lugar.\n",
    "\n",
    "verbosity [default=1] Verbosidad de la impresión de mensajes. Los valores válidos son 0 (silencioso), 1 (advertencia), 2 (información), 3 (depuración). A veces, XGBoost intenta cambiar las configuraciones en función de la heurística, que se muestra como mensaje de advertencia. Si hay un comportamiento inesperado, intente aumentar el valor de la verbosidad.\n",
    "\n",
    "nthread [default to maximum number of threads available if not set] Número de subprocesos paralelos utilizados para ejecutar XGBoost.\n",
    "\n",
    "disable_default_eval_metric [default=0] Marcador para deshabilitar la métrica predeterminada. Establezca en> 0 para deshabilitar.\n",
    "\n",
    "num_pbuffer [set automatically by XGBoost, no need to be set by user] Tamaño del búfer de predicción, normalmente establecido en el número de instancias de entrenamiento. Los buffers se utilizan para guardar los resultados de predicción del último paso de refuerzo.\n",
    "\n",
    "num_feature [set automatically by XGBoost, no need to be set by user] Dimensión de la característica utilizada para impulsar, establecer en la dimensión máxima de la característica."
   ]
  },
  {
   "cell_type": "markdown",
   "metadata": {
    "id": "W4SegM5PXOuU"
   },
   "source": [
    "Analogamente a lo hecho con anterioridad se pretende realizar un mejoramiento de los parámetros del clasificador XGBoost. Para ello se probarán diferentes combinaciones de algunos parámetros que seran considerados dentro de ciertos rangos y se buscara la combinación óptima. Los parámetros que se modificaran son algunos de los que estan relacionados con párametros generales y párametros del árbol: min_child_weight,gamma,subsample,colsample_bytree, max_depth, learning_rate, objective, nthread."
   ]
  },
  {
   "cell_type": "code",
   "execution_count": null,
   "metadata": {
    "id": "-jt0HUCTXTF-"
   },
   "outputs": [],
   "source": [
    "params = {\n",
    "        'min_child_weight': [1, 5, 10],\n",
    "        'gamma': [0.5, 1, 1.5, 2, 5],\n",
    "        'subsample': [0.6, 0.8, 1.0],\n",
    "        'colsample_bytree': [0.6, 0.8, 1.0],\n",
    "        'max_depth': [3, 4, 5]\n",
    "        }\n",
    "        \n",
    "xgb = XGBClassifier(learning_rate=0.02, n_estimators=600, objective='binary:logistic',\n",
    "                    silent=True, nthread=1)"
   ]
  },
  {
   "cell_type": "code",
   "execution_count": null,
   "metadata": {
    "id": "0AcXrKg_Xgh6"
   },
   "outputs": [],
   "source": [
    "folds = 3\n",
    "param_comb = 5\n",
    "\n",
    "skf = StratifiedKFold(n_splits=folds, shuffle = True, random_state = 1001)\n",
    "\n",
    "random_search = RandomizedSearchCV(xgb, param_distributions=params, n_iter=param_comb, n_jobs=4, cv=skf.split(X_train,y_train), verbose=3, random_state=1001 )\n",
    "\n",
    "#start_time = timer(None) # timing starts from this point for \"start_time\" variable\n",
    "random_search.fit(X_train,y_train)\n",
    "#timer(start_time) # timing ends here for \"start_time\" variable\n",
    "\n",
    "print('\\n Mejores hyperparametros:')\n",
    "print(random_search.best_params_)\n",
    "results = pd.DataFrame(random_search.cv_results_)\n"
   ]
  },
  {
   "cell_type": "code",
   "execution_count": null,
   "metadata": {
    "executionInfo": {
     "elapsed": 859,
     "status": "ok",
     "timestamp": 1630704949727,
     "user": {
      "displayName": "ANA GEORGINA FLESIA",
      "photoUrl": "https://lh3.googleusercontent.com/a-/AOh14GhEzdrRs7t9rM7bZMeG13bgILnDQQBYsSPcsT4=s64",
      "userId": "06600501239941405182"
     },
     "user_tz": 180
    },
    "id": "SKbfIRGFCb9o"
   },
   "outputs": [],
   "source": [
    "\n",
    "from xgboost import XGBClassifier\n",
    "from datetime import datetime"
   ]
  },
  {
   "cell_type": "code",
   "execution_count": null,
   "metadata": {
    "colab": {
     "base_uri": "https://localhost:8080/"
    },
    "executionInfo": {
     "elapsed": 54713,
     "status": "ok",
     "timestamp": 1630706887934,
     "user": {
      "displayName": "ANA GEORGINA FLESIA",
      "photoUrl": "https://lh3.googleusercontent.com/a-/AOh14GhEzdrRs7t9rM7bZMeG13bgILnDQQBYsSPcsT4=s64",
      "userId": "06600501239941405182"
     },
     "user_tz": 180
    },
    "id": "S_AGMUL1jqez",
    "outputId": "414321c9-9f06-463e-e183-e3c940a2e752"
   },
   "outputs": [],
   "source": [
    "xgb = XGBClassifier(base_score=0.5, booster='gbtree', colsample_bylevel=1,\n",
    "       colsample_bytree=0.8, gamma=1.5, learning_rate=0.02,\n",
    "       max_delta_step=0, max_depth=5, min_child_weight=1, missing=None,\n",
    "       n_estimators=600, n_jobs=1, nthread=1, objective='multi:softprob',\n",
    "       random_state=0, reg_alpha=0, reg_lambda=1, scale_pos_weight=1,\n",
    "       seed=None, silent=True, subsample=0.6)\n",
    "\n",
    "XGB=xgb.fit(X_train,y_train)\n",
    "\n",
    "y_pred_xgb = xgb.predict(X_test)\n",
    "\n",
    "print('Accuracy of XGBClassifier on test set: {:.2f}'.format(xgb.score(X_test, y_test)))"
   ]
  },
  {
   "cell_type": "code",
   "execution_count": null,
   "metadata": {
    "colab": {
     "base_uri": "https://localhost:8080/"
    },
    "executionInfo": {
     "elapsed": 283,
     "status": "ok",
     "timestamp": 1630705015097,
     "user": {
      "displayName": "ANA GEORGINA FLESIA",
      "photoUrl": "https://lh3.googleusercontent.com/a-/AOh14GhEzdrRs7t9rM7bZMeG13bgILnDQQBYsSPcsT4=s64",
      "userId": "06600501239941405182"
     },
     "user_tz": 180
    },
    "id": "kR0njo6_ks00",
    "outputId": "56c74c73-dda0-4605-c2c6-c97eaed9d38d"
   },
   "outputs": [],
   "source": [
    "# Report\n",
    "print(metrics.classification_report(y_pred_xgb,y_test, digits = 3))\n",
    "print('accuracy: ', metrics.accuracy_score(y_pred_xgb,y_test))"
   ]
  },
  {
   "cell_type": "code",
   "execution_count": null,
   "metadata": {
    "colab": {
     "base_uri": "https://localhost:8080/",
     "height": 573
    },
    "executionInfo": {
     "elapsed": 108712,
     "status": "ok",
     "timestamp": 1630705147830,
     "user": {
      "displayName": "ANA GEORGINA FLESIA",
      "photoUrl": "https://lh3.googleusercontent.com/a-/AOh14GhEzdrRs7t9rM7bZMeG13bgILnDQQBYsSPcsT4=s64",
      "userId": "06600501239941405182"
     },
     "user_tz": 180
    },
    "id": "BRelbMGTlD1c",
    "outputId": "57e639d4-784d-42d2-9552-0cfeda1db4a0"
   },
   "outputs": [],
   "source": [
    "for title, normalize in titles_options:\n",
    "    disp = plot_confusion_matrix(XGB, X_test, y_test,\n",
    "                                  display_labels=['ATT', 'MID', 'DEF', 'GK'],\n",
    "                                  cmap='Blues',\n",
    "                                  normalize=normalize)\n",
    "    disp.ax_.set_title(title)"
   ]
  },
  {
   "cell_type": "code",
   "execution_count": null,
   "metadata": {},
   "outputs": [],
   "source": []
  },
  {
   "cell_type": "code",
   "execution_count": null,
   "metadata": {},
   "outputs": [],
   "source": []
  }
 ],
 "metadata": {
  "colab": {
   "name": " fifa_classification.ipynb",
   "provenance": [
    {
     "file_id": "18jPxojx9bxyF_OtjaqVa_nR1CBobf4Ev",
     "timestamp": 1630696722663
    }
   ]
  },
  "kernelspec": {
   "display_name": "Python 3",
   "language": "python",
   "name": "python3"
  },
  "language_info": {
   "codemirror_mode": {
    "name": "ipython",
    "version": 3
   },
   "file_extension": ".py",
   "mimetype": "text/x-python",
   "name": "python",
   "nbconvert_exporter": "python",
   "pygments_lexer": "ipython3",
   "version": "3.7.3"
  }
 },
 "nbformat": 4,
 "nbformat_minor": 1
}
