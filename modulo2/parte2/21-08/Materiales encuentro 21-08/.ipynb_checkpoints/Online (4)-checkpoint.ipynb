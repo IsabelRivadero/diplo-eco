{
 "cells": [
  {
   "cell_type": "markdown",
   "metadata": {
    "id": "TLXqqLf62tFM"
   },
   "source": [
    "“Online” es un conjunto de que contiene todas las transacciones que ocurrieron entre el 01/12/2010 y el 09/12/2011 para un comercio minorista en línea (Reino Unido). La empresa vende principalmente regalos únicos para todas las ocasiones. Muchos clientes de la empresa son mayoristas.  El objetivo es realizar un agrupamiento de los clientes y elegir a qué grupos dirigirse.\n",
    "Vamos a analizar los Clientes en función de los siguientes factores: \n",
    "\n",
    "* Días: número de días desde la última compra \n",
    "* Frecuencia: número de transacciones \n",
    "* Gasto: gastos totales \n"
   ]
  },
  {
   "cell_type": "markdown",
   "metadata": {
    "id": "TLAKP_648Se4"
   },
   "source": [
    " 1. Cargamos las librerias y los datos"
   ]
  },
  {
   "cell_type": "code",
   "execution_count": 9,
   "metadata": {
    "executionInfo": {
     "elapsed": 250,
     "status": "ok",
     "timestamp": 1629496553776,
     "user": {
      "displayName": "ANA GEORGINA FLESIA",
      "photoUrl": "https://lh3.googleusercontent.com/a-/AOh14GhEzdrRs7t9rM7bZMeG13bgILnDQQBYsSPcsT4=s64",
      "userId": "06600501239941405182"
     },
     "user_tz": 180
    },
    "id": "ntzqI_Ei24do"
   },
   "outputs": [],
   "source": [
    "# Importamos librerias para manejo de los datos\n",
    "\n",
    "import numpy as np\n",
    "import pandas as pd\n",
    "import matplotlib.pyplot as plt\n",
    "import seaborn as sns\n",
    "import datetime as dt\n",
    "\n",
    "# Import librerias para análisis de cluster\n",
    "import sklearn\n",
    "from sklearn.preprocessing import StandardScaler\n",
    "from sklearn.cluster import KMeans\n",
    "from sklearn.metrics import silhouette_score\n",
    "from scipy.cluster.hierarchy import linkage\n",
    "from scipy.cluster.hierarchy import dendrogram\n",
    "from scipy.cluster.hierarchy import cut_tree"
   ]
  },
  {
   "cell_type": "code",
   "execution_count": 10,
   "metadata": {
    "colab": {
     "base_uri": "https://localhost:8080/",
     "height": 203
    },
    "executionInfo": {
     "elapsed": 44170,
     "status": "ok",
     "timestamp": 1629496600860,
     "user": {
      "displayName": "ANA GEORGINA FLESIA",
      "photoUrl": "https://lh3.googleusercontent.com/a-/AOh14GhEzdrRs7t9rM7bZMeG13bgILnDQQBYsSPcsT4=s64",
      "userId": "06600501239941405182"
     },
     "user_tz": 180
    },
    "id": "tSD0_G9q3Dja",
    "outputId": "74ac9a97-4cf2-4693-f0b7-262906339dd3"
   },
   "outputs": [
    {
     "data": {
      "text/html": [
       "<div>\n",
       "<style scoped>\n",
       "    .dataframe tbody tr th:only-of-type {\n",
       "        vertical-align: middle;\n",
       "    }\n",
       "\n",
       "    .dataframe tbody tr th {\n",
       "        vertical-align: top;\n",
       "    }\n",
       "\n",
       "    .dataframe thead th {\n",
       "        text-align: right;\n",
       "    }\n",
       "</style>\n",
       "<table border=\"1\" class=\"dataframe\">\n",
       "  <thead>\n",
       "    <tr style=\"text-align: right;\">\n",
       "      <th></th>\n",
       "      <th>InvoiceNo</th>\n",
       "      <th>StockCode</th>\n",
       "      <th>Description</th>\n",
       "      <th>Quantity</th>\n",
       "      <th>InvoiceDate</th>\n",
       "      <th>UnitPrice</th>\n",
       "      <th>CustomerID</th>\n",
       "      <th>Country</th>\n",
       "    </tr>\n",
       "  </thead>\n",
       "  <tbody>\n",
       "    <tr>\n",
       "      <th>0</th>\n",
       "      <td>536365</td>\n",
       "      <td>85123A</td>\n",
       "      <td>WHITE HANGING HEART T-LIGHT HOLDER</td>\n",
       "      <td>6</td>\n",
       "      <td>2010-12-01 08:26:00</td>\n",
       "      <td>2.55</td>\n",
       "      <td>17850.0</td>\n",
       "      <td>United Kingdom</td>\n",
       "    </tr>\n",
       "    <tr>\n",
       "      <th>1</th>\n",
       "      <td>536365</td>\n",
       "      <td>71053</td>\n",
       "      <td>WHITE METAL LANTERN</td>\n",
       "      <td>6</td>\n",
       "      <td>2010-12-01 08:26:00</td>\n",
       "      <td>3.39</td>\n",
       "      <td>17850.0</td>\n",
       "      <td>United Kingdom</td>\n",
       "    </tr>\n",
       "    <tr>\n",
       "      <th>2</th>\n",
       "      <td>536365</td>\n",
       "      <td>84406B</td>\n",
       "      <td>CREAM CUPID HEARTS COAT HANGER</td>\n",
       "      <td>8</td>\n",
       "      <td>2010-12-01 08:26:00</td>\n",
       "      <td>2.75</td>\n",
       "      <td>17850.0</td>\n",
       "      <td>United Kingdom</td>\n",
       "    </tr>\n",
       "    <tr>\n",
       "      <th>3</th>\n",
       "      <td>536365</td>\n",
       "      <td>84029G</td>\n",
       "      <td>KNITTED UNION FLAG HOT WATER BOTTLE</td>\n",
       "      <td>6</td>\n",
       "      <td>2010-12-01 08:26:00</td>\n",
       "      <td>3.39</td>\n",
       "      <td>17850.0</td>\n",
       "      <td>United Kingdom</td>\n",
       "    </tr>\n",
       "    <tr>\n",
       "      <th>4</th>\n",
       "      <td>536365</td>\n",
       "      <td>84029E</td>\n",
       "      <td>RED WOOLLY HOTTIE WHITE HEART.</td>\n",
       "      <td>6</td>\n",
       "      <td>2010-12-01 08:26:00</td>\n",
       "      <td>3.39</td>\n",
       "      <td>17850.0</td>\n",
       "      <td>United Kingdom</td>\n",
       "    </tr>\n",
       "  </tbody>\n",
       "</table>\n",
       "</div>"
      ],
      "text/plain": [
       "  InvoiceNo StockCode  ... CustomerID         Country\n",
       "0    536365    85123A  ...    17850.0  United Kingdom\n",
       "1    536365     71053  ...    17850.0  United Kingdom\n",
       "2    536365    84406B  ...    17850.0  United Kingdom\n",
       "3    536365    84029G  ...    17850.0  United Kingdom\n",
       "4    536365    84029E  ...    17850.0  United Kingdom\n",
       "\n",
       "[5 rows x 8 columns]"
      ]
     },
     "execution_count": 10,
     "metadata": {},
     "output_type": "execute_result"
    }
   ],
   "source": [
    "# Lectura de los datos\n",
    "\n",
    "\n",
    "retail = pd.read_excel('/content/sample_data/Online.xlsx')\n",
    "retail.head()"
   ]
  },
  {
   "cell_type": "code",
   "execution_count": 11,
   "metadata": {
    "colab": {
     "base_uri": "https://localhost:8080/"
    },
    "executionInfo": {
     "elapsed": 375,
     "status": "ok",
     "timestamp": 1629496609177,
     "user": {
      "displayName": "ANA GEORGINA FLESIA",
      "photoUrl": "https://lh3.googleusercontent.com/a-/AOh14GhEzdrRs7t9rM7bZMeG13bgILnDQQBYsSPcsT4=s64",
      "userId": "06600501239941405182"
     },
     "user_tz": 180
    },
    "id": "MbwHKpC1PBO2",
    "outputId": "08e9f766-4aed-4db2-982c-305af268ca6e"
   },
   "outputs": [
    {
     "data": {
      "text/plain": [
       "(541909, 8)"
      ]
     },
     "execution_count": 11,
     "metadata": {},
     "output_type": "execute_result"
    }
   ],
   "source": [
    "# Forma del objeto\n",
    "retail.shape"
   ]
  },
  {
   "cell_type": "code",
   "execution_count": 12,
   "metadata": {
    "colab": {
     "base_uri": "https://localhost:8080/",
     "height": 295
    },
    "executionInfo": {
     "elapsed": 250,
     "status": "ok",
     "timestamp": 1629496613976,
     "user": {
      "displayName": "ANA GEORGINA FLESIA",
      "photoUrl": "https://lh3.googleusercontent.com/a-/AOh14GhEzdrRs7t9rM7bZMeG13bgILnDQQBYsSPcsT4=s64",
      "userId": "06600501239941405182"
     },
     "user_tz": 180
    },
    "id": "mT6FYQT5NnAl",
    "outputId": "6bc5fb45-0e63-41a8-d671-0c3a156e43b4"
   },
   "outputs": [
    {
     "data": {
      "text/html": [
       "<div>\n",
       "<style scoped>\n",
       "    .dataframe tbody tr th:only-of-type {\n",
       "        vertical-align: middle;\n",
       "    }\n",
       "\n",
       "    .dataframe tbody tr th {\n",
       "        vertical-align: top;\n",
       "    }\n",
       "\n",
       "    .dataframe thead th {\n",
       "        text-align: right;\n",
       "    }\n",
       "</style>\n",
       "<table border=\"1\" class=\"dataframe\">\n",
       "  <thead>\n",
       "    <tr style=\"text-align: right;\">\n",
       "      <th></th>\n",
       "      <th>Quantity</th>\n",
       "      <th>UnitPrice</th>\n",
       "      <th>CustomerID</th>\n",
       "    </tr>\n",
       "  </thead>\n",
       "  <tbody>\n",
       "    <tr>\n",
       "      <th>count</th>\n",
       "      <td>541909.000000</td>\n",
       "      <td>541909.000000</td>\n",
       "      <td>406829.000000</td>\n",
       "    </tr>\n",
       "    <tr>\n",
       "      <th>mean</th>\n",
       "      <td>9.552250</td>\n",
       "      <td>4.611114</td>\n",
       "      <td>15287.690570</td>\n",
       "    </tr>\n",
       "    <tr>\n",
       "      <th>std</th>\n",
       "      <td>218.081158</td>\n",
       "      <td>96.759853</td>\n",
       "      <td>1713.600303</td>\n",
       "    </tr>\n",
       "    <tr>\n",
       "      <th>min</th>\n",
       "      <td>-80995.000000</td>\n",
       "      <td>-11062.060000</td>\n",
       "      <td>12346.000000</td>\n",
       "    </tr>\n",
       "    <tr>\n",
       "      <th>25%</th>\n",
       "      <td>1.000000</td>\n",
       "      <td>1.250000</td>\n",
       "      <td>13953.000000</td>\n",
       "    </tr>\n",
       "    <tr>\n",
       "      <th>50%</th>\n",
       "      <td>3.000000</td>\n",
       "      <td>2.080000</td>\n",
       "      <td>15152.000000</td>\n",
       "    </tr>\n",
       "    <tr>\n",
       "      <th>75%</th>\n",
       "      <td>10.000000</td>\n",
       "      <td>4.130000</td>\n",
       "      <td>16791.000000</td>\n",
       "    </tr>\n",
       "    <tr>\n",
       "      <th>max</th>\n",
       "      <td>80995.000000</td>\n",
       "      <td>38970.000000</td>\n",
       "      <td>18287.000000</td>\n",
       "    </tr>\n",
       "  </tbody>\n",
       "</table>\n",
       "</div>"
      ],
      "text/plain": [
       "            Quantity      UnitPrice     CustomerID\n",
       "count  541909.000000  541909.000000  406829.000000\n",
       "mean        9.552250       4.611114   15287.690570\n",
       "std       218.081158      96.759853    1713.600303\n",
       "min    -80995.000000  -11062.060000   12346.000000\n",
       "25%         1.000000       1.250000   13953.000000\n",
       "50%         3.000000       2.080000   15152.000000\n",
       "75%        10.000000       4.130000   16791.000000\n",
       "max     80995.000000   38970.000000   18287.000000"
      ]
     },
     "execution_count": 12,
     "metadata": {},
     "output_type": "execute_result"
    }
   ],
   "source": [
    "#Análisis descriptivo\n",
    "retail.describe() "
   ]
  },
  {
   "cell_type": "markdown",
   "metadata": {
    "id": "GhscURTBOVjp"
   },
   "source": [
    "2. Limpieza de los datos\n"
   ]
  },
  {
   "cell_type": "code",
   "execution_count": 13,
   "metadata": {
    "colab": {
     "base_uri": "https://localhost:8080/"
    },
    "executionInfo": {
     "elapsed": 261,
     "status": "ok",
     "timestamp": 1629496617740,
     "user": {
      "displayName": "ANA GEORGINA FLESIA",
      "photoUrl": "https://lh3.googleusercontent.com/a-/AOh14GhEzdrRs7t9rM7bZMeG13bgILnDQQBYsSPcsT4=s64",
      "userId": "06600501239941405182"
     },
     "user_tz": 180
    },
    "id": "d6fTbzd-ObFU",
    "outputId": "217cf1ba-d573-4987-b05c-3f4686050448"
   },
   "outputs": [
    {
     "data": {
      "text/plain": [
       "(406829, 8)"
      ]
     },
     "execution_count": 13,
     "metadata": {},
     "output_type": "execute_result"
    }
   ],
   "source": [
    "#Eliminamos filas con valores perdidos\n",
    "retail = retail.dropna()\n",
    "retail.shape"
   ]
  },
  {
   "cell_type": "code",
   "execution_count": 14,
   "metadata": {
    "colab": {
     "base_uri": "https://localhost:8080/",
     "height": 203
    },
    "executionInfo": {
     "elapsed": 245,
     "status": "ok",
     "timestamp": 1629496620789,
     "user": {
      "displayName": "ANA GEORGINA FLESIA",
      "photoUrl": "https://lh3.googleusercontent.com/a-/AOh14GhEzdrRs7t9rM7bZMeG13bgILnDQQBYsSPcsT4=s64",
      "userId": "06600501239941405182"
     },
     "user_tz": 180
    },
    "id": "cFAHftN_l5QW",
    "outputId": "9605b8e8-58b2-4e4c-8708-8e16fe1255fa"
   },
   "outputs": [
    {
     "data": {
      "text/html": [
       "<div>\n",
       "<style scoped>\n",
       "    .dataframe tbody tr th:only-of-type {\n",
       "        vertical-align: middle;\n",
       "    }\n",
       "\n",
       "    .dataframe tbody tr th {\n",
       "        vertical-align: top;\n",
       "    }\n",
       "\n",
       "    .dataframe thead th {\n",
       "        text-align: right;\n",
       "    }\n",
       "</style>\n",
       "<table border=\"1\" class=\"dataframe\">\n",
       "  <thead>\n",
       "    <tr style=\"text-align: right;\">\n",
       "      <th></th>\n",
       "      <th>CustomerID</th>\n",
       "      <th>Gasto</th>\n",
       "    </tr>\n",
       "  </thead>\n",
       "  <tbody>\n",
       "    <tr>\n",
       "      <th>0</th>\n",
       "      <td>12346.0</td>\n",
       "      <td>0.00</td>\n",
       "    </tr>\n",
       "    <tr>\n",
       "      <th>1</th>\n",
       "      <td>12347.0</td>\n",
       "      <td>4310.00</td>\n",
       "    </tr>\n",
       "    <tr>\n",
       "      <th>2</th>\n",
       "      <td>12348.0</td>\n",
       "      <td>1797.24</td>\n",
       "    </tr>\n",
       "    <tr>\n",
       "      <th>3</th>\n",
       "      <td>12349.0</td>\n",
       "      <td>1757.55</td>\n",
       "    </tr>\n",
       "    <tr>\n",
       "      <th>4</th>\n",
       "      <td>12350.0</td>\n",
       "      <td>334.40</td>\n",
       "    </tr>\n",
       "  </tbody>\n",
       "</table>\n",
       "</div>"
      ],
      "text/plain": [
       "   CustomerID    Gasto\n",
       "0     12346.0     0.00\n",
       "1     12347.0  4310.00\n",
       "2     12348.0  1797.24\n",
       "3     12349.0  1757.55\n",
       "4     12350.0   334.40"
      ]
     },
     "execution_count": 14,
     "metadata": {},
     "output_type": "execute_result"
    }
   ],
   "source": [
    "# Creamos la variable Gasto\n",
    "\n",
    "retail['Gasto'] = retail['Quantity']*retail['UnitPrice']\n",
    "rfm_m = retail.groupby('CustomerID')['Gasto'].sum()\n",
    "rfm_m = rfm_m.reset_index()\n",
    "rfm_m.head()"
   ]
  },
  {
   "cell_type": "code",
   "execution_count": 15,
   "metadata": {
    "colab": {
     "base_uri": "https://localhost:8080/",
     "height": 203
    },
    "executionInfo": {
     "elapsed": 269,
     "status": "ok",
     "timestamp": 1629496624804,
     "user": {
      "displayName": "ANA GEORGINA FLESIA",
      "photoUrl": "https://lh3.googleusercontent.com/a-/AOh14GhEzdrRs7t9rM7bZMeG13bgILnDQQBYsSPcsT4=s64",
      "userId": "06600501239941405182"
     },
     "user_tz": 180
    },
    "id": "IG42UQbutZbc",
    "outputId": "48f9ee2e-63dc-4e27-977c-c6062302c7c4"
   },
   "outputs": [
    {
     "data": {
      "text/html": [
       "<div>\n",
       "<style scoped>\n",
       "    .dataframe tbody tr th:only-of-type {\n",
       "        vertical-align: middle;\n",
       "    }\n",
       "\n",
       "    .dataframe tbody tr th {\n",
       "        vertical-align: top;\n",
       "    }\n",
       "\n",
       "    .dataframe thead th {\n",
       "        text-align: right;\n",
       "    }\n",
       "</style>\n",
       "<table border=\"1\" class=\"dataframe\">\n",
       "  <thead>\n",
       "    <tr style=\"text-align: right;\">\n",
       "      <th></th>\n",
       "      <th>CustomerID</th>\n",
       "      <th>Frequencia</th>\n",
       "    </tr>\n",
       "  </thead>\n",
       "  <tbody>\n",
       "    <tr>\n",
       "      <th>0</th>\n",
       "      <td>12346.0</td>\n",
       "      <td>2</td>\n",
       "    </tr>\n",
       "    <tr>\n",
       "      <th>1</th>\n",
       "      <td>12347.0</td>\n",
       "      <td>182</td>\n",
       "    </tr>\n",
       "    <tr>\n",
       "      <th>2</th>\n",
       "      <td>12348.0</td>\n",
       "      <td>31</td>\n",
       "    </tr>\n",
       "    <tr>\n",
       "      <th>3</th>\n",
       "      <td>12349.0</td>\n",
       "      <td>73</td>\n",
       "    </tr>\n",
       "    <tr>\n",
       "      <th>4</th>\n",
       "      <td>12350.0</td>\n",
       "      <td>17</td>\n",
       "    </tr>\n",
       "  </tbody>\n",
       "</table>\n",
       "</div>"
      ],
      "text/plain": [
       "   CustomerID  Frequencia\n",
       "0     12346.0           2\n",
       "1     12347.0         182\n",
       "2     12348.0          31\n",
       "3     12349.0          73\n",
       "4     12350.0          17"
      ]
     },
     "execution_count": 15,
     "metadata": {},
     "output_type": "execute_result"
    }
   ],
   "source": [
    "#Creamos la variable Frecuencia\n",
    "rfm_f = retail.groupby('CustomerID')['InvoiceNo'].count()\n",
    "rfm_f = rfm_f.reset_index()\n",
    "rfm_f.columns = ['CustomerID', 'Frequencia']\n",
    "rfm_f.head()"
   ]
  },
  {
   "cell_type": "code",
   "execution_count": 16,
   "metadata": {
    "colab": {
     "base_uri": "https://localhost:8080/",
     "height": 203
    },
    "executionInfo": {
     "elapsed": 307,
     "status": "ok",
     "timestamp": 1629496627803,
     "user": {
      "displayName": "ANA GEORGINA FLESIA",
      "photoUrl": "https://lh3.googleusercontent.com/a-/AOh14GhEzdrRs7t9rM7bZMeG13bgILnDQQBYsSPcsT4=s64",
      "userId": "06600501239941405182"
     },
     "user_tz": 180
    },
    "id": "ykeC1xHKGFwH",
    "outputId": "851f22fd-c2c6-494f-d8ad-8275ae75f805"
   },
   "outputs": [
    {
     "data": {
      "text/html": [
       "<div>\n",
       "<style scoped>\n",
       "    .dataframe tbody tr th:only-of-type {\n",
       "        vertical-align: middle;\n",
       "    }\n",
       "\n",
       "    .dataframe tbody tr th {\n",
       "        vertical-align: top;\n",
       "    }\n",
       "\n",
       "    .dataframe thead th {\n",
       "        text-align: right;\n",
       "    }\n",
       "</style>\n",
       "<table border=\"1\" class=\"dataframe\">\n",
       "  <thead>\n",
       "    <tr style=\"text-align: right;\">\n",
       "      <th></th>\n",
       "      <th>CustomerID</th>\n",
       "      <th>Gasto</th>\n",
       "      <th>Frequencia</th>\n",
       "    </tr>\n",
       "  </thead>\n",
       "  <tbody>\n",
       "    <tr>\n",
       "      <th>0</th>\n",
       "      <td>12346.0</td>\n",
       "      <td>0.00</td>\n",
       "      <td>2</td>\n",
       "    </tr>\n",
       "    <tr>\n",
       "      <th>1</th>\n",
       "      <td>12347.0</td>\n",
       "      <td>4310.00</td>\n",
       "      <td>182</td>\n",
       "    </tr>\n",
       "    <tr>\n",
       "      <th>2</th>\n",
       "      <td>12348.0</td>\n",
       "      <td>1797.24</td>\n",
       "      <td>31</td>\n",
       "    </tr>\n",
       "    <tr>\n",
       "      <th>3</th>\n",
       "      <td>12349.0</td>\n",
       "      <td>1757.55</td>\n",
       "      <td>73</td>\n",
       "    </tr>\n",
       "    <tr>\n",
       "      <th>4</th>\n",
       "      <td>12350.0</td>\n",
       "      <td>334.40</td>\n",
       "      <td>17</td>\n",
       "    </tr>\n",
       "  </tbody>\n",
       "</table>\n",
       "</div>"
      ],
      "text/plain": [
       "   CustomerID    Gasto  Frequencia\n",
       "0     12346.0     0.00           2\n",
       "1     12347.0  4310.00         182\n",
       "2     12348.0  1797.24          31\n",
       "3     12349.0  1757.55          73\n",
       "4     12350.0   334.40          17"
      ]
     },
     "execution_count": 16,
     "metadata": {},
     "output_type": "execute_result"
    }
   ],
   "source": [
    "#Unimos rfm_m y rfm_f\n",
    "rfm = pd.merge(rfm_m, rfm_f, on='CustomerID', how='inner')\n",
    "rfm.head()"
   ]
  },
  {
   "cell_type": "code",
   "execution_count": 17,
   "metadata": {
    "executionInfo": {
     "elapsed": 355,
     "status": "ok",
     "timestamp": 1629496632564,
     "user": {
      "displayName": "ANA GEORGINA FLESIA",
      "photoUrl": "https://lh3.googleusercontent.com/a-/AOh14GhEzdrRs7t9rM7bZMeG13bgILnDQQBYsSPcsT4=s64",
      "userId": "06600501239941405182"
     },
     "user_tz": 180
    },
    "id": "GFKbL6cMLvj9"
   },
   "outputs": [],
   "source": [
    "# Creamos la variable Dias. \n",
    "# Convertimos la variable fecha al tipo de datos apropiados\n",
    "\n",
    "retail['InvoiceDate'] = pd.to_datetime(retail['InvoiceDate'],format='%d-%m-%Y %H:%M')"
   ]
  },
  {
   "cell_type": "code",
   "execution_count": 18,
   "metadata": {
    "colab": {
     "base_uri": "https://localhost:8080/"
    },
    "executionInfo": {
     "elapsed": 1326,
     "status": "ok",
     "timestamp": 1629496637195,
     "user": {
      "displayName": "ANA GEORGINA FLESIA",
      "photoUrl": "https://lh3.googleusercontent.com/a-/AOh14GhEzdrRs7t9rM7bZMeG13bgILnDQQBYsSPcsT4=s64",
      "userId": "06600501239941405182"
     },
     "user_tz": 180
    },
    "id": "iw41Ijip_-Pf",
    "outputId": "1e0b6fa2-3512-4f2b-bdfe-e5b77f63d4e1"
   },
   "outputs": [
    {
     "data": {
      "text/plain": [
       "Timestamp('2011-12-09 12:50:00')"
      ]
     },
     "execution_count": 18,
     "metadata": {},
     "output_type": "execute_result"
    }
   ],
   "source": [
    "#Calculamos la fecha máxima para conocer la fecha de la última transacción\n",
    "max_date = max(retail['InvoiceDate'])\n",
    "max_date"
   ]
  },
  {
   "cell_type": "code",
   "execution_count": 19,
   "metadata": {
    "colab": {
     "base_uri": "https://localhost:8080/",
     "height": 287
    },
    "executionInfo": {
     "elapsed": 387,
     "status": "ok",
     "timestamp": 1629496639480,
     "user": {
      "displayName": "ANA GEORGINA FLESIA",
      "photoUrl": "https://lh3.googleusercontent.com/a-/AOh14GhEzdrRs7t9rM7bZMeG13bgILnDQQBYsSPcsT4=s64",
      "userId": "06600501239941405182"
     },
     "user_tz": 180
    },
    "id": "VMYJtkKgAUsY",
    "outputId": "abeba9cb-4641-40eb-d06d-2bf77bccdd26"
   },
   "outputs": [
    {
     "data": {
      "text/html": [
       "<div>\n",
       "<style scoped>\n",
       "    .dataframe tbody tr th:only-of-type {\n",
       "        vertical-align: middle;\n",
       "    }\n",
       "\n",
       "    .dataframe tbody tr th {\n",
       "        vertical-align: top;\n",
       "    }\n",
       "\n",
       "    .dataframe thead th {\n",
       "        text-align: right;\n",
       "    }\n",
       "</style>\n",
       "<table border=\"1\" class=\"dataframe\">\n",
       "  <thead>\n",
       "    <tr style=\"text-align: right;\">\n",
       "      <th></th>\n",
       "      <th>InvoiceNo</th>\n",
       "      <th>StockCode</th>\n",
       "      <th>Description</th>\n",
       "      <th>Quantity</th>\n",
       "      <th>InvoiceDate</th>\n",
       "      <th>UnitPrice</th>\n",
       "      <th>CustomerID</th>\n",
       "      <th>Country</th>\n",
       "      <th>Gasto</th>\n",
       "      <th>Dias</th>\n",
       "    </tr>\n",
       "  </thead>\n",
       "  <tbody>\n",
       "    <tr>\n",
       "      <th>0</th>\n",
       "      <td>536365</td>\n",
       "      <td>85123A</td>\n",
       "      <td>WHITE HANGING HEART T-LIGHT HOLDER</td>\n",
       "      <td>6</td>\n",
       "      <td>2010-12-01 08:26:00</td>\n",
       "      <td>2.55</td>\n",
       "      <td>17850.0</td>\n",
       "      <td>United Kingdom</td>\n",
       "      <td>15.30</td>\n",
       "      <td>373 days 04:24:00</td>\n",
       "    </tr>\n",
       "    <tr>\n",
       "      <th>1</th>\n",
       "      <td>536365</td>\n",
       "      <td>71053</td>\n",
       "      <td>WHITE METAL LANTERN</td>\n",
       "      <td>6</td>\n",
       "      <td>2010-12-01 08:26:00</td>\n",
       "      <td>3.39</td>\n",
       "      <td>17850.0</td>\n",
       "      <td>United Kingdom</td>\n",
       "      <td>20.34</td>\n",
       "      <td>373 days 04:24:00</td>\n",
       "    </tr>\n",
       "    <tr>\n",
       "      <th>2</th>\n",
       "      <td>536365</td>\n",
       "      <td>84406B</td>\n",
       "      <td>CREAM CUPID HEARTS COAT HANGER</td>\n",
       "      <td>8</td>\n",
       "      <td>2010-12-01 08:26:00</td>\n",
       "      <td>2.75</td>\n",
       "      <td>17850.0</td>\n",
       "      <td>United Kingdom</td>\n",
       "      <td>22.00</td>\n",
       "      <td>373 days 04:24:00</td>\n",
       "    </tr>\n",
       "    <tr>\n",
       "      <th>3</th>\n",
       "      <td>536365</td>\n",
       "      <td>84029G</td>\n",
       "      <td>KNITTED UNION FLAG HOT WATER BOTTLE</td>\n",
       "      <td>6</td>\n",
       "      <td>2010-12-01 08:26:00</td>\n",
       "      <td>3.39</td>\n",
       "      <td>17850.0</td>\n",
       "      <td>United Kingdom</td>\n",
       "      <td>20.34</td>\n",
       "      <td>373 days 04:24:00</td>\n",
       "    </tr>\n",
       "    <tr>\n",
       "      <th>4</th>\n",
       "      <td>536365</td>\n",
       "      <td>84029E</td>\n",
       "      <td>RED WOOLLY HOTTIE WHITE HEART.</td>\n",
       "      <td>6</td>\n",
       "      <td>2010-12-01 08:26:00</td>\n",
       "      <td>3.39</td>\n",
       "      <td>17850.0</td>\n",
       "      <td>United Kingdom</td>\n",
       "      <td>20.34</td>\n",
       "      <td>373 days 04:24:00</td>\n",
       "    </tr>\n",
       "  </tbody>\n",
       "</table>\n",
       "</div>"
      ],
      "text/plain": [
       "  InvoiceNo StockCode  ...  Gasto              Dias\n",
       "0    536365    85123A  ...  15.30 373 days 04:24:00\n",
       "1    536365     71053  ...  20.34 373 days 04:24:00\n",
       "2    536365    84406B  ...  22.00 373 days 04:24:00\n",
       "3    536365    84029G  ...  20.34 373 days 04:24:00\n",
       "4    536365    84029E  ...  20.34 373 days 04:24:00\n",
       "\n",
       "[5 rows x 10 columns]"
      ]
     },
     "execution_count": 19,
     "metadata": {},
     "output_type": "execute_result"
    }
   ],
   "source": [
    "#Calculamos la diferencia entre la fecha máxima y la fecha de la transacción\n",
    "retail['Dias'] = max_date - retail['InvoiceDate']\n",
    "retail.head()"
   ]
  },
  {
   "cell_type": "code",
   "execution_count": 20,
   "metadata": {
    "colab": {
     "base_uri": "https://localhost:8080/",
     "height": 203
    },
    "executionInfo": {
     "elapsed": 255,
     "status": "ok",
     "timestamp": 1629496643442,
     "user": {
      "displayName": "ANA GEORGINA FLESIA",
      "photoUrl": "https://lh3.googleusercontent.com/a-/AOh14GhEzdrRs7t9rM7bZMeG13bgILnDQQBYsSPcsT4=s64",
      "userId": "06600501239941405182"
     },
     "user_tz": 180
    },
    "id": "eua-yD_vBXVQ",
    "outputId": "e86e3547-0960-4050-c3e1-37778b89665c"
   },
   "outputs": [
    {
     "data": {
      "text/html": [
       "<div>\n",
       "<style scoped>\n",
       "    .dataframe tbody tr th:only-of-type {\n",
       "        vertical-align: middle;\n",
       "    }\n",
       "\n",
       "    .dataframe tbody tr th {\n",
       "        vertical-align: top;\n",
       "    }\n",
       "\n",
       "    .dataframe thead th {\n",
       "        text-align: right;\n",
       "    }\n",
       "</style>\n",
       "<table border=\"1\" class=\"dataframe\">\n",
       "  <thead>\n",
       "    <tr style=\"text-align: right;\">\n",
       "      <th></th>\n",
       "      <th>CustomerID</th>\n",
       "      <th>Dias</th>\n",
       "    </tr>\n",
       "  </thead>\n",
       "  <tbody>\n",
       "    <tr>\n",
       "      <th>0</th>\n",
       "      <td>12346.0</td>\n",
       "      <td>325 days 02:33:00</td>\n",
       "    </tr>\n",
       "    <tr>\n",
       "      <th>1</th>\n",
       "      <td>12347.0</td>\n",
       "      <td>1 days 20:58:00</td>\n",
       "    </tr>\n",
       "    <tr>\n",
       "      <th>2</th>\n",
       "      <td>12348.0</td>\n",
       "      <td>74 days 23:37:00</td>\n",
       "    </tr>\n",
       "    <tr>\n",
       "      <th>3</th>\n",
       "      <td>12349.0</td>\n",
       "      <td>18 days 02:59:00</td>\n",
       "    </tr>\n",
       "    <tr>\n",
       "      <th>4</th>\n",
       "      <td>12350.0</td>\n",
       "      <td>309 days 20:49:00</td>\n",
       "    </tr>\n",
       "  </tbody>\n",
       "</table>\n",
       "</div>"
      ],
      "text/plain": [
       "   CustomerID              Dias\n",
       "0     12346.0 325 days 02:33:00\n",
       "1     12347.0   1 days 20:58:00\n",
       "2     12348.0  74 days 23:37:00\n",
       "3     12349.0  18 days 02:59:00\n",
       "4     12350.0 309 days 20:49:00"
      ]
     },
     "execution_count": 20,
     "metadata": {},
     "output_type": "execute_result"
    }
   ],
   "source": [
    "#Calculamos la fecha de la última transacción para obtener la antigüedad de los clientes\n",
    "rfm_p = retail.groupby('CustomerID')['Dias'].min()\n",
    "rfm_p = rfm_p.reset_index()\n",
    "rfm_p.head()"
   ]
  },
  {
   "cell_type": "code",
   "execution_count": 21,
   "metadata": {
    "colab": {
     "base_uri": "https://localhost:8080/",
     "height": 203
    },
    "executionInfo": {
     "elapsed": 251,
     "status": "ok",
     "timestamp": 1629496646717,
     "user": {
      "displayName": "ANA GEORGINA FLESIA",
      "photoUrl": "https://lh3.googleusercontent.com/a-/AOh14GhEzdrRs7t9rM7bZMeG13bgILnDQQBYsSPcsT4=s64",
      "userId": "06600501239941405182"
     },
     "user_tz": 180
    },
    "id": "w_aO-yuWBpw8",
    "outputId": "abf85f9b-98be-4906-9e99-0e8b12f31afb"
   },
   "outputs": [
    {
     "data": {
      "text/html": [
       "<div>\n",
       "<style scoped>\n",
       "    .dataframe tbody tr th:only-of-type {\n",
       "        vertical-align: middle;\n",
       "    }\n",
       "\n",
       "    .dataframe tbody tr th {\n",
       "        vertical-align: top;\n",
       "    }\n",
       "\n",
       "    .dataframe thead th {\n",
       "        text-align: right;\n",
       "    }\n",
       "</style>\n",
       "<table border=\"1\" class=\"dataframe\">\n",
       "  <thead>\n",
       "    <tr style=\"text-align: right;\">\n",
       "      <th></th>\n",
       "      <th>CustomerID</th>\n",
       "      <th>Dias</th>\n",
       "    </tr>\n",
       "  </thead>\n",
       "  <tbody>\n",
       "    <tr>\n",
       "      <th>0</th>\n",
       "      <td>12346.0</td>\n",
       "      <td>325</td>\n",
       "    </tr>\n",
       "    <tr>\n",
       "      <th>1</th>\n",
       "      <td>12347.0</td>\n",
       "      <td>1</td>\n",
       "    </tr>\n",
       "    <tr>\n",
       "      <th>2</th>\n",
       "      <td>12348.0</td>\n",
       "      <td>74</td>\n",
       "    </tr>\n",
       "    <tr>\n",
       "      <th>3</th>\n",
       "      <td>12349.0</td>\n",
       "      <td>18</td>\n",
       "    </tr>\n",
       "    <tr>\n",
       "      <th>4</th>\n",
       "      <td>12350.0</td>\n",
       "      <td>309</td>\n",
       "    </tr>\n",
       "  </tbody>\n",
       "</table>\n",
       "</div>"
      ],
      "text/plain": [
       "   CustomerID  Dias\n",
       "0     12346.0   325\n",
       "1     12347.0     1\n",
       "2     12348.0    74\n",
       "3     12349.0    18\n",
       "4     12350.0   309"
      ]
     },
     "execution_count": 21,
     "metadata": {},
     "output_type": "execute_result"
    }
   ],
   "source": [
    "#Extraemos el número de días\n",
    "rfm_p['Dias'] = rfm_p['Dias'].dt.days\n",
    "rfm_p.head()"
   ]
  },
  {
   "cell_type": "code",
   "execution_count": 22,
   "metadata": {
    "colab": {
     "base_uri": "https://localhost:8080/",
     "height": 203
    },
    "executionInfo": {
     "elapsed": 245,
     "status": "ok",
     "timestamp": 1629496660704,
     "user": {
      "displayName": "ANA GEORGINA FLESIA",
      "photoUrl": "https://lh3.googleusercontent.com/a-/AOh14GhEzdrRs7t9rM7bZMeG13bgILnDQQBYsSPcsT4=s64",
      "userId": "06600501239941405182"
     },
     "user_tz": 180
    },
    "id": "DznWPsV_ESxJ",
    "outputId": "102e2a06-4555-47fc-d65b-a98faab2f60c"
   },
   "outputs": [
    {
     "data": {
      "text/html": [
       "<div>\n",
       "<style scoped>\n",
       "    .dataframe tbody tr th:only-of-type {\n",
       "        vertical-align: middle;\n",
       "    }\n",
       "\n",
       "    .dataframe tbody tr th {\n",
       "        vertical-align: top;\n",
       "    }\n",
       "\n",
       "    .dataframe thead th {\n",
       "        text-align: right;\n",
       "    }\n",
       "</style>\n",
       "<table border=\"1\" class=\"dataframe\">\n",
       "  <thead>\n",
       "    <tr style=\"text-align: right;\">\n",
       "      <th></th>\n",
       "      <th>CustomerID</th>\n",
       "      <th>Gasto</th>\n",
       "      <th>Frequencia</th>\n",
       "      <th>Dias</th>\n",
       "    </tr>\n",
       "  </thead>\n",
       "  <tbody>\n",
       "    <tr>\n",
       "      <th>0</th>\n",
       "      <td>12346.0</td>\n",
       "      <td>0.00</td>\n",
       "      <td>2</td>\n",
       "      <td>325</td>\n",
       "    </tr>\n",
       "    <tr>\n",
       "      <th>1</th>\n",
       "      <td>12347.0</td>\n",
       "      <td>4310.00</td>\n",
       "      <td>182</td>\n",
       "      <td>1</td>\n",
       "    </tr>\n",
       "    <tr>\n",
       "      <th>2</th>\n",
       "      <td>12348.0</td>\n",
       "      <td>1797.24</td>\n",
       "      <td>31</td>\n",
       "      <td>74</td>\n",
       "    </tr>\n",
       "    <tr>\n",
       "      <th>3</th>\n",
       "      <td>12349.0</td>\n",
       "      <td>1757.55</td>\n",
       "      <td>73</td>\n",
       "      <td>18</td>\n",
       "    </tr>\n",
       "    <tr>\n",
       "      <th>4</th>\n",
       "      <td>12350.0</td>\n",
       "      <td>334.40</td>\n",
       "      <td>17</td>\n",
       "      <td>309</td>\n",
       "    </tr>\n",
       "  </tbody>\n",
       "</table>\n",
       "</div>"
      ],
      "text/plain": [
       "   CustomerID    Gasto  Frequencia  Dias\n",
       "0     12346.0     0.00           2   325\n",
       "1     12347.0  4310.00         182     1\n",
       "2     12348.0  1797.24          31    74\n",
       "3     12349.0  1757.55          73    18\n",
       "4     12350.0   334.40          17   309"
      ]
     },
     "execution_count": 22,
     "metadata": {},
     "output_type": "execute_result"
    }
   ],
   "source": [
    "#Unimos para obtener la base final\n",
    "rfm = pd.merge(rfm, rfm_p, on='CustomerID', how='inner')\n",
    "rfm.columns = ['CustomerID', 'Gasto', 'Frequencia', 'Dias']\n",
    "rfm.head()"
   ]
  },
  {
   "cell_type": "code",
   "execution_count": 23,
   "metadata": {
    "executionInfo": {
     "elapsed": 248,
     "status": "ok",
     "timestamp": 1629496673359,
     "user": {
      "displayName": "ANA GEORGINA FLESIA",
      "photoUrl": "https://lh3.googleusercontent.com/a-/AOh14GhEzdrRs7t9rM7bZMeG13bgILnDQQBYsSPcsT4=s64",
      "userId": "06600501239941405182"
     },
     "user_tz": 180
    },
    "id": "EfCIHkCgMQcv"
   },
   "outputs": [],
   "source": [
    "# Eliminamos los valores atípicos de Gasto\n",
    "Q1 = rfm.Gasto.quantile(0.05)\n",
    "Q3 = rfm.Gasto.quantile(0.95)\n",
    "IQR = Q3 - Q1\n",
    "rfm = rfm[(rfm.Gasto >= Q1 - 1.5*IQR) & (rfm.Gasto <= Q3 + 1.5*IQR)]\n",
    "\n",
    "# Eliminamos los valores atípicos de Dias\n",
    "Q1 = rfm.Dias.quantile(0.05)\n",
    "Q3 = rfm.Dias.quantile(0.95)\n",
    "IQR = Q3 - Q1\n",
    "rfm = rfm[(rfm.Dias >= Q1 - 1.5*IQR) & (rfm.Dias <= Q3 + 1.5*IQR)]\n",
    "\n",
    "# Eliminamos los valores atípicos de la Frecuencia\n",
    "Q1 = rfm.Frequencia.quantile(0.05)\n",
    "Q3 = rfm.Frequencia.quantile(0.95)\n",
    "IQR = Q3 - Q1\n",
    "rfm = rfm[(rfm.Frequencia >= Q1 - 1.5*IQR) & (rfm.Frequencia <= Q3 + 1.5*IQR)]"
   ]
  },
  {
   "cell_type": "code",
   "execution_count": 24,
   "metadata": {
    "colab": {
     "base_uri": "https://localhost:8080/"
    },
    "executionInfo": {
     "elapsed": 300,
     "status": "ok",
     "timestamp": 1629496681160,
     "user": {
      "displayName": "ANA GEORGINA FLESIA",
      "photoUrl": "https://lh3.googleusercontent.com/a-/AOh14GhEzdrRs7t9rM7bZMeG13bgILnDQQBYsSPcsT4=s64",
      "userId": "06600501239941405182"
     },
     "user_tz": 180
    },
    "id": "EO9AjA5kGAkS",
    "outputId": "683d41ef-917e-4ece-b6d0-143223afde8b"
   },
   "outputs": [
    {
     "data": {
      "text/plain": [
       "(4293, 3)"
      ]
     },
     "execution_count": 24,
     "metadata": {},
     "output_type": "execute_result"
    }
   ],
   "source": [
    "#Estandarizamos los valores\n",
    "\n",
    "rfm_df = rfm[['Gasto', 'Frequencia', 'Dias']]\n",
    "\n",
    "scaler = StandardScaler()\n",
    "\n",
    "rfm_df_scaled = scaler.fit_transform(rfm_df)\n",
    "rfm_df_scaled.shape"
   ]
  },
  {
   "cell_type": "code",
   "execution_count": 25,
   "metadata": {
    "colab": {
     "base_uri": "https://localhost:8080/",
     "height": 203
    },
    "executionInfo": {
     "elapsed": 248,
     "status": "ok",
     "timestamp": 1629496683931,
     "user": {
      "displayName": "ANA GEORGINA FLESIA",
      "photoUrl": "https://lh3.googleusercontent.com/a-/AOh14GhEzdrRs7t9rM7bZMeG13bgILnDQQBYsSPcsT4=s64",
      "userId": "06600501239941405182"
     },
     "user_tz": 180
    },
    "id": "kS9mco7BtG_t",
    "outputId": "fa208a96-0b72-4a41-baf2-c97447052032"
   },
   "outputs": [
    {
     "data": {
      "text/html": [
       "<div>\n",
       "<style scoped>\n",
       "    .dataframe tbody tr th:only-of-type {\n",
       "        vertical-align: middle;\n",
       "    }\n",
       "\n",
       "    .dataframe tbody tr th {\n",
       "        vertical-align: top;\n",
       "    }\n",
       "\n",
       "    .dataframe thead th {\n",
       "        text-align: right;\n",
       "    }\n",
       "</style>\n",
       "<table border=\"1\" class=\"dataframe\">\n",
       "  <thead>\n",
       "    <tr style=\"text-align: right;\">\n",
       "      <th></th>\n",
       "      <th>Gasto</th>\n",
       "      <th>Frequencia</th>\n",
       "      <th>Dias</th>\n",
       "    </tr>\n",
       "  </thead>\n",
       "  <tbody>\n",
       "    <tr>\n",
       "      <th>0</th>\n",
       "      <td>-0.723738</td>\n",
       "      <td>-0.752888</td>\n",
       "      <td>2.301611</td>\n",
       "    </tr>\n",
       "    <tr>\n",
       "      <th>1</th>\n",
       "      <td>1.731617</td>\n",
       "      <td>1.042467</td>\n",
       "      <td>-0.906466</td>\n",
       "    </tr>\n",
       "    <tr>\n",
       "      <th>2</th>\n",
       "      <td>0.300128</td>\n",
       "      <td>-0.463636</td>\n",
       "      <td>-0.183658</td>\n",
       "    </tr>\n",
       "    <tr>\n",
       "      <th>3</th>\n",
       "      <td>0.277517</td>\n",
       "      <td>-0.044720</td>\n",
       "      <td>-0.738141</td>\n",
       "    </tr>\n",
       "    <tr>\n",
       "      <th>4</th>\n",
       "      <td>-0.533235</td>\n",
       "      <td>-0.603275</td>\n",
       "      <td>2.143188</td>\n",
       "    </tr>\n",
       "  </tbody>\n",
       "</table>\n",
       "</div>"
      ],
      "text/plain": [
       "      Gasto  Frequencia      Dias\n",
       "0 -0.723738   -0.752888  2.301611\n",
       "1  1.731617    1.042467 -0.906466\n",
       "2  0.300128   -0.463636 -0.183658\n",
       "3  0.277517   -0.044720 -0.738141\n",
       "4 -0.533235   -0.603275  2.143188"
      ]
     },
     "execution_count": 25,
     "metadata": {},
     "output_type": "execute_result"
    }
   ],
   "source": [
    "rfm_df_scaled = pd.DataFrame(rfm_df_scaled)\n",
    "rfm_df_scaled.columns = ['Gasto', 'Frequencia', 'Dias']\n",
    "rfm_df_scaled.head()"
   ]
  },
  {
   "cell_type": "code",
   "execution_count": 26,
   "metadata": {
    "colab": {
     "base_uri": "https://localhost:8080/",
     "height": 268
    },
    "executionInfo": {
     "elapsed": 97896,
     "status": "ok",
     "timestamp": 1629496785025,
     "user": {
      "displayName": "ANA GEORGINA FLESIA",
      "photoUrl": "https://lh3.googleusercontent.com/a-/AOh14GhEzdrRs7t9rM7bZMeG13bgILnDQQBYsSPcsT4=s64",
      "userId": "06600501239941405182"
     },
     "user_tz": 180
    },
    "id": "3uvGMPyMtn_U",
    "outputId": "68010c38-6d56-43c8-8d69-3e7e97f78c91"
   },
   "outputs": [
    {
     "data": {
      "image/png": "[encoded data removed]",
      "text/plain": [
       "<Figure size 432x288 with 1 Axes>"
      ]
     },
     "metadata": {
      "needs_background": "light"
     },
     "output_type": "display_data"
    }
   ],
   "source": [
    "#Método de Ward\n",
    "mergings = linkage(rfm_df_scaled, method=\"ward\", metric='euclidean')\n",
    "dendrogram(mergings)\n",
    "plt.show()"
   ]
  },
  {
   "cell_type": "code",
   "execution_count": 27,
   "metadata": {
    "colab": {
     "base_uri": "https://localhost:8080/",
     "height": 282
    },
    "executionInfo": {
     "elapsed": 1984,
     "status": "ok",
     "timestamp": 1629496793006,
     "user": {
      "displayName": "ANA GEORGINA FLESIA",
      "photoUrl": "https://lh3.googleusercontent.com/a-/AOh14GhEzdrRs7t9rM7bZMeG13bgILnDQQBYsSPcsT4=s64",
      "userId": "06600501239941405182"
     },
     "user_tz": 180
    },
    "id": "4HJHj_z_1eP5",
    "outputId": "62a1a74e-8b33-46d5-c605-f2a72e370815"
   },
   "outputs": [
    {
     "data": {
      "text/plain": [
       "[<matplotlib.lines.Line2D at 0x7f2eb22fd710>]"
      ]
     },
     "execution_count": 27,
     "metadata": {},
     "output_type": "execute_result"
    },
    {
     "data": {
      "image/png": "[encoded data removed]",
      "text/plain": [
       "<Figure size 432x288 with 1 Axes>"
      ]
     },
     "metadata": {
      "needs_background": "light"
     },
     "output_type": "display_data"
    }
   ],
   "source": [
    "# Elbow\n",
    "\n",
    "ssd = []\n",
    "range_n_clusters = [2, 3, 4, 5, 6, 7, 8]\n",
    "for num_clusters in range_n_clusters:\n",
    "    kmeans = KMeans(n_clusters=num_clusters, max_iter=50)\n",
    "    kmeans.fit(rfm_df_scaled)\n",
    "    \n",
    "    ssd.append(kmeans.inertia_)\n",
    "    \n",
    "# Gráfico\n",
    "plt.plot(ssd)"
   ]
  },
  {
   "cell_type": "code",
   "execution_count": 28,
   "metadata": {
    "colab": {
     "base_uri": "https://localhost:8080/"
    },
    "executionInfo": {
     "elapsed": 4451,
     "status": "ok",
     "timestamp": 1629496804856,
     "user": {
      "displayName": "ANA GEORGINA FLESIA",
      "photoUrl": "https://lh3.googleusercontent.com/a-/AOh14GhEzdrRs7t9rM7bZMeG13bgILnDQQBYsSPcsT4=s64",
      "userId": "06600501239941405182"
     },
     "user_tz": 180
    },
    "id": "baHOwnntDy0A",
    "outputId": "e50e5be4-9257-4a68-c81e-4efc7da3a0ee"
   },
   "outputs": [
    {
     "name": "stdout",
     "output_type": "stream",
     "text": [
      "For n_clusters=2, the silhouette score is 0.5389790406760827\n",
      "For n_clusters=3, the silhouette score is 0.5084896296141937\n",
      "For n_clusters=4, the silhouette score is 0.477782010021685\n",
      "For n_clusters=5, the silhouette score is 0.46413788559626845\n",
      "For n_clusters=6, the silhouette score is 0.41758431193450735\n",
      "For n_clusters=7, the silhouette score is 0.41817955959931724\n",
      "For n_clusters=8, the silhouette score is 0.40928572305861755\n"
     ]
    }
   ],
   "source": [
    "# Cálculo de Si\n",
    "range_n_clusters = [2, 3, 4, 5, 6, 7, 8]\n",
    "\n",
    "for num_clusters in range_n_clusters:\n",
    "    \n",
    "    # intialise kmeans\n",
    "    kmeans = KMeans(n_clusters=num_clusters, max_iter=50)\n",
    "    kmeans.fit(rfm_df_scaled)\n",
    "    \n",
    "    cluster_labels = kmeans.labels_\n",
    "    \n",
    "    # silhouette score\n",
    "    silhouette_avg = silhouette_score(rfm_df_scaled, cluster_labels)\n",
    "    print(\"For n_clusters={0}, the silhouette score is {1}\".format(num_clusters, silhouette_avg))"
   ]
  },
  {
   "cell_type": "code",
   "execution_count": 29,
   "metadata": {
    "colab": {
     "base_uri": "https://localhost:8080/"
    },
    "executionInfo": {
     "elapsed": 250,
     "status": "ok",
     "timestamp": 1629496823787,
     "user": {
      "displayName": "ANA GEORGINA FLESIA",
      "photoUrl": "https://lh3.googleusercontent.com/a-/AOh14GhEzdrRs7t9rM7bZMeG13bgILnDQQBYsSPcsT4=s64",
      "userId": "06600501239941405182"
     },
     "user_tz": 180
    },
    "id": "T4oioeJ7J6YB",
    "outputId": "3a2379ae-c5e3-48d8-9908-6e0f7e9b0c00"
   },
   "outputs": [
    {
     "data": {
      "text/plain": [
       "KMeans(algorithm='auto', copy_x=True, init='k-means++', max_iter=50,\n",
       "       n_clusters=3, n_init=10, n_jobs=None, precompute_distances='auto',\n",
       "       random_state=None, tol=0.0001, verbose=0)"
      ]
     },
     "execution_count": 29,
     "metadata": {},
     "output_type": "execute_result"
    }
   ],
   "source": [
    "# Modelo final k=3\n",
    "kmeans = KMeans(n_clusters=3, max_iter=50)\n",
    "kmeans.fit(rfm_df_scaled)"
   ]
  },
  {
   "cell_type": "code",
   "execution_count": 30,
   "metadata": {
    "colab": {
     "base_uri": "https://localhost:8080/",
     "height": 203
    },
    "executionInfo": {
     "elapsed": 252,
     "status": "ok",
     "timestamp": 1629496827261,
     "user": {
      "displayName": "ANA GEORGINA FLESIA",
      "photoUrl": "https://lh3.googleusercontent.com/a-/AOh14GhEzdrRs7t9rM7bZMeG13bgILnDQQBYsSPcsT4=s64",
      "userId": "06600501239941405182"
     },
     "user_tz": 180
    },
    "id": "5bEk3YjpJ7ES",
    "outputId": "68ba75c9-62ab-4eda-8c4f-8bdc3cd305af"
   },
   "outputs": [
    {
     "data": {
      "text/html": [
       "<div>\n",
       "<style scoped>\n",
       "    .dataframe tbody tr th:only-of-type {\n",
       "        vertical-align: middle;\n",
       "    }\n",
       "\n",
       "    .dataframe tbody tr th {\n",
       "        vertical-align: top;\n",
       "    }\n",
       "\n",
       "    .dataframe thead th {\n",
       "        text-align: right;\n",
       "    }\n",
       "</style>\n",
       "<table border=\"1\" class=\"dataframe\">\n",
       "  <thead>\n",
       "    <tr style=\"text-align: right;\">\n",
       "      <th></th>\n",
       "      <th>CustomerID</th>\n",
       "      <th>Gasto</th>\n",
       "      <th>Frequencia</th>\n",
       "      <th>Dias</th>\n",
       "      <th>Cluster_Id</th>\n",
       "    </tr>\n",
       "  </thead>\n",
       "  <tbody>\n",
       "    <tr>\n",
       "      <th>0</th>\n",
       "      <td>12346.0</td>\n",
       "      <td>0.00</td>\n",
       "      <td>2</td>\n",
       "      <td>325</td>\n",
       "      <td>1</td>\n",
       "    </tr>\n",
       "    <tr>\n",
       "      <th>1</th>\n",
       "      <td>12347.0</td>\n",
       "      <td>4310.00</td>\n",
       "      <td>182</td>\n",
       "      <td>1</td>\n",
       "      <td>2</td>\n",
       "    </tr>\n",
       "    <tr>\n",
       "      <th>2</th>\n",
       "      <td>12348.0</td>\n",
       "      <td>1797.24</td>\n",
       "      <td>31</td>\n",
       "      <td>74</td>\n",
       "      <td>0</td>\n",
       "    </tr>\n",
       "    <tr>\n",
       "      <th>3</th>\n",
       "      <td>12349.0</td>\n",
       "      <td>1757.55</td>\n",
       "      <td>73</td>\n",
       "      <td>18</td>\n",
       "      <td>0</td>\n",
       "    </tr>\n",
       "    <tr>\n",
       "      <th>4</th>\n",
       "      <td>12350.0</td>\n",
       "      <td>334.40</td>\n",
       "      <td>17</td>\n",
       "      <td>309</td>\n",
       "      <td>1</td>\n",
       "    </tr>\n",
       "  </tbody>\n",
       "</table>\n",
       "</div>"
      ],
      "text/plain": [
       "   CustomerID    Gasto  Frequencia  Dias  Cluster_Id\n",
       "0     12346.0     0.00           2   325           1\n",
       "1     12347.0  4310.00         182     1           2\n",
       "2     12348.0  1797.24          31    74           0\n",
       "3     12349.0  1757.55          73    18           0\n",
       "4     12350.0   334.40          17   309           1"
      ]
     },
     "execution_count": 30,
     "metadata": {},
     "output_type": "execute_result"
    }
   ],
   "source": [
    "rfm['Cluster_Id'] = kmeans.labels_\n",
    "rfm.head()"
   ]
  },
  {
   "cell_type": "code",
   "execution_count": 31,
   "metadata": {
    "colab": {
     "base_uri": "https://localhost:8080/",
     "height": 297
    },
    "executionInfo": {
     "elapsed": 521,
     "status": "ok",
     "timestamp": 1629496830605,
     "user": {
      "displayName": "ANA GEORGINA FLESIA",
      "photoUrl": "https://lh3.googleusercontent.com/a-/AOh14GhEzdrRs7t9rM7bZMeG13bgILnDQQBYsSPcsT4=s64",
      "userId": "06600501239941405182"
     },
     "user_tz": 180
    },
    "id": "w06wiu3YLyt7",
    "outputId": "ce8825e0-fc87-4ded-b71e-5d7cabea3035"
   },
   "outputs": [
    {
     "data": {
      "text/plain": [
       "<matplotlib.axes._subplots.AxesSubplot at 0x7f2eadc16e10>"
      ]
     },
     "execution_count": 31,
     "metadata": {},
     "output_type": "execute_result"
    },
    {
     "data": {
      "image/png": "[encoded data removed]",
      "text/plain": [
       "<Figure size 432x288 with 1 Axes>"
      ]
     },
     "metadata": {
      "needs_background": "light"
     },
     "output_type": "display_data"
    }
   ],
   "source": [
    "# Box plot Gasto\n",
    "\n",
    "sns.boxplot(x='Cluster_Id', y='Gasto', data=rfm)"
   ]
  },
  {
   "cell_type": "code",
   "execution_count": 32,
   "metadata": {
    "colab": {
     "base_uri": "https://localhost:8080/",
     "height": 297
    },
    "executionInfo": {
     "elapsed": 267,
     "status": "ok",
     "timestamp": 1629496833859,
     "user": {
      "displayName": "ANA GEORGINA FLESIA",
      "photoUrl": "https://lh3.googleusercontent.com/a-/AOh14GhEzdrRs7t9rM7bZMeG13bgILnDQQBYsSPcsT4=s64",
      "userId": "06600501239941405182"
     },
     "user_tz": 180
    },
    "id": "LwRzOPXFQeWR",
    "outputId": "d9d28b96-c89a-4056-8587-40a69dcbb536"
   },
   "outputs": [
    {
     "data": {
      "text/plain": [
       "<matplotlib.axes._subplots.AxesSubplot at 0x7f2eae3303d0>"
      ]
     },
     "execution_count": 32,
     "metadata": {},
     "output_type": "execute_result"
    },
    {
     "data": {
      "image/png": "[encoded data removed]",
      "text/plain": [
       "<Figure size 432x288 with 1 Axes>"
      ]
     },
     "metadata": {
      "needs_background": "light"
     },
     "output_type": "display_data"
    }
   ],
   "source": [
    "# Box plot Cluster Frequencia\n",
    "\n",
    "sns.boxplot(x='Cluster_Id', y='Frequencia', data=rfm)"
   ]
  },
  {
   "cell_type": "code",
   "execution_count": 33,
   "metadata": {
    "colab": {
     "base_uri": "https://localhost:8080/",
     "height": 297
    },
    "executionInfo": {
     "elapsed": 272,
     "status": "ok",
     "timestamp": 1629496836674,
     "user": {
      "displayName": "ANA GEORGINA FLESIA",
      "photoUrl": "https://lh3.googleusercontent.com/a-/AOh14GhEzdrRs7t9rM7bZMeG13bgILnDQQBYsSPcsT4=s64",
      "userId": "06600501239941405182"
     },
     "user_tz": 180
    },
    "id": "7DTX3MsWQmJe",
    "outputId": "8225c150-1378-442b-a78b-6697028ea877"
   },
   "outputs": [
    {
     "data": {
      "text/plain": [
       "<matplotlib.axes._subplots.AxesSubplot at 0x7f2eae321a90>"
      ]
     },
     "execution_count": 33,
     "metadata": {},
     "output_type": "execute_result"
    },
    {
     "data": {
      "image/png": "[encoded data removed]",
      "text/plain": [
       "<Figure size 432x288 with 1 Axes>"
      ]
     },
     "metadata": {
      "needs_background": "light"
     },
     "output_type": "display_data"
    }
   ],
   "source": [
    "# Box plot Días\n",
    "sns.boxplot(x='Cluster_Id', y='Dias', data=rfm)"
   ]
  },
  {
   "cell_type": "markdown",
   "metadata": {
    "id": "TCLk-GJJ_sJm"
   },
   "source": [
    "Los clientes del Cluster 1 son los clientes con una gran cantidad de transacciones en comparación con otros clientes. Su gasto es superior al de otros clientes ya que son compradores frecuentes. \n",
    "Los clientes del Cluster 2 no son compradores frecuentes y su última compra fue hace más tiempo, por lo tanto, son los menos importantes desde el punto de vista comercial. \n",
    "Los clientes del Cluster 0 realizaron su compra más recientemente pero tienen poca frecuencia de compra.\n"
   ]
  },
  {
   "cell_type": "code",
   "execution_count": null,
   "metadata": {
    "id": "iusXl4SHSjb2"
   },
   "outputs": [],
   "source": []
  },
  {
   "cell_type": "markdown",
   "metadata": {
    "id": "4dCM7rIqZfcu"
   },
   "source": [
    "Como actividad puede realizar los dendogramas con otros métodos de aglomeración. También ajuste k means con 2 grupos y analice.\n"
   ]
  }
 ],
 "metadata": {
  "colab": {
   "name": "Online (4).ipynb",
   "provenance": []
  },
  "kernelspec": {
   "display_name": "Python 3",
   "language": "python",
   "name": "python3"
  },
  "language_info": {
   "codemirror_mode": {
    "name": "ipython",
    "version": 3
   },
   "file_extension": ".py",
   "mimetype": "text/x-python",
   "name": "python",
   "nbconvert_exporter": "python",
   "pygments_lexer": "ipython3",
   "version": "3.7.3"
  }
 },
 "nbformat": 4,
 "nbformat_minor": 1
}
