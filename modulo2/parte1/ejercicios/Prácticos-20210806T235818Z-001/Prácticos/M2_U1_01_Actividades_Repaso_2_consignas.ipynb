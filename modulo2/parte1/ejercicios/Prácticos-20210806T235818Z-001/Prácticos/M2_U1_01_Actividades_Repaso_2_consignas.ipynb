{
  "nbformat": 4,
  "nbformat_minor": 0,
  "metadata": {
    "colab": {
      "name": "M2.U1_01 Actividades Repaso 2.consignas.ipynb",
      "provenance": [],
      "collapsed_sections": [
        "MHH3evxvx6sh",
        "RbJuXW7OaMxd",
        "onVou-vMPAm8",
        "l3bBf9-gPJ5N"
      ]
    },
    "kernelspec": {
      "name": "python3",
      "display_name": "Python 3"
    },
    "language_info": {
      "name": "python"
    }
  },
  "cells": [
    {
      "cell_type": "markdown",
      "metadata": {
        "id": "XqTPL_FiEoUO"
      },
      "source": [
        "![img](https://drive.google.com/uc?export=view&id=1kgX98Ziw9LzgBCT2BxChttfrTcBltLej)"
      ]
    },
    {
      "cell_type": "markdown",
      "metadata": {
        "id": "MHH3evxvx6sh"
      },
      "source": [
        "# PRÁCTICO 5"
      ]
    },
    {
      "cell_type": "markdown",
      "metadata": {
        "id": "TWRZbD7eyC7e"
      },
      "source": [
        "  Crear una lista con los datos de **población** de las provincias de Argentina: 2890151,15625084,367828,1055259,509108,3308876,992595,1235994,530162,673307,318951,333642,1738929,1101593,551266,638645,1214441,681055,432310,273964,3194537,874006,127205,1448188\n",
        "\n",
        "Nombrarla como: poblacion_prov\n"
      ]
    },
    {
      "cell_type": "code",
      "metadata": {
        "id": "8AkplPP8-xPg"
      },
      "source": [
        ""
      ],
      "execution_count": null,
      "outputs": []
    },
    {
      "cell_type": "markdown",
      "metadata": {
        "id": "5T1rMsL-0IR4"
      },
      "source": [
        "  Crear una lista con los datos de **superficie**  de las provincias de Argentina: 200,307571,102602,99633,224686,165321,88199,78781,72066,53219,143440,89680,148827,29801,94078,203013,155488,89651,76748,243943,133007,136351,1002445,22524\n",
        "\n",
        "Nombrarla como: superficie_prov\n"
      ]
    },
    {
      "cell_type": "code",
      "metadata": {
        "id": "I-qq-sQ8-zeu"
      },
      "source": [
        ""
      ],
      "execution_count": null,
      "outputs": []
    },
    {
      "cell_type": "markdown",
      "metadata": {
        "id": "GpNLOPST0jtp"
      },
      "source": [
        "Importar el paquete *numpy* como *np*"
      ]
    },
    {
      "cell_type": "code",
      "metadata": {
        "id": "cIktJEcW-14t"
      },
      "source": [
        ""
      ],
      "execution_count": null,
      "outputs": []
    },
    {
      "cell_type": "markdown",
      "metadata": {
        "id": "UDUKZm_r151z"
      },
      "source": [
        "Crear un array a partir de poblacion_prov: a_pob_prov"
      ]
    },
    {
      "cell_type": "code",
      "metadata": {
        "id": "HFQX3Yw--3K0"
      },
      "source": [
        ""
      ],
      "execution_count": null,
      "outputs": []
    },
    {
      "cell_type": "markdown",
      "metadata": {
        "id": "EYIIhYow1eCQ"
      },
      "source": [
        "Crear un array a partir de superficie: a_sup_prov"
      ]
    },
    {
      "cell_type": "code",
      "metadata": {
        "id": "vmWW4Ihg-5V2"
      },
      "source": [
        ""
      ],
      "execution_count": null,
      "outputs": []
    },
    {
      "cell_type": "markdown",
      "metadata": {
        "id": "BQsWRApL2eMC"
      },
      "source": [
        "Imprimir los tipos los dos ultimos objetos creados: *a_pob_prov*   y *a_sup_prov*"
      ]
    },
    {
      "cell_type": "code",
      "metadata": {
        "id": "d46SeWUa-8Xv"
      },
      "source": [
        ""
      ],
      "execution_count": null,
      "outputs": []
    },
    {
      "cell_type": "markdown",
      "metadata": {
        "id": "y14oli-W3XOK"
      },
      "source": [
        "A partir de la lista  *pob_provincias*, crear un array de numpy con los datos de la **población en millones de habitantes** llmarlo Pob_prov_millones\n"
      ]
    },
    {
      "cell_type": "code",
      "metadata": {
        "id": "zFU5U0jI-9w_"
      },
      "source": [
        ""
      ],
      "execution_count": null,
      "outputs": []
    },
    {
      "cell_type": "markdown",
      "metadata": {
        "id": "W73PiK5s4nUL"
      },
      "source": [
        "Calcular la **densidad poblacional** (pob/km2): densidad_pob_prov"
      ]
    },
    {
      "cell_type": "code",
      "metadata": {
        "id": "ke1cqaTq-_ju"
      },
      "source": [
        ""
      ],
      "execution_count": null,
      "outputs": []
    },
    {
      "cell_type": "markdown",
      "metadata": {
        "id": "h2DUSuqTPQed"
      },
      "source": [
        "Para quitar la notación científica al imprimir una manera posible en numpy es:"
      ]
    },
    {
      "cell_type": "code",
      "metadata": {
        "id": "Pm-h0V06_Bs6"
      },
      "source": [
        ""
      ],
      "execution_count": null,
      "outputs": []
    },
    {
      "cell_type": "markdown",
      "metadata": {
        "id": "1DOB9UHj5ogq"
      },
      "source": [
        "Declarar una variable *prov_densa_pobladas* que contega las provincias cuya densidad de población sea superior a 50 hab/km2 "
      ]
    },
    {
      "cell_type": "code",
      "metadata": {
        "id": "sQspK3-8_Dvf"
      },
      "source": [
        ""
      ],
      "execution_count": null,
      "outputs": []
    },
    {
      "cell_type": "markdown",
      "metadata": {
        "id": "6Sh5CUJmXSlt"
      },
      "source": [
        "Imprimir los valores que se corresponden a provincias densamente poblados"
      ]
    },
    {
      "cell_type": "code",
      "metadata": {
        "id": "i5AB2yi5_FCP"
      },
      "source": [
        ""
      ],
      "execution_count": null,
      "outputs": []
    },
    {
      "cell_type": "markdown",
      "metadata": {
        "id": "RbJuXW7OaMxd"
      },
      "source": [
        "# PRÁCTICO 6"
      ]
    },
    {
      "cell_type": "markdown",
      "metadata": {
        "id": "T8Tjmko5EI92"
      },
      "source": [
        "![img](https://drive.google.com/uc?export=view&id=1q-UDGlNu9zoxc3z2rWz1kitaeFgsAy1P)"
      ]
    },
    {
      "cell_type": "markdown",
      "metadata": {
        "id": "wxJXqh_baWGD"
      },
      "source": [
        "Crear un array que contenga los datos de \"población\" y \"superficie en km2\" (es decir dos columnas) de cada provincia (24 filas) , a partir [población , superficie]\n",
        "\n",
        "nombrarlo \"provincias\"  \n",
        "Datos: [Población,Superficie_km²]\n",
        "\n",
        "2890151,200\n",
        "15625084,307571\n",
        "367828,102602\n",
        "1055259,99633\n",
        "509108,224686\n",
        "3308876,165321\n",
        "992595,88199\n",
        "1235994,78781\n",
        "530162,72066\n",
        "673307,53219\n",
        "318951,143440\n",
        "333642,89680\n",
        "1738929,148827\n",
        "1101593,29801\n",
        "551266,94078\n",
        "638645,203013\n",
        "1214441,155488\n",
        "681055,89651\n",
        "432310,76748\n",
        "273964,243943\n",
        "3194537,133007\n",
        "874006,136351\n",
        "127205,1002445\n",
        "1448188,22524\n"
      ]
    },
    {
      "cell_type": "code",
      "metadata": {
        "colab": {
          "base_uri": "https://localhost:8080/"
        },
        "id": "D0MV_SWldAEx",
        "outputId": "1ab5514d-7b3b-432f-e66a-4126d59043c3"
      },
      "source": [
        "provincias= [[2890151,200],\n",
        "[15625084,307571],\n",
        "[367828,102602],\n",
        "[1055259,99633],\n",
        "[509108,224686],\n",
        "[3308876,165321],\n",
        "[992595,88199],\n",
        "[1235994,78781],\n",
        "[530162,72066],\n",
        "[673307,53219],\n",
        "[318951,143440],\n",
        "[333642,89680],\n",
        "[1738929,148827],\n",
        "[1101593,29801],\n",
        "[551266,94078],\n",
        "[638645,203013],\n",
        "[1214441,155488],\n",
        "[681055,89651],\n",
        "[432310,76748],\n",
        "[273964,243943],\n",
        "[3194537,133007],\n",
        "[874006,136351],\n",
        "[127205,1002445],\n",
        "[1448188,22524]\n",
        "]\n",
        "print(provincias)\n",
        "type(provincias)\n",
        "\n",
        "# notar que no responde a la consigan... en realidad hemos creado una lista"
      ],
      "execution_count": null,
      "outputs": [
        {
          "output_type": "stream",
          "text": [
            "[[2890151, 200], [15625084, 307571], [367828, 102602], [1055259, 99633], [509108, 224686], [3308876, 165321], [992595, 88199], [1235994, 78781], [530162, 72066], [673307, 53219], [318951, 143440], [333642, 89680], [1738929, 148827], [1101593, 29801], [551266, 94078], [638645, 203013], [1214441, 155488], [681055, 89651], [432310, 76748], [273964, 243943], [3194537, 133007], [874006, 136351], [127205, 1002445], [1448188, 22524]]\n"
          ],
          "name": "stdout"
        },
        {
          "output_type": "execute_result",
          "data": {
            "text/plain": [
              "list"
            ]
          },
          "metadata": {
            "tags": []
          },
          "execution_count": 86
        }
      ]
    },
    {
      "cell_type": "code",
      "metadata": {
        "colab": {
          "base_uri": "https://localhost:8080/"
        },
        "id": "g1hihT-AG4rn",
        "outputId": "d30fc936-eadb-47a8-b6d7-77958a70cf98"
      },
      "source": [
        "import numpy as np\n"
      ],
      "execution_count": null,
      "outputs": [
        {
          "output_type": "stream",
          "text": [
            "[[ 2890151      200]\n",
            " [15625084   307571]\n",
            " [  367828   102602]\n",
            " [ 1055259    99633]\n",
            " [  509108   224686]\n",
            " [ 3308876   165321]\n",
            " [  992595    88199]\n",
            " [ 1235994    78781]\n",
            " [  530162    72066]\n",
            " [  673307    53219]\n",
            " [  318951   143440]\n",
            " [  333642    89680]\n",
            " [ 1738929   148827]\n",
            " [ 1101593    29801]\n",
            " [  551266    94078]\n",
            " [  638645   203013]\n",
            " [ 1214441   155488]\n",
            " [  681055    89651]\n",
            " [  432310    76748]\n",
            " [  273964   243943]\n",
            " [ 3194537   133007]\n",
            " [  874006   136351]\n",
            " [  127205  1002445]\n",
            " [ 1448188    22524]]\n"
          ],
          "name": "stdout"
        },
        {
          "output_type": "execute_result",
          "data": {
            "text/plain": [
              "numpy.ndarray"
            ]
          },
          "metadata": {
            "tags": []
          },
          "execution_count": 87
        }
      ]
    },
    {
      "cell_type": "markdown",
      "metadata": {
        "id": "mM9SI4ewIiq-"
      },
      "source": [
        "Imprimir la fila número 18 completa (todos los valores de esa fila, en este caso son sólo dos datos) "
      ]
    },
    {
      "cell_type": "code",
      "metadata": {
        "id": "Caun4x4G_UI_"
      },
      "source": [
        ""
      ],
      "execution_count": null,
      "outputs": []
    },
    {
      "cell_type": "markdown",
      "metadata": {
        "id": "_mW38F8oI9T3"
      },
      "source": [
        "seleccionar la segunda columna y almacenarla en la variable np_superficie"
      ]
    },
    {
      "cell_type": "code",
      "metadata": {
        "id": "V7CqFX3A_Vb2"
      },
      "source": [
        ""
      ],
      "execution_count": null,
      "outputs": []
    },
    {
      "cell_type": "markdown",
      "metadata": {
        "id": "4hHQkvOHJjm0"
      },
      "source": [
        "Imprimir la poblacion de la 8° provincia\n"
      ]
    },
    {
      "cell_type": "code",
      "metadata": {
        "id": "TnydwRzf_WcP"
      },
      "source": [
        ""
      ],
      "execution_count": null,
      "outputs": []
    },
    {
      "cell_type": "markdown",
      "metadata": {
        "id": "oaGyDaZdLWIZ"
      },
      "source": [
        "Calcular la *densidad poblacional* y almacenarla en el vector np_densidad"
      ]
    },
    {
      "cell_type": "code",
      "metadata": {
        "id": "kBYeK1ab_Zc3"
      },
      "source": [
        ""
      ],
      "execution_count": null,
      "outputs": []
    },
    {
      "cell_type": "code",
      "metadata": {
        "id": "EbkP2Qi1_ZDH"
      },
      "source": [
        ""
      ],
      "execution_count": null,
      "outputs": []
    },
    {
      "cell_type": "markdown",
      "metadata": {
        "id": "ucWXxKCnN27G"
      },
      "source": [
        "Agregar al array la columna *densidad* y crear el array np_provincias_completo (con tres columnas)"
      ]
    },
    {
      "cell_type": "code",
      "metadata": {
        "id": "VIEE4AxX_bem"
      },
      "source": [
        ""
      ],
      "execution_count": null,
      "outputs": []
    },
    {
      "cell_type": "code",
      "metadata": {
        "id": "RxTvA0Ik_dIG"
      },
      "source": [
        ""
      ],
      "execution_count": null,
      "outputs": []
    },
    {
      "cell_type": "markdown",
      "metadata": {
        "id": "onVou-vMPAm8"
      },
      "source": [
        "# PRÁCTICO 7"
      ]
    },
    {
      "cell_type": "markdown",
      "metadata": {
        "id": "_yKtPPNbPKDm"
      },
      "source": [
        "A partir de los siguientes datos crear un *diccionario* *provincias* a partir de las listas que contenga las primeras 7 provincias.\n",
        "\n",
        "pob_provincias = [15625084, 273964, 509108, 638645, 3308876, 1214441, 1738929, 318951, 874006, 3194537, 367828, 1055259, 585126, 333642, 681055, 930911, 1235994, 432310, 530162, 673307, 1101593, 1448188, 127205]\n",
        "sup_provincias = [307571, 243943, 224686, 203013, 165321, 155488, 148827, 143440, 136351, 133007, 102602, 99633, 94078, 89680, 89651, 88199, 78781, 76748, 72066, 53219, 29801, 22524, 21571]\n",
        "nom_provincias = [\"Buenos Aires\", \"Santa Cruz\", \"Chubut\", \"Río Negro\", \"Córdoba\", \"Salta\", \"Mendoza\", \"La Pampa\", \"Santiago del Estero\", \"Santa Fe\", \"Catamarca\", \"Chaco\", \"Neuquén\", \"La Rioja\", \"San Juan\", \"Corrientes\", \"Entre Ríos\", \"San Luis\", \"Formosa\", \"Jujuy\", \"Misiones\", \"Tucumán\", \"Tierra del Fuego, Antártida e Islas del Atlántico Sur\"]"
      ]
    },
    {
      "cell_type": "code",
      "metadata": {
        "id": "nhkXchDW_kkd"
      },
      "source": [
        ""
      ],
      "execution_count": null,
      "outputs": []
    },
    {
      "cell_type": "markdown",
      "metadata": {
        "id": "vkwoPeGbNb55"
      },
      "source": [
        "Crear un diccionario a partir de las tres listas que contenga las primeras 7 provincias"
      ]
    },
    {
      "cell_type": "code",
      "metadata": {
        "id": "JruWLJRe_jsu"
      },
      "source": [
        ""
      ],
      "execution_count": null,
      "outputs": []
    },
    {
      "cell_type": "markdown",
      "metadata": {
        "id": "R07LN53YOIOj"
      },
      "source": [
        "Imprima el dicconario, las keys del mismo y los valores correspondientes"
      ]
    },
    {
      "cell_type": "code",
      "metadata": {
        "id": "GvzW7kJ9_mBv"
      },
      "source": [
        ""
      ],
      "execution_count": null,
      "outputs": []
    },
    {
      "cell_type": "markdown",
      "metadata": {
        "id": "Ivzjls82OgO4"
      },
      "source": [
        "Imprimir el valor del diccionario para la key \"Buenos Aires\""
      ]
    },
    {
      "cell_type": "code",
      "metadata": {
        "id": "aIJYWiek_ngY"
      },
      "source": [
        ""
      ],
      "execution_count": null,
      "outputs": []
    },
    {
      "cell_type": "markdown",
      "metadata": {
        "id": "l3bBf9-gPJ5N"
      },
      "source": [
        "# PRÁCTICO 8\n"
      ]
    },
    {
      "cell_type": "markdown",
      "metadata": {
        "id": "0XT3teDkSv85"
      },
      "source": [
        "Agregar al diccionario provincia \"Santa Fe\"\n"
      ]
    },
    {
      "cell_type": "code",
      "metadata": {
        "id": "zD3vMltU_qxP"
      },
      "source": [
        ""
      ],
      "execution_count": null,
      "outputs": []
    },
    {
      "cell_type": "markdown",
      "metadata": {
        "id": "fdAIobR3VI9_"
      },
      "source": [
        "Borrar del diccionario la provincia *Chubut*. Use *del()*\n"
      ]
    },
    {
      "cell_type": "code",
      "metadata": {
        "id": "0O26j-M3_sm_"
      },
      "source": [
        ""
      ],
      "execution_count": null,
      "outputs": []
    },
    {
      "cell_type": "markdown",
      "metadata": {
        "id": "H25JovazVnY7"
      },
      "source": [
        "También se pueden crear Diccionario de diccionarios... Intente uno que contega todas las provincias. Guardarlo en *todas_prov*\n"
      ]
    },
    {
      "cell_type": "code",
      "metadata": {
        "id": "Y022Pr1Z_upv"
      },
      "source": [
        ""
      ],
      "execution_count": null,
      "outputs": []
    },
    {
      "cell_type": "markdown",
      "metadata": {
        "id": "lXepRT7rXChL"
      },
      "source": [
        "Obtener del diccionario completo, los valores correspondientes a la provincia de *Río Negro*"
      ]
    },
    {
      "cell_type": "code",
      "metadata": {
        "id": "fqzp5Sga_wFO"
      },
      "source": [
        ""
      ],
      "execution_count": null,
      "outputs": []
    }
  ]
}