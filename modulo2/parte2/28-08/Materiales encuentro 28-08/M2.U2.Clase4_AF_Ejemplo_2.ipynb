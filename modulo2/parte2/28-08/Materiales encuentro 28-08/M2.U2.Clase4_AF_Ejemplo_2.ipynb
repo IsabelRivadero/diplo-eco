{
 "cells": [
  {
   "cell_type": "markdown",
   "metadata": {
    "id": "uEW6AnJQIFpZ"
   },
   "source": [
    "#**Lectura de paquetes y datos**"
   ]
  },
  {
   "cell_type": "code",
   "execution_count": 28,
   "metadata": {
    "colab": {
     "base_uri": "https://localhost:8080/"
    },
    "executionInfo": {
     "elapsed": 3266,
     "status": "ok",
     "timestamp": 1630635708124,
     "user": {
      "displayName": "MARIA INES STIMOLO",
      "photoUrl": "https://lh3.googleusercontent.com/a-/AOh14GiiSi_WlVy1nGXfjnRzL2LpjvRn_JZOB4OpoMFb=s64",
      "userId": "01469115874005837220"
     },
     "user_tz": 180
    },
    "id": "B33Ipc_882-g",
    "outputId": "725a95fe-b870-410a-dc81-c5ea063fb1d5"
   },
   "outputs": [
    {
     "name": "stdout",
     "output_type": "stream",
     "text": [
      "Requirement already satisfied: factor_analyzer in /usr/local/lib/python3.7/dist-packages (0.3.2)\n",
      "Requirement already satisfied: pandas in /usr/local/lib/python3.7/dist-packages (from factor_analyzer) (1.1.5)\n",
      "Requirement already satisfied: numpy in /usr/local/lib/python3.7/dist-packages (from factor_analyzer) (1.19.5)\n",
      "Requirement already satisfied: scipy in /usr/local/lib/python3.7/dist-packages (from factor_analyzer) (1.4.1)\n",
      "Requirement already satisfied: scikit-learn in /usr/local/lib/python3.7/dist-packages (from factor_analyzer) (0.22.2.post1)\n",
      "Requirement already satisfied: python-dateutil>=2.7.3 in /usr/local/lib/python3.7/dist-packages (from pandas->factor_analyzer) (2.8.2)\n",
      "Requirement already satisfied: pytz>=2017.2 in /usr/local/lib/python3.7/dist-packages (from pandas->factor_analyzer) (2018.9)\n",
      "Requirement already satisfied: six>=1.5 in /usr/local/lib/python3.7/dist-packages (from python-dateutil>=2.7.3->pandas->factor_analyzer) (1.15.0)\n",
      "Requirement already satisfied: joblib>=0.11 in /usr/local/lib/python3.7/dist-packages (from scikit-learn->factor_analyzer) (1.0.1)\n"
     ]
    }
   ],
   "source": [
    "# Tratamiento de datos\n",
    "# ==============================================================================\n",
    "import numpy as np\n",
    "import pandas as pd\n",
    "\n",
    "# instalar el paquete prince\n",
    "# ==============================================================================\n",
    "!pip install factor_analyzer\n",
    "\n",
    "# Gráficos\n",
    "# ==============================================================================\n",
    "\n",
    "import matplotlib.pyplot as plt\n",
    "import matplotlib.font_manager\n",
    "from matplotlib import style\n",
    "style.use('ggplot') or plt.style.use('ggplot')\n",
    "import seaborn as sns\n",
    "\n",
    "# Preprocesado y modelado\n",
    "# ==============================================================================\n",
    "from sklearn.decomposition import FactorAnalysis\n",
    "\n",
    "# Configuración warnings\n",
    "# ==============================================================================\n",
    "import warnings\n",
    "warnings.filterwarnings('ignore')"
   ]
  },
  {
   "cell_type": "markdown",
   "metadata": {
    "id": "fQ3ciUUVZVri"
   },
   "source": []
  },
  {
   "cell_type": "markdown",
   "metadata": {
    "id": "-M_5WkzgZshO"
   },
   "source": [
    "**Estados financieros de empresas**\n",
    "\n",
    "Son 47 empresas que cotizan en el mercado de valores de Buenos Aires y que publican estados contables confeccionados y auditados en base a la normativa de la Comisión Nacional de Valores (CNV). Se excluyen bancos, compañías de seguros y financieras por poseer regulación específica establecida por el Banco Central de la República Argentina (BCRA), que los hace no comparables con el resto.\n",
    "\n",
    "La base tiene las cuentas de los estados financieros anuales publicados para el período 2012-2015. Los valores de las cuentas fueron deflactados por el Índice de Precios Implícitos (Indicadores de Desempeño Mundial; Banco Mundial) con\n",
    "base 2015 = 100.\n",
    "\n",
    "Las empresas fueron clasificadas en cinco grupos de acuerdo con el sector de\n",
    "actividad principal en que cada una opera.\n",
    "\n",
    "**Agropecuario (*AGRO*)** Empresas productoras de bienes primarios, dedicadas a la actividad agrícola y ganadera. \n",
    "\n",
    "**Comercial (*COM*)** Empresas dedicadas a la comercialización de bienes y provisión de servicios. \n",
    "\n",
    "**Energía (*ENE*)** Empresas cuya actividad principal es la producción, transporte y/o distribución de energía y/o combustibles.\n",
    "\n",
    "**Manufactura de Origen Agropecuario (*MOA*)** Empresas industriales que elaboran sus productos a partir de insumos provenientes del sector agropecuario.\n",
    "\n",
    "**Manufactura de Origen Industrial (*MOI*)** Comprende al resto de las empresas manufactureras. "
   ]
  },
  {
   "cell_type": "code",
   "execution_count": 29,
   "metadata": {
    "colab": {
     "base_uri": "https://localhost:8080/"
    },
    "executionInfo": {
     "elapsed": 573,
     "status": "ok",
     "timestamp": 1630635708690,
     "user": {
      "displayName": "MARIA INES STIMOLO",
      "photoUrl": "https://lh3.googleusercontent.com/a-/AOh14GiiSi_WlVy1nGXfjnRzL2LpjvRn_JZOB4OpoMFb=s64",
      "userId": "01469115874005837220"
     },
     "user_tz": 180
    },
    "id": "G5ElCGzF9O4E",
    "outputId": "5721e0f7-e9e3-407a-b006-9b0424c63ccf"
   },
   "outputs": [
    {
     "name": "stdout",
     "output_type": "stream",
     "text": [
      "<class 'pandas.core.frame.DataFrame'>\n",
      "RangeIndex: 188 entries, 0 to 187\n",
      "Data columns (total 17 columns):\n",
      " #   Column                         Non-Null Count  Dtype  \n",
      "---  ------                         --------------  -----  \n",
      " 0   Emp                            188 non-null    object \n",
      " 1   Anio                           188 non-null    int64  \n",
      " 2   emp                            188 non-null    object \n",
      " 3   Rubro                          188 non-null    object \n",
      " 4   NetIncome                      188 non-null    float64\n",
      " 5   TotalAssets                    188 non-null    float64\n",
      " 6   TotalLiabilities               188 non-null    float64\n",
      " 7   TotalEquity                    188 non-null    float64\n",
      " 8    anualTotalRevenue             188 non-null    float64\n",
      " 9   TotalOperatingExpense_Total    188 non-null    float64\n",
      " 10  TotalCurrentAssets             188 non-null    float64\n",
      " 11  TotalCurrentLiabilities        188 non-null    float64\n",
      " 12  TotalCurrentAssetslessInvento  188 non-null    float64\n",
      " 13  CostofRevenue_Total            188 non-null    float64\n",
      " 14  GrossProfit_Total              188 non-null    float64\n",
      " 15  SA&G_Total                     188 non-null    float64\n",
      " 16  OperatingIncome_total          188 non-null    float64\n",
      "dtypes: float64(13), int64(1), object(3)\n",
      "memory usage: 25.1+ KB\n"
     ]
    }
   ],
   "source": [
    "# Base de datos \n",
    "# ==============================================================================\n",
    "\n",
    "url = 'https://drive.google.com/file/d/1PiAEtFMDzc5r3oYvBGaj2eK0OKjQyNOS/view?usp=sharing'\n",
    "path1 = 'https://drive.google.com/uc?export=download&id='+url.split('/')[-2]\n",
    "rubros = pd.read_csv(path1,sep=';')\n",
    "\n",
    "rubros.info()"
   ]
  },
  {
   "cell_type": "code",
   "execution_count": 30,
   "metadata": {
    "colab": {
     "base_uri": "https://localhost:8080/",
     "height": 222
    },
    "executionInfo": {
     "elapsed": 18,
     "status": "ok",
     "timestamp": 1630635708692,
     "user": {
      "displayName": "MARIA INES STIMOLO",
      "photoUrl": "https://lh3.googleusercontent.com/a-/AOh14GiiSi_WlVy1nGXfjnRzL2LpjvRn_JZOB4OpoMFb=s64",
      "userId": "01469115874005837220"
     },
     "user_tz": 180
    },
    "id": "hpJ1Vl7bEoIJ",
    "outputId": "563c5423-5d23-417a-f43a-797d1cbbc0e1"
   },
   "outputs": [
    {
     "data": {
      "text/html": [
       "<div>\n",
       "<style scoped>\n",
       "    .dataframe tbody tr th:only-of-type {\n",
       "        vertical-align: middle;\n",
       "    }\n",
       "\n",
       "    .dataframe tbody tr th {\n",
       "        vertical-align: top;\n",
       "    }\n",
       "\n",
       "    .dataframe thead th {\n",
       "        text-align: right;\n",
       "    }\n",
       "</style>\n",
       "<table border=\"1\" class=\"dataframe\">\n",
       "  <thead>\n",
       "    <tr style=\"text-align: right;\">\n",
       "      <th></th>\n",
       "      <th>Emp</th>\n",
       "      <th>Anio</th>\n",
       "      <th>emp</th>\n",
       "      <th>Rubro</th>\n",
       "      <th>NetIncome</th>\n",
       "      <th>TotalAssets</th>\n",
       "      <th>TotalLiabilities</th>\n",
       "      <th>TotalEquity</th>\n",
       "      <th>anualTotalRevenue</th>\n",
       "      <th>TotalOperatingExpense_Total</th>\n",
       "      <th>TotalCurrentAssets</th>\n",
       "      <th>TotalCurrentLiabilities</th>\n",
       "      <th>TotalCurrentAssetslessInvento</th>\n",
       "      <th>CostofRevenue_Total</th>\n",
       "      <th>GrossProfit_Total</th>\n",
       "      <th>SA&amp;G_Total</th>\n",
       "      <th>OperatingIncome_total</th>\n",
       "    </tr>\n",
       "  </thead>\n",
       "  <tbody>\n",
       "    <tr>\n",
       "      <th>0</th>\n",
       "      <td>AGRO</td>\n",
       "      <td>2012</td>\n",
       "      <td>AGRO2012</td>\n",
       "      <td>MOI</td>\n",
       "      <td>1.95</td>\n",
       "      <td>123.22</td>\n",
       "      <td>82.60</td>\n",
       "      <td>40.62</td>\n",
       "      <td>104.05</td>\n",
       "      <td>98.28</td>\n",
       "      <td>76.92</td>\n",
       "      <td>47.80</td>\n",
       "      <td>52.61</td>\n",
       "      <td>81.15</td>\n",
       "      <td>22.85</td>\n",
       "      <td>16.77</td>\n",
       "      <td>5.77</td>\n",
       "    </tr>\n",
       "    <tr>\n",
       "      <th>1</th>\n",
       "      <td>AGRO</td>\n",
       "      <td>2013</td>\n",
       "      <td>AGRO2013</td>\n",
       "      <td>MOI</td>\n",
       "      <td>4.51</td>\n",
       "      <td>137.92</td>\n",
       "      <td>69.10</td>\n",
       "      <td>68.82</td>\n",
       "      <td>132.45</td>\n",
       "      <td>121.70</td>\n",
       "      <td>105.37</td>\n",
       "      <td>53.61</td>\n",
       "      <td>82.56</td>\n",
       "      <td>100.13</td>\n",
       "      <td>32.27</td>\n",
       "      <td>20.84</td>\n",
       "      <td>10.70</td>\n",
       "    </tr>\n",
       "    <tr>\n",
       "      <th>2</th>\n",
       "      <td>AGRO</td>\n",
       "      <td>2014</td>\n",
       "      <td>AGRO2014</td>\n",
       "      <td>MOI</td>\n",
       "      <td>12.48</td>\n",
       "      <td>188.73</td>\n",
       "      <td>96.22</td>\n",
       "      <td>92.59</td>\n",
       "      <td>211.96</td>\n",
       "      <td>182.10</td>\n",
       "      <td>155.16</td>\n",
       "      <td>70.55</td>\n",
       "      <td>107.99</td>\n",
       "      <td>148.36</td>\n",
       "      <td>63.52</td>\n",
       "      <td>33.10</td>\n",
       "      <td>29.86</td>\n",
       "    </tr>\n",
       "    <tr>\n",
       "      <th>3</th>\n",
       "      <td>AGRO</td>\n",
       "      <td>2015</td>\n",
       "      <td>AGRO2015</td>\n",
       "      <td>MOI</td>\n",
       "      <td>2.70</td>\n",
       "      <td>234.40</td>\n",
       "      <td>135.60</td>\n",
       "      <td>98.80</td>\n",
       "      <td>214.50</td>\n",
       "      <td>221.30</td>\n",
       "      <td>179.20</td>\n",
       "      <td>129.10</td>\n",
       "      <td>141.10</td>\n",
       "      <td>177.80</td>\n",
       "      <td>36.50</td>\n",
       "      <td>42.80</td>\n",
       "      <td>-6.90</td>\n",
       "    </tr>\n",
       "    <tr>\n",
       "      <th>4</th>\n",
       "      <td>ALUA</td>\n",
       "      <td>2012</td>\n",
       "      <td>ALUA2012</td>\n",
       "      <td>MOI</td>\n",
       "      <td>26.85</td>\n",
       "      <td>3738.37</td>\n",
       "      <td>1379.85</td>\n",
       "      <td>2358.52</td>\n",
       "      <td>2217.17</td>\n",
       "      <td>1929.84</td>\n",
       "      <td>1452.55</td>\n",
       "      <td>745.58</td>\n",
       "      <td>452.98</td>\n",
       "      <td>1689.44</td>\n",
       "      <td>527.68</td>\n",
       "      <td>179.10</td>\n",
       "      <td>287.24</td>\n",
       "    </tr>\n",
       "  </tbody>\n",
       "</table>\n",
       "</div>"
      ],
      "text/plain": [
       "    Emp  Anio       emp  ... GrossProfit_Total  SA&G_Total  OperatingIncome_total\n",
       "0  AGRO  2012  AGRO2012  ...             22.85       16.77                   5.77\n",
       "1  AGRO  2013  AGRO2013  ...             32.27       20.84                  10.70\n",
       "2  AGRO  2014  AGRO2014  ...             63.52       33.10                  29.86\n",
       "3  AGRO  2015  AGRO2015  ...             36.50       42.80                  -6.90\n",
       "4  ALUA  2012  ALUA2012  ...            527.68      179.10                 287.24\n",
       "\n",
       "[5 rows x 17 columns]"
      ]
     },
     "execution_count": 30,
     "metadata": {},
     "output_type": "execute_result"
    }
   ],
   "source": [
    "rubros.head()"
   ]
  },
  {
   "cell_type": "code",
   "execution_count": 31,
   "metadata": {
    "colab": {
     "base_uri": "https://localhost:8080/",
     "height": 314
    },
    "executionInfo": {
     "elapsed": 18,
     "status": "ok",
     "timestamp": 1630635708694,
     "user": {
      "displayName": "MARIA INES STIMOLO",
      "photoUrl": "https://lh3.googleusercontent.com/a-/AOh14GiiSi_WlVy1nGXfjnRzL2LpjvRn_JZOB4OpoMFb=s64",
      "userId": "01469115874005837220"
     },
     "user_tz": 180
    },
    "id": "d-OND3mBCd5i",
    "outputId": "d02c82e2-27e0-462a-be8b-62e80dcbf028"
   },
   "outputs": [
    {
     "data": {
      "text/html": [
       "<div>\n",
       "<style scoped>\n",
       "    .dataframe tbody tr th:only-of-type {\n",
       "        vertical-align: middle;\n",
       "    }\n",
       "\n",
       "    .dataframe tbody tr th {\n",
       "        vertical-align: top;\n",
       "    }\n",
       "\n",
       "    .dataframe thead th {\n",
       "        text-align: right;\n",
       "    }\n",
       "</style>\n",
       "<table border=\"1\" class=\"dataframe\">\n",
       "  <thead>\n",
       "    <tr style=\"text-align: right;\">\n",
       "      <th></th>\n",
       "      <th>Anio</th>\n",
       "      <th>NetIncome</th>\n",
       "      <th>TotalAssets</th>\n",
       "      <th>TotalLiabilities</th>\n",
       "      <th>TotalEquity</th>\n",
       "      <th>anualTotalRevenue</th>\n",
       "      <th>TotalOperatingExpense_Total</th>\n",
       "      <th>TotalCurrentAssets</th>\n",
       "      <th>TotalCurrentLiabilities</th>\n",
       "      <th>TotalCurrentAssetslessInvento</th>\n",
       "      <th>CostofRevenue_Total</th>\n",
       "      <th>GrossProfit_Total</th>\n",
       "      <th>SA&amp;G_Total</th>\n",
       "      <th>OperatingIncome_total</th>\n",
       "    </tr>\n",
       "  </thead>\n",
       "  <tbody>\n",
       "    <tr>\n",
       "      <th>count</th>\n",
       "      <td>188.000000</td>\n",
       "      <td>188.000000</td>\n",
       "      <td>188.000000</td>\n",
       "      <td>188.000000</td>\n",
       "      <td>188.000000</td>\n",
       "      <td>188.000000</td>\n",
       "      <td>188.000000</td>\n",
       "      <td>188.000000</td>\n",
       "      <td>188.000000</td>\n",
       "      <td>188.000000</td>\n",
       "      <td>188.000000</td>\n",
       "      <td>188.000000</td>\n",
       "      <td>188.000000</td>\n",
       "      <td>188.000000</td>\n",
       "    </tr>\n",
       "    <tr>\n",
       "      <th>mean</th>\n",
       "      <td>2013.500000</td>\n",
       "      <td>42.466649</td>\n",
       "      <td>6953.614787</td>\n",
       "      <td>4436.155479</td>\n",
       "      <td>2517.444043</td>\n",
       "      <td>4993.095745</td>\n",
       "      <td>4332.295213</td>\n",
       "      <td>2033.148298</td>\n",
       "      <td>2001.418777</td>\n",
       "      <td>1499.227606</td>\n",
       "      <td>3413.905426</td>\n",
       "      <td>1579.189628</td>\n",
       "      <td>897.036543</td>\n",
       "      <td>660.782394</td>\n",
       "    </tr>\n",
       "    <tr>\n",
       "      <th>std</th>\n",
       "      <td>1.121019</td>\n",
       "      <td>296.075165</td>\n",
       "      <td>29825.429153</td>\n",
       "      <td>19778.518338</td>\n",
       "      <td>10221.099207</td>\n",
       "      <td>15319.837250</td>\n",
       "      <td>13494.556053</td>\n",
       "      <td>6467.747292</td>\n",
       "      <td>6897.426932</td>\n",
       "      <td>4809.815055</td>\n",
       "      <td>11292.926605</td>\n",
       "      <td>4739.368160</td>\n",
       "      <td>2428.861517</td>\n",
       "      <td>1936.017636</td>\n",
       "    </tr>\n",
       "    <tr>\n",
       "      <th>min</th>\n",
       "      <td>2012.000000</td>\n",
       "      <td>-1695.000000</td>\n",
       "      <td>57.200000</td>\n",
       "      <td>15.900000</td>\n",
       "      <td>-775.100000</td>\n",
       "      <td>23.110000</td>\n",
       "      <td>-0.390000</td>\n",
       "      <td>20.720000</td>\n",
       "      <td>13.450000</td>\n",
       "      <td>13.450000</td>\n",
       "      <td>23.300000</td>\n",
       "      <td>-151.100000</td>\n",
       "      <td>2.450000</td>\n",
       "      <td>-376.430000</td>\n",
       "    </tr>\n",
       "    <tr>\n",
       "      <th>25%</th>\n",
       "      <td>2012.750000</td>\n",
       "      <td>-10.825000</td>\n",
       "      <td>344.122500</td>\n",
       "      <td>193.422500</td>\n",
       "      <td>141.077500</td>\n",
       "      <td>382.110000</td>\n",
       "      <td>336.297500</td>\n",
       "      <td>173.150000</td>\n",
       "      <td>133.490000</td>\n",
       "      <td>117.525000</td>\n",
       "      <td>281.197500</td>\n",
       "      <td>74.212500</td>\n",
       "      <td>70.170000</td>\n",
       "      <td>6.805000</td>\n",
       "    </tr>\n",
       "    <tr>\n",
       "      <th>50%</th>\n",
       "      <td>2013.500000</td>\n",
       "      <td>5.010000</td>\n",
       "      <td>1196.560000</td>\n",
       "      <td>775.600000</td>\n",
       "      <td>469.190000</td>\n",
       "      <td>1086.220000</td>\n",
       "      <td>961.750000</td>\n",
       "      <td>522.245000</td>\n",
       "      <td>400.720000</td>\n",
       "      <td>377.710000</td>\n",
       "      <td>795.465000</td>\n",
       "      <td>242.930000</td>\n",
       "      <td>169.795000</td>\n",
       "      <td>90.785000</td>\n",
       "    </tr>\n",
       "    <tr>\n",
       "      <th>75%</th>\n",
       "      <td>2014.250000</td>\n",
       "      <td>37.947500</td>\n",
       "      <td>4437.395000</td>\n",
       "      <td>3195.610000</td>\n",
       "      <td>1232.287500</td>\n",
       "      <td>3331.385000</td>\n",
       "      <td>2811.900000</td>\n",
       "      <td>1574.065000</td>\n",
       "      <td>1554.975000</td>\n",
       "      <td>1087.047500</td>\n",
       "      <td>2322.272500</td>\n",
       "      <td>852.942500</td>\n",
       "      <td>536.202500</td>\n",
       "      <td>467.227500</td>\n",
       "    </tr>\n",
       "    <tr>\n",
       "      <th>max</th>\n",
       "      <td>2015.000000</td>\n",
       "      <td>2061.800000</td>\n",
       "      <td>363453.000000</td>\n",
       "      <td>243040.000000</td>\n",
       "      <td>120413.000000</td>\n",
       "      <td>156136.000000</td>\n",
       "      <td>139548.000000</td>\n",
       "      <td>76973.000000</td>\n",
       "      <td>79791.000000</td>\n",
       "      <td>57715.000000</td>\n",
       "      <td>119537.000000</td>\n",
       "      <td>36599.000000</td>\n",
       "      <td>20226.000000</td>\n",
       "      <td>16588.000000</td>\n",
       "    </tr>\n",
       "  </tbody>\n",
       "</table>\n",
       "</div>"
      ],
      "text/plain": [
       "              Anio    NetIncome  ...    SA&G_Total  OperatingIncome_total\n",
       "count   188.000000   188.000000  ...    188.000000             188.000000\n",
       "mean   2013.500000    42.466649  ...    897.036543             660.782394\n",
       "std       1.121019   296.075165  ...   2428.861517            1936.017636\n",
       "min    2012.000000 -1695.000000  ...      2.450000            -376.430000\n",
       "25%    2012.750000   -10.825000  ...     70.170000               6.805000\n",
       "50%    2013.500000     5.010000  ...    169.795000              90.785000\n",
       "75%    2014.250000    37.947500  ...    536.202500             467.227500\n",
       "max    2015.000000  2061.800000  ...  20226.000000           16588.000000\n",
       "\n",
       "[8 rows x 14 columns]"
      ]
     },
     "execution_count": 31,
     "metadata": {},
     "output_type": "execute_result"
    }
   ],
   "source": [
    "rubros.describe()"
   ]
  },
  {
   "cell_type": "code",
   "execution_count": 32,
   "metadata": {
    "colab": {
     "base_uri": "https://localhost:8080/",
     "height": 367
    },
    "executionInfo": {
     "elapsed": 546,
     "status": "ok",
     "timestamp": 1630635709225,
     "user": {
      "displayName": "MARIA INES STIMOLO",
      "photoUrl": "https://lh3.googleusercontent.com/a-/AOh14GiiSi_WlVy1nGXfjnRzL2LpjvRn_JZOB4OpoMFb=s64",
      "userId": "01469115874005837220"
     },
     "user_tz": 180
    },
    "id": "vVI1N3J4UCy2",
    "outputId": "32fa800f-cd00-4065-a8e8-69615a96592e"
   },
   "outputs": [
    {
     "name": "stdout",
     "output_type": "stream",
     "text": [
      "------------------------------------------\n",
      "Seleccionamos las variables para  trabajar\n",
      "------------------------------------------\n"
     ]
    },
    {
     "data": {
      "text/html": [
       "<div>\n",
       "<style scoped>\n",
       "    .dataframe tbody tr th:only-of-type {\n",
       "        vertical-align: middle;\n",
       "    }\n",
       "\n",
       "    .dataframe tbody tr th {\n",
       "        vertical-align: top;\n",
       "    }\n",
       "\n",
       "    .dataframe thead th {\n",
       "        text-align: right;\n",
       "    }\n",
       "</style>\n",
       "<table border=\"1\" class=\"dataframe\">\n",
       "  <thead>\n",
       "    <tr style=\"text-align: right;\">\n",
       "      <th></th>\n",
       "      <th>NetIncome</th>\n",
       "      <th>TotalAssets</th>\n",
       "      <th>TotalLiabilities</th>\n",
       "      <th>TotalEquity</th>\n",
       "      <th>anualTotalRevenue</th>\n",
       "      <th>TotalOperatingExpense_Total</th>\n",
       "      <th>TotalCurrentAssets</th>\n",
       "      <th>TotalCurrentLiabilities</th>\n",
       "      <th>TotalCurrentAssetslessInvento</th>\n",
       "      <th>CostofRevenue_Total</th>\n",
       "      <th>GrossProfit_Total</th>\n",
       "      <th>SA&amp;G_Total</th>\n",
       "    </tr>\n",
       "  </thead>\n",
       "  <tbody>\n",
       "    <tr>\n",
       "      <th>count</th>\n",
       "      <td>188.000000</td>\n",
       "      <td>188.000000</td>\n",
       "      <td>188.000000</td>\n",
       "      <td>188.000000</td>\n",
       "      <td>188.000000</td>\n",
       "      <td>188.000000</td>\n",
       "      <td>188.000000</td>\n",
       "      <td>188.000000</td>\n",
       "      <td>188.000000</td>\n",
       "      <td>188.000000</td>\n",
       "      <td>188.000000</td>\n",
       "      <td>188.000000</td>\n",
       "    </tr>\n",
       "    <tr>\n",
       "      <th>mean</th>\n",
       "      <td>42.466649</td>\n",
       "      <td>6953.614787</td>\n",
       "      <td>4436.155479</td>\n",
       "      <td>2517.444043</td>\n",
       "      <td>4993.095745</td>\n",
       "      <td>4332.295213</td>\n",
       "      <td>2033.148298</td>\n",
       "      <td>2001.418777</td>\n",
       "      <td>1499.227606</td>\n",
       "      <td>3413.905426</td>\n",
       "      <td>1579.189628</td>\n",
       "      <td>897.036543</td>\n",
       "    </tr>\n",
       "    <tr>\n",
       "      <th>std</th>\n",
       "      <td>296.075165</td>\n",
       "      <td>29825.429153</td>\n",
       "      <td>19778.518338</td>\n",
       "      <td>10221.099207</td>\n",
       "      <td>15319.837250</td>\n",
       "      <td>13494.556053</td>\n",
       "      <td>6467.747292</td>\n",
       "      <td>6897.426932</td>\n",
       "      <td>4809.815055</td>\n",
       "      <td>11292.926605</td>\n",
       "      <td>4739.368160</td>\n",
       "      <td>2428.861517</td>\n",
       "    </tr>\n",
       "    <tr>\n",
       "      <th>min</th>\n",
       "      <td>-1695.000000</td>\n",
       "      <td>57.200000</td>\n",
       "      <td>15.900000</td>\n",
       "      <td>-775.100000</td>\n",
       "      <td>23.110000</td>\n",
       "      <td>-0.390000</td>\n",
       "      <td>20.720000</td>\n",
       "      <td>13.450000</td>\n",
       "      <td>13.450000</td>\n",
       "      <td>23.300000</td>\n",
       "      <td>-151.100000</td>\n",
       "      <td>2.450000</td>\n",
       "    </tr>\n",
       "    <tr>\n",
       "      <th>25%</th>\n",
       "      <td>-10.825000</td>\n",
       "      <td>344.122500</td>\n",
       "      <td>193.422500</td>\n",
       "      <td>141.077500</td>\n",
       "      <td>382.110000</td>\n",
       "      <td>336.297500</td>\n",
       "      <td>173.150000</td>\n",
       "      <td>133.490000</td>\n",
       "      <td>117.525000</td>\n",
       "      <td>281.197500</td>\n",
       "      <td>74.212500</td>\n",
       "      <td>70.170000</td>\n",
       "    </tr>\n",
       "    <tr>\n",
       "      <th>50%</th>\n",
       "      <td>5.010000</td>\n",
       "      <td>1196.560000</td>\n",
       "      <td>775.600000</td>\n",
       "      <td>469.190000</td>\n",
       "      <td>1086.220000</td>\n",
       "      <td>961.750000</td>\n",
       "      <td>522.245000</td>\n",
       "      <td>400.720000</td>\n",
       "      <td>377.710000</td>\n",
       "      <td>795.465000</td>\n",
       "      <td>242.930000</td>\n",
       "      <td>169.795000</td>\n",
       "    </tr>\n",
       "    <tr>\n",
       "      <th>75%</th>\n",
       "      <td>37.947500</td>\n",
       "      <td>4437.395000</td>\n",
       "      <td>3195.610000</td>\n",
       "      <td>1232.287500</td>\n",
       "      <td>3331.385000</td>\n",
       "      <td>2811.900000</td>\n",
       "      <td>1574.065000</td>\n",
       "      <td>1554.975000</td>\n",
       "      <td>1087.047500</td>\n",
       "      <td>2322.272500</td>\n",
       "      <td>852.942500</td>\n",
       "      <td>536.202500</td>\n",
       "    </tr>\n",
       "    <tr>\n",
       "      <th>max</th>\n",
       "      <td>2061.800000</td>\n",
       "      <td>363453.000000</td>\n",
       "      <td>243040.000000</td>\n",
       "      <td>120413.000000</td>\n",
       "      <td>156136.000000</td>\n",
       "      <td>139548.000000</td>\n",
       "      <td>76973.000000</td>\n",
       "      <td>79791.000000</td>\n",
       "      <td>57715.000000</td>\n",
       "      <td>119537.000000</td>\n",
       "      <td>36599.000000</td>\n",
       "      <td>20226.000000</td>\n",
       "    </tr>\n",
       "  </tbody>\n",
       "</table>\n",
       "</div>"
      ],
      "text/plain": [
       "         NetIncome    TotalAssets  ...  GrossProfit_Total    SA&G_Total\n",
       "count   188.000000     188.000000  ...         188.000000    188.000000\n",
       "mean     42.466649    6953.614787  ...        1579.189628    897.036543\n",
       "std     296.075165   29825.429153  ...        4739.368160   2428.861517\n",
       "min   -1695.000000      57.200000  ...        -151.100000      2.450000\n",
       "25%     -10.825000     344.122500  ...          74.212500     70.170000\n",
       "50%       5.010000    1196.560000  ...         242.930000    169.795000\n",
       "75%      37.947500    4437.395000  ...         852.942500    536.202500\n",
       "max    2061.800000  363453.000000  ...       36599.000000  20226.000000\n",
       "\n",
       "[8 rows x 12 columns]"
      ]
     },
     "execution_count": 32,
     "metadata": {},
     "output_type": "execute_result"
    }
   ],
   "source": [
    "print('------------------------------------------')\n",
    "print('Seleccionamos las variables para  trabajar')\n",
    "print('------------------------------------------')\n",
    "\n",
    "X=  rubros.iloc[:, 4:16]\n",
    "# guardamos sus nombres en un  objeto\n",
    "names_var =rubros.columns[4:16] \n",
    "X.describe()"
   ]
  },
  {
   "cell_type": "code",
   "execution_count": 33,
   "metadata": {
    "colab": {
     "base_uri": "https://localhost:8080/"
    },
    "executionInfo": {
     "elapsed": 17,
     "status": "ok",
     "timestamp": 1630635709228,
     "user": {
      "displayName": "MARIA INES STIMOLO",
      "photoUrl": "https://lh3.googleusercontent.com/a-/AOh14GiiSi_WlVy1nGXfjnRzL2LpjvRn_JZOB4OpoMFb=s64",
      "userId": "01469115874005837220"
     },
     "user_tz": 180
    },
    "id": "9vqiEH46skNi",
    "outputId": "ead94613-3d6e-4307-d3e9-8539cf3605c7"
   },
   "outputs": [
    {
     "name": "stdout",
     "output_type": "stream",
     "text": [
      "--------------------------------------------------------\n",
      "Analisis de la estructura de correlación entre variables\n",
      "--------------------------------------------------------\n"
     ]
    },
    {
     "data": {
      "text/plain": [
       "(12, 12)"
      ]
     },
     "execution_count": 33,
     "metadata": {},
     "output_type": "execute_result"
    }
   ],
   "source": [
    "print('--------------------------------------------------------')\n",
    "print('Analisis de la estructura de correlación entre variables')\n",
    "print('--------------------------------------------------------')\n",
    "corrX = X.corr(method='pearson')\n",
    "corrX.shape"
   ]
  },
  {
   "cell_type": "code",
   "execution_count": 34,
   "metadata": {
    "colab": {
     "base_uri": "https://localhost:8080/",
     "height": 1000
    },
    "executionInfo": {
     "elapsed": 1382,
     "status": "ok",
     "timestamp": 1630635710597,
     "user": {
      "displayName": "MARIA INES STIMOLO",
      "photoUrl": "https://lh3.googleusercontent.com/a-/AOh14GiiSi_WlVy1nGXfjnRzL2LpjvRn_JZOB4OpoMFb=s64",
      "userId": "01469115874005837220"
     },
     "user_tz": 180
    },
    "id": "5QmzfVeZsI9N",
    "outputId": "2bdf7571-28e9-49d7-cf62-693bb42127b9"
   },
   "outputs": [
    {
     "data": {
      "text/plain": [
       "Text(0.5, 1.0, 'Matriz de correlación')"
      ]
     },
     "execution_count": 34,
     "metadata": {},
     "output_type": "execute_result"
    },
    {
     "data": {
      "image/png": "[encoded data removed]",
      "text/plain": [
       "<Figure size 1800x1800 with 2 Axes>"
      ]
     },
     "metadata": {},
     "output_type": "display_data"
    }
   ],
   "source": [
    "# Heatmap matriz de correlaciones. Usando paquete matplotlib.pyplot\n",
    "# ==================================================================\n",
    "\n",
    "fig, ax = plt.subplots(nrows=1, ncols=1, figsize=(25, 25))\n",
    "\n",
    "sns.heatmap(corrX,\n",
    "    annot     = True,\n",
    "    cbar      = True,\n",
    "    annot_kws = {\"size\": 10},\n",
    "    vmin      = -1,\n",
    "    vmax      = 1,\n",
    "    center    = 0,\n",
    "    cmap      = sns.diverging_palette(20, 250, n=200),\n",
    "    square    = True,\n",
    "    ax        = ax\n",
    ")\n",
    "\n",
    "ax.set_xticklabels(\n",
    "    ax.get_xticklabels(),\n",
    "    rotation = 45,\n",
    "    horizontalalignment = 'right',\n",
    ")\n",
    "\n",
    "ax.tick_params(labelsize = 2)\n",
    "plt.title('Matriz de correlación')\n"
   ]
  },
  {
   "cell_type": "code",
   "execution_count": 35,
   "metadata": {
    "colab": {
     "base_uri": "https://localhost:8080/"
    },
    "executionInfo": {
     "elapsed": 23,
     "status": "ok",
     "timestamp": 1630635710599,
     "user": {
      "displayName": "MARIA INES STIMOLO",
      "photoUrl": "https://lh3.googleusercontent.com/a-/AOh14GiiSi_WlVy1nGXfjnRzL2LpjvRn_JZOB4OpoMFb=s64",
      "userId": "01469115874005837220"
     },
     "user_tz": 180
    },
    "id": "GYJURLwsscs2",
    "outputId": "9a406a3d-d9e6-45f0-f971-04b6d10de231"
   },
   "outputs": [
    {
     "data": {
      "text/plain": [
       "FactorAnalyzer(bounds=(0.005, 1), impute='drop', is_corr_matrix=False,\n",
       "               method='minres', n_factors=12, rotation=None, rotation_kwargs={},\n",
       "               use_smc=True)"
      ]
     },
     "execution_count": 35,
     "metadata": {},
     "output_type": "execute_result"
    }
   ],
   "source": [
    "from factor_analyzer import FactorAnalyzer\n",
    "fa = FactorAnalyzer(n_factors=X.shape[1],rotation = None,impute = \"drop\",method='minres',is_corr_matrix=False)\n",
    "fa.fit(X)\n"
   ]
  },
  {
   "cell_type": "markdown",
   "metadata": {
    "id": "REEZnu36MQXS"
   },
   "source": [
    "**Determinación del número de factores**\n",
    "\n",
    "Número máximo de factores: Los que cumplan la desigualdad $p (p+1)/2\\geq p (m +1)$\n"
   ]
  },
  {
   "cell_type": "code",
   "execution_count": 36,
   "metadata": {
    "colab": {
     "base_uri": "https://localhost:8080/",
     "height": 470
    },
    "executionInfo": {
     "elapsed": 17,
     "status": "ok",
     "timestamp": 1630635710600,
     "user": {
      "displayName": "MARIA INES STIMOLO",
      "photoUrl": "https://lh3.googleusercontent.com/a-/AOh14GiiSi_WlVy1nGXfjnRzL2LpjvRn_JZOB4OpoMFb=s64",
      "userId": "01469115874005837220"
     },
     "user_tz": 180
    },
    "id": "xkx5UDyx-ssC",
    "outputId": "52a1b74b-65e9-4d8f-cbf2-846441505aaa"
   },
   "outputs": [
    {
     "name": "stdout",
     "output_type": "stream",
     "text": [
      "----------------------------------------------------------\n",
      "Elegir la cantidad de factores mirando los valores propios\n",
      "----------------------------------------------------------\n"
     ]
    },
    {
     "data": {
      "text/html": [
       "<div>\n",
       "<style scoped>\n",
       "    .dataframe tbody tr th:only-of-type {\n",
       "        vertical-align: middle;\n",
       "    }\n",
       "\n",
       "    .dataframe tbody tr th {\n",
       "        vertical-align: top;\n",
       "    }\n",
       "\n",
       "    .dataframe thead th {\n",
       "        text-align: right;\n",
       "    }\n",
       "</style>\n",
       "<table border=\"1\" class=\"dataframe\">\n",
       "  <thead>\n",
       "    <tr style=\"text-align: right;\">\n",
       "      <th></th>\n",
       "      <th>0</th>\n",
       "    </tr>\n",
       "  </thead>\n",
       "  <tbody>\n",
       "    <tr>\n",
       "      <th>0</th>\n",
       "      <td>1.007800e+01</td>\n",
       "    </tr>\n",
       "    <tr>\n",
       "      <th>1</th>\n",
       "      <td>1.221038e+00</td>\n",
       "    </tr>\n",
       "    <tr>\n",
       "      <th>2</th>\n",
       "      <td>5.099043e-01</td>\n",
       "    </tr>\n",
       "    <tr>\n",
       "      <th>3</th>\n",
       "      <td>1.196693e-01</td>\n",
       "    </tr>\n",
       "    <tr>\n",
       "      <th>4</th>\n",
       "      <td>3.578115e-02</td>\n",
       "    </tr>\n",
       "    <tr>\n",
       "      <th>5</th>\n",
       "      <td>2.177728e-02</td>\n",
       "    </tr>\n",
       "    <tr>\n",
       "      <th>6</th>\n",
       "      <td>8.300485e-03</td>\n",
       "    </tr>\n",
       "    <tr>\n",
       "      <th>7</th>\n",
       "      <td>3.438496e-03</td>\n",
       "    </tr>\n",
       "    <tr>\n",
       "      <th>8</th>\n",
       "      <td>1.503095e-03</td>\n",
       "    </tr>\n",
       "    <tr>\n",
       "      <th>9</th>\n",
       "      <td>5.887927e-04</td>\n",
       "    </tr>\n",
       "    <tr>\n",
       "      <th>10</th>\n",
       "      <td>1.608282e-10</td>\n",
       "    </tr>\n",
       "    <tr>\n",
       "      <th>11</th>\n",
       "      <td>1.048707e-11</td>\n",
       "    </tr>\n",
       "  </tbody>\n",
       "</table>\n",
       "</div>"
      ],
      "text/plain": [
       "               0\n",
       "0   1.007800e+01\n",
       "1   1.221038e+00\n",
       "2   5.099043e-01\n",
       "3   1.196693e-01\n",
       "4   3.578115e-02\n",
       "5   2.177728e-02\n",
       "6   8.300485e-03\n",
       "7   3.438496e-03\n",
       "8   1.503095e-03\n",
       "9   5.887927e-04\n",
       "10  1.608282e-10\n",
       "11  1.048707e-11"
      ]
     },
     "execution_count": 36,
     "metadata": {},
     "output_type": "execute_result"
    }
   ],
   "source": [
    "print('----------------------------------------------------------')\n",
    "print ('Elegir la cantidad de factores mirando los valores propios')\n",
    "print('----------------------------------------------------------')\n",
    "ev, v = fa.get_eigenvalues()\n",
    "pd.DataFrame(ev)\n",
    "    \n"
   ]
  },
  {
   "cell_type": "code",
   "execution_count": 37,
   "metadata": {
    "colab": {
     "base_uri": "https://localhost:8080/",
     "height": 298
    },
    "executionInfo": {
     "elapsed": 645,
     "status": "ok",
     "timestamp": 1630635711233,
     "user": {
      "displayName": "MARIA INES STIMOLO",
      "photoUrl": "https://lh3.googleusercontent.com/a-/AOh14GiiSi_WlVy1nGXfjnRzL2LpjvRn_JZOB4OpoMFb=s64",
      "userId": "01469115874005837220"
     },
     "user_tz": 180
    },
    "id": "_V7H5qzMkcN4",
    "outputId": "72eb4c3d-50a7-4e96-ca8f-3b46658a13c8"
   },
   "outputs": [
    {
     "data": {
      "image/png": "[encoded data removed]",
      "text/plain": [
       "<Figure size 432x288 with 1 Axes>"
      ]
     },
     "metadata": {},
     "output_type": "display_data"
    }
   ],
   "source": [
    "# Create scree plot using matplotlib\n",
    "plt.scatter(range(1,X.shape[1]+1),ev)\n",
    "plt.plot(range(1,X.shape[1]+1),ev)\n",
    "plt.title('Gráfico de sedimentación')\n",
    "plt.xlabel('Factores')\n",
    "plt.ylabel('Autovalores')\n",
    "plt.grid()\n",
    "plt.show()  "
   ]
  },
  {
   "cell_type": "markdown",
   "metadata": {
    "id": "RBas7JcpikLP"
   },
   "source": [
    "Si la unicidad es alta ( significa que esa variable no está explicada por los constructos) Son considerados altos los valores mayores a 0,6.\n",
    "Identificar las variables con valoes mayores a 0,6."
   ]
  },
  {
   "cell_type": "code",
   "execution_count": 38,
   "metadata": {
    "colab": {
     "base_uri": "https://localhost:8080/",
     "height": 130
    },
    "executionInfo": {
     "elapsed": 75,
     "status": "ok",
     "timestamp": 1630635711237,
     "user": {
      "displayName": "MARIA INES STIMOLO",
      "photoUrl": "https://lh3.googleusercontent.com/a-/AOh14GiiSi_WlVy1nGXfjnRzL2LpjvRn_JZOB4OpoMFb=s64",
      "userId": "01469115874005837220"
     },
     "user_tz": 180
    },
    "id": "70CEzK-hpSp-",
    "outputId": "30ea36a6-8428-4f9b-8655-63eea1a97776"
   },
   "outputs": [
    {
     "data": {
      "text/html": [
       "<div>\n",
       "<style scoped>\n",
       "    .dataframe tbody tr th:only-of-type {\n",
       "        vertical-align: middle;\n",
       "    }\n",
       "\n",
       "    .dataframe tbody tr th {\n",
       "        vertical-align: top;\n",
       "    }\n",
       "\n",
       "    .dataframe thead th {\n",
       "        text-align: right;\n",
       "    }\n",
       "</style>\n",
       "<table border=\"1\" class=\"dataframe\">\n",
       "  <thead>\n",
       "    <tr style=\"text-align: right;\">\n",
       "      <th></th>\n",
       "      <th>NetIncome</th>\n",
       "      <th>TotalAssets</th>\n",
       "      <th>TotalLiabilities</th>\n",
       "      <th>TotalEquity</th>\n",
       "      <th>anualTotalRevenue</th>\n",
       "      <th>TotalOperatingExpense_Total</th>\n",
       "      <th>TotalCurrentAssets</th>\n",
       "      <th>TotalCurrentLiabilities</th>\n",
       "      <th>TotalCurrentAssetslessInvento</th>\n",
       "      <th>CostofRevenue_Total</th>\n",
       "      <th>GrossProfit_Total</th>\n",
       "      <th>SA&amp;G_Total</th>\n",
       "    </tr>\n",
       "  </thead>\n",
       "  <tbody>\n",
       "    <tr>\n",
       "      <th>Comunalidad</th>\n",
       "      <td>0.945047</td>\n",
       "      <td>0.998314</td>\n",
       "      <td>0.99689</td>\n",
       "      <td>0.995664</td>\n",
       "      <td>0.998552</td>\n",
       "      <td>0.998054</td>\n",
       "      <td>0.996749</td>\n",
       "      <td>0.996383</td>\n",
       "      <td>0.996017</td>\n",
       "      <td>0.99752</td>\n",
       "      <td>0.995348</td>\n",
       "      <td>0.995049</td>\n",
       "    </tr>\n",
       "    <tr>\n",
       "      <th>Unicidad</th>\n",
       "      <td>0.054953</td>\n",
       "      <td>0.001686</td>\n",
       "      <td>0.00311</td>\n",
       "      <td>0.004336</td>\n",
       "      <td>0.001448</td>\n",
       "      <td>0.001946</td>\n",
       "      <td>0.003251</td>\n",
       "      <td>0.003617</td>\n",
       "      <td>0.003983</td>\n",
       "      <td>0.00248</td>\n",
       "      <td>0.004652</td>\n",
       "      <td>0.004951</td>\n",
       "    </tr>\n",
       "  </tbody>\n",
       "</table>\n",
       "</div>"
      ],
      "text/plain": [
       "             NetIncome  TotalAssets  ...  GrossProfit_Total  SA&G_Total\n",
       "Comunalidad   0.945047     0.998314  ...           0.995348    0.995049\n",
       "Unicidad      0.054953     0.001686  ...           0.004652    0.004951\n",
       "\n",
       "[2 rows x 12 columns]"
      ]
     },
     "execution_count": 38,
     "metadata": {},
     "output_type": "execute_result"
    }
   ],
   "source": [
    "pd.DataFrame((fa.get_communalities(),fa.get_uniquenesses()),index=['Comunalidad','Unicidad'],columns=names_var)"
   ]
  },
  {
   "cell_type": "markdown",
   "metadata": {
    "id": "f4vhFVaEOuSB"
   },
   "source": [
    "**Definimos el modelo con ? factores**"
   ]
  },
  {
   "cell_type": "code",
   "execution_count": 39,
   "metadata": {
    "colab": {
     "base_uri": "https://localhost:8080/"
    },
    "executionInfo": {
     "elapsed": 71,
     "status": "ok",
     "timestamp": 1630635711238,
     "user": {
      "displayName": "MARIA INES STIMOLO",
      "photoUrl": "https://lh3.googleusercontent.com/a-/AOh14GiiSi_WlVy1nGXfjnRzL2LpjvRn_JZOB4OpoMFb=s64",
      "userId": "01469115874005837220"
     },
     "user_tz": 180
    },
    "id": "L0KhzOtjpViO",
    "outputId": "bca3c36f-028f-4480-8c61-6697f23f9dcb"
   },
   "outputs": [
    {
     "data": {
      "text/plain": [
       "FactorAnalyzer(bounds=(0.005, 1), impute='drop', is_corr_matrix=False,\n",
       "               method='minres', n_factors=2, rotation=None, rotation_kwargs={},\n",
       "               use_smc=True)"
      ]
     },
     "execution_count": 39,
     "metadata": {},
     "output_type": "execute_result"
    }
   ],
   "source": [
    "fa5 = FactorAnalyzer(rotation = None,impute = \"drop\",is_corr_matrix=False,n_factors=2)\n",
    "fa5.fit(X)"
   ]
  },
  {
   "cell_type": "code",
   "execution_count": 40,
   "metadata": {
    "colab": {
     "base_uri": "https://localhost:8080/",
     "height": 194
    },
    "executionInfo": {
     "elapsed": 63,
     "status": "ok",
     "timestamp": 1630635711240,
     "user": {
      "displayName": "MARIA INES STIMOLO",
      "photoUrl": "https://lh3.googleusercontent.com/a-/AOh14GiiSi_WlVy1nGXfjnRzL2LpjvRn_JZOB4OpoMFb=s64",
      "userId": "01469115874005837220"
     },
     "user_tz": 180
    },
    "id": "t5mrOJNssmtx",
    "outputId": "91e26cc9-e8ed-4c0b-dd5e-72b1be305bc3"
   },
   "outputs": [
    {
     "name": "stdout",
     "output_type": "stream",
     "text": [
      "--------------------------------------------------------------\n",
      "Varianza de cada factor/ proporción de la varianza y acumulada\n",
      "---------------------------------------------------------------\n"
     ]
    },
    {
     "data": {
      "text/html": [
       "<div>\n",
       "<style scoped>\n",
       "    .dataframe tbody tr th:only-of-type {\n",
       "        vertical-align: middle;\n",
       "    }\n",
       "\n",
       "    .dataframe tbody tr th {\n",
       "        vertical-align: top;\n",
       "    }\n",
       "\n",
       "    .dataframe thead th {\n",
       "        text-align: right;\n",
       "    }\n",
       "</style>\n",
       "<table border=\"1\" class=\"dataframe\">\n",
       "  <thead>\n",
       "    <tr style=\"text-align: right;\">\n",
       "      <th></th>\n",
       "      <th>F1</th>\n",
       "      <th>F2</th>\n",
       "    </tr>\n",
       "  </thead>\n",
       "  <tbody>\n",
       "    <tr>\n",
       "      <th>Varianza factor</th>\n",
       "      <td>10.055103</td>\n",
       "      <td>0.854751</td>\n",
       "    </tr>\n",
       "    <tr>\n",
       "      <th>Proporción varianza</th>\n",
       "      <td>0.837925</td>\n",
       "      <td>0.071229</td>\n",
       "    </tr>\n",
       "    <tr>\n",
       "      <th>Proporción varianza acumulada</th>\n",
       "      <td>0.837925</td>\n",
       "      <td>0.909154</td>\n",
       "    </tr>\n",
       "  </tbody>\n",
       "</table>\n",
       "</div>"
      ],
      "text/plain": [
       "                                      F1        F2\n",
       "Varianza factor                10.055103  0.854751\n",
       "Proporción varianza             0.837925  0.071229\n",
       "Proporción varianza acumulada   0.837925  0.909154"
      ]
     },
     "execution_count": 40,
     "metadata": {},
     "output_type": "execute_result"
    }
   ],
   "source": [
    " print('--------------------------------------------------------------')\n",
    "print ('Varianza de cada factor/ proporción de la varianza y acumulada')\n",
    "print('---------------------------------------------------------------')\n",
    "name_factor=['F1','F2']\n",
    "pd.DataFrame(fa5.get_factor_variance(),index=['Varianza factor','Proporción varianza', 'Proporción varianza acumulada'] ,columns=name_factor)"
   ]
  },
  {
   "cell_type": "code",
   "execution_count": 41,
   "metadata": {
    "colab": {
     "base_uri": "https://localhost:8080/",
     "height": 416
    },
    "executionInfo": {
     "elapsed": 54,
     "status": "ok",
     "timestamp": 1630635711241,
     "user": {
      "displayName": "MARIA INES STIMOLO",
      "photoUrl": "https://lh3.googleusercontent.com/a-/AOh14GiiSi_WlVy1nGXfjnRzL2LpjvRn_JZOB4OpoMFb=s64",
      "userId": "01469115874005837220"
     },
     "user_tz": 180
    },
    "id": "kCenNefhOsMd",
    "outputId": "82a0ebe9-9c4e-48a4-a2aa-949a00d66610"
   },
   "outputs": [
    {
     "data": {
      "text/html": [
       "<div>\n",
       "<style scoped>\n",
       "    .dataframe tbody tr th:only-of-type {\n",
       "        vertical-align: middle;\n",
       "    }\n",
       "\n",
       "    .dataframe tbody tr th {\n",
       "        vertical-align: top;\n",
       "    }\n",
       "\n",
       "    .dataframe thead th {\n",
       "        text-align: right;\n",
       "    }\n",
       "</style>\n",
       "<table border=\"1\" class=\"dataframe\">\n",
       "  <thead>\n",
       "    <tr style=\"text-align: right;\">\n",
       "      <th></th>\n",
       "      <th>F1</th>\n",
       "      <th>F2</th>\n",
       "    </tr>\n",
       "  </thead>\n",
       "  <tbody>\n",
       "    <tr>\n",
       "      <th>NetIncome</th>\n",
       "      <td>-0.068990</td>\n",
       "      <td>0.399752</td>\n",
       "    </tr>\n",
       "    <tr>\n",
       "      <th>TotalAssets</th>\n",
       "      <td>0.980550</td>\n",
       "      <td>-0.187743</td>\n",
       "    </tr>\n",
       "    <tr>\n",
       "      <th>TotalLiabilities</th>\n",
       "      <td>0.971058</td>\n",
       "      <td>-0.211038</td>\n",
       "    </tr>\n",
       "    <tr>\n",
       "      <th>TotalEquity</th>\n",
       "      <td>0.978958</td>\n",
       "      <td>-0.132968</td>\n",
       "    </tr>\n",
       "    <tr>\n",
       "      <th>anualTotalRevenue</th>\n",
       "      <td>0.987307</td>\n",
       "      <td>0.056738</td>\n",
       "    </tr>\n",
       "    <tr>\n",
       "      <th>TotalOperatingExpense_Total</th>\n",
       "      <td>0.985953</td>\n",
       "      <td>0.032546</td>\n",
       "    </tr>\n",
       "    <tr>\n",
       "      <th>TotalCurrentAssets</th>\n",
       "      <td>0.986776</td>\n",
       "      <td>-0.124289</td>\n",
       "    </tr>\n",
       "    <tr>\n",
       "      <th>TotalCurrentLiabilities</th>\n",
       "      <td>0.993072</td>\n",
       "      <td>-0.061985</td>\n",
       "    </tr>\n",
       "    <tr>\n",
       "      <th>TotalCurrentAssetslessInvento</th>\n",
       "      <td>0.978745</td>\n",
       "      <td>-0.113649</td>\n",
       "    </tr>\n",
       "    <tr>\n",
       "      <th>CostofRevenue_Total</th>\n",
       "      <td>0.966291</td>\n",
       "      <td>-0.109030</td>\n",
       "    </tr>\n",
       "    <tr>\n",
       "      <th>GrossProfit_Total</th>\n",
       "      <td>0.882557</td>\n",
       "      <td>0.458737</td>\n",
       "    </tr>\n",
       "    <tr>\n",
       "      <th>SA&amp;G_Total</th>\n",
       "      <td>0.781143</td>\n",
       "      <td>0.581956</td>\n",
       "    </tr>\n",
       "  </tbody>\n",
       "</table>\n",
       "</div>"
      ],
      "text/plain": [
       "                                     F1        F2\n",
       "NetIncome                     -0.068990  0.399752\n",
       "TotalAssets                    0.980550 -0.187743\n",
       "TotalLiabilities               0.971058 -0.211038\n",
       "TotalEquity                    0.978958 -0.132968\n",
       " anualTotalRevenue             0.987307  0.056738\n",
       "TotalOperatingExpense_Total    0.985953  0.032546\n",
       "TotalCurrentAssets             0.986776 -0.124289\n",
       "TotalCurrentLiabilities        0.993072 -0.061985\n",
       "TotalCurrentAssetslessInvento  0.978745 -0.113649\n",
       "CostofRevenue_Total            0.966291 -0.109030\n",
       "GrossProfit_Total              0.882557  0.458737\n",
       "SA&G_Total                     0.781143  0.581956"
      ]
     },
     "execution_count": 41,
     "metadata": {},
     "output_type": "execute_result"
    }
   ],
   "source": [
    "Matriz_cargas=pd.DataFrame(fa5.loadings_, index=names_var ,columns=name_factor)\n",
    "\n",
    "Matriz_cargas"
   ]
  },
  {
   "cell_type": "code",
   "execution_count": 42,
   "metadata": {
    "colab": {
     "base_uri": "https://localhost:8080/",
     "height": 130
    },
    "executionInfo": {
     "elapsed": 54,
     "status": "ok",
     "timestamp": 1630635711243,
     "user": {
      "displayName": "MARIA INES STIMOLO",
      "photoUrl": "https://lh3.googleusercontent.com/a-/AOh14GiiSi_WlVy1nGXfjnRzL2LpjvRn_JZOB4OpoMFb=s64",
      "userId": "01469115874005837220"
     },
     "user_tz": 180
    },
    "id": "mIKqga-4h9Xb",
    "outputId": "dde11004-e538-468e-cd62-5de43af68948"
   },
   "outputs": [
    {
     "data": {
      "text/html": [
       "<div>\n",
       "<style scoped>\n",
       "    .dataframe tbody tr th:only-of-type {\n",
       "        vertical-align: middle;\n",
       "    }\n",
       "\n",
       "    .dataframe tbody tr th {\n",
       "        vertical-align: top;\n",
       "    }\n",
       "\n",
       "    .dataframe thead th {\n",
       "        text-align: right;\n",
       "    }\n",
       "</style>\n",
       "<table border=\"1\" class=\"dataframe\">\n",
       "  <thead>\n",
       "    <tr style=\"text-align: right;\">\n",
       "      <th></th>\n",
       "      <th>NetIncome</th>\n",
       "      <th>TotalAssets</th>\n",
       "      <th>TotalLiabilities</th>\n",
       "      <th>TotalEquity</th>\n",
       "      <th>anualTotalRevenue</th>\n",
       "      <th>TotalOperatingExpense_Total</th>\n",
       "      <th>TotalCurrentAssets</th>\n",
       "      <th>TotalCurrentLiabilities</th>\n",
       "      <th>TotalCurrentAssetslessInvento</th>\n",
       "      <th>CostofRevenue_Total</th>\n",
       "      <th>GrossProfit_Total</th>\n",
       "      <th>SA&amp;G_Total</th>\n",
       "    </tr>\n",
       "  </thead>\n",
       "  <tbody>\n",
       "    <tr>\n",
       "      <th>Comunalidad</th>\n",
       "      <td>0.164561</td>\n",
       "      <td>0.996726</td>\n",
       "      <td>0.987492</td>\n",
       "      <td>0.97604</td>\n",
       "      <td>0.977994</td>\n",
       "      <td>0.973162</td>\n",
       "      <td>0.989175</td>\n",
       "      <td>0.990035</td>\n",
       "      <td>0.970859</td>\n",
       "      <td>0.945606</td>\n",
       "      <td>0.989346</td>\n",
       "      <td>0.948858</td>\n",
       "    </tr>\n",
       "    <tr>\n",
       "      <th>Unicidad</th>\n",
       "      <td>0.835439</td>\n",
       "      <td>0.003274</td>\n",
       "      <td>0.012508</td>\n",
       "      <td>0.02396</td>\n",
       "      <td>0.022006</td>\n",
       "      <td>0.026838</td>\n",
       "      <td>0.010825</td>\n",
       "      <td>0.009965</td>\n",
       "      <td>0.029141</td>\n",
       "      <td>0.054394</td>\n",
       "      <td>0.010654</td>\n",
       "      <td>0.051142</td>\n",
       "    </tr>\n",
       "  </tbody>\n",
       "</table>\n",
       "</div>"
      ],
      "text/plain": [
       "             NetIncome  TotalAssets  ...  GrossProfit_Total  SA&G_Total\n",
       "Comunalidad   0.164561     0.996726  ...           0.989346    0.948858\n",
       "Unicidad      0.835439     0.003274  ...           0.010654    0.051142\n",
       "\n",
       "[2 rows x 12 columns]"
      ]
     },
     "execution_count": 42,
     "metadata": {},
     "output_type": "execute_result"
    }
   ],
   "source": [
    "pd.DataFrame((fa5.get_communalities(),fa5.get_uniquenesses()),index=['Comunalidad','Unicidad'],columns=names_var)"
   ]
  },
  {
   "cell_type": "markdown",
   "metadata": {
    "id": "JamtPc7ph8ny"
   },
   "source": [
    "**Rotación**"
   ]
  },
  {
   "cell_type": "code",
   "execution_count": 43,
   "metadata": {
    "colab": {
     "base_uri": "https://localhost:8080/"
    },
    "executionInfo": {
     "elapsed": 51,
     "status": "ok",
     "timestamp": 1630635711245,
     "user": {
      "displayName": "MARIA INES STIMOLO",
      "photoUrl": "https://lh3.googleusercontent.com/a-/AOh14GiiSi_WlVy1nGXfjnRzL2LpjvRn_JZOB4OpoMFb=s64",
      "userId": "01469115874005837220"
     },
     "user_tz": 180
    },
    "id": "TQV47v7fTCDD",
    "outputId": "a207803e-cc01-469d-f52a-161affd3b314"
   },
   "outputs": [
    {
     "data": {
      "text/plain": [
       "FactorAnalyzer(bounds=(0.005, 1), impute='drop', is_corr_matrix=False,\n",
       "               method='minres', n_factors=2, rotation='varimax',\n",
       "               rotation_kwargs={}, use_smc=True)"
      ]
     },
     "execution_count": 43,
     "metadata": {},
     "output_type": "execute_result"
    }
   ],
   "source": [
    "fa5v= FactorAnalyzer(rotation = 'varimax' ,impute = \"drop\",is_corr_matrix=False,n_factors=2)\n",
    "fa5v.fit(X)\n",
    "\n"
   ]
  },
  {
   "cell_type": "code",
   "execution_count": 44,
   "metadata": {
    "colab": {
     "base_uri": "https://localhost:8080/",
     "height": 470
    },
    "executionInfo": {
     "elapsed": 47,
     "status": "ok",
     "timestamp": 1630635711246,
     "user": {
      "displayName": "MARIA INES STIMOLO",
      "photoUrl": "https://lh3.googleusercontent.com/a-/AOh14GiiSi_WlVy1nGXfjnRzL2LpjvRn_JZOB4OpoMFb=s64",
      "userId": "01469115874005837220"
     },
     "user_tz": 180
    },
    "id": "6ScZOTQ9czKd",
    "outputId": "4c2b895f-f6dc-439f-a59f-5a111d8d5bc9"
   },
   "outputs": [
    {
     "name": "stdout",
     "output_type": "stream",
     "text": [
      "----------------------------------------------------\n",
      "Matriz de coeficientes o cargas factoriales rotadas\n",
      "-----------------------------------------------------\n"
     ]
    },
    {
     "data": {
      "text/html": [
       "<div>\n",
       "<style scoped>\n",
       "    .dataframe tbody tr th:only-of-type {\n",
       "        vertical-align: middle;\n",
       "    }\n",
       "\n",
       "    .dataframe tbody tr th {\n",
       "        vertical-align: top;\n",
       "    }\n",
       "\n",
       "    .dataframe thead th {\n",
       "        text-align: right;\n",
       "    }\n",
       "</style>\n",
       "<table border=\"1\" class=\"dataframe\">\n",
       "  <thead>\n",
       "    <tr style=\"text-align: right;\">\n",
       "      <th></th>\n",
       "      <th>F1</th>\n",
       "      <th>F2</th>\n",
       "      <th>Mayor carga</th>\n",
       "    </tr>\n",
       "  </thead>\n",
       "  <tbody>\n",
       "    <tr>\n",
       "      <th>TotalAssets</th>\n",
       "      <td>0.996611</td>\n",
       "      <td>-0.059102</td>\n",
       "      <td>F1</td>\n",
       "    </tr>\n",
       "    <tr>\n",
       "      <th>TotalLiabilities</th>\n",
       "      <td>0.990218</td>\n",
       "      <td>-0.083430</td>\n",
       "      <td>F1</td>\n",
       "    </tr>\n",
       "    <tr>\n",
       "      <th>TotalEquity</th>\n",
       "      <td>0.987935</td>\n",
       "      <td>-0.004995</td>\n",
       "      <td>F1</td>\n",
       "    </tr>\n",
       "    <tr>\n",
       "      <th>anualTotalRevenue</th>\n",
       "      <td>0.971631</td>\n",
       "      <td>0.184194</td>\n",
       "      <td>F1</td>\n",
       "    </tr>\n",
       "    <tr>\n",
       "      <th>TotalOperatingExpense_Total</th>\n",
       "      <td>0.973423</td>\n",
       "      <td>0.160030</td>\n",
       "      <td>F1</td>\n",
       "    </tr>\n",
       "    <tr>\n",
       "      <th>TotalCurrentAssets</th>\n",
       "      <td>0.994562</td>\n",
       "      <td>0.004624</td>\n",
       "      <td>F1</td>\n",
       "    </tr>\n",
       "    <tr>\n",
       "      <th>TotalCurrentLiabilities</th>\n",
       "      <td>0.992732</td>\n",
       "      <td>0.067219</td>\n",
       "      <td>F1</td>\n",
       "    </tr>\n",
       "    <tr>\n",
       "      <th>TotalCurrentAssetslessInvento</th>\n",
       "      <td>0.985220</td>\n",
       "      <td>0.014133</td>\n",
       "      <td>F1</td>\n",
       "    </tr>\n",
       "    <tr>\n",
       "      <th>CostofRevenue_Total</th>\n",
       "      <td>0.972272</td>\n",
       "      <td>0.017100</td>\n",
       "      <td>F1</td>\n",
       "    </tr>\n",
       "    <tr>\n",
       "      <th>GrossProfit_Total</th>\n",
       "      <td>0.815674</td>\n",
       "      <td>0.569230</td>\n",
       "      <td>F1</td>\n",
       "    </tr>\n",
       "    <tr>\n",
       "      <th>SA&amp;G_Total</th>\n",
       "      <td>0.699149</td>\n",
       "      <td>0.678269</td>\n",
       "      <td>F1</td>\n",
       "    </tr>\n",
       "    <tr>\n",
       "      <th>NetIncome</th>\n",
       "      <td>-0.120208</td>\n",
       "      <td>0.387442</td>\n",
       "      <td>F2</td>\n",
       "    </tr>\n",
       "  </tbody>\n",
       "</table>\n",
       "</div>"
      ],
      "text/plain": [
       "                                     F1        F2 Mayor carga\n",
       "TotalAssets                    0.996611 -0.059102          F1\n",
       "TotalLiabilities               0.990218 -0.083430          F1\n",
       "TotalEquity                    0.987935 -0.004995          F1\n",
       " anualTotalRevenue             0.971631  0.184194          F1\n",
       "TotalOperatingExpense_Total    0.973423  0.160030          F1\n",
       "TotalCurrentAssets             0.994562  0.004624          F1\n",
       "TotalCurrentLiabilities        0.992732  0.067219          F1\n",
       "TotalCurrentAssetslessInvento  0.985220  0.014133          F1\n",
       "CostofRevenue_Total            0.972272  0.017100          F1\n",
       "GrossProfit_Total              0.815674  0.569230          F1\n",
       "SA&G_Total                     0.699149  0.678269          F1\n",
       "NetIncome                     -0.120208  0.387442          F2"
      ]
     },
     "execution_count": 44,
     "metadata": {},
     "output_type": "execute_result"
    }
   ],
   "source": [
    "print('----------------------------------------------------')\n",
    "print ('Matriz de coeficientes o cargas factoriales rotadas')\n",
    "print('-----------------------------------------------------')\n",
    "Matriz_carga_rot = pd.DataFrame(fa5v.loadings_, columns=name_factor, index=names_var)\n",
    "Matriz_carga_rot['Mayor carga'] = Matriz_carga_rot.idxmax(axis=1) # agrega una columna identificando la carga factorial más alta\n",
    "Matriz_carga_rot_ord= Matriz_carga_rot.sort_values('Mayor carga') #ordena la matriz según los factores\n",
    "Matriz_carga_rot_ord"
   ]
  },
  {
   "cell_type": "code",
   "execution_count": 45,
   "metadata": {
    "colab": {
     "base_uri": "https://localhost:8080/",
     "height": 474
    },
    "executionInfo": {
     "elapsed": 690,
     "status": "ok",
     "timestamp": 1630635711895,
     "user": {
      "displayName": "MARIA INES STIMOLO",
      "photoUrl": "https://lh3.googleusercontent.com/a-/AOh14GiiSi_WlVy1nGXfjnRzL2LpjvRn_JZOB4OpoMFb=s64",
      "userId": "01469115874005837220"
     },
     "user_tz": 180
    },
    "id": "cdr9HOVUcxfB",
    "outputId": "707399ff-9ed5-44fe-ed72-c54754705e36"
   },
   "outputs": [
    {
     "name": "stdout",
     "output_type": "stream",
     "text": [
      "------------------------------------------------------------------------------\n",
      "Gráfico para visualizar las cargas factoriales más importantes en cada factor\n",
      "------------------------------------------------------------------------------\n"
     ]
    },
    {
     "data": {
      "image/png": "[encoded data removed]",
      "text/plain": [
       "<Figure size 1800x360 with 2 Axes>"
      ]
     },
     "metadata": {},
     "output_type": "display_data"
    }
   ],
   "source": [
    "print('------------------------------------------------------------------------------')\n",
    "print ('Gráfico para visualizar las cargas factoriales más importantes en cada factor')\n",
    "print('------------------------------------------------------------------------------')\n",
    "import seaborn as sns\n",
    "\n",
    "plt.figure(figsize=(25,5))\n",
    "\n",
    "# plot the heatmap for correlation matrix\n",
    "ax = sns.heatmap(Matriz_carga_rot.drop('Mayor carga', axis=1).T, \n",
    "                vmin=-1, vmax=1, center=0,\n",
    "                cmap=sns.diverging_palette(220, 20, n=200),\n",
    "                square=True, annot=True, fmt='.2f')\n",
    "\n",
    "ax.set_yticklabels(\n",
    "    ax.get_yticklabels(),\n",
    "    rotation=0);"
   ]
  },
  {
   "cell_type": "markdown",
   "metadata": {
    "id": "i2MOUpq0cbKg"
   },
   "source": [
    "**Rotación**"
   ]
  },
  {
   "cell_type": "code",
   "execution_count": 46,
   "metadata": {
    "colab": {
     "base_uri": "https://localhost:8080/"
    },
    "executionInfo": {
     "elapsed": 31,
     "status": "ok",
     "timestamp": 1630635711897,
     "user": {
      "displayName": "MARIA INES STIMOLO",
      "photoUrl": "https://lh3.googleusercontent.com/a-/AOh14GiiSi_WlVy1nGXfjnRzL2LpjvRn_JZOB4OpoMFb=s64",
      "userId": "01469115874005837220"
     },
     "user_tz": 180
    },
    "id": "i3TZfLaiW4l4",
    "outputId": "a26229fc-5ffe-403e-e50f-bfd913acb816"
   },
   "outputs": [
    {
     "data": {
      "text/plain": [
       "array([[ 0.99156914, -0.12957868],\n",
       "       [ 0.12957868,  0.99156914]])"
      ]
     },
     "execution_count": 46,
     "metadata": {},
     "output_type": "execute_result"
    }
   ],
   "source": [
    "fa5v.rotation_matrix_\n"
   ]
  },
  {
   "cell_type": "code",
   "execution_count": 47,
   "metadata": {
    "colab": {
     "base_uri": "https://localhost:8080/",
     "height": 470
    },
    "executionInfo": {
     "elapsed": 30,
     "status": "ok",
     "timestamp": 1630635711899,
     "user": {
      "displayName": "MARIA INES STIMOLO",
      "photoUrl": "https://lh3.googleusercontent.com/a-/AOh14GiiSi_WlVy1nGXfjnRzL2LpjvRn_JZOB4OpoMFb=s64",
      "userId": "01469115874005837220"
     },
     "user_tz": 180
    },
    "id": "YFtFvQ03-A7K",
    "outputId": "63ea83d0-deb2-490f-fb43-0ffedb321ee5"
   },
   "outputs": [
    {
     "name": "stdout",
     "output_type": "stream",
     "text": [
      "----------------------------------------------------\n",
      "Matriz de coeficientes o cargas factoriales rotadas\n",
      "-----------------------------------------------------\n"
     ]
    },
    {
     "data": {
      "text/html": [
       "<div>\n",
       "<style scoped>\n",
       "    .dataframe tbody tr th:only-of-type {\n",
       "        vertical-align: middle;\n",
       "    }\n",
       "\n",
       "    .dataframe tbody tr th {\n",
       "        vertical-align: top;\n",
       "    }\n",
       "\n",
       "    .dataframe thead th {\n",
       "        text-align: right;\n",
       "    }\n",
       "</style>\n",
       "<table border=\"1\" class=\"dataframe\">\n",
       "  <thead>\n",
       "    <tr style=\"text-align: right;\">\n",
       "      <th></th>\n",
       "      <th>F1</th>\n",
       "      <th>F2</th>\n",
       "      <th>Mayor carga</th>\n",
       "    </tr>\n",
       "  </thead>\n",
       "  <tbody>\n",
       "    <tr>\n",
       "      <th>TotalAssets</th>\n",
       "      <td>0.996611</td>\n",
       "      <td>-0.059102</td>\n",
       "      <td>F1</td>\n",
       "    </tr>\n",
       "    <tr>\n",
       "      <th>TotalLiabilities</th>\n",
       "      <td>0.990218</td>\n",
       "      <td>-0.083430</td>\n",
       "      <td>F1</td>\n",
       "    </tr>\n",
       "    <tr>\n",
       "      <th>TotalEquity</th>\n",
       "      <td>0.987935</td>\n",
       "      <td>-0.004995</td>\n",
       "      <td>F1</td>\n",
       "    </tr>\n",
       "    <tr>\n",
       "      <th>anualTotalRevenue</th>\n",
       "      <td>0.971631</td>\n",
       "      <td>0.184194</td>\n",
       "      <td>F1</td>\n",
       "    </tr>\n",
       "    <tr>\n",
       "      <th>TotalOperatingExpense_Total</th>\n",
       "      <td>0.973423</td>\n",
       "      <td>0.160030</td>\n",
       "      <td>F1</td>\n",
       "    </tr>\n",
       "    <tr>\n",
       "      <th>TotalCurrentAssets</th>\n",
       "      <td>0.994562</td>\n",
       "      <td>0.004624</td>\n",
       "      <td>F1</td>\n",
       "    </tr>\n",
       "    <tr>\n",
       "      <th>TotalCurrentLiabilities</th>\n",
       "      <td>0.992732</td>\n",
       "      <td>0.067219</td>\n",
       "      <td>F1</td>\n",
       "    </tr>\n",
       "    <tr>\n",
       "      <th>TotalCurrentAssetslessInvento</th>\n",
       "      <td>0.985220</td>\n",
       "      <td>0.014133</td>\n",
       "      <td>F1</td>\n",
       "    </tr>\n",
       "    <tr>\n",
       "      <th>CostofRevenue_Total</th>\n",
       "      <td>0.972272</td>\n",
       "      <td>0.017100</td>\n",
       "      <td>F1</td>\n",
       "    </tr>\n",
       "    <tr>\n",
       "      <th>GrossProfit_Total</th>\n",
       "      <td>0.815674</td>\n",
       "      <td>0.569230</td>\n",
       "      <td>F1</td>\n",
       "    </tr>\n",
       "    <tr>\n",
       "      <th>SA&amp;G_Total</th>\n",
       "      <td>0.699149</td>\n",
       "      <td>0.678269</td>\n",
       "      <td>F1</td>\n",
       "    </tr>\n",
       "    <tr>\n",
       "      <th>NetIncome</th>\n",
       "      <td>-0.120208</td>\n",
       "      <td>0.387442</td>\n",
       "      <td>F2</td>\n",
       "    </tr>\n",
       "  </tbody>\n",
       "</table>\n",
       "</div>"
      ],
      "text/plain": [
       "                                     F1        F2 Mayor carga\n",
       "TotalAssets                    0.996611 -0.059102          F1\n",
       "TotalLiabilities               0.990218 -0.083430          F1\n",
       "TotalEquity                    0.987935 -0.004995          F1\n",
       " anualTotalRevenue             0.971631  0.184194          F1\n",
       "TotalOperatingExpense_Total    0.973423  0.160030          F1\n",
       "TotalCurrentAssets             0.994562  0.004624          F1\n",
       "TotalCurrentLiabilities        0.992732  0.067219          F1\n",
       "TotalCurrentAssetslessInvento  0.985220  0.014133          F1\n",
       "CostofRevenue_Total            0.972272  0.017100          F1\n",
       "GrossProfit_Total              0.815674  0.569230          F1\n",
       "SA&G_Total                     0.699149  0.678269          F1\n",
       "NetIncome                     -0.120208  0.387442          F2"
      ]
     },
     "execution_count": 47,
     "metadata": {},
     "output_type": "execute_result"
    }
   ],
   "source": [
    "print('----------------------------------------------------')\n",
    "print ('Matriz de coeficientes o cargas factoriales rotadas')\n",
    "print('-----------------------------------------------------')\n",
    "Matriz_carga_rot = pd.DataFrame(fa5v.loadings_, columns=name_factor, index=names_var)\n",
    "Matriz_carga_rot['Mayor carga'] = Matriz_carga_rot.idxmax(axis=1) # agrega una columna identificando la carga factorial más alta\n",
    "Matriz_carga_rot_ord= Matriz_carga_rot.sort_values('Mayor carga') #ordena la matriz según los factores\n",
    "Matriz_carga_rot_ord"
   ]
  },
  {
   "cell_type": "markdown",
   "metadata": {
    "id": "-ZISWCPWqRFQ"
   },
   "source": [
    "**Cálculo de los factores**"
   ]
  },
  {
   "cell_type": "code",
   "execution_count": 48,
   "metadata": {
    "executionInfo": {
     "elapsed": 27,
     "status": "ok",
     "timestamp": 1630635711901,
     "user": {
      "displayName": "MARIA INES STIMOLO",
      "photoUrl": "https://lh3.googleusercontent.com/a-/AOh14GiiSi_WlVy1nGXfjnRzL2LpjvRn_JZOB4OpoMFb=s64",
      "userId": "01469115874005837220"
     },
     "user_tz": 180
    },
    "id": "0Qz95q6fqJz0"
   },
   "outputs": [],
   "source": [
    "scores = pd.DataFrame(fa5v.fit_transform(X))"
   ]
  },
  {
   "cell_type": "markdown",
   "metadata": {
    "id": "oodfTVLfdcAZ"
   },
   "source": [
    "**Biplot para los factores**"
   ]
  },
  {
   "cell_type": "code",
   "execution_count": 52,
   "metadata": {
    "executionInfo": {
     "elapsed": 236,
     "status": "ok",
     "timestamp": 1630635781805,
     "user": {
      "displayName": "MARIA INES STIMOLO",
      "photoUrl": "https://lh3.googleusercontent.com/a-/AOh14GiiSi_WlVy1nGXfjnRzL2LpjvRn_JZOB4OpoMFb=s64",
      "userId": "01469115874005837220"
     },
     "user_tz": 180
    },
    "id": "zBSn7U6i42C5"
   },
   "outputs": [],
   "source": [
    "score=scores.iloc[:,[0,1]]\n",
    "score=score.to_numpy()\n",
    "\n",
    "coeff=Matriz_carga_rot.iloc[:,[0,1]]\n",
    "coeff=coeff.to_numpy()\n"
   ]
  },
  {
   "cell_type": "code",
   "execution_count": 53,
   "metadata": {
    "colab": {
     "base_uri": "https://localhost:8080/",
     "height": 285
    },
    "executionInfo": {
     "elapsed": 860,
     "status": "ok",
     "timestamp": 1630635809125,
     "user": {
      "displayName": "MARIA INES STIMOLO",
      "photoUrl": "https://lh3.googleusercontent.com/a-/AOh14GiiSi_WlVy1nGXfjnRzL2LpjvRn_JZOB4OpoMFb=s64",
      "userId": "01469115874005837220"
     },
     "user_tz": 180
    },
    "id": "1flx3pif0Fk9",
    "outputId": "ed2619f1-8663-444e-e16b-5ed33e50de4e"
   },
   "outputs": [
    {
     "data": {
      "image/png": "[encoded data removed]",
      "text/plain": [
       "<Figure size 432x288 with 1 Axes>"
      ]
     },
     "metadata": {},
     "output_type": "display_data"
    }
   ],
   "source": [
    "y= [1] * 188 # si hubiera grupos de pueden identificar\n",
    "\n",
    "# se define una función para graficar\n",
    "def myplot(score,coeff,labels=None):\n",
    "    xs = score[:,0]\n",
    "    ys = score[:,1]\n",
    "    n = coeff.shape[0]\n",
    "    scalex = 1.0/(xs.max() - xs.min())\n",
    "    scaley = 1.0/(ys.max() - ys.min())\n",
    "    plt.scatter(xs * scalex,ys * scaley, c = y)\n",
    "    for i in range(n):\n",
    "        plt.arrow(0, 0, coeff[i,0], coeff[i,1], color = 'r',alpha = 0.5)\n",
    "        if labels is None:\n",
    "            plt.text(coeff[i,0]* 1.15, coeff[i,1] * 1.15, \"Var\"+str(i+1), color = 'g', ha = 'center', va = 'center')\n",
    "        else:\n",
    "            plt.text(coeff[i,0]* 1.15, coeff[i,1] * 1.15, labels[i], color = 'g', ha = 'center', va = 'center')\n",
    "    plt.xlim(-1,1)\n",
    "    plt.ylim(-1,1)\n",
    "    plt.xlabel(\"F{}\".format(1))\n",
    "    plt.ylabel(\"F{}\".format(2))\n",
    "    plt.grid()\n",
    "\n",
    "#Call the function. Use only the 2 PCs.\n",
    "\n",
    "myplot(score,coeff,labels=names_var)\n",
    "plt.show()"
   ]
  }
 ],
 "metadata": {
  "colab": {
   "authorship_tag": "ABX9TyONK1JEOAEqnGcKscZQ3ZdS",
   "name": "M2.U2.Clase4_AF_Ejemplo_2.ipynb",
   "provenance": [
    {
     "file_id": "1sXhQq-HTfDptTre10R50YOxc_q-zQKNu",
     "timestamp": 1630453076601
    },
    {
     "file_id": "19w34ZGuYCX84E-7IVdnkCl9kOfZUrQIX",
     "timestamp": 1629398033121
    }
   ]
  },
  "kernelspec": {
   "display_name": "Python 3",
   "language": "python",
   "name": "python3"
  },
  "language_info": {
   "codemirror_mode": {
    "name": "ipython",
    "version": 3
   },
   "file_extension": ".py",
   "mimetype": "text/x-python",
   "name": "python",
   "nbconvert_exporter": "python",
   "pygments_lexer": "ipython3",
   "version": "3.7.3"
  }
 },
 "nbformat": 4,
 "nbformat_minor": 1
}
