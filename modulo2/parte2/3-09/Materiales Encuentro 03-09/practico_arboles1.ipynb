{
  "nbformat": 4,
  "nbformat_minor": 0,
  "metadata": {
    "interpreter": {
      "hash": "8224f873e57c86ab65480717b16ff633bb8ea1d2368793f8955b692a9e5cb94d"
    },
    "kernelspec": {
      "display_name": "Python 3",
      "language": "python",
      "name": "python3"
    },
    "language_info": {
      "codemirror_mode": {
        "name": "ipython",
        "version": 3
      },
      "file_extension": ".py",
      "mimetype": "text/x-python",
      "name": "python",
      "nbconvert_exporter": "python",
      "pygments_lexer": "ipython3",
      "version": "3.8.8"
    },
    "colab": {
      "name": "practico_arboles1.ipynb",
      "provenance": []
    }
  },
  "cells": [
    {
      "cell_type": "code",
      "metadata": {
        "id": "5FVv4Bmncy8J"
      },
      "source": [
        "tos"
      ],
      "execution_count": null,
      "outputs": []
    },
    {
      "cell_type": "markdown",
      "metadata": {
        "id": "wQg5HNzVORuW"
      },
      "source": [
        "<center>\n",
        "    \n",
        "# Diplo 2021\n",
        "# Árboles de decisión\n",
        "\n",
        "    Práctico: A- G. Flesia"
      ]
    },
    {
      "cell_type": "markdown",
      "metadata": {
        "id": "n5AhqPOTORud"
      },
      "source": [
        "# Algo de paquetes"
      ]
    },
    {
      "cell_type": "code",
      "metadata": {
        "id": "GAJDJw3rORue"
      },
      "source": [
        "# Manejo de dataframes\n",
        "import pandas as pd\n",
        "\n",
        "# operaciones numéricas\n",
        "import numpy as np\n",
        "\n",
        "#Graficos\n",
        "import matplotlib.pyplot as plt\n",
        "from matplotlib.colors import ListedColormap\n",
        "import seaborn as sns\n",
        "\n",
        "# Métodos de aprendizaje automático\n",
        "import xgboost as xgb\n",
        "from xgboost import XGBClassifier, XGBRFClassifier\n",
        "from sklearn.model_selection import train_test_split\n",
        "from sklearn.tree import DecisionTreeClassifier\n",
        "from sklearn.ensemble import RandomForestClassifier\n",
        "from sklearn import tree\n",
        "from sklearn import metrics\n",
        "from sklearn.metrics import accuracy_score\n",
        "\n",
        "#datos \n",
        "from sklearn import datasets\n",
        "from sklearn.datasets import load_iris\n"
      ],
      "execution_count": 32,
      "outputs": []
    },
    {
      "cell_type": "markdown",
      "metadata": {
        "id": "FsWPOT7zORuh"
      },
      "source": [
        "# Arboles de decisión\n",
        "En esta sección, vamos a ver cómo funciona un árbol de decisión y luego vamos a utilizar el paquete scikit-learn para realizar un árbol de decisión.\n",
        "\n",
        "Haremos este ejemplo sobre una base de datos que armaremos en un dataframe utilizando el paquete `Pandas`."
      ]
    },
    {
      "cell_type": "code",
      "metadata": {
        "colab": {
          "base_uri": "https://localhost:8080/",
          "height": 362
        },
        "id": "OJjOaKTTORuj",
        "outputId": "e47a72a3-5246-45f1-8ab3-09307688786e"
      },
      "source": [
        "import pandas as pd\n",
        "\n",
        "data = pd.DataFrame({\"Dientes\":[True,True,True,False,True,True,True,True,True,False],\n",
        "                     \"Pelo\":[True,True,False,True,True,True,False,False,True,False],\n",
        "                     \"Respira\":[True,True,True,True,True,True,False,True,True,True],\n",
        "                     \"Piernas\":[True,True,False,True,True,True,False,False,True,True],\n",
        "                     \"Especie\":[\"Mamifero\",\"Mamifero\",\"Reptil\",\"Mamifero\",\"Mamifero\",\"Mamifero\",\"Reptil\",\"Reptil\",\"Mamifero\",\"Reptil\"]\n",
        "                     }, \n",
        "                    columns=[\"Dientes\",\"Pelo\",\"Respira\",\"Piernas\",\"Especie\"]\n",
        "                    )\n",
        "\n",
        "features = data[[\"Dientes\",\"Pelo\",\"Respira\",\"Piernas\"]]\n",
        "target = data[\"Especie\"]\n",
        "\n",
        "data"
      ],
      "execution_count": 33,
      "outputs": [
        {
          "output_type": "execute_result",
          "data": {
            "text/html": [
              "<div>\n",
              "<style scoped>\n",
              "    .dataframe tbody tr th:only-of-type {\n",
              "        vertical-align: middle;\n",
              "    }\n",
              "\n",
              "    .dataframe tbody tr th {\n",
              "        vertical-align: top;\n",
              "    }\n",
              "\n",
              "    .dataframe thead th {\n",
              "        text-align: right;\n",
              "    }\n",
              "</style>\n",
              "<table border=\"1\" class=\"dataframe\">\n",
              "  <thead>\n",
              "    <tr style=\"text-align: right;\">\n",
              "      <th></th>\n",
              "      <th>Dientes</th>\n",
              "      <th>Pelo</th>\n",
              "      <th>Respira</th>\n",
              "      <th>Piernas</th>\n",
              "      <th>Especie</th>\n",
              "    </tr>\n",
              "  </thead>\n",
              "  <tbody>\n",
              "    <tr>\n",
              "      <th>0</th>\n",
              "      <td>True</td>\n",
              "      <td>True</td>\n",
              "      <td>True</td>\n",
              "      <td>True</td>\n",
              "      <td>Mamifero</td>\n",
              "    </tr>\n",
              "    <tr>\n",
              "      <th>1</th>\n",
              "      <td>True</td>\n",
              "      <td>True</td>\n",
              "      <td>True</td>\n",
              "      <td>True</td>\n",
              "      <td>Mamifero</td>\n",
              "    </tr>\n",
              "    <tr>\n",
              "      <th>2</th>\n",
              "      <td>True</td>\n",
              "      <td>False</td>\n",
              "      <td>True</td>\n",
              "      <td>False</td>\n",
              "      <td>Reptil</td>\n",
              "    </tr>\n",
              "    <tr>\n",
              "      <th>3</th>\n",
              "      <td>False</td>\n",
              "      <td>True</td>\n",
              "      <td>True</td>\n",
              "      <td>True</td>\n",
              "      <td>Mamifero</td>\n",
              "    </tr>\n",
              "    <tr>\n",
              "      <th>4</th>\n",
              "      <td>True</td>\n",
              "      <td>True</td>\n",
              "      <td>True</td>\n",
              "      <td>True</td>\n",
              "      <td>Mamifero</td>\n",
              "    </tr>\n",
              "    <tr>\n",
              "      <th>5</th>\n",
              "      <td>True</td>\n",
              "      <td>True</td>\n",
              "      <td>True</td>\n",
              "      <td>True</td>\n",
              "      <td>Mamifero</td>\n",
              "    </tr>\n",
              "    <tr>\n",
              "      <th>6</th>\n",
              "      <td>True</td>\n",
              "      <td>False</td>\n",
              "      <td>False</td>\n",
              "      <td>False</td>\n",
              "      <td>Reptil</td>\n",
              "    </tr>\n",
              "    <tr>\n",
              "      <th>7</th>\n",
              "      <td>True</td>\n",
              "      <td>False</td>\n",
              "      <td>True</td>\n",
              "      <td>False</td>\n",
              "      <td>Reptil</td>\n",
              "    </tr>\n",
              "    <tr>\n",
              "      <th>8</th>\n",
              "      <td>True</td>\n",
              "      <td>True</td>\n",
              "      <td>True</td>\n",
              "      <td>True</td>\n",
              "      <td>Mamifero</td>\n",
              "    </tr>\n",
              "    <tr>\n",
              "      <th>9</th>\n",
              "      <td>False</td>\n",
              "      <td>False</td>\n",
              "      <td>True</td>\n",
              "      <td>True</td>\n",
              "      <td>Reptil</td>\n",
              "    </tr>\n",
              "  </tbody>\n",
              "</table>\n",
              "</div>"
            ],
            "text/plain": [
              "   Dientes   Pelo  Respira  Piernas   Especie\n",
              "0     True   True     True     True  Mamifero\n",
              "1     True   True     True     True  Mamifero\n",
              "2     True  False     True    False    Reptil\n",
              "3    False   True     True     True  Mamifero\n",
              "4     True   True     True     True  Mamifero\n",
              "5     True   True     True     True  Mamifero\n",
              "6     True  False    False    False    Reptil\n",
              "7     True  False     True    False    Reptil\n",
              "8     True   True     True     True  Mamifero\n",
              "9    False  False     True     True    Reptil"
            ]
          },
          "metadata": {},
          "execution_count": 33
        }
      ]
    },
    {
      "cell_type": "code",
      "metadata": {
        "id": "vWrbG82HSxp1"
      },
      "source": [
        "features2= features.astype('int64')"
      ],
      "execution_count": 34,
      "outputs": []
    },
    {
      "cell_type": "code",
      "metadata": {
        "colab": {
          "base_uri": "https://localhost:8080/",
          "height": 362
        },
        "id": "5JcGpdITT8Ki",
        "outputId": "386cd302-94bf-4d5b-bf65-4576d5255f9c"
      },
      "source": [
        "features"
      ],
      "execution_count": 35,
      "outputs": [
        {
          "output_type": "execute_result",
          "data": {
            "text/html": [
              "<div>\n",
              "<style scoped>\n",
              "    .dataframe tbody tr th:only-of-type {\n",
              "        vertical-align: middle;\n",
              "    }\n",
              "\n",
              "    .dataframe tbody tr th {\n",
              "        vertical-align: top;\n",
              "    }\n",
              "\n",
              "    .dataframe thead th {\n",
              "        text-align: right;\n",
              "    }\n",
              "</style>\n",
              "<table border=\"1\" class=\"dataframe\">\n",
              "  <thead>\n",
              "    <tr style=\"text-align: right;\">\n",
              "      <th></th>\n",
              "      <th>Dientes</th>\n",
              "      <th>Pelo</th>\n",
              "      <th>Respira</th>\n",
              "      <th>Piernas</th>\n",
              "    </tr>\n",
              "  </thead>\n",
              "  <tbody>\n",
              "    <tr>\n",
              "      <th>0</th>\n",
              "      <td>True</td>\n",
              "      <td>True</td>\n",
              "      <td>True</td>\n",
              "      <td>True</td>\n",
              "    </tr>\n",
              "    <tr>\n",
              "      <th>1</th>\n",
              "      <td>True</td>\n",
              "      <td>True</td>\n",
              "      <td>True</td>\n",
              "      <td>True</td>\n",
              "    </tr>\n",
              "    <tr>\n",
              "      <th>2</th>\n",
              "      <td>True</td>\n",
              "      <td>False</td>\n",
              "      <td>True</td>\n",
              "      <td>False</td>\n",
              "    </tr>\n",
              "    <tr>\n",
              "      <th>3</th>\n",
              "      <td>False</td>\n",
              "      <td>True</td>\n",
              "      <td>True</td>\n",
              "      <td>True</td>\n",
              "    </tr>\n",
              "    <tr>\n",
              "      <th>4</th>\n",
              "      <td>True</td>\n",
              "      <td>True</td>\n",
              "      <td>True</td>\n",
              "      <td>True</td>\n",
              "    </tr>\n",
              "    <tr>\n",
              "      <th>5</th>\n",
              "      <td>True</td>\n",
              "      <td>True</td>\n",
              "      <td>True</td>\n",
              "      <td>True</td>\n",
              "    </tr>\n",
              "    <tr>\n",
              "      <th>6</th>\n",
              "      <td>True</td>\n",
              "      <td>False</td>\n",
              "      <td>False</td>\n",
              "      <td>False</td>\n",
              "    </tr>\n",
              "    <tr>\n",
              "      <th>7</th>\n",
              "      <td>True</td>\n",
              "      <td>False</td>\n",
              "      <td>True</td>\n",
              "      <td>False</td>\n",
              "    </tr>\n",
              "    <tr>\n",
              "      <th>8</th>\n",
              "      <td>True</td>\n",
              "      <td>True</td>\n",
              "      <td>True</td>\n",
              "      <td>True</td>\n",
              "    </tr>\n",
              "    <tr>\n",
              "      <th>9</th>\n",
              "      <td>False</td>\n",
              "      <td>False</td>\n",
              "      <td>True</td>\n",
              "      <td>True</td>\n",
              "    </tr>\n",
              "  </tbody>\n",
              "</table>\n",
              "</div>"
            ],
            "text/plain": [
              "   Dientes   Pelo  Respira  Piernas\n",
              "0     True   True     True     True\n",
              "1     True   True     True     True\n",
              "2     True  False     True    False\n",
              "3    False   True     True     True\n",
              "4     True   True     True     True\n",
              "5     True   True     True     True\n",
              "6     True  False    False    False\n",
              "7     True  False     True    False\n",
              "8     True   True     True     True\n",
              "9    False  False     True     True"
            ]
          },
          "metadata": {},
          "execution_count": 35
        }
      ]
    },
    {
      "cell_type": "markdown",
      "metadata": {
        "id": "ZaZQHMveORuk"
      },
      "source": [
        "Vemos que la base de datos cuenta con 10 animales, sobre los cuales se ha observado si presentan dientes, si tienen pelo, si respiran y si tienen piernas. La variable dependiente en este caso es la especie. Se desea saber si, a partir de las variables registradas, se puede generar un clasificador que determine si un animal es mamífero o reptil. Para esto utilizaremos un árbol de decisión."
      ]
    },
    {
      "cell_type": "markdown",
      "metadata": {
        "id": "NmO3uOuGORul"
      },
      "source": [
        "## Implementación\n",
        "\n",
        "La implementación en python es sencilla. Primero, lo implementaremos con scikit-learn y luego iremos entendiendo qué está haciendo el método de este paquete."
      ]
    },
    {
      "cell_type": "code",
      "metadata": {
        "colab": {
          "base_uri": "https://localhost:8080/"
        },
        "id": "r3zGv-UPORum",
        "outputId": "c0da35a4-302d-4b6b-cce7-5e66db2da23a"
      },
      "source": [
        "from sklearn.tree import DecisionTreeClassifier\n",
        "model = DecisionTreeClassifier(criterion = 'entropy').fit(features,target)\n",
        "print(\"The prediction accuracy is: \",model.score(features,target)*100,\"%\")\n",
        "# prediction = model.predict(test_features)"
      ],
      "execution_count": 36,
      "outputs": [
        {
          "output_type": "stream",
          "name": "stdout",
          "text": [
            "The prediction accuracy is:  100.0 %\n"
          ]
        }
      ]
    },
    {
      "cell_type": "markdown",
      "metadata": {
        "id": "p2ZqvPzQORuo"
      },
      "source": [
        "Podemos graficar el árbol de decisión:"
      ]
    },
    {
      "cell_type": "code",
      "metadata": {
        "colab": {
          "base_uri": "https://localhost:8080/",
          "height": 411
        },
        "id": "2WrZOo0mORup",
        "outputId": "75a4cbfc-dddf-40d4-9727-f2d3596f527b"
      },
      "source": [
        "import matplotlib.pyplot as plt\n",
        "from sklearn import tree\n",
        "plt.figure(figsize=(15,7))\n",
        "tree.plot_tree(model,feature_names=[\"Dientes\",\"Pelo\",\"Respira\",\"Piernas\"],filled=True)\n",
        "plt.show()"
      ],
      "execution_count": 71,
      "outputs": [
        {
          "output_type": "display_data",
          "data": {
            "image/png": "[encoded data removed]",
            "text/plain": [
              "<Figure size 1080x504 with 1 Axes>"
            ]
          },
          "metadata": {
            "needs_background": "light"
          }
        }
      ]
    },
    {
      "cell_type": "markdown",
      "metadata": {
        "id": "l9EejHW4dEIb"
      },
      "source": [
        "Arrmemos unos nuevos datos y veamos como los clasifica"
      ]
    },
    {
      "cell_type": "code",
      "metadata": {
        "colab": {
          "base_uri": "https://localhost:8080/"
        },
        "id": "GFcdnV0qXCM0",
        "outputId": "f7cc8da2-307e-4992-8b0c-2141233e7994"
      },
      "source": [
        "#recordemos que las variables son [\"Dientes\",\"Pelo\",\"Respira\",\"Piernas\"]\n",
        "animal_raro_1 = [0,0,0,0]\n",
        "animal_raro_2 = [1,1,0,0]\n",
        "model.predict([animal_raro_1])\n"
      ],
      "execution_count": 55,
      "outputs": [
        {
          "output_type": "execute_result",
          "data": {
            "text/plain": [
              "array(['Reptil'], dtype=object)"
            ]
          },
          "metadata": {},
          "execution_count": 55
        }
      ]
    },
    {
      "cell_type": "code",
      "metadata": {
        "colab": {
          "base_uri": "https://localhost:8080/"
        },
        "id": "sRh9daQceJA-",
        "outputId": "0decfdcd-4cf5-4673-8d90-913ba2744bbf"
      },
      "source": [
        "model.predict_proba([animal_raro_1])"
      ],
      "execution_count": 56,
      "outputs": [
        {
          "output_type": "execute_result",
          "data": {
            "text/plain": [
              "array([[0., 1.]])"
            ]
          },
          "metadata": {},
          "execution_count": 56
        }
      ]
    },
    {
      "cell_type": "code",
      "metadata": {
        "colab": {
          "base_uri": "https://localhost:8080/"
        },
        "id": "GjZuIN54dMwJ",
        "outputId": "aa95f71c-c462-4335-c667-d8d45cdee697"
      },
      "source": [
        "model.predict([animal_raro_2])"
      ],
      "execution_count": 57,
      "outputs": [
        {
          "output_type": "execute_result",
          "data": {
            "text/plain": [
              "array(['Mamifero'], dtype=object)"
            ]
          },
          "metadata": {},
          "execution_count": 57
        }
      ]
    },
    {
      "cell_type": "code",
      "metadata": {
        "colab": {
          "base_uri": "https://localhost:8080/"
        },
        "id": "KkjTHY_vdlfn",
        "outputId": "693a10ce-1ec0-4faa-ec28-93e4c9510eb7"
      },
      "source": [
        "model.predict_proba([animal_raro_2])"
      ],
      "execution_count": 58,
      "outputs": [
        {
          "output_type": "execute_result",
          "data": {
            "text/plain": [
              "array([[1., 0.]])"
            ]
          },
          "metadata": {},
          "execution_count": 58
        }
      ]
    },
    {
      "cell_type": "markdown",
      "metadata": {
        "id": "YqFdz6zTORuq"
      },
      "source": [
        "## Ahora entendamos un poco\n",
        "\n",
        "\n",
        "Entropía $H$:\n",
        "\n",
        "Medida de impureza de un conjunto de datos. La ganancia de información se refleja en un decrecimiento en la medida de entropía.\n",
        "\n",
        "Definición: \n",
        "\n",
        "$H(Q_m) = - \\sum_{k \\in target} P_{mk} log_2(P_{mk})$,\n",
        "\n",
        "donde $Q_m$ son los datos en el nodo $m$ del árbol, la suma se extiende sobre los posibles valores $k$ de la variable respuesta y $P_{mk}$ es la probabilidad condicional que la variable respuesta tome el valor $k$ dado a que estamos en el nodo $m$"
      ]
    },
    {
      "cell_type": "code",
      "metadata": {
        "id": "GpwAB7ljORuq"
      },
      "source": [
        "def entropia(P):\n",
        "    '''\n",
        "    Función que calcula medida de entropía dada una probabilidad P.\n",
        "    '''\n",
        "    entropy = - P * np.log2(P)\n",
        "    return entropy"
      ],
      "execution_count": 20,
      "outputs": []
    },
    {
      "cell_type": "code",
      "metadata": {
        "colab": {
          "base_uri": "https://localhost:8080/",
          "height": 279
        },
        "id": "LX8e0bpoORur",
        "outputId": "d2c36a01-8699-4817-bc3f-417a4f6526a0"
      },
      "source": [
        "import numpy as np\n",
        "\n",
        "#Declaramos la figura\n",
        "plt.figure()\n",
        "\n",
        "#Agregamos contenido\n",
        "x = np.linspace(0.01,1)\n",
        "plt.plot(x,x,label='P(x)')\n",
        "plt.plot(x,np.log2(x),label='log2(P(x)))')\n",
        "plt.plot(x,entropia(x),label='Entropía')\n",
        "\n",
        "#Agregamos formato\n",
        "plt.xlabel(\"P(x)\") #Agrega nombre al eje x\n",
        "plt.ylabel(\"y\") #Agrega nombre al eje y\n",
        "plt.grid() #muestra la grilla\n",
        "plt.legend() #muestra las leyendas, definidas con \"label\" en cada curva.\n",
        "\n",
        "#mostramos y cerramos la figura\n",
        "plt.show()"
      ],
      "execution_count": 21,
      "outputs": [
        {
          "output_type": "display_data",
          "data": {
            "image/png": "[encoded data removed]",
            "text/plain": [
              "<Figure size 432x288 with 1 Axes>"
            ]
          },
          "metadata": {
            "needs_background": "light"
          }
        }
      ]
    },
    {
      "cell_type": "code",
      "metadata": {
        "id": "cpRjdpjTORus",
        "outputId": "7d75b861-5780-49b3-c445-6159cb2e476e"
      },
      "source": [
        "data"
      ],
      "execution_count": null,
      "outputs": [
        {
          "data": {
            "text/html": [
              "<div>\n",
              "<style scoped>\n",
              "    .dataframe tbody tr th:only-of-type {\n",
              "        vertical-align: middle;\n",
              "    }\n",
              "\n",
              "    .dataframe tbody tr th {\n",
              "        vertical-align: top;\n",
              "    }\n",
              "\n",
              "    .dataframe thead th {\n",
              "        text-align: right;\n",
              "    }\n",
              "</style>\n",
              "<table border=\"1\" class=\"dataframe\">\n",
              "  <thead>\n",
              "    <tr style=\"text-align: right;\">\n",
              "      <th></th>\n",
              "      <th>Dientes</th>\n",
              "      <th>Pelo</th>\n",
              "      <th>Respira</th>\n",
              "      <th>Piernas</th>\n",
              "      <th>Especie</th>\n",
              "    </tr>\n",
              "  </thead>\n",
              "  <tbody>\n",
              "    <tr>\n",
              "      <th>0</th>\n",
              "      <td>True</td>\n",
              "      <td>True</td>\n",
              "      <td>True</td>\n",
              "      <td>True</td>\n",
              "      <td>Mamifero</td>\n",
              "    </tr>\n",
              "    <tr>\n",
              "      <th>1</th>\n",
              "      <td>True</td>\n",
              "      <td>True</td>\n",
              "      <td>True</td>\n",
              "      <td>True</td>\n",
              "      <td>Mamifero</td>\n",
              "    </tr>\n",
              "    <tr>\n",
              "      <th>2</th>\n",
              "      <td>True</td>\n",
              "      <td>False</td>\n",
              "      <td>True</td>\n",
              "      <td>False</td>\n",
              "      <td>Reptil</td>\n",
              "    </tr>\n",
              "    <tr>\n",
              "      <th>3</th>\n",
              "      <td>False</td>\n",
              "      <td>True</td>\n",
              "      <td>True</td>\n",
              "      <td>True</td>\n",
              "      <td>Mamifero</td>\n",
              "    </tr>\n",
              "    <tr>\n",
              "      <th>4</th>\n",
              "      <td>True</td>\n",
              "      <td>True</td>\n",
              "      <td>True</td>\n",
              "      <td>True</td>\n",
              "      <td>Mamifero</td>\n",
              "    </tr>\n",
              "    <tr>\n",
              "      <th>5</th>\n",
              "      <td>True</td>\n",
              "      <td>True</td>\n",
              "      <td>True</td>\n",
              "      <td>True</td>\n",
              "      <td>Mamifero</td>\n",
              "    </tr>\n",
              "    <tr>\n",
              "      <th>6</th>\n",
              "      <td>True</td>\n",
              "      <td>False</td>\n",
              "      <td>False</td>\n",
              "      <td>False</td>\n",
              "      <td>Reptil</td>\n",
              "    </tr>\n",
              "    <tr>\n",
              "      <th>7</th>\n",
              "      <td>True</td>\n",
              "      <td>False</td>\n",
              "      <td>True</td>\n",
              "      <td>False</td>\n",
              "      <td>Reptil</td>\n",
              "    </tr>\n",
              "    <tr>\n",
              "      <th>8</th>\n",
              "      <td>True</td>\n",
              "      <td>True</td>\n",
              "      <td>True</td>\n",
              "      <td>True</td>\n",
              "      <td>Mamifero</td>\n",
              "    </tr>\n",
              "    <tr>\n",
              "      <th>9</th>\n",
              "      <td>False</td>\n",
              "      <td>False</td>\n",
              "      <td>True</td>\n",
              "      <td>True</td>\n",
              "      <td>Reptil</td>\n",
              "    </tr>\n",
              "  </tbody>\n",
              "</table>\n",
              "</div>"
            ],
            "text/plain": [
              "   Dientes   Pelo  Respira  Piernas   Especie\n",
              "0     True   True     True     True  Mamifero\n",
              "1     True   True     True     True  Mamifero\n",
              "2     True  False     True    False    Reptil\n",
              "3    False   True     True     True  Mamifero\n",
              "4     True   True     True     True  Mamifero\n",
              "5     True   True     True     True  Mamifero\n",
              "6     True  False    False    False    Reptil\n",
              "7     True  False     True    False    Reptil\n",
              "8     True   True     True     True  Mamifero\n",
              "9    False  False     True     True    Reptil"
            ]
          },
          "execution_count": 7,
          "metadata": {},
          "output_type": "execute_result"
        }
      ]
    },
    {
      "cell_type": "markdown",
      "metadata": {
        "id": "-dCOaAiVORut"
      },
      "source": [
        "Para utilizar la definición de entropía debemos tener una función que estime la probabilidad con la frecuencia relativa.  "
      ]
    },
    {
      "cell_type": "code",
      "metadata": {
        "colab": {
          "base_uri": "https://localhost:8080/"
        },
        "id": "bnKsHDu8ORut",
        "outputId": "302bcc8d-d170-4e4e-fde2-6920276aa28d"
      },
      "source": [
        "def calc_prob(data):\n",
        "    '''\n",
        "    Función que calcula la probabilidad de cada clase.\n",
        "    data : columna categórica de un dataframe de pandas.\n",
        "    '''\n",
        "    return data.value_counts()/data.shape[0]\n",
        "\n",
        "    \n",
        "probabilidades = calc_prob(data['Especie'])\n",
        "probabilidades"
      ],
      "execution_count": 22,
      "outputs": [
        {
          "output_type": "execute_result",
          "data": {
            "text/plain": [
              "Mamifero    0.6\n",
              "Reptil      0.4\n",
              "Name: Especie, dtype: float64"
            ]
          },
          "metadata": {},
          "execution_count": 22
        }
      ]
    },
    {
      "cell_type": "markdown",
      "metadata": {
        "id": "c4B_ILtMORut"
      },
      "source": [
        "Con esta función, podemos calcular la entropía total de los datos en el primer nodo:"
      ]
    },
    {
      "cell_type": "code",
      "metadata": {
        "colab": {
          "base_uri": "https://localhost:8080/"
        },
        "id": "LHIWRiIYORut",
        "outputId": "5cb41cbe-fa16-42c9-9b6d-4830ab028b01"
      },
      "source": [
        "entropia_total = entropia(probabilidades[0]) + entropia(probabilidades[1])\n",
        "\n",
        "\n",
        "#Es lo mismo que:\n",
        "\n",
        "\n",
        "entropia_total = np.sum([entropia(pi) for pi in probabilidades])\n",
        "\n",
        "print(f'La entropia total es {round(entropia_total,3)}')"
      ],
      "execution_count": 23,
      "outputs": [
        {
          "output_type": "stream",
          "name": "stdout",
          "text": [
            "La entropia total es 0.971\n"
          ]
        }
      ]
    },
    {
      "cell_type": "markdown",
      "metadata": {
        "id": "_XHt7cIhORuv"
      },
      "source": [
        "Podemos ver que este valor coincide con el que declara el método `DecisionTreeClassifier` de `scikit-learn` en el árbol de decisión que obtuvimos anteriormente.\n",
        "\n",
        "\n",
        "Ahora, **¿Por qué eligió la variable pelo para ramificar? ¿Cómo lo hizo?**\n",
        "\n",
        "Para responder esto, calculemos la ganancia de entropía para cada variable descriptiva. Esto lo podemos pensar como:\n",
        "\n",
        "$GananciaEntropia(variable_d) = Entropia_{total} - Entropia(variable_d)$\n",
        "\n",
        "Lo que se puede escribir como:\n",
        "\n",
        "$GananciaEntropia(variable_d) = Entropia_{total} - \\sum_{t \\in variable_d} P(variable_d=t) * H(variable_d=t) $\n",
        "\n",
        "que es igual a:\n",
        "\n",
        "$GananciaEntropia(variable_d) = Entropia_{total} - \\sum_{t \\in variable_d} P(variable_d=t) * (-\\sum_{k \\in target} P(target=k \\cap variable_d = t)) * \\log_2(P((target=k \\cap variable_d = t)))$"
      ]
    },
    {
      "cell_type": "code",
      "metadata": {
        "id": "Yt1T0c5wORuv",
        "outputId": "2c13cff3-602a-407b-d2a7-34c9cedf30b8"
      },
      "source": [
        "data[data.Dientes == 1]"
      ],
      "execution_count": null,
      "outputs": [
        {
          "data": {
            "text/html": [
              "<div>\n",
              "<style scoped>\n",
              "    .dataframe tbody tr th:only-of-type {\n",
              "        vertical-align: middle;\n",
              "    }\n",
              "\n",
              "    .dataframe tbody tr th {\n",
              "        vertical-align: top;\n",
              "    }\n",
              "\n",
              "    .dataframe thead th {\n",
              "        text-align: right;\n",
              "    }\n",
              "</style>\n",
              "<table border=\"1\" class=\"dataframe\">\n",
              "  <thead>\n",
              "    <tr style=\"text-align: right;\">\n",
              "      <th></th>\n",
              "      <th>Dientes</th>\n",
              "      <th>Pelo</th>\n",
              "      <th>Respira</th>\n",
              "      <th>Piernas</th>\n",
              "      <th>Especie</th>\n",
              "    </tr>\n",
              "  </thead>\n",
              "  <tbody>\n",
              "    <tr>\n",
              "      <th>0</th>\n",
              "      <td>True</td>\n",
              "      <td>True</td>\n",
              "      <td>True</td>\n",
              "      <td>True</td>\n",
              "      <td>Mamifero</td>\n",
              "    </tr>\n",
              "    <tr>\n",
              "      <th>1</th>\n",
              "      <td>True</td>\n",
              "      <td>True</td>\n",
              "      <td>True</td>\n",
              "      <td>True</td>\n",
              "      <td>Mamifero</td>\n",
              "    </tr>\n",
              "    <tr>\n",
              "      <th>2</th>\n",
              "      <td>True</td>\n",
              "      <td>False</td>\n",
              "      <td>True</td>\n",
              "      <td>False</td>\n",
              "      <td>Reptil</td>\n",
              "    </tr>\n",
              "    <tr>\n",
              "      <th>4</th>\n",
              "      <td>True</td>\n",
              "      <td>True</td>\n",
              "      <td>True</td>\n",
              "      <td>True</td>\n",
              "      <td>Mamifero</td>\n",
              "    </tr>\n",
              "    <tr>\n",
              "      <th>5</th>\n",
              "      <td>True</td>\n",
              "      <td>True</td>\n",
              "      <td>True</td>\n",
              "      <td>True</td>\n",
              "      <td>Mamifero</td>\n",
              "    </tr>\n",
              "    <tr>\n",
              "      <th>6</th>\n",
              "      <td>True</td>\n",
              "      <td>False</td>\n",
              "      <td>False</td>\n",
              "      <td>False</td>\n",
              "      <td>Reptil</td>\n",
              "    </tr>\n",
              "    <tr>\n",
              "      <th>7</th>\n",
              "      <td>True</td>\n",
              "      <td>False</td>\n",
              "      <td>True</td>\n",
              "      <td>False</td>\n",
              "      <td>Reptil</td>\n",
              "    </tr>\n",
              "    <tr>\n",
              "      <th>8</th>\n",
              "      <td>True</td>\n",
              "      <td>True</td>\n",
              "      <td>True</td>\n",
              "      <td>True</td>\n",
              "      <td>Mamifero</td>\n",
              "    </tr>\n",
              "  </tbody>\n",
              "</table>\n",
              "</div>"
            ],
            "text/plain": [
              "   Dientes   Pelo  Respira  Piernas   Especie\n",
              "0     True   True     True     True  Mamifero\n",
              "1     True   True     True     True  Mamifero\n",
              "2     True  False     True    False    Reptil\n",
              "4     True   True     True     True  Mamifero\n",
              "5     True   True     True     True  Mamifero\n",
              "6     True  False    False    False    Reptil\n",
              "7     True  False     True    False    Reptil\n",
              "8     True   True     True     True  Mamifero"
            ]
          },
          "execution_count": 10,
          "metadata": {},
          "output_type": "execute_result"
        }
      ]
    },
    {
      "cell_type": "code",
      "metadata": {
        "id": "8R97v8x8ORuw",
        "outputId": "d9f4544f-1397-421b-aef8-c83e94258e06"
      },
      "source": [
        "data[data.Dientes == 0]"
      ],
      "execution_count": null,
      "outputs": [
        {
          "data": {
            "text/html": [
              "<div>\n",
              "<style scoped>\n",
              "    .dataframe tbody tr th:only-of-type {\n",
              "        vertical-align: middle;\n",
              "    }\n",
              "\n",
              "    .dataframe tbody tr th {\n",
              "        vertical-align: top;\n",
              "    }\n",
              "\n",
              "    .dataframe thead th {\n",
              "        text-align: right;\n",
              "    }\n",
              "</style>\n",
              "<table border=\"1\" class=\"dataframe\">\n",
              "  <thead>\n",
              "    <tr style=\"text-align: right;\">\n",
              "      <th></th>\n",
              "      <th>Dientes</th>\n",
              "      <th>Pelo</th>\n",
              "      <th>Respira</th>\n",
              "      <th>Piernas</th>\n",
              "      <th>Especie</th>\n",
              "    </tr>\n",
              "  </thead>\n",
              "  <tbody>\n",
              "    <tr>\n",
              "      <th>3</th>\n",
              "      <td>False</td>\n",
              "      <td>True</td>\n",
              "      <td>True</td>\n",
              "      <td>True</td>\n",
              "      <td>Mamifero</td>\n",
              "    </tr>\n",
              "    <tr>\n",
              "      <th>9</th>\n",
              "      <td>False</td>\n",
              "      <td>False</td>\n",
              "      <td>True</td>\n",
              "      <td>True</td>\n",
              "      <td>Reptil</td>\n",
              "    </tr>\n",
              "  </tbody>\n",
              "</table>\n",
              "</div>"
            ],
            "text/plain": [
              "   Dientes   Pelo  Respira  Piernas   Especie\n",
              "3    False   True     True     True  Mamifero\n",
              "9    False  False     True     True    Reptil"
            ]
          },
          "execution_count": 11,
          "metadata": {},
          "output_type": "execute_result"
        }
      ]
    },
    {
      "cell_type": "code",
      "metadata": {
        "id": "e2rd2siYORux",
        "outputId": "fce4bb0f-bfd1-4b33-b8a1-0ff13506eb18"
      },
      "source": [
        "#Probabilidades de ser mamífero o reptil dado que tiene dientes\n",
        "\n",
        "P_especie_dientes = calc_prob(data[data.Dientes == 1]['Especie'])\n",
        "\n",
        "#Probabilidades de ser mamífero o reptil dado que no tiene dientes\n",
        "\n",
        "P_especie_nodientes = calc_prob(data[data.Dientes == 0]['Especie'])\n",
        "\n",
        "#Probabilidad de tener dientes\n",
        "\n",
        "P_dientes = calc_prob(data['Dientes'])\n",
        "\n",
        "#entropias\n",
        "entropia_dientes = P_dientes[1] * (entropia(P_especie_dientes[0]) + entropia(P_especie_dientes[1])) \\\n",
        "                +  P_dientes[0] * (entropia(P_especie_nodientes[0]) + entropia(P_especie_nodientes[1]))\n",
        "\n",
        "entropia_dientes"
      ],
      "execution_count": null,
      "outputs": [
        {
          "data": {
            "text/plain": [
              "0.963547202339972"
            ]
          },
          "execution_count": 12,
          "metadata": {},
          "output_type": "execute_result"
        }
      ]
    },
    {
      "cell_type": "code",
      "metadata": {
        "id": "MPb2reQgORuy",
        "outputId": "c84ec598-335a-4e32-c6ce-9320a6926d38"
      },
      "source": [
        "#información ganada\n",
        "entropia_total - entropia_dientes "
      ],
      "execution_count": null,
      "outputs": [
        {
          "data": {
            "text/plain": [
              "0.007403392114696539"
            ]
          },
          "execution_count": 13,
          "metadata": {},
          "output_type": "execute_result"
        }
      ]
    },
    {
      "cell_type": "code",
      "metadata": {
        "id": "aKocWzhiORuz",
        "outputId": "0a45a5ea-9fbf-4b25-8855-67bd48eaeb21"
      },
      "source": [
        "def ganancia_de_info(var,data=data,respuesta='Especie'):\n",
        "    '''\n",
        "    Función que calcula la ganancia de información utilizando la entropía como medida\n",
        "    de información.\n",
        "    \n",
        "    variables de entrada:\n",
        "    var (str): nombre de la variable sobre la cuál vamos a calcular la ganancia de la información.\n",
        "    data (dataFrame): el conjunto de datos de donde sacar la varianza\n",
        "    respuesta (str): nombre de la variable respuesta\n",
        "    \n",
        "    Devuelve la ganancia de información (float)\n",
        "    '''\n",
        "    probabilidades = calc_prob(data[respuesta])\n",
        "\n",
        "    entropia_total = np.sum([entropia(pi) for pi in probabilidades])\n",
        "\n",
        "    P_especie_var = calc_prob(data[respuesta][data[var] == 1])\n",
        "\n",
        "    P_especie_novar = calc_prob(data[respuesta][data[var] == 0])\n",
        "    \n",
        "    P_var = calc_prob(data[var])\n",
        "    \n",
        "    entropia_var = P_var[1] * np.sum([entropia(pi) for pi in P_especie_var]) \\\n",
        "                    +  P_var[0] * np.sum([entropia(pi) for pi in P_especie_novar])\n",
        "    return entropia_total - entropia_var\n",
        "\n",
        "print(f'ganancia de información variable dientes: {ganancia_de_info(\"Dientes\"):.3f}')\n",
        "print(f'ganancia de información variable pelo: {ganancia_de_info(\"Pelo\"):.3f}')\n",
        "print(f'ganancia de información variable respira: {ganancia_de_info(\"Respira\"):.3f}')\n",
        "print(f'ganancia de información variable piernas: {ganancia_de_info(\"Piernas\"):.3f}')"
      ],
      "execution_count": null,
      "outputs": [
        {
          "name": "stdout",
          "output_type": "stream",
          "text": [
            "ganancia de información variable dientes: 0.007\n",
            "ganancia de información variable pelo: 0.971\n",
            "ganancia de información variable respira: 0.144\n",
            "ganancia de información variable piernas: 0.557\n"
          ]
        }
      ]
    },
    {
      "cell_type": "markdown",
      "metadata": {
        "id": "czoDASzRORu0"
      },
      "source": [
        "## Ejemplo de árbol de decisión más complejo: datos Iris"
      ]
    },
    {
      "cell_type": "markdown",
      "metadata": {
        "id": "6q6ev_FtORu0"
      },
      "source": [
        "[scikit-learn](https://scikit-learn.org/stable/modules/tree.html)"
      ]
    },
    {
      "cell_type": "code",
      "metadata": {
        "colab": {
          "base_uri": "https://localhost:8080/",
          "height": 445
        },
        "id": "p7DHzQw0ORu0",
        "outputId": "a97cb143-b5e9-4590-ae5b-def69afbe0b6"
      },
      "source": [
        "#importamos lo necesario\n",
        "from sklearn.datasets import load_iris\n",
        "from sklearn import tree\n",
        "import matplotlib.pyplot as plt\n",
        "import pandas as pd\n",
        "#cargamos los datos\n",
        "iris = load_iris()\n",
        "X, y = iris.data, iris.target\n",
        "\n",
        "print(iris.target_names)\n",
        "#armamos el árbol de decisión\n",
        "clf = tree.DecisionTreeClassifier(random_state=1)\n",
        "clf = clf.fit(X, y)\n",
        "\n",
        "print(\"The prediction accuracy is: \",clf.score(X,y)*100,\"%\")\n",
        "#graficamos\n",
        "plt.figure(figsize=(15,7))\n",
        "tree.plot_tree(clf,\n",
        "               feature_names=iris.feature_names,\n",
        "               filled=True)\n",
        "plt.show()"
      ],
      "execution_count": 39,
      "outputs": [
        {
          "output_type": "stream",
          "name": "stdout",
          "text": [
            "['setosa' 'versicolor' 'virginica']\n",
            "The prediction accuracy is:  100.0 %\n"
          ]
        },
        {
          "output_type": "display_data",
          "data": {
            "image/png": "[encoded data removed]",
            "text/plain": [
              "<Figure size 1080x504 with 1 Axes>"
            ]
          },
          "metadata": {
            "needs_background": "light"
          }
        }
      ]
    },
    {
      "cell_type": "code",
      "metadata": {
        "colab": {
          "base_uri": "https://localhost:8080/",
          "height": 422
        },
        "id": "Otf2Wgb1ORu1",
        "outputId": "31628b14-7d8e-4c91-a634-ee66cff3f1f3"
      },
      "source": [
        "#armamos dataframe para visualizar\n",
        "df = pd.DataFrame(X,columns=iris.feature_names)\n",
        "df['Especie'] = y\n",
        "df['Especie'].replace({0:'setosa', 1:'versicolor', 2:'virginica'},\n",
        "                      inplace=True)\n",
        "df"
      ],
      "execution_count": 40,
      "outputs": [
        {
          "output_type": "execute_result",
          "data": {
            "text/html": [
              "<div>\n",
              "<style scoped>\n",
              "    .dataframe tbody tr th:only-of-type {\n",
              "        vertical-align: middle;\n",
              "    }\n",
              "\n",
              "    .dataframe tbody tr th {\n",
              "        vertical-align: top;\n",
              "    }\n",
              "\n",
              "    .dataframe thead th {\n",
              "        text-align: right;\n",
              "    }\n",
              "</style>\n",
              "<table border=\"1\" class=\"dataframe\">\n",
              "  <thead>\n",
              "    <tr style=\"text-align: right;\">\n",
              "      <th></th>\n",
              "      <th>sepal length (cm)</th>\n",
              "      <th>sepal width (cm)</th>\n",
              "      <th>petal length (cm)</th>\n",
              "      <th>petal width (cm)</th>\n",
              "      <th>Especie</th>\n",
              "    </tr>\n",
              "  </thead>\n",
              "  <tbody>\n",
              "    <tr>\n",
              "      <th>0</th>\n",
              "      <td>5.1</td>\n",
              "      <td>3.5</td>\n",
              "      <td>1.4</td>\n",
              "      <td>0.2</td>\n",
              "      <td>setosa</td>\n",
              "    </tr>\n",
              "    <tr>\n",
              "      <th>1</th>\n",
              "      <td>4.9</td>\n",
              "      <td>3.0</td>\n",
              "      <td>1.4</td>\n",
              "      <td>0.2</td>\n",
              "      <td>setosa</td>\n",
              "    </tr>\n",
              "    <tr>\n",
              "      <th>2</th>\n",
              "      <td>4.7</td>\n",
              "      <td>3.2</td>\n",
              "      <td>1.3</td>\n",
              "      <td>0.2</td>\n",
              "      <td>setosa</td>\n",
              "    </tr>\n",
              "    <tr>\n",
              "      <th>3</th>\n",
              "      <td>4.6</td>\n",
              "      <td>3.1</td>\n",
              "      <td>1.5</td>\n",
              "      <td>0.2</td>\n",
              "      <td>setosa</td>\n",
              "    </tr>\n",
              "    <tr>\n",
              "      <th>4</th>\n",
              "      <td>5.0</td>\n",
              "      <td>3.6</td>\n",
              "      <td>1.4</td>\n",
              "      <td>0.2</td>\n",
              "      <td>setosa</td>\n",
              "    </tr>\n",
              "    <tr>\n",
              "      <th>...</th>\n",
              "      <td>...</td>\n",
              "      <td>...</td>\n",
              "      <td>...</td>\n",
              "      <td>...</td>\n",
              "      <td>...</td>\n",
              "    </tr>\n",
              "    <tr>\n",
              "      <th>145</th>\n",
              "      <td>6.7</td>\n",
              "      <td>3.0</td>\n",
              "      <td>5.2</td>\n",
              "      <td>2.3</td>\n",
              "      <td>virginica</td>\n",
              "    </tr>\n",
              "    <tr>\n",
              "      <th>146</th>\n",
              "      <td>6.3</td>\n",
              "      <td>2.5</td>\n",
              "      <td>5.0</td>\n",
              "      <td>1.9</td>\n",
              "      <td>virginica</td>\n",
              "    </tr>\n",
              "    <tr>\n",
              "      <th>147</th>\n",
              "      <td>6.5</td>\n",
              "      <td>3.0</td>\n",
              "      <td>5.2</td>\n",
              "      <td>2.0</td>\n",
              "      <td>virginica</td>\n",
              "    </tr>\n",
              "    <tr>\n",
              "      <th>148</th>\n",
              "      <td>6.2</td>\n",
              "      <td>3.4</td>\n",
              "      <td>5.4</td>\n",
              "      <td>2.3</td>\n",
              "      <td>virginica</td>\n",
              "    </tr>\n",
              "    <tr>\n",
              "      <th>149</th>\n",
              "      <td>5.9</td>\n",
              "      <td>3.0</td>\n",
              "      <td>5.1</td>\n",
              "      <td>1.8</td>\n",
              "      <td>virginica</td>\n",
              "    </tr>\n",
              "  </tbody>\n",
              "</table>\n",
              "<p>150 rows × 5 columns</p>\n",
              "</div>"
            ],
            "text/plain": [
              "     sepal length (cm)  sepal width (cm)  ...  petal width (cm)    Especie\n",
              "0                  5.1               3.5  ...               0.2     setosa\n",
              "1                  4.9               3.0  ...               0.2     setosa\n",
              "2                  4.7               3.2  ...               0.2     setosa\n",
              "3                  4.6               3.1  ...               0.2     setosa\n",
              "4                  5.0               3.6  ...               0.2     setosa\n",
              "..                 ...               ...  ...               ...        ...\n",
              "145                6.7               3.0  ...               2.3  virginica\n",
              "146                6.3               2.5  ...               1.9  virginica\n",
              "147                6.5               3.0  ...               2.0  virginica\n",
              "148                6.2               3.4  ...               2.3  virginica\n",
              "149                5.9               3.0  ...               1.8  virginica\n",
              "\n",
              "[150 rows x 5 columns]"
            ]
          },
          "metadata": {},
          "execution_count": 40
        }
      ]
    },
    {
      "cell_type": "markdown",
      "metadata": {
        "id": "qIn6kehOORu1"
      },
      "source": [
        "Verificamos"
      ]
    },
    {
      "cell_type": "code",
      "metadata": {
        "colab": {
          "base_uri": "https://localhost:8080/"
        },
        "id": "-0nL4hB7ORu1",
        "outputId": "b54f8a0d-341d-4dde-cbbe-9a07220e94e9"
      },
      "source": [
        "condicion_logica_1 = df['petal width (cm)']>=0.8\n",
        "condicion_logica_2 = df['petal width (cm)']>=1.75\n",
        "df[condicion_logica_1 & condicion_logica_2].shape"
      ],
      "execution_count": 41,
      "outputs": [
        {
          "output_type": "execute_result",
          "data": {
            "text/plain": [
              "(46, 5)"
            ]
          },
          "metadata": {},
          "execution_count": 41
        }
      ]
    },
    {
      "cell_type": "markdown",
      "metadata": {
        "id": "kahyLYpTORu1"
      },
      "source": [
        "Podemos predecir la especie de una nueva observación ficticia. Para poner unos valores razonables, podemos primero ver las distribuciones de las variables y luego elegir valores acorde a las distribuciones. "
      ]
    },
    {
      "cell_type": "code",
      "metadata": {
        "colab": {
          "base_uri": "https://localhost:8080/",
          "height": 281
        },
        "id": "1ranPGFUORu2",
        "outputId": "45bed85d-6c03-4a9a-ae9d-467c0ca29058"
      },
      "source": [
        "df.hist()\n",
        "plt.show()"
      ],
      "execution_count": 42,
      "outputs": [
        {
          "output_type": "display_data",
          "data": {
            "image/png": "[encoded data removed]",
            "text/plain": [
              "<Figure size 432x288 with 4 Axes>"
            ]
          },
          "metadata": {
            "needs_background": "light"
          }
        }
      ]
    },
    {
      "cell_type": "code",
      "metadata": {
        "colab": {
          "base_uri": "https://localhost:8080/"
        },
        "id": "-_8wh2fYORu2",
        "outputId": "993f54df-41bf-44e5-c5e1-bfdbc3913a30"
      },
      "source": [
        "#Recordar orden de entrada: ['sepal length (cm)', 'sepal width (cm)', 'petal length (cm)', 'petal width (cm)']\n",
        "clf.predict_proba([[6.0,3.0,4.2,1.2]])\n",
        "#Recordar orden de salida: ['setosa' 'versicolor' 'virginica']"
      ],
      "execution_count": 43,
      "outputs": [
        {
          "output_type": "execute_result",
          "data": {
            "text/plain": [
              "array([[0., 1., 0.]])"
            ]
          },
          "metadata": {},
          "execution_count": 43
        }
      ]
    },
    {
      "cell_type": "markdown",
      "metadata": {
        "id": "tXYnpSrqORu2"
      },
      "source": [
        "Nuestro árbol de decisión, basándose en la estructura de los datos al entrenarse, predice que la nueva observación corresponde a la especie versicolor."
      ]
    }
  ]
}