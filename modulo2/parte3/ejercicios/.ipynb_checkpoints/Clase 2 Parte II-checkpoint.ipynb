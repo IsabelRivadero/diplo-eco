{
 "cells": [
  {
   "cell_type": "markdown",
   "metadata": {
    "id": "_s-nHz9H-pZV"
   },
   "source": [
    "#**Herramientas de econometría: Clase 2 Parte II**\n",
    "##**El problema de la endogeneidad**\n",
    "\n"
   ]
  },
  {
   "cell_type": "markdown",
   "metadata": {
    "id": "WtFe1zylNWGn"
   },
   "source": [
    "El caso que utilizaremos está tomado del ejemplo 15.5 del libro de Wooldridge (2010), en donde se trata de estimar una **ecuación de Mincer** en base a un clásico dataset de mujeres casadas del Reino Unido. \n",
    "\n",
    "La **ecuación de Mincer**, también llamada función de ingresos de Mincer, es un clásico modelo econométrico en donde la variable dependiente es el logaritmo de los salarios y las variables explicativas son los años de educación y los años de experiencia de los trabajadores más su cuadrado. El objetivo es estimar el **rendimiento de la educación**, es decir, el retorno sobre los ingresos por cada año de educación adicional, que en el modelo está representado por el coeficiente que mide el impacto de la educación sobre el logaritmo de los salarios. La experiencia es sólo una variable de control.\n",
    "\n",
    "El problema, con este modelo, es que la educación suele ser un **regresor endógeno**, es decir, que está correlacionado con el término de error. Esto es porque la educación suele depender de otras variables, tales como por ejemplo la educación de los padres, cuyas variaciones, al no estar incluidas en el modelo como variables explicativas, son absorvidas por el término de error del modelo. Se viola así el supuesto de regresor exógeno o independencia entre las variables explicativas y el término de perturbación aleatoria, produciendo estimadores sesgados.\n",
    "\n",
    "Incluir las variables que influyen sobre la educación en el modelo como variables explicativas no resolvería el problema porque no suelen ser buenas regresoras de los ingresos y provocarían otro problema más, uno de multicolinealidad con la educación. Por lo tanto, se resuelve aplicando el método de **variables instrumentales con mínimos cuadrados en 2 etapas (IV2SLS)**."
   ]
  },
  {
   "cell_type": "markdown",
   "metadata": {
    "id": "JwZAL3Jf-4_O"
   },
   "source": [
    "##**Preparación del entorno**"
   ]
  },
  {
   "cell_type": "markdown",
   "metadata": {
    "id": "Y7x9XGRY-9Ib"
   },
   "source": [
    "Importaremos las librerías que vamos a necesitar, pero como usaremos una función que viene en la librería `linearmodels` y ésta no viene integrada por defecto en la distribución que estamos utilizando, tendremos primero que instalar esta librería."
   ]
  },
  {
   "cell_type": "code",
   "execution_count": 1,
   "metadata": {
    "colab": {
     "base_uri": "https://localhost:8080/"
    },
    "executionInfo": {
     "elapsed": 12067,
     "status": "ok",
     "timestamp": 1630704938758,
     "user": {
      "displayName": "Adrian Maximiliano Moneta Pizarro",
      "photoUrl": "https://lh3.googleusercontent.com/a-/AOh14GiOIt9PcT6Qg_RVr6d65mtb23o5uWmfH5VSfw5t=s64",
      "userId": "00392462548663890204"
     },
     "user_tz": 180
    },
    "id": "5NhmPeQFAKj6",
    "outputId": "8e73c1c0-6be6-429c-8371-bebbac01ea2b"
   },
   "outputs": [
    {
     "name": "stdout",
     "output_type": "stream",
     "text": [
      "Collecting linearmodels\n",
      "  Downloading linearmodels-4.24-cp37-cp37m-manylinux1_x86_64.whl (1.5 MB)\n",
      "\u001b[K     |████████████████████████████████| 1.5 MB 3.1 MB/s \n",
      "\u001b[?25hCollecting property-cached>=1.6.3\n",
      "  Downloading property_cached-1.6.4-py2.py3-none-any.whl (7.8 kB)\n",
      "Requirement already satisfied: numpy>=1.16 in /usr/local/lib/python3.7/dist-packages (from linearmodels) (1.19.5)\n",
      "Requirement already satisfied: patsy in /usr/local/lib/python3.7/dist-packages (from linearmodels) (0.5.1)\n",
      "Collecting pyhdfe>=0.1\n",
      "  Downloading pyhdfe-0.1.0-py3-none-any.whl (18 kB)\n",
      "Requirement already satisfied: Cython>=0.29.21 in /usr/local/lib/python3.7/dist-packages (from linearmodels) (0.29.24)\n",
      "Collecting statsmodels>=0.11\n",
      "  Downloading statsmodels-0.12.2-cp37-cp37m-manylinux1_x86_64.whl (9.5 MB)\n",
      "\u001b[K     |████████████████████████████████| 9.5 MB 31.0 MB/s \n",
      "\u001b[?25hRequirement already satisfied: scipy>=1.2 in /usr/local/lib/python3.7/dist-packages (from linearmodels) (1.4.1)\n",
      "Requirement already satisfied: pandas>=0.24 in /usr/local/lib/python3.7/dist-packages (from linearmodels) (1.1.5)\n",
      "Collecting mypy-extensions>=0.4\n",
      "  Downloading mypy_extensions-0.4.3-py2.py3-none-any.whl (4.5 kB)\n",
      "Requirement already satisfied: python-dateutil>=2.7.3 in /usr/local/lib/python3.7/dist-packages (from pandas>=0.24->linearmodels) (2.8.2)\n",
      "Requirement already satisfied: pytz>=2017.2 in /usr/local/lib/python3.7/dist-packages (from pandas>=0.24->linearmodels) (2018.9)\n",
      "Requirement already satisfied: six>=1.5 in /usr/local/lib/python3.7/dist-packages (from python-dateutil>=2.7.3->pandas>=0.24->linearmodels) (1.15.0)\n",
      "Installing collected packages: statsmodels, pyhdfe, property-cached, mypy-extensions, linearmodels\n",
      "  Attempting uninstall: statsmodels\n",
      "    Found existing installation: statsmodels 0.10.2\n",
      "    Uninstalling statsmodels-0.10.2:\n",
      "      Successfully uninstalled statsmodels-0.10.2\n",
      "Successfully installed linearmodels-4.24 mypy-extensions-0.4.3 property-cached-1.6.4 pyhdfe-0.1.0 statsmodels-0.12.2\n"
     ]
    }
   ],
   "source": [
    "!pip install linearmodels     # usamos el sistema de gestión de paquetes estándar de Python (pip)"
   ]
  },
  {
   "cell_type": "markdown",
   "metadata": {
    "id": "GgW0hEjTBgsa"
   },
   "source": [
    "Ahora sí realizamos la importación de las librerías y funciones que necesitaremos"
   ]
  },
  {
   "cell_type": "code",
   "execution_count": 2,
   "metadata": {
    "executionInfo": {
     "elapsed": 2479,
     "status": "ok",
     "timestamp": 1630705063683,
     "user": {
      "displayName": "Adrian Maximiliano Moneta Pizarro",
      "photoUrl": "https://lh3.googleusercontent.com/a-/AOh14GiOIt9PcT6Qg_RVr6d65mtb23o5uWmfH5VSfw5t=s64",
      "userId": "00392462548663890204"
     },
     "user_tz": 180
    },
    "id": "QbeH-en--1m7"
   },
   "outputs": [],
   "source": [
    "import numpy as np\n",
    "import pandas as pd\n",
    "import statsmodels.api as sm \n",
    "from linearmodels.iv import IV2SLS   # aquí está la función IV2SLS que viene en el módulo iv de la librería linearmodels\n",
    "import matplotlib.pyplot as plt\n",
    "%matplotlib inline\n",
    "plt.style.use(\"seaborn-white\")"
   ]
  },
  {
   "cell_type": "markdown",
   "metadata": {
    "id": "-x8mknrnCHA3"
   },
   "source": [
    "##**Importación y exploración de los datos**"
   ]
  },
  {
   "cell_type": "markdown",
   "metadata": {
    "id": "1wo7KIzCCWWL"
   },
   "source": [
    "Los datos están guardados en el archivo MROZ.csv en nuestra carpeta de actividades compartida en Google Drive. \n",
    "\n",
    "Importamos la base de datos en un data frame"
   ]
  },
  {
   "cell_type": "code",
   "execution_count": 6,
   "metadata": {
    "executionInfo": {
     "elapsed": 697,
     "status": "ok",
     "timestamp": 1630705213209,
     "user": {
      "displayName": "Adrian Maximiliano Moneta Pizarro",
      "photoUrl": "https://lh3.googleusercontent.com/a-/AOh14GiOIt9PcT6Qg_RVr6d65mtb23o5uWmfH5VSfw5t=s64",
      "userId": "00392462548663890204"
     },
     "user_tz": 180
    },
    "id": "iH0U94KaCYff"
   },
   "outputs": [],
   "source": [
    "path = 'https://drive.google.com/uc?export=download&id=1W-6f-V0y-rS_bJSaOv_3YXVtEmKJxDOv'\n",
    "data = pd.read_csv(path)"
   ]
  },
  {
   "cell_type": "markdown",
   "metadata": {
    "id": "-KqY3nxXFFMn"
   },
   "source": [
    "Vemos las dimensiones de la base de datos"
   ]
  },
  {
   "cell_type": "code",
   "execution_count": 7,
   "metadata": {
    "colab": {
     "base_uri": "https://localhost:8080/"
    },
    "executionInfo": {
     "elapsed": 13,
     "status": "ok",
     "timestamp": 1630705215273,
     "user": {
      "displayName": "Adrian Maximiliano Moneta Pizarro",
      "photoUrl": "https://lh3.googleusercontent.com/a-/AOh14GiOIt9PcT6Qg_RVr6d65mtb23o5uWmfH5VSfw5t=s64",
      "userId": "00392462548663890204"
     },
     "user_tz": 180
    },
    "id": "wOxk_eZPFJU_",
    "outputId": "873ae08e-7fa1-4cad-de39-35f58e52889a"
   },
   "outputs": [
    {
     "data": {
      "text/plain": [
       "(753, 22)"
      ]
     },
     "execution_count": 7,
     "metadata": {},
     "output_type": "execute_result"
    }
   ],
   "source": [
    "data.shape"
   ]
  },
  {
   "cell_type": "markdown",
   "metadata": {
    "id": "gs8x8qOnB5zU"
   },
   "source": [
    "Exploramos los datos revisando algunas observaciones al azar"
   ]
  },
  {
   "cell_type": "code",
   "execution_count": 5,
   "metadata": {
    "colab": {
     "base_uri": "https://localhost:8080/",
     "height": 295
    },
    "executionInfo": {
     "elapsed": 285,
     "status": "ok",
     "timestamp": 1630705078245,
     "user": {
      "displayName": "Adrian Maximiliano Moneta Pizarro",
      "photoUrl": "https://lh3.googleusercontent.com/a-/AOh14GiOIt9PcT6Qg_RVr6d65mtb23o5uWmfH5VSfw5t=s64",
      "userId": "00392462548663890204"
     },
     "user_tz": 180
    },
    "id": "rHKMk6rJDVYK",
    "outputId": "511c1475-b873-4e70-b5da-92b7734d43af"
   },
   "outputs": [
    {
     "data": {
      "text/html": [
       "<div>\n",
       "<style scoped>\n",
       "    .dataframe tbody tr th:only-of-type {\n",
       "        vertical-align: middle;\n",
       "    }\n",
       "\n",
       "    .dataframe tbody tr th {\n",
       "        vertical-align: top;\n",
       "    }\n",
       "\n",
       "    .dataframe thead th {\n",
       "        text-align: right;\n",
       "    }\n",
       "</style>\n",
       "<table border=\"1\" class=\"dataframe\">\n",
       "  <thead>\n",
       "    <tr style=\"text-align: right;\">\n",
       "      <th></th>\n",
       "      <th>inlf</th>\n",
       "      <th>hours</th>\n",
       "      <th>kidslt6</th>\n",
       "      <th>kidsge6</th>\n",
       "      <th>age</th>\n",
       "      <th>educ</th>\n",
       "      <th>wage</th>\n",
       "      <th>repwage</th>\n",
       "      <th>hushrs</th>\n",
       "      <th>husage</th>\n",
       "      <th>huseduc</th>\n",
       "      <th>huswage</th>\n",
       "      <th>faminc</th>\n",
       "      <th>mtr</th>\n",
       "      <th>motheduc</th>\n",
       "      <th>fatheduc</th>\n",
       "      <th>unem</th>\n",
       "      <th>city</th>\n",
       "      <th>exper</th>\n",
       "      <th>nwifeinc</th>\n",
       "      <th>lwage</th>\n",
       "      <th>expersq</th>\n",
       "    </tr>\n",
       "  </thead>\n",
       "  <tbody>\n",
       "    <tr>\n",
       "      <th>639</th>\n",
       "      <td>0</td>\n",
       "      <td>0</td>\n",
       "      <td>0</td>\n",
       "      <td>3</td>\n",
       "      <td>53</td>\n",
       "      <td>6</td>\n",
       "      <td>NaN</td>\n",
       "      <td>0.00</td>\n",
       "      <td>2040</td>\n",
       "      <td>54</td>\n",
       "      <td>4</td>\n",
       "      <td>1.8515</td>\n",
       "      <td>3777</td>\n",
       "      <td>0.9415</td>\n",
       "      <td>7</td>\n",
       "      <td>7</td>\n",
       "      <td>11.0</td>\n",
       "      <td>0</td>\n",
       "      <td>0</td>\n",
       "      <td>3.777000</td>\n",
       "      <td>NaN</td>\n",
       "      <td>0</td>\n",
       "    </tr>\n",
       "    <tr>\n",
       "      <th>30</th>\n",
       "      <td>1</td>\n",
       "      <td>1040</td>\n",
       "      <td>0</td>\n",
       "      <td>0</td>\n",
       "      <td>50</td>\n",
       "      <td>11</td>\n",
       "      <td>1.5385</td>\n",
       "      <td>0.00</td>\n",
       "      <td>1840</td>\n",
       "      <td>53</td>\n",
       "      <td>10</td>\n",
       "      <td>2.7821</td>\n",
       "      <td>6719</td>\n",
       "      <td>0.7515</td>\n",
       "      <td>7</td>\n",
       "      <td>7</td>\n",
       "      <td>7.5</td>\n",
       "      <td>1</td>\n",
       "      <td>32</td>\n",
       "      <td>5.118960</td>\n",
       "      <td>0.430808</td>\n",
       "      <td>1024</td>\n",
       "    </tr>\n",
       "    <tr>\n",
       "      <th>226</th>\n",
       "      <td>1</td>\n",
       "      <td>1250</td>\n",
       "      <td>0</td>\n",
       "      <td>2</td>\n",
       "      <td>42</td>\n",
       "      <td>12</td>\n",
       "      <td>4.0000</td>\n",
       "      <td>4.00</td>\n",
       "      <td>2250</td>\n",
       "      <td>46</td>\n",
       "      <td>17</td>\n",
       "      <td>9.1702</td>\n",
       "      <td>25633</td>\n",
       "      <td>0.6215</td>\n",
       "      <td>7</td>\n",
       "      <td>7</td>\n",
       "      <td>7.5</td>\n",
       "      <td>1</td>\n",
       "      <td>7</td>\n",
       "      <td>20.632999</td>\n",
       "      <td>1.386294</td>\n",
       "      <td>49</td>\n",
       "    </tr>\n",
       "    <tr>\n",
       "      <th>173</th>\n",
       "      <td>1</td>\n",
       "      <td>1089</td>\n",
       "      <td>0</td>\n",
       "      <td>0</td>\n",
       "      <td>44</td>\n",
       "      <td>10</td>\n",
       "      <td>1.6070</td>\n",
       "      <td>0.00</td>\n",
       "      <td>880</td>\n",
       "      <td>47</td>\n",
       "      <td>11</td>\n",
       "      <td>5.5500</td>\n",
       "      <td>14884</td>\n",
       "      <td>0.7515</td>\n",
       "      <td>10</td>\n",
       "      <td>10</td>\n",
       "      <td>9.5</td>\n",
       "      <td>1</td>\n",
       "      <td>14</td>\n",
       "      <td>13.133980</td>\n",
       "      <td>0.474369</td>\n",
       "      <td>196</td>\n",
       "    </tr>\n",
       "    <tr>\n",
       "      <th>132</th>\n",
       "      <td>1</td>\n",
       "      <td>288</td>\n",
       "      <td>0</td>\n",
       "      <td>2</td>\n",
       "      <td>34</td>\n",
       "      <td>12</td>\n",
       "      <td>3.2986</td>\n",
       "      <td>4.62</td>\n",
       "      <td>1936</td>\n",
       "      <td>36</td>\n",
       "      <td>12</td>\n",
       "      <td>8.7810</td>\n",
       "      <td>20155</td>\n",
       "      <td>0.6915</td>\n",
       "      <td>12</td>\n",
       "      <td>16</td>\n",
       "      <td>11.0</td>\n",
       "      <td>1</td>\n",
       "      <td>10</td>\n",
       "      <td>19.205000</td>\n",
       "      <td>1.193498</td>\n",
       "      <td>100</td>\n",
       "    </tr>\n",
       "    <tr>\n",
       "      <th>439</th>\n",
       "      <td>0</td>\n",
       "      <td>0</td>\n",
       "      <td>0</td>\n",
       "      <td>3</td>\n",
       "      <td>32</td>\n",
       "      <td>12</td>\n",
       "      <td>NaN</td>\n",
       "      <td>0.00</td>\n",
       "      <td>2352</td>\n",
       "      <td>37</td>\n",
       "      <td>7</td>\n",
       "      <td>7.0578</td>\n",
       "      <td>16600</td>\n",
       "      <td>0.7215</td>\n",
       "      <td>10</td>\n",
       "      <td>7</td>\n",
       "      <td>5.0</td>\n",
       "      <td>0</td>\n",
       "      <td>8</td>\n",
       "      <td>16.600000</td>\n",
       "      <td>NaN</td>\n",
       "      <td>64</td>\n",
       "    </tr>\n",
       "    <tr>\n",
       "      <th>54</th>\n",
       "      <td>1</td>\n",
       "      <td>1599</td>\n",
       "      <td>0</td>\n",
       "      <td>0</td>\n",
       "      <td>52</td>\n",
       "      <td>10</td>\n",
       "      <td>1.8762</td>\n",
       "      <td>2.80</td>\n",
       "      <td>2100</td>\n",
       "      <td>47</td>\n",
       "      <td>4</td>\n",
       "      <td>3.8095</td>\n",
       "      <td>11000</td>\n",
       "      <td>0.7515</td>\n",
       "      <td>7</td>\n",
       "      <td>3</td>\n",
       "      <td>7.5</td>\n",
       "      <td>0</td>\n",
       "      <td>34</td>\n",
       "      <td>7.999956</td>\n",
       "      <td>0.629248</td>\n",
       "      <td>1156</td>\n",
       "    </tr>\n",
       "    <tr>\n",
       "      <th>396</th>\n",
       "      <td>1</td>\n",
       "      <td>1920</td>\n",
       "      <td>0</td>\n",
       "      <td>0</td>\n",
       "      <td>55</td>\n",
       "      <td>6</td>\n",
       "      <td>1.9792</td>\n",
       "      <td>2.58</td>\n",
       "      <td>1960</td>\n",
       "      <td>58</td>\n",
       "      <td>8</td>\n",
       "      <td>5.3327</td>\n",
       "      <td>15428</td>\n",
       "      <td>0.7215</td>\n",
       "      <td>7</td>\n",
       "      <td>7</td>\n",
       "      <td>7.5</td>\n",
       "      <td>0</td>\n",
       "      <td>37</td>\n",
       "      <td>11.627940</td>\n",
       "      <td>0.682693</td>\n",
       "      <td>1369</td>\n",
       "    </tr>\n",
       "  </tbody>\n",
       "</table>\n",
       "</div>"
      ],
      "text/plain": [
       "     inlf  hours  kidslt6  kidsge6  ...  exper   nwifeinc     lwage  expersq\n",
       "639     0      0        0        3  ...      0   3.777000       NaN        0\n",
       "30      1   1040        0        0  ...     32   5.118960  0.430808     1024\n",
       "226     1   1250        0        2  ...      7  20.632999  1.386294       49\n",
       "173     1   1089        0        0  ...     14  13.133980  0.474369      196\n",
       "132     1    288        0        2  ...     10  19.205000  1.193498      100\n",
       "439     0      0        0        3  ...      8  16.600000       NaN       64\n",
       "54      1   1599        0        0  ...     34   7.999956  0.629248     1156\n",
       "396     1   1920        0        0  ...     37  11.627940  0.682693     1369\n",
       "\n",
       "[8 rows x 22 columns]"
      ]
     },
     "execution_count": 5,
     "metadata": {},
     "output_type": "execute_result"
    }
   ],
   "source": [
    "data.sample(8)"
   ]
  },
  {
   "cell_type": "markdown",
   "metadata": {
    "id": "NxjcpjHdD1sU"
   },
   "source": [
    "Un problema de esta base de datos, como podemos notar en la salida anterior, es que tiene datos faltantes. Veamos en qué variables están y cuántos son."
   ]
  },
  {
   "cell_type": "code",
   "execution_count": null,
   "metadata": {
    "colab": {
     "base_uri": "https://localhost:8080/"
    },
    "executionInfo": {
     "elapsed": 324,
     "status": "ok",
     "timestamp": 1630412556967,
     "user": {
      "displayName": "Adrian Maximiliano Moneta Pizarro",
      "photoUrl": "https://lh3.googleusercontent.com/a-/AOh14GiOIt9PcT6Qg_RVr6d65mtb23o5uWmfH5VSfw5t=s64",
      "userId": "00392462548663890204"
     },
     "user_tz": 180
    },
    "id": "3_f98l8AEEBH",
    "outputId": "4248ac36-fff5-40d1-85ba-b516e4afcddd"
   },
   "outputs": [
    {
     "data": {
      "text/plain": [
       "inlf          0\n",
       "hours         0\n",
       "kidslt6       0\n",
       "kidsge6       0\n",
       "age           0\n",
       "educ          0\n",
       "wage        325\n",
       "repwage       0\n",
       "hushrs        0\n",
       "husage        0\n",
       "huseduc       0\n",
       "huswage       0\n",
       "faminc        0\n",
       "mtr           0\n",
       "motheduc      0\n",
       "fatheduc      0\n",
       "unem          0\n",
       "city          0\n",
       "exper         0\n",
       "nwifeinc      0\n",
       "lwage       325\n",
       "expersq       0\n",
       "dtype: int64"
      ]
     },
     "execution_count": 6,
     "metadata": {},
     "output_type": "execute_result"
    }
   ],
   "source": [
    "data.isna().sum()    # con isna() identificamos dónde están los datos faltantes y con .sum() los contamos"
   ]
  },
  {
   "cell_type": "markdown",
   "metadata": {
    "id": "SFjxLgOIEYtm"
   },
   "source": [
    "Observar que los datos faltantes están todos ubicados en la variable \"wage\" (salario) y en su logaritmo natural, \"lwage\", que justo será nuestra variable dependiente o de respuesta de interés para el modelo. \n",
    "\n",
    "En realidad no se trata de un problema de datos faltantes como tales. Observar en la muestra que los datos que faltan de los salarios corresponden a las filas en donde la variable \"inlf\" es igual a 0. Esto es porque esta variable es justamente una indicadora de si la mujer trabaja (1) o no trabaja (0). Por lo tanto, no tenemos los salarios de estas mujeres porque no trabajan.\n",
    "\n",
    "Suponiendo entonces que nuestro objetivo es estimar el retorno de la educación exclusivamente para las mujeres trabajadoras, eliminaremos entonces las filas (observaciones) correspondientes a las mujeres que no trabajan.\n",
    "\n",
    "Para esto redefinimos nuestro dataframe extrayendo de la base anterior sólo aquellos registros que no tengan datos perdidos (not NA) del logaritmo del salario con ayuda de la función `notna()`."
   ]
  },
  {
   "cell_type": "code",
   "execution_count": null,
   "metadata": {
    "id": "6L_f_YMeGD9X"
   },
   "outputs": [],
   "source": [
    "data = data[data[\"lwage\"].notna()]"
   ]
  },
  {
   "cell_type": "markdown",
   "metadata": {
    "id": "YXncTr1eGhbD"
   },
   "source": [
    "Verifiquemos que la base no tenga más datos faltantes o perdidos y las nuevas dimensiones"
   ]
  },
  {
   "cell_type": "code",
   "execution_count": null,
   "metadata": {
    "colab": {
     "base_uri": "https://localhost:8080/"
    },
    "executionInfo": {
     "elapsed": 391,
     "status": "ok",
     "timestamp": 1630412565160,
     "user": {
      "displayName": "Adrian Maximiliano Moneta Pizarro",
      "photoUrl": "https://lh3.googleusercontent.com/a-/AOh14GiOIt9PcT6Qg_RVr6d65mtb23o5uWmfH5VSfw5t=s64",
      "userId": "00392462548663890204"
     },
     "user_tz": 180
    },
    "id": "YebLWasuGmsx",
    "outputId": "7f8a4d3e-a600-450e-d1e0-91b42e9a247c"
   },
   "outputs": [
    {
     "data": {
      "text/plain": [
       "inlf        0\n",
       "hours       0\n",
       "kidslt6     0\n",
       "kidsge6     0\n",
       "age         0\n",
       "educ        0\n",
       "wage        0\n",
       "repwage     0\n",
       "hushrs      0\n",
       "husage      0\n",
       "huseduc     0\n",
       "huswage     0\n",
       "faminc      0\n",
       "mtr         0\n",
       "motheduc    0\n",
       "fatheduc    0\n",
       "unem        0\n",
       "city        0\n",
       "exper       0\n",
       "nwifeinc    0\n",
       "lwage       0\n",
       "expersq     0\n",
       "dtype: int64"
      ]
     },
     "execution_count": 8,
     "metadata": {},
     "output_type": "execute_result"
    }
   ],
   "source": [
    "data.isna().sum()"
   ]
  },
  {
   "cell_type": "code",
   "execution_count": null,
   "metadata": {
    "colab": {
     "base_uri": "https://localhost:8080/"
    },
    "executionInfo": {
     "elapsed": 284,
     "status": "ok",
     "timestamp": 1630412568760,
     "user": {
      "displayName": "Adrian Maximiliano Moneta Pizarro",
      "photoUrl": "https://lh3.googleusercontent.com/a-/AOh14GiOIt9PcT6Qg_RVr6d65mtb23o5uWmfH5VSfw5t=s64",
      "userId": "00392462548663890204"
     },
     "user_tz": 180
    },
    "id": "b_hB4weiGyE7",
    "outputId": "7bf82358-b1a7-4f20-9c8a-a86df9511b06"
   },
   "outputs": [
    {
     "data": {
      "text/plain": [
       "(428, 22)"
      ]
     },
     "execution_count": 9,
     "metadata": {},
     "output_type": "execute_result"
    }
   ],
   "source": [
    "data.shape"
   ]
  },
  {
   "cell_type": "markdown",
   "metadata": {
    "id": "rfXeVSaFMFlP"
   },
   "source": [
    "##**Contraste de Hausman**\n",
    "\n",
    "Ahora que tenemos limpia la base, nos enfoquemos en el modelo que se desea estimar: una ecuación de Mincer para el salario de las mujeres.\n",
    "\n",
    "Para esto resulta conveniente primero identificar las variables del modelo y qué rol cumple cada una, asignando los diferentes tipos de variables a objetos distintos."
   ]
  },
  {
   "cell_type": "code",
   "execution_count": null,
   "metadata": {
    "id": "BseEy2LfvTmL"
   },
   "outputs": [],
   "source": [
    "Y1 = data[\"lwage\"]                 # Variable dependiente del modelo\n",
    "Y2 = data[\"educ\"]                  # Regresora sospechosa de endógena\n",
    "X = data[[\"exper\", \"expersq\"]]     # Regresoras exógenas\n",
    "Z = data[[\"motheduc\", \"fatheduc\"]] # Instrumentos"
   ]
  },
  {
   "cell_type": "markdown",
   "metadata": {
    "id": "zsGCFRbe1nfc"
   },
   "source": [
    "Ya estamos en condiciones de probar la endogeneidad de la educación aplicando el **contraste de Hausman**. Para esto, el primer paso es realizar una regresión OLS de la educación en función de una constante, las regresoras exógenas y las variables propuestas como instrumentos. \n",
    "\n",
    "Para simplificar el código resulta conveniente agrupar las variables explicativas de esta regresión auxiliar en un solo objeto. Esto lo podemos hacer concatetando horizontalmente los dataframes que tenemos creados en X (regresoras exógenas) y Z (instrumentos)."
   ]
  },
  {
   "cell_type": "code",
   "execution_count": null,
   "metadata": {
    "id": "-x0878cn3Hve"
   },
   "outputs": [],
   "source": [
    "frames = [X, Z]                                 # armamos una lista de los data frames que nos interesan\n",
    "RegresorasAux = pd.concat(frames, axis = 1)     # concatenamos los elementos de la lista, axis = 1 indica que la concatenación es horizontal"
   ]
  },
  {
   "cell_type": "markdown",
   "metadata": {
    "id": "nHXVSMxU44NG"
   },
   "source": [
    "Ahora sí podemos obtener la regresión auxiliar que requiere el **contraste de Hausman**."
   ]
  },
  {
   "cell_type": "code",
   "execution_count": null,
   "metadata": {
    "colab": {
     "base_uri": "https://localhost:8080/"
    },
    "executionInfo": {
     "elapsed": 303,
     "status": "ok",
     "timestamp": 1630412689839,
     "user": {
      "displayName": "Adrian Maximiliano Moneta Pizarro",
      "photoUrl": "https://lh3.googleusercontent.com/a-/AOh14GiOIt9PcT6Qg_RVr6d65mtb23o5uWmfH5VSfw5t=s64",
      "userId": "00392462548663890204"
     },
     "user_tz": 180
    },
    "id": "BVYuS0YF2eAh",
    "outputId": "847699dc-2f6e-44e3-a047-0109439531e6"
   },
   "outputs": [
    {
     "name": "stdout",
     "output_type": "stream",
     "text": [
      "                            OLS Regression Results                            \n",
      "==============================================================================\n",
      "Dep. Variable:                   educ   R-squared:                       0.211\n",
      "Model:                            OLS   Adj. R-squared:                  0.204\n",
      "Method:                 Least Squares   F-statistic:                     28.36\n",
      "Date:                Tue, 31 Aug 2021   Prob (F-statistic):           6.87e-21\n",
      "Time:                        12:24:49   Log-Likelihood:                -909.72\n",
      "No. Observations:                 428   AIC:                             1829.\n",
      "Df Residuals:                     423   BIC:                             1850.\n",
      "Df Model:                           4                                         \n",
      "Covariance Type:            nonrobust                                         \n",
      "==============================================================================\n",
      "                 coef    std err          t      P>|t|      [0.025      0.975]\n",
      "------------------------------------------------------------------------------\n",
      "const          9.1026      0.427     21.340      0.000       8.264       9.941\n",
      "exper          0.0452      0.040      1.124      0.262      -0.034       0.124\n",
      "expersq       -0.0010      0.001     -0.839      0.402      -0.003       0.001\n",
      "motheduc       0.1576      0.036      4.391      0.000       0.087       0.228\n",
      "fatheduc       0.1895      0.034      5.615      0.000       0.123       0.256\n",
      "==============================================================================\n",
      "Omnibus:                       10.903   Durbin-Watson:                   1.940\n",
      "Prob(Omnibus):                  0.004   Jarque-Bera (JB):               20.371\n",
      "Skew:                          -0.013   Prob(JB):                     3.77e-05\n",
      "Kurtosis:                       4.068   Cond. No.                     1.55e+03\n",
      "==============================================================================\n",
      "\n",
      "Notes:\n",
      "[1] Standard Errors assume that the covariance matrix of the errors is correctly specified.\n",
      "[2] The condition number is large, 1.55e+03. This might indicate that there are\n",
      "strong multicollinearity or other numerical problems.\n"
     ]
    }
   ],
   "source": [
    "RegresionAux = sm.OLS(Y2, sm.add_constant(RegresorasAux))\n",
    "ResultadosAux = RegresionAux.fit()\n",
    "print(ResultadosAux.summary())"
   ]
  },
  {
   "cell_type": "markdown",
   "metadata": {
    "id": "oKqmXQ7A5EZM"
   },
   "source": [
    "Obsérvese que los coeficientes estimados de las variables instrumentales resultaron significativos cada uno en forma individual. Significa que la educación de la madre y la educación del padre son instrumentos relevantes porque efectivamente están correlacionadas con la educación.\n",
    "\n",
    "Pero para probar esto de una manera más formal es necesario verificar si estos coeficientes de las variables instrumentales también son significativamente distintos de cero en forma conjunta. Para esto podemos llevar adelante un **contraste F de significación conjunta de parámetros**."
   ]
  },
  {
   "cell_type": "code",
   "execution_count": null,
   "metadata": {
    "colab": {
     "base_uri": "https://localhost:8080/"
    },
    "executionInfo": {
     "elapsed": 284,
     "status": "ok",
     "timestamp": 1630412816783,
     "user": {
      "displayName": "Adrian Maximiliano Moneta Pizarro",
      "photoUrl": "https://lh3.googleusercontent.com/a-/AOh14GiOIt9PcT6Qg_RVr6d65mtb23o5uWmfH5VSfw5t=s64",
      "userId": "00392462548663890204"
     },
     "user_tz": 180
    },
    "id": "WKTsZb_n7WeK",
    "outputId": "662a9e17-da8f-404e-f38c-9a517b301b35"
   },
   "outputs": [
    {
     "name": "stdout",
     "output_type": "stream",
     "text": [
      "<F test: F=array([[55.40030043]]), p=4.26890872463123e-22, df_denom=423, df_num=2>\n"
     ]
    }
   ],
   "source": [
    "hipotesis = \"(fatheduc=0),(motheduc=0)\"          # definimos las restricciones de la hipótesis nula\n",
    "Prueba_F = ResultadosAux.f_test(hipotesis)       # aplicamos el método f_test() sobre las hipótesis      \n",
    "print(Prueba_F)                                  # imprimimos los resultados"
   ]
  },
  {
   "cell_type": "markdown",
   "metadata": {
    "id": "llRUDb688Eye"
   },
   "source": [
    "El resultado de utilizar el método `f_test()` es un objeto de tipo `ContrastResults()` que incluye como atributos al estadístico F, al p-value y a los grados de libertad del contraste. Para presentar de una manera más agradable estos resultados podemos hacer lo siguiente..."
   ]
  },
  {
   "cell_type": "code",
   "execution_count": null,
   "metadata": {
    "colab": {
     "base_uri": "https://localhost:8080/"
    },
    "executionInfo": {
     "elapsed": 277,
     "status": "ok",
     "timestamp": 1630413006075,
     "user": {
      "displayName": "Adrian Maximiliano Moneta Pizarro",
      "photoUrl": "https://lh3.googleusercontent.com/a-/AOh14GiOIt9PcT6Qg_RVr6d65mtb23o5uWmfH5VSfw5t=s64",
      "userId": "00392462548663890204"
     },
     "user_tz": 180
    },
    "id": "gc4IbNA88uLO",
    "outputId": "64c1fc65-182f-4118-b37e-75d351530ce6"
   },
   "outputs": [
    {
     "data": {
      "text/plain": [
       "Estadístico    55.4003\n",
       "p-value         0.0000\n",
       "dtype: float64"
      ]
     },
     "execution_count": 16,
     "metadata": {},
     "output_type": "execute_result"
    }
   ],
   "source": [
    "Estadístico = Prueba_F.statistic[0].item(0)         # extraemos y guardamos el estadístico F\n",
    "pvalue = Prueba_F.pvalue.item(0)                    # extraemos y guardamos el p-value\n",
    "Nombres = [\"Estadístico\", \"p-value\"]                # asignamos nombres para armar la tabla de resultados\n",
    "pd.Series([Estadístico, round(pvalue, 4)], index = Nombres)   # armamos la tabla de resultados"
   ]
  },
  {
   "cell_type": "markdown",
   "metadata": {
    "id": "UilAiHl1-XYc"
   },
   "source": [
    "El p-value aproximadamente igual a cero indica que debemos rechazar la hipótesis nula de que ambos coeficientes son conjuntamente iguales a cero, confirmando la relevancia de las variables instrumentales."
   ]
  },
  {
   "cell_type": "markdown",
   "metadata": {
    "id": "LJRSo4VH5hGJ"
   },
   "source": [
    "Guardemos los residuos de esta regresión auxiliar, también los valores ajustados porque los necesitaremos más adelante. Será conveniente también agregar estos resultados a nuestro data frame general para facilitar algunas salidas posteriores."
   ]
  },
  {
   "cell_type": "code",
   "execution_count": null,
   "metadata": {
    "id": "cMFiTOpu5k6g"
   },
   "outputs": [],
   "source": [
    "data[\"residuos\"] = ResultadosAux.resid                 # guardamos los residuos en nuestro data frame\n",
    "data[\"valores_ajustados\"] = ResultadosAux.predict()    # también guardamos los valores ajustados"
   ]
  },
  {
   "cell_type": "markdown",
   "metadata": {
    "id": "kdW1Z8WmGZHg"
   },
   "source": [
    "Verificamos si se agregaron correctamente"
   ]
  },
  {
   "cell_type": "code",
   "execution_count": null,
   "metadata": {
    "colab": {
     "base_uri": "https://localhost:8080/",
     "height": 192
    },
    "executionInfo": {
     "elapsed": 291,
     "status": "ok",
     "timestamp": 1630413043030,
     "user": {
      "displayName": "Adrian Maximiliano Moneta Pizarro",
      "photoUrl": "https://lh3.googleusercontent.com/a-/AOh14GiOIt9PcT6Qg_RVr6d65mtb23o5uWmfH5VSfw5t=s64",
      "userId": "00392462548663890204"
     },
     "user_tz": 180
    },
    "id": "k757473sGbsV",
    "outputId": "3370785a-a554-41d5-eeb8-99655033c332"
   },
   "outputs": [
    {
     "data": {
      "text/html": [
       "<div>\n",
       "<style scoped>\n",
       "    .dataframe tbody tr th:only-of-type {\n",
       "        vertical-align: middle;\n",
       "    }\n",
       "\n",
       "    .dataframe tbody tr th {\n",
       "        vertical-align: top;\n",
       "    }\n",
       "\n",
       "    .dataframe thead th {\n",
       "        text-align: right;\n",
       "    }\n",
       "</style>\n",
       "<table border=\"1\" class=\"dataframe\">\n",
       "  <thead>\n",
       "    <tr style=\"text-align: right;\">\n",
       "      <th></th>\n",
       "      <th>inlf</th>\n",
       "      <th>hours</th>\n",
       "      <th>kidslt6</th>\n",
       "      <th>kidsge6</th>\n",
       "      <th>age</th>\n",
       "      <th>educ</th>\n",
       "      <th>wage</th>\n",
       "      <th>repwage</th>\n",
       "      <th>hushrs</th>\n",
       "      <th>husage</th>\n",
       "      <th>huseduc</th>\n",
       "      <th>huswage</th>\n",
       "      <th>faminc</th>\n",
       "      <th>mtr</th>\n",
       "      <th>motheduc</th>\n",
       "      <th>fatheduc</th>\n",
       "      <th>unem</th>\n",
       "      <th>city</th>\n",
       "      <th>exper</th>\n",
       "      <th>nwifeinc</th>\n",
       "      <th>lwage</th>\n",
       "      <th>expersq</th>\n",
       "      <th>residuos</th>\n",
       "      <th>valores_ajustados</th>\n",
       "    </tr>\n",
       "  </thead>\n",
       "  <tbody>\n",
       "    <tr>\n",
       "      <th>115</th>\n",
       "      <td>1</td>\n",
       "      <td>1280</td>\n",
       "      <td>0</td>\n",
       "      <td>0</td>\n",
       "      <td>49</td>\n",
       "      <td>11</td>\n",
       "      <td>0.5000</td>\n",
       "      <td>0.00</td>\n",
       "      <td>2272</td>\n",
       "      <td>52</td>\n",
       "      <td>9</td>\n",
       "      <td>6.1620</td>\n",
       "      <td>15389</td>\n",
       "      <td>0.7215</td>\n",
       "      <td>7</td>\n",
       "      <td>7</td>\n",
       "      <td>7.5</td>\n",
       "      <td>1</td>\n",
       "      <td>20</td>\n",
       "      <td>14.749000</td>\n",
       "      <td>-0.693147</td>\n",
       "      <td>400</td>\n",
       "      <td>-1.033530</td>\n",
       "      <td>12.033530</td>\n",
       "    </tr>\n",
       "    <tr>\n",
       "      <th>35</th>\n",
       "      <td>1</td>\n",
       "      <td>690</td>\n",
       "      <td>0</td>\n",
       "      <td>1</td>\n",
       "      <td>42</td>\n",
       "      <td>11</td>\n",
       "      <td>2.4638</td>\n",
       "      <td>0.00</td>\n",
       "      <td>1896</td>\n",
       "      <td>44</td>\n",
       "      <td>8</td>\n",
       "      <td>5.5380</td>\n",
       "      <td>15897</td>\n",
       "      <td>0.7515</td>\n",
       "      <td>10</td>\n",
       "      <td>3</td>\n",
       "      <td>7.5</td>\n",
       "      <td>0</td>\n",
       "      <td>0</td>\n",
       "      <td>14.196980</td>\n",
       "      <td>0.901705</td>\n",
       "      <td>0</td>\n",
       "      <td>-0.247256</td>\n",
       "      <td>11.247256</td>\n",
       "    </tr>\n",
       "    <tr>\n",
       "      <th>427</th>\n",
       "      <td>1</td>\n",
       "      <td>490</td>\n",
       "      <td>0</td>\n",
       "      <td>1</td>\n",
       "      <td>30</td>\n",
       "      <td>12</td>\n",
       "      <td>4.0816</td>\n",
       "      <td>2.46</td>\n",
       "      <td>2430</td>\n",
       "      <td>33</td>\n",
       "      <td>11</td>\n",
       "      <td>6.5844</td>\n",
       "      <td>18000</td>\n",
       "      <td>0.6915</td>\n",
       "      <td>12</td>\n",
       "      <td>12</td>\n",
       "      <td>7.5</td>\n",
       "      <td>1</td>\n",
       "      <td>7</td>\n",
       "      <td>16.000019</td>\n",
       "      <td>1.406489</td>\n",
       "      <td>49</td>\n",
       "      <td>-1.535518</td>\n",
       "      <td>13.535518</td>\n",
       "    </tr>\n",
       "    <tr>\n",
       "      <th>26</th>\n",
       "      <td>1</td>\n",
       "      <td>525</td>\n",
       "      <td>0</td>\n",
       "      <td>0</td>\n",
       "      <td>59</td>\n",
       "      <td>12</td>\n",
       "      <td>4.0000</td>\n",
       "      <td>3.18</td>\n",
       "      <td>2448</td>\n",
       "      <td>53</td>\n",
       "      <td>16</td>\n",
       "      <td>6.5359</td>\n",
       "      <td>18100</td>\n",
       "      <td>0.6915</td>\n",
       "      <td>3</td>\n",
       "      <td>7</td>\n",
       "      <td>9.5</td>\n",
       "      <td>1</td>\n",
       "      <td>31</td>\n",
       "      <td>16.000000</td>\n",
       "      <td>1.386294</td>\n",
       "      <td>961</td>\n",
       "      <td>0.665478</td>\n",
       "      <td>11.334522</td>\n",
       "    </tr>\n",
       "  </tbody>\n",
       "</table>\n",
       "</div>"
      ],
      "text/plain": [
       "     inlf  hours  kidslt6  ...  expersq  residuos  valores_ajustados\n",
       "115     1   1280        0  ...      400 -1.033530          12.033530\n",
       "35      1    690        0  ...        0 -0.247256          11.247256\n",
       "427     1    490        0  ...       49 -1.535518          13.535518\n",
       "26      1    525        0  ...      961  0.665478          11.334522\n",
       "\n",
       "[4 rows x 24 columns]"
      ]
     },
     "execution_count": 18,
     "metadata": {},
     "output_type": "execute_result"
    }
   ],
   "source": [
    "data.sample(4)"
   ]
  },
  {
   "cell_type": "markdown",
   "metadata": {
    "id": "6rcLKUpj6FQt"
   },
   "source": [
    "Ahora estimamos el modelo de interés, pero agregando los residuos de la regresión auxiliar como una variable explicativa más. Nuevamente, primero resulta conveniente agrupar todas las variables exógenas de esta nueva regresión en un solo objeto."
   ]
  },
  {
   "cell_type": "code",
   "execution_count": null,
   "metadata": {
    "colab": {
     "base_uri": "https://localhost:8080/"
    },
    "executionInfo": {
     "elapsed": 290,
     "status": "ok",
     "timestamp": 1630413145811,
     "user": {
      "displayName": "Adrian Maximiliano Moneta Pizarro",
      "photoUrl": "https://lh3.googleusercontent.com/a-/AOh14GiOIt9PcT6Qg_RVr6d65mtb23o5uWmfH5VSfw5t=s64",
      "userId": "00392462548663890204"
     },
     "user_tz": 180
    },
    "id": "gQXj_OVFD9Wf",
    "outputId": "893f60f5-d2de-4eda-d9d2-dc94280fb759"
   },
   "outputs": [
    {
     "name": "stdout",
     "output_type": "stream",
     "text": [
      "                            OLS Regression Results                            \n",
      "==============================================================================\n",
      "Dep. Variable:                  lwage   R-squared:                       0.162\n",
      "Model:                            OLS   Adj. R-squared:                  0.154\n",
      "Method:                 Least Squares   F-statistic:                     20.50\n",
      "Date:                Tue, 31 Aug 2021   Prob (F-statistic):           1.89e-15\n",
      "Time:                        12:32:25   Log-Likelihood:                -430.19\n",
      "No. Observations:                 428   AIC:                             870.4\n",
      "Df Residuals:                     423   BIC:                             890.7\n",
      "Df Model:                           4                                         \n",
      "Covariance Type:            nonrobust                                         \n",
      "==============================================================================\n",
      "                 coef    std err          t      P>|t|      [0.025      0.975]\n",
      "------------------------------------------------------------------------------\n",
      "const          0.0481      0.395      0.122      0.903      -0.727       0.824\n",
      "educ           0.0614      0.031      1.981      0.048       0.000       0.122\n",
      "exper          0.0442      0.013      3.336      0.001       0.018       0.070\n",
      "expersq       -0.0009      0.000     -2.271      0.024      -0.002      -0.000\n",
      "residuos       0.0582      0.035      1.671      0.095      -0.010       0.127\n",
      "==============================================================================\n",
      "Omnibus:                       74.968   Durbin-Watson:                   1.931\n",
      "Prob(Omnibus):                  0.000   Jarque-Bera (JB):              278.059\n",
      "Skew:                          -0.736   Prob(JB):                     4.17e-61\n",
      "Kurtosis:                       6.664   Cond. No.                     4.42e+03\n",
      "==============================================================================\n",
      "\n",
      "Notes:\n",
      "[1] Standard Errors assume that the covariance matrix of the errors is correctly specified.\n",
      "[2] The condition number is large, 4.42e+03. This might indicate that there are\n",
      "strong multicollinearity or other numerical problems.\n"
     ]
    }
   ],
   "source": [
    "frames2 = [Y2, X, data[\"residuos\"]]                        # armamos una lista con los data frames que nos interesan \n",
    "RegresorasHausman = pd.concat(frames2, axis = 1)           # concatenamos los elementos de la lista, axis = 1 indica que la concatenación es horizontal\n",
    "RegresionHausman = sm.OLS(Y1, sm.add_constant(RegresorasHausman))   # especificamos el modelo a estimar por OLS\n",
    "ResultadosHausman = RegresionHausman.fit()                          # ajustamos el modelo\n",
    "print(ResultadosHausman.summary())                                  # vemos los resultados"
   ]
  },
  {
   "cell_type": "markdown",
   "metadata": {
    "id": "ez6Mmc5OyiUV"
   },
   "source": [
    "Observar que los residuos no son significativos al 5 %, pero sí al 10 %. Esto podría confirmar entonces que la educación es un regresor endógeno."
   ]
  },
  {
   "cell_type": "markdown",
   "metadata": {
    "id": "f49-H2vuHLlV"
   },
   "source": [
    "##**Variables instrumentales con mínimos cuadrados en 2 etapas**\n",
    "\n",
    "Para corregir el problema de endogeneidad de la variable educación aplicaremos el método de **variables instrumentales con mínimos cuadrados en 2 etapas (IV2SLS)**. En Python esto se puede hacer de dos maneras, una manual en dos pasos y otra automática en un solo. Teniendo ya estimada la regresión auxiliar que hizo falta para el contraste de Hausman y como esta es también la regresión auxiliar de la primera etapa del método IV2SLS, resulta práctico completar el proceso manual simplemente estimando ahora el modelo original, pero reemplazando la regresora endógena por los valores ajustados de esta variable que guardamos de la regresión auxiliar. "
   ]
  },
  {
   "cell_type": "code",
   "execution_count": null,
   "metadata": {
    "colab": {
     "base_uri": "https://localhost:8080/"
    },
    "executionInfo": {
     "elapsed": 276,
     "status": "ok",
     "timestamp": 1630414469427,
     "user": {
      "displayName": "Adrian Maximiliano Moneta Pizarro",
      "photoUrl": "https://lh3.googleusercontent.com/a-/AOh14GiOIt9PcT6Qg_RVr6d65mtb23o5uWmfH5VSfw5t=s64",
      "userId": "00392462548663890204"
     },
     "user_tz": 180
    },
    "id": "12lml3TZOlHf",
    "outputId": "5ab7bb9a-9b62-4c6b-99cb-36314936e17c"
   },
   "outputs": [
    {
     "name": "stdout",
     "output_type": "stream",
     "text": [
      "                            OLS Regression Results                            \n",
      "==============================================================================\n",
      "Dep. Variable:                  lwage   R-squared:                       0.050\n",
      "Model:                            OLS   Adj. R-squared:                  0.043\n",
      "Method:                 Least Squares   F-statistic:                     7.405\n",
      "Date:                Tue, 31 Aug 2021   Prob (F-statistic):           7.62e-05\n",
      "Time:                        12:54:28   Log-Likelihood:                -457.17\n",
      "No. Observations:                 428   AIC:                             922.3\n",
      "Df Residuals:                     424   BIC:                             938.6\n",
      "Df Model:                           3                                         \n",
      "Covariance Type:            nonrobust                                         \n",
      "=====================================================================================\n",
      "                        coef    std err          t      P>|t|      [0.025      0.975]\n",
      "-------------------------------------------------------------------------------------\n",
      "const                 0.0481      0.420      0.115      0.909      -0.777       0.873\n",
      "exper                 0.0442      0.014      3.136      0.002       0.016       0.072\n",
      "expersq              -0.0009      0.000     -2.134      0.033      -0.002   -7.11e-05\n",
      "valores_ajustados     0.0614      0.033      1.863      0.063      -0.003       0.126\n",
      "==============================================================================\n",
      "Omnibus:                       53.587   Durbin-Watson:                   1.959\n",
      "Prob(Omnibus):                  0.000   Jarque-Bera (JB):              168.354\n",
      "Skew:                          -0.551   Prob(JB):                     2.77e-37\n",
      "Kurtosis:                       5.868   Cond. No.                     4.41e+03\n",
      "==============================================================================\n",
      "\n",
      "Notes:\n",
      "[1] Standard Errors assume that the covariance matrix of the errors is correctly specified.\n",
      "[2] The condition number is large, 4.41e+03. This might indicate that there are\n",
      "strong multicollinearity or other numerical problems.\n"
     ]
    }
   ],
   "source": [
    "frames3 = [X, data[\"valores_ajustados\"]]                            # armamos una lista con los data frames que nos interesan\n",
    "RegresorasSegundaEtapa = pd.concat(frames3, axis = 1)               # concatenamos los elementos de la lista, axis = 1 indica que la concatenación es horizontal\n",
    "RegresionSegundaEtapa = sm.OLS(Y1, sm.add_constant(RegresorasSegundaEtapa))   # especificamos el modelo a estimar por OLS\n",
    "ResultadosSegundaEtapa = RegresionSegundaEtapa.fit()                          # ajustamos el modelo\n",
    "print(ResultadosSegundaEtapa.summary())                                       # vemos los resultados"
   ]
  },
  {
   "cell_type": "markdown",
   "metadata": {
    "id": "yguUGZjPR5tx"
   },
   "source": [
    "El único problema que tiene llevar a cabo de forma manual esta segunda etapa del método IV2SLS es que los coeficientes estimados son los correctos, pero no sus errores estándar (explicación en Wooldridge, p. 522). Afortunadamente, la mayoría de los software incluyen algún paquete o función que resuelve este problema. Python no es la excepción y permite aplicar el método de IV2SLS en un solo paso de manera automática con la función `IV2SLS()` del módulo `iv` de la librería `linearmodels` que oportunamente importamos. Esta función requiere que en los argumentos se explicite claramente el rol de las variables."
   ]
  },
  {
   "cell_type": "code",
   "execution_count": null,
   "metadata": {
    "colab": {
     "base_uri": "https://localhost:8080/"
    },
    "executionInfo": {
     "elapsed": 279,
     "status": "ok",
     "timestamp": 1630415259719,
     "user": {
      "displayName": "Adrian Maximiliano Moneta Pizarro",
      "photoUrl": "https://lh3.googleusercontent.com/a-/AOh14GiOIt9PcT6Qg_RVr6d65mtb23o5uWmfH5VSfw5t=s64",
      "userId": "00392462548663890204"
     },
     "user_tz": 180
    },
    "id": "gMeONwEKT6-W",
    "outputId": "2ce85b24-8a58-4dcc-d7a6-e74bdf903d1a"
   },
   "outputs": [
    {
     "name": "stdout",
     "output_type": "stream",
     "text": [
      "                          IV-2SLS Estimation Summary                          \n",
      "==============================================================================\n",
      "Dep. Variable:                  lwage   R-squared:                      0.1357\n",
      "Estimator:                    IV-2SLS   Adj. R-squared:                 0.1296\n",
      "No. Observations:                 428   F-statistic:                    18.611\n",
      "Date:                Tue, Aug 31 2021   P-value (F-stat)                0.0003\n",
      "Time:                        13:07:39   Distribution:                  chi2(3)\n",
      "Cov. Estimator:                robust                                         \n",
      "                                                                              \n",
      "                             Parameter Estimates                              \n",
      "==============================================================================\n",
      "            Parameter  Std. Err.     T-stat    P-value    Lower CI    Upper CI\n",
      "------------------------------------------------------------------------------\n",
      "const          0.0481     0.4278     0.1124     0.9105     -0.7903      0.8865\n",
      "exper          0.0442     0.0155     2.8546     0.0043      0.0138      0.0745\n",
      "expersq       -0.0009     0.0004    -2.1001     0.0357     -0.0017  -5.997e-05\n",
      "educ           0.0614     0.0332     1.8503     0.0643     -0.0036      0.1264\n",
      "==============================================================================\n",
      "\n",
      "Endogenous: educ\n",
      "Instruments: motheduc, fatheduc\n",
      "Robust Covariance (Heteroskedastic)\n",
      "Debiased: False\n"
     ]
    }
   ],
   "source": [
    "Modelo2Etapas = IV2SLS(dependent = Y1, exog = sm.add_constant(X), endog = Y2, instruments = Z)  # especificamos el modelo\n",
    "ResultadosModelo2Etapas = Modelo2Etapas.fit()            # ajustamos el modelo\n",
    "print(ResultadosModelo2Etapas.summary)                   # vemos los resultados"
   ]
  },
  {
   "cell_type": "markdown",
   "metadata": {
    "id": "BRcZItr8VGZ6"
   },
   "source": [
    "Observar que, por defecto, la función `IV2SLS()` estima los errores estándares con un método robusto (HC0). Por lo tanto, si hubiera un problema de heteroscedasticidad, lo estaría corrigiendo automáticamente.\n",
    "\n",
    "De esta manera hemos corregido la endogeneidad de la educación en un solo paso y con muy pocas líneas de código."
   ]
  },
  {
   "cell_type": "markdown",
   "metadata": {
    "id": "7M8cxZAtdF6n"
   },
   "source": [
    "##**Comparación de modelos**\n",
    "\n",
    "Podemos ver cuáles hubieran sido las diferencias con una estimación OLS."
   ]
  },
  {
   "cell_type": "code",
   "execution_count": null,
   "metadata": {
    "colab": {
     "base_uri": "https://localhost:8080/"
    },
    "executionInfo": {
     "elapsed": 279,
     "status": "ok",
     "timestamp": 1630417681389,
     "user": {
      "displayName": "Adrian Maximiliano Moneta Pizarro",
      "photoUrl": "https://lh3.googleusercontent.com/a-/AOh14GiOIt9PcT6Qg_RVr6d65mtb23o5uWmfH5VSfw5t=s64",
      "userId": "00392462548663890204"
     },
     "user_tz": 180
    },
    "id": "CzDINQmWdxfg",
    "outputId": "53cdc6c9-3eea-4281-af11-c028b9ce4132"
   },
   "outputs": [
    {
     "name": "stdout",
     "output_type": "stream",
     "text": [
      "                            OLS Regression Results                            \n",
      "==============================================================================\n",
      "Dep. Variable:                  lwage   R-squared:                       0.157\n",
      "Model:                            OLS   Adj. R-squared:                  0.151\n",
      "Method:                 Least Squares   F-statistic:                     27.56\n",
      "Date:                Tue, 31 Aug 2021   Prob (F-statistic):           2.68e-16\n",
      "Time:                        13:48:00   Log-Likelihood:                -431.60\n",
      "No. Observations:                 428   AIC:                             871.2\n",
      "Df Residuals:                     424   BIC:                             887.4\n",
      "Df Model:                           3                                         \n",
      "Covariance Type:                  HC0                                         \n",
      "==============================================================================\n",
      "                 coef    std err          z      P>|z|      [0.025      0.975]\n",
      "------------------------------------------------------------------------------\n",
      "const         -0.5220      0.201     -2.601      0.009      -0.915      -0.129\n",
      "exper          0.0416      0.015      2.734      0.006       0.012       0.071\n",
      "expersq       -0.0008      0.000     -1.940      0.052      -0.002    8.28e-06\n",
      "educ           0.1075      0.013      8.170      0.000       0.082       0.133\n",
      "==============================================================================\n",
      "Omnibus:                       77.792   Durbin-Watson:                   1.961\n",
      "Prob(Omnibus):                  0.000   Jarque-Bera (JB):              300.917\n",
      "Skew:                          -0.753   Prob(JB):                     4.54e-66\n",
      "Kurtosis:                       6.822   Cond. No.                     2.21e+03\n",
      "==============================================================================\n",
      "\n",
      "Notes:\n",
      "[1] Standard Errors are heteroscedasticity robust (HC0)\n",
      "[2] The condition number is large, 2.21e+03. This might indicate that there are\n",
      "strong multicollinearity or other numerical problems.\n"
     ]
    }
   ],
   "source": [
    "frames4 = [X, Y2]                                      # armamos un lista de las variables explicativas\n",
    "RegresorasOLS = pd.concat(frames4, axis = 1)           # concatenamos estas variables en un solo data frame\n",
    "ModeloOLS = sm.OLS(Y1, sm.add_constant(RegresorasOLS)) # especificamos un ajuste por OLS\n",
    "ResultadosOLS = ModeloOLS.fit(cov_type = \"HC0\")        # pedimos que los errores estándares sean robustos\n",
    "print(ResultadosOLS.summary())                         # vemos los resultados"
   ]
  },
  {
   "cell_type": "markdown",
   "metadata": {
    "id": "6z1zI8XegFjm"
   },
   "source": [
    "Para comparar los resultados de los diferentes modelos resulta muy útil la función `compare()` del módulo `iv` de la librería `linearmodels`, pero requiere que todos los ajustes sean obtenidos con la función `IV2SLS()`."
   ]
  },
  {
   "cell_type": "code",
   "execution_count": null,
   "metadata": {
    "colab": {
     "base_uri": "https://localhost:8080/"
    },
    "executionInfo": {
     "elapsed": 275,
     "status": "ok",
     "timestamp": 1630418750930,
     "user": {
      "displayName": "Adrian Maximiliano Moneta Pizarro",
      "photoUrl": "https://lh3.googleusercontent.com/a-/AOh14GiOIt9PcT6Qg_RVr6d65mtb23o5uWmfH5VSfw5t=s64",
      "userId": "00392462548663890204"
     },
     "user_tz": 180
    },
    "id": "OwDdA-iVgnl0",
    "outputId": "ca53cae3-31f2-4864-9f67-388848926ef5"
   },
   "outputs": [
    {
     "name": "stdout",
     "output_type": "stream",
     "text": [
      "                          Model Comparison                         \n",
      "===================================================================\n",
      "                                OLS IV2SLS Manual IV2SLS Automático\n",
      "-------------------------------------------------------------------\n",
      "Dep. Variable                 lwage         lwage             lwage\n",
      "Estimator                       OLS           OLS           IV-2SLS\n",
      "No. Observations                428           428               428\n",
      "Cov. Est.                    robust        robust            robust\n",
      "R-squared                    0.1568        0.0498            0.1357\n",
      "Adj. R-squared               0.1509        0.0431            0.1296\n",
      "F-statistic                  82.671        17.111            18.611\n",
      "P-value (F-stat)             0.0000        0.0007            0.0003\n",
      "===================     ===========   ===========       ===========\n",
      "const                       -0.5220        0.0481            0.0481\n",
      "                          (-2.6010)      (0.1071)          (0.1124)\n",
      "exper                        0.0416        0.0442            0.0442\n",
      "                           (2.7344)      (2.7045)          (2.8546)\n",
      "expersq                     -0.0008       -0.0009           -0.0009\n",
      "                          (-1.9402)     (-1.9627)         (-2.1001)\n",
      "educ                         0.1075                          0.0614\n",
      "                           (8.1697)                        (1.8503)\n",
      "valores_ajustados                          0.0614                  \n",
      "                                         (1.7553)                  \n",
      "===================== ============= =============     =============\n",
      "Instruments                                                motheduc\n",
      "                                                           fatheduc\n",
      "-------------------------------------------------------------------\n",
      "\n",
      "T-stats reported in parentheses\n"
     ]
    }
   ],
   "source": [
    "ResultadosOLS = IV2SLS(dependent = Y1, exog = sm.add_constant(RegresorasOLS),\n",
    "        endog = None, instruments = None).fit()     # ajuste OLS\n",
    "ResultadosManual = IV2SLS(dependent = Y1, exog = sm.add_constant(RegresorasSegundaEtapa),\n",
    "        endog = None, instruments = None).fit()     # ajuste IV2SLS manual \n",
    "ResultadosAutomatico = IV2SLS(dependent = Y1, exog = sm.add_constant(X),\n",
    "        endog = Y2, instruments = Z).fit()          # ajuste IV2SLS automático\n",
    "from linearmodels.iv import compare                 # importamos la función compare\n",
    "print(compare({\"OLS\": ResultadosOLS, \"IV2SLS Manual\": ResultadosManual,\n",
    "        \"IV2SLS Automático\": ResultadosAutomatico}))    # comparamos los resultados"
   ]
  },
  {
   "cell_type": "markdown",
   "metadata": {
    "id": "y0z6oVFmiF8w"
   },
   "source": [
    "Observar que entre paréntesis están indicados los estadísticos **t** de los contrastes de significación. Lo habitual no es presentar de esta manera los resultados, sino colocar entre paréntesis los errores estándares. Para esto se puede usar utilizar la opción `precision = \"std_errors\"`."
   ]
  },
  {
   "cell_type": "code",
   "execution_count": null,
   "metadata": {
    "colab": {
     "base_uri": "https://localhost:8080/"
    },
    "executionInfo": {
     "elapsed": 394,
     "status": "ok",
     "timestamp": 1630418915366,
     "user": {
      "displayName": "Adrian Maximiliano Moneta Pizarro",
      "photoUrl": "https://lh3.googleusercontent.com/a-/AOh14GiOIt9PcT6Qg_RVr6d65mtb23o5uWmfH5VSfw5t=s64",
      "userId": "00392462548663890204"
     },
     "user_tz": 180
    },
    "id": "AWM3OxO-iVqB",
    "outputId": "5d680b56-9b13-4d38-c157-8580d94ab48b"
   },
   "outputs": [
    {
     "name": "stdout",
     "output_type": "stream",
     "text": [
      "                         Model Comparison                         \n",
      "==================================================================\n",
      "                               OLS IV2SLS Manual IV2SLS Automático\n",
      "------------------------------------------------------------------\n",
      "Dep. Variable                lwage         lwage             lwage\n",
      "Estimator                      OLS           OLS           IV-2SLS\n",
      "No. Observations               428           428               428\n",
      "Cov. Est.                   robust        robust            robust\n",
      "R-squared                   0.1568        0.0498            0.1357\n",
      "Adj. R-squared              0.1509        0.0431            0.1296\n",
      "F-statistic                 82.671        17.111            18.611\n",
      "P-value (F-stat)            0.0000        0.0007            0.0003\n",
      "===================     ==========    ==========        ==========\n",
      "const                      -0.5220        0.0481            0.0481\n",
      "                          (0.2007)      (0.4492)          (0.4278)\n",
      "exper                       0.0416        0.0442            0.0442\n",
      "                          (0.0152)      (0.0163)          (0.0155)\n",
      "expersq                    -0.0008       -0.0009           -0.0009\n",
      "                          (0.0004)      (0.0005)          (0.0004)\n",
      "educ                        0.1075                          0.0614\n",
      "                          (0.0132)                        (0.0332)\n",
      "valores_ajustados                         0.0614                  \n",
      "                                        (0.0350)                  \n",
      "===================== ============  ============      ============\n",
      "Instruments                                               motheduc\n",
      "                                                          fatheduc\n",
      "------------------------------------------------------------------\n",
      "\n",
      "Std. Errors reported in parentheses\n"
     ]
    }
   ],
   "source": [
    "print(compare({\"OLS\": ResultadosOLS, \"IV2SLS Manual\": ResultadosManual,\n",
    "        \"IV2SLS Automático\": ResultadosAutomatico}, precision = \"std_errors\"))"
   ]
  }
 ],
 "metadata": {
  "colab": {
   "authorship_tag": "ABX9TyMuuosyhSbzp/kF56PMEYL0",
   "collapsed_sections": [],
   "name": "Clase 2 Parte II.ipynb",
   "provenance": []
  },
  "kernelspec": {
   "display_name": "Python 3",
   "language": "python",
   "name": "python3"
  },
  "language_info": {
   "codemirror_mode": {
    "name": "ipython",
    "version": 3
   },
   "file_extension": ".py",
   "mimetype": "text/x-python",
   "name": "python",
   "nbconvert_exporter": "python",
   "pygments_lexer": "ipython3",
   "version": "3.7.3"
  }
 },
 "nbformat": 4,
 "nbformat_minor": 1
}
