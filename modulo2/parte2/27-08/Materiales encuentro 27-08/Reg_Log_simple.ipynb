{
 "cells": [
  {
   "cell_type": "markdown",
   "metadata": {
    "id": "e_nFn_KmIlvA"
   },
   "source": [
    "Se quiere establecer un modelo que permita calcular la probabilidad de obtener un crédito en función de un scoring determinado por el banco. La variable crédito está codificada como 0 si el cliente no obtuvo el crédito y 1 si accedió al crédito."
   ]
  },
  {
   "cell_type": "code",
   "execution_count": null,
   "metadata": {
    "id": "eE-MYUBTIQJp"
   },
   "outputs": [],
   "source": [
    "# Librerias\n",
    "# Tratamiento de datos\n",
    "# ==============================================================================\n",
    "import pandas as pd\n",
    "import numpy as np\n",
    "\n",
    "# Gráficos\n",
    "# ==============================================================================\n",
    "import matplotlib.pyplot as plt\n",
    "from matplotlib import style\n",
    "import seaborn as sns\n",
    "\n",
    "# Preprocesado y modelado\n",
    "# ==============================================================================\n",
    "from sklearn.linear_model import LogisticRegression\n",
    "from sklearn.model_selection import train_test_split\n",
    "from sklearn.metrics import accuracy_score\n",
    "import statsmodels.api as sm\n",
    "import statsmodels.formula.api as smf\n",
    "from statsmodels.stats.weightstats import ttest_ind\n"
   ]
  },
  {
   "cell_type": "code",
   "execution_count": null,
   "metadata": {
    "colab": {
     "base_uri": "https://localhost:8080/",
     "height": 142
    },
    "id": "sgOtDJ47I8Ou",
    "outputId": "fa348a1a-3284-4230-fe49-38d6dcfbd054"
   },
   "outputs": [
    {
     "data": {
      "text/html": [
       "<div>\n",
       "<style scoped>\n",
       "    .dataframe tbody tr th:only-of-type {\n",
       "        vertical-align: middle;\n",
       "    }\n",
       "\n",
       "    .dataframe tbody tr th {\n",
       "        vertical-align: top;\n",
       "    }\n",
       "\n",
       "    .dataframe thead th {\n",
       "        text-align: right;\n",
       "    }\n",
       "</style>\n",
       "<table border=\"1\" class=\"dataframe\">\n",
       "  <thead>\n",
       "    <tr style=\"text-align: right;\">\n",
       "      <th></th>\n",
       "      <th>credito</th>\n",
       "      <th>scoring</th>\n",
       "    </tr>\n",
       "  </thead>\n",
       "  <tbody>\n",
       "    <tr>\n",
       "      <th>0</th>\n",
       "      <td>0</td>\n",
       "      <td>41</td>\n",
       "    </tr>\n",
       "    <tr>\n",
       "      <th>1</th>\n",
       "      <td>0</td>\n",
       "      <td>53</td>\n",
       "    </tr>\n",
       "    <tr>\n",
       "      <th>2</th>\n",
       "      <td>0</td>\n",
       "      <td>54</td>\n",
       "    </tr>\n",
       "  </tbody>\n",
       "</table>\n",
       "</div>"
      ],
      "text/plain": [
       "   credito  scoring\n",
       "0        0       41\n",
       "1        0       53\n",
       "2        0       54"
      ]
     },
     "execution_count": 91,
     "metadata": {},
     "output_type": "execute_result"
    }
   ],
   "source": [
    "# Datos\n",
    "# ==============================================================================\n",
    "credito = np.array([0, 0, 0, 0, 0, 0, 0, 0, 0, 0, 0, 1, 0, 1, 0, 0, 0, 0, 1,\n",
    "                     0, 0, 1, 0, 0, 0, 0, 1, 0, 0, 0, 0, 0, 1, 0, 0, 1, 0, 1,\n",
    "                     0, 0, 0, 0, 0, 0, 1, 0, 0, 0, 0, 0, 1, 0, 0, 0, 1, 0, 0,\n",
    "                     0, 0, 0, 0, 1, 0, 0, 0, 0, 0, 0, 0, 0, 0, 0, 1, 0, 0, 0,\n",
    "                     1, 0, 0, 0, 0, 0, 0, 1, 0, 1, 0, 0, 0, 0, 1, 0, 1, 0, 0,\n",
    "                     1, 1, 1, 0, 1, 0, 0, 0, 0, 0, 0, 1, 0, 0, 1, 0, 0, 0, 1,\n",
    "                     1, 0, 0, 1, 0, 0, 0, 0, 0, 0, 1, 0, 0, 0, 0, 0, 0, 1, 1,\n",
    "                     0, 0, 1, 0, 0, 0, 0, 0, 0, 0, 0, 0, 0, 1, 0, 0, 0, 0, 0,\n",
    "                     0, 0, 1, 0, 0, 0, 0, 1, 1, 0, 1, 1, 0, 0, 0, 0, 1, 0, 0,\n",
    "                     0, 0, 0, 0, 0, 1, 0, 0, 1, 1, 0, 1, 1, 1, 1, 0, 0, 1, 0,\n",
    "                     0, 0, 0, 0, 1, 0, 0, 0, 1, 1])\n",
    "\n",
    "scoring = np.array([\n",
    "                  41, 53, 54, 47, 57, 51, 42, 45, 54, 52, 51, 51, 71, 57, 50, 43,\n",
    "                  51, 60, 62, 57, 35, 75, 45, 57, 45, 46, 66, 57, 49, 49, 57, 64,\n",
    "                  63, 57, 50, 58, 75, 68, 44, 40, 41, 62, 57, 43, 48, 63, 39, 70,\n",
    "                  63, 59, 61, 38, 61, 49, 73, 44, 42, 39, 55, 52, 45, 61, 39, 41,\n",
    "                  50, 40, 60, 47, 59, 49, 46, 58, 71, 58, 46, 43, 54, 56, 46, 54,\n",
    "                  57, 54, 71, 48, 40, 64, 51, 39, 40, 61, 66, 49, 65, 52, 46, 61,\n",
    "                  72, 71, 40, 69, 64, 56, 49, 54, 53, 66, 67, 40, 46, 69, 40, 41,\n",
    "                  57, 58, 57, 37, 55, 62, 64, 40, 50, 46, 53, 52, 45, 56, 45, 54,\n",
    "                  56, 41, 54, 72, 56, 47, 49, 60, 54, 55, 33, 49, 43, 50, 52, 48,\n",
    "                  58, 43, 41, 43, 46, 44, 43, 61, 40, 49, 56, 61, 50, 51, 42, 67,\n",
    "                  53, 50, 51, 72, 48, 40, 53, 39, 63, 51, 45, 39, 42, 62, 44, 65,\n",
    "                  63, 54, 45, 60, 49, 48, 57, 55, 66, 64, 55, 42, 56, 53, 41, 42,\n",
    "                  53, 42, 60, 52, 38, 57, 58, 65])\n",
    "\n",
    "datos = pd.DataFrame({'credito': credito, 'scoring': scoring})\n",
    "datos.head(3)"
   ]
  },
  {
   "cell_type": "code",
   "execution_count": null,
   "metadata": {
    "colab": {
     "base_uri": "https://localhost:8080/"
    },
    "id": "DHY_D2cFJXOn",
    "outputId": "45e6912c-f725-4f94-d900-bed37d6eb962"
   },
   "outputs": [
    {
     "data": {
      "text/plain": [
       "0    151\n",
       "1     49\n",
       "Name: credito, dtype: int64"
      ]
     },
     "execution_count": 92,
     "metadata": {},
     "output_type": "execute_result"
    }
   ],
   "source": [
    "# Número de observaciones por clase\n",
    "# ==============================================================================\n",
    "datos.credito.value_counts().sort_index()"
   ]
  },
  {
   "cell_type": "code",
   "execution_count": null,
   "metadata": {
    "colab": {
     "base_uri": "https://localhost:8080/"
    },
    "id": "RLdkWuyYmZIq",
    "outputId": "fa2acca8-f8bd-4c20-990a-d81a8ca81e4b"
   },
   "outputs": [
    {
     "data": {
      "text/plain": [
       "0    0.755\n",
       "1    0.245\n",
       "Name: credito, dtype: float64"
      ]
     },
     "execution_count": 93,
     "metadata": {},
     "output_type": "execute_result"
    }
   ],
   "source": [
    "# Porcentaje de observaciones por clase\n",
    "datos.credito.value_counts(normalize=True).sort_index()"
   ]
  },
  {
   "cell_type": "code",
   "execution_count": null,
   "metadata": {
    "colab": {
     "base_uri": "https://localhost:8080/",
     "height": 296
    },
    "id": "w06wiu3YLyt7",
    "outputId": "4d65606e-ca7a-4de0-9c4d-f9329d1e6038"
   },
   "outputs": [
    {
     "data": {
      "text/plain": [
       "<matplotlib.axes._subplots.AxesSubplot at 0x7f6485e8bb50>"
      ]
     },
     "execution_count": 94,
     "metadata": {},
     "output_type": "execute_result"
    },
    {
     "data": {
      "image/png": "[encoded data removed]",
      "text/plain": [
       "<Figure size 432x288 with 1 Axes>"
      ]
     },
     "metadata": {
      "needs_background": "light"
     },
     "output_type": "display_data"
    }
   ],
   "source": [
    "# Box plot \n",
    "\n",
    "sns.boxplot(x='credito', y='scoring', data=datos)"
   ]
  },
  {
   "cell_type": "code",
   "execution_count": null,
   "metadata": {
    "colab": {
     "base_uri": "https://localhost:8080/"
    },
    "id": "Zoe11Sc5KMsm",
    "outputId": "5be8de6c-471b-46f5-bd67-fa605f3bcdfd"
   },
   "outputs": [
    {
     "name": "stdout",
     "output_type": "stream",
     "text": [
      "t=-8.245421127756739, p-value=2.248243794123437e-14\n"
     ]
    }
   ],
   "source": [
    "# T-test entre clases\n",
    "# ==============================================================================\n",
    "res_ttest = ttest_ind(\n",
    "                x1 = scoring[credito == 0],\n",
    "                x2 = scoring[credito == 1],\n",
    "                alternative='two-sided'\n",
    "            )\n",
    "print(f\"t={res_ttest[0]}, p-value={res_ttest[1]}\")"
   ]
  },
  {
   "cell_type": "markdown",
   "metadata": {
    "id": "bh7slCwnKaI-"
   },
   "source": [
    "Tanto el gráfico como el t-test muestran evidencias de que existe una diferencia entre el scoring de las personas con crédito y sin crédito. Esta información es útil para considerar el scoring como un buen predictor para el modelo."
   ]
  },
  {
   "cell_type": "markdown",
   "metadata": {
    "id": "kSMeMm-OOYSK"
   },
   "source": [
    "**Statsmodels**"
   ]
  },
  {
   "cell_type": "markdown",
   "metadata": {
    "id": "eWbHKY_6N_v-"
   },
   "source": [
    "Se ajusta un modelo empleando como variable respuesta crédito y como predictor score. La implementación de regresión logística de Statsmodels, es más completa que la de Scikitlearn ya que, además de ajustar el modelo, permite calcular los test estadísticos y análisis necesarios para verificar que se cumplen las condiciones sobre las que se basa este tipo de modelos."
   ]
  },
  {
   "cell_type": "code",
   "execution_count": null,
   "metadata": {
    "colab": {
     "base_uri": "https://localhost:8080/"
    },
    "id": "0aWUCOFuKjVX",
    "outputId": "b3f50f86-be5c-4b9e-8f2a-1925049597f1"
   },
   "outputs": [
    {
     "name": "stdout",
     "output_type": "stream",
     "text": [
      "Optimization terminated successfully.\n",
      "         Current function value: 0.417683\n",
      "         Iterations 7\n",
      "                           Logit Regression Results                           \n",
      "==============================================================================\n",
      "Dep. Variable:                credito   No. Observations:                  200\n",
      "Model:                          Logit   Df Residuals:                      198\n",
      "Method:                           MLE   Df Model:                            1\n",
      "Date:                Fri, 27 Aug 2021   Pseudo R-squ.:                  0.2498\n",
      "Time:                        13:27:13   Log-Likelihood:                -83.537\n",
      "converged:                       True   LL-Null:                       -111.36\n",
      "Covariance Type:            nonrobust   LLR p-value:                 8.718e-14\n",
      "==============================================================================\n",
      "                 coef    std err          z      P>|z|      [0.025      0.975]\n",
      "------------------------------------------------------------------------------\n",
      "Intercept     -9.7939      1.482     -6.610      0.000     -12.698      -6.890\n",
      "scoring        0.1563      0.026      6.105      0.000       0.106       0.207\n",
      "==============================================================================\n"
     ]
    }
   ],
   "source": [
    "modelo = smf.logit(formula = 'credito ~scoring', data = datos)\n",
    "modelo = modelo.fit()\n",
    "print(modelo.summary())"
   ]
  },
  {
   "cell_type": "markdown",
   "metadata": {
    "id": "7fimS3p0MDCe"
   },
   "source": [
    "![ll.png](data:image/png;base64,iVBORw0KGgoAAAANSUhEUgAAAigAAAB5CAIAAACcIk2pAAAAAXNSR0IArs4c6QAAAARnQU1BAACxjwv8YQUAAAAJcEhZcwAADsMAAA7DAcdvqGQAADAwSURBVHhe7Z0HfFVF1sADoXeT0HtJkEAgFGnSBOlNioCAIsWGIFHQRdQVFUEWXJReVkHYgBQDLCjISi/Se0QECZ0EEkJNgCTw/fPO5X437yXhAclL3Jz/j99j5sy5M3PPzJ0z5977XjLdu3fPTVEURVFcRWbjf0VRFEVxCep4FEVRFJeijkdRFEVxKep4FEVRFJeijkdRFEVxKep4FEVRFJeijkdRFEVxKfo9ntTi6NGj4eHhWbJkqVOnjiFS/rKcOnXq7NmzqT2at27dOnDgQGxsbPny5YsUKWJIU5MdO3bQnJeXV8WKFQ2RA+fOnTt58uSjnftj2u2BBomMjPztt99I+Pv7586dW4SuxBkDpiuw540bNzAmJjVEaUH6cjzMs2PHjhmZ++TNm7eADSOfctDciRMn4uLiGIaCBQsa0hTi+eefX7JkSb58+a5evWqIHpKwsLCLFy9KGiOUKVNG0ib0PCQkJDo6WrLlypVzvPZMnURrSJTr16+z0JBAn6NEmNqcPn1aDOXt7Z0jRw4RmrC4cCLOn0KK884770yYMMEczZQykQyxu7t7hQoVsmXLxmaldu3a165dmzJlysCBAx0V5KgUJH/+/DTXtWvXxYsXG6KEYPbhw4ePHz+eM2UiIbl8+TKuiITjSN25c+f48eMcUqhQocKFCyOxs9vD4mgQ6mcy58yZE4OQDQoK6tKlC4m9e/dWr149/hjXkrwBU3VBc7S2Mzz77LNr167t3r373LlzU2NGOQuOJ/3A7DG6ZaFRo0aTJk2KiIgwlFIOBoB5wzyYNm2aIUo5WrZsKf038g/PsGHDpAbACOxTjIL7sFhXrVrV0HBz++WXX4wCC3hWdJhhvXr1MkQPYtmyZVIhCUOU+vTp00ca3bp1qyG6T1RUFMNEUadOnQyRy7EbzZQykQwxZ/fHH3+Q3bx5s1Q7duzYRBXg0qVL+DyGXrKPiTTH2Rl5B4hXxPi4EJFMnTpVjuJqFYkJnRRlui2Sx7wKHA0iE55PySIXBTRF4mKk9aQMmFILGr6NQYfbt28bosSs7Qw0Ld04dOiQIUoL0tcznps3b0qCHc0TNvAKTKnBgwe/++67+HYpTRHYjDBgfL766quvv/66IU1PMDMkkTlz5k2bNrG5k6wJkoMHD7IdluyePXskYRIbGzt58uTg4OD69etPnDjRkD4ItlF2CRfA1SiJpUuXSsJkzZo1sl9u166dSNKclDKR3CZiWcGdiMQOR4U333yT4MO64UhV1q1bJ8Zv1aqVSIj2JGFerSZ0kq6SkG6nBkxm8zP9k1ILWmBgIIMOVsM+mrW5iGTFcLzQXEk6fblg5MiRRPSwatUqRgvJt99+e/jwYSlNEfD8rNoDBgwYP368IUqvlCtXjs+VK1dKVmDXIJuXGjVqiMSRHTt2fP311zVr1lyyZImHh4chfRC+vr5MTSBhiFKfJk2aZMqUiQTXA6cmQmH16tV8UoqOSNKclDIRY0clnp6eST3RcVQQN3DlyhXJpjYy6zB+8+bNRZIMdJKu0uFk5uRjwmSmfj6N/F+Ex1zQxMHAjRs3JAGPZm28l+h/9913IkkT0vtbbXXr1iXGl7S51UoRAgICuIb/+c9/Gvl0TOfOnfkkvmHiigSYtXLP3bxJ5QjW4xw3bNjgvNeBFi1acBSQMESpT9myZeUePSdld0H+8MMPfFKKjkjSnJQy0UcffUQlp06dSurUHqiQ2hDx8NmsWTPJJg+dpKt0mG4bopSGyUz9fBr5vxopuKA9srWbNm3KJxeaLCBpQnp3PPhz8+G5leXLl/fs2bOYjUqVKr3++uvWeFPkVlA2ytzcdu7ciX7VqlW9vb3x/xRRm1Fmew9HDqHCKVOm1KtXjzRNkDY0EiMyMhIF1FDmEGuFVtBp3bq1rfpiJJJSs0McT2xs7IoVK0QCbFju3r1L/ytXrmyILMg5VqlShXMsX758r1691q5dK0UkpANffPGFSDhl6fm8efPIclVzFBw9elQUxAiUcqz0H/33339f3imiofjqihUjQVVyiJD8MFlhT927d28SnNSuXbtECJxIREQECUolJKJRmpYuAXWiY9ONhxalLRqSplFALgNkjqZ0Xg4BKTWHBjUU7M7FSkqZiH0PlbB/l1NzxKpAPdRgrrlSoQwZn5K1mpcOIJHTF2iaLokmxrHaLVGoTfY65o3Q5Dl9+jRdpcMLFy40RAmhQukV5hJJ8qPpCNcC9b/99ttG/j4s4tYL0JztJo5T0bGhB+o8rAEdSXRBS3T6mfOTnowaNUrSzz33HAoypola25mZLCsGF1qij6BchO1JT3rB8Vkil5ns9fLly3f+/HkRfvzxx0WLFjXf4GIs8+bN6+fnZz5xRVmKTMynfytXrixZsiT6HCVF1ENtXOGi8Ouvv4qcCr28vLJmzUoaZdIzZ84UHUcGDx6MgtTJIdbuGRr37vXr1w8d80UgEtZ2HTEfzN66datUqVIk2HgaZffuiYR2HY2W6DkWL14cY1JKtI5DQkgYdOTIESQjRoxAE6OxAyI7YcIEOcp8zi9GYIpTifQf/QIFCjzzzDNYiYZs6vGv6zRu3FgOgQcOkx3mMy3raX7++ecilGehXFeEPjQtXQLq5GTl1ODLL79ESFs0JE1zESInLrSOJjVMnz5dDqHOjh07WocGNRSqVatmdtXuIXlKmYh2RVOyjkNpVdi/f7+UWpGzGDdunGStr2ZwFBI5feA0aZouiSbGwW6STurZ+M8//ywKc+fONUTJPs/n2pFG6Y9IrHajA23bthWFxYsXiyT50XQ0iNjWPCmzM6zO1guQUdi9e7foQKJT0doQPFDnEQzo5ILGJHGcfgy9lMqtOSvdu3dH7mhtZ2YyrF+/Xkq5WAyRy0mnEc+kSZOesvHKK69gshIlSsyaNct84/nixYvs9FmS2BrDSy+9xH6HzdSWLVtEYePGjVLEuiySHj168Hnu3Lm33nrrzJkzVPjDDz+gQLWM64ULFxg8eUmUwMJ2RPzu7IUXXti2bdv8+fOZZOHh4eZyYwcrQmBgIAo+Pj6//PLLqlWrWNntHr2uWbNmyZIl6HBGtItau3btrO0mQ/bs2du0aUNi+/btosz6IgmJEuzAGgzt8OHDWTho66uvvqIz6C9atIhSzgVPQ4LN7Pjx4+k8RoiLixsyZAhmQX7nzp34Wmx7IknExMTweeLECV9fX7zasmXLqOTKlSsY59q1azNmzOB02FvRLj0018cHDpMdrNosHyTM0wR5fww5pSTYzR08eJCmp06dSp2U0mcG9JNPPrGpG8PH6dAQp4nOm2++efXq1aVLl2J8LkskmOXFF19EKIdQJ/2nlH00paSxKk0cPnz422+/FR07UspEbCn4TOYhs1UBC9A9KrGVuJEGiYbNbpgJkKNMSVBQEE3Tpa5du3Igg54nTx4pSgoznmMdl0TyYHy7Rq1gZ5ZdFJgS8qrCA0fTETGIY/2hoaEffvghJ0jljAXzx3yGwaVH/VxruCtGgYY+/fRTBsLakDM6j2BAk+QXNCRNmjRhslEtrdeqVYtWSMir2OvWrTPXMY5CZ/To0aQdre3kTKZ+STj/kCnlEf+TTjA3CFbYd8ybN49JYCjdu/f7779z6WJfyTJfRdPOgR8/fly+JMV4i/Ls2bNFc/LkyVFRUUjYI5h7atZlJGYfevXqdfLkSSQ0LVd7lixZyDrCrlMOoVqWJGBEzS+Uic7LL79MmuBX6kQHPyQK0q4j1t0iF4akOQWyOAnSNMFZOO6quAhZ7/ikFbKcuyiw3xQFzppNFhKCHjZxJOjY2bNnpdRxSytZmuO8qJNGZb0DnDH2QWg+LWNZl6OcHCYrf//730VHbMII5syZkyxyUZAVsEOHDpwCWXoydOhQJKihjMTs/KuvvooFkEj3RNi0aVNWOrK2d1PjBwKkTs5OLEDpn3/+iUEQPvnkk6JjF/GklInsqnUcSjsFcJSAY39AJOhLVvZesHPnTrJ0ybwfZerYkWi1iQqFZPq/YsUKsTPuQcYFHjiajhVK1uyw2Rk2cDLTqFwk5myXSw84cUZBdGgUidmQMzqPYECz/1YcFzSuVi4WkdA6W0bRRC4Kidrc0TjOzGTBdtz/m8j1pNOIh90xW1QcO3sK9jiyDBlltlWSrSWrfCcbcncFzGBFYDywOzW8//77np6eSNiwSBETRVY04lDckggZLUkI7LJLly5Nghrk3p1d/SbmFp5qiW2hcuXKMt4mP/30E5/ssgMCAuhzt27dvv76aymyazdRateuLe81/fvf/2aCitNiaZOzsKNw4cJ0FXfYt29f2howYIDIzf5z1vKEk6CHyU2CLZXM2mTgjDgvzo5G/fz8ROjv7499EMrtO2BoJOHkMFlhvykJuW3NpSU3xEV+5MgRiYQOHTokp9azZ0955w01uzeSuajkW3XSPXappPfu3UsARNRLQgYX9yN1NmzYUCyAcjkbpJk/fDrPw5rIlchrAhUqVKhWrRoJutSgQQNbiSv44osvsDONMmQyLg81mg+EXbxc4+ZXKc1ptmnTJj7lxBkF0ujImyxmQ87oPI4Bk1/QmGzEgiNHjsQIrAzmo1wJaJzkEWZyMldiapNOHQ9X73PPPde/f39GgsCZHeJ///tfo8zNjfEbNWrUzJkz2URDotuKH3/8Ub74wmx+9tlnRXj+/HlJmDdnwVy75W6Jicw/ZzAvEmu1dt8Klt8guHnzpvQZzG4TSEkiGfLnzy/vorDbWrBggcww1lZboT24pQ8++AD7LF68WNoyCiwULVpUEnLWzrz2Zj2jXLlyScLsvGlG89VPZ4bJDsZd7oBzHWIxeZcXCXIS8pYBhISESJ1gfqXDzox2ZzRixIiBAwcyQHQjMDCQjskXIcPCwkRB/JBJbtu9frsp8UAe1kSuRGZgiRIlzE7aTdFURUaQPbi4Fnio0XwgyejLxs564mCOjiy+zug8jgGTWdCodtiwYYTFc+bMsTPCQ5GyMzm1SddvtRUqVOiVV14hwXydNm2aCFlzv/32W3asRADsESZNmuT4igtBN6seM5uohe0tsa3Iy9z/wRViZ0nAlftfiXB8iOckpr+xVmu3ZZN3Aby8vOiwHeJRHojcuiHc4RASVGjuqe2YOHEiyytGI6yRJowCC0ROfNIfubpwUeYduRTBmWFyhJFq3749CcaOUwDSSGQEJeYD9nRyXlbMwU0Udq/EmvgbOsNA07GvvvoKuYwL2F3tMnzYR7J/FeQRCDh+u1POlGDLLErZEU8eLkMuRrmQxdSPM5oPhdxvt544mG5PvvzvjM7jGzDRBW337t1cfUePHiV+Ii7k3OWNkofF+Zls9t/cCbme9P46NRG0/Lzgli1bDh48SIIVTbYeVatWHTJkSL9+/Rx/7W7evHnbtm3DrIMGDZKtllC/fn1JfPPNN/KeKPEp+18SKEtk/QiYN+uoNsrG999/b/eOvHgXYme6TZ/pGKFY7dq1IyMjrT1MBq5P2cXLI8E2bdo4vrwn7LK9jsyF/dprr9EQrYjchLBJ7mV17dpVbmRjXmJEW2HK4MwwJUq3bt0kgd+SGqSHULx4cXnF4O7du40aNeLUoEuXLj4+Pnny5EnGSVy4cOHLL7/kKKriyn/yyScRypNbIj+pc+PGjZiFBMO3fPlyGT4zVk4/mC8sMXXpqkxjc9HZsWOHCM3njiZPP/00n6dPn5Y7OdhkxowZtpIkMW9bmbvpR4ZJzmBxlWH2cePG0cNHHs2HRR5nyoljHNIM9C+//EKCDsiu0RmdRzCgI44LGga5ffs2Ca5o3DPLgrlRNjEHndb5pGnJWnF+Jp85c0YScnchTXi4eNb1MFN79+7N5cRWjlD0n//8J7uGAgUKEKb8/vvvXF0Y13oXDoiazauOi9P8tsrw4cPr1q2Ld9m3bx9bDGJz1vFTp04xNpSyJD3yt9AbN27MKh8aGkq1XDNIqDN79uxSKnTv3n316tXo0B8mH3EG1x4REkInv//FieM45e4TELlLwhG2lpwjJmLtpiGZhSbR0dFs9pm7TLvXX38dw9IHlDFas2bNSthebHt8HjhMScEA0f8jR47IS58Y1twQMBlwYJ988gnxCmaUn43hRA4dOpQtWzbz+bAjOLAxY8bIGx/0RJ4/04qUSp3UQ504aekqGwKaTubLuWkFYa7M2LFjxxYsWLBevXqtW7dmYou1Fy1axCrGmC5YsIDVygyAgH300qVLkXz99ddcF5xvUFCQzFtDwwF5PACJPpRix2Z9QdF8JJ4UPXr0wLDLli2jk3SYufdoo/mwEDFzppwmJ/7bb7/JFUGj2IcOYDcndR7BgI44LmhmbLdhwwbWBCAhEhPmrST+/e9/43uoRF4vssPJmWzuifHxkkgDbK8YpBfMh/8TJkwwRLZXm1jFELKtE8nbb78tv00LRMFNmjSRrBxlVmKHHEss0qJFC6kQcA8ci1cw3/pntkmRtQ/PP/+8KBt5BxjvKlWqiLOh8nbt2gUEBFgPuXHjBjosE2bT9JxDmIWi4Ijs9K2NEslJE/SZCFqEjkZjQtesWVM0+SQtb+VRIaVMerm99sEHH4i+eZFPnTqVrDz8AGoWBbnVIIcLtCU6mEskZjekEkh+mJJh5MiR5lFvvvmmIbXBruLVV1+tUaOGuRlnVrBfHj9+vCiYm1AWDpEAR7E6i+U5dw7BIISnZqnUKesLSJ2s7OYPs8oEQEGynCP1gGki6Y+diUTHNJG5A6CTIqFaFMxq2S6QRcE0kV27wERl1ZbBRc7eQuSDBw82Q2cSxLIS6ZIQBSYMC5NV54UXXmDmW3XswDLSEGGiIbo/9FmzZpVZYaYp4kwlbfb/pZdeQoFKJLt582bmADqcAv2hfoLyp556SqpCjqtjaMzRlIsRuTmpPD09UTbtPGvWrPge2EI9kYCdjnnpiRxlPqtVq0Z4QQec16HDffv2lf5TSgLrEaCQto67FcdrE+wWNKrt1KmTuSyQICtmN2cXOqxa0jHo378/QseVSmayuRABtXFS1pkMkydPltJ169YZIpfjbl7k6QGC7oiICMa7ZcuWZhhIXILVGCS2BgwJErbA+fLlY4qg2bBhwwEDBjAJyMpRZiV2yLGMCgEpVywVImTSs5Ehxjf3v+7u7mFhYRRZ+3Dz5k1aRDmp36lkcadOLy8vwqbmzZuzXDLeV69eNQ9hE4cOjRIRS9P0nKiFpuXpnyPsfTgpa6PsXNi/0AQrhfnDZY5Gwxqsg0xTNDn8xRdfJJThvIjMWIyOHj16584d9FmqqB99juIEkRQvXhyFuLg4UcAyMtfDw8OpUw6Pb9IWxTN70KEn0n+zG1yEEjYlP0y2au4TG8vxbpltN36vX/f08roRHc1Rjfz9+7/ySmF5DyI6GrV8Hh516tQp7ulZtmTJkmXLotP+2We7d+nyXNeu8U96bTrRsbHIO7VqlS9nThYtDs2XNeuTFSrk9fDA8vX8/Zs/80wX1gzW3IR1Fi1YsHzFimadL/brZ9Z5884dzqVxnTrNMXvWrJgoS0xMdT+/lu3axZsoOvrmtWv0J95Efn7xp5M1KybKiRH8/Np16hRvIuqJibl05Yr0rVjBguhg9iL589epVau57bU96rwWEVGxSpV4ExUp4tguOsWeeKKIp2cu2+Aib9uyZSHb+5NVvb0Le3hgburv2anTgJdfRs6xLRo2rF6lCsfi0mpVrmzVeWPAgMLFizMxTB3qie/n/ddqOJzIiVUvJiYGpxX/AD86OiomhqGvWa3a09Wqlff1pSpJt2jfnqoiwsJIN2jWLH6IY2NZ0bPnzRs/h1u14ioq5e2NThEvL59ixWrUq8cY1q1Zs6SnZ8ESJZgb1NO+adPnunXr0qVLNibDzZvuOXNyMSJv07hxCdut2ivh4f5o1q8fPxVjYzNj5bg4+tCxbdv8dM+24NrpZIuJIc3QF/LwQE6fmY1dOnQY1K+fp0wt53Ry3btXvW5dliP6zzm2sq0bxQsVeiJrVrOt/5/GNpxZ0BgXrhRchSwLrB7vvPNOdHQ042tegOiwahF+YSV0uOgIVhxXKsaLmUwcLAuR1Mb2An8ZP5PvQ8RGWJk3b95Ro0YltfikNpmYQ0ZSUdKKq1cJndwaNnS7dctt1So3L69E0lu3snC7yU9Vyl07TadS2rK7ImyVtzCOHTvGquf2889uTz/tliOH2+bN7Efc8JeatqZr1CBWEtOlT9jrMI6hoaFNmzZ1/GEhl5G+Ih4lg3L7thurG0FAcLDbmjXxn47pTZvcDh5kU+d25oxbUJDbH39oOrXSthcLBXbK8+fPZ+fu7+8f/7Bt1iy3uDi3K1fcAgPdQkLcCDI0bU3jvPFA6Zhdu3bJX0j56KOPzKenrkcjHiV9sH+/24QJbu7ubuPGxS9/iaavX3f7+ON4ZfkVE02nUjrhq8y+vr5Hjhxp3bp1/JegIyLc3n033ve8/bZbyZKatk/7+xtWS68MHDhw2rRpRYoU2b17t3zPNG3A8ShKumDfvnsXLz4g/eef8f80ndppCzNnzvS2/UK2kWcsGBFNJ5VO3zRr1ozRTOZnq1yDRjyKoiiKS0nvXyBVFEVR/sdQx6MoiqK4FHU8iqIoiktRx6MoiqK4FHU8iqIoiktRx6MoiqK4FHU8iqIoiktRx6MoiqK4FHU8iqIoiktRx6MoiqK4FHU8iqIoiktRx6MoiqK4FHU8iqIoiktRx6MoiqK4FHU8iqIoiktRx6MoiqK4FHU8iqIoiktRx6MoiqK4FHU8iqIoiktRx6MoiqK4FHU8iqIoiktRx6MoiqK4FHU8iqIoiktRx6MoiqK4FHU8iqIoiktRx6MoiqK4FHU8iqIoiktRx6MoiqK4FHU8iqIoiktRx6MoiqK4FHU8iqIoikvJdO/ePSP5F+HYsWNXrlypVKlSnjx5DFHSnD9/fvfu3devX8+WLVvlypV9fX2NglQjMjJy//79tEvax8enatWq2bNnl6J0zm+//RYcHHznzp28efPWqlWrWLFiRoGiKEqKksaOZ8+ePefOnSNRqFChunXrkti+ffvFixdJeHt7413ilRKyevVqjipTpkz79u3z5ctnSBODmmfPnn3gwAEW05s3b5YoUWLixInJH/KYXLt2LTAwcOfOnZcvX6bF3Llzjxo1ys/PzyhOxxw8ePDbb789efIk8wHf2aJFiw8//NAoSzn+85//SALLNGvWTNKKomQ4WGjSkE8++YQ+5MyZMyAgQCQkkHh4eEydOlUkjrBKdujQYc6cOVFRUYbIAZwNlVerVg1lsps3b6ZaPJaUphJBQUGlSpVieSWN2yNomDx5shSlZ4ggO3bs2KNHD/pMduzYsQQ9UpSCrF+/vly5ck1sVKlShR2GUaAoSgYjjR0P4A/q1KnD2ifZ8PBwJN27dzcliXL06FFWsW3bthl5B0JCQghu/vWvf0kWfXd39127dkk2Nbh161a9evV69+4t2evXr/v6+v4lHM/y5ctz5cq1b98+yRImYjpJpxShoaEMK3sFyfbp04cAFBNJVlGUDEUav1zAYs1nz5498+fPb5W0bdvWlCSKj49P586dWdbj4uIMUULYX8fGxnbp0iUmJiYyMpLFtFKlShUqVDCKU4E///zz119/7d+/P126cePGqlWrIiIi8KlGcTqGQK127dr+/v63b9/GQwQGBj733HNGWQoxffp0fBv+RrKDBg06e/YsQY9kFUXJUKSx42Gl5tO6Ou/evZvQpFGjRkY+aVq0aDF//vxLly4Z+YRs3bq1WbNmuXPn3r9//7Rp05YsWfL9998XKFDAKE6Wi8mCJzP0ErJnz55s2bI1adLk+PHjCxcufP/992m3Vq1aRnFCcE5GdRZwVEZxSmBUmhCjzAI92bhxY4cOHaKioogghw0blilTpq+++soodgKj6oQYZffZsmULljEybm6YhVHeu3evkVcUJUNhRD5pxJgxY+hDtIX33nvP29vbKE4WWaZXrlxp5C3cvXu3XLly48aNw/3gDLp16xYWFmaUOUGOZKFOQy8hr732WuvWrUlkz56dUzh69KjIE+XEiRNGdRZ8fX2N4pTAqDQhRpkF3CRm5KS+/PJLbDV69GhckVHmHEbVCTHK7lO+fPk33njDyNhAMnbsWCOjKEpGIo0jnk2bNvGZ3wLLX9OmTaU0eTw8PPj87bffJGvl8uXLISEhBFL16tVjSSW9fPlyo8wJriYLdRp6CWH/LoHagQMHOAV5byIpypQpY1RngeDMKE4JjEoTYpRZ+OOPP/jkpIYMGbJ48eLZs2dLGOo8RtUJMcoURVEcSGPHs3bt2oCAgHMW2G4//fTTRrET4DyNlAUWU+R169bNlCmTv79/r1693nnnHaPMCdj4JwN1GnoJ2bdvn9wzrFChQt++fX/44YcdO3ZIkSNUYlRnIWvWrEZxSmBUmhCjzAKe+5lnnqE/7u7urVq1qlq1Kr7fKHMOo+qEGGWKoigOpKXj2bBhw507d9q0aeN1n8OHDyNP6rmI8+zcudPPz0/W8SxZsuTIkePGjRtSFBkZOWPGjLfeekuyiVIuWXbv3m3oWUAYGxsrXzxiBafF27dvy9Og8ePHN2nSRI4lbVN3O336tEisWJ+CPD5GpQkxyixs2bKlRo0aksZhYK6oqCjJvvzyyxzCp5lOtAaR22GU3ad06dKcspGxQVa/o6ooGZO0/ALp6NGjP/jgA1xC7ty5Tcn06dOPHz/u5JaZffrYsWPfe+89I3+frl27sqhNnDhRskOHDv3Xv/519epVIqHvv//+8uXLx44d+/HHH6XUkQMHDhipxCCgMTtsMmXKlKlTp3IgCzfZpUuXdu7cee/evdWrVy9cuPCgQYM6dOgwcOBATm316tUI8bhHjhyRY02yZ8/+5JNPGpnHJtGzqFatmpG6T758+b755pvnn39eskQ8FStWXLx4MWmCNiy5cePGRo0azZ0798MPPyQYMjVNnGno73//O7UFBwdLlugQb3fo0KEqVaqIRFGUDET8g5604MqVK3Xr1mWdNfL3Jf7+/kbeRmBgICFRw4YNZ86caYjugz79X7RokZG3UKpUqT59+sg3gZYtW1a0aNHhw4eTxsnhclgBW7ZsaVNMMfr37896fc72BUwW4qeeeqpp06Y0R3bTpk3nz58nIWHWQ32J9ZdffuHc+STNok9amuhuw6aSIG3VcQasQZcmTZpEGnNxOLHaihUrpDQoKKh48eLR0dGo9e3bl27IGT0CO3bsoGZGU7KtW7euXbs2NUtWUZQMRZrdahszZszBgwcvXLjAVtoqCQkJWbJkiUjkHWhWVWIF4gmKRC7I9tm8TWSCGtWyYrLQt2vXjliE4OONN96giEiFeKVQoUKimYLgXerVqzdy5EhaHDZsmI+PD3t8CYzwBHi+69evy9sHD/VdokuXLm3evFleGSdaIi3fc9ptw6aSIG3VcQa8oLe3Nxbr0aMHocxPP/306aefmu+yU8pJHT58ePbs2b169eJEHEM9JyGyoebPPvsM+wDWwNvhioxiRVEyEml2q23Dhg24BxKVK1euWrWqVULQIw9LGjRo0K1bt379+mXNmpX1keBGfs9NGDVq1MaNG1euXGn3K5ysnhyyfv16VmF26Hny5LH76uiWLVs4dvXq1Ub+sbl48WLJkiV//PHHuLi4y5cvZ8uWjd4SAFk7Nn369GnTpv3jH/8g2DJETnDq1Klt27bVr1+/dOnSeBcij/bt23NGBCWUkubTmrbqkH0gI0aMOHHiBJ6Shu7cuePh4YEjL1iwoJRi/7CwMFy4+NTH/LVT3Ccxk6TxxCn7QEtRlL8SEvikQ1hAWelwRaRZs/Llyye/uiZQWqtWraCgICNvYfz48U2bNjUyiUFMkLK32rZu3ZorV66rV68aeQcCAwNbt25NbJfebi7Rq88//9zIJERs/uGHHw4YMKBOnTpkjQJFUZTHI41fp06GyMjI27dvE+tERUVNnToVN0NUIUUhISFff/118+bNn3nmGZFY2b59OzGTkUmMkydPhoeHm+9uPT779+8nomKZNvIJoXTy5MkdO3bs2rUraQI7oyCtwQL79u1L6k9F7NmzJyYmZvDgwUOHDr1165b8JKtRpiiK8hikX8eDm2nQoAH7cSKY4ODggIAA+cGbvXv3/vzzzx4eHm+99VaiP4Hz66+/JvOu1GeffTZv3jxc16hRo7Zt22ZIH4/du3c7PmoymTBhAv7m1KlTnMiYMWPkT/WkB86cORMaGprUe3Q4ez7Pnj2LQpkyZWbMmLF+/XopUhRFeRzcR44caSTTGXny5ClcuPCJEycyZcrUvn17ght5xxqfERcX16NHj6TeEWA97dChg/mgwo5ly5ZRVK1atdjY2PLly5ctW9YoeAwuXLhQr149Hx8fI5+QXbt2SXPR0dFPPPFEly5d+DTK0pRr165lzpy5U6dOib68vnPnTqLMihUrsgO4cuWKp6dnuXLlkjpHRVEU5/nr/QVSRVEU5S9N+r3VpiiKovxPoo5HURRFcSl/sVtt169fDw0NLVKkSN68eQ3RwxMREXHM9o39qlWr5sqVS4QZkNjY2DNnzoSFhZEuUKBAqVKlMrI1FEVxGWnseM6ePXvt2jUSefLkYeEjcfr06Ru2H/T08vJyfH1g7969c+bMadSoUYsWLZJ6fdkOaqPOMmXKmKvqTz/91KdPn8jIyODg4IoVK4owoxEXF3fw4MFZs2atW7eOLPZ59913mzVrJqUpCPZnr3Dnzp1s2bIxoE6OmqIo/8vEf5kn7ZBfssmSJcsLL7wgEhJIcuTIMXr0aJHYcerUqVatWs2YMcOZL2OyvAYGBlLhxo0bDZGNESNGFC1a1MhkSDCjv7//3/72t8s22rdv//zzzxtlToPzvnnzppFJjFu3bn333XfVq1cvUaIE8eWUKVP099kURUn7Xy7AK1SqVCkiIkKy4eHhSNq2bWtKHKHI19f3hx9+MPJJc/78efn1HfOHL4X33nuvZ8+eRiZD8tlnnxUuXFiMfPfu3WHDhmFzKXISjhowYMCSJUuMfGKsXbvW3d1ddCZMmJA5c+alS5dKkaIoGZZ08XLByy+/LH9O1IQNuJ3ECkUfffSR419DcGTu3Lny52Ts/lDpunXrHP9AAIhRrGmwZiVtReRg5BOrRNJWRA5G/j6G1IYhsuAot2atpdZ0osyZM6d///5iZNzPN998Y/42qJMQJ+H7u3TpYuQTY+bMmYQ7ohMQEFC2bNnp06dLkaIoGZY0djzyV5blD3cK8kPLif4WjhUUQkJC1qxZY+QT4+TJk+yyX3rpJSN/H1ZM86+FWkFOHJA/f/6vvvqK9NChQ0k3adKENA35+/uTNX85W0COAvLSpUtLkWiSTeoo5NSPAnJKDx06ZBTYfo1b9IFqrUVAtnPnzhSZZ01VZvaB7VrBMlivefPmpFGmWnwDjkFKnQTnnbzXATxTp06djIybW9OmTYmBjIyiKBmVNHY88seh69WrJ1nYvn07q6fjn7C0o2DBgn5+fuK3kmL48OEjR450fEPhjz/+iIuLszYqzJgxo0WLFkRI69ev/8c//kFiypQpNIE8ODiYBZpezZ8/39B2c1u+fHnPnj07dux45MiRmjVrjh49+tSpU6tXr164cOG5c+fQJO14FIcEBQUtWrSIo8qXL2+u3cRkr732Gn1G/vPPP1+4cKFw4cJSJEycOHHcuHHUZv45tb17916/fr1MmTLOtGuFA+/evVu/fv1evXq98cYbAwcOpObk//jezp07SyTk9ddfX7BggZEpUcLQs8AZxcbGyl/GE4h4kBgZRVEyKmnseDZv3swn23Pf+0yePLlx48bW1SpRMmfOjO8hcDHyDmzatOngwYOs8mg2aNCAFdkosP2GTZUqVRzX2QEDBtCTK1euEHW1atWqUqVKuMCYmBg8AWETboAW3d3dRfnMmTNvvvnm4MGD+/btW7x4cfmzC8WKFXvvvffwaizrx44dI213FL5h48aNn3/+OY6Kozj2xIkTv//+O0U0RLCCJvJatWqtWrXK09NTjhJwoizcoaGh5p+xwUmXLFkS4QPbtePw4cPYBAvg5/CvkyZNMgqSBov918Lbb7/NYGFJI//f/xp6FuQv9VlJqj+KomQo0tjxrF27loVvtoXw8HDWRKM4WVjFkvqLZ1evXv3kk09YVeXl3dy5c588eVKKAG+HbzMyFlipWdMPHDggfx8za9as0dHRyPv37y8+gCgEuU03/ibStWvXCBeioqLmzZu3cuVKIgAOKVKkyPHjx1Ho1q0baRLWo7777jvOTionGxkZibfInz8/aW9v70GDBn3wwQcBAQEXL14kGLJbpnFIeKmIiAjzjxLhdxs2bEhVD2zXDs5RLIBzJczCVy1dulSKkiJXrlwom6xYsYLeGhkbhp4FvKCRUhRFsZCWjmfnzp14iI4dO9a5T6ZMmZCz3xcFVvZFixYRH0jWeXADv/76K8FTCxtEMLdv3zbKbA8niGyMTEJYrFmF27VrJ1/6IWby8fGR5Zsi1n06aVN027ZtG26vd+/e7P2Jroh+OnfuLEXy85rye9V2R23duhW3Yf5FteDgYIIVLy8v0rQ4dOjQYcOGcTh1yteb7NizZ0+hQoXk96SpmeDJ6qSTadcODpQ/vkdkSYWxsbHyR07hxx9/HDFihKStECSJMQXa+vLLL42MDUPPguNvhIeFhTn5F+oURfkfJi0dz5YtW/i0Lp1I2K3LTyATo8ydO5cFbvv27VLqJKxuX3zxBaHD3/72N7bzYP4hHzhy5AhBQ1J/CwBPQ5RjuiUWaEKKnDlzkqYbmTNnNt+FwzH06NGDyomHBgwYQFr8B2zYsOGpp55K6qjKlStL+vr160uWLOnQoQPxCr1atmxZmTJlqGfw4ME//fRTSMK/8y3gt8qWLSs1L1y4kBPx8/OTIkimXStigerVq0sWc928edP8dq2vr2+bNm0kbYVxEWMCXspqXsHQs1CgQAHiNutzuEOHDpm7CkVRMixp5nhu3LixatUqllpzvRYJG3D5w/758uVjkWJjHhMTIwp2oM/hRsbCtGnTqARn0OU+VMj2X0pZc/ksVaoUXs3c5puwXlNn0aJFzWzNmjUlferUqRIlSri7u1M/WVZq0i1tsNZ/9913okadLK/mPS67o+gYpfQctTFjxty9e7dPnz7IcXgzZ85EmD9/fhwGnsDuPptAbZKg85cvXyZhnggk064V2uJT7lJy1Lhx4/AQ8qoFQcynn35KJ+P1EsIwiTHlrWureQVRs+OFF17YvHmzvELC5969e3v27ClFiqJkWNLM8cyaNWvXrl1RUVErV660SkJDQ+WNWw8Pj7p16yb1ehtL87Fjx9jgG/n7zLGBJzBfTyCL5unTpwkXyLKy4zOmT5+OP3N8v4AOEIHJrTB5oGLGRp6enpGRkXRSjurcufOFCxfeeeedIUOGBAUF4S1E7fjx44QyZsfsjgoICGD95aiPP/746NGjH330kURXOXLkQO3dd9+lNkIfAghrlGZCmMK54Bto4tlnn5UTIU3lybdrhXOsUaPGihUraIsWg4ODiV0kDsPjYq7k74YtX74c92b3xl1SvPjii08//fTYsWNpa/LkyV27dm3btq1RpihKRiXN/hDcyZMnK1WqVKdOnQoVKkjgYkrkj4+JGg5j06ZNvXv3lqzJvn375s2bN2rUKLvvmYaEhHAsK6Ovr6/cdEJStmxZ9ulIWFhZiNngc1SbNm0ct/bEAc2aNZP+EJeg1qpVK1mICZuACIMQBwmt8EnIgtDPzw83IO8I3L59m2pZXrPaXh+wO8rHxwcfg5dCB0n79u2lk+jQt0yZMpHAFREoFCtWDLkdHEUgSK84Fo9IhZJGOfl25XDhs88+a926dZUqVXDeHE66U6dO8qOrHLtmzZpEn/GYhIWFNW7c2AwKkwf/hzE5L8zu7e390ksvlS5d2ihTFCWjkt5/nXrLli14l9WrVxt5G9HR0YMGDSKmmTFjhiFSnAPT4TIXLFgg3x61Y+HChYSbM2fONPKKoiipQFq+XOAMoaGhV69etb42fe3atcWLF4eHhw8ePNgQKU5DWBkREZHo28+wbds24i15LVtRFCWVSNeOZ/78+UFBQSEhIXPnzpUfW7t06RJb8q1btw4fPtzxbV3lgezbt8/DwyPRHxoAzPvnn3/KrxYpiqKkEuna8SxYsEAemK9YseLIkSNIWBmPHTs2ZMgQxx+8UZwhe/bsjj9eZ9KqVavz588n+nhJURQlpfiL/QVSRVEU5a9Oen/GoyiKovyPoY5HURRFcSnqeBRFURSXoo5HURRFcSnqeBRFURSXoo5HURRFcSnqeBRFURSXoo5HURRFcSnqeBRFURSXoo5HURRFcSnqeBRFURSXoo5HURRFcSnqeBRFURSXoo5HURRFcSnqeBRFURSXoo5HURRFcSnqeBRFURSXoo5HURRFcSnqeBRFURSXoo5HURRFcSFubv8HzjGiKTNPlp0AAAAASUVORK5CYII=)\n",
    "\n",
    "LLR p-value:                 8.718e-14"
   ]
  },
  {
   "cell_type": "markdown",
   "metadata": {
    "id": "CxlOsr2NMcqa"
   },
   "source": [
    "![wald.png](data:image/png;base64,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)\n",
    "\n"
   ]
  },
  {
   "cell_type": "markdown",
   "metadata": {
    "id": "MHkzikO1wYxm"
   },
   "source": [
    "El modelo logístico creado para predecir la probabilidad de que un cliente obtenga el crédito a partir del puntaje scoring es en conjunto significativo (Likelihood ratio p-value = 8.718e-14). El p-value del predictor scoring es significativo (p-value = 0.000).\n",
    "\n",
    "![ec reg.png](data:image/png;base64,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)"
   ]
  },
  {
   "cell_type": "markdown",
   "metadata": {
    "id": "6z4csMDy7MBM"
   },
   "source": [
    "Si es scoring del cliente es 55, por ejemplo, la probabilidad de obtener el crédito es:\n",
    "\n",
    "   ![prob1.png](data:image/png;base64,iVBORw0KGgoAAAANSUhEUgAAAa0AAAB3CAIAAAA/5oidAAAAAXNSR0IArs4c6QAAAARnQU1BAACxjwv8YQUAAAAJcEhZcwAADsMAAA7DAcdvqGQAABgDSURBVHhe7Z0NcBVVlsdl3VVRQQIZVyGFmoRSZmBgJQRXAqWZlQCOFg4i0ap1maVWiqTG2vIDJMFVhzAilrCFmqADu4wjEBAHygFMwm6YlY9lIHHBTyySN0hJdFy+AirqlMv+0udyp+n3+uUlef140OdXqc69p2/fe7vfu/8+5/bH63bq1KkLFEVRQsxfmP+KoihhRXVQUZSwozqoKErYUR1UFCXsqA4qihJ2VAcVRQk7qoOKooQd1UFFUcKO6qCiKGFHdVBRlLCjOqgoSthRHVSSQyQSKS8v37hxo8krZ4PDhw8XFxfrp9BRVAeVJLBnz57JkydPnTp1/PjxxuTP/Pnzc3Nzu3XrxjJ6xGJ3QxmxU3L48OFYevfuTQ1i3Lp1K8MeC3bWkhU7/cHuVNCtpKQEdRC7BbstbGGrsWPHsipmx4Tq6mrbJYHOOO0YOBmYFQ7USQeo1lZIAbsjrBJjfKRmi90dkz8N9j59+tDD9evXs5QySkKcUpQuU1RUtGXLFpOJyzPPPJORkbF7927SK1eu5BvY3Nwsq4S8vDyTOnVq+vTpixcvJkHllKQ8abalBklTG2UOOdCHnJwcjKQpgF3SVChpN9QW3WE2LysrI0G10R2jPE1Qm2fUUBhM5kzoJOU9DdE3sWzYsMHuVHw8LVr87Ow1++LpvxIH1UGlqzCqRYASASkBk3FUzyMidvSSQDIY0qQp4x7zqJW7EgGjaCj9obBVH5EbSVvcBQTZSpoD0iLBFvSXtVLMmBwcGYyhg1IyjhhRGwXonsn742nR4mcHjgaYjNIeGhcrXWX79u0ExSbTHtnZ2U1NTZFIhDSR6dGjR8VuoYAk1qxZ89hjjxHoke7fvz9LiWTZtrGxsa3EaYgHCQMxLlmyhGzfvn1Z0itZtW3btrZC7SHlpTlAUltbWyUtDBkyxK5NhBdeeAE/9MSJEwTOdM8TmxMvl5aWIqCJzCR0gnHjxq1atcpklPZQHVS6Sn19/RVXXGEyDma+6kzGjh3Lqjlz5uTm5uI/9u7de8WKFbhLsokHVGPevHlTp06VbHFxMd7NqFGjqIcESip2QBwzMzPvvfdeBLRHjx5YSBBssrk0akWTkk5H2iArtYGdbXTTIcl7+eWXpSqaQ+DEWFdXh/y99NJLpGfPni27L5AeOnRoQ0OD6HsicNCo3z03KvjZwe/YKjEwfqGidBZC1JiBYbvECQypMHpSz4Kz5gn6GPMYY4bnlJR42Q3teuJiWnQPB7+dio6LQYJfTx8oZuf+iKmjWyTudpeJg9QPnk387BCzn4of6g8qZ42lS5dmZGSMGDHC5E8jzuAjjzxi8meCW4cnRdxHGudL4k18wKeeegpdcIr8GdZWVVVNmjTJ5P0ZNGgQSxu91tbWJu6sSSzPkobcfbCRdVZWliSo3zqM06ZNQzcPHDgg2ThI/cAmLO0mfnalo6gOKokSiURKSkrsTSoyxweFhYX79++XdIIgB8RxM2fOfPXVVyUCpU4rEOgjgbAd5G6INO+8805cvIKCArLU8Pjjj5OgwldeeQVfzCllQDGJQDHOmDHDmPxBjhHlBQsWkCaYJX3bbbeRpgaJbYU333yTpe0qUEBiUvpQX1+PIyl2/NklS5aIsIriDxw48MMPP7z11ltlcxF0j9pSFYfCZBwoRvArR1tuvrn55pvj2C2eo6HEw/iFihIXoldGMgJEMCtRng0bCcFiBqR+yOaTJ08mIRbqpHKWkiVtV7nBjgPljqNJ20s07gqBLL3yC9gp74lSgc1FO1jaqmhRSkrg7EYKYLeKg/bZvSBBVuxUIhVi5BjaVqK7J62YjAMOptVWNrG772cXaCXOxILiQXVQaR/RKYaWzTL23LeVWLHoHFTVlc2Dg165d/NcQT4vO3uotIv+bqfSPuXl5VVVVfv27Wttbd27d+8TTzyBsaamxl5UJdCbOHFiXV1dzGBWSTElJSWjR48uLi42eaU9VAeV9snNzZXpf7yM/Pz8u+666+677/bcWRKJRJYuXTpy5MiAbohTEuHw4cOlpaX333+/fgodQnVQaZ9uzl17c+fONXlFOb/Q68VKhyEK9rxNQFHOaVQHlfYpKipatWqV3KJRXV09ceLEe+65R1YpynmA6qDSPsuXL891HoYjQH7rrbfq6uqGDBli1inKuY/ODyqKEnZS7Q8SW5WUlOBWyJPhcrf92WKr8+C9hHtjnRdwwvDhw2UtiAWiH2JPCnI0PHNtWEB6pShKCkidDsqYz8vLkzs833jjjf379w8YMCA4NayurjYydhosZp1DRUVFUVGR3PJWWVlJx0jU1NQ4K9vY4Ly6bvr06Yk8mNUh2GXkj0izqqrK87IWejJ69OgxY8Z4eqsoSlAQF6eALc67fKNfrXHo0KHFixcjjkHc+05z7KB9UEGeWLJPMskNce4uyVNQdMnkHQt9M5mkwtGgY/JgRvTDVcBaVsV8vExRlORyPj9X59FBQH1wwSQta936K96ffU6TDfEQ3bIYBH46CKiw7a2iKMGRiriYAJCYVObd9pz+KRyWqZ8cJAQWNxCWLVuGyrifA5MXQMnri+nblClTCN479D7O5DJt2jR66/eDQYqiJIvAdbCkpGTw4ME4WQ0NDdXV1atXr16+fDm+WG1t7Zo1a0yhVFFXV4f2SbqpqWnMmDGSFpA8uVGOdGlp6QMPPCAvdzpbDBkyBId0/fr1Jq8oSjAEroOVlZX2ee9169bNnTsXuRGL5/cf/LBXcv2ggCkaFxQZ96qiokKypK+99lpJWwoLC7HPnz//2LFj7V4bkVfFxccU7Sz5+fm7du0ymTORi93xoYwprShKHEx8HDBlZWW0hcSYfNx5sWQhM4BubAdIkI3uwG7n1XgpmBa0xOyGBf+UAiaTDKhNUeJgvighI0X3zTQ2Nk6ePNlOxomfYu8XKS8vzz3zt7GTiPs6SYJvhXr66afP4rRgoJgDoSg+mC9KyEiRDtbW1t54440mc/rl5vLecyBYdv8CmYdkxcVu/ARxx44dLG+66SbJxicFcXEcNC5WlGSRCh2U0Wh/POGw89M51j1sd8TW1NSYU5UP7jufEycnJyf6VzU2b97MMsGHZ2fMmGF64I8p2gXy8vJM6kwKCgpMG/6c3es87VJdXV1SUmIyylmCaCygx6XOIVKhg++//z7LFStWsIxEIrhvaNCLL77orDTPbKR+xBKJ19XVmYzDnj17Vq1aRd9SdkOP/F7Pa6+9Jtlodu7c6X7O73wCBTxw4EBlZaXJ+7Nx40YOAifLmL/SGx0uyCOJHNvi4mKx0JZ8pvJQEx89Rpb2B5hYi11+gooK5XNxgzG6admKTWJ2TJAW3Ws9jrzn86VOhMndHGcLu4/skexdfDzHxN56FdNONNa/f386KWVCivEcggTXD6eGJc1lZGRMd/2WDaxcuTKgZzai76N284zzeIm9ciKPdghFRUViDI4y50d1TXvOYaFRz9MjctHG3td9PsGHkuBBpiQHgY+SNAeEAyVpC/XYrxOr+JqRwCLfNElzqCVNbaTlQ3dfu6MS7FJPzNvXKRB9OYuS0rq7kxbsNEEBeuLeNs6+s4M0Hb2D8hspdNXuVHzYhFZMxoWfHThunnZDRSp0kI82ziVRPle+LiaTQuSScTp/9jEH5PkBAzLBIy+nK5NxxMsjIvZMBhwuGeciTHbMS8whaYsYRftI2K8oFve2Ao1Gf4cpZs9SFBAJdiOVeLbF6NkFgXajVd4DYp3IYKF+T/8FPzuwI1RuMuEj8LgYN55vqvxIdkwITgcPHmwyKSQ7O5uvxbJly0w+zSB6qqqqStvudZHa2lp7lSw+8vO+Mn3Md6mxsdEx/xn3TQiEujLB0rdvX5bbt29nSaQpzwi5ISRctGgRg19uDEBA3377bYmdN23a5BRpB+lSz549JTts2LBjx45J2tKh2Z41a9YQX+fn5xOtgyf+JUukTD8feughY0oq48ePb2hoSCToPi8JXAd37tzJ0n5dokEls7KyysvL5VuYSmbPns2ATMPPnlE6ZcoUXIM0v9DROURB3HcmeeatLKwqLi7GAxo1ahRZEnHuK6ioqHjwwQcljThy9ObNm8dWVO5RT4y33347Cfu1fP3111GBzMxMlHTdunVihLZOOPA9mTlzpqSp0Kx24XlpUHwYFDIXSXN28m7z5s1HjhwpKSlpbW1du3Yt3pn9ZooCsjvumy7iw/dHekuF7pHlZxdaWlpMKmwYvzAw+O7SCiGDO35xw+fdbjgQKgiHwe9wnQcQmnX6i+cXGFJnnDkENvEEfQShHGS6EX2c3fGyxRPbguyFDTNZGzPahehtpVFPHyhG1lnfhmdWEWgrwflBapb+ezbxswvu3QkbgfuDc+fOpZnq6mq/W/Z27drFadA+e6dUOvgdriSCO4CjEdO7SU9wJPHaxo0bZ/IucAbtE5Me2M2qqqpJkyaRxsMSJwtvdM6cOSSiPSDiZSSp3RvpBw4cyPL48eOSra+vT/wjk5I0cd9995GwfWAgSAKQdUmI+wwEByiXdRLjQM3SfzYh0Lab+NmVVFwnUdKQxYsX4xHwBfDzYgKFdjvq8BIx0GHrDNJtuYoKeDF+ziCr8AStM4iHRVp8ItKebpAmcKGV6L5F+3SAEahNruyLM0Ux9wUTqqJCt0UKSB/YHdZKWnZQ7hmgKlshCYmWqIrd9Dhx7pIWa5HWbc/97AJro3c8JKgOhhGGn4gIosBIFmMiMHI6VN4PKunQTAiDlq7ai7NA1g5+ZMVqohvsCId7tKMy6Ai1MeY9FcqJgbWiSh7osEc1gJLYqYoN7e5wbN2640bscmVWLGwuwidQQPpGt22FdEzKx+xeTB1kx6Uelu5u+9mBXvmdS8KA6mCoYRyCySQAg6dD5f1g1HWlHoZ9TOE76yBS6GBMJU1z+Dg6dGY6z0jF8yRKOJH5R/vwhr0wCuPHj8/Ozi7v7I/BFxQUTJs2zWTSiT59+sib5Uz+HEGm78M8R686qARCJBIZMWJEfX19XV0d/hGWRYsWySqhsrJy8ODBYX+cKw3gbJTgA47nMaqDSiAgcBkZGTU1NTga+Eeke/XqZdadBgck5MMvHcCBTfrPMZ5zqA4q8fDc4Txz5sza2lqTcYh52w0hMMUWLlxIaLx161b0rrm5edasWWa1oqQZqoNKPDwvPYu+ThLzpWfymyqjRo3KzMysqKjIyclpaGhI8G1mipJ6VAeV5BOJRPJO37KHUBJ5JX6PsaKkHtVBJXCIjvV5ISWdUR0ML8hTU1NTbW0tCWNKEoWFhQTC8kAYy7Fjx06YMEFWKUoaojoYRuQVx5mZmc3OSxhJkMUoa7vOjBkzyk6/JKaiomLhwoXqDyrpTLdTUU//KIqihAr1BxVFCTuqg4qihB3VQUVRwo7qoKIoYUd1UFGUsKM6qChK2FEdVBQl7KgOKooSdlQHFUUJO6qDiqKEHdVBRVHCjuqgoihhR3VQUZSwozqoKErYUR1UFCXsqA4qihJ2VAcVRQk7qoOKooQd1UFFUcKO6qCiKGFHdVBRlLCjOqgoSthRHVQUJeyoDiqKEnZUBxVFCTuqg4qihJ1up06dMslg+OR/T2555/A7za3v/eHE199+l9HjrwZd13NA1uX3/ijLlDhL3PPkzuE3ZDxaPOCOWTvoGJa863s9/cAPZO39v2j89PDXJO4cefXPfpItxiSydMPHtbv+uKB0cNb3uovl+d9Emg9+8aNhV95x81ViURQlNQSlg7/bfejdyPH3/nD86Ilv+/a5JKff5YOze94yNPO32z/b/9lXDPjmlq9y+l6KfdQP+wzNvcJsljxue3ibSTlk973spYeHmowjQ9X1nzw7fRBNo9TTF+xBCv/9sRutKtHPRa83FxdmTb39GrEkC2r+dd2Boyf+RHrTcyPFKLDqtd8dzO132b/8ww3G1GWerd63a+9Rae4H1/aYMu6amEebg/BvGz92Pq8YJTlcO/cejbR8SZozmZw/ZBWw7YtrIw0fHSP94MQct46zR+v/+zPZ8Oo+l4wb8ddn/fynKNEkXwdX/ucnv//gSO+eF/XL7D7s+l5xNG53U2vjR8eaDn5x8pvvku4HoYPWv6OhR6veYwCvfjJf1k57bjdLq4z0GRVwu36zXn6fXv3rz34o2WSBoBw8dPIfx19Dc7jJHh0EEeUxw69MihP681/tpRWTcbjkogurHhpi5d6CdywKaLEl5ZxhrKehhyKFuLF1uz4XhxrcOihHVdIW9l2lUEk3kj8/yLcc+cCjwZOK7+ixljJIFeUDDQZpCM+OcY57IhY8FNwuSQN9xmFkPCNDZHFmieIfcbk8yYL95cggLt0vvtCYzoRVEwqufmPbp2i3MXUWahARRLMQXBSKNIK1dsunznovHCKK4SNzwiBLyf/Z19aHr775Dvew/O+vt5VA08E2Fw9wIQdd14NtJetm7ZYWlmyLo80f/iDZN3//R2eloqQRwV4nwZW4Y9YO/hiTSAxOFm4argdCY0qkiiszLmb5+dFvWNIrljf079G24jQ//turGPm4MKRZoh3RTlNqQCvxxZBCk+8s1hMUx40zjShR88EvHPMZ4CnLDADnDMJeMQp4ppyobhmaSTr6dIVPzZlMDq8HcTBHfL83R5I/qVZmXRUlrQhQB5EbYl5iK/RlU8PnL66NTC7Mwt1geKxzPIVUsvfACZYyXI+c+JalZ0iTJY7GJSTQIxvEtZHEyel7KX6WyXSWo85u4udKFvpltungyW//T7J+HHScYuhx6V9KwiIHB/LP1Mo4XN7dVHLtVZdKwnrlipImpOJ68U/nvU2oZa+Neubm4vBs9T6EyWR8iJ5iE9zzgwy8Ra8320sluKXNLV/auUILTuvjSz9EtYkBxf2JidRmMj54LhdEI7vm13lZ675u48ZzCSgambzjOBP+uy8QSbWeS0YecNXn/vojEtEbShrs5KDFHhP3jks/iYtxJ/ka4GVLJe0eHEVJMYHroEyWuy+8Jq6DXcEjFu6hSwfwlaJ1EFLTN0hEB7uoF53QQdSq7JcfELoSmM+ZOtBO73p0kLUTCq62HyjE1EHON3IR2UP804yipJ7A76NmaDFs3GOGwdn9ItMuKolgdf2aQEzwBxEa+fP4L2Ggt3O5w83Jb8xV3Zi4RfDhybnua1wcPTmMyNzVfS7BZa6u/6TdSd7Su7L5CKiNNAEBjqHYVQSVdCNwf9DjYUW7h3HwuCExYXCa1Jm442IPfnExJOIPpiwu9qskwbjYHj3bitwcHvOweEQwjlTZat3di+kPepD7b5DRV8qGGZOipAeB6yCDNjomlblCCdyiJ5uSQhwdjKNBiehgUkhEB/3mBxPEapPcFylnILJyEpJ5QFTvt0/fhFFi2Jgi+M/Pv9Pve91vy7sSDxHPfcHqJrnm6w5vY+ogLaJ6Uob0iv/4BEcywVOgoqSSYONiCZ3ejRzH3eCPwdZy6OuSCdkyvB+//3qWnvtXUkDvHhexZOhK1g0ajTTTVZMPDLkmizpI1gNrCSS7IoKAHmU7F4vf2PYpZwURQYRJZGjX3qMsESaWfEwykUcWcaSw/MlZofvFFyLKj1a9h4WliCDnGBE4ymC3DjIJsnJZWaRWqqJ1Kic0VhFU0pBgdRAFZJnb77LpC/b8dN7bJ7/5zu1uHGptu7HjbwbEu9c6CIZd34ul3Enjxj5TQW/FknSQBoTjjlk73t/f1jrqQKz681/tlbWW5pavBl3X02S6AGcaO0PHkvQv/un7skrmCkUoe13unUl0U3pXNj673FwNbIJPF9PR9sAHLXcsAgnc0qQ/n6MoSSHYuBgH8MiJP/mFmUs3fPxfew6dldmilMW/nUDm0eTZZ2NKNji8ovXui8KKElqC9QebW76Ue3dj0nTwizhrAyX/hgzi34CuU3cFFGrd1k/xvwKVp9qdbU8E3/d3WSqCigIB6iAqQ5jp9yAt4Cr27nkR7k/MqbpAmXr7NQR6mxrauRidYoiay375wfAbegV9lw+7v+m5kfq+A0URAtTBDz9umwJ7N3LcT+ZwBut2fX7w0Em/Oy0CZfWT+UHLTYd4/jeRdVtaJt3SL4kv3VIUJRECv29GURQlzQl2flBRFCX9UR1UFCXsqA4qihJ2VAcVRQk7qoOKooQd1UFFUcKO6qCiKGFHdVBRlLCjOqgoSthRHVQUJeyoDiqKEnZUBxVFCTuqg4qihB3VQUVRws0FF/w/oyo7i77xhcwAAAAASUVORK5CYII=)\n"
   ]
  },
  {
   "cell_type": "markdown",
   "metadata": {
    "id": "fGuYZyXXfQPB"
   },
   "source": [
    "El OR será:\n",
    "\n",
    "![or.png](data:image/png;base64,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)\n",
    "\n",
    "El coeficiente estimado indica que el scoring está positivamente relacionado con las chances de obtener el crédito.\n",
    "\n",
    "Por cada unidad en que se incrementa el scoring, las chances de obtener el crédito aumentan en 1,17.\n",
    "\n",
    "Las chances estimadas de que un cliente obtenga el crédito se incrementan en (OR-1)*100 = 17% por cada incremento unitario en el scoring."
   ]
  },
  {
   "cell_type": "markdown",
   "metadata": {
    "id": "F1bT66_GPAjb"
   },
   "source": [
    "**Intervalos de confianza de los coeficientes**"
   ]
  },
  {
   "cell_type": "code",
   "execution_count": null,
   "metadata": {
    "colab": {
     "base_uri": "https://localhost:8080/",
     "height": 111
    },
    "id": "0-5s9ZPbPDax",
    "outputId": "3b015ca5-73dc-4250-c253-271923752074"
   },
   "outputs": [
    {
     "data": {
      "text/html": [
       "<div>\n",
       "<style scoped>\n",
       "    .dataframe tbody tr th:only-of-type {\n",
       "        vertical-align: middle;\n",
       "    }\n",
       "\n",
       "    .dataframe tbody tr th {\n",
       "        vertical-align: top;\n",
       "    }\n",
       "\n",
       "    .dataframe thead th {\n",
       "        text-align: right;\n",
       "    }\n",
       "</style>\n",
       "<table border=\"1\" class=\"dataframe\">\n",
       "  <thead>\n",
       "    <tr style=\"text-align: right;\">\n",
       "      <th></th>\n",
       "      <th>2.5%</th>\n",
       "      <th>97.5%</th>\n",
       "    </tr>\n",
       "  </thead>\n",
       "  <tbody>\n",
       "    <tr>\n",
       "      <th>Intercept</th>\n",
       "      <td>-12.698119</td>\n",
       "      <td>-6.889765</td>\n",
       "    </tr>\n",
       "    <tr>\n",
       "      <th>scoring</th>\n",
       "      <td>0.106147</td>\n",
       "      <td>0.206534</td>\n",
       "    </tr>\n",
       "  </tbody>\n",
       "</table>\n",
       "</div>"
      ],
      "text/plain": [
       "                2.5%     97.5%\n",
       "Intercept -12.698119 -6.889765\n",
       "scoring     0.106147  0.206534"
      ]
     },
     "execution_count": 97,
     "metadata": {},
     "output_type": "execute_result"
    }
   ],
   "source": [
    "# Intervalos de confianza para los coeficientes del modelo\n",
    "# ==============================================================================\n",
    "intervalos_ci = modelo.conf_int(alpha=0.05)\n",
    "intervalos_ci = pd.DataFrame(intervalos_ci)\n",
    "intervalos_ci.columns = ['2.5%', '97.5%']\n",
    "intervalos_ci"
   ]
  },
  {
   "cell_type": "markdown",
   "metadata": {
    "id": "gYG5pXFPd_Yl"
   },
   "source": [
    "![IC para el or.png](data:image/png;base64,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)"
   ]
  },
  {
   "cell_type": "code",
   "execution_count": null,
   "metadata": {
    "colab": {
     "base_uri": "https://localhost:8080/"
    },
    "id": "Z6VRHsIhbDYR",
    "outputId": "119c61e6-e6b5-408b-f47c-536745d3e3c2"
   },
   "outputs": [
    {
     "data": {
      "text/plain": [
       "0      0.032800\n",
       "1      0.181250\n",
       "2      0.205615\n",
       "3      0.079736\n",
       "4      0.292651\n",
       "         ...   \n",
       "195    0.159193\n",
       "196    0.020775\n",
       "197    0.292651\n",
       "198    0.326029\n",
       "199    0.591019\n",
       "Length: 200, dtype: float64"
      ]
     },
     "execution_count": 98,
     "metadata": {},
     "output_type": "execute_result"
    }
   ],
   "source": [
    "# Predicción de probabilidades\n",
    "# ==============================================================================\n",
    "predicciones = modelo.predict(exog = datos)\n",
    "predicciones\n",
    "\n"
   ]
  },
  {
   "cell_type": "code",
   "execution_count": null,
   "metadata": {
    "colab": {
     "base_uri": "https://localhost:8080/"
    },
    "id": "la4CyJSKbpRg",
    "outputId": "5869a502-7b17-436a-ebb3-728ef7197666"
   },
   "outputs": [
    {
     "data": {
      "text/plain": [
       "array([0, 0, 0, 0, 0, 0, 0, 0, 0, 0, 0, 0, 1, 0, 0, 0, 0, 0, 0, 0, 0, 1,\n",
       "       0, 0, 0, 0, 1, 0, 0, 0, 0, 1, 1, 0, 0, 0, 1, 1, 0, 0, 0, 0, 0, 0,\n",
       "       0, 1, 0, 1, 1, 0, 0, 0, 0, 0, 1, 0, 0, 0, 0, 0, 0, 0, 0, 0, 0, 0,\n",
       "       0, 0, 0, 0, 0, 0, 1, 0, 0, 0, 0, 0, 0, 0, 0, 0, 1, 0, 0, 1, 0, 0,\n",
       "       0, 0, 1, 0, 1, 0, 0, 0, 1, 1, 0, 1, 1, 0, 0, 0, 0, 1, 1, 0, 0, 1,\n",
       "       0, 0, 0, 0, 0, 0, 0, 0, 1, 0, 0, 0, 0, 0, 0, 0, 0, 0, 0, 0, 0, 1,\n",
       "       0, 0, 0, 0, 0, 0, 0, 0, 0, 0, 0, 0, 0, 0, 0, 0, 0, 0, 0, 0, 0, 0,\n",
       "       0, 0, 0, 0, 0, 1, 0, 0, 0, 1, 0, 0, 0, 0, 1, 0, 0, 0, 0, 0, 0, 1,\n",
       "       1, 0, 0, 0, 0, 0, 0, 0, 1, 1, 0, 0, 0, 0, 0, 0, 0, 0, 0, 0, 0, 0,\n",
       "       0, 1])"
      ]
     },
     "execution_count": 99,
     "metadata": {},
     "output_type": "execute_result"
    }
   ],
   "source": [
    "# Clasificación predicha \n",
    "# Si la probabilidad es menor a 0,50 se asigna al grupo cero. De lo contrario al grupo uno.\n",
    "# ==============================================================================\n",
    "clasificacion = np.where(predicciones<0.5, 0, 1)\n",
    "clasificacion"
   ]
  },
  {
   "cell_type": "code",
   "execution_count": null,
   "metadata": {
    "colab": {
     "base_uri": "https://localhost:8080/"
    },
    "id": "pezodDg0dEAB",
    "outputId": "2a8a0b70-f42c-448f-83e2-652ef4f05316"
   },
   "outputs": [
    {
     "name": "stdout",
     "output_type": "stream",
     "text": [
      "\n",
      "El porcentaje de concordnacia del test es: 81.0%\n"
     ]
    }
   ],
   "source": [
    "# Porcentaje de concordancia\n",
    "# ==============================================================================\n",
    "X_test = sm.add_constant(datos, prepend=True)\n",
    "predicciones = modelo.predict(exog = datos)\n",
    "clasificacion = np.where(predicciones<0.5, 0, 1)\n",
    "accuracy = accuracy_score(\n",
    "            y_true    = credito,\n",
    "            y_pred    = clasificacion,\n",
    "            normalize = True\n",
    "           )\n",
    "print(\"\")\n",
    "print(f\"El porcentaje de concordnacia del test es: {100*accuracy}%\")"
   ]
  },
  {
   "cell_type": "markdown",
   "metadata": {
    "id": "FLbDAJLd0tOd"
   },
   "source": [
    "Los resultados obtenidos con el conjunto de test indican que el modelo es capaz de clasificar correctamente el 81% de las observaciones."
   ]
  },
  {
   "cell_type": "code",
   "execution_count": null,
   "metadata": {
    "colab": {
     "base_uri": "https://localhost:8080/",
     "height": 324
    },
    "id": "fjQ1IIYHsROx",
    "outputId": "fca8333a-79d7-4535-b7f0-1416be1cd401"
   },
   "outputs": [
    {
     "data": {
      "image/png": "[encoded data removed]",
      "text/plain": [
       "<Figure size 576x360 with 2 Axes>"
      ]
     },
     "metadata": {
      "needs_background": "light"
     },
     "output_type": "display_data"
    }
   ],
   "source": [
    "from sklearn.metrics import confusion_matrix\n",
    "cm=confusion_matrix(credito,clasificacion)\n",
    "conf_matrix=pd.DataFrame(data=cm,columns=['Predicho:0','Predicho:1'],index=['Dato:0','Dato:1'])\n",
    "plt.figure(figsize = (8,5))\n",
    "sns.heatmap(conf_matrix, annot=True,fmt='d',cmap=\"YlGnBu\");"
   ]
  },
  {
   "cell_type": "markdown",
   "metadata": {
    "id": "qwl17gFli-te"
   },
   "source": [
    "La matriz de confusión muestra 140 +22= 162 correctamente predichos (diagonal de la matriz).\n",
    "\n",
    "Veraderos positivos (VP): 22 (sensibilidad = % de positivos clasificados como positivos)\n",
    "\n",
    "Veraderos negativos (VN): 140 (especificidad)\n",
    "\n",
    "Falsos positivos (FP): 11. Predecimos que ocurrió el suceso (se otorgó el crédito) cuando en realidad no.\n",
    "\n",
    "Falsos negativos (FN): 27. Predecimos que no ocurriría el suceso (no se otorgó) cuando en realidad sucedió.  "
   ]
  },
  {
   "cell_type": "code",
   "execution_count": null,
   "metadata": {
    "id": "aa2Y7ncH4LJB"
   },
   "outputs": [],
   "source": [
    "VN=cm[0,0]\n",
    "VP=cm[1,1]\n",
    "FN=cm[1,0]\n",
    "FP=cm[0,1]\n",
    "sensibilidad=VP/float(VP+FN)\n",
    "especificidad=VN/float(VN+FP)"
   ]
  },
  {
   "cell_type": "markdown",
   "metadata": {
    "id": "c075fCzO5xc9"
   },
   "source": [
    "Sensibilidad = % de positivos clasificados como positivos\n",
    "\n",
    "Especificidad= % de negativos clasificados como negativos"
   ]
  },
  {
   "cell_type": "code",
   "execution_count": null,
   "metadata": {
    "colab": {
     "base_uri": "https://localhost:8080/"
    },
    "id": "Uk7zFEmL4yON",
    "outputId": "4d697d10-ccbc-4fa9-ca13-0724b01cabc5"
   },
   "outputs": [
    {
     "name": "stdout",
     "output_type": "stream",
     "text": [
      "0.4489795918367347\n"
     ]
    }
   ],
   "source": [
    "print (sensibilidad)\n"
   ]
  },
  {
   "cell_type": "code",
   "execution_count": null,
   "metadata": {
    "colab": {
     "base_uri": "https://localhost:8080/"
    },
    "id": "R8jDQw6G6BZd",
    "outputId": "2cc1cf4c-389d-4e2a-deb1-27f7d123980e"
   },
   "outputs": [
    {
     "name": "stdout",
     "output_type": "stream",
     "text": [
      "0.9271523178807947\n"
     ]
    }
   ],
   "source": [
    "print (especificidad)"
   ]
  },
  {
   "cell_type": "markdown",
   "metadata": {
    "id": "WaX9nX_v6Wjy"
   },
   "source": [
    "El modelo presenta mayor especificidad que sensibilidad. Los valores negativos se predicen con mayor precisión que los positivos.\n",
    "\n",
    "Si se modifica el punto de corte de la probabilidad se puede mejorar la sensibilidad, a costa de pérdida de especificidad"
   ]
  },
  {
   "cell_type": "code",
   "execution_count": null,
   "metadata": {
    "colab": {
     "base_uri": "https://localhost:8080/"
    },
    "id": "ds3OwLVbjAFN",
    "outputId": "49934296-a4e1-4e2c-a4cd-ab4195a074fa"
   },
   "outputs": [
    {
     "data": {
      "text/plain": [
       "array([0, 0, 0, 0, 0, 0, 0, 0, 0, 0, 0, 0, 1, 0, 0, 0, 0, 1, 1, 0, 0, 1,\n",
       "       0, 0, 0, 0, 1, 0, 0, 0, 0, 1, 1, 0, 0, 1, 1, 1, 0, 0, 0, 1, 0, 0,\n",
       "       0, 1, 0, 1, 1, 1, 1, 0, 1, 0, 1, 0, 0, 0, 0, 0, 0, 1, 0, 0, 0, 0,\n",
       "       1, 0, 1, 0, 0, 1, 1, 1, 0, 0, 0, 0, 0, 0, 0, 0, 1, 0, 0, 1, 0, 0,\n",
       "       0, 1, 1, 0, 1, 0, 0, 1, 1, 1, 0, 1, 1, 0, 0, 0, 0, 1, 1, 0, 0, 1,\n",
       "       0, 0, 0, 1, 0, 0, 0, 1, 1, 0, 0, 0, 0, 0, 0, 0, 0, 0, 0, 0, 0, 1,\n",
       "       0, 0, 0, 1, 0, 0, 0, 0, 0, 0, 0, 0, 1, 0, 0, 0, 0, 0, 0, 1, 0, 0,\n",
       "       0, 1, 0, 0, 0, 1, 0, 0, 0, 1, 0, 0, 0, 0, 1, 0, 0, 0, 0, 1, 0, 1,\n",
       "       1, 0, 0, 1, 0, 0, 0, 0, 1, 1, 0, 0, 0, 0, 0, 0, 0, 0, 1, 0, 0, 0,\n",
       "       1, 1])"
      ]
     },
     "execution_count": 102,
     "metadata": {},
     "output_type": "execute_result"
    }
   ],
   "source": [
    "# Clasificación predicha \n",
    "# Si la probabilidad es menor a 0,30 se asigna al grupo cero. De lo contrario al grupo uno.\n",
    "# ==============================================================================\n",
    "clasificacion = np.where(predicciones<0.3, 0, 1)\n",
    "clasificacion"
   ]
  },
  {
   "cell_type": "code",
   "execution_count": null,
   "metadata": {
    "colab": {
     "base_uri": "https://localhost:8080/"
    },
    "id": "9NRqFqZ-jYrF",
    "outputId": "05bbe388-3c12-4fd6-96ad-535fa1cca708"
   },
   "outputs": [
    {
     "name": "stdout",
     "output_type": "stream",
     "text": [
      "\n",
      "El porcentaje de concordnacia del test es: 80.0%\n"
     ]
    }
   ],
   "source": [
    "# Porcentaje de concordancia\n",
    "# ==============================================================================\n",
    "X_test = sm.add_constant(datos, prepend=True)\n",
    "predicciones = modelo.predict(exog = datos)\n",
    "clasificacion = np.where(predicciones<0.30, 0, 1)\n",
    "accuracy = accuracy_score(\n",
    "            y_true    = credito,\n",
    "            y_pred    = clasificacion,\n",
    "            normalize = True\n",
    "           )\n",
    "print(\"\")\n",
    "print(f\"El porcentaje de concordnacia del test es: {100*accuracy}%\")"
   ]
  },
  {
   "cell_type": "code",
   "execution_count": null,
   "metadata": {
    "colab": {
     "base_uri": "https://localhost:8080/",
     "height": 320
    },
    "id": "otmJhQl7jh7F",
    "outputId": "4f067952-0ed8-4da4-8bfb-433691be4575"
   },
   "outputs": [
    {
     "data": {
      "image/png": "[encoded data removed]",
      "text/plain": [
       "<Figure size 576x360 with 2 Axes>"
      ]
     },
     "metadata": {
      "needs_background": "light"
     },
     "output_type": "display_data"
    }
   ],
   "source": [
    "from sklearn.metrics import confusion_matrix\n",
    "cm=confusion_matrix(credito,clasificacion)\n",
    "conf_matrix=pd.DataFrame(data=cm,columns=['Predicho:0','Predicho:1'],index=['Dato:0','Dato:1'])\n",
    "plt.figure(figsize = (8,5))\n",
    "sns.heatmap(conf_matrix, annot=True,fmt='d',cmap=\"YlGnBu\");"
   ]
  },
  {
   "cell_type": "code",
   "execution_count": null,
   "metadata": {
    "id": "rkf5I8fgjy_Y"
   },
   "outputs": [],
   "source": [
    "VN=cm[0,0]\n",
    "VP=cm[1,1]\n",
    "FN=cm[1,0]\n",
    "FP=cm[0,1]\n",
    "sensibilidad=VP/float(VP+FN)\n",
    "especificidad=VN/float(VN+FP)"
   ]
  },
  {
   "cell_type": "code",
   "execution_count": null,
   "metadata": {
    "colab": {
     "base_uri": "https://localhost:8080/"
    },
    "id": "AAFshxepj6u6",
    "outputId": "4be38339-5ba0-4a94-de18-df698931148a"
   },
   "outputs": [
    {
     "name": "stdout",
     "output_type": "stream",
     "text": [
      "0.673469387755102\n"
     ]
    }
   ],
   "source": [
    "print (sensibilidad)\n"
   ]
  },
  {
   "cell_type": "code",
   "execution_count": null,
   "metadata": {
    "colab": {
     "base_uri": "https://localhost:8080/"
    },
    "id": "jxjjV98WkBL7",
    "outputId": "44fc6d0c-3aae-40d5-ccc3-1574143d9d5c"
   },
   "outputs": [
    {
     "name": "stdout",
     "output_type": "stream",
     "text": [
      "0.8410596026490066\n"
     ]
    }
   ],
   "source": [
    "print (especificidad)"
   ]
  },
  {
   "cell_type": "markdown",
   "metadata": {
    "id": "Dd7xFWtOP0kj"
   },
   "source": [
    "**Muestra de entrenamiento**"
   ]
  },
  {
   "cell_type": "markdown",
   "metadata": {
    "id": "BLipKIl6N67Q"
   },
   "source": [
    " Como en todo estudio predictivo, no solo es importante ajustar el modelo, sino también cuantificar su capacidad para predecir nuevas observaciones. Para poder hacer esta evaluación, se dividen los datos en dos grupos, uno de entrenamiento y otro de test."
   ]
  },
  {
   "cell_type": "code",
   "execution_count": null,
   "metadata": {
    "id": "w8ShME3lQMoq"
   },
   "outputs": [],
   "source": [
    "# División de los datos en train y test\n",
    "# ==============================================================================\n",
    "X = datos[['scoring']]\n",
    "y = datos['credito']\n",
    "\n",
    "X_train, X_test, y_train, y_test = train_test_split(\n",
    "                                        X.values.reshape(-1,1),\n",
    "                                        y.values.reshape(-1,1),\n",
    "                                        train_size   = 0.8,\n",
    "                                        random_state = 1234,\n",
    "                                        shuffle      = True\n",
    "                                    )\n",
    "\n"
   ]
  },
  {
   "cell_type": "code",
   "execution_count": null,
   "metadata": {
    "colab": {
     "base_uri": "https://localhost:8080/"
    },
    "id": "P0_-E-tAnvZg",
    "outputId": "f2cffce9-e6ed-4ea0-adf0-72a0967bb49b"
   },
   "outputs": [
    {
     "name": "stdout",
     "output_type": "stream",
     "text": [
      "Optimization terminated successfully.\n",
      "         Current function value: 0.451215\n",
      "         Iterations 6\n",
      "                           Logit Regression Results                           \n",
      "==============================================================================\n",
      "Dep. Variable:                credito   No. Observations:                  160\n",
      "Model:                          Logit   Df Residuals:                      158\n",
      "Method:                           MLE   Df Model:                            1\n",
      "Date:                Fri, 27 Aug 2021   Pseudo R-squ.:                  0.2247\n",
      "Time:                        13:27:48   Log-Likelihood:                -72.194\n",
      "converged:                       True   LL-Null:                       -93.122\n",
      "Covariance Type:            nonrobust   LLR p-value:                 9.831e-11\n",
      "==============================================================================\n",
      "                 coef    std err          z      P>|z|      [0.025      0.975]\n",
      "------------------------------------------------------------------------------\n",
      "Intercept     -8.9848      1.543     -5.821      0.000     -12.010      -5.960\n",
      "scoring        0.1439      0.027      5.387      0.000       0.092       0.196\n",
      "==============================================================================\n"
     ]
    }
   ],
   "source": [
    "# Creación del modelo \n",
    "# ==============================================================================\n",
    "datos_train = pd.DataFrame(np.hstack((X_train, y_train)),\n",
    "                           columns=['scoring', 'credito'])\n",
    "modelo = smf.logit(formula = 'credito ~scoring', data = datos_train)\n",
    "modelo = modelo.fit()\n",
    "print(modelo.summary())"
   ]
  },
  {
   "cell_type": "code",
   "execution_count": null,
   "metadata": {
    "id": "fsc5mfCM9ycr"
   },
   "outputs": [],
   "source": [
    "from sklearn.model_selection import train_test_split, cross_val_score\n",
    "from sklearn.metrics import accuracy_score, classification_report, precision_score, recall_score \n",
    "from sklearn.metrics import confusion_matrix, precision_recall_curve, roc_curve, auc, log_loss"
   ]
  },
  {
   "cell_type": "code",
   "execution_count": null,
   "metadata": {
    "colab": {
     "base_uri": "https://localhost:8080/",
     "height": 438
    },
    "id": "poSRBTF1-I77",
    "outputId": "2fd085eb-22fd-456f-fc91-ca2d40bf20bb"
   },
   "outputs": [
    {
     "name": "stdout",
     "output_type": "stream",
     "text": [
      "Train/Test split results:\n",
      "LogisticRegression accuracy is 0.875\n",
      "LogisticRegression log_loss is 0.290\n",
      "LogisticRegression auc is 0.882\n"
     ]
    },
    {
     "name": "stderr",
     "output_type": "stream",
     "text": [
      "/usr/local/lib/python3.7/dist-packages/sklearn/utils/validation.py:760: DataConversionWarning: A column-vector y was passed when a 1d array was expected. Please change the shape of y to (n_samples, ), for example using ravel().\n",
      "  y = column_or_1d(y, warn=True)\n"
     ]
    },
    {
     "data": {
      "image/png": "[encoded data removed]",
      "text/plain": [
       "<Figure size 432x288 with 1 Axes>"
      ]
     },
     "metadata": {
      "needs_background": "light"
     },
     "output_type": "display_data"
    },
    {
     "name": "stdout",
     "output_type": "stream",
     "text": [
      "Using a threshold of 0.162 guarantees a sensitivity of 1.000 and a specificity of 0.529, i.e. a false positive rate of 47.06%.\n"
     ]
    }
   ],
   "source": [
    "logreg = LogisticRegression()\n",
    "logreg.fit(X_train, y_train)\n",
    "y_pred = logreg.predict(X_test)\n",
    "y_pred_proba = logreg.predict_proba(X_test)[:, 1]\n",
    "[fpr, tpr, thr] = roc_curve(y_test, y_pred_proba)\n",
    "print('Train/Test split results:')\n",
    "print(logreg.__class__.__name__+\" accuracy is %2.3f\" % accuracy_score(y_test, y_pred))\n",
    "print(logreg.__class__.__name__+\" log_loss is %2.3f\" % log_loss(y_test, y_pred_proba))\n",
    "print(logreg.__class__.__name__+\" auc is %2.3f\" % auc(fpr, tpr))\n",
    "\n",
    "idx = np.min(np.where(tpr > 0.95)) # index of the first threshold for which the sensibility > 0.95\n",
    "\n",
    "plt.figure()\n",
    "plt.plot(fpr, tpr, color='coral', label='ROC curve (area = %0.3f)' % auc(fpr, tpr))\n",
    "plt.plot([0, 1], [0, 1], 'k--')\n",
    "plt.plot([0,fpr[idx]], [tpr[idx],tpr[idx]], 'k--', color='blue')\n",
    "plt.plot([fpr[idx],fpr[idx]], [0,tpr[idx]], 'k--', color='blue')\n",
    "plt.xlim([0.0, 1.0])\n",
    "plt.ylim([0.0, 1.05])\n",
    "plt.xlabel('False Positive Rate (1 - specificity)', fontsize=14)\n",
    "plt.ylabel('True Positive Rate (recall)', fontsize=14)\n",
    "plt.title('Receiver operating characteristic (ROC) curve')\n",
    "plt.legend(loc=\"lower right\")\n",
    "plt.show()\n",
    "\n",
    "print(\"Using a threshold of %.3f \" % thr[idx] + \"guarantees a sensitivity of %.3f \" % tpr[idx] +  \n",
    "      \"and a specificity of %.3f\" % (1-fpr[idx]) + \n",
    "      \", i.e. a false positive rate of %.2f%%.\" % (np.array(fpr[idx])*100))\n"
   ]
  },
  {
   "cell_type": "markdown",
   "metadata": {
    "id": "T25j-TdiborC"
   },
   "source": [
    "El porcentaje de concordancia es del 87,5%. \n",
    "El estadístico AUC = 0,882"
   ]
  },
  {
   "cell_type": "markdown",
   "metadata": {
    "id": "walMDx2hS4oU"
   },
   "source": [
    "**Scikit-learn**"
   ]
  },
  {
   "cell_type": "code",
   "execution_count": null,
   "metadata": {
    "colab": {
     "base_uri": "https://localhost:8080/"
    },
    "id": "A2Mp4ek9TIGC",
    "outputId": "ac5a61be-ed9f-47d1-b0ba-c619cc023e5b"
   },
   "outputs": [
    {
     "name": "stderr",
     "output_type": "stream",
     "text": [
      "/usr/local/lib/python3.7/dist-packages/sklearn/utils/validation.py:760: DataConversionWarning: A column-vector y was passed when a 1d array was expected. Please change the shape of y to (n_samples, ), for example using ravel().\n",
      "  y = column_or_1d(y, warn=True)\n"
     ]
    },
    {
     "data": {
      "text/plain": [
       "LogisticRegression(C=1.0, class_weight=None, dual=False, fit_intercept=True,\n",
       "                   intercept_scaling=1, l1_ratio=None, max_iter=100,\n",
       "                   multi_class='auto', n_jobs=None, penalty='none',\n",
       "                   random_state=None, solver='lbfgs', tol=0.0001, verbose=0,\n",
       "                   warm_start=False)"
      ]
     },
     "execution_count": 112,
     "metadata": {},
     "output_type": "execute_result"
    }
   ],
   "source": [
    "# Creación del modelo\n",
    "# ==============================================================================\n",
    "modelo = LogisticRegression(penalty='none')\n",
    "modelo.fit(X = X_train.reshape(-1, 1), y = y_train)"
   ]
  },
  {
   "cell_type": "code",
   "execution_count": null,
   "metadata": {
    "colab": {
     "base_uri": "https://localhost:8080/"
    },
    "id": "PY8mlGVaReKH",
    "outputId": "41abcfe3-1dd8-4d0b-fad8-0e0b59ae692d"
   },
   "outputs": [
    {
     "name": "stdout",
     "output_type": "stream",
     "text": [
      "Intercept: [-8.98479044]\n",
      "Coeficiente: [('scoring', 0.14393266992917017)]\n",
      "Accuracy de entrenamiento: 0.81\n"
     ]
    }
   ],
   "source": [
    "# Información del modelo\n",
    "# ==============================================================================\n",
    "print(\"Intercept:\", modelo.intercept_)\n",
    "print(\"Coeficiente:\", list(zip(X.columns, modelo.coef_.flatten(), )))\n",
    "print(\"Accuracy de entrenamiento:\", modelo.score(X, y))"
   ]
  },
  {
   "cell_type": "markdown",
   "metadata": {
    "id": "fED0urpCRoXB"
   },
   "source": [
    "Una vez entrenado el modelo, se pueden predecir nuevas observaciones"
   ]
  },
  {
   "cell_type": "code",
   "execution_count": null,
   "metadata": {
    "colab": {
     "base_uri": "https://localhost:8080/",
     "height": 204
    },
    "id": "jfF8quCWRsFr",
    "outputId": "de78580e-cba3-403d-8b19-3565b6032775"
   },
   "outputs": [
    {
     "data": {
      "text/html": [
       "<div>\n",
       "<style scoped>\n",
       "    .dataframe tbody tr th:only-of-type {\n",
       "        vertical-align: middle;\n",
       "    }\n",
       "\n",
       "    .dataframe tbody tr th {\n",
       "        vertical-align: top;\n",
       "    }\n",
       "\n",
       "    .dataframe thead th {\n",
       "        text-align: right;\n",
       "    }\n",
       "</style>\n",
       "<table border=\"1\" class=\"dataframe\">\n",
       "  <thead>\n",
       "    <tr style=\"text-align: right;\">\n",
       "      <th></th>\n",
       "      <th>0</th>\n",
       "      <th>1</th>\n",
       "    </tr>\n",
       "  </thead>\n",
       "  <tbody>\n",
       "    <tr>\n",
       "      <th>0</th>\n",
       "      <td>0.685816</td>\n",
       "      <td>0.314184</td>\n",
       "    </tr>\n",
       "    <tr>\n",
       "      <th>1</th>\n",
       "      <td>0.838109</td>\n",
       "      <td>0.161891</td>\n",
       "    </tr>\n",
       "    <tr>\n",
       "      <th>2</th>\n",
       "      <td>0.443517</td>\n",
       "      <td>0.556483</td>\n",
       "    </tr>\n",
       "    <tr>\n",
       "      <th>3</th>\n",
       "      <td>0.479270</td>\n",
       "      <td>0.520730</td>\n",
       "    </tr>\n",
       "    <tr>\n",
       "      <th>4</th>\n",
       "      <td>0.956209</td>\n",
       "      <td>0.043791</td>\n",
       "    </tr>\n",
       "  </tbody>\n",
       "</table>\n",
       "</div>"
      ],
      "text/plain": [
       "          0         1\n",
       "0  0.685816  0.314184\n",
       "1  0.838109  0.161891\n",
       "2  0.443517  0.556483\n",
       "3  0.479270  0.520730\n",
       "4  0.956209  0.043791"
      ]
     },
     "execution_count": 114,
     "metadata": {},
     "output_type": "execute_result"
    }
   ],
   "source": [
    "# Predicciones probabilísticas\n",
    "# ==============================================================================\n",
    "# Con .predict_proba() se obtiene, para cada observación, la probabilidad predicha\n",
    "# de pertenecer a cada una de las dos clases.\n",
    "predicciones = modelo.predict_proba(X = X_test)\n",
    "predicciones = pd.DataFrame(predicciones, columns = modelo.classes_)\n",
    "predicciones.head(5)"
   ]
  }
 ],
 "metadata": {
  "colab": {
   "name": "Reg Log simple.ipynb",
   "provenance": []
  },
  "kernelspec": {
   "display_name": "Python 3",
   "language": "python",
   "name": "python3"
  },
  "language_info": {
   "codemirror_mode": {
    "name": "ipython",
    "version": 3
   },
   "file_extension": ".py",
   "mimetype": "text/x-python",
   "name": "python",
   "nbconvert_exporter": "python",
   "pygments_lexer": "ipython3",
   "version": "3.7.3"
  }
 },
 "nbformat": 4,
 "nbformat_minor": 1
}
