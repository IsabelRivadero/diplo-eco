{
 "cells": [
  {
   "cell_type": "markdown",
   "metadata": {
    "id": "TLXqqLf62tFM"
   },
   "source": [
    "“Online” es un conjunto de que contiene todas las transacciones que ocurrieron entre el 01/12/2010 y el 09/12/2011 para un comercio minorista en línea (Reino Unido). La empresa vende principalmente regalos únicos para todas las ocasiones. Muchos clientes de la empresa son mayoristas.  El objetivo es realizar un agrupamiento de los clientes y elegir a qué grupos dirigirse.\n",
    "Vamos a analizar los Clientes en función de los siguientes factores: \n",
    "\n",
    "* Días: número de días desde la última compra \n",
    "* Frecuencia: número de transacciones \n",
    "* Gasto: gastos totales \n"
   ]
  },
  {
   "cell_type": "markdown",
   "metadata": {
    "id": "TLAKP_648Se4"
   },
   "source": [
    " 1. Cargamos las librerias y los datos"
   ]
  },
  {
   "cell_type": "code",
   "execution_count": 1,
   "metadata": {
    "executionInfo": {
     "elapsed": 250,
     "status": "ok",
     "timestamp": 1629496553776,
     "user": {
      "displayName": "ANA GEORGINA FLESIA",
      "photoUrl": "https://lh3.googleusercontent.com/a-/AOh14GhEzdrRs7t9rM7bZMeG13bgILnDQQBYsSPcsT4=s64",
      "userId": "06600501239941405182"
     },
     "user_tz": 180
    },
    "id": "ntzqI_Ei24do"
   },
   "outputs": [],
   "source": [
    "# Importamos librerias para manejo de los datos\n",
    "\n",
    "import numpy as np\n",
    "import pandas as pd\n",
    "import matplotlib.pyplot as plt\n",
    "import seaborn as sns\n",
    "import datetime as dt\n",
    "\n",
    "\n",
    "# Import librerias para análisis de cluster\n",
    "import sklearn\n",
    "from sklearn.preprocessing import StandardScaler\n",
    "from sklearn.cluster import KMeans\n",
    "from sklearn.metrics import silhouette_score\n",
    "from scipy.cluster.hierarchy import linkage\n",
    "from scipy.cluster.hierarchy import dendrogram\n",
    "from scipy.cluster.hierarchy import cut_tree"
   ]
  },
  {
   "cell_type": "code",
   "execution_count": 8,
   "metadata": {},
   "outputs": [],
   "source": [
    "import xlrd"
   ]
  },
  {
   "cell_type": "code",
   "execution_count": 10,
   "metadata": {
    "colab": {
     "base_uri": "https://localhost:8080/",
     "height": 203
    },
    "executionInfo": {
     "elapsed": 44170,
     "status": "ok",
     "timestamp": 1629496600860,
     "user": {
      "displayName": "ANA GEORGINA FLESIA",
      "photoUrl": "https://lh3.googleusercontent.com/a-/AOh14GhEzdrRs7t9rM7bZMeG13bgILnDQQBYsSPcsT4=s64",
      "userId": "06600501239941405182"
     },
     "user_tz": 180
    },
    "id": "tSD0_G9q3Dja",
    "outputId": "74ac9a97-4cf2-4693-f0b7-262906339dd3"
   },
   "outputs": [
    {
     "data": {
      "text/html": [
       "<div>\n",
       "<style scoped>\n",
       "    .dataframe tbody tr th:only-of-type {\n",
       "        vertical-align: middle;\n",
       "    }\n",
       "\n",
       "    .dataframe tbody tr th {\n",
       "        vertical-align: top;\n",
       "    }\n",
       "\n",
       "    .dataframe thead th {\n",
       "        text-align: right;\n",
       "    }\n",
       "</style>\n",
       "<table border=\"1\" class=\"dataframe\">\n",
       "  <thead>\n",
       "    <tr style=\"text-align: right;\">\n",
       "      <th></th>\n",
       "      <th>InvoiceNo</th>\n",
       "      <th>StockCode</th>\n",
       "      <th>Description</th>\n",
       "      <th>Quantity</th>\n",
       "      <th>InvoiceDate</th>\n",
       "      <th>UnitPrice</th>\n",
       "      <th>CustomerID</th>\n",
       "      <th>Country</th>\n",
       "    </tr>\n",
       "  </thead>\n",
       "  <tbody>\n",
       "    <tr>\n",
       "      <th>0</th>\n",
       "      <td>536365</td>\n",
       "      <td>85123A</td>\n",
       "      <td>WHITE HANGING HEART T-LIGHT HOLDER</td>\n",
       "      <td>6</td>\n",
       "      <td>12/1/10 8:26</td>\n",
       "      <td>2.55</td>\n",
       "      <td>17850.0</td>\n",
       "      <td>United Kingdom</td>\n",
       "    </tr>\n",
       "    <tr>\n",
       "      <th>1</th>\n",
       "      <td>536365</td>\n",
       "      <td>71053</td>\n",
       "      <td>WHITE METAL LANTERN</td>\n",
       "      <td>6</td>\n",
       "      <td>12/1/10 8:26</td>\n",
       "      <td>3.39</td>\n",
       "      <td>17850.0</td>\n",
       "      <td>United Kingdom</td>\n",
       "    </tr>\n",
       "    <tr>\n",
       "      <th>2</th>\n",
       "      <td>536365</td>\n",
       "      <td>84406B</td>\n",
       "      <td>CREAM CUPID HEARTS COAT HANGER</td>\n",
       "      <td>8</td>\n",
       "      <td>12/1/10 8:26</td>\n",
       "      <td>2.75</td>\n",
       "      <td>17850.0</td>\n",
       "      <td>United Kingdom</td>\n",
       "    </tr>\n",
       "    <tr>\n",
       "      <th>3</th>\n",
       "      <td>536365</td>\n",
       "      <td>84029G</td>\n",
       "      <td>KNITTED UNION FLAG HOT WATER BOTTLE</td>\n",
       "      <td>6</td>\n",
       "      <td>12/1/10 8:26</td>\n",
       "      <td>3.39</td>\n",
       "      <td>17850.0</td>\n",
       "      <td>United Kingdom</td>\n",
       "    </tr>\n",
       "    <tr>\n",
       "      <th>4</th>\n",
       "      <td>536365</td>\n",
       "      <td>84029E</td>\n",
       "      <td>RED WOOLLY HOTTIE WHITE HEART.</td>\n",
       "      <td>6</td>\n",
       "      <td>12/1/10 8:26</td>\n",
       "      <td>3.39</td>\n",
       "      <td>17850.0</td>\n",
       "      <td>United Kingdom</td>\n",
       "    </tr>\n",
       "  </tbody>\n",
       "</table>\n",
       "</div>"
      ],
      "text/plain": [
       "  InvoiceNo StockCode                          Description  Quantity  \\\n",
       "0    536365    85123A   WHITE HANGING HEART T-LIGHT HOLDER         6   \n",
       "1    536365     71053                  WHITE METAL LANTERN         6   \n",
       "2    536365    84406B       CREAM CUPID HEARTS COAT HANGER         8   \n",
       "3    536365    84029G  KNITTED UNION FLAG HOT WATER BOTTLE         6   \n",
       "4    536365    84029E       RED WOOLLY HOTTIE WHITE HEART.         6   \n",
       "\n",
       "    InvoiceDate  UnitPrice  CustomerID         Country  \n",
       "0  12/1/10 8:26       2.55     17850.0  United Kingdom  \n",
       "1  12/1/10 8:26       3.39     17850.0  United Kingdom  \n",
       "2  12/1/10 8:26       2.75     17850.0  United Kingdom  \n",
       "3  12/1/10 8:26       3.39     17850.0  United Kingdom  \n",
       "4  12/1/10 8:26       3.39     17850.0  United Kingdom  "
      ]
     },
     "execution_count": 10,
     "metadata": {},
     "output_type": "execute_result"
    }
   ],
   "source": [
    "# Lectura de los datos\n",
    "\n",
    "retail = pd.read_csv('Online.xlsx - Hoja1.csv')\n",
    "retail.head()"
   ]
  },
  {
   "cell_type": "code",
   "execution_count": 11,
   "metadata": {
    "colab": {
     "base_uri": "https://localhost:8080/"
    },
    "executionInfo": {
     "elapsed": 375,
     "status": "ok",
     "timestamp": 1629496609177,
     "user": {
      "displayName": "ANA GEORGINA FLESIA",
      "photoUrl": "https://lh3.googleusercontent.com/a-/AOh14GhEzdrRs7t9rM7bZMeG13bgILnDQQBYsSPcsT4=s64",
      "userId": "06600501239941405182"
     },
     "user_tz": 180
    },
    "id": "MbwHKpC1PBO2",
    "outputId": "08e9f766-4aed-4db2-982c-305af268ca6e"
   },
   "outputs": [
    {
     "data": {
      "text/plain": [
       "(541909, 8)"
      ]
     },
     "execution_count": 11,
     "metadata": {},
     "output_type": "execute_result"
    }
   ],
   "source": [
    "# Forma del objeto\n",
    "retail.shape"
   ]
  },
  {
   "cell_type": "code",
   "execution_count": 12,
   "metadata": {
    "colab": {
     "base_uri": "https://localhost:8080/",
     "height": 295
    },
    "executionInfo": {
     "elapsed": 250,
     "status": "ok",
     "timestamp": 1629496613976,
     "user": {
      "displayName": "ANA GEORGINA FLESIA",
      "photoUrl": "https://lh3.googleusercontent.com/a-/AOh14GhEzdrRs7t9rM7bZMeG13bgILnDQQBYsSPcsT4=s64",
      "userId": "06600501239941405182"
     },
     "user_tz": 180
    },
    "id": "mT6FYQT5NnAl",
    "outputId": "6bc5fb45-0e63-41a8-d671-0c3a156e43b4"
   },
   "outputs": [
    {
     "data": {
      "text/html": [
       "<div>\n",
       "<style scoped>\n",
       "    .dataframe tbody tr th:only-of-type {\n",
       "        vertical-align: middle;\n",
       "    }\n",
       "\n",
       "    .dataframe tbody tr th {\n",
       "        vertical-align: top;\n",
       "    }\n",
       "\n",
       "    .dataframe thead th {\n",
       "        text-align: right;\n",
       "    }\n",
       "</style>\n",
       "<table border=\"1\" class=\"dataframe\">\n",
       "  <thead>\n",
       "    <tr style=\"text-align: right;\">\n",
       "      <th></th>\n",
       "      <th>Quantity</th>\n",
       "      <th>UnitPrice</th>\n",
       "      <th>CustomerID</th>\n",
       "    </tr>\n",
       "  </thead>\n",
       "  <tbody>\n",
       "    <tr>\n",
       "      <th>count</th>\n",
       "      <td>541909.000000</td>\n",
       "      <td>541909.000000</td>\n",
       "      <td>406829.000000</td>\n",
       "    </tr>\n",
       "    <tr>\n",
       "      <th>mean</th>\n",
       "      <td>9.552250</td>\n",
       "      <td>4.611114</td>\n",
       "      <td>15287.690570</td>\n",
       "    </tr>\n",
       "    <tr>\n",
       "      <th>std</th>\n",
       "      <td>218.081158</td>\n",
       "      <td>96.759853</td>\n",
       "      <td>1713.600303</td>\n",
       "    </tr>\n",
       "    <tr>\n",
       "      <th>min</th>\n",
       "      <td>-80995.000000</td>\n",
       "      <td>-11062.060000</td>\n",
       "      <td>12346.000000</td>\n",
       "    </tr>\n",
       "    <tr>\n",
       "      <th>25%</th>\n",
       "      <td>1.000000</td>\n",
       "      <td>1.250000</td>\n",
       "      <td>13953.000000</td>\n",
       "    </tr>\n",
       "    <tr>\n",
       "      <th>50%</th>\n",
       "      <td>3.000000</td>\n",
       "      <td>2.080000</td>\n",
       "      <td>15152.000000</td>\n",
       "    </tr>\n",
       "    <tr>\n",
       "      <th>75%</th>\n",
       "      <td>10.000000</td>\n",
       "      <td>4.130000</td>\n",
       "      <td>16791.000000</td>\n",
       "    </tr>\n",
       "    <tr>\n",
       "      <th>max</th>\n",
       "      <td>80995.000000</td>\n",
       "      <td>38970.000000</td>\n",
       "      <td>18287.000000</td>\n",
       "    </tr>\n",
       "  </tbody>\n",
       "</table>\n",
       "</div>"
      ],
      "text/plain": [
       "            Quantity      UnitPrice     CustomerID\n",
       "count  541909.000000  541909.000000  406829.000000\n",
       "mean        9.552250       4.611114   15287.690570\n",
       "std       218.081158      96.759853    1713.600303\n",
       "min    -80995.000000  -11062.060000   12346.000000\n",
       "25%         1.000000       1.250000   13953.000000\n",
       "50%         3.000000       2.080000   15152.000000\n",
       "75%        10.000000       4.130000   16791.000000\n",
       "max     80995.000000   38970.000000   18287.000000"
      ]
     },
     "execution_count": 12,
     "metadata": {},
     "output_type": "execute_result"
    }
   ],
   "source": [
    "#Análisis descriptivo\n",
    "retail.describe() "
   ]
  },
  {
   "cell_type": "markdown",
   "metadata": {
    "id": "GhscURTBOVjp"
   },
   "source": [
    "2. Limpieza de los datos\n"
   ]
  },
  {
   "cell_type": "code",
   "execution_count": 13,
   "metadata": {
    "colab": {
     "base_uri": "https://localhost:8080/"
    },
    "executionInfo": {
     "elapsed": 261,
     "status": "ok",
     "timestamp": 1629496617740,
     "user": {
      "displayName": "ANA GEORGINA FLESIA",
      "photoUrl": "https://lh3.googleusercontent.com/a-/AOh14GhEzdrRs7t9rM7bZMeG13bgILnDQQBYsSPcsT4=s64",
      "userId": "06600501239941405182"
     },
     "user_tz": 180
    },
    "id": "d6fTbzd-ObFU",
    "outputId": "217cf1ba-d573-4987-b05c-3f4686050448"
   },
   "outputs": [
    {
     "data": {
      "text/plain": [
       "(406829, 8)"
      ]
     },
     "execution_count": 13,
     "metadata": {},
     "output_type": "execute_result"
    }
   ],
   "source": [
    "#Eliminamos filas con valores perdidos\n",
    "retail = retail.dropna()\n",
    "retail.shape"
   ]
  },
  {
   "cell_type": "code",
   "execution_count": 14,
   "metadata": {
    "colab": {
     "base_uri": "https://localhost:8080/",
     "height": 203
    },
    "executionInfo": {
     "elapsed": 245,
     "status": "ok",
     "timestamp": 1629496620789,
     "user": {
      "displayName": "ANA GEORGINA FLESIA",
      "photoUrl": "https://lh3.googleusercontent.com/a-/AOh14GhEzdrRs7t9rM7bZMeG13bgILnDQQBYsSPcsT4=s64",
      "userId": "06600501239941405182"
     },
     "user_tz": 180
    },
    "id": "cFAHftN_l5QW",
    "outputId": "9605b8e8-58b2-4e4c-8708-8e16fe1255fa"
   },
   "outputs": [
    {
     "data": {
      "text/html": [
       "<div>\n",
       "<style scoped>\n",
       "    .dataframe tbody tr th:only-of-type {\n",
       "        vertical-align: middle;\n",
       "    }\n",
       "\n",
       "    .dataframe tbody tr th {\n",
       "        vertical-align: top;\n",
       "    }\n",
       "\n",
       "    .dataframe thead th {\n",
       "        text-align: right;\n",
       "    }\n",
       "</style>\n",
       "<table border=\"1\" class=\"dataframe\">\n",
       "  <thead>\n",
       "    <tr style=\"text-align: right;\">\n",
       "      <th></th>\n",
       "      <th>CustomerID</th>\n",
       "      <th>Gasto</th>\n",
       "    </tr>\n",
       "  </thead>\n",
       "  <tbody>\n",
       "    <tr>\n",
       "      <th>0</th>\n",
       "      <td>12346.0</td>\n",
       "      <td>0.00</td>\n",
       "    </tr>\n",
       "    <tr>\n",
       "      <th>1</th>\n",
       "      <td>12347.0</td>\n",
       "      <td>4310.00</td>\n",
       "    </tr>\n",
       "    <tr>\n",
       "      <th>2</th>\n",
       "      <td>12348.0</td>\n",
       "      <td>1797.24</td>\n",
       "    </tr>\n",
       "    <tr>\n",
       "      <th>3</th>\n",
       "      <td>12349.0</td>\n",
       "      <td>1757.55</td>\n",
       "    </tr>\n",
       "    <tr>\n",
       "      <th>4</th>\n",
       "      <td>12350.0</td>\n",
       "      <td>334.40</td>\n",
       "    </tr>\n",
       "  </tbody>\n",
       "</table>\n",
       "</div>"
      ],
      "text/plain": [
       "   CustomerID    Gasto\n",
       "0     12346.0     0.00\n",
       "1     12347.0  4310.00\n",
       "2     12348.0  1797.24\n",
       "3     12349.0  1757.55\n",
       "4     12350.0   334.40"
      ]
     },
     "execution_count": 14,
     "metadata": {},
     "output_type": "execute_result"
    }
   ],
   "source": [
    "# Creamos la variable Gasto\n",
    "\n",
    "retail['Gasto'] = retail['Quantity']*retail['UnitPrice']\n",
    "rfm_m = retail.groupby('CustomerID')['Gasto'].sum()\n",
    "rfm_m = rfm_m.reset_index()\n",
    "rfm_m.head()"
   ]
  },
  {
   "cell_type": "code",
   "execution_count": 15,
   "metadata": {
    "colab": {
     "base_uri": "https://localhost:8080/",
     "height": 203
    },
    "executionInfo": {
     "elapsed": 269,
     "status": "ok",
     "timestamp": 1629496624804,
     "user": {
      "displayName": "ANA GEORGINA FLESIA",
      "photoUrl": "https://lh3.googleusercontent.com/a-/AOh14GhEzdrRs7t9rM7bZMeG13bgILnDQQBYsSPcsT4=s64",
      "userId": "06600501239941405182"
     },
     "user_tz": 180
    },
    "id": "IG42UQbutZbc",
    "outputId": "48f9ee2e-63dc-4e27-977c-c6062302c7c4"
   },
   "outputs": [
    {
     "data": {
      "text/html": [
       "<div>\n",
       "<style scoped>\n",
       "    .dataframe tbody tr th:only-of-type {\n",
       "        vertical-align: middle;\n",
       "    }\n",
       "\n",
       "    .dataframe tbody tr th {\n",
       "        vertical-align: top;\n",
       "    }\n",
       "\n",
       "    .dataframe thead th {\n",
       "        text-align: right;\n",
       "    }\n",
       "</style>\n",
       "<table border=\"1\" class=\"dataframe\">\n",
       "  <thead>\n",
       "    <tr style=\"text-align: right;\">\n",
       "      <th></th>\n",
       "      <th>CustomerID</th>\n",
       "      <th>Frequencia</th>\n",
       "    </tr>\n",
       "  </thead>\n",
       "  <tbody>\n",
       "    <tr>\n",
       "      <th>0</th>\n",
       "      <td>12346.0</td>\n",
       "      <td>2</td>\n",
       "    </tr>\n",
       "    <tr>\n",
       "      <th>1</th>\n",
       "      <td>12347.0</td>\n",
       "      <td>182</td>\n",
       "    </tr>\n",
       "    <tr>\n",
       "      <th>2</th>\n",
       "      <td>12348.0</td>\n",
       "      <td>31</td>\n",
       "    </tr>\n",
       "    <tr>\n",
       "      <th>3</th>\n",
       "      <td>12349.0</td>\n",
       "      <td>73</td>\n",
       "    </tr>\n",
       "    <tr>\n",
       "      <th>4</th>\n",
       "      <td>12350.0</td>\n",
       "      <td>17</td>\n",
       "    </tr>\n",
       "  </tbody>\n",
       "</table>\n",
       "</div>"
      ],
      "text/plain": [
       "   CustomerID  Frequencia\n",
       "0     12346.0           2\n",
       "1     12347.0         182\n",
       "2     12348.0          31\n",
       "3     12349.0          73\n",
       "4     12350.0          17"
      ]
     },
     "execution_count": 15,
     "metadata": {},
     "output_type": "execute_result"
    }
   ],
   "source": [
    "#Creamos la variable Frecuencia\n",
    "rfm_f = retail.groupby('CustomerID')['InvoiceNo'].count()\n",
    "rfm_f = rfm_f.reset_index()\n",
    "rfm_f.columns = ['CustomerID', 'Frequencia']\n",
    "rfm_f.head()"
   ]
  },
  {
   "cell_type": "code",
   "execution_count": 16,
   "metadata": {
    "colab": {
     "base_uri": "https://localhost:8080/",
     "height": 203
    },
    "executionInfo": {
     "elapsed": 307,
     "status": "ok",
     "timestamp": 1629496627803,
     "user": {
      "displayName": "ANA GEORGINA FLESIA",
      "photoUrl": "https://lh3.googleusercontent.com/a-/AOh14GhEzdrRs7t9rM7bZMeG13bgILnDQQBYsSPcsT4=s64",
      "userId": "06600501239941405182"
     },
     "user_tz": 180
    },
    "id": "ykeC1xHKGFwH",
    "outputId": "851f22fd-c2c6-494f-d8ad-8275ae75f805"
   },
   "outputs": [
    {
     "data": {
      "text/html": [
       "<div>\n",
       "<style scoped>\n",
       "    .dataframe tbody tr th:only-of-type {\n",
       "        vertical-align: middle;\n",
       "    }\n",
       "\n",
       "    .dataframe tbody tr th {\n",
       "        vertical-align: top;\n",
       "    }\n",
       "\n",
       "    .dataframe thead th {\n",
       "        text-align: right;\n",
       "    }\n",
       "</style>\n",
       "<table border=\"1\" class=\"dataframe\">\n",
       "  <thead>\n",
       "    <tr style=\"text-align: right;\">\n",
       "      <th></th>\n",
       "      <th>CustomerID</th>\n",
       "      <th>Gasto</th>\n",
       "      <th>Frequencia</th>\n",
       "    </tr>\n",
       "  </thead>\n",
       "  <tbody>\n",
       "    <tr>\n",
       "      <th>0</th>\n",
       "      <td>12346.0</td>\n",
       "      <td>0.00</td>\n",
       "      <td>2</td>\n",
       "    </tr>\n",
       "    <tr>\n",
       "      <th>1</th>\n",
       "      <td>12347.0</td>\n",
       "      <td>4310.00</td>\n",
       "      <td>182</td>\n",
       "    </tr>\n",
       "    <tr>\n",
       "      <th>2</th>\n",
       "      <td>12348.0</td>\n",
       "      <td>1797.24</td>\n",
       "      <td>31</td>\n",
       "    </tr>\n",
       "    <tr>\n",
       "      <th>3</th>\n",
       "      <td>12349.0</td>\n",
       "      <td>1757.55</td>\n",
       "      <td>73</td>\n",
       "    </tr>\n",
       "    <tr>\n",
       "      <th>4</th>\n",
       "      <td>12350.0</td>\n",
       "      <td>334.40</td>\n",
       "      <td>17</td>\n",
       "    </tr>\n",
       "  </tbody>\n",
       "</table>\n",
       "</div>"
      ],
      "text/plain": [
       "   CustomerID    Gasto  Frequencia\n",
       "0     12346.0     0.00           2\n",
       "1     12347.0  4310.00         182\n",
       "2     12348.0  1797.24          31\n",
       "3     12349.0  1757.55          73\n",
       "4     12350.0   334.40          17"
      ]
     },
     "execution_count": 16,
     "metadata": {},
     "output_type": "execute_result"
    }
   ],
   "source": [
    "#Unimos rfm_m y rfm_f\n",
    "rfm = pd.merge(rfm_m, rfm_f, on='CustomerID', how='inner')\n",
    "rfm.head()"
   ]
  },
  {
   "cell_type": "code",
   "execution_count": 18,
   "metadata": {
    "executionInfo": {
     "elapsed": 355,
     "status": "ok",
     "timestamp": 1629496632564,
     "user": {
      "displayName": "ANA GEORGINA FLESIA",
      "photoUrl": "https://lh3.googleusercontent.com/a-/AOh14GhEzdrRs7t9rM7bZMeG13bgILnDQQBYsSPcsT4=s64",
      "userId": "06600501239941405182"
     },
     "user_tz": 180
    },
    "id": "GFKbL6cMLvj9"
   },
   "outputs": [
    {
     "ename": "ValueError",
     "evalue": "time data '12/1/10 8:26' does not match format '%d-%m-%Y %H:%M' (match)",
     "output_type": "error",
     "traceback": [
      "\u001b[0;31m---------------------------------------------------------------------------\u001b[0m",
      "\u001b[0;31mTypeError\u001b[0m                                 Traceback (most recent call last)",
      "\u001b[0;32m~/anaconda3/lib/python3.7/site-packages/pandas/core/tools/datetimes.py\u001b[0m in \u001b[0;36m_convert_listlike_datetimes\u001b[0;34m(arg, format, name, tz, unit, errors, infer_datetime_format, dayfirst, yearfirst, exact)\u001b[0m\n\u001b[1;32m    449\u001b[0m             \u001b[0;32mtry\u001b[0m\u001b[0;34m:\u001b[0m\u001b[0;34m\u001b[0m\u001b[0;34m\u001b[0m\u001b[0m\n\u001b[0;32m--> 450\u001b[0;31m                 \u001b[0mvalues\u001b[0m\u001b[0;34m,\u001b[0m \u001b[0mtz\u001b[0m \u001b[0;34m=\u001b[0m \u001b[0mconversion\u001b[0m\u001b[0;34m.\u001b[0m\u001b[0mdatetime_to_datetime64\u001b[0m\u001b[0;34m(\u001b[0m\u001b[0marg\u001b[0m\u001b[0;34m)\u001b[0m\u001b[0;34m\u001b[0m\u001b[0;34m\u001b[0m\u001b[0m\n\u001b[0m\u001b[1;32m    451\u001b[0m                 \u001b[0mdta\u001b[0m \u001b[0;34m=\u001b[0m \u001b[0mDatetimeArray\u001b[0m\u001b[0;34m(\u001b[0m\u001b[0mvalues\u001b[0m\u001b[0;34m,\u001b[0m \u001b[0mdtype\u001b[0m\u001b[0;34m=\u001b[0m\u001b[0mtz_to_dtype\u001b[0m\u001b[0;34m(\u001b[0m\u001b[0mtz\u001b[0m\u001b[0;34m)\u001b[0m\u001b[0;34m)\u001b[0m\u001b[0;34m\u001b[0m\u001b[0;34m\u001b[0m\u001b[0m\n",
      "\u001b[0;32mpandas/_libs/tslibs/conversion.pyx\u001b[0m in \u001b[0;36mpandas._libs.tslibs.conversion.datetime_to_datetime64\u001b[0;34m()\u001b[0m\n",
      "\u001b[0;31mTypeError\u001b[0m: Unrecognized value type: <class 'str'>",
      "\nDuring handling of the above exception, another exception occurred:\n",
      "\u001b[0;31mValueError\u001b[0m                                Traceback (most recent call last)",
      "\u001b[0;32m<ipython-input-18-262a55089ee8>\u001b[0m in \u001b[0;36m<module>\u001b[0;34m\u001b[0m\n\u001b[1;32m      2\u001b[0m \u001b[0;31m# Convertimos la variable fecha al tipo de datos apropiados\u001b[0m\u001b[0;34m\u001b[0m\u001b[0;34m\u001b[0m\u001b[0;34m\u001b[0m\u001b[0m\n\u001b[1;32m      3\u001b[0m \u001b[0;34m\u001b[0m\u001b[0m\n\u001b[0;32m----> 4\u001b[0;31m \u001b[0mretail\u001b[0m\u001b[0;34m[\u001b[0m\u001b[0;34m'InvoiceDate'\u001b[0m\u001b[0;34m]\u001b[0m \u001b[0;34m=\u001b[0m \u001b[0mpd\u001b[0m\u001b[0;34m.\u001b[0m\u001b[0mto_datetime\u001b[0m\u001b[0;34m(\u001b[0m\u001b[0mretail\u001b[0m\u001b[0;34m[\u001b[0m\u001b[0;34m'InvoiceDate'\u001b[0m\u001b[0;34m]\u001b[0m\u001b[0;34m,\u001b[0m\u001b[0mformat\u001b[0m\u001b[0;34m=\u001b[0m\u001b[0;34m'%d-%m-%Y %H:%M'\u001b[0m\u001b[0;34m)\u001b[0m\u001b[0;34m\u001b[0m\u001b[0;34m\u001b[0m\u001b[0m\n\u001b[0m",
      "\u001b[0;32m~/anaconda3/lib/python3.7/site-packages/pandas/core/tools/datetimes.py\u001b[0m in \u001b[0;36mto_datetime\u001b[0;34m(arg, errors, dayfirst, yearfirst, utc, format, exact, unit, infer_datetime_format, origin, cache)\u001b[0m\n\u001b[1;32m    797\u001b[0m                 \u001b[0mresult\u001b[0m \u001b[0;34m=\u001b[0m \u001b[0mresult\u001b[0m\u001b[0;34m.\u001b[0m\u001b[0mtz_localize\u001b[0m\u001b[0;34m(\u001b[0m\u001b[0mtz\u001b[0m\u001b[0;34m)\u001b[0m\u001b[0;34m\u001b[0m\u001b[0;34m\u001b[0m\u001b[0m\n\u001b[1;32m    798\u001b[0m     \u001b[0;32melif\u001b[0m \u001b[0misinstance\u001b[0m\u001b[0;34m(\u001b[0m\u001b[0marg\u001b[0m\u001b[0;34m,\u001b[0m \u001b[0mABCSeries\u001b[0m\u001b[0;34m)\u001b[0m\u001b[0;34m:\u001b[0m\u001b[0;34m\u001b[0m\u001b[0;34m\u001b[0m\u001b[0m\n\u001b[0;32m--> 799\u001b[0;31m         \u001b[0mcache_array\u001b[0m \u001b[0;34m=\u001b[0m \u001b[0m_maybe_cache\u001b[0m\u001b[0;34m(\u001b[0m\u001b[0marg\u001b[0m\u001b[0;34m,\u001b[0m \u001b[0mformat\u001b[0m\u001b[0;34m,\u001b[0m \u001b[0mcache\u001b[0m\u001b[0;34m,\u001b[0m \u001b[0mconvert_listlike\u001b[0m\u001b[0;34m)\u001b[0m\u001b[0;34m\u001b[0m\u001b[0;34m\u001b[0m\u001b[0m\n\u001b[0m\u001b[1;32m    800\u001b[0m         \u001b[0;32mif\u001b[0m \u001b[0;32mnot\u001b[0m \u001b[0mcache_array\u001b[0m\u001b[0;34m.\u001b[0m\u001b[0mempty\u001b[0m\u001b[0;34m:\u001b[0m\u001b[0;34m\u001b[0m\u001b[0;34m\u001b[0m\u001b[0m\n\u001b[1;32m    801\u001b[0m             \u001b[0mresult\u001b[0m \u001b[0;34m=\u001b[0m \u001b[0marg\u001b[0m\u001b[0;34m.\u001b[0m\u001b[0mmap\u001b[0m\u001b[0;34m(\u001b[0m\u001b[0mcache_array\u001b[0m\u001b[0;34m)\u001b[0m\u001b[0;34m\u001b[0m\u001b[0;34m\u001b[0m\u001b[0m\n",
      "\u001b[0;32m~/anaconda3/lib/python3.7/site-packages/pandas/core/tools/datetimes.py\u001b[0m in \u001b[0;36m_maybe_cache\u001b[0;34m(arg, format, cache, convert_listlike)\u001b[0m\n\u001b[1;32m    168\u001b[0m         \u001b[0munique_dates\u001b[0m \u001b[0;34m=\u001b[0m \u001b[0munique\u001b[0m\u001b[0;34m(\u001b[0m\u001b[0marg\u001b[0m\u001b[0;34m)\u001b[0m\u001b[0;34m\u001b[0m\u001b[0;34m\u001b[0m\u001b[0m\n\u001b[1;32m    169\u001b[0m         \u001b[0;32mif\u001b[0m \u001b[0mlen\u001b[0m\u001b[0;34m(\u001b[0m\u001b[0munique_dates\u001b[0m\u001b[0;34m)\u001b[0m \u001b[0;34m<\u001b[0m \u001b[0mlen\u001b[0m\u001b[0;34m(\u001b[0m\u001b[0marg\u001b[0m\u001b[0;34m)\u001b[0m\u001b[0;34m:\u001b[0m\u001b[0;34m\u001b[0m\u001b[0;34m\u001b[0m\u001b[0m\n\u001b[0;32m--> 170\u001b[0;31m             \u001b[0mcache_dates\u001b[0m \u001b[0;34m=\u001b[0m \u001b[0mconvert_listlike\u001b[0m\u001b[0;34m(\u001b[0m\u001b[0munique_dates\u001b[0m\u001b[0;34m,\u001b[0m \u001b[0mformat\u001b[0m\u001b[0;34m)\u001b[0m\u001b[0;34m\u001b[0m\u001b[0;34m\u001b[0m\u001b[0m\n\u001b[0m\u001b[1;32m    171\u001b[0m             \u001b[0mcache_array\u001b[0m \u001b[0;34m=\u001b[0m \u001b[0mSeries\u001b[0m\u001b[0;34m(\u001b[0m\u001b[0mcache_dates\u001b[0m\u001b[0;34m,\u001b[0m \u001b[0mindex\u001b[0m\u001b[0;34m=\u001b[0m\u001b[0munique_dates\u001b[0m\u001b[0;34m)\u001b[0m\u001b[0;34m\u001b[0m\u001b[0;34m\u001b[0m\u001b[0m\n\u001b[1;32m    172\u001b[0m     \u001b[0;32mreturn\u001b[0m \u001b[0mcache_array\u001b[0m\u001b[0;34m\u001b[0m\u001b[0;34m\u001b[0m\u001b[0m\n",
      "\u001b[0;32m~/anaconda3/lib/python3.7/site-packages/pandas/core/tools/datetimes.py\u001b[0m in \u001b[0;36m_convert_listlike_datetimes\u001b[0;34m(arg, format, name, tz, unit, errors, infer_datetime_format, dayfirst, yearfirst, exact)\u001b[0m\n\u001b[1;32m    452\u001b[0m                 \u001b[0;32mreturn\u001b[0m \u001b[0mDatetimeIndex\u001b[0m\u001b[0;34m.\u001b[0m\u001b[0m_simple_new\u001b[0m\u001b[0;34m(\u001b[0m\u001b[0mdta\u001b[0m\u001b[0;34m,\u001b[0m \u001b[0mname\u001b[0m\u001b[0;34m=\u001b[0m\u001b[0mname\u001b[0m\u001b[0;34m)\u001b[0m\u001b[0;34m\u001b[0m\u001b[0;34m\u001b[0m\u001b[0m\n\u001b[1;32m    453\u001b[0m             \u001b[0;32mexcept\u001b[0m \u001b[0;34m(\u001b[0m\u001b[0mValueError\u001b[0m\u001b[0;34m,\u001b[0m \u001b[0mTypeError\u001b[0m\u001b[0;34m)\u001b[0m\u001b[0;34m:\u001b[0m\u001b[0;34m\u001b[0m\u001b[0;34m\u001b[0m\u001b[0m\n\u001b[0;32m--> 454\u001b[0;31m                 \u001b[0;32mraise\u001b[0m \u001b[0me\u001b[0m\u001b[0;34m\u001b[0m\u001b[0;34m\u001b[0m\u001b[0m\n\u001b[0m\u001b[1;32m    455\u001b[0m \u001b[0;34m\u001b[0m\u001b[0m\n\u001b[1;32m    456\u001b[0m     \u001b[0;32mif\u001b[0m \u001b[0mresult\u001b[0m \u001b[0;32mis\u001b[0m \u001b[0;32mNone\u001b[0m\u001b[0;34m:\u001b[0m\u001b[0;34m\u001b[0m\u001b[0;34m\u001b[0m\u001b[0m\n",
      "\u001b[0;32m~/anaconda3/lib/python3.7/site-packages/pandas/core/tools/datetimes.py\u001b[0m in \u001b[0;36m_convert_listlike_datetimes\u001b[0;34m(arg, format, name, tz, unit, errors, infer_datetime_format, dayfirst, yearfirst, exact)\u001b[0m\n\u001b[1;32m    416\u001b[0m                 \u001b[0;32mtry\u001b[0m\u001b[0;34m:\u001b[0m\u001b[0;34m\u001b[0m\u001b[0;34m\u001b[0m\u001b[0m\n\u001b[1;32m    417\u001b[0m                     result, timezones = array_strptime(\n\u001b[0;32m--> 418\u001b[0;31m                         \u001b[0marg\u001b[0m\u001b[0;34m,\u001b[0m \u001b[0mformat\u001b[0m\u001b[0;34m,\u001b[0m \u001b[0mexact\u001b[0m\u001b[0;34m=\u001b[0m\u001b[0mexact\u001b[0m\u001b[0;34m,\u001b[0m \u001b[0merrors\u001b[0m\u001b[0;34m=\u001b[0m\u001b[0merrors\u001b[0m\u001b[0;34m\u001b[0m\u001b[0;34m\u001b[0m\u001b[0m\n\u001b[0m\u001b[1;32m    419\u001b[0m                     )\n\u001b[1;32m    420\u001b[0m                     \u001b[0;32mif\u001b[0m \u001b[0;34m\"%Z\"\u001b[0m \u001b[0;32min\u001b[0m \u001b[0mformat\u001b[0m \u001b[0;32mor\u001b[0m \u001b[0;34m\"%z\"\u001b[0m \u001b[0;32min\u001b[0m \u001b[0mformat\u001b[0m\u001b[0;34m:\u001b[0m\u001b[0;34m\u001b[0m\u001b[0;34m\u001b[0m\u001b[0m\n",
      "\u001b[0;32mpandas/_libs/tslibs/strptime.pyx\u001b[0m in \u001b[0;36mpandas._libs.tslibs.strptime.array_strptime\u001b[0;34m()\u001b[0m\n",
      "\u001b[0;31mValueError\u001b[0m: time data '12/1/10 8:26' does not match format '%d-%m-%Y %H:%M' (match)"
     ]
    }
   ],
   "source": [
    "# Creamos la variable Dias. \n",
    "# Convertimos la variable fecha al tipo de datos apropiados\n",
    "\n",
    "retail['InvoiceDate'] = pd.to_datetime(retail['InvoiceDate'],format='%d-%m-%Y %H:%M')"
   ]
  },
  {
   "cell_type": "code",
   "execution_count": null,
   "metadata": {
    "colab": {
     "base_uri": "https://localhost:8080/"
    },
    "executionInfo": {
     "elapsed": 1326,
     "status": "ok",
     "timestamp": 1629496637195,
     "user": {
      "displayName": "ANA GEORGINA FLESIA",
      "photoUrl": "https://lh3.googleusercontent.com/a-/AOh14GhEzdrRs7t9rM7bZMeG13bgILnDQQBYsSPcsT4=s64",
      "userId": "06600501239941405182"
     },
     "user_tz": 180
    },
    "id": "iw41Ijip_-Pf",
    "outputId": "1e0b6fa2-3512-4f2b-bdfe-e5b77f63d4e1"
   },
   "outputs": [],
   "source": [
    "#Calculamos la fecha máxima para conocer la fecha de la última transacción\n",
    "max_date = max(retail['InvoiceDate'])\n",
    "max_date"
   ]
  },
  {
   "cell_type": "code",
   "execution_count": null,
   "metadata": {
    "colab": {
     "base_uri": "https://localhost:8080/",
     "height": 287
    },
    "executionInfo": {
     "elapsed": 387,
     "status": "ok",
     "timestamp": 1629496639480,
     "user": {
      "displayName": "ANA GEORGINA FLESIA",
      "photoUrl": "https://lh3.googleusercontent.com/a-/AOh14GhEzdrRs7t9rM7bZMeG13bgILnDQQBYsSPcsT4=s64",
      "userId": "06600501239941405182"
     },
     "user_tz": 180
    },
    "id": "VMYJtkKgAUsY",
    "outputId": "abeba9cb-4641-40eb-d06d-2bf77bccdd26"
   },
   "outputs": [],
   "source": [
    "#Calculamos la diferencia entre la fecha máxima y la fecha de la transacción\n",
    "retail['Dias'] = max_date - retail['InvoiceDate']\n",
    "retail.head()"
   ]
  },
  {
   "cell_type": "code",
   "execution_count": null,
   "metadata": {
    "colab": {
     "base_uri": "https://localhost:8080/",
     "height": 203
    },
    "executionInfo": {
     "elapsed": 255,
     "status": "ok",
     "timestamp": 1629496643442,
     "user": {
      "displayName": "ANA GEORGINA FLESIA",
      "photoUrl": "https://lh3.googleusercontent.com/a-/AOh14GhEzdrRs7t9rM7bZMeG13bgILnDQQBYsSPcsT4=s64",
      "userId": "06600501239941405182"
     },
     "user_tz": 180
    },
    "id": "eua-yD_vBXVQ",
    "outputId": "e86e3547-0960-4050-c3e1-37778b89665c"
   },
   "outputs": [],
   "source": [
    "#Calculamos la fecha de la última transacción para obtener la antigüedad de los clientes\n",
    "rfm_p = retail.groupby('CustomerID')['Dias'].min()\n",
    "rfm_p = rfm_p.reset_index()\n",
    "rfm_p.head()"
   ]
  },
  {
   "cell_type": "code",
   "execution_count": null,
   "metadata": {
    "colab": {
     "base_uri": "https://localhost:8080/",
     "height": 203
    },
    "executionInfo": {
     "elapsed": 251,
     "status": "ok",
     "timestamp": 1629496646717,
     "user": {
      "displayName": "ANA GEORGINA FLESIA",
      "photoUrl": "https://lh3.googleusercontent.com/a-/AOh14GhEzdrRs7t9rM7bZMeG13bgILnDQQBYsSPcsT4=s64",
      "userId": "06600501239941405182"
     },
     "user_tz": 180
    },
    "id": "w_aO-yuWBpw8",
    "outputId": "abf85f9b-98be-4906-9e99-0e8b12f31afb"
   },
   "outputs": [],
   "source": [
    "#Extraemos el número de días\n",
    "rfm_p['Dias'] = rfm_p['Dias'].dt.days\n",
    "rfm_p.head()"
   ]
  },
  {
   "cell_type": "code",
   "execution_count": null,
   "metadata": {
    "colab": {
     "base_uri": "https://localhost:8080/",
     "height": 203
    },
    "executionInfo": {
     "elapsed": 245,
     "status": "ok",
     "timestamp": 1629496660704,
     "user": {
      "displayName": "ANA GEORGINA FLESIA",
      "photoUrl": "https://lh3.googleusercontent.com/a-/AOh14GhEzdrRs7t9rM7bZMeG13bgILnDQQBYsSPcsT4=s64",
      "userId": "06600501239941405182"
     },
     "user_tz": 180
    },
    "id": "DznWPsV_ESxJ",
    "outputId": "102e2a06-4555-47fc-d65b-a98faab2f60c"
   },
   "outputs": [],
   "source": [
    "#Unimos para obtener la base final\n",
    "rfm = pd.merge(rfm, rfm_p, on='CustomerID', how='inner')\n",
    "rfm.columns = ['CustomerID', 'Gasto', 'Frequencia', 'Dias']\n",
    "rfm.head()"
   ]
  },
  {
   "cell_type": "code",
   "execution_count": null,
   "metadata": {
    "executionInfo": {
     "elapsed": 248,
     "status": "ok",
     "timestamp": 1629496673359,
     "user": {
      "displayName": "ANA GEORGINA FLESIA",
      "photoUrl": "https://lh3.googleusercontent.com/a-/AOh14GhEzdrRs7t9rM7bZMeG13bgILnDQQBYsSPcsT4=s64",
      "userId": "06600501239941405182"
     },
     "user_tz": 180
    },
    "id": "EfCIHkCgMQcv"
   },
   "outputs": [],
   "source": [
    "# Eliminamos los valores atípicos de Gasto\n",
    "Q1 = rfm.Gasto.quantile(0.05)\n",
    "Q3 = rfm.Gasto.quantile(0.95)\n",
    "IQR = Q3 - Q1\n",
    "rfm = rfm[(rfm.Gasto >= Q1 - 1.5*IQR) & (rfm.Gasto <= Q3 + 1.5*IQR)]\n",
    "\n",
    "# Eliminamos los valores atípicos de Dias\n",
    "Q1 = rfm.Dias.quantile(0.05)\n",
    "Q3 = rfm.Dias.quantile(0.95)\n",
    "IQR = Q3 - Q1\n",
    "rfm = rfm[(rfm.Dias >= Q1 - 1.5*IQR) & (rfm.Dias <= Q3 + 1.5*IQR)]\n",
    "\n",
    "# Eliminamos los valores atípicos de la Frecuencia\n",
    "Q1 = rfm.Frequencia.quantile(0.05)\n",
    "Q3 = rfm.Frequencia.quantile(0.95)\n",
    "IQR = Q3 - Q1\n",
    "rfm = rfm[(rfm.Frequencia >= Q1 - 1.5*IQR) & (rfm.Frequencia <= Q3 + 1.5*IQR)]"
   ]
  },
  {
   "cell_type": "code",
   "execution_count": null,
   "metadata": {
    "colab": {
     "base_uri": "https://localhost:8080/"
    },
    "executionInfo": {
     "elapsed": 300,
     "status": "ok",
     "timestamp": 1629496681160,
     "user": {
      "displayName": "ANA GEORGINA FLESIA",
      "photoUrl": "https://lh3.googleusercontent.com/a-/AOh14GhEzdrRs7t9rM7bZMeG13bgILnDQQBYsSPcsT4=s64",
      "userId": "06600501239941405182"
     },
     "user_tz": 180
    },
    "id": "EO9AjA5kGAkS",
    "outputId": "683d41ef-917e-4ece-b6d0-143223afde8b"
   },
   "outputs": [],
   "source": [
    "#Estandarizamos los valores\n",
    "\n",
    "rfm_df = rfm[['Gasto', 'Frequencia', 'Dias']]\n",
    "\n",
    "scaler = StandardScaler()\n",
    "\n",
    "rfm_df_scaled = scaler.fit_transform(rfm_df)\n",
    "rfm_df_scaled.shape"
   ]
  },
  {
   "cell_type": "code",
   "execution_count": null,
   "metadata": {
    "colab": {
     "base_uri": "https://localhost:8080/",
     "height": 203
    },
    "executionInfo": {
     "elapsed": 248,
     "status": "ok",
     "timestamp": 1629496683931,
     "user": {
      "displayName": "ANA GEORGINA FLESIA",
      "photoUrl": "https://lh3.googleusercontent.com/a-/AOh14GhEzdrRs7t9rM7bZMeG13bgILnDQQBYsSPcsT4=s64",
      "userId": "06600501239941405182"
     },
     "user_tz": 180
    },
    "id": "kS9mco7BtG_t",
    "outputId": "fa208a96-0b72-4a41-baf2-c97447052032"
   },
   "outputs": [],
   "source": [
    "rfm_df_scaled = pd.DataFrame(rfm_df_scaled)\n",
    "rfm_df_scaled.columns = ['Gasto', 'Frequencia', 'Dias']\n",
    "rfm_df_scaled.head()"
   ]
  },
  {
   "cell_type": "code",
   "execution_count": null,
   "metadata": {
    "colab": {
     "base_uri": "https://localhost:8080/",
     "height": 268
    },
    "executionInfo": {
     "elapsed": 97896,
     "status": "ok",
     "timestamp": 1629496785025,
     "user": {
      "displayName": "ANA GEORGINA FLESIA",
      "photoUrl": "https://lh3.googleusercontent.com/a-/AOh14GhEzdrRs7t9rM7bZMeG13bgILnDQQBYsSPcsT4=s64",
      "userId": "06600501239941405182"
     },
     "user_tz": 180
    },
    "id": "3uvGMPyMtn_U",
    "outputId": "68010c38-6d56-43c8-8d69-3e7e97f78c91"
   },
   "outputs": [],
   "source": [
    "#Método de Ward\n",
    "mergings = linkage(rfm_df_scaled, method=\"ward\", metric='euclidean')\n",
    "dendrogram(mergings)\n",
    "plt.show()"
   ]
  },
  {
   "cell_type": "code",
   "execution_count": null,
   "metadata": {
    "colab": {
     "base_uri": "https://localhost:8080/",
     "height": 282
    },
    "executionInfo": {
     "elapsed": 1984,
     "status": "ok",
     "timestamp": 1629496793006,
     "user": {
      "displayName": "ANA GEORGINA FLESIA",
      "photoUrl": "https://lh3.googleusercontent.com/a-/AOh14GhEzdrRs7t9rM7bZMeG13bgILnDQQBYsSPcsT4=s64",
      "userId": "06600501239941405182"
     },
     "user_tz": 180
    },
    "id": "4HJHj_z_1eP5",
    "outputId": "62a1a74e-8b33-46d5-c605-f2a72e370815"
   },
   "outputs": [],
   "source": [
    "# Elbow\n",
    "\n",
    "ssd = []\n",
    "range_n_clusters = [2, 3, 4, 5, 6, 7, 8]\n",
    "for num_clusters in range_n_clusters:\n",
    "    kmeans = KMeans(n_clusters=num_clusters, max_iter=50)\n",
    "    kmeans.fit(rfm_df_scaled)\n",
    "    \n",
    "    ssd.append(kmeans.inertia_)\n",
    "    \n",
    "# Gráfico\n",
    "plt.plot(ssd)"
   ]
  },
  {
   "cell_type": "code",
   "execution_count": null,
   "metadata": {
    "colab": {
     "base_uri": "https://localhost:8080/"
    },
    "executionInfo": {
     "elapsed": 4451,
     "status": "ok",
     "timestamp": 1629496804856,
     "user": {
      "displayName": "ANA GEORGINA FLESIA",
      "photoUrl": "https://lh3.googleusercontent.com/a-/AOh14GhEzdrRs7t9rM7bZMeG13bgILnDQQBYsSPcsT4=s64",
      "userId": "06600501239941405182"
     },
     "user_tz": 180
    },
    "id": "baHOwnntDy0A",
    "outputId": "e50e5be4-9257-4a68-c81e-4efc7da3a0ee"
   },
   "outputs": [],
   "source": [
    "# Cálculo de Si\n",
    "range_n_clusters = [2, 3, 4, 5, 6, 7, 8]\n",
    "\n",
    "for num_clusters in range_n_clusters:\n",
    "    \n",
    "    # intialise kmeans\n",
    "    kmeans = KMeans(n_clusters=num_clusters, max_iter=50)\n",
    "    kmeans.fit(rfm_df_scaled)\n",
    "    \n",
    "    cluster_labels = kmeans.labels_\n",
    "    \n",
    "    # silhouette score\n",
    "    silhouette_avg = silhouette_score(rfm_df_scaled, cluster_labels)\n",
    "    print(\"For n_clusters={0}, the silhouette score is {1}\".format(num_clusters, silhouette_avg))"
   ]
  },
  {
   "cell_type": "code",
   "execution_count": null,
   "metadata": {
    "colab": {
     "base_uri": "https://localhost:8080/"
    },
    "executionInfo": {
     "elapsed": 250,
     "status": "ok",
     "timestamp": 1629496823787,
     "user": {
      "displayName": "ANA GEORGINA FLESIA",
      "photoUrl": "https://lh3.googleusercontent.com/a-/AOh14GhEzdrRs7t9rM7bZMeG13bgILnDQQBYsSPcsT4=s64",
      "userId": "06600501239941405182"
     },
     "user_tz": 180
    },
    "id": "T4oioeJ7J6YB",
    "outputId": "3a2379ae-c5e3-48d8-9908-6e0f7e9b0c00"
   },
   "outputs": [],
   "source": [
    "# Modelo final k=3\n",
    "kmeans = KMeans(n_clusters=3, max_iter=50)\n",
    "kmeans.fit(rfm_df_scaled)"
   ]
  },
  {
   "cell_type": "code",
   "execution_count": null,
   "metadata": {
    "colab": {
     "base_uri": "https://localhost:8080/",
     "height": 203
    },
    "executionInfo": {
     "elapsed": 252,
     "status": "ok",
     "timestamp": 1629496827261,
     "user": {
      "displayName": "ANA GEORGINA FLESIA",
      "photoUrl": "https://lh3.googleusercontent.com/a-/AOh14GhEzdrRs7t9rM7bZMeG13bgILnDQQBYsSPcsT4=s64",
      "userId": "06600501239941405182"
     },
     "user_tz": 180
    },
    "id": "5bEk3YjpJ7ES",
    "outputId": "68ba75c9-62ab-4eda-8c4f-8bdc3cd305af"
   },
   "outputs": [],
   "source": [
    "rfm['Cluster_Id'] = kmeans.labels_\n",
    "rfm.head()"
   ]
  },
  {
   "cell_type": "code",
   "execution_count": null,
   "metadata": {
    "colab": {
     "base_uri": "https://localhost:8080/",
     "height": 297
    },
    "executionInfo": {
     "elapsed": 521,
     "status": "ok",
     "timestamp": 1629496830605,
     "user": {
      "displayName": "ANA GEORGINA FLESIA",
      "photoUrl": "https://lh3.googleusercontent.com/a-/AOh14GhEzdrRs7t9rM7bZMeG13bgILnDQQBYsSPcsT4=s64",
      "userId": "06600501239941405182"
     },
     "user_tz": 180
    },
    "id": "w06wiu3YLyt7",
    "outputId": "ce8825e0-fc87-4ded-b71e-5d7cabea3035"
   },
   "outputs": [],
   "source": [
    "# Box plot Gasto\n",
    "\n",
    "sns.boxplot(x='Cluster_Id', y='Gasto', data=rfm)"
   ]
  },
  {
   "cell_type": "code",
   "execution_count": null,
   "metadata": {
    "colab": {
     "base_uri": "https://localhost:8080/",
     "height": 297
    },
    "executionInfo": {
     "elapsed": 267,
     "status": "ok",
     "timestamp": 1629496833859,
     "user": {
      "displayName": "ANA GEORGINA FLESIA",
      "photoUrl": "https://lh3.googleusercontent.com/a-/AOh14GhEzdrRs7t9rM7bZMeG13bgILnDQQBYsSPcsT4=s64",
      "userId": "06600501239941405182"
     },
     "user_tz": 180
    },
    "id": "LwRzOPXFQeWR",
    "outputId": "d9d28b96-c89a-4056-8587-40a69dcbb536"
   },
   "outputs": [],
   "source": [
    "# Box plot Cluster Frequencia\n",
    "\n",
    "sns.boxplot(x='Cluster_Id', y='Frequencia', data=rfm)"
   ]
  },
  {
   "cell_type": "code",
   "execution_count": null,
   "metadata": {
    "colab": {
     "base_uri": "https://localhost:8080/",
     "height": 297
    },
    "executionInfo": {
     "elapsed": 272,
     "status": "ok",
     "timestamp": 1629496836674,
     "user": {
      "displayName": "ANA GEORGINA FLESIA",
      "photoUrl": "https://lh3.googleusercontent.com/a-/AOh14GhEzdrRs7t9rM7bZMeG13bgILnDQQBYsSPcsT4=s64",
      "userId": "06600501239941405182"
     },
     "user_tz": 180
    },
    "id": "7DTX3MsWQmJe",
    "outputId": "8225c150-1378-442b-a78b-6697028ea877"
   },
   "outputs": [],
   "source": [
    "# Box plot Días\n",
    "sns.boxplot(x='Cluster_Id', y='Dias', data=rfm)"
   ]
  },
  {
   "cell_type": "markdown",
   "metadata": {
    "id": "TCLk-GJJ_sJm"
   },
   "source": [
    "Los clientes del Cluster 1 son los clientes con una gran cantidad de transacciones en comparación con otros clientes. Su gasto es superior al de otros clientes ya que son compradores frecuentes. \n",
    "Los clientes del Cluster 2 no son compradores frecuentes y su última compra fue hace más tiempo, por lo tanto, son los menos importantes desde el punto de vista comercial. \n",
    "Los clientes del Cluster 0 realizaron su compra más recientemente pero tienen poca frecuencia de compra.\n"
   ]
  },
  {
   "cell_type": "code",
   "execution_count": null,
   "metadata": {
    "id": "iusXl4SHSjb2"
   },
   "outputs": [],
   "source": []
  },
  {
   "cell_type": "markdown",
   "metadata": {
    "id": "4dCM7rIqZfcu"
   },
   "source": [
    "Como actividad puede realizar los dendogramas con otros métodos de aglomeración. También ajuste k means con 2 grupos y analice.\n"
   ]
  }
 ],
 "metadata": {
  "colab": {
   "name": "Online (4).ipynb",
   "provenance": []
  },
  "kernelspec": {
   "display_name": "Python 3",
   "language": "python",
   "name": "python3"
  },
  "language_info": {
   "codemirror_mode": {
    "name": "ipython",
    "version": 3
   },
   "file_extension": ".py",
   "mimetype": "text/x-python",
   "name": "python",
   "nbconvert_exporter": "python",
   "pygments_lexer": "ipython3",
   "version": "3.7.3"
  }
 },
 "nbformat": 4,
 "nbformat_minor": 1
}
