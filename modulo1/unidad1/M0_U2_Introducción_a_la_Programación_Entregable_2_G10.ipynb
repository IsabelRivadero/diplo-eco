{
  "nbformat": 4,
  "nbformat_minor": 0,
  "metadata": {
    "colab": {
      "name": "M0_U2_Introducción_a_la_Programación_Entregable_2 - G10.ipynb",
      "provenance": [],
      "collapsed_sections": [
        "mgqhxY2yCx6i"
      ],
      "toc_visible": true
    },
    "kernelspec": {
      "display_name": "Python 3",
      "language": "python",
      "name": "python3"
    },
    "language_info": {
      "codemirror_mode": {
        "name": "ipython",
        "version": 3
      },
      "file_extension": ".py",
      "mimetype": "text/x-python",
      "name": "python",
      "nbconvert_exporter": "python",
      "pygments_lexer": "ipython3",
      "version": "3.8.5"
    }
  },
  "cells": [
    {
      "cell_type": "markdown",
      "metadata": {
        "id": "7cUqukj4_P_A"
      },
      "source": [
        "![img](https://drive.google.com/uc?export=view&id=1kgX98Ziw9LzgBCT2BxChttfrTcBltLej)\n"
      ]
    },
    {
      "cell_type": "markdown",
      "metadata": {
        "id": "mgqhxY2yCx6i"
      },
      "source": [
        "# MÓDULO 0. Unidad 2 - Trabajo Práctico Entregable 2\n",
        "\n",
        "---\n",
        "\n",
        "> Aplicaciones integradoras de los contenidos aprendidos durante las 6 clases.\n",
        "\n",
        "\n"
      ]
    },
    {
      "cell_type": "markdown",
      "metadata": {
        "id": "O63cYKbC1ABf"
      },
      "source": [
        "# Introducción"
      ]
    },
    {
      "cell_type": "markdown",
      "metadata": {
        "id": "9wbTEd7pASze"
      },
      "source": [
        "En la siguiente notebook, se plantean una serie de problemas que deberán resolver con programas, utilizando las herramientas provistas durante el curso.\n",
        "\n",
        "**La fecha de entrega es el 4/06.**"
      ]
    },
    {
      "cell_type": "markdown",
      "metadata": {
        "id": "7q97dOd6BZN1"
      },
      "source": [
        "# 1- La Ruina del Apostador\n",
        "\n",
        "![stop](https://images.theconversation.com/files/189770/original/file-20171011-16678-1usvyrg.jpg?ixlib=rb-1.1.0&q=45&auto=format&w=926&fit=clip)\n",
        "\n",
        "La \"Ruina del Apostador\" (Gambler's Ruin) dice que una persona que juegue algún juego con un valor esperado negativo llegará a perder todo su dinero tarde o temprano, sin importar el sistema que use para apostar.\n",
        "\n",
        "Podemos hacer una simulación de este concepto en Python, usando la librería `random`.\n",
        "\n",
        "- Supongamos que comenzamos con 50 fichas (todas del mismo valor) y apostamos una ficha cada vez que jugamos.\n",
        "\n",
        "- Tenemos una probabilidad de 0.4 de ganar cada vez que jugamos (cómo podemos simular esto?). Si ganamos, tenemos una ficha más. Caso contrario, perdemos la ficha que apostamos.\n",
        "\n",
        "- En una noche se estima que podemos jugar este juego hasta 300 veces, pero si llegamos a tener 0 fichas ya no vamos a poder apostar en toda la noche.\n",
        "\n",
        "Crear un programa que simule nuestra noche de apuestas, que imprima en pantalla cuántas apuestas pudimos hacer antes de perder todo el dinero o si pudimos sobrevivir a las 300 apuestas.\n",
        "\n",
        "Para resolver el problema, crear una función que tenga como entradas la cantidad de fichas inicial, la probabilidad de victoria de cada juego y la cantidad máxima de veces que podemos jugar, que devuelva la cantidad de fichas con la que terminamos al final de la noche y la cantidad de apuestas que pudimos hacer.\n",
        "\n",
        "- Correr esta función 20 veces y obtener el valor medio de la cantidad de apuestas final.\n",
        "\n",
        "- Cuánto tiempo tarda cada simulación en ejecutarse? Imprimir en pantalla este tiempo cada vez que se corre la función."
      ]
    },
    {
      "cell_type": "code",
      "metadata": {
        "id": "lgPPWvo4FFab"
      },
      "source": [
        "import random \n",
        "import time"
      ],
      "execution_count": null,
      "outputs": []
    },
    {
      "cell_type": "code",
      "metadata": {
        "id": "Y8azq-62akRq",
        "outputId": "d74c6196-0510-4753-aef9-e0499e5a576d"
      },
      "source": [
        "def apuesta (fichas,probabilidad,cantidad_de_veces_que_apuesto):\n",
        "  cantidad_de_veces_que_apuesto = 0\n",
        "  while fichas > 0 and cantidad_de_veces_que_apuesto< 300:\n",
        "    cantidad_de_veces_que_apuesto = cantidad_de_veces_que_apuesto + 1\n",
        "    apuesta_individual =random.random()\n",
        "    #print (apuesta_individual)\n",
        "    if apuesta_individual < probabilidad:\n",
        "      fichas = fichas + 1  \n",
        "    else:\n",
        "      fichas = fichas - 1\n",
        "  if cantidad_de_veces_que_apuesto ==300:\n",
        "    print(\"Ganaste!!!\" )\n",
        "  if (fichas == 0):\n",
        "    print(\"En bancarrota\")\n",
        "  print(f\"Cantidad de apuestas {cantidad_de_veces_que_apuesto}\")\n",
        "  return (cantidad_de_veces_que_apuesto)\n",
        "\n",
        "fichas_inicial = 50\n",
        "probabilidad = 0.40\n",
        "jugadas_max = 300\n",
        "suma_apuestas= 0\n",
        "suma_tiempo= 0\n",
        "for i in range(20):\n",
        "    inicio = time.time()   \n",
        "    apuesta1 = apuesta (fichas_inicial,probabilidad,jugadas_max)\n",
        "    fin = time.time()\n",
        "    duracion = fin - inicio\n",
        "    print (\"La duracion de la ejecución de la función es:\", duracion)\n",
        "    print (\"-----------------------------------------------\")\n",
        "    suma_tiempo= suma_tiempo + duracion\n",
        "    suma_apuestas= suma_apuestas + apuesta1\n",
        "  #print (suma_apuestas)\n",
        "promedio_apuestas = suma_apuestas/20\n",
        "print (\"El Valor medio de la cantidad de apuestas es:\", promedio_apuestas)\n",
        "print (\"La simulación demora es correr:\", suma_tiempo)"
      ],
      "execution_count": null,
      "outputs": [
        {
          "output_type": "stream",
          "text": [
            "Ganaste!!!\n",
            "Cantidad de apuestas 300\n",
            "La duracion de la ejecución de la función es: 0.0\n",
            "-----------------------------------------------\n",
            "En bancarrota\n",
            "Cantidad de apuestas 280\n",
            "La duracion de la ejecución de la función es: 0.0\n",
            "-----------------------------------------------\n",
            "En bancarrota\n",
            "Cantidad de apuestas 202\n",
            "La duracion de la ejecución de la función es: 0.0\n",
            "-----------------------------------------------\n",
            "En bancarrota\n",
            "Cantidad de apuestas 282\n",
            "La duracion de la ejecución de la función es: 0.0\n",
            "-----------------------------------------------\n",
            "En bancarrota\n",
            "Cantidad de apuestas 276\n",
            "La duracion de la ejecución de la función es: 0.0005435943603515625\n",
            "-----------------------------------------------\n",
            "En bancarrota\n",
            "Cantidad de apuestas 206\n",
            "La duracion de la ejecución de la función es: 0.0\n",
            "-----------------------------------------------\n",
            "En bancarrota\n",
            "Cantidad de apuestas 174\n",
            "La duracion de la ejecución de la función es: 0.0\n",
            "-----------------------------------------------\n",
            "En bancarrota\n",
            "Cantidad de apuestas 174\n",
            "La duracion de la ejecución de la función es: 0.0\n",
            "-----------------------------------------------\n",
            "En bancarrota\n",
            "Cantidad de apuestas 270\n",
            "La duracion de la ejecución de la función es: 0.0\n",
            "-----------------------------------------------\n",
            "Ganaste!!!\n",
            "Cantidad de apuestas 300\n",
            "La duracion de la ejecución de la función es: 0.0\n",
            "-----------------------------------------------\n",
            "Ganaste!!!\n",
            "Cantidad de apuestas 300\n",
            "La duracion de la ejecución de la función es: 0.0\n",
            "-----------------------------------------------\n",
            "En bancarrota\n",
            "Cantidad de apuestas 198\n",
            "La duracion de la ejecución de la función es: 0.0\n",
            "-----------------------------------------------\n",
            "En bancarrota\n",
            "Cantidad de apuestas 266\n",
            "La duracion de la ejecución de la función es: 0.0\n",
            "-----------------------------------------------\n",
            "En bancarrota\n",
            "Cantidad de apuestas 266\n",
            "La duracion de la ejecución de la función es: 0.0\n",
            "-----------------------------------------------\n",
            "Ganaste!!!\n",
            "Cantidad de apuestas 300\n",
            "La duracion de la ejecución de la función es: 0.0\n",
            "-----------------------------------------------\n",
            "Ganaste!!!\n",
            "Cantidad de apuestas 300\n",
            "La duracion de la ejecución de la función es: 0.0\n",
            "-----------------------------------------------\n",
            "En bancarrota\n",
            "Cantidad de apuestas 142\n",
            "La duracion de la ejecución de la función es: 0.0\n",
            "-----------------------------------------------\n",
            "Ganaste!!!\n",
            "Cantidad de apuestas 300\n",
            "La duracion de la ejecución de la función es: 0.0067899227142333984\n",
            "-----------------------------------------------\n",
            "Ganaste!!!\n",
            "Cantidad de apuestas 300\n",
            "La duracion de la ejecución de la función es: 0.0\n",
            "-----------------------------------------------\n",
            "En bancarrota\n",
            "Cantidad de apuestas 210\n",
            "La duracion de la ejecución de la función es: 0.0\n",
            "-----------------------------------------------\n",
            "El Valor medio de la cantidad de apuestas es: 252.3\n",
            "La simulación demora es correr: 0.007333517074584961\n"
          ],
          "name": "stdout"
        }
      ]
    },
    {
      "cell_type": "markdown",
      "metadata": {
        "id": "8L6F_M5JtFnN"
      },
      "source": [
        "# 2- Precios de Acciones y Carteras de Inversión\n",
        "\n",
        "![investing](https://dfi.wa.gov/sites/default/files/investing-stocks-16x9.jpg)\n",
        "\n",
        "Parte del Análisis Cuantitativo en Finanzas depende de la creación de Carteras de Inversión mediante la prueba de estrategias con datos del pasado, la mayoría de ellos en forma de precios diarios de los activos en los que se quiere invertir.\n",
        "\n",
        "En este ejercicio vamos a realizar un análisis simple de acciones del mercado de USA y crear carteras de inversión \"aleatorias\" para ver cómo les fue durante el año 2020.\n",
        "\n",
        "Para eso, debemos conseguir un dataset y una manera sencilla de hacerlo es usando [Pandas DataReader](https://pandas-datareader.readthedocs.io/en/latest/index.html).\n",
        "\n",
        "Podemos instalar la librería directamente usando Conda (en nuestros entornos locales) o Pip (en Colab).\n",
        "\n",
        "`conda install -c anaconda pandas-datareader`\n",
        "\n",
        "`!pip install pandas-datareader`"
      ]
    },
    {
      "cell_type": "code",
      "metadata": {
        "id": "53GmbJC9akRs",
        "outputId": "6a9aa731-1a2e-43f8-ba13-95b29fefe13a"
      },
      "source": [
        "!pip install pandas-datareader"
      ],
      "execution_count": null,
      "outputs": [
        {
          "output_type": "stream",
          "text": [
            "Collecting pandas-datareader\n",
            "  Using cached pandas_datareader-0.9.0-py3-none-any.whl (107 kB)\n",
            "Requirement already satisfied: pandas>=0.23 in c:\\users\\jimal\\anaconda3\\lib\\site-packages (from pandas-datareader) (1.1.3)\n",
            "Requirement already satisfied: lxml in c:\\users\\jimal\\anaconda3\\lib\\site-packages (from pandas-datareader) (4.6.1)\n",
            "Requirement already satisfied: requests>=2.19.0 in c:\\users\\jimal\\anaconda3\\lib\\site-packages (from pandas-datareader) (2.24.0)\n",
            "Requirement already satisfied: pytz>=2017.2 in c:\\users\\jimal\\anaconda3\\lib\\site-packages (from pandas>=0.23->pandas-datareader) (2020.1)\n",
            "Requirement already satisfied: numpy>=1.15.4 in c:\\users\\jimal\\anaconda3\\lib\\site-packages (from pandas>=0.23->pandas-datareader) (1.19.2)\n",
            "Requirement already satisfied: python-dateutil>=2.7.3 in c:\\users\\jimal\\anaconda3\\lib\\site-packages (from pandas>=0.23->pandas-datareader) (2.8.1)\n",
            "Requirement already satisfied: urllib3!=1.25.0,!=1.25.1,<1.26,>=1.21.1 in c:\\users\\jimal\\anaconda3\\lib\\site-packages (from requests>=2.19.0->pandas-datareader) (1.25.11)\n",
            "Requirement already satisfied: idna<3,>=2.5 in c:\\users\\jimal\\anaconda3\\lib\\site-packages (from requests>=2.19.0->pandas-datareader) (2.10)\n",
            "Requirement already satisfied: chardet<4,>=3.0.2 in c:\\users\\jimal\\anaconda3\\lib\\site-packages (from requests>=2.19.0->pandas-datareader) (3.0.4)\n",
            "Requirement already satisfied: certifi>=2017.4.17 in c:\\users\\jimal\\anaconda3\\lib\\site-packages (from requests>=2.19.0->pandas-datareader) (2020.6.20)\n",
            "Requirement already satisfied: six>=1.5 in c:\\users\\jimal\\anaconda3\\lib\\site-packages (from python-dateutil>=2.7.3->pandas>=0.23->pandas-datareader) (1.15.0)\n",
            "Installing collected packages: pandas-datareader\n",
            "Successfully installed pandas-datareader-0.9.0\n"
          ],
          "name": "stdout"
        }
      ]
    },
    {
      "cell_type": "code",
      "metadata": {
        "colab": {
          "base_uri": "https://localhost:8080/",
          "height": 490
        },
        "id": "D1bMmBsXx9pt",
        "outputId": "c056e652-8520-46c6-ddbc-d6c5180186c6"
      },
      "source": [
        "# Instalar la librería\n",
        "#!pip install pandas-datareader\n",
        "# Hacemos import y descargamos precios para Mercado Libre durante todo el 2020.\n",
        "from pandas_datareader import data\n",
        "import pandas as pd\n",
        "# Un ticker es la abreviación con la cual se encuentra al activo\n",
        "# cuando se busca su precio o se realiza una orden de mercado.\n",
        "tickers = ['MELI']\n",
        "\n",
        "# Definimos el rango de fechas deseado\n",
        "start_date = '2020-01-01'\n",
        "end_date = '2020-12-31'\n",
        "\n",
        "# Obtenemos un DataFrame con los precios diarios de la acción\n",
        "df = data.DataReader(\n",
        "    tickers,\n",
        "    start=start_date, \n",
        "    end=end_date, \n",
        "    data_source='yahoo', # Yahoo Finance es uno de los recursos más simples de acceder\n",
        ")\n",
        "\n",
        "# Mostremos las primeras columnas de los datos\n",
        "df.head()"
      ],
      "execution_count": null,
      "outputs": [
        {
          "output_type": "execute_result",
          "data": {
            "text/html": [
              "<div>\n",
              "<style scoped>\n",
              "    .dataframe tbody tr th:only-of-type {\n",
              "        vertical-align: middle;\n",
              "    }\n",
              "\n",
              "    .dataframe tbody tr th {\n",
              "        vertical-align: top;\n",
              "    }\n",
              "\n",
              "    .dataframe thead tr th {\n",
              "        text-align: left;\n",
              "    }\n",
              "\n",
              "    .dataframe thead tr:last-of-type th {\n",
              "        text-align: right;\n",
              "    }\n",
              "</style>\n",
              "<table border=\"1\" class=\"dataframe\">\n",
              "  <thead>\n",
              "    <tr>\n",
              "      <th>Attributes</th>\n",
              "      <th>Adj Close</th>\n",
              "      <th>Close</th>\n",
              "      <th>High</th>\n",
              "      <th>Low</th>\n",
              "      <th>Open</th>\n",
              "      <th>Volume</th>\n",
              "    </tr>\n",
              "    <tr>\n",
              "      <th>Symbols</th>\n",
              "      <th>MELI</th>\n",
              "      <th>MELI</th>\n",
              "      <th>MELI</th>\n",
              "      <th>MELI</th>\n",
              "      <th>MELI</th>\n",
              "      <th>MELI</th>\n",
              "    </tr>\n",
              "    <tr>\n",
              "      <th>Date</th>\n",
              "      <th></th>\n",
              "      <th></th>\n",
              "      <th></th>\n",
              "      <th></th>\n",
              "      <th></th>\n",
              "      <th></th>\n",
              "    </tr>\n",
              "  </thead>\n",
              "  <tbody>\n",
              "    <tr>\n",
              "      <th>2020-01-02</th>\n",
              "      <td>610.190002</td>\n",
              "      <td>610.190002</td>\n",
              "      <td>615.840027</td>\n",
              "      <td>576.940002</td>\n",
              "      <td>576.940002</td>\n",
              "      <td>589200</td>\n",
              "    </tr>\n",
              "    <tr>\n",
              "      <th>2020-01-03</th>\n",
              "      <td>607.799988</td>\n",
              "      <td>607.799988</td>\n",
              "      <td>609.840027</td>\n",
              "      <td>600.059998</td>\n",
              "      <td>602.619995</td>\n",
              "      <td>320900</td>\n",
              "    </tr>\n",
              "    <tr>\n",
              "      <th>2020-01-06</th>\n",
              "      <td>606.549988</td>\n",
              "      <td>606.549988</td>\n",
              "      <td>613.789978</td>\n",
              "      <td>601.000000</td>\n",
              "      <td>601.039978</td>\n",
              "      <td>209700</td>\n",
              "    </tr>\n",
              "    <tr>\n",
              "      <th>2020-01-07</th>\n",
              "      <td>625.000000</td>\n",
              "      <td>625.000000</td>\n",
              "      <td>627.969971</td>\n",
              "      <td>604.739990</td>\n",
              "      <td>606.640015</td>\n",
              "      <td>480900</td>\n",
              "    </tr>\n",
              "    <tr>\n",
              "      <th>2020-01-08</th>\n",
              "      <td>633.440002</td>\n",
              "      <td>633.440002</td>\n",
              "      <td>637.820007</td>\n",
              "      <td>624.549988</td>\n",
              "      <td>625.000000</td>\n",
              "      <td>334600</td>\n",
              "    </tr>\n",
              "  </tbody>\n",
              "</table>\n",
              "</div>"
            ],
            "text/plain": [
              "Attributes   Adj Close       Close        High         Low        Open  Volume\n",
              "Symbols           MELI        MELI        MELI        MELI        MELI    MELI\n",
              "Date                                                                          \n",
              "2020-01-02  610.190002  610.190002  615.840027  576.940002  576.940002  589200\n",
              "2020-01-03  607.799988  607.799988  609.840027  600.059998  602.619995  320900\n",
              "2020-01-06  606.549988  606.549988  613.789978  601.000000  601.039978  209700\n",
              "2020-01-07  625.000000  625.000000  627.969971  604.739990  606.640015  480900\n",
              "2020-01-08  633.440002  633.440002  637.820007  624.549988  625.000000  334600"
            ]
          },
          "metadata": {
            "tags": []
          },
          "execution_count": 1
        }
      ]
    },
    {
      "cell_type": "code",
      "metadata": {
        "colab": {
          "base_uri": "https://localhost:8080/",
          "height": 421
        },
        "id": "7kn2MTUo-HYC",
        "outputId": "6473b63d-fc1b-4c4c-e4ee-03a3302dce70"
      },
      "source": [
        "df.head(10)"
      ],
      "execution_count": null,
      "outputs": [
        {
          "output_type": "execute_result",
          "data": {
            "text/html": [
              "<div>\n",
              "<style scoped>\n",
              "    .dataframe tbody tr th:only-of-type {\n",
              "        vertical-align: middle;\n",
              "    }\n",
              "\n",
              "    .dataframe tbody tr th {\n",
              "        vertical-align: top;\n",
              "    }\n",
              "\n",
              "    .dataframe thead tr th {\n",
              "        text-align: left;\n",
              "    }\n",
              "\n",
              "    .dataframe thead tr:last-of-type th {\n",
              "        text-align: right;\n",
              "    }\n",
              "</style>\n",
              "<table border=\"1\" class=\"dataframe\">\n",
              "  <thead>\n",
              "    <tr>\n",
              "      <th>Attributes</th>\n",
              "      <th>Adj Close</th>\n",
              "      <th>Close</th>\n",
              "      <th>High</th>\n",
              "      <th>Low</th>\n",
              "      <th>Open</th>\n",
              "      <th>Volume</th>\n",
              "    </tr>\n",
              "    <tr>\n",
              "      <th>Symbols</th>\n",
              "      <th>MELI</th>\n",
              "      <th>MELI</th>\n",
              "      <th>MELI</th>\n",
              "      <th>MELI</th>\n",
              "      <th>MELI</th>\n",
              "      <th>MELI</th>\n",
              "    </tr>\n",
              "    <tr>\n",
              "      <th>Date</th>\n",
              "      <th></th>\n",
              "      <th></th>\n",
              "      <th></th>\n",
              "      <th></th>\n",
              "      <th></th>\n",
              "      <th></th>\n",
              "    </tr>\n",
              "  </thead>\n",
              "  <tbody>\n",
              "    <tr>\n",
              "      <th>2020-01-02</th>\n",
              "      <td>610.190002</td>\n",
              "      <td>610.190002</td>\n",
              "      <td>615.840027</td>\n",
              "      <td>576.940002</td>\n",
              "      <td>576.940002</td>\n",
              "      <td>589200</td>\n",
              "    </tr>\n",
              "    <tr>\n",
              "      <th>2020-01-03</th>\n",
              "      <td>607.799988</td>\n",
              "      <td>607.799988</td>\n",
              "      <td>609.840027</td>\n",
              "      <td>600.059998</td>\n",
              "      <td>602.619995</td>\n",
              "      <td>320900</td>\n",
              "    </tr>\n",
              "    <tr>\n",
              "      <th>2020-01-06</th>\n",
              "      <td>606.549988</td>\n",
              "      <td>606.549988</td>\n",
              "      <td>613.789978</td>\n",
              "      <td>601.000000</td>\n",
              "      <td>601.039978</td>\n",
              "      <td>209700</td>\n",
              "    </tr>\n",
              "    <tr>\n",
              "      <th>2020-01-07</th>\n",
              "      <td>625.000000</td>\n",
              "      <td>625.000000</td>\n",
              "      <td>627.969971</td>\n",
              "      <td>604.739990</td>\n",
              "      <td>606.640015</td>\n",
              "      <td>480900</td>\n",
              "    </tr>\n",
              "    <tr>\n",
              "      <th>2020-01-08</th>\n",
              "      <td>633.440002</td>\n",
              "      <td>633.440002</td>\n",
              "      <td>637.820007</td>\n",
              "      <td>624.549988</td>\n",
              "      <td>625.000000</td>\n",
              "      <td>334600</td>\n",
              "    </tr>\n",
              "    <tr>\n",
              "      <th>2020-01-09</th>\n",
              "      <td>646.429993</td>\n",
              "      <td>646.429993</td>\n",
              "      <td>649.049988</td>\n",
              "      <td>638.590027</td>\n",
              "      <td>643.429993</td>\n",
              "      <td>413800</td>\n",
              "    </tr>\n",
              "    <tr>\n",
              "      <th>2020-01-10</th>\n",
              "      <td>669.479980</td>\n",
              "      <td>669.479980</td>\n",
              "      <td>670.150024</td>\n",
              "      <td>648.630005</td>\n",
              "      <td>653.789978</td>\n",
              "      <td>680200</td>\n",
              "    </tr>\n",
              "    <tr>\n",
              "      <th>2020-01-13</th>\n",
              "      <td>691.099976</td>\n",
              "      <td>691.099976</td>\n",
              "      <td>697.219971</td>\n",
              "      <td>670.070007</td>\n",
              "      <td>670.440002</td>\n",
              "      <td>660800</td>\n",
              "    </tr>\n",
              "    <tr>\n",
              "      <th>2020-01-14</th>\n",
              "      <td>652.070007</td>\n",
              "      <td>652.070007</td>\n",
              "      <td>693.979980</td>\n",
              "      <td>649.239990</td>\n",
              "      <td>690.000000</td>\n",
              "      <td>976500</td>\n",
              "    </tr>\n",
              "    <tr>\n",
              "      <th>2020-01-15</th>\n",
              "      <td>659.979980</td>\n",
              "      <td>659.979980</td>\n",
              "      <td>662.570007</td>\n",
              "      <td>640.010010</td>\n",
              "      <td>653.400024</td>\n",
              "      <td>592400</td>\n",
              "    </tr>\n",
              "  </tbody>\n",
              "</table>\n",
              "</div>"
            ],
            "text/plain": [
              "Attributes   Adj Close       Close        High         Low        Open  Volume\n",
              "Symbols           MELI        MELI        MELI        MELI        MELI    MELI\n",
              "Date                                                                          \n",
              "2020-01-02  610.190002  610.190002  615.840027  576.940002  576.940002  589200\n",
              "2020-01-03  607.799988  607.799988  609.840027  600.059998  602.619995  320900\n",
              "2020-01-06  606.549988  606.549988  613.789978  601.000000  601.039978  209700\n",
              "2020-01-07  625.000000  625.000000  627.969971  604.739990  606.640015  480900\n",
              "2020-01-08  633.440002  633.440002  637.820007  624.549988  625.000000  334600\n",
              "2020-01-09  646.429993  646.429993  649.049988  638.590027  643.429993  413800\n",
              "2020-01-10  669.479980  669.479980  670.150024  648.630005  653.789978  680200\n",
              "2020-01-13  691.099976  691.099976  697.219971  670.070007  670.440002  660800\n",
              "2020-01-14  652.070007  652.070007  693.979980  649.239990  690.000000  976500\n",
              "2020-01-15  659.979980  659.979980  662.570007  640.010010  653.400024  592400"
            ]
          },
          "metadata": {
            "tags": []
          },
          "execution_count": 5
        }
      ]
    },
    {
      "cell_type": "code",
      "metadata": {
        "colab": {
          "base_uri": "https://localhost:8080/"
        },
        "id": "mE51JuvW_l04",
        "outputId": "0ac4b9dc-a905-4f26-abf1-f9b7ff9ab17f"
      },
      "source": [
        "df.columns\n"
      ],
      "execution_count": null,
      "outputs": [
        {
          "output_type": "execute_result",
          "data": {
            "text/plain": [
              "MultiIndex([('Adj Close', 'MELI'),\n",
              "            (    'Close', 'MELI'),\n",
              "            (     'High', 'MELI'),\n",
              "            (      'Low', 'MELI'),\n",
              "            (     'Open', 'MELI'),\n",
              "            (   'Volume', 'MELI')],\n",
              "           names=['Attributes', 'Symbols'])"
            ]
          },
          "metadata": {
            "tags": []
          },
          "execution_count": 2
        }
      ]
    },
    {
      "cell_type": "code",
      "metadata": {
        "colab": {
          "base_uri": "https://localhost:8080/",
          "height": 357
        },
        "id": "isigW8IoBi1S",
        "outputId": "5f9afe3d-6d5c-4e3e-b6c0-5d6a412057a4"
      },
      "source": [
        "df.columns= [\"Adj Close\", 'Close','High','Low','Open','Volume']\n",
        "df\n"
      ],
      "execution_count": null,
      "outputs": [
        {
          "output_type": "execute_result",
          "data": {
            "text/html": [
              "<div>\n",
              "<style scoped>\n",
              "    .dataframe tbody tr th:only-of-type {\n",
              "        vertical-align: middle;\n",
              "    }\n",
              "\n",
              "    .dataframe tbody tr th {\n",
              "        vertical-align: top;\n",
              "    }\n",
              "\n",
              "    .dataframe thead th {\n",
              "        text-align: right;\n",
              "    }\n",
              "</style>\n",
              "<table border=\"1\" class=\"dataframe\">\n",
              "  <thead>\n",
              "    <tr style=\"text-align: right;\">\n",
              "      <th></th>\n",
              "      <th>Adj Close</th>\n",
              "      <th>Close</th>\n",
              "      <th>High</th>\n",
              "      <th>Low</th>\n",
              "      <th>Open</th>\n",
              "      <th>Volume</th>\n",
              "    </tr>\n",
              "    <tr>\n",
              "      <th>Date</th>\n",
              "      <th></th>\n",
              "      <th></th>\n",
              "      <th></th>\n",
              "      <th></th>\n",
              "      <th></th>\n",
              "      <th></th>\n",
              "    </tr>\n",
              "  </thead>\n",
              "  <tbody>\n",
              "    <tr>\n",
              "      <th>2020-01-02</th>\n",
              "      <td>610.190002</td>\n",
              "      <td>610.190002</td>\n",
              "      <td>615.840027</td>\n",
              "      <td>576.940002</td>\n",
              "      <td>576.940002</td>\n",
              "      <td>589200</td>\n",
              "    </tr>\n",
              "    <tr>\n",
              "      <th>2020-01-03</th>\n",
              "      <td>607.799988</td>\n",
              "      <td>607.799988</td>\n",
              "      <td>609.840027</td>\n",
              "      <td>600.059998</td>\n",
              "      <td>602.619995</td>\n",
              "      <td>320900</td>\n",
              "    </tr>\n",
              "    <tr>\n",
              "      <th>2020-01-06</th>\n",
              "      <td>606.549988</td>\n",
              "      <td>606.549988</td>\n",
              "      <td>613.789978</td>\n",
              "      <td>601.000000</td>\n",
              "      <td>601.039978</td>\n",
              "      <td>209700</td>\n",
              "    </tr>\n",
              "    <tr>\n",
              "      <th>2020-01-07</th>\n",
              "      <td>625.000000</td>\n",
              "      <td>625.000000</td>\n",
              "      <td>627.969971</td>\n",
              "      <td>604.739990</td>\n",
              "      <td>606.640015</td>\n",
              "      <td>480900</td>\n",
              "    </tr>\n",
              "    <tr>\n",
              "      <th>2020-01-08</th>\n",
              "      <td>633.440002</td>\n",
              "      <td>633.440002</td>\n",
              "      <td>637.820007</td>\n",
              "      <td>624.549988</td>\n",
              "      <td>625.000000</td>\n",
              "      <td>334600</td>\n",
              "    </tr>\n",
              "    <tr>\n",
              "      <th>...</th>\n",
              "      <td>...</td>\n",
              "      <td>...</td>\n",
              "      <td>...</td>\n",
              "      <td>...</td>\n",
              "      <td>...</td>\n",
              "      <td>...</td>\n",
              "    </tr>\n",
              "    <tr>\n",
              "      <th>2020-12-24</th>\n",
              "      <td>1690.479980</td>\n",
              "      <td>1690.479980</td>\n",
              "      <td>1694.479980</td>\n",
              "      <td>1665.900024</td>\n",
              "      <td>1672.000000</td>\n",
              "      <td>132800</td>\n",
              "    </tr>\n",
              "    <tr>\n",
              "      <th>2020-12-28</th>\n",
              "      <td>1663.719971</td>\n",
              "      <td>1663.719971</td>\n",
              "      <td>1703.319946</td>\n",
              "      <td>1625.699951</td>\n",
              "      <td>1700.000000</td>\n",
              "      <td>285900</td>\n",
              "    </tr>\n",
              "    <tr>\n",
              "      <th>2020-12-29</th>\n",
              "      <td>1673.489990</td>\n",
              "      <td>1673.489990</td>\n",
              "      <td>1689.410034</td>\n",
              "      <td>1640.030029</td>\n",
              "      <td>1680.000000</td>\n",
              "      <td>278300</td>\n",
              "    </tr>\n",
              "    <tr>\n",
              "      <th>2020-12-30</th>\n",
              "      <td>1712.939941</td>\n",
              "      <td>1712.939941</td>\n",
              "      <td>1723.959961</td>\n",
              "      <td>1659.599976</td>\n",
              "      <td>1690.000000</td>\n",
              "      <td>304300</td>\n",
              "    </tr>\n",
              "    <tr>\n",
              "      <th>2020-12-31</th>\n",
              "      <td>1675.219971</td>\n",
              "      <td>1675.219971</td>\n",
              "      <td>1718.589966</td>\n",
              "      <td>1660.900024</td>\n",
              "      <td>1718.589966</td>\n",
              "      <td>254200</td>\n",
              "    </tr>\n",
              "  </tbody>\n",
              "</table>\n",
              "<p>253 rows × 6 columns</p>\n",
              "</div>"
            ],
            "text/plain": [
              "              Adj Close        Close         High          Low         Open  \\\n",
              "Date                                                                          \n",
              "2020-01-02   610.190002   610.190002   615.840027   576.940002   576.940002   \n",
              "2020-01-03   607.799988   607.799988   609.840027   600.059998   602.619995   \n",
              "2020-01-06   606.549988   606.549988   613.789978   601.000000   601.039978   \n",
              "2020-01-07   625.000000   625.000000   627.969971   604.739990   606.640015   \n",
              "2020-01-08   633.440002   633.440002   637.820007   624.549988   625.000000   \n",
              "...                 ...          ...          ...          ...          ...   \n",
              "2020-12-24  1690.479980  1690.479980  1694.479980  1665.900024  1672.000000   \n",
              "2020-12-28  1663.719971  1663.719971  1703.319946  1625.699951  1700.000000   \n",
              "2020-12-29  1673.489990  1673.489990  1689.410034  1640.030029  1680.000000   \n",
              "2020-12-30  1712.939941  1712.939941  1723.959961  1659.599976  1690.000000   \n",
              "2020-12-31  1675.219971  1675.219971  1718.589966  1660.900024  1718.589966   \n",
              "\n",
              "            Volume  \n",
              "Date                \n",
              "2020-01-02  589200  \n",
              "2020-01-03  320900  \n",
              "2020-01-06  209700  \n",
              "2020-01-07  480900  \n",
              "2020-01-08  334600  \n",
              "...            ...  \n",
              "2020-12-24  132800  \n",
              "2020-12-28  285900  \n",
              "2020-12-29  278300  \n",
              "2020-12-30  304300  \n",
              "2020-12-31  254200  \n",
              "\n",
              "[253 rows x 6 columns]"
            ]
          },
          "metadata": {
            "tags": []
          },
          "execution_count": 3
        }
      ]
    },
    {
      "cell_type": "code",
      "metadata": {
        "colab": {
          "base_uri": "https://localhost:8080/",
          "height": 323
        },
        "id": "sL9ysw2xv1G9",
        "outputId": "e6f56856-9190-4b09-8646-9a6cb5a57954"
      },
      "source": [
        "df.reset_index(inplace=True, drop=False)\n",
        "df\n",
        "df= df.set_index(\"Date\")\n",
        "df"
      ],
      "execution_count": null,
      "outputs": [
        {
          "output_type": "execute_result",
          "data": {
            "text/html": [
              "<div>\n",
              "<style scoped>\n",
              "    .dataframe tbody tr th:only-of-type {\n",
              "        vertical-align: middle;\n",
              "    }\n",
              "\n",
              "    .dataframe tbody tr th {\n",
              "        vertical-align: top;\n",
              "    }\n",
              "\n",
              "    .dataframe thead th {\n",
              "        text-align: right;\n",
              "    }\n",
              "</style>\n",
              "<table border=\"1\" class=\"dataframe\">\n",
              "  <thead>\n",
              "    <tr style=\"text-align: right;\">\n",
              "      <th></th>\n",
              "      <th>Adj Close</th>\n",
              "      <th>Close</th>\n",
              "      <th>High</th>\n",
              "      <th>Low</th>\n",
              "      <th>Open</th>\n",
              "      <th>Volume</th>\n",
              "    </tr>\n",
              "    <tr>\n",
              "      <th>Date</th>\n",
              "      <th></th>\n",
              "      <th></th>\n",
              "      <th></th>\n",
              "      <th></th>\n",
              "      <th></th>\n",
              "      <th></th>\n",
              "    </tr>\n",
              "  </thead>\n",
              "  <tbody>\n",
              "    <tr>\n",
              "      <th>2020-01-02</th>\n",
              "      <td>610.190002</td>\n",
              "      <td>610.190002</td>\n",
              "      <td>615.840027</td>\n",
              "      <td>576.940002</td>\n",
              "      <td>576.940002</td>\n",
              "      <td>589200</td>\n",
              "    </tr>\n",
              "    <tr>\n",
              "      <th>2020-01-03</th>\n",
              "      <td>607.799988</td>\n",
              "      <td>607.799988</td>\n",
              "      <td>609.840027</td>\n",
              "      <td>600.059998</td>\n",
              "      <td>602.619995</td>\n",
              "      <td>320900</td>\n",
              "    </tr>\n",
              "    <tr>\n",
              "      <th>2020-01-06</th>\n",
              "      <td>606.549988</td>\n",
              "      <td>606.549988</td>\n",
              "      <td>613.789978</td>\n",
              "      <td>601.000000</td>\n",
              "      <td>601.039978</td>\n",
              "      <td>209700</td>\n",
              "    </tr>\n",
              "    <tr>\n",
              "      <th>2020-01-07</th>\n",
              "      <td>625.000000</td>\n",
              "      <td>625.000000</td>\n",
              "      <td>627.969971</td>\n",
              "      <td>604.739990</td>\n",
              "      <td>606.640015</td>\n",
              "      <td>480900</td>\n",
              "    </tr>\n",
              "    <tr>\n",
              "      <th>2020-01-08</th>\n",
              "      <td>633.440002</td>\n",
              "      <td>633.440002</td>\n",
              "      <td>637.820007</td>\n",
              "      <td>624.549988</td>\n",
              "      <td>625.000000</td>\n",
              "      <td>334600</td>\n",
              "    </tr>\n",
              "    <tr>\n",
              "      <th>...</th>\n",
              "      <td>...</td>\n",
              "      <td>...</td>\n",
              "      <td>...</td>\n",
              "      <td>...</td>\n",
              "      <td>...</td>\n",
              "      <td>...</td>\n",
              "    </tr>\n",
              "    <tr>\n",
              "      <th>2020-12-24</th>\n",
              "      <td>1690.479980</td>\n",
              "      <td>1690.479980</td>\n",
              "      <td>1694.479980</td>\n",
              "      <td>1665.900024</td>\n",
              "      <td>1672.000000</td>\n",
              "      <td>132800</td>\n",
              "    </tr>\n",
              "    <tr>\n",
              "      <th>2020-12-28</th>\n",
              "      <td>1663.719971</td>\n",
              "      <td>1663.719971</td>\n",
              "      <td>1703.319946</td>\n",
              "      <td>1625.699951</td>\n",
              "      <td>1700.000000</td>\n",
              "      <td>285900</td>\n",
              "    </tr>\n",
              "    <tr>\n",
              "      <th>2020-12-29</th>\n",
              "      <td>1673.489990</td>\n",
              "      <td>1673.489990</td>\n",
              "      <td>1689.410034</td>\n",
              "      <td>1640.030029</td>\n",
              "      <td>1680.000000</td>\n",
              "      <td>278300</td>\n",
              "    </tr>\n",
              "    <tr>\n",
              "      <th>2020-12-30</th>\n",
              "      <td>1712.939941</td>\n",
              "      <td>1712.939941</td>\n",
              "      <td>1723.959961</td>\n",
              "      <td>1659.599976</td>\n",
              "      <td>1690.000000</td>\n",
              "      <td>304300</td>\n",
              "    </tr>\n",
              "    <tr>\n",
              "      <th>2020-12-31</th>\n",
              "      <td>1675.219971</td>\n",
              "      <td>1675.219971</td>\n",
              "      <td>1718.589966</td>\n",
              "      <td>1660.900024</td>\n",
              "      <td>1718.589966</td>\n",
              "      <td>254200</td>\n",
              "    </tr>\n",
              "  </tbody>\n",
              "</table>\n",
              "<p>253 rows × 6 columns</p>\n",
              "</div>"
            ],
            "text/plain": [
              "              Adj Close        Close         High          Low         Open  \\\n",
              "Date                                                                          \n",
              "2020-01-02   610.190002   610.190002   615.840027   576.940002   576.940002   \n",
              "2020-01-03   607.799988   607.799988   609.840027   600.059998   602.619995   \n",
              "2020-01-06   606.549988   606.549988   613.789978   601.000000   601.039978   \n",
              "2020-01-07   625.000000   625.000000   627.969971   604.739990   606.640015   \n",
              "2020-01-08   633.440002   633.440002   637.820007   624.549988   625.000000   \n",
              "...                 ...          ...          ...          ...          ...   \n",
              "2020-12-24  1690.479980  1690.479980  1694.479980  1665.900024  1672.000000   \n",
              "2020-12-28  1663.719971  1663.719971  1703.319946  1625.699951  1700.000000   \n",
              "2020-12-29  1673.489990  1673.489990  1689.410034  1640.030029  1680.000000   \n",
              "2020-12-30  1712.939941  1712.939941  1723.959961  1659.599976  1690.000000   \n",
              "2020-12-31  1675.219971  1675.219971  1718.589966  1660.900024  1718.589966   \n",
              "\n",
              "            Volume  \n",
              "Date                \n",
              "2020-01-02  589200  \n",
              "2020-01-03  320900  \n",
              "2020-01-06  209700  \n",
              "2020-01-07  480900  \n",
              "2020-01-08  334600  \n",
              "...            ...  \n",
              "2020-12-24  132800  \n",
              "2020-12-28  285900  \n",
              "2020-12-29  278300  \n",
              "2020-12-30  304300  \n",
              "2020-12-31  254200  \n",
              "\n",
              "[253 rows x 6 columns]"
            ]
          },
          "metadata": {
            "tags": []
          },
          "execution_count": 4
        }
      ]
    },
    {
      "cell_type": "code",
      "metadata": {
        "id": "FkzzB3mcLoW7",
        "outputId": "1391d1c3-3097-4d7d-b495-0a51f07048a5"
      },
      "source": [
        "df_meli = df.iloc[:,0]\n",
        "#type(df_meli)\n",
        "df_meli"
      ],
      "execution_count": null,
      "outputs": [
        {
          "output_type": "execute_result",
          "data": {
            "text/plain": [
              "Date\n",
              "2020-01-02     610.190002\n",
              "2020-01-03     607.799988\n",
              "2020-01-06     606.549988\n",
              "2020-01-07     625.000000\n",
              "2020-01-08     633.440002\n",
              "                 ...     \n",
              "2020-12-24    1690.479980\n",
              "2020-12-28    1663.719971\n",
              "2020-12-29    1673.489990\n",
              "2020-12-30    1712.939941\n",
              "2020-12-31    1675.219971\n",
              "Name: Adj Close, Length: 253, dtype: float64"
            ]
          },
          "metadata": {
            "tags": []
          },
          "execution_count": 5
        }
      ]
    },
    {
      "cell_type": "code",
      "metadata": {
        "id": "501ojjllakRu",
        "outputId": "6fb5e2ee-19aa-4a04-aeda-430874f92e44"
      },
      "source": [
        "print(df_meli.index)"
      ],
      "execution_count": null,
      "outputs": [
        {
          "output_type": "stream",
          "text": [
            "DatetimeIndex(['2020-01-02', '2020-01-03', '2020-01-06', '2020-01-07',\n",
            "               '2020-01-08', '2020-01-09', '2020-01-10', '2020-01-13',\n",
            "               '2020-01-14', '2020-01-15',\n",
            "               ...\n",
            "               '2020-12-17', '2020-12-18', '2020-12-21', '2020-12-22',\n",
            "               '2020-12-23', '2020-12-24', '2020-12-28', '2020-12-29',\n",
            "               '2020-12-30', '2020-12-31'],\n",
            "              dtype='datetime64[ns]', name='Date', length=253, freq=None)\n"
          ],
          "name": "stdout"
        }
      ]
    },
    {
      "cell_type": "code",
      "metadata": {
        "id": "g5AhBfOuakRu",
        "outputId": "b153b5a4-529f-4214-dd41-cbf3bcc673fa"
      },
      "source": [
        "!pip install matplotlib\n"
      ],
      "execution_count": null,
      "outputs": [
        {
          "output_type": "stream",
          "text": [
            "Requirement already satisfied: matplotlib in c:\\users\\jimal\\anaconda3\\lib\\site-packages (3.3.2)\n",
            "Requirement already satisfied: pillow>=6.2.0 in c:\\users\\jimal\\anaconda3\\lib\\site-packages (from matplotlib) (8.0.1)\n",
            "Requirement already satisfied: cycler>=0.10 in c:\\users\\jimal\\anaconda3\\lib\\site-packages (from matplotlib) (0.10.0)\n",
            "Requirement already satisfied: pyparsing!=2.0.4,!=2.1.2,!=2.1.6,>=2.0.3 in c:\\users\\jimal\\anaconda3\\lib\\site-packages (from matplotlib) (2.4.7)\n",
            "Requirement already satisfied: certifi>=2020.06.20 in c:\\users\\jimal\\anaconda3\\lib\\site-packages (from matplotlib) (2020.6.20)\n",
            "Requirement already satisfied: numpy>=1.15 in c:\\users\\jimal\\anaconda3\\lib\\site-packages (from matplotlib) (1.19.2)\n",
            "Requirement already satisfied: kiwisolver>=1.0.1 in c:\\users\\jimal\\anaconda3\\lib\\site-packages (from matplotlib) (1.3.0)\n",
            "Requirement already satisfied: python-dateutil>=2.1 in c:\\users\\jimal\\anaconda3\\lib\\site-packages (from matplotlib) (2.8.1)\n",
            "Requirement already satisfied: six in c:\\users\\jimal\\anaconda3\\lib\\site-packages (from cycler>=0.10->matplotlib) (1.15.0)\n"
          ],
          "name": "stdout"
        }
      ]
    },
    {
      "cell_type": "code",
      "metadata": {
        "id": "XJRQCeG8akRu",
        "outputId": "0927ab9e-93e1-4666-881e-234e9f07ddee"
      },
      "source": [
        "!pip install seaborn"
      ],
      "execution_count": null,
      "outputs": [
        {
          "output_type": "stream",
          "text": [
            "Requirement already satisfied: seaborn in c:\\users\\jimal\\anaconda3\\lib\\site-packages (0.11.0)\n",
            "Requirement already satisfied: scipy>=1.0 in c:\\users\\jimal\\anaconda3\\lib\\site-packages (from seaborn) (1.5.2)\n",
            "Requirement already satisfied: pandas>=0.23 in c:\\users\\jimal\\anaconda3\\lib\\site-packages (from seaborn) (1.1.3)\n",
            "Requirement already satisfied: matplotlib>=2.2 in c:\\users\\jimal\\anaconda3\\lib\\site-packages (from seaborn) (3.3.2)\n",
            "Requirement already satisfied: numpy>=1.15 in c:\\users\\jimal\\anaconda3\\lib\\site-packages (from seaborn) (1.19.2)\n",
            "Requirement already satisfied: pytz>=2017.2 in c:\\users\\jimal\\anaconda3\\lib\\site-packages (from pandas>=0.23->seaborn) (2020.1)\n",
            "Requirement already satisfied: python-dateutil>=2.7.3 in c:\\users\\jimal\\anaconda3\\lib\\site-packages (from pandas>=0.23->seaborn) (2.8.1)\n",
            "Requirement already satisfied: pyparsing!=2.0.4,!=2.1.2,!=2.1.6,>=2.0.3 in c:\\users\\jimal\\anaconda3\\lib\\site-packages (from matplotlib>=2.2->seaborn) (2.4.7)\n",
            "Requirement already satisfied: kiwisolver>=1.0.1 in c:\\users\\jimal\\anaconda3\\lib\\site-packages (from matplotlib>=2.2->seaborn) (1.3.0)\n",
            "Requirement already satisfied: pillow>=6.2.0 in c:\\users\\jimal\\anaconda3\\lib\\site-packages (from matplotlib>=2.2->seaborn) (8.0.1)\n",
            "Requirement already satisfied: cycler>=0.10 in c:\\users\\jimal\\anaconda3\\lib\\site-packages (from matplotlib>=2.2->seaborn) (0.10.0)\n",
            "Requirement already satisfied: certifi>=2020.06.20 in c:\\users\\jimal\\anaconda3\\lib\\site-packages (from matplotlib>=2.2->seaborn) (2020.6.20)\n",
            "Requirement already satisfied: six>=1.5 in c:\\users\\jimal\\anaconda3\\lib\\site-packages (from python-dateutil>=2.7.3->pandas>=0.23->seaborn) (1.15.0)\n"
          ],
          "name": "stdout"
        }
      ]
    },
    {
      "cell_type": "code",
      "metadata": {
        "id": "IfI4SzJhakRu"
      },
      "source": [
        "import matplotlib.pyplot as plt\n",
        "from datetime import datetime\n",
        "import seaborn as sns\n",
        "sns.set()"
      ],
      "execution_count": null,
      "outputs": []
    },
    {
      "cell_type": "code",
      "metadata": {
        "colab": {
          "base_uri": "https://localhost:8080/",
          "height": 561
        },
        "id": "kn-ohRdKBgBR",
        "outputId": "83c99f06-b745-4ace-8229-ac4900e0174b"
      },
      "source": [
        "#df_meli.plot()\n",
        "fix, ax=plt.subplots(figsize=(20, 6))\n",
        "df_meli.plot(ax=ax)"
      ],
      "execution_count": null,
      "outputs": [
        {
          "output_type": "execute_result",
          "data": {
            "text/plain": [
              "<AxesSubplot:xlabel='Date'>"
            ]
          },
          "metadata": {
            "tags": []
          },
          "execution_count": 8
        },
        {
          "output_type": "display_data",
          "data": {
            "image/png": "[encoded data removed]",
            "text/plain": [
              "<Figure size 1440x432 with 1 Axes>"
            ]
          },
          "metadata": {
            "tags": []
          }
        }
      ]
    },
    {
      "cell_type": "code",
      "metadata": {
        "id": "KfYUAsnvakRv",
        "outputId": "a5089c2c-e108-403e-fb63-38ba35741f30"
      },
      "source": [
        "dia_maximo= df_meli.idxmax().date()\n",
        "valor_maximo = df_meli.max()\n",
        "print (\"El valor máximo en el periodo es de usd:\", valor_maximo,\"El día:\", dia_maximo)"
      ],
      "execution_count": null,
      "outputs": [
        {
          "output_type": "stream",
          "text": [
            "El valor máximo en el periodo es de usd: 1732.3900146484375 El día: 2020-12-22\n"
          ],
          "name": "stdout"
        }
      ]
    },
    {
      "cell_type": "code",
      "metadata": {
        "id": "2-hWm_fLakRv",
        "outputId": "35f48513-1edc-492f-9512-6b0e6d25d5cb"
      },
      "source": [
        "dia_minimo= df_meli.idxmin().date()\n",
        "valor_minimo = df_meli.min()\n",
        "print (\"El valor mínimo en el periodo es de usd:\", valor_minimo,\"El día:\", dia_minimo)"
      ],
      "execution_count": null,
      "outputs": [
        {
          "output_type": "stream",
          "text": [
            "El valor mínimo en el periodo es de usd: 447.3399963378906 El día: 2020-04-01\n"
          ],
          "name": "stdout"
        }
      ]
    },
    {
      "cell_type": "markdown",
      "metadata": {
        "id": "z_syGizQniP8"
      },
      "source": [
        "Desarrollar los siguientes ejercicios:\n",
        "\n",
        "- Utilizaremos sólo la columna Adj. Close para trabajar y nos gustaría tener un gráfico de cómo se movieron los precios de la acción, usando `plot`. Cuál es el precio máximo y mínimo que alcanzó la acción en el año y en qué fechas se alcanzaron?\n",
        "\n",
        "- La variable *tickers* es una lista de acciones que podemos cambiar para conseguir los precios que deseemos. Consigamos los precios de [FAANG](https://blog.selfbank.es/que-es-faang/), buscando sus tickers correspondientes y armemos un dataframe con el Adj. Close de cada una de las acciones durante el 2020.\n",
        "\n",
        "- Cómo podemos calcular el porcentaje de ganancia de estas acciones en el año?\n",
        "\n",
        "- Supongamos que tenemos $10.000 para invertir en estas acciones y armamos una cartera \"aleatoria\" (no es posible invertir una cantidad negativa ni invertir más dinero del que se tiene). Cómo podemos mostrar la evolución de esa cartera en el tiempo? Graficar 5 carteras aleatorias y su evolución en el año. Cómo se comparan con una estrategia que invierte el 20% inicial del capital en cada una de las acciones?"
      ]
    },
    {
      "cell_type": "code",
      "metadata": {
        "colab": {
          "base_uri": "https://localhost:8080/",
          "height": 490
        },
        "id": "Jl6JczeYakRv",
        "outputId": "c056e652-8520-46c6-ddbc-d6c5180186c6"
      },
      "source": [
        "\n",
        "tickers = ['FB',\"AMZN\", \"AAPL\",\"NFLX\",\"GOOGL\"]\n",
        "\n",
        "# Definimos el rango de fechas deseado\n",
        "start_date = '2020-01-01'\n",
        "end_date = '2020-12-31'\n",
        "\n",
        "# Obtenemos un DataFrame con los precios diarios de la acción\n",
        "df = data.DataReader(\n",
        "    tickers,\n",
        "    start=start_date, \n",
        "    end=end_date, \n",
        "    data_source='yahoo', # Yahoo Finance es uno de los recursos más simples de acceder\n",
        ")\n",
        "\n",
        "# Mostremos las primeras columnas de los datos\n",
        "df.head()"
      ],
      "execution_count": null,
      "outputs": [
        {
          "output_type": "execute_result",
          "data": {
            "text/html": [
              "<div>\n",
              "<style scoped>\n",
              "    .dataframe tbody tr th:only-of-type {\n",
              "        vertical-align: middle;\n",
              "    }\n",
              "\n",
              "    .dataframe tbody tr th {\n",
              "        vertical-align: top;\n",
              "    }\n",
              "\n",
              "    .dataframe thead tr th {\n",
              "        text-align: left;\n",
              "    }\n",
              "\n",
              "    .dataframe thead tr:last-of-type th {\n",
              "        text-align: right;\n",
              "    }\n",
              "</style>\n",
              "<table border=\"1\" class=\"dataframe\">\n",
              "  <thead>\n",
              "    <tr>\n",
              "      <th>Attributes</th>\n",
              "      <th colspan=\"5\" halign=\"left\">Adj Close</th>\n",
              "      <th colspan=\"5\" halign=\"left\">Close</th>\n",
              "      <th>...</th>\n",
              "      <th colspan=\"5\" halign=\"left\">Open</th>\n",
              "      <th colspan=\"5\" halign=\"left\">Volume</th>\n",
              "    </tr>\n",
              "    <tr>\n",
              "      <th>Symbols</th>\n",
              "      <th>FB</th>\n",
              "      <th>AMZN</th>\n",
              "      <th>AAPL</th>\n",
              "      <th>NFLX</th>\n",
              "      <th>GOOGL</th>\n",
              "      <th>FB</th>\n",
              "      <th>AMZN</th>\n",
              "      <th>AAPL</th>\n",
              "      <th>NFLX</th>\n",
              "      <th>GOOGL</th>\n",
              "      <th>...</th>\n",
              "      <th>FB</th>\n",
              "      <th>AMZN</th>\n",
              "      <th>AAPL</th>\n",
              "      <th>NFLX</th>\n",
              "      <th>GOOGL</th>\n",
              "      <th>FB</th>\n",
              "      <th>AMZN</th>\n",
              "      <th>AAPL</th>\n",
              "      <th>NFLX</th>\n",
              "      <th>GOOGL</th>\n",
              "    </tr>\n",
              "    <tr>\n",
              "      <th>Date</th>\n",
              "      <th></th>\n",
              "      <th></th>\n",
              "      <th></th>\n",
              "      <th></th>\n",
              "      <th></th>\n",
              "      <th></th>\n",
              "      <th></th>\n",
              "      <th></th>\n",
              "      <th></th>\n",
              "      <th></th>\n",
              "      <th></th>\n",
              "      <th></th>\n",
              "      <th></th>\n",
              "      <th></th>\n",
              "      <th></th>\n",
              "      <th></th>\n",
              "      <th></th>\n",
              "      <th></th>\n",
              "      <th></th>\n",
              "      <th></th>\n",
              "      <th></th>\n",
              "    </tr>\n",
              "  </thead>\n",
              "  <tbody>\n",
              "    <tr>\n",
              "      <th>2020-01-02</th>\n",
              "      <td>209.779999</td>\n",
              "      <td>1898.010010</td>\n",
              "      <td>74.207466</td>\n",
              "      <td>329.809998</td>\n",
              "      <td>1368.680054</td>\n",
              "      <td>209.779999</td>\n",
              "      <td>1898.010010</td>\n",
              "      <td>75.087502</td>\n",
              "      <td>329.809998</td>\n",
              "      <td>1368.680054</td>\n",
              "      <td>...</td>\n",
              "      <td>206.750000</td>\n",
              "      <td>1875.000000</td>\n",
              "      <td>74.059998</td>\n",
              "      <td>326.100006</td>\n",
              "      <td>1348.410034</td>\n",
              "      <td>12077100.0</td>\n",
              "      <td>4029000.0</td>\n",
              "      <td>135480400.0</td>\n",
              "      <td>4485800.0</td>\n",
              "      <td>1363900.0</td>\n",
              "    </tr>\n",
              "    <tr>\n",
              "      <th>2020-01-03</th>\n",
              "      <td>208.669998</td>\n",
              "      <td>1874.969971</td>\n",
              "      <td>73.486023</td>\n",
              "      <td>325.899994</td>\n",
              "      <td>1361.520020</td>\n",
              "      <td>208.669998</td>\n",
              "      <td>1874.969971</td>\n",
              "      <td>74.357498</td>\n",
              "      <td>325.899994</td>\n",
              "      <td>1361.520020</td>\n",
              "      <td>...</td>\n",
              "      <td>207.210007</td>\n",
              "      <td>1864.500000</td>\n",
              "      <td>74.287498</td>\n",
              "      <td>326.779999</td>\n",
              "      <td>1348.000000</td>\n",
              "      <td>11188400.0</td>\n",
              "      <td>3764400.0</td>\n",
              "      <td>146322800.0</td>\n",
              "      <td>3806900.0</td>\n",
              "      <td>1170400.0</td>\n",
              "    </tr>\n",
              "    <tr>\n",
              "      <th>2020-01-06</th>\n",
              "      <td>212.600006</td>\n",
              "      <td>1902.880005</td>\n",
              "      <td>74.071579</td>\n",
              "      <td>335.829987</td>\n",
              "      <td>1397.810059</td>\n",
              "      <td>212.600006</td>\n",
              "      <td>1902.880005</td>\n",
              "      <td>74.949997</td>\n",
              "      <td>335.829987</td>\n",
              "      <td>1397.810059</td>\n",
              "      <td>...</td>\n",
              "      <td>206.699997</td>\n",
              "      <td>1860.000000</td>\n",
              "      <td>73.447502</td>\n",
              "      <td>323.119995</td>\n",
              "      <td>1351.630005</td>\n",
              "      <td>17058900.0</td>\n",
              "      <td>4061800.0</td>\n",
              "      <td>118387200.0</td>\n",
              "      <td>5663100.0</td>\n",
              "      <td>2338400.0</td>\n",
              "    </tr>\n",
              "    <tr>\n",
              "      <th>2020-01-07</th>\n",
              "      <td>213.059998</td>\n",
              "      <td>1906.859985</td>\n",
              "      <td>73.723213</td>\n",
              "      <td>330.750000</td>\n",
              "      <td>1395.109985</td>\n",
              "      <td>213.059998</td>\n",
              "      <td>1906.859985</td>\n",
              "      <td>74.597504</td>\n",
              "      <td>330.750000</td>\n",
              "      <td>1395.109985</td>\n",
              "      <td>...</td>\n",
              "      <td>212.820007</td>\n",
              "      <td>1904.500000</td>\n",
              "      <td>74.959999</td>\n",
              "      <td>336.470001</td>\n",
              "      <td>1400.459961</td>\n",
              "      <td>14912400.0</td>\n",
              "      <td>4044900.0</td>\n",
              "      <td>108872000.0</td>\n",
              "      <td>4703200.0</td>\n",
              "      <td>1716500.0</td>\n",
              "    </tr>\n",
              "    <tr>\n",
              "      <th>2020-01-08</th>\n",
              "      <td>215.220001</td>\n",
              "      <td>1891.969971</td>\n",
              "      <td>74.909149</td>\n",
              "      <td>339.260010</td>\n",
              "      <td>1405.040039</td>\n",
              "      <td>215.220001</td>\n",
              "      <td>1891.969971</td>\n",
              "      <td>75.797501</td>\n",
              "      <td>339.260010</td>\n",
              "      <td>1405.040039</td>\n",
              "      <td>...</td>\n",
              "      <td>213.000000</td>\n",
              "      <td>1898.040039</td>\n",
              "      <td>74.290001</td>\n",
              "      <td>331.489990</td>\n",
              "      <td>1394.819946</td>\n",
              "      <td>13475000.0</td>\n",
              "      <td>3508000.0</td>\n",
              "      <td>132079200.0</td>\n",
              "      <td>7104500.0</td>\n",
              "      <td>1765700.0</td>\n",
              "    </tr>\n",
              "  </tbody>\n",
              "</table>\n",
              "<p>5 rows × 30 columns</p>\n",
              "</div>"
            ],
            "text/plain": [
              "Attributes   Adj Close                                                   \\\n",
              "Symbols             FB         AMZN       AAPL        NFLX        GOOGL   \n",
              "Date                                                                      \n",
              "2020-01-02  209.779999  1898.010010  74.207466  329.809998  1368.680054   \n",
              "2020-01-03  208.669998  1874.969971  73.486023  325.899994  1361.520020   \n",
              "2020-01-06  212.600006  1902.880005  74.071579  335.829987  1397.810059   \n",
              "2020-01-07  213.059998  1906.859985  73.723213  330.750000  1395.109985   \n",
              "2020-01-08  215.220001  1891.969971  74.909149  339.260010  1405.040039   \n",
              "\n",
              "Attributes       Close                                                   ...  \\\n",
              "Symbols             FB         AMZN       AAPL        NFLX        GOOGL  ...   \n",
              "Date                                                                     ...   \n",
              "2020-01-02  209.779999  1898.010010  75.087502  329.809998  1368.680054  ...   \n",
              "2020-01-03  208.669998  1874.969971  74.357498  325.899994  1361.520020  ...   \n",
              "2020-01-06  212.600006  1902.880005  74.949997  335.829987  1397.810059  ...   \n",
              "2020-01-07  213.059998  1906.859985  74.597504  330.750000  1395.109985  ...   \n",
              "2020-01-08  215.220001  1891.969971  75.797501  339.260010  1405.040039  ...   \n",
              "\n",
              "Attributes        Open                                                   \\\n",
              "Symbols             FB         AMZN       AAPL        NFLX        GOOGL   \n",
              "Date                                                                      \n",
              "2020-01-02  206.750000  1875.000000  74.059998  326.100006  1348.410034   \n",
              "2020-01-03  207.210007  1864.500000  74.287498  326.779999  1348.000000   \n",
              "2020-01-06  206.699997  1860.000000  73.447502  323.119995  1351.630005   \n",
              "2020-01-07  212.820007  1904.500000  74.959999  336.470001  1400.459961   \n",
              "2020-01-08  213.000000  1898.040039  74.290001  331.489990  1394.819946   \n",
              "\n",
              "Attributes      Volume                                                \n",
              "Symbols             FB       AMZN         AAPL       NFLX      GOOGL  \n",
              "Date                                                                  \n",
              "2020-01-02  12077100.0  4029000.0  135480400.0  4485800.0  1363900.0  \n",
              "2020-01-03  11188400.0  3764400.0  146322800.0  3806900.0  1170400.0  \n",
              "2020-01-06  17058900.0  4061800.0  118387200.0  5663100.0  2338400.0  \n",
              "2020-01-07  14912400.0  4044900.0  108872000.0  4703200.0  1716500.0  \n",
              "2020-01-08  13475000.0  3508000.0  132079200.0  7104500.0  1765700.0  \n",
              "\n",
              "[5 rows x 30 columns]"
            ]
          },
          "metadata": {
            "tags": []
          },
          "execution_count": 13
        }
      ]
    },
    {
      "cell_type": "code",
      "metadata": {
        "id": "OPv64eKhakRv",
        "outputId": "b095347e-7294-426f-d47c-9312ec7e7aad"
      },
      "source": [
        "#Seleccionar solo las columnas Adj Close\n",
        "df_FAANG = df.iloc[:, df.columns.get_level_values(0)=='Adj Close']\n",
        "df_FAANG\n"
      ],
      "execution_count": null,
      "outputs": [
        {
          "output_type": "execute_result",
          "data": {
            "text/html": [
              "<div>\n",
              "<style scoped>\n",
              "    .dataframe tbody tr th:only-of-type {\n",
              "        vertical-align: middle;\n",
              "    }\n",
              "\n",
              "    .dataframe tbody tr th {\n",
              "        vertical-align: top;\n",
              "    }\n",
              "\n",
              "    .dataframe thead tr th {\n",
              "        text-align: left;\n",
              "    }\n",
              "\n",
              "    .dataframe thead tr:last-of-type th {\n",
              "        text-align: right;\n",
              "    }\n",
              "</style>\n",
              "<table border=\"1\" class=\"dataframe\">\n",
              "  <thead>\n",
              "    <tr>\n",
              "      <th>Attributes</th>\n",
              "      <th colspan=\"5\" halign=\"left\">Adj Close</th>\n",
              "    </tr>\n",
              "    <tr>\n",
              "      <th>Symbols</th>\n",
              "      <th>FB</th>\n",
              "      <th>AMZN</th>\n",
              "      <th>AAPL</th>\n",
              "      <th>NFLX</th>\n",
              "      <th>GOOGL</th>\n",
              "    </tr>\n",
              "    <tr>\n",
              "      <th>Date</th>\n",
              "      <th></th>\n",
              "      <th></th>\n",
              "      <th></th>\n",
              "      <th></th>\n",
              "      <th></th>\n",
              "    </tr>\n",
              "  </thead>\n",
              "  <tbody>\n",
              "    <tr>\n",
              "      <th>2020-01-02</th>\n",
              "      <td>209.779999</td>\n",
              "      <td>1898.010010</td>\n",
              "      <td>74.207466</td>\n",
              "      <td>329.809998</td>\n",
              "      <td>1368.680054</td>\n",
              "    </tr>\n",
              "    <tr>\n",
              "      <th>2020-01-03</th>\n",
              "      <td>208.669998</td>\n",
              "      <td>1874.969971</td>\n",
              "      <td>73.486023</td>\n",
              "      <td>325.899994</td>\n",
              "      <td>1361.520020</td>\n",
              "    </tr>\n",
              "    <tr>\n",
              "      <th>2020-01-06</th>\n",
              "      <td>212.600006</td>\n",
              "      <td>1902.880005</td>\n",
              "      <td>74.071579</td>\n",
              "      <td>335.829987</td>\n",
              "      <td>1397.810059</td>\n",
              "    </tr>\n",
              "    <tr>\n",
              "      <th>2020-01-07</th>\n",
              "      <td>213.059998</td>\n",
              "      <td>1906.859985</td>\n",
              "      <td>73.723213</td>\n",
              "      <td>330.750000</td>\n",
              "      <td>1395.109985</td>\n",
              "    </tr>\n",
              "    <tr>\n",
              "      <th>2020-01-08</th>\n",
              "      <td>215.220001</td>\n",
              "      <td>1891.969971</td>\n",
              "      <td>74.909149</td>\n",
              "      <td>339.260010</td>\n",
              "      <td>1405.040039</td>\n",
              "    </tr>\n",
              "    <tr>\n",
              "      <th>...</th>\n",
              "      <td>...</td>\n",
              "      <td>...</td>\n",
              "      <td>...</td>\n",
              "      <td>...</td>\n",
              "      <td>...</td>\n",
              "    </tr>\n",
              "    <tr>\n",
              "      <th>2020-12-24</th>\n",
              "      <td>267.399994</td>\n",
              "      <td>3172.689941</td>\n",
              "      <td>131.549637</td>\n",
              "      <td>513.969971</td>\n",
              "      <td>1734.160034</td>\n",
              "    </tr>\n",
              "    <tr>\n",
              "      <th>2020-12-28</th>\n",
              "      <td>277.000000</td>\n",
              "      <td>3283.959961</td>\n",
              "      <td>136.254608</td>\n",
              "      <td>519.119995</td>\n",
              "      <td>1773.959961</td>\n",
              "    </tr>\n",
              "    <tr>\n",
              "      <th>2020-12-29</th>\n",
              "      <td>276.779999</td>\n",
              "      <td>3322.000000</td>\n",
              "      <td>134.440399</td>\n",
              "      <td>530.869995</td>\n",
              "      <td>1757.760010</td>\n",
              "    </tr>\n",
              "    <tr>\n",
              "      <th>2020-12-30</th>\n",
              "      <td>271.869995</td>\n",
              "      <td>3285.850098</td>\n",
              "      <td>133.294067</td>\n",
              "      <td>524.590027</td>\n",
              "      <td>1736.250000</td>\n",
              "    </tr>\n",
              "    <tr>\n",
              "      <th>2020-12-31</th>\n",
              "      <td>273.160004</td>\n",
              "      <td>3256.929932</td>\n",
              "      <td>132.267349</td>\n",
              "      <td>540.729980</td>\n",
              "      <td>1752.640015</td>\n",
              "    </tr>\n",
              "  </tbody>\n",
              "</table>\n",
              "<p>253 rows × 5 columns</p>\n",
              "</div>"
            ],
            "text/plain": [
              "Attributes   Adj Close                                                  \n",
              "Symbols             FB         AMZN        AAPL        NFLX        GOOGL\n",
              "Date                                                                    \n",
              "2020-01-02  209.779999  1898.010010   74.207466  329.809998  1368.680054\n",
              "2020-01-03  208.669998  1874.969971   73.486023  325.899994  1361.520020\n",
              "2020-01-06  212.600006  1902.880005   74.071579  335.829987  1397.810059\n",
              "2020-01-07  213.059998  1906.859985   73.723213  330.750000  1395.109985\n",
              "2020-01-08  215.220001  1891.969971   74.909149  339.260010  1405.040039\n",
              "...                ...          ...         ...         ...          ...\n",
              "2020-12-24  267.399994  3172.689941  131.549637  513.969971  1734.160034\n",
              "2020-12-28  277.000000  3283.959961  136.254608  519.119995  1773.959961\n",
              "2020-12-29  276.779999  3322.000000  134.440399  530.869995  1757.760010\n",
              "2020-12-30  271.869995  3285.850098  133.294067  524.590027  1736.250000\n",
              "2020-12-31  273.160004  3256.929932  132.267349  540.729980  1752.640015\n",
              "\n",
              "[253 rows x 5 columns]"
            ]
          },
          "metadata": {
            "tags": []
          },
          "execution_count": 14
        }
      ]
    },
    {
      "cell_type": "code",
      "metadata": {
        "id": "H70SqKYiakRw",
        "outputId": "7041a34c-0378-440b-d472-ec3a15afa897"
      },
      "source": [
        "#Eliminar un nivel a las columnas para poder trabajar con los valores\n",
        "df_FAANG.columns=df_FAANG.columns.droplevel(0)\n",
        "df_FAANG.columns\n"
      ],
      "execution_count": null,
      "outputs": [
        {
          "output_type": "execute_result",
          "data": {
            "text/plain": [
              "Index(['FB', 'AMZN', 'AAPL', 'NFLX', 'GOOGL'], dtype='object', name='Symbols')"
            ]
          },
          "metadata": {
            "tags": []
          },
          "execution_count": 15
        }
      ]
    },
    {
      "cell_type": "code",
      "metadata": {
        "id": "R7E0f3onakRw",
        "outputId": "dad71951-d618-4743-bdf8-8090a411dc8c"
      },
      "source": [
        "ganancia_facebook = (df_FAANG.iloc[-1][\"FB\"]-df_FAANG.iloc [0][\"FB\"])/df_FAANG.iloc [0][\"FB\"]\n",
        "print (\"La Ganancia Anual de Facebook es de \", ganancia_facebook.round (2), \"%\")\n",
        "ganancia_amazon = (df_FAANG.iloc[-1][\"AMZN\"]-df_FAANG.iloc [0][\"AMZN\"])/df_FAANG.iloc [0][\"AMZN\"]\n",
        "print (\"La Ganacia Anual de Amazon es de \", ganancia_amazon.round (2), \"%\")\n",
        "ganancia_apple = (df_FAANG.iloc[-1][\"AAPL\"]-df_FAANG.iloc [0][\"AAPL\"])/df_FAANG.iloc [0][\"AAPL\"]\n",
        "print (\"La Ganacia Anual de Apple es de \", ganancia_apple.round (2), \"%\")\n",
        "ganancia_netflix = (df_FAANG.iloc[-1][\"NFLX\"]-df_FAANG.iloc [0][\"NFLX\"])/df_FAANG.iloc [0][\"NFLX\"]\n",
        "print (\"La Ganacia Anual de Netflix es de \", ganancia_netflix.round (2), \"%\")\n",
        "ganancia_google = (df_FAANG.iloc[-1][\"GOOGL\"]-df_FAANG.iloc [0][\"GOOGL\"])/df_FAANG.iloc [0][\"GOOGL\"]\n",
        "print (\"La Ganacia Anual de Google es de \", ganancia_google.round (2), \"%\")"
      ],
      "execution_count": null,
      "outputs": [
        {
          "output_type": "stream",
          "text": [
            "La Ganancia Anual de Facebook es de  0.3 %\n",
            "La Ganacia Anual de Amazon es de  0.72 %\n",
            "La Ganacia Anual de Apple es de  0.78 %\n",
            "La Ganacia Anual de Netflix es de  0.64 %\n",
            "La Ganacia Anual de Google es de  0.28 %\n"
          ],
          "name": "stdout"
        }
      ]
    },
    {
      "cell_type": "code",
      "metadata": {
        "id": "0tQ4u7uPakRw",
        "outputId": "ab176487-d3da-4566-d368-d5299c65fd7a"
      },
      "source": [
        "monto = 2000\n",
        "df_FAANG_20=df_FAANG\n",
        "df_FAANG_20[\"Cantidad FB\"] = monto/df_FAANG_20.iloc[0,0]\n",
        "df_FAANG_20[\"Total FB\"] = df_FAANG_20 [\"FB\"]*df_FAANG_20[\"Cantidad FB\"]\n",
        "df_FAANG_20[\"Cantidad AMZN\"] = monto/df_FAANG_20.iloc[0,1]\n",
        "df_FAANG_20[\"Total AMZN\"] = df_FAANG_20 [\"AMZN\"]*df_FAANG_20[\"Cantidad AMZN\"]\n",
        "df_FAANG_20[\"Cantidad AAPL\"] = monto/df_FAANG_20.iloc[0,2]\n",
        "df_FAANG_20[\"Total AAPL\"] = df_FAANG_20 [\"AAPL\"]*df_FAANG_20[\"Cantidad AAPL\"]\n",
        "df_FAANG_20[\"Cantidad NFLX\"] = monto/df_FAANG_20.iloc[0,3]\n",
        "df_FAANG_20[\"Total NFLX\"] = df_FAANG_20 [\"NFLX\"]*df_FAANG_20[\"Cantidad NFLX\"]\n",
        "df_FAANG_20[\"Cantidad GOOGL\"] = monto/df_FAANG_20.iloc[0,4]\n",
        "df_FAANG_20[\"Total GOOGL\"] = df_FAANG_20 [\"GOOGL\"]*df_FAANG_20[\"Cantidad GOOGL\"]\n",
        "df_FAANG_20 [\"Cartera Equilibrada\"]= df_FAANG_20[\"Total FB\"] + df_FAANG_20[\"Total AMZN\"] + df_FAANG_20[\"Total AAPL\"] + df_FAANG_20[\"Total NFLX\"]+df_FAANG_20[\"Total GOOGL\"]\n",
        "df_FAANG_20"
      ],
      "execution_count": null,
      "outputs": [
        {
          "output_type": "stream",
          "text": [
            "<ipython-input-35-834b69040bbc>:3: SettingWithCopyWarning: \n",
            "A value is trying to be set on a copy of a slice from a DataFrame.\n",
            "Try using .loc[row_indexer,col_indexer] = value instead\n",
            "\n",
            "See the caveats in the documentation: https://pandas.pydata.org/pandas-docs/stable/user_guide/indexing.html#returning-a-view-versus-a-copy\n",
            "  df_FAANG_20[\"Cantidad FB\"] = monto/df_FAANG_20.iloc[0,0]\n",
            "<ipython-input-35-834b69040bbc>:4: SettingWithCopyWarning: \n",
            "A value is trying to be set on a copy of a slice from a DataFrame.\n",
            "Try using .loc[row_indexer,col_indexer] = value instead\n",
            "\n",
            "See the caveats in the documentation: https://pandas.pydata.org/pandas-docs/stable/user_guide/indexing.html#returning-a-view-versus-a-copy\n",
            "  df_FAANG_20[\"Total FB\"] = df_FAANG_20 [\"FB\"]*df_FAANG_20[\"Cantidad FB\"]\n",
            "<ipython-input-35-834b69040bbc>:5: SettingWithCopyWarning: \n",
            "A value is trying to be set on a copy of a slice from a DataFrame.\n",
            "Try using .loc[row_indexer,col_indexer] = value instead\n",
            "\n",
            "See the caveats in the documentation: https://pandas.pydata.org/pandas-docs/stable/user_guide/indexing.html#returning-a-view-versus-a-copy\n",
            "  df_FAANG_20[\"Cantidad AMZN\"] = monto/df_FAANG_20.iloc[0,1]\n",
            "<ipython-input-35-834b69040bbc>:6: SettingWithCopyWarning: \n",
            "A value is trying to be set on a copy of a slice from a DataFrame.\n",
            "Try using .loc[row_indexer,col_indexer] = value instead\n",
            "\n",
            "See the caveats in the documentation: https://pandas.pydata.org/pandas-docs/stable/user_guide/indexing.html#returning-a-view-versus-a-copy\n",
            "  df_FAANG_20[\"Total AMZN\"] = df_FAANG_20 [\"AMZN\"]*df_FAANG_20[\"Cantidad AMZN\"]\n",
            "<ipython-input-35-834b69040bbc>:7: SettingWithCopyWarning: \n",
            "A value is trying to be set on a copy of a slice from a DataFrame.\n",
            "Try using .loc[row_indexer,col_indexer] = value instead\n",
            "\n",
            "See the caveats in the documentation: https://pandas.pydata.org/pandas-docs/stable/user_guide/indexing.html#returning-a-view-versus-a-copy\n",
            "  df_FAANG_20[\"Cantidad AAPL\"] = monto/df_FAANG_20.iloc[0,2]\n",
            "<ipython-input-35-834b69040bbc>:8: SettingWithCopyWarning: \n",
            "A value is trying to be set on a copy of a slice from a DataFrame.\n",
            "Try using .loc[row_indexer,col_indexer] = value instead\n",
            "\n",
            "See the caveats in the documentation: https://pandas.pydata.org/pandas-docs/stable/user_guide/indexing.html#returning-a-view-versus-a-copy\n",
            "  df_FAANG_20[\"Total AAPL\"] = df_FAANG_20 [\"AAPL\"]*df_FAANG_20[\"Cantidad AAPL\"]\n",
            "<ipython-input-35-834b69040bbc>:9: SettingWithCopyWarning: \n",
            "A value is trying to be set on a copy of a slice from a DataFrame.\n",
            "Try using .loc[row_indexer,col_indexer] = value instead\n",
            "\n",
            "See the caveats in the documentation: https://pandas.pydata.org/pandas-docs/stable/user_guide/indexing.html#returning-a-view-versus-a-copy\n",
            "  df_FAANG_20[\"Cantidad NFLX\"] = monto/df_FAANG_20.iloc[0,3]\n",
            "<ipython-input-35-834b69040bbc>:10: SettingWithCopyWarning: \n",
            "A value is trying to be set on a copy of a slice from a DataFrame.\n",
            "Try using .loc[row_indexer,col_indexer] = value instead\n",
            "\n",
            "See the caveats in the documentation: https://pandas.pydata.org/pandas-docs/stable/user_guide/indexing.html#returning-a-view-versus-a-copy\n",
            "  df_FAANG_20[\"Total NFLX\"] = df_FAANG_20 [\"NFLX\"]*df_FAANG_20[\"Cantidad NFLX\"]\n",
            "<ipython-input-35-834b69040bbc>:11: SettingWithCopyWarning: \n",
            "A value is trying to be set on a copy of a slice from a DataFrame.\n",
            "Try using .loc[row_indexer,col_indexer] = value instead\n",
            "\n",
            "See the caveats in the documentation: https://pandas.pydata.org/pandas-docs/stable/user_guide/indexing.html#returning-a-view-versus-a-copy\n",
            "  df_FAANG_20[\"Cantidad GOOGL\"] = monto/df_FAANG_20.iloc[0,4]\n",
            "<ipython-input-35-834b69040bbc>:12: SettingWithCopyWarning: \n",
            "A value is trying to be set on a copy of a slice from a DataFrame.\n",
            "Try using .loc[row_indexer,col_indexer] = value instead\n",
            "\n",
            "See the caveats in the documentation: https://pandas.pydata.org/pandas-docs/stable/user_guide/indexing.html#returning-a-view-versus-a-copy\n",
            "  df_FAANG_20[\"Total GOOGL\"] = df_FAANG_20 [\"GOOGL\"]*df_FAANG_20[\"Cantidad GOOGL\"]\n",
            "<ipython-input-35-834b69040bbc>:13: SettingWithCopyWarning: \n",
            "A value is trying to be set on a copy of a slice from a DataFrame.\n",
            "Try using .loc[row_indexer,col_indexer] = value instead\n",
            "\n",
            "See the caveats in the documentation: https://pandas.pydata.org/pandas-docs/stable/user_guide/indexing.html#returning-a-view-versus-a-copy\n",
            "  df_FAANG_20 [\"Cartera Equilibrada\"]= df_FAANG_20[\"Total FB\"] + df_FAANG_20[\"Total AMZN\"] + df_FAANG_20[\"Total AAPL\"] + df_FAANG_20[\"Total NFLX\"]+df_FAANG_20[\"Total GOOGL\"]\n"
          ],
          "name": "stderr"
        },
        {
          "output_type": "execute_result",
          "data": {
            "text/html": [
              "<div>\n",
              "<style scoped>\n",
              "    .dataframe tbody tr th:only-of-type {\n",
              "        vertical-align: middle;\n",
              "    }\n",
              "\n",
              "    .dataframe tbody tr th {\n",
              "        vertical-align: top;\n",
              "    }\n",
              "\n",
              "    .dataframe thead th {\n",
              "        text-align: right;\n",
              "    }\n",
              "</style>\n",
              "<table border=\"1\" class=\"dataframe\">\n",
              "  <thead>\n",
              "    <tr style=\"text-align: right;\">\n",
              "      <th>Symbols</th>\n",
              "      <th>FB</th>\n",
              "      <th>AMZN</th>\n",
              "      <th>AAPL</th>\n",
              "      <th>NFLX</th>\n",
              "      <th>GOOGL</th>\n",
              "      <th>Cantidad FB</th>\n",
              "      <th>Total FB</th>\n",
              "      <th>Cantidad AMZN</th>\n",
              "      <th>Total AMZN</th>\n",
              "      <th>Cantidad AAPL</th>\n",
              "      <th>Total AAPL</th>\n",
              "      <th>Cantidad NFLX</th>\n",
              "      <th>Total NFLX</th>\n",
              "      <th>Cantidad GOOGL</th>\n",
              "      <th>Total GOOGL</th>\n",
              "      <th>Total Cartera</th>\n",
              "      <th>Cartera Equilibrada</th>\n",
              "    </tr>\n",
              "    <tr>\n",
              "      <th>Date</th>\n",
              "      <th></th>\n",
              "      <th></th>\n",
              "      <th></th>\n",
              "      <th></th>\n",
              "      <th></th>\n",
              "      <th></th>\n",
              "      <th></th>\n",
              "      <th></th>\n",
              "      <th></th>\n",
              "      <th></th>\n",
              "      <th></th>\n",
              "      <th></th>\n",
              "      <th></th>\n",
              "      <th></th>\n",
              "      <th></th>\n",
              "      <th></th>\n",
              "      <th></th>\n",
              "    </tr>\n",
              "  </thead>\n",
              "  <tbody>\n",
              "    <tr>\n",
              "      <th>2020-01-02</th>\n",
              "      <td>209.779999</td>\n",
              "      <td>1898.010010</td>\n",
              "      <td>74.207466</td>\n",
              "      <td>329.809998</td>\n",
              "      <td>1368.680054</td>\n",
              "      <td>9.533797</td>\n",
              "      <td>2000.000000</td>\n",
              "      <td>1.053735</td>\n",
              "      <td>2000.000000</td>\n",
              "      <td>26.951466</td>\n",
              "      <td>2000.000000</td>\n",
              "      <td>6.064098</td>\n",
              "      <td>2000.000000</td>\n",
              "      <td>1.461262</td>\n",
              "      <td>2000.000000</td>\n",
              "      <td>10000.000000</td>\n",
              "      <td>10000.000000</td>\n",
              "    </tr>\n",
              "    <tr>\n",
              "      <th>2020-01-03</th>\n",
              "      <td>208.669998</td>\n",
              "      <td>1874.969971</td>\n",
              "      <td>73.486023</td>\n",
              "      <td>325.899994</td>\n",
              "      <td>1361.520020</td>\n",
              "      <td>9.533797</td>\n",
              "      <td>1989.417479</td>\n",
              "      <td>1.053735</td>\n",
              "      <td>1975.721899</td>\n",
              "      <td>26.951466</td>\n",
              "      <td>1980.556049</td>\n",
              "      <td>6.064098</td>\n",
              "      <td>1976.289356</td>\n",
              "      <td>1.461262</td>\n",
              "      <td>1989.537315</td>\n",
              "      <td>9911.522098</td>\n",
              "      <td>9911.522098</td>\n",
              "    </tr>\n",
              "    <tr>\n",
              "      <th>2020-01-06</th>\n",
              "      <td>212.600006</td>\n",
              "      <td>1902.880005</td>\n",
              "      <td>74.071579</td>\n",
              "      <td>335.829987</td>\n",
              "      <td>1397.810059</td>\n",
              "      <td>9.533797</td>\n",
              "      <td>2026.885378</td>\n",
              "      <td>1.053735</td>\n",
              "      <td>2005.131685</td>\n",
              "      <td>26.951466</td>\n",
              "      <td>1996.337642</td>\n",
              "      <td>6.064098</td>\n",
              "      <td>2036.505801</td>\n",
              "      <td>1.461262</td>\n",
              "      <td>2042.566566</td>\n",
              "      <td>10107.427073</td>\n",
              "      <td>10107.427073</td>\n",
              "    </tr>\n",
              "    <tr>\n",
              "      <th>2020-01-07</th>\n",
              "      <td>213.059998</td>\n",
              "      <td>1906.859985</td>\n",
              "      <td>73.723213</td>\n",
              "      <td>330.750000</td>\n",
              "      <td>1395.109985</td>\n",
              "      <td>9.533797</td>\n",
              "      <td>2031.270844</td>\n",
              "      <td>1.053735</td>\n",
              "      <td>2009.325531</td>\n",
              "      <td>26.951466</td>\n",
              "      <td>1986.948674</td>\n",
              "      <td>6.064098</td>\n",
              "      <td>2005.700267</td>\n",
              "      <td>1.461262</td>\n",
              "      <td>2038.621052</td>\n",
              "      <td>10071.866367</td>\n",
              "      <td>10071.866367</td>\n",
              "    </tr>\n",
              "    <tr>\n",
              "      <th>2020-01-08</th>\n",
              "      <td>215.220001</td>\n",
              "      <td>1891.969971</td>\n",
              "      <td>74.909149</td>\n",
              "      <td>339.260010</td>\n",
              "      <td>1405.040039</td>\n",
              "      <td>9.533797</td>\n",
              "      <td>2051.863881</td>\n",
              "      <td>1.053735</td>\n",
              "      <td>1993.635398</td>\n",
              "      <td>26.951466</td>\n",
              "      <td>2018.911387</td>\n",
              "      <td>6.064098</td>\n",
              "      <td>2057.305796</td>\n",
              "      <td>1.461262</td>\n",
              "      <td>2053.131461</td>\n",
              "      <td>10174.847923</td>\n",
              "      <td>10174.847923</td>\n",
              "    </tr>\n",
              "    <tr>\n",
              "      <th>...</th>\n",
              "      <td>...</td>\n",
              "      <td>...</td>\n",
              "      <td>...</td>\n",
              "      <td>...</td>\n",
              "      <td>...</td>\n",
              "      <td>...</td>\n",
              "      <td>...</td>\n",
              "      <td>...</td>\n",
              "      <td>...</td>\n",
              "      <td>...</td>\n",
              "      <td>...</td>\n",
              "      <td>...</td>\n",
              "      <td>...</td>\n",
              "      <td>...</td>\n",
              "      <td>...</td>\n",
              "      <td>...</td>\n",
              "      <td>...</td>\n",
              "    </tr>\n",
              "    <tr>\n",
              "      <th>2020-12-24</th>\n",
              "      <td>267.399994</td>\n",
              "      <td>3172.689941</td>\n",
              "      <td>131.549637</td>\n",
              "      <td>513.969971</td>\n",
              "      <td>1734.160034</td>\n",
              "      <td>9.533797</td>\n",
              "      <td>2549.337358</td>\n",
              "      <td>1.053735</td>\n",
              "      <td>3343.175141</td>\n",
              "      <td>26.951466</td>\n",
              "      <td>3545.455564</td>\n",
              "      <td>6.064098</td>\n",
              "      <td>3116.764043</td>\n",
              "      <td>1.461262</td>\n",
              "      <td>2534.061966</td>\n",
              "      <td>15088.794073</td>\n",
              "      <td>15088.794073</td>\n",
              "    </tr>\n",
              "    <tr>\n",
              "      <th>2020-12-28</th>\n",
              "      <td>277.000000</td>\n",
              "      <td>3283.959961</td>\n",
              "      <td>136.254608</td>\n",
              "      <td>519.119995</td>\n",
              "      <td>1773.959961</td>\n",
              "      <td>9.533797</td>\n",
              "      <td>2640.861871</td>\n",
              "      <td>1.053735</td>\n",
              "      <td>3460.424280</td>\n",
              "      <td>26.951466</td>\n",
              "      <td>3672.261439</td>\n",
              "      <td>6.064098</td>\n",
              "      <td>3147.994293</td>\n",
              "      <td>1.461262</td>\n",
              "      <td>2592.220083</td>\n",
              "      <td>15513.761965</td>\n",
              "      <td>15513.761965</td>\n",
              "    </tr>\n",
              "    <tr>\n",
              "      <th>2020-12-29</th>\n",
              "      <td>276.779999</td>\n",
              "      <td>3322.000000</td>\n",
              "      <td>134.440399</td>\n",
              "      <td>530.869995</td>\n",
              "      <td>1757.760010</td>\n",
              "      <td>9.533797</td>\n",
              "      <td>2638.764424</td>\n",
              "      <td>1.053735</td>\n",
              "      <td>3500.508409</td>\n",
              "      <td>26.951466</td>\n",
              "      <td>3623.365847</td>\n",
              "      <td>6.064098</td>\n",
              "      <td>3219.247440</td>\n",
              "      <td>1.461262</td>\n",
              "      <td>2568.547711</td>\n",
              "      <td>15550.433831</td>\n",
              "      <td>15550.433831</td>\n",
              "    </tr>\n",
              "    <tr>\n",
              "      <th>2020-12-30</th>\n",
              "      <td>271.869995</td>\n",
              "      <td>3285.850098</td>\n",
              "      <td>133.294067</td>\n",
              "      <td>524.590027</td>\n",
              "      <td>1736.250000</td>\n",
              "      <td>9.533797</td>\n",
              "      <td>2591.953444</td>\n",
              "      <td>1.053735</td>\n",
              "      <td>3462.415984</td>\n",
              "      <td>26.951466</td>\n",
              "      <td>3592.470525</td>\n",
              "      <td>6.064098</td>\n",
              "      <td>3181.165100</td>\n",
              "      <td>1.461262</td>\n",
              "      <td>2537.115954</td>\n",
              "      <td>15365.121006</td>\n",
              "      <td>15365.121006</td>\n",
              "    </tr>\n",
              "    <tr>\n",
              "      <th>2020-12-31</th>\n",
              "      <td>273.160004</td>\n",
              "      <td>3256.929932</td>\n",
              "      <td>132.267349</td>\n",
              "      <td>540.729980</td>\n",
              "      <td>1752.640015</td>\n",
              "      <td>9.533797</td>\n",
              "      <td>2604.252124</td>\n",
              "      <td>1.053735</td>\n",
              "      <td>3431.941786</td>\n",
              "      <td>26.951466</td>\n",
              "      <td>3564.798966</td>\n",
              "      <td>6.064098</td>\n",
              "      <td>3279.039353</td>\n",
              "      <td>1.461262</td>\n",
              "      <td>2561.066058</td>\n",
              "      <td>15441.098286</td>\n",
              "      <td>15441.098286</td>\n",
              "    </tr>\n",
              "  </tbody>\n",
              "</table>\n",
              "<p>253 rows × 17 columns</p>\n",
              "</div>"
            ],
            "text/plain": [
              "Symbols             FB         AMZN        AAPL        NFLX        GOOGL  \\\n",
              "Date                                                                       \n",
              "2020-01-02  209.779999  1898.010010   74.207466  329.809998  1368.680054   \n",
              "2020-01-03  208.669998  1874.969971   73.486023  325.899994  1361.520020   \n",
              "2020-01-06  212.600006  1902.880005   74.071579  335.829987  1397.810059   \n",
              "2020-01-07  213.059998  1906.859985   73.723213  330.750000  1395.109985   \n",
              "2020-01-08  215.220001  1891.969971   74.909149  339.260010  1405.040039   \n",
              "...                ...          ...         ...         ...          ...   \n",
              "2020-12-24  267.399994  3172.689941  131.549637  513.969971  1734.160034   \n",
              "2020-12-28  277.000000  3283.959961  136.254608  519.119995  1773.959961   \n",
              "2020-12-29  276.779999  3322.000000  134.440399  530.869995  1757.760010   \n",
              "2020-12-30  271.869995  3285.850098  133.294067  524.590027  1736.250000   \n",
              "2020-12-31  273.160004  3256.929932  132.267349  540.729980  1752.640015   \n",
              "\n",
              "Symbols     Cantidad FB     Total FB  Cantidad AMZN   Total AMZN  \\\n",
              "Date                                                               \n",
              "2020-01-02     9.533797  2000.000000       1.053735  2000.000000   \n",
              "2020-01-03     9.533797  1989.417479       1.053735  1975.721899   \n",
              "2020-01-06     9.533797  2026.885378       1.053735  2005.131685   \n",
              "2020-01-07     9.533797  2031.270844       1.053735  2009.325531   \n",
              "2020-01-08     9.533797  2051.863881       1.053735  1993.635398   \n",
              "...                 ...          ...            ...          ...   \n",
              "2020-12-24     9.533797  2549.337358       1.053735  3343.175141   \n",
              "2020-12-28     9.533797  2640.861871       1.053735  3460.424280   \n",
              "2020-12-29     9.533797  2638.764424       1.053735  3500.508409   \n",
              "2020-12-30     9.533797  2591.953444       1.053735  3462.415984   \n",
              "2020-12-31     9.533797  2604.252124       1.053735  3431.941786   \n",
              "\n",
              "Symbols     Cantidad AAPL   Total AAPL  Cantidad NFLX   Total NFLX  \\\n",
              "Date                                                                 \n",
              "2020-01-02      26.951466  2000.000000       6.064098  2000.000000   \n",
              "2020-01-03      26.951466  1980.556049       6.064098  1976.289356   \n",
              "2020-01-06      26.951466  1996.337642       6.064098  2036.505801   \n",
              "2020-01-07      26.951466  1986.948674       6.064098  2005.700267   \n",
              "2020-01-08      26.951466  2018.911387       6.064098  2057.305796   \n",
              "...                   ...          ...            ...          ...   \n",
              "2020-12-24      26.951466  3545.455564       6.064098  3116.764043   \n",
              "2020-12-28      26.951466  3672.261439       6.064098  3147.994293   \n",
              "2020-12-29      26.951466  3623.365847       6.064098  3219.247440   \n",
              "2020-12-30      26.951466  3592.470525       6.064098  3181.165100   \n",
              "2020-12-31      26.951466  3564.798966       6.064098  3279.039353   \n",
              "\n",
              "Symbols     Cantidad GOOGL  Total GOOGL  Total Cartera  Cartera Equilibrada  \n",
              "Date                                                                         \n",
              "2020-01-02        1.461262  2000.000000   10000.000000         10000.000000  \n",
              "2020-01-03        1.461262  1989.537315    9911.522098          9911.522098  \n",
              "2020-01-06        1.461262  2042.566566   10107.427073         10107.427073  \n",
              "2020-01-07        1.461262  2038.621052   10071.866367         10071.866367  \n",
              "2020-01-08        1.461262  2053.131461   10174.847923         10174.847923  \n",
              "...                    ...          ...            ...                  ...  \n",
              "2020-12-24        1.461262  2534.061966   15088.794073         15088.794073  \n",
              "2020-12-28        1.461262  2592.220083   15513.761965         15513.761965  \n",
              "2020-12-29        1.461262  2568.547711   15550.433831         15550.433831  \n",
              "2020-12-30        1.461262  2537.115954   15365.121006         15365.121006  \n",
              "2020-12-31        1.461262  2561.066058   15441.098286         15441.098286  \n",
              "\n",
              "[253 rows x 17 columns]"
            ]
          },
          "metadata": {
            "tags": []
          },
          "execution_count": 35
        }
      ]
    },
    {
      "cell_type": "code",
      "metadata": {
        "id": "2d5f7kuuakRw",
        "outputId": "631589f9-436e-4235-a8c0-096c01005364"
      },
      "source": [
        "df0 = df_FAANG_20[\"Cartera Equilibrada\"]\n",
        "df0"
      ],
      "execution_count": null,
      "outputs": [
        {
          "output_type": "execute_result",
          "data": {
            "text/plain": [
              "Date\n",
              "2020-01-02    10000.000000\n",
              "2020-01-03     9911.522098\n",
              "2020-01-06    10107.427073\n",
              "2020-01-07    10071.866367\n",
              "2020-01-08    10174.847923\n",
              "                  ...     \n",
              "2020-12-24    15088.794073\n",
              "2020-12-28    15513.761965\n",
              "2020-12-29    15550.433831\n",
              "2020-12-30    15365.121006\n",
              "2020-12-31    15441.098286\n",
              "Name: Cartera Equilibrada, Length: 253, dtype: float64"
            ]
          },
          "metadata": {
            "tags": []
          },
          "execution_count": 36
        }
      ]
    },
    {
      "cell_type": "code",
      "metadata": {
        "id": "vqMZT24PakRx",
        "outputId": "41f67f9d-338c-4e60-f87b-10341003c259"
      },
      "source": [
        "import numpy as np\n",
        "def cartera_aleatoria (lista, df):\n",
        "    monto_FB = lista [0] * 10000\n",
        "    monto_AMZN = lista [1] * 10000\n",
        "    monto_AAPL = lista [2] * 10000\n",
        "    monto_NFLX = lista [3] * 10000\n",
        "    monto_GOOGL = lista [4] * 10000\n",
        "    df [\"Cantidad FB\"] = monto_FB/df.iloc[0,0]\n",
        "    df [\"Total FB\"] = df [\"FB\"]*df[\"Cantidad FB\"]\n",
        "    df [\"Cantidad AMZN\"] = monto_AMZN /df.iloc[0,1]\n",
        "    df[\"Total AMZN\"] = df [\"AMZN\"]*df [\"Cantidad AMZN\"]\n",
        "    df [\"Cantidad AAPL\"] = monto_AAPL /df.iloc[0,2]\n",
        "    df[\"Total AAPL\"] = df[\"AAPL\"]*df[\"Cantidad AAPL\"]\n",
        "    df[\"Cantidad NFLX\"] = monto_NFLX /df.iloc[0,3]\n",
        "    df[\"Total NFLX\"] = df[\"NFLX\"]*df[\"Cantidad NFLX\"]\n",
        "    df[\"Cantidad GOOGL\"] = monto_GOOGL /df.iloc[0,4]\n",
        "    df[\"Total GOOGL\"] = df [\"GOOGL\"]*df[\"Cantidad GOOGL\"]\n",
        "    df[\"Total Cartera\"]= df[\"Total FB\"] + df[\"Total AMZN\"] + df[\"Total AAPL\"] + df[\"Total NFLX\"]+df[\"Total GOOGL\"]\n",
        "    return (df)\n",
        "\n",
        "lista_random = np.random.random(5) # genero lista de 5 elementos random\n",
        "lista_random = lista_random  / lista_random.sum()  # a cada elemento lo divido por la suma de todos\n",
        "print (lista_random)                          \n",
        "cartera1 = cartera_aleatoria(lista_random, df_FAANG)\n",
        "\n",
        "cartera1 = cartera1.rename(columns= {\"Total Cartera\": \"Cartera 1\"})\n",
        "cartera1\n",
        "df1 = cartera1 [\"Cartera 1\"]\n",
        "df1\n"
      ],
      "execution_count": null,
      "outputs": [
        {
          "output_type": "stream",
          "text": [
            "[0.11023285 0.05589259 0.29986877 0.46741012 0.06659566]\n"
          ],
          "name": "stdout"
        },
        {
          "output_type": "stream",
          "text": [
            "<ipython-input-28-0936b3e1dbcc>:8: SettingWithCopyWarning: \n",
            "A value is trying to be set on a copy of a slice from a DataFrame.\n",
            "Try using .loc[row_indexer,col_indexer] = value instead\n",
            "\n",
            "See the caveats in the documentation: https://pandas.pydata.org/pandas-docs/stable/user_guide/indexing.html#returning-a-view-versus-a-copy\n",
            "  df [\"Cantidad FB\"] = monto_FB/df.iloc[0,0]\n",
            "<ipython-input-28-0936b3e1dbcc>:9: SettingWithCopyWarning: \n",
            "A value is trying to be set on a copy of a slice from a DataFrame.\n",
            "Try using .loc[row_indexer,col_indexer] = value instead\n",
            "\n",
            "See the caveats in the documentation: https://pandas.pydata.org/pandas-docs/stable/user_guide/indexing.html#returning-a-view-versus-a-copy\n",
            "  df [\"Total FB\"] = df [\"FB\"]*df[\"Cantidad FB\"]\n",
            "<ipython-input-28-0936b3e1dbcc>:10: SettingWithCopyWarning: \n",
            "A value is trying to be set on a copy of a slice from a DataFrame.\n",
            "Try using .loc[row_indexer,col_indexer] = value instead\n",
            "\n",
            "See the caveats in the documentation: https://pandas.pydata.org/pandas-docs/stable/user_guide/indexing.html#returning-a-view-versus-a-copy\n",
            "  df [\"Cantidad AMZN\"] = monto_AMZN /df.iloc[0,1]\n",
            "<ipython-input-28-0936b3e1dbcc>:11: SettingWithCopyWarning: \n",
            "A value is trying to be set on a copy of a slice from a DataFrame.\n",
            "Try using .loc[row_indexer,col_indexer] = value instead\n",
            "\n",
            "See the caveats in the documentation: https://pandas.pydata.org/pandas-docs/stable/user_guide/indexing.html#returning-a-view-versus-a-copy\n",
            "  df[\"Total AMZN\"] = df [\"AMZN\"]*df [\"Cantidad AMZN\"]\n",
            "<ipython-input-28-0936b3e1dbcc>:12: SettingWithCopyWarning: \n",
            "A value is trying to be set on a copy of a slice from a DataFrame.\n",
            "Try using .loc[row_indexer,col_indexer] = value instead\n",
            "\n",
            "See the caveats in the documentation: https://pandas.pydata.org/pandas-docs/stable/user_guide/indexing.html#returning-a-view-versus-a-copy\n",
            "  df [\"Cantidad AAPL\"] = monto_AAPL /df.iloc[0,2]\n",
            "<ipython-input-28-0936b3e1dbcc>:13: SettingWithCopyWarning: \n",
            "A value is trying to be set on a copy of a slice from a DataFrame.\n",
            "Try using .loc[row_indexer,col_indexer] = value instead\n",
            "\n",
            "See the caveats in the documentation: https://pandas.pydata.org/pandas-docs/stable/user_guide/indexing.html#returning-a-view-versus-a-copy\n",
            "  df[\"Total AAPL\"] = df[\"AAPL\"]*df[\"Cantidad AAPL\"]\n",
            "<ipython-input-28-0936b3e1dbcc>:14: SettingWithCopyWarning: \n",
            "A value is trying to be set on a copy of a slice from a DataFrame.\n",
            "Try using .loc[row_indexer,col_indexer] = value instead\n",
            "\n",
            "See the caveats in the documentation: https://pandas.pydata.org/pandas-docs/stable/user_guide/indexing.html#returning-a-view-versus-a-copy\n",
            "  df[\"Cantidad NFLX\"] = monto_NFLX /df.iloc[0,3]\n",
            "<ipython-input-28-0936b3e1dbcc>:15: SettingWithCopyWarning: \n",
            "A value is trying to be set on a copy of a slice from a DataFrame.\n",
            "Try using .loc[row_indexer,col_indexer] = value instead\n",
            "\n",
            "See the caveats in the documentation: https://pandas.pydata.org/pandas-docs/stable/user_guide/indexing.html#returning-a-view-versus-a-copy\n",
            "  df[\"Total NFLX\"] = df[\"NFLX\"]*df[\"Cantidad NFLX\"]\n",
            "<ipython-input-28-0936b3e1dbcc>:16: SettingWithCopyWarning: \n",
            "A value is trying to be set on a copy of a slice from a DataFrame.\n",
            "Try using .loc[row_indexer,col_indexer] = value instead\n",
            "\n",
            "See the caveats in the documentation: https://pandas.pydata.org/pandas-docs/stable/user_guide/indexing.html#returning-a-view-versus-a-copy\n",
            "  df[\"Cantidad GOOGL\"] = monto_GOOGL /df.iloc[0,4]\n",
            "<ipython-input-28-0936b3e1dbcc>:17: SettingWithCopyWarning: \n",
            "A value is trying to be set on a copy of a slice from a DataFrame.\n",
            "Try using .loc[row_indexer,col_indexer] = value instead\n",
            "\n",
            "See the caveats in the documentation: https://pandas.pydata.org/pandas-docs/stable/user_guide/indexing.html#returning-a-view-versus-a-copy\n",
            "  df[\"Total GOOGL\"] = df [\"GOOGL\"]*df[\"Cantidad GOOGL\"]\n",
            "<ipython-input-28-0936b3e1dbcc>:18: SettingWithCopyWarning: \n",
            "A value is trying to be set on a copy of a slice from a DataFrame.\n",
            "Try using .loc[row_indexer,col_indexer] = value instead\n",
            "\n",
            "See the caveats in the documentation: https://pandas.pydata.org/pandas-docs/stable/user_guide/indexing.html#returning-a-view-versus-a-copy\n",
            "  df[\"Total Cartera\"]= df[\"Total FB\"] + df[\"Total AMZN\"] + df[\"Total AAPL\"] + df[\"Total NFLX\"]+df[\"Total GOOGL\"]\n"
          ],
          "name": "stderr"
        },
        {
          "output_type": "execute_result",
          "data": {
            "text/plain": [
              "Date\n",
              "2020-01-02    10000.000000\n",
              "2020-01-03     9899.332473\n",
              "2020-01-06    10110.250889\n",
              "2020-01-07    10026.454870\n",
              "2020-01-08    10206.779688\n",
              "                  ...     \n",
              "2020-12-24    15783.077273\n",
              "2020-12-28    16148.766781\n",
              "2020-12-29    16244.141288\n",
              "2020-12-30    16061.906166\n",
              "2020-12-31    16255.391116\n",
              "Name: Cartera 1, Length: 253, dtype: float64"
            ]
          },
          "metadata": {
            "tags": []
          },
          "execution_count": 28
        }
      ]
    },
    {
      "cell_type": "code",
      "metadata": {
        "id": "1IIBWKarakRx",
        "outputId": "86c879c7-b071-45ec-b66b-1a155905e4a4"
      },
      "source": [
        "lista_random = np.random.random(5) # genero lista de 5 elementos random\n",
        "lista_random = lista_random  / lista_random.sum()  # a cada elemento lo divido por la suma de todos\n",
        "print (lista_random)                          \n",
        "cartera2 = cartera_aleatoria(lista_random, df_FAANG )\n",
        "cartera2 = cartera2.rename(columns= {\"Total Cartera\": \"Cartera 2\"})\n",
        "cartera2\n",
        "df2 = cartera2 [\"Cartera 2\"]\n",
        "df2"
      ],
      "execution_count": null,
      "outputs": [
        {
          "output_type": "stream",
          "text": [
            "[0.19571085 0.17239495 0.09290794 0.27330133 0.26568492]\n"
          ],
          "name": "stdout"
        },
        {
          "output_type": "stream",
          "text": [
            "<ipython-input-28-0936b3e1dbcc>:8: SettingWithCopyWarning: \n",
            "A value is trying to be set on a copy of a slice from a DataFrame.\n",
            "Try using .loc[row_indexer,col_indexer] = value instead\n",
            "\n",
            "See the caveats in the documentation: https://pandas.pydata.org/pandas-docs/stable/user_guide/indexing.html#returning-a-view-versus-a-copy\n",
            "  df [\"Cantidad FB\"] = monto_FB/df.iloc[0,0]\n",
            "<ipython-input-28-0936b3e1dbcc>:9: SettingWithCopyWarning: \n",
            "A value is trying to be set on a copy of a slice from a DataFrame.\n",
            "Try using .loc[row_indexer,col_indexer] = value instead\n",
            "\n",
            "See the caveats in the documentation: https://pandas.pydata.org/pandas-docs/stable/user_guide/indexing.html#returning-a-view-versus-a-copy\n",
            "  df [\"Total FB\"] = df [\"FB\"]*df[\"Cantidad FB\"]\n",
            "<ipython-input-28-0936b3e1dbcc>:10: SettingWithCopyWarning: \n",
            "A value is trying to be set on a copy of a slice from a DataFrame.\n",
            "Try using .loc[row_indexer,col_indexer] = value instead\n",
            "\n",
            "See the caveats in the documentation: https://pandas.pydata.org/pandas-docs/stable/user_guide/indexing.html#returning-a-view-versus-a-copy\n",
            "  df [\"Cantidad AMZN\"] = monto_AMZN /df.iloc[0,1]\n",
            "<ipython-input-28-0936b3e1dbcc>:11: SettingWithCopyWarning: \n",
            "A value is trying to be set on a copy of a slice from a DataFrame.\n",
            "Try using .loc[row_indexer,col_indexer] = value instead\n",
            "\n",
            "See the caveats in the documentation: https://pandas.pydata.org/pandas-docs/stable/user_guide/indexing.html#returning-a-view-versus-a-copy\n",
            "  df[\"Total AMZN\"] = df [\"AMZN\"]*df [\"Cantidad AMZN\"]\n",
            "<ipython-input-28-0936b3e1dbcc>:12: SettingWithCopyWarning: \n",
            "A value is trying to be set on a copy of a slice from a DataFrame.\n",
            "Try using .loc[row_indexer,col_indexer] = value instead\n",
            "\n",
            "See the caveats in the documentation: https://pandas.pydata.org/pandas-docs/stable/user_guide/indexing.html#returning-a-view-versus-a-copy\n",
            "  df [\"Cantidad AAPL\"] = monto_AAPL /df.iloc[0,2]\n",
            "<ipython-input-28-0936b3e1dbcc>:13: SettingWithCopyWarning: \n",
            "A value is trying to be set on a copy of a slice from a DataFrame.\n",
            "Try using .loc[row_indexer,col_indexer] = value instead\n",
            "\n",
            "See the caveats in the documentation: https://pandas.pydata.org/pandas-docs/stable/user_guide/indexing.html#returning-a-view-versus-a-copy\n",
            "  df[\"Total AAPL\"] = df[\"AAPL\"]*df[\"Cantidad AAPL\"]\n",
            "<ipython-input-28-0936b3e1dbcc>:14: SettingWithCopyWarning: \n",
            "A value is trying to be set on a copy of a slice from a DataFrame.\n",
            "Try using .loc[row_indexer,col_indexer] = value instead\n",
            "\n",
            "See the caveats in the documentation: https://pandas.pydata.org/pandas-docs/stable/user_guide/indexing.html#returning-a-view-versus-a-copy\n",
            "  df[\"Cantidad NFLX\"] = monto_NFLX /df.iloc[0,3]\n",
            "<ipython-input-28-0936b3e1dbcc>:15: SettingWithCopyWarning: \n",
            "A value is trying to be set on a copy of a slice from a DataFrame.\n",
            "Try using .loc[row_indexer,col_indexer] = value instead\n",
            "\n",
            "See the caveats in the documentation: https://pandas.pydata.org/pandas-docs/stable/user_guide/indexing.html#returning-a-view-versus-a-copy\n",
            "  df[\"Total NFLX\"] = df[\"NFLX\"]*df[\"Cantidad NFLX\"]\n",
            "<ipython-input-28-0936b3e1dbcc>:16: SettingWithCopyWarning: \n",
            "A value is trying to be set on a copy of a slice from a DataFrame.\n",
            "Try using .loc[row_indexer,col_indexer] = value instead\n",
            "\n",
            "See the caveats in the documentation: https://pandas.pydata.org/pandas-docs/stable/user_guide/indexing.html#returning-a-view-versus-a-copy\n",
            "  df[\"Cantidad GOOGL\"] = monto_GOOGL /df.iloc[0,4]\n",
            "<ipython-input-28-0936b3e1dbcc>:17: SettingWithCopyWarning: \n",
            "A value is trying to be set on a copy of a slice from a DataFrame.\n",
            "Try using .loc[row_indexer,col_indexer] = value instead\n",
            "\n",
            "See the caveats in the documentation: https://pandas.pydata.org/pandas-docs/stable/user_guide/indexing.html#returning-a-view-versus-a-copy\n",
            "  df[\"Total GOOGL\"] = df [\"GOOGL\"]*df[\"Cantidad GOOGL\"]\n",
            "<ipython-input-28-0936b3e1dbcc>:18: SettingWithCopyWarning: \n",
            "A value is trying to be set on a copy of a slice from a DataFrame.\n",
            "Try using .loc[row_indexer,col_indexer] = value instead\n",
            "\n",
            "See the caveats in the documentation: https://pandas.pydata.org/pandas-docs/stable/user_guide/indexing.html#returning-a-view-versus-a-copy\n",
            "  df[\"Total Cartera\"]= df[\"Total FB\"] + df[\"Total AMZN\"] + df[\"Total AAPL\"] + df[\"Total NFLX\"]+df[\"Total GOOGL\"]\n"
          ],
          "name": "stderr"
        },
        {
          "output_type": "execute_result",
          "data": {
            "text/plain": [
              "Date\n",
              "2020-01-02    10000.000000\n",
              "2020-01-03     9913.385191\n",
              "2020-01-06    10135.462768\n",
              "2020-01-07    10091.670339\n",
              "2020-01-08    10202.940478\n",
              "                  ...     \n",
              "2020-12-24    14648.791509\n",
              "2020-12-28    15018.260391\n",
              "2020-12-29    15093.966427\n",
              "2020-12-30    14907.178039\n",
              "2020-12-31    15045.652163\n",
              "Name: Cartera 2, Length: 253, dtype: float64"
            ]
          },
          "metadata": {
            "tags": []
          },
          "execution_count": 29
        }
      ]
    },
    {
      "cell_type": "code",
      "metadata": {
        "id": "tYplVzUYakRx",
        "outputId": "07c76ad8-258d-44d7-acca-58a30e71d05f"
      },
      "source": [
        "lista_random = np.random.random(5) # genero lista de 5 elementos random\n",
        "lista_random = lista_random  / lista_random.sum()  # a cada elemento lo divido por la suma de todos\n",
        "print (lista_random)                          \n",
        "cartera3 = cartera_aleatoria(lista_random, df_FAANG )\n",
        "cartera3 = cartera3.rename(columns= {\"Total Cartera\": \"Cartera 3\"})\n",
        "cartera3\n",
        "df3 = cartera3 [\"Cartera 3\"]\n",
        "df3"
      ],
      "execution_count": null,
      "outputs": [
        {
          "output_type": "stream",
          "text": [
            "[0.26904569 0.21916636 0.26246487 0.21697107 0.03235201]\n"
          ],
          "name": "stdout"
        },
        {
          "output_type": "stream",
          "text": [
            "<ipython-input-28-0936b3e1dbcc>:8: SettingWithCopyWarning: \n",
            "A value is trying to be set on a copy of a slice from a DataFrame.\n",
            "Try using .loc[row_indexer,col_indexer] = value instead\n",
            "\n",
            "See the caveats in the documentation: https://pandas.pydata.org/pandas-docs/stable/user_guide/indexing.html#returning-a-view-versus-a-copy\n",
            "  df [\"Cantidad FB\"] = monto_FB/df.iloc[0,0]\n",
            "<ipython-input-28-0936b3e1dbcc>:9: SettingWithCopyWarning: \n",
            "A value is trying to be set on a copy of a slice from a DataFrame.\n",
            "Try using .loc[row_indexer,col_indexer] = value instead\n",
            "\n",
            "See the caveats in the documentation: https://pandas.pydata.org/pandas-docs/stable/user_guide/indexing.html#returning-a-view-versus-a-copy\n",
            "  df [\"Total FB\"] = df [\"FB\"]*df[\"Cantidad FB\"]\n",
            "<ipython-input-28-0936b3e1dbcc>:10: SettingWithCopyWarning: \n",
            "A value is trying to be set on a copy of a slice from a DataFrame.\n",
            "Try using .loc[row_indexer,col_indexer] = value instead\n",
            "\n",
            "See the caveats in the documentation: https://pandas.pydata.org/pandas-docs/stable/user_guide/indexing.html#returning-a-view-versus-a-copy\n",
            "  df [\"Cantidad AMZN\"] = monto_AMZN /df.iloc[0,1]\n",
            "<ipython-input-28-0936b3e1dbcc>:11: SettingWithCopyWarning: \n",
            "A value is trying to be set on a copy of a slice from a DataFrame.\n",
            "Try using .loc[row_indexer,col_indexer] = value instead\n",
            "\n",
            "See the caveats in the documentation: https://pandas.pydata.org/pandas-docs/stable/user_guide/indexing.html#returning-a-view-versus-a-copy\n",
            "  df[\"Total AMZN\"] = df [\"AMZN\"]*df [\"Cantidad AMZN\"]\n",
            "<ipython-input-28-0936b3e1dbcc>:12: SettingWithCopyWarning: \n",
            "A value is trying to be set on a copy of a slice from a DataFrame.\n",
            "Try using .loc[row_indexer,col_indexer] = value instead\n",
            "\n",
            "See the caveats in the documentation: https://pandas.pydata.org/pandas-docs/stable/user_guide/indexing.html#returning-a-view-versus-a-copy\n",
            "  df [\"Cantidad AAPL\"] = monto_AAPL /df.iloc[0,2]\n",
            "<ipython-input-28-0936b3e1dbcc>:13: SettingWithCopyWarning: \n",
            "A value is trying to be set on a copy of a slice from a DataFrame.\n",
            "Try using .loc[row_indexer,col_indexer] = value instead\n",
            "\n",
            "See the caveats in the documentation: https://pandas.pydata.org/pandas-docs/stable/user_guide/indexing.html#returning-a-view-versus-a-copy\n",
            "  df[\"Total AAPL\"] = df[\"AAPL\"]*df[\"Cantidad AAPL\"]\n",
            "<ipython-input-28-0936b3e1dbcc>:14: SettingWithCopyWarning: \n",
            "A value is trying to be set on a copy of a slice from a DataFrame.\n",
            "Try using .loc[row_indexer,col_indexer] = value instead\n",
            "\n",
            "See the caveats in the documentation: https://pandas.pydata.org/pandas-docs/stable/user_guide/indexing.html#returning-a-view-versus-a-copy\n",
            "  df[\"Cantidad NFLX\"] = monto_NFLX /df.iloc[0,3]\n",
            "<ipython-input-28-0936b3e1dbcc>:15: SettingWithCopyWarning: \n",
            "A value is trying to be set on a copy of a slice from a DataFrame.\n",
            "Try using .loc[row_indexer,col_indexer] = value instead\n",
            "\n",
            "See the caveats in the documentation: https://pandas.pydata.org/pandas-docs/stable/user_guide/indexing.html#returning-a-view-versus-a-copy\n",
            "  df[\"Total NFLX\"] = df[\"NFLX\"]*df[\"Cantidad NFLX\"]\n",
            "<ipython-input-28-0936b3e1dbcc>:16: SettingWithCopyWarning: \n",
            "A value is trying to be set on a copy of a slice from a DataFrame.\n",
            "Try using .loc[row_indexer,col_indexer] = value instead\n",
            "\n",
            "See the caveats in the documentation: https://pandas.pydata.org/pandas-docs/stable/user_guide/indexing.html#returning-a-view-versus-a-copy\n",
            "  df[\"Cantidad GOOGL\"] = monto_GOOGL /df.iloc[0,4]\n",
            "<ipython-input-28-0936b3e1dbcc>:17: SettingWithCopyWarning: \n",
            "A value is trying to be set on a copy of a slice from a DataFrame.\n",
            "Try using .loc[row_indexer,col_indexer] = value instead\n",
            "\n",
            "See the caveats in the documentation: https://pandas.pydata.org/pandas-docs/stable/user_guide/indexing.html#returning-a-view-versus-a-copy\n",
            "  df[\"Total GOOGL\"] = df [\"GOOGL\"]*df[\"Cantidad GOOGL\"]\n",
            "<ipython-input-28-0936b3e1dbcc>:18: SettingWithCopyWarning: \n",
            "A value is trying to be set on a copy of a slice from a DataFrame.\n",
            "Try using .loc[row_indexer,col_indexer] = value instead\n",
            "\n",
            "See the caveats in the documentation: https://pandas.pydata.org/pandas-docs/stable/user_guide/indexing.html#returning-a-view-versus-a-copy\n",
            "  df[\"Total Cartera\"]= df[\"Total FB\"] + df[\"Total AMZN\"] + df[\"Total AAPL\"] + df[\"Total NFLX\"]+df[\"Total GOOGL\"]\n"
          ],
          "name": "stderr"
        },
        {
          "output_type": "execute_result",
          "data": {
            "text/plain": [
              "Date\n",
              "2020-01-02    10000.000000\n",
              "2020-01-03     9906.227543\n",
              "2020-01-06    10083.473321\n",
              "2020-01-07    10047.589376\n",
              "2020-01-08    10158.375155\n",
              "                  ...     \n",
              "2020-12-24    15536.934598\n",
              "2020-12-28    15998.239713\n",
              "2020-12-29    16048.646868\n",
              "2020-12-30    15856.989598\n",
              "2020-12-31    15913.879055\n",
              "Name: Cartera 3, Length: 253, dtype: float64"
            ]
          },
          "metadata": {
            "tags": []
          },
          "execution_count": 30
        }
      ]
    },
    {
      "cell_type": "code",
      "metadata": {
        "id": "Z0K8lIkaakRx",
        "outputId": "f0130bca-752b-4d8b-accf-57d54a388632"
      },
      "source": [
        "lista_random = np.random.random(5) # genero lista de 5 elementos random\n",
        "lista_random = lista_random  / lista_random.sum()  # a cada elemento lo divido por la suma de todos\n",
        "print (lista_random)                          \n",
        "cartera4 = cartera_aleatoria(lista_random, df_FAANG )\n",
        "cartera4 = cartera4.rename(columns= {\"Total Cartera\": \"Cartera 4\"})\n",
        "cartera4\n",
        "df4 = cartera4 [\"Cartera 4\"]\n",
        "df4"
      ],
      "execution_count": null,
      "outputs": [
        {
          "output_type": "stream",
          "text": [
            "[0.05091673 0.2247905  0.23224013 0.2620671  0.22998554]\n"
          ],
          "name": "stdout"
        },
        {
          "output_type": "stream",
          "text": [
            "<ipython-input-28-0936b3e1dbcc>:8: SettingWithCopyWarning: \n",
            "A value is trying to be set on a copy of a slice from a DataFrame.\n",
            "Try using .loc[row_indexer,col_indexer] = value instead\n",
            "\n",
            "See the caveats in the documentation: https://pandas.pydata.org/pandas-docs/stable/user_guide/indexing.html#returning-a-view-versus-a-copy\n",
            "  df [\"Cantidad FB\"] = monto_FB/df.iloc[0,0]\n",
            "<ipython-input-28-0936b3e1dbcc>:9: SettingWithCopyWarning: \n",
            "A value is trying to be set on a copy of a slice from a DataFrame.\n",
            "Try using .loc[row_indexer,col_indexer] = value instead\n",
            "\n",
            "See the caveats in the documentation: https://pandas.pydata.org/pandas-docs/stable/user_guide/indexing.html#returning-a-view-versus-a-copy\n",
            "  df [\"Total FB\"] = df [\"FB\"]*df[\"Cantidad FB\"]\n",
            "<ipython-input-28-0936b3e1dbcc>:10: SettingWithCopyWarning: \n",
            "A value is trying to be set on a copy of a slice from a DataFrame.\n",
            "Try using .loc[row_indexer,col_indexer] = value instead\n",
            "\n",
            "See the caveats in the documentation: https://pandas.pydata.org/pandas-docs/stable/user_guide/indexing.html#returning-a-view-versus-a-copy\n",
            "  df [\"Cantidad AMZN\"] = monto_AMZN /df.iloc[0,1]\n",
            "<ipython-input-28-0936b3e1dbcc>:11: SettingWithCopyWarning: \n",
            "A value is trying to be set on a copy of a slice from a DataFrame.\n",
            "Try using .loc[row_indexer,col_indexer] = value instead\n",
            "\n",
            "See the caveats in the documentation: https://pandas.pydata.org/pandas-docs/stable/user_guide/indexing.html#returning-a-view-versus-a-copy\n",
            "  df[\"Total AMZN\"] = df [\"AMZN\"]*df [\"Cantidad AMZN\"]\n",
            "<ipython-input-28-0936b3e1dbcc>:12: SettingWithCopyWarning: \n",
            "A value is trying to be set on a copy of a slice from a DataFrame.\n",
            "Try using .loc[row_indexer,col_indexer] = value instead\n",
            "\n",
            "See the caveats in the documentation: https://pandas.pydata.org/pandas-docs/stable/user_guide/indexing.html#returning-a-view-versus-a-copy\n",
            "  df [\"Cantidad AAPL\"] = monto_AAPL /df.iloc[0,2]\n",
            "<ipython-input-28-0936b3e1dbcc>:13: SettingWithCopyWarning: \n",
            "A value is trying to be set on a copy of a slice from a DataFrame.\n",
            "Try using .loc[row_indexer,col_indexer] = value instead\n",
            "\n",
            "See the caveats in the documentation: https://pandas.pydata.org/pandas-docs/stable/user_guide/indexing.html#returning-a-view-versus-a-copy\n",
            "  df[\"Total AAPL\"] = df[\"AAPL\"]*df[\"Cantidad AAPL\"]\n",
            "<ipython-input-28-0936b3e1dbcc>:14: SettingWithCopyWarning: \n",
            "A value is trying to be set on a copy of a slice from a DataFrame.\n",
            "Try using .loc[row_indexer,col_indexer] = value instead\n",
            "\n",
            "See the caveats in the documentation: https://pandas.pydata.org/pandas-docs/stable/user_guide/indexing.html#returning-a-view-versus-a-copy\n",
            "  df[\"Cantidad NFLX\"] = monto_NFLX /df.iloc[0,3]\n",
            "<ipython-input-28-0936b3e1dbcc>:15: SettingWithCopyWarning: \n",
            "A value is trying to be set on a copy of a slice from a DataFrame.\n",
            "Try using .loc[row_indexer,col_indexer] = value instead\n",
            "\n",
            "See the caveats in the documentation: https://pandas.pydata.org/pandas-docs/stable/user_guide/indexing.html#returning-a-view-versus-a-copy\n",
            "  df[\"Total NFLX\"] = df[\"NFLX\"]*df[\"Cantidad NFLX\"]\n",
            "<ipython-input-28-0936b3e1dbcc>:16: SettingWithCopyWarning: \n",
            "A value is trying to be set on a copy of a slice from a DataFrame.\n",
            "Try using .loc[row_indexer,col_indexer] = value instead\n",
            "\n",
            "See the caveats in the documentation: https://pandas.pydata.org/pandas-docs/stable/user_guide/indexing.html#returning-a-view-versus-a-copy\n",
            "  df[\"Cantidad GOOGL\"] = monto_GOOGL /df.iloc[0,4]\n",
            "<ipython-input-28-0936b3e1dbcc>:17: SettingWithCopyWarning: \n",
            "A value is trying to be set on a copy of a slice from a DataFrame.\n",
            "Try using .loc[row_indexer,col_indexer] = value instead\n",
            "\n",
            "See the caveats in the documentation: https://pandas.pydata.org/pandas-docs/stable/user_guide/indexing.html#returning-a-view-versus-a-copy\n",
            "  df[\"Total GOOGL\"] = df [\"GOOGL\"]*df[\"Cantidad GOOGL\"]\n",
            "<ipython-input-28-0936b3e1dbcc>:18: SettingWithCopyWarning: \n",
            "A value is trying to be set on a copy of a slice from a DataFrame.\n",
            "Try using .loc[row_indexer,col_indexer] = value instead\n",
            "\n",
            "See the caveats in the documentation: https://pandas.pydata.org/pandas-docs/stable/user_guide/indexing.html#returning-a-view-versus-a-copy\n",
            "  df[\"Total Cartera\"]= df[\"Total FB\"] + df[\"Total AMZN\"] + df[\"Total AAPL\"] + df[\"Total NFLX\"]+df[\"Total GOOGL\"]\n"
          ],
          "name": "stderr"
        },
        {
          "output_type": "execute_result",
          "data": {
            "text/plain": [
              "Date\n",
              "2020-01-02    10000.000000\n",
              "2020-01-03     9904.339873\n",
              "2020-01-06    10105.142936\n",
              "2020-01-07    10055.167969\n",
              "2020-01-08    10164.197258\n",
              "                  ...     \n",
              "2020-12-24    15521.569596\n",
              "2020-12-28    15931.699500\n",
              "2020-12-29    15985.584603\n",
              "2020-12-30    15808.932657\n",
              "2020-12-31    15901.468915\n",
              "Name: Cartera 4, Length: 253, dtype: float64"
            ]
          },
          "metadata": {
            "tags": []
          },
          "execution_count": 31
        }
      ]
    },
    {
      "cell_type": "code",
      "metadata": {
        "id": "ID6Xqmp_akRy",
        "outputId": "254b1c12-fdd4-4e45-939f-25afd03b1230"
      },
      "source": [
        "lista_random = np.random.random(5) # genero lista de 5 elementos random\n",
        "lista_random = lista_random  / lista_random.sum()  # a cada elemento lo divido por la suma de todos\n",
        "print (lista_random)                          \n",
        "cartera5 = cartera_aleatoria(lista_random, df_FAANG )\n",
        "cartera5 = cartera5.rename(columns= {\"Total Cartera\": \"Cartera 5\"})\n",
        "cartera5\n",
        "df5 = cartera5 [\"Cartera 5\"]\n",
        "df5"
      ],
      "execution_count": null,
      "outputs": [
        {
          "output_type": "stream",
          "text": [
            "[0.21725422 0.11036429 0.22929558 0.04395709 0.39912882]\n"
          ],
          "name": "stdout"
        },
        {
          "output_type": "stream",
          "text": [
            "<ipython-input-28-0936b3e1dbcc>:8: SettingWithCopyWarning: \n",
            "A value is trying to be set on a copy of a slice from a DataFrame.\n",
            "Try using .loc[row_indexer,col_indexer] = value instead\n",
            "\n",
            "See the caveats in the documentation: https://pandas.pydata.org/pandas-docs/stable/user_guide/indexing.html#returning-a-view-versus-a-copy\n",
            "  df [\"Cantidad FB\"] = monto_FB/df.iloc[0,0]\n",
            "<ipython-input-28-0936b3e1dbcc>:9: SettingWithCopyWarning: \n",
            "A value is trying to be set on a copy of a slice from a DataFrame.\n",
            "Try using .loc[row_indexer,col_indexer] = value instead\n",
            "\n",
            "See the caveats in the documentation: https://pandas.pydata.org/pandas-docs/stable/user_guide/indexing.html#returning-a-view-versus-a-copy\n",
            "  df [\"Total FB\"] = df [\"FB\"]*df[\"Cantidad FB\"]\n",
            "<ipython-input-28-0936b3e1dbcc>:10: SettingWithCopyWarning: \n",
            "A value is trying to be set on a copy of a slice from a DataFrame.\n",
            "Try using .loc[row_indexer,col_indexer] = value instead\n",
            "\n",
            "See the caveats in the documentation: https://pandas.pydata.org/pandas-docs/stable/user_guide/indexing.html#returning-a-view-versus-a-copy\n",
            "  df [\"Cantidad AMZN\"] = monto_AMZN /df.iloc[0,1]\n",
            "<ipython-input-28-0936b3e1dbcc>:11: SettingWithCopyWarning: \n",
            "A value is trying to be set on a copy of a slice from a DataFrame.\n",
            "Try using .loc[row_indexer,col_indexer] = value instead\n",
            "\n",
            "See the caveats in the documentation: https://pandas.pydata.org/pandas-docs/stable/user_guide/indexing.html#returning-a-view-versus-a-copy\n",
            "  df[\"Total AMZN\"] = df [\"AMZN\"]*df [\"Cantidad AMZN\"]\n",
            "<ipython-input-28-0936b3e1dbcc>:12: SettingWithCopyWarning: \n",
            "A value is trying to be set on a copy of a slice from a DataFrame.\n",
            "Try using .loc[row_indexer,col_indexer] = value instead\n",
            "\n",
            "See the caveats in the documentation: https://pandas.pydata.org/pandas-docs/stable/user_guide/indexing.html#returning-a-view-versus-a-copy\n",
            "  df [\"Cantidad AAPL\"] = monto_AAPL /df.iloc[0,2]\n",
            "<ipython-input-28-0936b3e1dbcc>:13: SettingWithCopyWarning: \n",
            "A value is trying to be set on a copy of a slice from a DataFrame.\n",
            "Try using .loc[row_indexer,col_indexer] = value instead\n",
            "\n",
            "See the caveats in the documentation: https://pandas.pydata.org/pandas-docs/stable/user_guide/indexing.html#returning-a-view-versus-a-copy\n",
            "  df[\"Total AAPL\"] = df[\"AAPL\"]*df[\"Cantidad AAPL\"]\n",
            "<ipython-input-28-0936b3e1dbcc>:14: SettingWithCopyWarning: \n",
            "A value is trying to be set on a copy of a slice from a DataFrame.\n",
            "Try using .loc[row_indexer,col_indexer] = value instead\n",
            "\n",
            "See the caveats in the documentation: https://pandas.pydata.org/pandas-docs/stable/user_guide/indexing.html#returning-a-view-versus-a-copy\n",
            "  df[\"Cantidad NFLX\"] = monto_NFLX /df.iloc[0,3]\n",
            "<ipython-input-28-0936b3e1dbcc>:15: SettingWithCopyWarning: \n",
            "A value is trying to be set on a copy of a slice from a DataFrame.\n",
            "Try using .loc[row_indexer,col_indexer] = value instead\n",
            "\n",
            "See the caveats in the documentation: https://pandas.pydata.org/pandas-docs/stable/user_guide/indexing.html#returning-a-view-versus-a-copy\n",
            "  df[\"Total NFLX\"] = df[\"NFLX\"]*df[\"Cantidad NFLX\"]\n",
            "<ipython-input-28-0936b3e1dbcc>:16: SettingWithCopyWarning: \n",
            "A value is trying to be set on a copy of a slice from a DataFrame.\n",
            "Try using .loc[row_indexer,col_indexer] = value instead\n",
            "\n",
            "See the caveats in the documentation: https://pandas.pydata.org/pandas-docs/stable/user_guide/indexing.html#returning-a-view-versus-a-copy\n",
            "  df[\"Cantidad GOOGL\"] = monto_GOOGL /df.iloc[0,4]\n",
            "<ipython-input-28-0936b3e1dbcc>:17: SettingWithCopyWarning: \n",
            "A value is trying to be set on a copy of a slice from a DataFrame.\n",
            "Try using .loc[row_indexer,col_indexer] = value instead\n",
            "\n",
            "See the caveats in the documentation: https://pandas.pydata.org/pandas-docs/stable/user_guide/indexing.html#returning-a-view-versus-a-copy\n",
            "  df[\"Total GOOGL\"] = df [\"GOOGL\"]*df[\"Cantidad GOOGL\"]\n",
            "<ipython-input-28-0936b3e1dbcc>:18: SettingWithCopyWarning: \n",
            "A value is trying to be set on a copy of a slice from a DataFrame.\n",
            "Try using .loc[row_indexer,col_indexer] = value instead\n",
            "\n",
            "See the caveats in the documentation: https://pandas.pydata.org/pandas-docs/stable/user_guide/indexing.html#returning-a-view-versus-a-copy\n",
            "  df[\"Total Cartera\"]= df[\"Total FB\"] + df[\"Total AMZN\"] + df[\"Total AAPL\"] + df[\"Total NFLX\"]+df[\"Total GOOGL\"]\n"
          ],
          "name": "stderr"
        },
        {
          "output_type": "execute_result",
          "data": {
            "text/plain": [
              "Date\n",
              "2020-01-02    10000.000000\n",
              "2020-01-03     9926.724226\n",
              "2020-01-06    10120.808931\n",
              "2020-01-07    10102.478295\n",
              "2020-01-08    10193.134065\n",
              "                  ...     \n",
              "2020-12-24    14420.998890\n",
              "2020-12-28    14853.426903\n",
              "2020-12-29    14785.628847\n",
              "2020-12-30    14607.241865\n",
              "2020-12-31    14641.367637\n",
              "Name: Cartera 5, Length: 253, dtype: float64"
            ]
          },
          "metadata": {
            "tags": []
          },
          "execution_count": 32
        }
      ]
    },
    {
      "cell_type": "code",
      "metadata": {
        "id": "vny9d1JKakRy",
        "outputId": "f75dc448-adfd-4239-bfbf-e63b40d82cc4"
      },
      "source": [
        "df_carteras = pd.concat ([df0,df1, df2,df3,df4,df5],axis=1)\n",
        "#df_carteras = pd.concat([df_FAANG_20, cartera1 , cartera2, cartera3, cartera4 ,cartera5], axis =1)\n",
        "#df_carteras= df_carteras.to_frame()\n",
        "df_carteras\n",
        "\n"
      ],
      "execution_count": null,
      "outputs": [
        {
          "output_type": "execute_result",
          "data": {
            "text/html": [
              "<div>\n",
              "<style scoped>\n",
              "    .dataframe tbody tr th:only-of-type {\n",
              "        vertical-align: middle;\n",
              "    }\n",
              "\n",
              "    .dataframe tbody tr th {\n",
              "        vertical-align: top;\n",
              "    }\n",
              "\n",
              "    .dataframe thead th {\n",
              "        text-align: right;\n",
              "    }\n",
              "</style>\n",
              "<table border=\"1\" class=\"dataframe\">\n",
              "  <thead>\n",
              "    <tr style=\"text-align: right;\">\n",
              "      <th></th>\n",
              "      <th>Cartera Equilibrada</th>\n",
              "      <th>Cartera 1</th>\n",
              "      <th>Cartera 2</th>\n",
              "      <th>Cartera 3</th>\n",
              "      <th>Cartera 4</th>\n",
              "      <th>Cartera 5</th>\n",
              "    </tr>\n",
              "    <tr>\n",
              "      <th>Date</th>\n",
              "      <th></th>\n",
              "      <th></th>\n",
              "      <th></th>\n",
              "      <th></th>\n",
              "      <th></th>\n",
              "      <th></th>\n",
              "    </tr>\n",
              "  </thead>\n",
              "  <tbody>\n",
              "    <tr>\n",
              "      <th>2020-01-02</th>\n",
              "      <td>10000.000000</td>\n",
              "      <td>10000.000000</td>\n",
              "      <td>10000.000000</td>\n",
              "      <td>10000.000000</td>\n",
              "      <td>10000.000000</td>\n",
              "      <td>10000.000000</td>\n",
              "    </tr>\n",
              "    <tr>\n",
              "      <th>2020-01-03</th>\n",
              "      <td>9911.522098</td>\n",
              "      <td>9899.332473</td>\n",
              "      <td>9913.385191</td>\n",
              "      <td>9906.227543</td>\n",
              "      <td>9904.339873</td>\n",
              "      <td>9926.724226</td>\n",
              "    </tr>\n",
              "    <tr>\n",
              "      <th>2020-01-06</th>\n",
              "      <td>10107.427073</td>\n",
              "      <td>10110.250889</td>\n",
              "      <td>10135.462768</td>\n",
              "      <td>10083.473321</td>\n",
              "      <td>10105.142936</td>\n",
              "      <td>10120.808931</td>\n",
              "    </tr>\n",
              "    <tr>\n",
              "      <th>2020-01-07</th>\n",
              "      <td>10071.866367</td>\n",
              "      <td>10026.454870</td>\n",
              "      <td>10091.670339</td>\n",
              "      <td>10047.589376</td>\n",
              "      <td>10055.167969</td>\n",
              "      <td>10102.478295</td>\n",
              "    </tr>\n",
              "    <tr>\n",
              "      <th>2020-01-08</th>\n",
              "      <td>10174.847923</td>\n",
              "      <td>10206.779688</td>\n",
              "      <td>10202.940478</td>\n",
              "      <td>10158.375155</td>\n",
              "      <td>10164.197258</td>\n",
              "      <td>10193.134065</td>\n",
              "    </tr>\n",
              "    <tr>\n",
              "      <th>...</th>\n",
              "      <td>...</td>\n",
              "      <td>...</td>\n",
              "      <td>...</td>\n",
              "      <td>...</td>\n",
              "      <td>...</td>\n",
              "      <td>...</td>\n",
              "    </tr>\n",
              "    <tr>\n",
              "      <th>2020-12-24</th>\n",
              "      <td>15088.794073</td>\n",
              "      <td>15783.077273</td>\n",
              "      <td>14648.791509</td>\n",
              "      <td>15536.934598</td>\n",
              "      <td>15521.569596</td>\n",
              "      <td>14420.998890</td>\n",
              "    </tr>\n",
              "    <tr>\n",
              "      <th>2020-12-28</th>\n",
              "      <td>15513.761965</td>\n",
              "      <td>16148.766781</td>\n",
              "      <td>15018.260391</td>\n",
              "      <td>15998.239713</td>\n",
              "      <td>15931.699500</td>\n",
              "      <td>14853.426903</td>\n",
              "    </tr>\n",
              "    <tr>\n",
              "      <th>2020-12-29</th>\n",
              "      <td>15550.433831</td>\n",
              "      <td>16244.141288</td>\n",
              "      <td>15093.966427</td>\n",
              "      <td>16048.646868</td>\n",
              "      <td>15985.584603</td>\n",
              "      <td>14785.628847</td>\n",
              "    </tr>\n",
              "    <tr>\n",
              "      <th>2020-12-30</th>\n",
              "      <td>15365.121006</td>\n",
              "      <td>16061.906166</td>\n",
              "      <td>14907.178039</td>\n",
              "      <td>15856.989598</td>\n",
              "      <td>15808.932657</td>\n",
              "      <td>14607.241865</td>\n",
              "    </tr>\n",
              "    <tr>\n",
              "      <th>2020-12-31</th>\n",
              "      <td>15441.098286</td>\n",
              "      <td>16255.391116</td>\n",
              "      <td>15045.652163</td>\n",
              "      <td>15913.879055</td>\n",
              "      <td>15901.468915</td>\n",
              "      <td>14641.367637</td>\n",
              "    </tr>\n",
              "  </tbody>\n",
              "</table>\n",
              "<p>253 rows × 6 columns</p>\n",
              "</div>"
            ],
            "text/plain": [
              "            Cartera Equilibrada     Cartera 1     Cartera 2     Cartera 3  \\\n",
              "Date                                                                        \n",
              "2020-01-02         10000.000000  10000.000000  10000.000000  10000.000000   \n",
              "2020-01-03          9911.522098   9899.332473   9913.385191   9906.227543   \n",
              "2020-01-06         10107.427073  10110.250889  10135.462768  10083.473321   \n",
              "2020-01-07         10071.866367  10026.454870  10091.670339  10047.589376   \n",
              "2020-01-08         10174.847923  10206.779688  10202.940478  10158.375155   \n",
              "...                         ...           ...           ...           ...   \n",
              "2020-12-24         15088.794073  15783.077273  14648.791509  15536.934598   \n",
              "2020-12-28         15513.761965  16148.766781  15018.260391  15998.239713   \n",
              "2020-12-29         15550.433831  16244.141288  15093.966427  16048.646868   \n",
              "2020-12-30         15365.121006  16061.906166  14907.178039  15856.989598   \n",
              "2020-12-31         15441.098286  16255.391116  15045.652163  15913.879055   \n",
              "\n",
              "               Cartera 4     Cartera 5  \n",
              "Date                                    \n",
              "2020-01-02  10000.000000  10000.000000  \n",
              "2020-01-03   9904.339873   9926.724226  \n",
              "2020-01-06  10105.142936  10120.808931  \n",
              "2020-01-07  10055.167969  10102.478295  \n",
              "2020-01-08  10164.197258  10193.134065  \n",
              "...                  ...           ...  \n",
              "2020-12-24  15521.569596  14420.998890  \n",
              "2020-12-28  15931.699500  14853.426903  \n",
              "2020-12-29  15985.584603  14785.628847  \n",
              "2020-12-30  15808.932657  14607.241865  \n",
              "2020-12-31  15901.468915  14641.367637  \n",
              "\n",
              "[253 rows x 6 columns]"
            ]
          },
          "metadata": {
            "tags": []
          },
          "execution_count": 37
        }
      ]
    },
    {
      "cell_type": "code",
      "metadata": {
        "id": "LbZW70n5akRy",
        "outputId": "d383a983-990a-438f-b9ed-4695615c28ac"
      },
      "source": [
        "sns.set()\n",
        "fix, ax=plt.subplots(figsize=(20, 6))\n",
        "df_carteras.plot(ax=ax)\n",
        "#df_FAANG_20[\"Total Cartera\"].plot(ax=ax)\n",
        "#df1 [\"cartera1\"].plot (ax=ax)\n",
        "#df2 [\"cartera2\"].plot (ax=ax)\n",
        "#cartera3 [\"Total Cartera\"].plot (ax=ax)\n",
        "#cartera4 [\"Total Cartera\"].plot (ax=ax)\n",
        "#cartera5 [\"Total Cartera\"].plot (ax=ax)"
      ],
      "execution_count": null,
      "outputs": [
        {
          "output_type": "execute_result",
          "data": {
            "text/plain": [
              "<AxesSubplot:xlabel='Date'>"
            ]
          },
          "metadata": {
            "tags": []
          },
          "execution_count": 38
        },
        {
          "output_type": "display_data",
          "data": {
            "image/png": "[encoded data removed]",
            "text/plain": [
              "<Figure size 1440x432 with 1 Axes>"
            ]
          },
          "metadata": {
            "tags": []
          }
        }
      ]
    },
    {
      "cell_type": "markdown",
      "metadata": {
        "id": "kChLq6Ymx9Z1"
      },
      "source": [
        "# 3- Trabajando con la EPH\n",
        "\n",
        "![eph](https://pbs.twimg.com/media/EehLGmHWAAYGkRj?format=jpg&name=medium)\n",
        "\n",
        "La Encuesta Permanente de Hogares (EPH) es un trabajo desarrollado por el INDEC (en convenio con las direcciones provinciales de estadística) y es un repositorio de datos que nos permite conocer las características sociodemográficas y socieconómicas de la población argentina, que es actualizado de manera trimestral.\n",
        "\n",
        "En este caso vamos a trabajar con una muestra de la misma, con aproximadamente 660 hogares, la cual vamos a poder leer directamente desde un link público de Drive.\n",
        "La mayoría de sus columnas tienen nombres en código, por lo que es necesario leer el diccionario de variables disponible en el [siguiente link](https://www.indec.gob.ar/ftp/cuadros/menusuperior/eph/EPH_disenoreg_T3_2013.pdf) antes de comenzar a hacer el análisis de los datos.\n"
      ]
    },
    {
      "cell_type": "code",
      "metadata": {
        "id": "Oske9H1qyAAs",
        "outputId": "56bfbf74-8f4d-4068-d230-43d0e4de58c6"
      },
      "source": [
        "import pandas as pd\n",
        "# URL de la muestra, pueden entrar a ese link y descargar los datos también.\n",
        "path = 'https://drive.google.com/uc?export=download&id=1uU18pevuixKbQ14M5zoCHJqAG_GZdA32'\n",
        "# Leemos el archivo de Excel en la URL desde Pandas.\n",
        "df_hogar = pd.read_excel(path)\n",
        "df_hogar.head()"
      ],
      "execution_count": null,
      "outputs": [
        {
          "output_type": "execute_result",
          "data": {
            "text/html": [
              "<div>\n",
              "<style scoped>\n",
              "    .dataframe tbody tr th:only-of-type {\n",
              "        vertical-align: middle;\n",
              "    }\n",
              "\n",
              "    .dataframe tbody tr th {\n",
              "        vertical-align: top;\n",
              "    }\n",
              "\n",
              "    .dataframe thead th {\n",
              "        text-align: right;\n",
              "    }\n",
              "</style>\n",
              "<table border=\"1\" class=\"dataframe\">\n",
              "  <thead>\n",
              "    <tr style=\"text-align: right;\">\n",
              "      <th></th>\n",
              "      <th>CODUSU</th>\n",
              "      <th>Unnamed: 1</th>\n",
              "      <th>ANO4</th>\n",
              "      <th>TRIMESTRE</th>\n",
              "      <th>NRO_HOGAR</th>\n",
              "      <th>REALIZADA</th>\n",
              "      <th>REGION</th>\n",
              "      <th>MAS_500</th>\n",
              "      <th>AGLOMERADO</th>\n",
              "      <th>PONDERA</th>\n",
              "      <th>...</th>\n",
              "      <th>GDECCFR</th>\n",
              "      <th>PDECCFR</th>\n",
              "      <th>ADECCFR</th>\n",
              "      <th>PONDIH</th>\n",
              "      <th>VII1_1</th>\n",
              "      <th>VII1_2</th>\n",
              "      <th>VII2_1</th>\n",
              "      <th>VII2_2</th>\n",
              "      <th>VII2_3</th>\n",
              "      <th>VII2_4</th>\n",
              "    </tr>\n",
              "  </thead>\n",
              "  <tbody>\n",
              "    <tr>\n",
              "      <th>0</th>\n",
              "      <td>TQRMNOQXUHLMKSCDEGGFB00590361</td>\n",
              "      <td>1</td>\n",
              "      <td>2018</td>\n",
              "      <td>3</td>\n",
              "      <td>1</td>\n",
              "      <td>1</td>\n",
              "      <td>42</td>\n",
              "      <td>S</td>\n",
              "      <td>10</td>\n",
              "      <td>479</td>\n",
              "      <td>...</td>\n",
              "      <td>07</td>\n",
              "      <td></td>\n",
              "      <td>7</td>\n",
              "      <td>537</td>\n",
              "      <td>1</td>\n",
              "      <td>0</td>\n",
              "      <td>98</td>\n",
              "      <td>0</td>\n",
              "      <td>0</td>\n",
              "      <td>0</td>\n",
              "    </tr>\n",
              "    <tr>\n",
              "      <th>1</th>\n",
              "      <td>TQRMNORSSHKNLUCDEGGFB00618609</td>\n",
              "      <td>1</td>\n",
              "      <td>2018</td>\n",
              "      <td>3</td>\n",
              "      <td>1</td>\n",
              "      <td>1</td>\n",
              "      <td>42</td>\n",
              "      <td>S</td>\n",
              "      <td>10</td>\n",
              "      <td>448</td>\n",
              "      <td>...</td>\n",
              "      <td>10</td>\n",
              "      <td></td>\n",
              "      <td>10</td>\n",
              "      <td>493</td>\n",
              "      <td>1</td>\n",
              "      <td>0</td>\n",
              "      <td>98</td>\n",
              "      <td>0</td>\n",
              "      <td>0</td>\n",
              "      <td>0</td>\n",
              "    </tr>\n",
              "    <tr>\n",
              "      <th>2</th>\n",
              "      <td>TQRMNOUQRHJOKRCDEGIBJ00613161</td>\n",
              "      <td>1</td>\n",
              "      <td>2018</td>\n",
              "      <td>3</td>\n",
              "      <td>1</td>\n",
              "      <td>1</td>\n",
              "      <td>41</td>\n",
              "      <td>N</td>\n",
              "      <td>12</td>\n",
              "      <td>280</td>\n",
              "      <td>...</td>\n",
              "      <td></td>\n",
              "      <td>04</td>\n",
              "      <td>5</td>\n",
              "      <td>528</td>\n",
              "      <td>1</td>\n",
              "      <td>0</td>\n",
              "      <td>98</td>\n",
              "      <td>0</td>\n",
              "      <td>0</td>\n",
              "      <td>0</td>\n",
              "    </tr>\n",
              "    <tr>\n",
              "      <th>3</th>\n",
              "      <td>TQRMNOSTUHKMKRCDEGIBJ00618817</td>\n",
              "      <td>1</td>\n",
              "      <td>2018</td>\n",
              "      <td>3</td>\n",
              "      <td>1</td>\n",
              "      <td>1</td>\n",
              "      <td>41</td>\n",
              "      <td>N</td>\n",
              "      <td>12</td>\n",
              "      <td>212</td>\n",
              "      <td>...</td>\n",
              "      <td></td>\n",
              "      <td>07</td>\n",
              "      <td>9</td>\n",
              "      <td>432</td>\n",
              "      <td>1</td>\n",
              "      <td>0</td>\n",
              "      <td>98</td>\n",
              "      <td>0</td>\n",
              "      <td>0</td>\n",
              "      <td>0</td>\n",
              "    </tr>\n",
              "    <tr>\n",
              "      <th>4</th>\n",
              "      <td>TQRMNOPWWHJMLLCDEGGFB00613105</td>\n",
              "      <td>1</td>\n",
              "      <td>2018</td>\n",
              "      <td>3</td>\n",
              "      <td>1</td>\n",
              "      <td>1</td>\n",
              "      <td>42</td>\n",
              "      <td>S</td>\n",
              "      <td>10</td>\n",
              "      <td>478</td>\n",
              "      <td>...</td>\n",
              "      <td>06</td>\n",
              "      <td></td>\n",
              "      <td>6</td>\n",
              "      <td>534</td>\n",
              "      <td>1</td>\n",
              "      <td>2</td>\n",
              "      <td>98</td>\n",
              "      <td>0</td>\n",
              "      <td>0</td>\n",
              "      <td>0</td>\n",
              "    </tr>\n",
              "  </tbody>\n",
              "</table>\n",
              "<p>5 rows × 89 columns</p>\n",
              "</div>"
            ],
            "text/plain": [
              "                          CODUSU  Unnamed: 1  ANO4  TRIMESTRE  NRO_HOGAR  \\\n",
              "0  TQRMNOQXUHLMKSCDEGGFB00590361           1  2018          3          1   \n",
              "1  TQRMNORSSHKNLUCDEGGFB00618609           1  2018          3          1   \n",
              "2  TQRMNOUQRHJOKRCDEGIBJ00613161           1  2018          3          1   \n",
              "3  TQRMNOSTUHKMKRCDEGIBJ00618817           1  2018          3          1   \n",
              "4  TQRMNOPWWHJMLLCDEGGFB00613105           1  2018          3          1   \n",
              "\n",
              "   REALIZADA  REGION MAS_500  AGLOMERADO  PONDERA  ...  GDECCFR  PDECCFR  \\\n",
              "0          1      42       S          10      479  ...       07            \n",
              "1          1      42       S          10      448  ...       10            \n",
              "2          1      41       N          12      280  ...                04   \n",
              "3          1      41       N          12      212  ...                07   \n",
              "4          1      42       S          10      478  ...       06            \n",
              "\n",
              "   ADECCFR  PONDIH VII1_1  VII1_2  VII2_1  VII2_2  VII2_3  VII2_4  \n",
              "0        7     537      1       0      98       0       0       0  \n",
              "1       10     493      1       0      98       0       0       0  \n",
              "2        5     528      1       0      98       0       0       0  \n",
              "3        9     432      1       0      98       0       0       0  \n",
              "4        6     534      1       2      98       0       0       0  \n",
              "\n",
              "[5 rows x 89 columns]"
            ]
          },
          "metadata": {
            "tags": []
          },
          "execution_count": 5
        }
      ]
    },
    {
      "cell_type": "markdown",
      "metadata": {
        "id": "y66Igv5jQKs-"
      },
      "source": [
        "Para hacer nuestro análisis de esta muestra, respondamos las siguientes preguntas:\n",
        "\n",
        "- ¿Cuántos hogares por cada región tenemos? Expresarlo gráficamente.\n",
        "\n",
        "- ¿Cómo se distribuye el Ingreso Total Familiar? Y el ingreso per cápita? ¿Cuáles son los valores promedio? ¿Y sus medianas?\n",
        "\n",
        "- ¿Cuántas viviendas tienen acceso al agua por la red pública? Revisar la columna IV7 para responder esta pregunta.\n",
        "\n",
        "- Crear una nueva columna que represente la cantidad de habitaciones por habitante del hogar. ¿Cómo es su distribución?\n",
        "\n",
        "- ¿Existe alguna relación a simple vista entre la cantidad de cuartos que tiene un hogar y el nivel de ingresos del mismo? Realizar un scatter plot para visualizar ambas variables."
      ]
    },
    {
      "cell_type": "markdown",
      "metadata": {
        "id": "T9Xh-5vDakRz"
      },
      "source": [
        "¿Cuántos hogares por cada región tenemos? Expresarlo gráficamente."
      ]
    },
    {
      "cell_type": "code",
      "metadata": {
        "id": "nAMjzmegP2dn",
        "outputId": "15a429e2-8a1d-48ec-b507-cb5ee9e58270"
      },
      "source": [
        "df_hogar.groupby(by=['REGION'], as_index=False).agg({'NRO_HOGAR': 'sum'})"
      ],
      "execution_count": null,
      "outputs": [
        {
          "output_type": "execute_result",
          "data": {
            "text/html": [
              "<div>\n",
              "<style scoped>\n",
              "    .dataframe tbody tr th:only-of-type {\n",
              "        vertical-align: middle;\n",
              "    }\n",
              "\n",
              "    .dataframe tbody tr th {\n",
              "        vertical-align: top;\n",
              "    }\n",
              "\n",
              "    .dataframe thead th {\n",
              "        text-align: right;\n",
              "    }\n",
              "</style>\n",
              "<table border=\"1\" class=\"dataframe\">\n",
              "  <thead>\n",
              "    <tr style=\"text-align: right;\">\n",
              "      <th></th>\n",
              "      <th>REGION</th>\n",
              "      <th>NRO_HOGAR</th>\n",
              "    </tr>\n",
              "  </thead>\n",
              "  <tbody>\n",
              "    <tr>\n",
              "      <th>0</th>\n",
              "      <td>1</td>\n",
              "      <td>119</td>\n",
              "    </tr>\n",
              "    <tr>\n",
              "      <th>1</th>\n",
              "      <td>40</td>\n",
              "      <td>133</td>\n",
              "    </tr>\n",
              "    <tr>\n",
              "      <th>2</th>\n",
              "      <td>41</td>\n",
              "      <td>65</td>\n",
              "    </tr>\n",
              "    <tr>\n",
              "      <th>3</th>\n",
              "      <td>42</td>\n",
              "      <td>59</td>\n",
              "    </tr>\n",
              "    <tr>\n",
              "      <th>4</th>\n",
              "      <td>43</td>\n",
              "      <td>227</td>\n",
              "    </tr>\n",
              "    <tr>\n",
              "      <th>5</th>\n",
              "      <td>44</td>\n",
              "      <td>83</td>\n",
              "    </tr>\n",
              "  </tbody>\n",
              "</table>\n",
              "</div>"
            ],
            "text/plain": [
              "   REGION  NRO_HOGAR\n",
              "0       1        119\n",
              "1      40        133\n",
              "2      41         65\n",
              "3      42         59\n",
              "4      43        227\n",
              "5      44         83"
            ]
          },
          "metadata": {
            "tags": []
          },
          "execution_count": 6
        }
      ]
    },
    {
      "cell_type": "code",
      "metadata": {
        "id": "eHgJ6ACgakRz",
        "outputId": "2f834c84-36d4-4da6-98d4-f634f6a44dd6"
      },
      "source": [
        "import seaborn as sns\n",
        "sns.set_theme(style=\"whitegrid\")\n",
        "ax = sns.barplot(x=\"REGION\", y=\"NRO_HOGAR\", data=df_hogar.groupby(by=['REGION'], as_index=False).agg({'NRO_HOGAR': 'sum'}))"
      ],
      "execution_count": null,
      "outputs": [
        {
          "output_type": "display_data",
          "data": {
            "image/png": "[encoded data removed]",
            "text/plain": [
              "<Figure size 432x288 with 1 Axes>"
            ]
          },
          "metadata": {
            "tags": []
          }
        }
      ]
    },
    {
      "cell_type": "markdown",
      "metadata": {
        "id": "cuGWKL1fakRz"
      },
      "source": [
        "¿Cómo se distribuye el Ingreso Total Familiar? Y el ingreso per cápita? ¿Cuáles son los valores promedio? ¿Y sus medianas?"
      ]
    },
    {
      "cell_type": "code",
      "metadata": {
        "id": "1p2BQ-mYakRz",
        "outputId": "b05547ca-af86-433a-c741-7f40aa73b22a"
      },
      "source": [
        "df_hogar['ITF']"
      ],
      "execution_count": null,
      "outputs": [
        {
          "output_type": "execute_result",
          "data": {
            "text/plain": [
              "0       13000\n",
              "1      145500\n",
              "2       19000\n",
              "3       24000\n",
              "4       43000\n",
              "        ...  \n",
              "661     16100\n",
              "662         0\n",
              "663     36600\n",
              "664     49000\n",
              "665     18000\n",
              "Name: ITF, Length: 666, dtype: int64"
            ]
          },
          "metadata": {
            "tags": []
          },
          "execution_count": 8
        }
      ]
    },
    {
      "cell_type": "code",
      "metadata": {
        "id": "6fA6VAVMakRz",
        "outputId": "8008f02f-446a-4b96-8045-b465cd6f85fe"
      },
      "source": [
        "sns.histplot(data=df_hogar, x=\"ITF\")"
      ],
      "execution_count": null,
      "outputs": [
        {
          "output_type": "execute_result",
          "data": {
            "text/plain": [
              "<AxesSubplot:xlabel='ITF', ylabel='Count'>"
            ]
          },
          "metadata": {
            "tags": []
          },
          "execution_count": 9
        },
        {
          "output_type": "display_data",
          "data": {
            "image/png": "[encoded data removed]",
            "text/plain": [
              "<Figure size 432x288 with 1 Axes>"
            ]
          },
          "metadata": {
            "tags": []
          }
        }
      ]
    },
    {
      "cell_type": "code",
      "metadata": {
        "id": "QUa7k30nakR0",
        "outputId": "3fd7b735-8229-407d-a924-18c70c265472"
      },
      "source": [
        "df_hogar['ITF'].describe()"
      ],
      "execution_count": null,
      "outputs": [
        {
          "output_type": "execute_result",
          "data": {
            "text/plain": [
              "count       666.000000\n",
              "mean      24973.881381\n",
              "std       25929.513065\n",
              "min           0.000000\n",
              "25%        8025.000000\n",
              "50%       19650.000000\n",
              "75%       34000.000000\n",
              "max      250000.000000\n",
              "Name: ITF, dtype: float64"
            ]
          },
          "metadata": {
            "tags": []
          },
          "execution_count": 10
        }
      ]
    },
    {
      "cell_type": "code",
      "metadata": {
        "id": "isDYyy84akR0",
        "outputId": "3be9473d-b43c-4db5-9609-dd9dd24c3b02"
      },
      "source": [
        "df_hogar['ITF']"
      ],
      "execution_count": null,
      "outputs": [
        {
          "output_type": "execute_result",
          "data": {
            "text/plain": [
              "0       13000\n",
              "1      145500\n",
              "2       19000\n",
              "3       24000\n",
              "4       43000\n",
              "        ...  \n",
              "661     16100\n",
              "662         0\n",
              "663     36600\n",
              "664     49000\n",
              "665     18000\n",
              "Name: ITF, Length: 666, dtype: int64"
            ]
          },
          "metadata": {
            "tags": []
          },
          "execution_count": 11
        }
      ]
    },
    {
      "cell_type": "code",
      "metadata": {
        "id": "k5_ImIXjakR0",
        "outputId": "323e1328-95d1-492e-aca5-03deaddf2a39"
      },
      "source": [
        "sns.histplot(data=df_hogar, x=\"IPCF\")"
      ],
      "execution_count": null,
      "outputs": [
        {
          "output_type": "execute_result",
          "data": {
            "text/plain": [
              "<AxesSubplot:xlabel='IPCF', ylabel='Count'>"
            ]
          },
          "metadata": {
            "tags": []
          },
          "execution_count": 12
        },
        {
          "output_type": "display_data",
          "data": {
            "image/png": "[encoded data removed]",
            "text/plain": [
              "<Figure size 432x288 with 1 Axes>"
            ]
          },
          "metadata": {
            "tags": []
          }
        }
      ]
    },
    {
      "cell_type": "code",
      "metadata": {
        "id": "F0ydfMjBakR0",
        "outputId": "adb40c40-52f1-4022-ceda-0f6ba895319f"
      },
      "source": [
        "df_hogar['IPCF'].describe()"
      ],
      "execution_count": null,
      "outputs": [
        {
          "output_type": "execute_result",
          "data": {
            "text/plain": [
              "count       666.000000\n",
              "mean      10619.343649\n",
              "std       14968.883140\n",
              "min           0.000000\n",
              "25%        2720.000000\n",
              "50%        7416.665000\n",
              "75%       14000.000000\n",
              "max      250000.000000\n",
              "Name: IPCF, dtype: float64"
            ]
          },
          "metadata": {
            "tags": []
          },
          "execution_count": 13
        }
      ]
    },
    {
      "cell_type": "markdown",
      "metadata": {
        "id": "t-8WSOeUakR0"
      },
      "source": [
        "¿Cuántas viviendas tienen acceso al agua por la red pública? Revisar la columna IV7 para responder esta pregunta."
      ]
    },
    {
      "cell_type": "code",
      "metadata": {
        "id": "CjCJONfiakR0",
        "outputId": "db871bbb-8098-4e41-fbd1-ed5f09278c57"
      },
      "source": [
        "df_hogar['IV7'].unique()"
      ],
      "execution_count": null,
      "outputs": [
        {
          "output_type": "execute_result",
          "data": {
            "text/plain": [
              "array([1, 2], dtype=int64)"
            ]
          },
          "metadata": {
            "tags": []
          },
          "execution_count": 14
        }
      ]
    },
    {
      "cell_type": "code",
      "metadata": {
        "id": "YvuNT3cpakR1",
        "outputId": "6022d7df-453e-40c2-b36b-f205d35d30da"
      },
      "source": [
        "df_hogar['IV7'].value_counts()"
      ],
      "execution_count": null,
      "outputs": [
        {
          "output_type": "execute_result",
          "data": {
            "text/plain": [
              "1    627\n",
              "2     39\n",
              "Name: IV7, dtype: int64"
            ]
          },
          "metadata": {
            "tags": []
          },
          "execution_count": 15
        }
      ]
    },
    {
      "cell_type": "markdown",
      "metadata": {
        "id": "YDoYiNc0akR1"
      },
      "source": [
        "Crear una nueva columna que represente la cantidad de habitaciones por habitante del hogar. ¿Cómo es su distribución?"
      ]
    },
    {
      "cell_type": "code",
      "metadata": {
        "id": "7NJ7EHuBakR1",
        "outputId": "028dc9ca-d3d0-4b91-b865-db26eeedf16c"
      },
      "source": [
        "df_hogar.columns"
      ],
      "execution_count": null,
      "outputs": [
        {
          "output_type": "execute_result",
          "data": {
            "text/plain": [
              "Index(['CODUSU', 'Unnamed: 1', 'ANO4', 'TRIMESTRE', 'NRO_HOGAR', 'REALIZADA',\n",
              "       'REGION', 'MAS_500', 'AGLOMERADO', 'PONDERA', 'IV1', 'IV1_ESP', 'IV2',\n",
              "       'IV3', 'IV3_ESP', 'IV4', 'IV5', 'IV6', 'IV7', 'IV7_ESP', 'IV8', 'IV9',\n",
              "       'IV10', 'IV11', 'IV12_1', 'IV12_2', 'IV12_3', 'II1', 'II2', 'II3',\n",
              "       'II3_1', 'II4_1', 'II4_2', 'II4_3', 'II5', 'II5_1', 'II6', 'II6_1',\n",
              "       'II7', 'II7_ESP', 'II8', 'II8_ESP', 'II9', 'V1', 'V2', 'V21', 'V22',\n",
              "       'V3', 'V4', 'V5', 'V6', 'V7', 'V8', 'V9', 'V10', 'V11', 'V12', 'V13',\n",
              "       'V14', 'V15', 'V16', 'V17', 'V18', 'V19_A', 'V19_B', 'IX_TOT',\n",
              "       'IX_MEN10', 'IX_MAYEQ10', 'ITF', 'DECIFR', 'IDECIFR', 'RDECIFR',\n",
              "       'GDECIFR', 'PDECIFR', 'ADECIFR', 'IPCF', 'DECCFR', 'IDECCFR', 'RDECCFR',\n",
              "       'GDECCFR', 'PDECCFR', 'ADECCFR', 'PONDIH', 'VII1_1', 'VII1_2', 'VII2_1',\n",
              "       'VII2_2', 'VII2_3', 'VII2_4'],\n",
              "      dtype='object')"
            ]
          },
          "metadata": {
            "tags": []
          },
          "execution_count": 16
        }
      ]
    },
    {
      "cell_type": "code",
      "metadata": {
        "id": "wkkKdFfgakR1",
        "outputId": "d9819da2-7846-47f7-f426-3c39cc4d8001"
      },
      "source": [
        "df_hogar['Cant_habit_por_habitante']= df_hogar['IV2']/ df_hogar['IX_TOT']\n",
        "df_hogar"
      ],
      "execution_count": null,
      "outputs": [
        {
          "output_type": "execute_result",
          "data": {
            "text/html": [
              "<div>\n",
              "<style scoped>\n",
              "    .dataframe tbody tr th:only-of-type {\n",
              "        vertical-align: middle;\n",
              "    }\n",
              "\n",
              "    .dataframe tbody tr th {\n",
              "        vertical-align: top;\n",
              "    }\n",
              "\n",
              "    .dataframe thead th {\n",
              "        text-align: right;\n",
              "    }\n",
              "</style>\n",
              "<table border=\"1\" class=\"dataframe\">\n",
              "  <thead>\n",
              "    <tr style=\"text-align: right;\">\n",
              "      <th></th>\n",
              "      <th>CODUSU</th>\n",
              "      <th>Unnamed: 1</th>\n",
              "      <th>ANO4</th>\n",
              "      <th>TRIMESTRE</th>\n",
              "      <th>NRO_HOGAR</th>\n",
              "      <th>REALIZADA</th>\n",
              "      <th>REGION</th>\n",
              "      <th>MAS_500</th>\n",
              "      <th>AGLOMERADO</th>\n",
              "      <th>PONDERA</th>\n",
              "      <th>...</th>\n",
              "      <th>PDECCFR</th>\n",
              "      <th>ADECCFR</th>\n",
              "      <th>PONDIH</th>\n",
              "      <th>VII1_1</th>\n",
              "      <th>VII1_2</th>\n",
              "      <th>VII2_1</th>\n",
              "      <th>VII2_2</th>\n",
              "      <th>VII2_3</th>\n",
              "      <th>VII2_4</th>\n",
              "      <th>Cant_habit_por_habitante</th>\n",
              "    </tr>\n",
              "  </thead>\n",
              "  <tbody>\n",
              "    <tr>\n",
              "      <th>0</th>\n",
              "      <td>TQRMNOQXUHLMKSCDEGGFB00590361</td>\n",
              "      <td>1</td>\n",
              "      <td>2018</td>\n",
              "      <td>3</td>\n",
              "      <td>1</td>\n",
              "      <td>1</td>\n",
              "      <td>42</td>\n",
              "      <td>S</td>\n",
              "      <td>10</td>\n",
              "      <td>479</td>\n",
              "      <td>...</td>\n",
              "      <td></td>\n",
              "      <td>7</td>\n",
              "      <td>537</td>\n",
              "      <td>1</td>\n",
              "      <td>0</td>\n",
              "      <td>98</td>\n",
              "      <td>0</td>\n",
              "      <td>0</td>\n",
              "      <td>0</td>\n",
              "      <td>7.000000</td>\n",
              "    </tr>\n",
              "    <tr>\n",
              "      <th>1</th>\n",
              "      <td>TQRMNORSSHKNLUCDEGGFB00618609</td>\n",
              "      <td>1</td>\n",
              "      <td>2018</td>\n",
              "      <td>3</td>\n",
              "      <td>1</td>\n",
              "      <td>1</td>\n",
              "      <td>42</td>\n",
              "      <td>S</td>\n",
              "      <td>10</td>\n",
              "      <td>448</td>\n",
              "      <td>...</td>\n",
              "      <td></td>\n",
              "      <td>10</td>\n",
              "      <td>493</td>\n",
              "      <td>1</td>\n",
              "      <td>0</td>\n",
              "      <td>98</td>\n",
              "      <td>0</td>\n",
              "      <td>0</td>\n",
              "      <td>0</td>\n",
              "      <td>0.800000</td>\n",
              "    </tr>\n",
              "    <tr>\n",
              "      <th>2</th>\n",
              "      <td>TQRMNOUQRHJOKRCDEGIBJ00613161</td>\n",
              "      <td>1</td>\n",
              "      <td>2018</td>\n",
              "      <td>3</td>\n",
              "      <td>1</td>\n",
              "      <td>1</td>\n",
              "      <td>41</td>\n",
              "      <td>N</td>\n",
              "      <td>12</td>\n",
              "      <td>280</td>\n",
              "      <td>...</td>\n",
              "      <td>04</td>\n",
              "      <td>5</td>\n",
              "      <td>528</td>\n",
              "      <td>1</td>\n",
              "      <td>0</td>\n",
              "      <td>98</td>\n",
              "      <td>0</td>\n",
              "      <td>0</td>\n",
              "      <td>0</td>\n",
              "      <td>1.000000</td>\n",
              "    </tr>\n",
              "    <tr>\n",
              "      <th>3</th>\n",
              "      <td>TQRMNOSTUHKMKRCDEGIBJ00618817</td>\n",
              "      <td>1</td>\n",
              "      <td>2018</td>\n",
              "      <td>3</td>\n",
              "      <td>1</td>\n",
              "      <td>1</td>\n",
              "      <td>41</td>\n",
              "      <td>N</td>\n",
              "      <td>12</td>\n",
              "      <td>212</td>\n",
              "      <td>...</td>\n",
              "      <td>07</td>\n",
              "      <td>9</td>\n",
              "      <td>432</td>\n",
              "      <td>1</td>\n",
              "      <td>0</td>\n",
              "      <td>98</td>\n",
              "      <td>0</td>\n",
              "      <td>0</td>\n",
              "      <td>0</td>\n",
              "      <td>1.000000</td>\n",
              "    </tr>\n",
              "    <tr>\n",
              "      <th>4</th>\n",
              "      <td>TQRMNOPWWHJMLLCDEGGFB00613105</td>\n",
              "      <td>1</td>\n",
              "      <td>2018</td>\n",
              "      <td>3</td>\n",
              "      <td>1</td>\n",
              "      <td>1</td>\n",
              "      <td>42</td>\n",
              "      <td>S</td>\n",
              "      <td>10</td>\n",
              "      <td>478</td>\n",
              "      <td>...</td>\n",
              "      <td></td>\n",
              "      <td>6</td>\n",
              "      <td>534</td>\n",
              "      <td>1</td>\n",
              "      <td>2</td>\n",
              "      <td>98</td>\n",
              "      <td>0</td>\n",
              "      <td>0</td>\n",
              "      <td>0</td>\n",
              "      <td>0.750000</td>\n",
              "    </tr>\n",
              "    <tr>\n",
              "      <th>...</th>\n",
              "      <td>...</td>\n",
              "      <td>...</td>\n",
              "      <td>...</td>\n",
              "      <td>...</td>\n",
              "      <td>...</td>\n",
              "      <td>...</td>\n",
              "      <td>...</td>\n",
              "      <td>...</td>\n",
              "      <td>...</td>\n",
              "      <td>...</td>\n",
              "      <td>...</td>\n",
              "      <td>...</td>\n",
              "      <td>...</td>\n",
              "      <td>...</td>\n",
              "      <td>...</td>\n",
              "      <td>...</td>\n",
              "      <td>...</td>\n",
              "      <td>...</td>\n",
              "      <td>...</td>\n",
              "      <td>...</td>\n",
              "      <td>...</td>\n",
              "    </tr>\n",
              "    <tr>\n",
              "      <th>661</th>\n",
              "      <td>TQRMNOPWYHLNOTCDEIJAH00593477</td>\n",
              "      <td>1</td>\n",
              "      <td>2018</td>\n",
              "      <td>3</td>\n",
              "      <td>1</td>\n",
              "      <td>1</td>\n",
              "      <td>1</td>\n",
              "      <td>S</td>\n",
              "      <td>33</td>\n",
              "      <td>1388</td>\n",
              "      <td>...</td>\n",
              "      <td></td>\n",
              "      <td>5</td>\n",
              "      <td>1753</td>\n",
              "      <td>2</td>\n",
              "      <td>4</td>\n",
              "      <td>98</td>\n",
              "      <td>0</td>\n",
              "      <td>0</td>\n",
              "      <td>0</td>\n",
              "      <td>3.500000</td>\n",
              "    </tr>\n",
              "    <tr>\n",
              "      <th>662</th>\n",
              "      <td>TQRMNORWQHLOSTCDEIJAH00593201</td>\n",
              "      <td>1</td>\n",
              "      <td>2018</td>\n",
              "      <td>3</td>\n",
              "      <td>1</td>\n",
              "      <td>1</td>\n",
              "      <td>1</td>\n",
              "      <td>S</td>\n",
              "      <td>33</td>\n",
              "      <td>1645</td>\n",
              "      <td>...</td>\n",
              "      <td></td>\n",
              "      <td>12</td>\n",
              "      <td>0</td>\n",
              "      <td>3</td>\n",
              "      <td>0</td>\n",
              "      <td>1</td>\n",
              "      <td>4</td>\n",
              "      <td>0</td>\n",
              "      <td>0</td>\n",
              "      <td>0.750000</td>\n",
              "    </tr>\n",
              "    <tr>\n",
              "      <th>663</th>\n",
              "      <td>TQRMNOQRRHMOKQCDEIJAH00599611</td>\n",
              "      <td>1</td>\n",
              "      <td>2018</td>\n",
              "      <td>3</td>\n",
              "      <td>1</td>\n",
              "      <td>1</td>\n",
              "      <td>1</td>\n",
              "      <td>S</td>\n",
              "      <td>33</td>\n",
              "      <td>2112</td>\n",
              "      <td>...</td>\n",
              "      <td></td>\n",
              "      <td>5</td>\n",
              "      <td>4514</td>\n",
              "      <td>4</td>\n",
              "      <td>3</td>\n",
              "      <td>1</td>\n",
              "      <td>2</td>\n",
              "      <td>0</td>\n",
              "      <td>0</td>\n",
              "      <td>0.750000</td>\n",
              "    </tr>\n",
              "    <tr>\n",
              "      <th>664</th>\n",
              "      <td>TQRMNOPPQHLLKNCDEIJAH00593363</td>\n",
              "      <td>1</td>\n",
              "      <td>2018</td>\n",
              "      <td>3</td>\n",
              "      <td>1</td>\n",
              "      <td>1</td>\n",
              "      <td>1</td>\n",
              "      <td>S</td>\n",
              "      <td>33</td>\n",
              "      <td>1583</td>\n",
              "      <td>...</td>\n",
              "      <td></td>\n",
              "      <td>9</td>\n",
              "      <td>1768</td>\n",
              "      <td>1</td>\n",
              "      <td>0</td>\n",
              "      <td>98</td>\n",
              "      <td>0</td>\n",
              "      <td>0</td>\n",
              "      <td>0</td>\n",
              "      <td>1.500000</td>\n",
              "    </tr>\n",
              "    <tr>\n",
              "      <th>665</th>\n",
              "      <td>TQSMNOSSSHLNPLCDEIJAH00593683</td>\n",
              "      <td>1</td>\n",
              "      <td>2018</td>\n",
              "      <td>3</td>\n",
              "      <td>1</td>\n",
              "      <td>1</td>\n",
              "      <td>1</td>\n",
              "      <td>S</td>\n",
              "      <td>33</td>\n",
              "      <td>1742</td>\n",
              "      <td>...</td>\n",
              "      <td></td>\n",
              "      <td>3</td>\n",
              "      <td>1961</td>\n",
              "      <td>2</td>\n",
              "      <td>0</td>\n",
              "      <td>1</td>\n",
              "      <td>0</td>\n",
              "      <td>0</td>\n",
              "      <td>0</td>\n",
              "      <td>0.333333</td>\n",
              "    </tr>\n",
              "  </tbody>\n",
              "</table>\n",
              "<p>666 rows × 90 columns</p>\n",
              "</div>"
            ],
            "text/plain": [
              "                            CODUSU  Unnamed: 1  ANO4  TRIMESTRE  NRO_HOGAR  \\\n",
              "0    TQRMNOQXUHLMKSCDEGGFB00590361           1  2018          3          1   \n",
              "1    TQRMNORSSHKNLUCDEGGFB00618609           1  2018          3          1   \n",
              "2    TQRMNOUQRHJOKRCDEGIBJ00613161           1  2018          3          1   \n",
              "3    TQRMNOSTUHKMKRCDEGIBJ00618817           1  2018          3          1   \n",
              "4    TQRMNOPWWHJMLLCDEGGFB00613105           1  2018          3          1   \n",
              "..                             ...         ...   ...        ...        ...   \n",
              "661  TQRMNOPWYHLNOTCDEIJAH00593477           1  2018          3          1   \n",
              "662  TQRMNORWQHLOSTCDEIJAH00593201           1  2018          3          1   \n",
              "663  TQRMNOQRRHMOKQCDEIJAH00599611           1  2018          3          1   \n",
              "664  TQRMNOPPQHLLKNCDEIJAH00593363           1  2018          3          1   \n",
              "665  TQSMNOSSSHLNPLCDEIJAH00593683           1  2018          3          1   \n",
              "\n",
              "     REALIZADA  REGION MAS_500  AGLOMERADO  PONDERA  ...  PDECCFR  ADECCFR  \\\n",
              "0            1      42       S          10      479  ...                 7   \n",
              "1            1      42       S          10      448  ...                10   \n",
              "2            1      41       N          12      280  ...       04        5   \n",
              "3            1      41       N          12      212  ...       07        9   \n",
              "4            1      42       S          10      478  ...                 6   \n",
              "..         ...     ...     ...         ...      ...  ...      ...      ...   \n",
              "661          1       1       S          33     1388  ...                 5   \n",
              "662          1       1       S          33     1645  ...                12   \n",
              "663          1       1       S          33     2112  ...                 5   \n",
              "664          1       1       S          33     1583  ...                 9   \n",
              "665          1       1       S          33     1742  ...                 3   \n",
              "\n",
              "     PONDIH  VII1_1 VII1_2  VII2_1  VII2_2  VII2_3  VII2_4  \\\n",
              "0       537       1      0      98       0       0       0   \n",
              "1       493       1      0      98       0       0       0   \n",
              "2       528       1      0      98       0       0       0   \n",
              "3       432       1      0      98       0       0       0   \n",
              "4       534       1      2      98       0       0       0   \n",
              "..      ...     ...    ...     ...     ...     ...     ...   \n",
              "661    1753       2      4      98       0       0       0   \n",
              "662       0       3      0       1       4       0       0   \n",
              "663    4514       4      3       1       2       0       0   \n",
              "664    1768       1      0      98       0       0       0   \n",
              "665    1961       2      0       1       0       0       0   \n",
              "\n",
              "     Cant_habit_por_habitante  \n",
              "0                    7.000000  \n",
              "1                    0.800000  \n",
              "2                    1.000000  \n",
              "3                    1.000000  \n",
              "4                    0.750000  \n",
              "..                        ...  \n",
              "661                  3.500000  \n",
              "662                  0.750000  \n",
              "663                  0.750000  \n",
              "664                  1.500000  \n",
              "665                  0.333333  \n",
              "\n",
              "[666 rows x 90 columns]"
            ]
          },
          "metadata": {
            "tags": []
          },
          "execution_count": 18
        }
      ]
    },
    {
      "cell_type": "code",
      "metadata": {
        "id": "O2Hpii4LakR1",
        "outputId": "91864354-69bd-43cf-b3c1-4c722f613ffb"
      },
      "source": [
        "sns.histplot(data=df_hogar, x=\"Cant_habit_por_habitante\")"
      ],
      "execution_count": null,
      "outputs": [
        {
          "output_type": "execute_result",
          "data": {
            "text/plain": [
              "<AxesSubplot:xlabel='Cant_habit_por_habitante', ylabel='Count'>"
            ]
          },
          "metadata": {
            "tags": []
          },
          "execution_count": 19
        },
        {
          "output_type": "display_data",
          "data": {
            "image/png": "[encoded data removed]",
            "text/plain": [
              "<Figure size 432x288 with 1 Axes>"
            ]
          },
          "metadata": {
            "tags": []
          }
        }
      ]
    },
    {
      "cell_type": "markdown",
      "metadata": {
        "id": "JOhiYmutakR1"
      },
      "source": [
        "¿Existe alguna relación a simple vista entre la cantidad de cuartos que tiene un hogar y el nivel de ingresos del mismo? Realizar un scatter plot para visualizar ambas variables."
      ]
    },
    {
      "cell_type": "code",
      "metadata": {
        "id": "3tu53YVbakR1",
        "outputId": "d9a5cc4b-b63a-419d-886d-3e1bc9e1310c"
      },
      "source": [
        "sns.scatterplot(data=df_hogar[df_hogar['IV2']< 20], x=\"ITF\", y=\"IV2\")"
      ],
      "execution_count": null,
      "outputs": [
        {
          "output_type": "execute_result",
          "data": {
            "text/plain": [
              "<AxesSubplot:xlabel='ITF', ylabel='IV2'>"
            ]
          },
          "metadata": {
            "tags": []
          },
          "execution_count": 20
        },
        {
          "output_type": "display_data",
          "data": {
            "image/png": "[encoded data removed]",
            "text/plain": [
              "<Figure size 432x288 with 1 Axes>"
            ]
          },
          "metadata": {
            "tags": []
          }
        }
      ]
    },
    {
      "cell_type": "code",
      "metadata": {
        "id": "KhAjVc6VakR2"
      },
      "source": [
        ""
      ],
      "execution_count": null,
      "outputs": []
    }
  ]
}