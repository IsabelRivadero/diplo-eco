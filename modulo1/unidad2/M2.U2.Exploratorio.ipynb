{
 "cells": [
  {
   "cell_type": "markdown",
   "metadata": {
    "id": "b2syph4hUdj0"
   },
   "source": [
    "LABORATORIO II"
   ]
  },
  {
   "cell_type": "code",
   "execution_count": null,
   "metadata": {
    "id": "JU3iQ49MUdj2"
   },
   "outputs": [],
   "source": [
    "import numpy as np\n",
    "import pandas as pd\n",
    "import matplotlib.pyplot as plt\n",
    "import seaborn as sns"
   ]
  },
  {
   "cell_type": "code",
   "execution_count": null,
   "metadata": {
    "id": "E-nvaFXcUdj3",
    "outputId": "1f3e53e1-c2c4-4117-e06a-9f51a23534e0"
   },
   "outputs": [
    {
     "data": {
      "text/html": [
       "<div>\n",
       "<style scoped>\n",
       "    .dataframe tbody tr th:only-of-type {\n",
       "        vertical-align: middle;\n",
       "    }\n",
       "\n",
       "    .dataframe tbody tr th {\n",
       "        vertical-align: top;\n",
       "    }\n",
       "\n",
       "    .dataframe thead th {\n",
       "        text-align: right;\n",
       "    }\n",
       "</style>\n",
       "<table border=\"1\" class=\"dataframe\">\n",
       "  <thead>\n",
       "    <tr style=\"text-align: right;\">\n",
       "      <th></th>\n",
       "      <th>Music</th>\n",
       "      <th>Slow songs or fast songs</th>\n",
       "      <th>Dance</th>\n",
       "      <th>Folk</th>\n",
       "      <th>Country</th>\n",
       "      <th>Classical music</th>\n",
       "      <th>Musical</th>\n",
       "      <th>Pop</th>\n",
       "      <th>Rock</th>\n",
       "      <th>Metal or Hardrock</th>\n",
       "      <th>...</th>\n",
       "      <th>Age</th>\n",
       "      <th>Height</th>\n",
       "      <th>Weight</th>\n",
       "      <th>Number of siblings</th>\n",
       "      <th>Gender</th>\n",
       "      <th>Left - right handed</th>\n",
       "      <th>Education</th>\n",
       "      <th>Only child</th>\n",
       "      <th>Village - town</th>\n",
       "      <th>House - block of flats</th>\n",
       "    </tr>\n",
       "  </thead>\n",
       "  <tbody>\n",
       "    <tr>\n",
       "      <th>0</th>\n",
       "      <td>5.0</td>\n",
       "      <td>3.0</td>\n",
       "      <td>2.0</td>\n",
       "      <td>1.0</td>\n",
       "      <td>2.0</td>\n",
       "      <td>2.0</td>\n",
       "      <td>1.0</td>\n",
       "      <td>5.0</td>\n",
       "      <td>5.0</td>\n",
       "      <td>1.0</td>\n",
       "      <td>...</td>\n",
       "      <td>20.0</td>\n",
       "      <td>163.0</td>\n",
       "      <td>48.0</td>\n",
       "      <td>1.0</td>\n",
       "      <td>female</td>\n",
       "      <td>right handed</td>\n",
       "      <td>college/bachelor degree</td>\n",
       "      <td>no</td>\n",
       "      <td>village</td>\n",
       "      <td>block of flats</td>\n",
       "    </tr>\n",
       "    <tr>\n",
       "      <th>1</th>\n",
       "      <td>4.0</td>\n",
       "      <td>4.0</td>\n",
       "      <td>2.0</td>\n",
       "      <td>1.0</td>\n",
       "      <td>1.0</td>\n",
       "      <td>1.0</td>\n",
       "      <td>2.0</td>\n",
       "      <td>3.0</td>\n",
       "      <td>5.0</td>\n",
       "      <td>4.0</td>\n",
       "      <td>...</td>\n",
       "      <td>19.0</td>\n",
       "      <td>163.0</td>\n",
       "      <td>58.0</td>\n",
       "      <td>2.0</td>\n",
       "      <td>female</td>\n",
       "      <td>right handed</td>\n",
       "      <td>college/bachelor degree</td>\n",
       "      <td>no</td>\n",
       "      <td>city</td>\n",
       "      <td>block of flats</td>\n",
       "    </tr>\n",
       "    <tr>\n",
       "      <th>2</th>\n",
       "      <td>5.0</td>\n",
       "      <td>5.0</td>\n",
       "      <td>2.0</td>\n",
       "      <td>2.0</td>\n",
       "      <td>3.0</td>\n",
       "      <td>4.0</td>\n",
       "      <td>5.0</td>\n",
       "      <td>3.0</td>\n",
       "      <td>5.0</td>\n",
       "      <td>3.0</td>\n",
       "      <td>...</td>\n",
       "      <td>20.0</td>\n",
       "      <td>176.0</td>\n",
       "      <td>67.0</td>\n",
       "      <td>2.0</td>\n",
       "      <td>female</td>\n",
       "      <td>right handed</td>\n",
       "      <td>secondary school</td>\n",
       "      <td>no</td>\n",
       "      <td>city</td>\n",
       "      <td>block of flats</td>\n",
       "    </tr>\n",
       "  </tbody>\n",
       "</table>\n",
       "<p>3 rows × 150 columns</p>\n",
       "</div>"
      ],
      "text/plain": [
       "   Music  Slow songs or fast songs  Dance  Folk  Country  Classical music  \\\n",
       "0    5.0                       3.0    2.0   1.0      2.0              2.0   \n",
       "1    4.0                       4.0    2.0   1.0      1.0              1.0   \n",
       "2    5.0                       5.0    2.0   2.0      3.0              4.0   \n",
       "\n",
       "   Musical  Pop  Rock  Metal or Hardrock           ...             Age  \\\n",
       "0      1.0  5.0   5.0                1.0           ...            20.0   \n",
       "1      2.0  3.0   5.0                4.0           ...            19.0   \n",
       "2      5.0  3.0   5.0                3.0           ...            20.0   \n",
       "\n",
       "   Height  Weight  Number of siblings  Gender  Left - right handed  \\\n",
       "0   163.0    48.0                 1.0  female         right handed   \n",
       "1   163.0    58.0                 2.0  female         right handed   \n",
       "2   176.0    67.0                 2.0  female         right handed   \n",
       "\n",
       "                 Education  Only child  Village - town  House - block of flats  \n",
       "0  college/bachelor degree          no         village          block of flats  \n",
       "1  college/bachelor degree          no            city          block of flats  \n",
       "2         secondary school          no            city          block of flats  \n",
       "\n",
       "[3 rows x 150 columns]"
      ]
     },
     "execution_count": 4,
     "metadata": {
      "tags": []
     },
     "output_type": "execute_result"
    }
   ],
   "source": [
    "encuesta=pd.read_csv(\"responses.csv\", encoding='utf8')\n",
    "encuesta[:3]"
   ]
  },
  {
   "cell_type": "code",
   "execution_count": null,
   "metadata": {
    "id": "RvoFUZn1Udj4"
   },
   "outputs": [],
   "source": [
    "#Trabajamos con las variables seleccionadas"
   ]
  },
  {
   "cell_type": "code",
   "execution_count": null,
   "metadata": {
    "id": "FBeMo3WvUdj4",
    "outputId": "4632476d-a8df-469b-9529-163a5427dea0"
   },
   "outputs": [
    {
     "data": {
      "text/html": [
       "<div>\n",
       "<style scoped>\n",
       "    .dataframe tbody tr th:only-of-type {\n",
       "        vertical-align: middle;\n",
       "    }\n",
       "\n",
       "    .dataframe tbody tr th {\n",
       "        vertical-align: top;\n",
       "    }\n",
       "\n",
       "    .dataframe thead th {\n",
       "        text-align: right;\n",
       "    }\n",
       "</style>\n",
       "<table border=\"1\" class=\"dataframe\">\n",
       "  <thead>\n",
       "    <tr style=\"text-align: right;\">\n",
       "      <th></th>\n",
       "      <th>Gender</th>\n",
       "      <th>Alcohol</th>\n",
       "      <th>Smoking</th>\n",
       "      <th>Age</th>\n",
       "      <th>Weight</th>\n",
       "      <th>Height</th>\n",
       "      <th>Healthy eating</th>\n",
       "    </tr>\n",
       "  </thead>\n",
       "  <tbody>\n",
       "    <tr>\n",
       "      <th>0</th>\n",
       "      <td>female</td>\n",
       "      <td>drink a lot</td>\n",
       "      <td>never smoked</td>\n",
       "      <td>20.0</td>\n",
       "      <td>48.0</td>\n",
       "      <td>163.0</td>\n",
       "      <td>4.0</td>\n",
       "    </tr>\n",
       "    <tr>\n",
       "      <th>1</th>\n",
       "      <td>female</td>\n",
       "      <td>drink a lot</td>\n",
       "      <td>never smoked</td>\n",
       "      <td>19.0</td>\n",
       "      <td>58.0</td>\n",
       "      <td>163.0</td>\n",
       "      <td>3.0</td>\n",
       "    </tr>\n",
       "    <tr>\n",
       "      <th>2</th>\n",
       "      <td>female</td>\n",
       "      <td>drink a lot</td>\n",
       "      <td>tried smoking</td>\n",
       "      <td>20.0</td>\n",
       "      <td>67.0</td>\n",
       "      <td>176.0</td>\n",
       "      <td>3.0</td>\n",
       "    </tr>\n",
       "    <tr>\n",
       "      <th>3</th>\n",
       "      <td>female</td>\n",
       "      <td>drink a lot</td>\n",
       "      <td>former smoker</td>\n",
       "      <td>22.0</td>\n",
       "      <td>59.0</td>\n",
       "      <td>172.0</td>\n",
       "      <td>3.0</td>\n",
       "    </tr>\n",
       "  </tbody>\n",
       "</table>\n",
       "</div>"
      ],
      "text/plain": [
       "   Gender      Alcohol        Smoking   Age  Weight  Height  Healthy eating\n",
       "0  female  drink a lot   never smoked  20.0    48.0   163.0             4.0\n",
       "1  female  drink a lot   never smoked  19.0    58.0   163.0             3.0\n",
       "2  female  drink a lot  tried smoking  20.0    67.0   176.0             3.0\n",
       "3  female  drink a lot  former smoker  22.0    59.0   172.0             3.0"
      ]
     },
     "execution_count": 26,
     "metadata": {
      "tags": []
     },
     "output_type": "execute_result"
    }
   ],
   "source": [
    "encuesta_corta = encuesta[['Gender','Alcohol', 'Smoking', \"Age\", 'Weight',  'Height', \"Healthy eating\"]]\n",
    "\n",
    "encuesta_corta [:4]    "
   ]
  },
  {
   "cell_type": "code",
   "execution_count": null,
   "metadata": {
    "id": "z9deS9MKUdj4",
    "outputId": "15ac4569-8661-4250-9f35-7ba3f4b34c8c"
   },
   "outputs": [
    {
     "data": {
      "text/html": [
       "<div>\n",
       "<style scoped>\n",
       "    .dataframe tbody tr th:only-of-type {\n",
       "        vertical-align: middle;\n",
       "    }\n",
       "\n",
       "    .dataframe tbody tr th {\n",
       "        vertical-align: top;\n",
       "    }\n",
       "\n",
       "    .dataframe thead th {\n",
       "        text-align: right;\n",
       "    }\n",
       "</style>\n",
       "<table border=\"1\" class=\"dataframe\">\n",
       "  <thead>\n",
       "    <tr style=\"text-align: right;\">\n",
       "      <th></th>\n",
       "      <th>Age</th>\n",
       "      <th>Weight</th>\n",
       "      <th>Height</th>\n",
       "      <th>Healthy eating</th>\n",
       "    </tr>\n",
       "  </thead>\n",
       "  <tbody>\n",
       "    <tr>\n",
       "      <th>count</th>\n",
       "      <td>1003.000000</td>\n",
       "      <td>990.000000</td>\n",
       "      <td>990.000000</td>\n",
       "      <td>1007.000000</td>\n",
       "    </tr>\n",
       "    <tr>\n",
       "      <th>mean</th>\n",
       "      <td>20.433699</td>\n",
       "      <td>66.405051</td>\n",
       "      <td>173.514141</td>\n",
       "      <td>3.031778</td>\n",
       "    </tr>\n",
       "    <tr>\n",
       "      <th>std</th>\n",
       "      <td>2.828840</td>\n",
       "      <td>13.839561</td>\n",
       "      <td>10.024505</td>\n",
       "      <td>0.936865</td>\n",
       "    </tr>\n",
       "    <tr>\n",
       "      <th>min</th>\n",
       "      <td>15.000000</td>\n",
       "      <td>41.000000</td>\n",
       "      <td>62.000000</td>\n",
       "      <td>1.000000</td>\n",
       "    </tr>\n",
       "    <tr>\n",
       "      <th>25%</th>\n",
       "      <td>19.000000</td>\n",
       "      <td>55.000000</td>\n",
       "      <td>167.000000</td>\n",
       "      <td>3.000000</td>\n",
       "    </tr>\n",
       "    <tr>\n",
       "      <th>50%</th>\n",
       "      <td>20.000000</td>\n",
       "      <td>64.000000</td>\n",
       "      <td>173.000000</td>\n",
       "      <td>3.000000</td>\n",
       "    </tr>\n",
       "    <tr>\n",
       "      <th>75%</th>\n",
       "      <td>22.000000</td>\n",
       "      <td>75.000000</td>\n",
       "      <td>180.000000</td>\n",
       "      <td>4.000000</td>\n",
       "    </tr>\n",
       "    <tr>\n",
       "      <th>max</th>\n",
       "      <td>30.000000</td>\n",
       "      <td>165.000000</td>\n",
       "      <td>203.000000</td>\n",
       "      <td>5.000000</td>\n",
       "    </tr>\n",
       "  </tbody>\n",
       "</table>\n",
       "</div>"
      ],
      "text/plain": [
       "               Age      Weight      Height  Healthy eating\n",
       "count  1003.000000  990.000000  990.000000     1007.000000\n",
       "mean     20.433699   66.405051  173.514141        3.031778\n",
       "std       2.828840   13.839561   10.024505        0.936865\n",
       "min      15.000000   41.000000   62.000000        1.000000\n",
       "25%      19.000000   55.000000  167.000000        3.000000\n",
       "50%      20.000000   64.000000  173.000000        3.000000\n",
       "75%      22.000000   75.000000  180.000000        4.000000\n",
       "max      30.000000  165.000000  203.000000        5.000000"
      ]
     },
     "execution_count": 6,
     "metadata": {
      "tags": []
     },
     "output_type": "execute_result"
    }
   ],
   "source": [
    "encuesta_corta.describe()"
   ]
  },
  {
   "cell_type": "markdown",
   "metadata": {
    "id": "Su_Auq-HUdj5"
   },
   "source": [
    "Análisis unidiemnsional de las variables numéricas"
   ]
  },
  {
   "cell_type": "code",
   "execution_count": null,
   "metadata": {
    "id": "1mEe6Qn_Udj5",
    "outputId": "5a3fb7af-81ae-4ba5-ebfa-739423d31dcf"
   },
   "outputs": [
    {
     "data": {
      "text/plain": [
       "<matplotlib.axes._subplots.AxesSubplot at 0x22410a12a58>"
      ]
     },
     "execution_count": 7,
     "metadata": {
      "tags": []
     },
     "output_type": "execute_result"
    },
    {
     "data": {
      "image/png": "[encoded data removed]",
      "text/plain": [
       "<matplotlib.figure.Figure at 0x22410a11c50>"
      ]
     },
     "metadata": {
      "tags": []
     },
     "output_type": "display_data"
    }
   ],
   "source": [
    "sns.boxplot(x=\"Age\" , data=encuesta_corta, palette=\"Set1\")"
   ]
  },
  {
   "cell_type": "code",
   "execution_count": null,
   "metadata": {
    "id": "wOsx7EhOUdj5",
    "outputId": "2149b195-fc18-4acf-944f-b3bf51b19279"
   },
   "outputs": [
    {
     "data": {
      "image/png": "[encoded data removed]",
      "text/plain": [
       "<matplotlib.figure.Figure at 0x22410ab6b70>"
      ]
     },
     "metadata": {
      "tags": []
     },
     "output_type": "display_data"
    }
   ],
   "source": [
    "plt.hist(encuesta_corta.Age.dropna(axis=0,how='all'), bins=8, range=(14,30), edgecolor='black') #ver el parametro bins con 10 quedan juntos con 20 se separan\n",
    "plt.xlabel(\"Edades de los encuestados\")\n",
    "plt.ylabel(\"Frecuencias Absolutas\")\n",
    "plt.title('Histograma de \"Edad\"')\n",
    "plt.show()"
   ]
  },
  {
   "cell_type": "code",
   "execution_count": null,
   "metadata": {
    "id": "Pyec05FbUdj6",
    "outputId": "548ec34f-b313-436c-f868-d840e47f1f10"
   },
   "outputs": [
    {
     "data": {
      "text/plain": [
       "<matplotlib.axes._subplots.AxesSubplot at 0x22410c1e4a8>"
      ]
     },
     "execution_count": 9,
     "metadata": {
      "tags": []
     },
     "output_type": "execute_result"
    },
    {
     "data": {
      "image/png": "[encoded data removed]",
      "text/plain": [
       "<matplotlib.figure.Figure at 0x2240c3b9358>"
      ]
     },
     "metadata": {
      "tags": []
     },
     "output_type": "display_data"
    }
   ],
   "source": [
    "sns.boxplot(x=\"Weight\" , data=encuesta_corta, palette=(\"Set3\"))"
   ]
  },
  {
   "cell_type": "code",
   "execution_count": null,
   "metadata": {
    "id": "jnxLQyCzUdj6",
    "outputId": "ab345f3a-cada-4f32-94c9-47828b1f9809"
   },
   "outputs": [
    {
     "data": {
      "image/png": "[encoded data removed]",
      "text/plain": [
       "<matplotlib.figure.Figure at 0x22410937e80>"
      ]
     },
     "metadata": {
      "tags": []
     },
     "output_type": "display_data"
    }
   ],
   "source": [
    "plt.hist(encuesta_corta.Weight.dropna(axis=0,how='all'), bins=10, range=(38,168), edgecolor='black')\n",
    "plt.xlabel(\"Pesos de los encuestados\")\n",
    "plt.ylabel(\"Frecuencias Absolutas\")\n",
    "plt.title('Histograma de \"Peso\"')\n",
    "plt.show()"
   ]
  },
  {
   "cell_type": "code",
   "execution_count": null,
   "metadata": {
    "id": "CtGK7Uf9Udj7",
    "outputId": "d4e9b160-070f-4669-d2f5-964389a33d14"
   },
   "outputs": [
    {
     "data": {
      "text/plain": [
       "<matplotlib.axes._subplots.AxesSubplot at 0x22410cfcc18>"
      ]
     },
     "execution_count": 11,
     "metadata": {
      "tags": []
     },
     "output_type": "execute_result"
    },
    {
     "data": {
      "image/png": "[encoded data removed]",
      "text/plain": [
       "<matplotlib.figure.Figure at 0x2240d4ad470>"
      ]
     },
     "metadata": {
      "tags": []
     },
     "output_type": "display_data"
    }
   ],
   "source": [
    "sns.boxplot(x=\"Height\" , data=encuesta_corta, palette=\"Set1\",orient=\"h\")"
   ]
  },
  {
   "cell_type": "code",
   "execution_count": null,
   "metadata": {
    "id": "a_r9d4TmUdj7",
    "outputId": "8337d3d5-2d08-43fe-dd09-e2cec85a2ee7"
   },
   "outputs": [
    {
     "data": {
      "image/png": "[encoded data removed]",
      "text/plain": [
       "<matplotlib.figure.Figure at 0x22410dbd390>"
      ]
     },
     "metadata": {
      "tags": []
     },
     "output_type": "display_data"
    }
   ],
   "source": [
    "plt.hist(encuesta_corta.Height.dropna(axis=0,how='all'), bins=15, range=(60,209), edgecolor='black')\n",
    "plt.xlabel(\"Estatura de los encuestados\")\n",
    "plt.ylabel(\"Frecuencias Absolutas\")\n",
    "plt.title('Histograma de \"Estatura\"')\n",
    "plt.show()\n",
    "#explicar valor extremo!"
   ]
  },
  {
   "cell_type": "code",
   "execution_count": null,
   "metadata": {
    "id": "c6SpGMg9Udj8",
    "outputId": "a9c57a83-9685-40e3-c79f-e01a806ebf53"
   },
   "outputs": [
    {
     "data": {
      "text/html": [
       "<div>\n",
       "<style scoped>\n",
       "    .dataframe tbody tr th:only-of-type {\n",
       "        vertical-align: middle;\n",
       "    }\n",
       "\n",
       "    .dataframe tbody tr th {\n",
       "        vertical-align: top;\n",
       "    }\n",
       "\n",
       "    .dataframe thead th {\n",
       "        text-align: right;\n",
       "    }\n",
       "</style>\n",
       "<table border=\"1\" class=\"dataframe\">\n",
       "  <thead>\n",
       "    <tr style=\"text-align: right;\">\n",
       "      <th></th>\n",
       "      <th>Gender</th>\n",
       "      <th>Alcohol</th>\n",
       "      <th>Smoking</th>\n",
       "      <th>Age</th>\n",
       "      <th>Weight</th>\n",
       "      <th>Height</th>\n",
       "      <th>Healthy eating</th>\n",
       "    </tr>\n",
       "  </thead>\n",
       "  <tbody>\n",
       "    <tr>\n",
       "      <th>0</th>\n",
       "      <td>female</td>\n",
       "      <td>drink a lot</td>\n",
       "      <td>never smoked</td>\n",
       "      <td>20.0</td>\n",
       "      <td>48.0</td>\n",
       "      <td>163.0</td>\n",
       "      <td>4.0</td>\n",
       "    </tr>\n",
       "    <tr>\n",
       "      <th>1</th>\n",
       "      <td>female</td>\n",
       "      <td>drink a lot</td>\n",
       "      <td>never smoked</td>\n",
       "      <td>19.0</td>\n",
       "      <td>58.0</td>\n",
       "      <td>163.0</td>\n",
       "      <td>3.0</td>\n",
       "    </tr>\n",
       "    <tr>\n",
       "      <th>2</th>\n",
       "      <td>female</td>\n",
       "      <td>drink a lot</td>\n",
       "      <td>tried smoking</td>\n",
       "      <td>20.0</td>\n",
       "      <td>67.0</td>\n",
       "      <td>176.0</td>\n",
       "      <td>3.0</td>\n",
       "    </tr>\n",
       "    <tr>\n",
       "      <th>3</th>\n",
       "      <td>female</td>\n",
       "      <td>drink a lot</td>\n",
       "      <td>former smoker</td>\n",
       "      <td>22.0</td>\n",
       "      <td>59.0</td>\n",
       "      <td>172.0</td>\n",
       "      <td>3.0</td>\n",
       "    </tr>\n",
       "  </tbody>\n",
       "</table>\n",
       "</div>"
      ],
      "text/plain": [
       "   Gender      Alcohol        Smoking   Age  Weight  Height  Healthy eating\n",
       "0  female  drink a lot   never smoked  20.0    48.0   163.0             4.0\n",
       "1  female  drink a lot   never smoked  19.0    58.0   163.0             3.0\n",
       "2  female  drink a lot  tried smoking  20.0    67.0   176.0             3.0\n",
       "3  female  drink a lot  former smoker  22.0    59.0   172.0             3.0"
      ]
     },
     "execution_count": 13,
     "metadata": {
      "tags": []
     },
     "output_type": "execute_result"
    }
   ],
   "source": [
    "encuesta_n=pd.read_csv(\"responses_new.csv\", encoding='utf8')\n",
    "encuesta_n [:4]\n",
    "\n",
    "encuesta_corta_n = encuesta_n[['Gender','Alcohol', 'Smoking', \"Age\" , 'Weight',  'Height', \"Healthy eating\"]]\n",
    "encuesta_corta_n [:4]"
   ]
  },
  {
   "cell_type": "code",
   "execution_count": null,
   "metadata": {
    "id": "F-qANvETUdj8",
    "outputId": "acffa96d-a043-4b15-f7b2-fc4918474d17"
   },
   "outputs": [
    {
     "data": {
      "text/html": [
       "<div>\n",
       "<style scoped>\n",
       "    .dataframe tbody tr th:only-of-type {\n",
       "        vertical-align: middle;\n",
       "    }\n",
       "\n",
       "    .dataframe tbody tr th {\n",
       "        vertical-align: top;\n",
       "    }\n",
       "\n",
       "    .dataframe thead th {\n",
       "        text-align: right;\n",
       "    }\n",
       "</style>\n",
       "<table border=\"1\" class=\"dataframe\">\n",
       "  <thead>\n",
       "    <tr style=\"text-align: right;\">\n",
       "      <th></th>\n",
       "      <th>Age</th>\n",
       "      <th>Weight</th>\n",
       "      <th>Height</th>\n",
       "      <th>Healthy eating</th>\n",
       "    </tr>\n",
       "  </thead>\n",
       "  <tbody>\n",
       "    <tr>\n",
       "      <th>count</th>\n",
       "      <td>1003.000000</td>\n",
       "      <td>990.000000</td>\n",
       "      <td>989.000000</td>\n",
       "      <td>1007.000000</td>\n",
       "    </tr>\n",
       "    <tr>\n",
       "      <th>mean</th>\n",
       "      <td>20.433699</td>\n",
       "      <td>66.405051</td>\n",
       "      <td>173.626896</td>\n",
       "      <td>3.031778</td>\n",
       "    </tr>\n",
       "    <tr>\n",
       "      <th>std</th>\n",
       "      <td>2.828840</td>\n",
       "      <td>13.839561</td>\n",
       "      <td>9.380471</td>\n",
       "      <td>0.936865</td>\n",
       "    </tr>\n",
       "    <tr>\n",
       "      <th>min</th>\n",
       "      <td>15.000000</td>\n",
       "      <td>41.000000</td>\n",
       "      <td>148.000000</td>\n",
       "      <td>1.000000</td>\n",
       "    </tr>\n",
       "    <tr>\n",
       "      <th>25%</th>\n",
       "      <td>19.000000</td>\n",
       "      <td>55.000000</td>\n",
       "      <td>167.000000</td>\n",
       "      <td>3.000000</td>\n",
       "    </tr>\n",
       "    <tr>\n",
       "      <th>50%</th>\n",
       "      <td>20.000000</td>\n",
       "      <td>64.000000</td>\n",
       "      <td>173.000000</td>\n",
       "      <td>3.000000</td>\n",
       "    </tr>\n",
       "    <tr>\n",
       "      <th>75%</th>\n",
       "      <td>22.000000</td>\n",
       "      <td>75.000000</td>\n",
       "      <td>180.000000</td>\n",
       "      <td>4.000000</td>\n",
       "    </tr>\n",
       "    <tr>\n",
       "      <th>max</th>\n",
       "      <td>30.000000</td>\n",
       "      <td>165.000000</td>\n",
       "      <td>203.000000</td>\n",
       "      <td>5.000000</td>\n",
       "    </tr>\n",
       "  </tbody>\n",
       "</table>\n",
       "</div>"
      ],
      "text/plain": [
       "               Age      Weight      Height  Healthy eating\n",
       "count  1003.000000  990.000000  989.000000     1007.000000\n",
       "mean     20.433699   66.405051  173.626896        3.031778\n",
       "std       2.828840   13.839561    9.380471        0.936865\n",
       "min      15.000000   41.000000  148.000000        1.000000\n",
       "25%      19.000000   55.000000  167.000000        3.000000\n",
       "50%      20.000000   64.000000  173.000000        3.000000\n",
       "75%      22.000000   75.000000  180.000000        4.000000\n",
       "max      30.000000  165.000000  203.000000        5.000000"
      ]
     },
     "execution_count": 14,
     "metadata": {
      "tags": []
     },
     "output_type": "execute_result"
    }
   ],
   "source": [
    "encuesta_corta_n.describe()"
   ]
  },
  {
   "cell_type": "code",
   "execution_count": null,
   "metadata": {
    "id": "vRZrQmmKUdj8",
    "outputId": "f18b67aa-a868-480e-b246-e992671374fd"
   },
   "outputs": [
    {
     "data": {
      "text/plain": [
       "<matplotlib.axes._subplots.AxesSubplot at 0x22410e4b780>"
      ]
     },
     "execution_count": 15,
     "metadata": {
      "tags": []
     },
     "output_type": "execute_result"
    },
    {
     "data": {
      "image/png": "[encoded data removed]",
      "text/plain": [
       "<matplotlib.figure.Figure at 0x22410c90160>"
      ]
     },
     "metadata": {
      "tags": []
     },
     "output_type": "display_data"
    }
   ],
   "source": [
    "sns.boxplot(x=\"Height\" , data=encuesta_corta_n, palette=\"Set1\",orient=\"h\")"
   ]
  },
  {
   "cell_type": "code",
   "execution_count": null,
   "metadata": {
    "id": "H31MFVguUdj9",
    "outputId": "ddc5e234-cb25-4514-8831-ec42841f8c83"
   },
   "outputs": [
    {
     "data": {
      "image/png": "[encoded data removed]",
      "text/plain": [
       "<matplotlib.figure.Figure at 0x22410e92198>"
      ]
     },
     "metadata": {
      "tags": []
     },
     "output_type": "display_data"
    }
   ],
   "source": [
    "plt.hist(encuesta_corta_n.Height.dropna(axis=0,how='all'), bins=10, range=(140,220), edgecolor='black')\n",
    "plt.xlabel(\"Estatura de los encuestados\")\n",
    "plt.ylabel(\"Frecuencias Absolutas\")\n",
    "plt.title('Histograma de \"Estatura\"')\n",
    "plt.show()"
   ]
  },
  {
   "cell_type": "code",
   "execution_count": null,
   "metadata": {
    "id": "QIfjzxTNUdj9",
    "outputId": "ebda5d84-71b1-4fd2-dd12-2b4958e1069e"
   },
   "outputs": [
    {
     "data": {
      "text/plain": [
       "Text(0.5,1,'Vivo un estilo de vida muy saludable., \"Alimentación saludable\"')"
      ]
     },
     "execution_count": 19,
     "metadata": {
      "tags": []
     },
     "output_type": "execute_result"
    },
    {
     "data": {
      "image/png": "[encoded data removed]",
      "text/plain": [
       "<matplotlib.figure.Figure at 0x22410ef6358>"
      ]
     },
     "metadata": {
      "tags": []
     },
     "output_type": "display_data"
    }
   ],
   "source": [
    "g = sns.factorplot(x=\"Healthy eating\", data=encuesta_corta, kind=\"count\",palette=\"BuPu\", size=4, aspect=1.5)\n",
    "g.set_xticklabels(step=2)\n",
    "plt.title('Vivo un estilo de vida muy saludable., \"Alimentación saludable\"')    "
   ]
  },
  {
   "cell_type": "markdown",
   "metadata": {
    "id": "HjFv7LkYUdj9"
   },
   "source": [
    "\n",
    "Tablas de frecuencia de las variables numéricas"
   ]
  },
  {
   "cell_type": "code",
   "execution_count": null,
   "metadata": {
    "id": "AFQMX_5tUdj-",
    "outputId": "a80865c3-7c32-448a-f654-95d188a13cbe"
   },
   "outputs": [
    {
     "data": {
      "text/plain": [
       "15.0     11\n",
       "16.0     29\n",
       "17.0     53\n",
       "18.0    123\n",
       "19.0    210\n",
       "20.0    194\n",
       "21.0    127\n",
       "22.0     84\n",
       "23.0     47\n",
       "24.0     28\n",
       "25.0     30\n",
       "26.0     15\n",
       "27.0     14\n",
       "28.0     17\n",
       "29.0     11\n",
       "30.0     10\n",
       "Name: Age, dtype: int64"
      ]
     },
     "execution_count": 20,
     "metadata": {
      "tags": []
     },
     "output_type": "execute_result"
    }
   ],
   "source": [
    "pd.value_counts(encuesta_corta['Age']).sort_index()"
   ]
  },
  {
   "cell_type": "code",
   "execution_count": null,
   "metadata": {
    "id": "xvb5hRmrUdj-",
    "outputId": "df0d4e95-ab20-468e-d0e0-f27f3519f090"
   },
   "outputs": [
    {
     "data": {
      "text/plain": [
       "41.0      1\n",
       "42.0      1\n",
       "43.0      2\n",
       "44.0      3\n",
       "45.0      5\n",
       "46.0      5\n",
       "47.0      8\n",
       "48.0     21\n",
       "49.0     13\n",
       "50.0     41\n",
       "51.0     14\n",
       "52.0     23\n",
       "53.0     28\n",
       "54.0     25\n",
       "55.0     62\n",
       "56.0     22\n",
       "57.0     31\n",
       "58.0     31\n",
       "59.0      9\n",
       "60.0     76\n",
       "61.0      7\n",
       "62.0     26\n",
       "63.0     28\n",
       "64.0     18\n",
       "65.0     49\n",
       "66.0      9\n",
       "67.0     18\n",
       "68.0     23\n",
       "69.0     10\n",
       "70.0     51\n",
       "         ..\n",
       "80.0     50\n",
       "81.0      7\n",
       "82.0     11\n",
       "83.0     15\n",
       "84.0      7\n",
       "85.0     20\n",
       "86.0      4\n",
       "87.0      3\n",
       "88.0      8\n",
       "89.0      5\n",
       "90.0     17\n",
       "91.0      2\n",
       "92.0      5\n",
       "93.0      3\n",
       "95.0      5\n",
       "96.0      3\n",
       "97.0      2\n",
       "98.0      3\n",
       "99.0      1\n",
       "100.0     3\n",
       "101.0     1\n",
       "103.0     1\n",
       "105.0     1\n",
       "110.0     1\n",
       "111.0     1\n",
       "113.0     1\n",
       "120.0     3\n",
       "125.0     1\n",
       "150.0     1\n",
       "165.0     1\n",
       "Name: Weight, Length: 69, dtype: int64"
      ]
     },
     "execution_count": 21,
     "metadata": {
      "tags": []
     },
     "output_type": "execute_result"
    }
   ],
   "source": [
    "pd.value_counts(encuesta_corta['Weight']).sort_index()"
   ]
  },
  {
   "cell_type": "code",
   "execution_count": null,
   "metadata": {
    "id": "QuTwzyRpUdj-",
    "outputId": "6a8913c7-fc92-4cb6-e604-ac86f8044c3d"
   },
   "outputs": [
    {
     "data": {
      "text/plain": [
       "62.0      1\n",
       "148.0     1\n",
       "152.0     1\n",
       "153.0     3\n",
       "154.0     3\n",
       "155.0     5\n",
       "156.0     5\n",
       "157.0     9\n",
       "158.0    15\n",
       "159.0     5\n",
       "160.0    28\n",
       "161.0    10\n",
       "162.0    20\n",
       "163.0    34\n",
       "164.0    23\n",
       "165.0    54\n",
       "166.0    18\n",
       "167.0    29\n",
       "168.0    62\n",
       "169.0    19\n",
       "170.0    86\n",
       "171.0    23\n",
       "172.0    38\n",
       "173.0    41\n",
       "174.0    19\n",
       "175.0    56\n",
       "176.0    22\n",
       "177.0    18\n",
       "178.0    43\n",
       "179.0    13\n",
       "180.0    55\n",
       "181.0     9\n",
       "182.0    22\n",
       "183.0    24\n",
       "184.0    19\n",
       "185.0    43\n",
       "186.0    16\n",
       "187.0    19\n",
       "188.0    13\n",
       "189.0    15\n",
       "190.0    17\n",
       "191.0     2\n",
       "192.0     9\n",
       "193.0     8\n",
       "194.0     4\n",
       "195.0     4\n",
       "197.0     2\n",
       "200.0     3\n",
       "203.0     2\n",
       "Name: Height, dtype: int64"
      ]
     },
     "execution_count": 22,
     "metadata": {
      "tags": []
     },
     "output_type": "execute_result"
    }
   ],
   "source": [
    "pd.value_counts(encuesta_corta['Height']).sort_index()"
   ]
  },
  {
   "cell_type": "code",
   "execution_count": null,
   "metadata": {
    "id": "0psevVrsUdj-",
    "outputId": "00830f71-ac3f-4c46-a1e1-783366820845"
   },
   "outputs": [
    {
     "data": {
      "text/plain": [
       "1.0     81\n",
       "2.0    137\n",
       "3.0    504\n",
       "4.0    239\n",
       "5.0     46\n",
       "Name: Healthy eating, dtype: int64"
      ]
     },
     "execution_count": 23,
     "metadata": {
      "tags": []
     },
     "output_type": "execute_result"
    }
   ],
   "source": [
    "#Vivo un estilo de vida muy saludable., \"Alimentación saludable\"\n",
    "pd.value_counts(encuesta_corta['Healthy eating']).sort_index()"
   ]
  },
  {
   "cell_type": "code",
   "execution_count": null,
   "metadata": {
    "id": "cgt630n4Udj_",
    "outputId": "1bdb58fc-8c13-486a-cfa0-250cc1faa509"
   },
   "outputs": [
    {
     "name": "stdout",
     "output_type": "stream",
     "text": [
      "Frecuencias Relativas\n"
     ]
    },
    {
     "data": {
      "text/plain": [
       "1.0     8.019802\n",
       "2.0    13.564356\n",
       "3.0    49.900990\n",
       "4.0    23.663366\n",
       "5.0     4.554455\n",
       "Name: Healthy eating, dtype: float64"
      ]
     },
     "execution_count": 24,
     "metadata": {
      "tags": []
     },
     "output_type": "execute_result"
    }
   ],
   "source": [
    "print (\n",
    "    \"Frecuencias Relativas\"\n",
    "         )\n",
    "100 * encuesta_corta[\"Healthy eating\"].value_counts().sort_index() / len(encuesta_corta[\"Healthy eating\"])"
   ]
  },
  {
   "cell_type": "markdown",
   "metadata": {
    "id": "Hxw-roZQUdj_"
   },
   "source": [
    "Tablas de frecuencia de las varaibles categóricas"
   ]
  },
  {
   "cell_type": "code",
   "execution_count": null,
   "metadata": {
    "id": "m0h-gWqWUdj_",
    "outputId": "e9d14cd8-6c14-4b3b-e6f9-776f5fefd8f7"
   },
   "outputs": [
    {
     "name": "stdout",
     "output_type": "stream",
     "text": [
      "Frecuencias Absolutas\n"
     ]
    },
    {
     "data": {
      "text/plain": [
       "female    593\n",
       "male      411\n",
       "Name: Gender, dtype: int64"
      ]
     },
     "execution_count": 15,
     "metadata": {
      "tags": []
     },
     "output_type": "execute_result"
    }
   ],
   "source": [
    "print (\n",
    "    \"Frecuencias Absolutas\")\n",
    "pd.value_counts(encuesta_corta['Gender'])"
   ]
  },
  {
   "cell_type": "code",
   "execution_count": null,
   "metadata": {
    "id": "jQkt4fNTUdj_",
    "outputId": "a365c1d4-ff8b-4a38-cd15-d9848add5fd0"
   },
   "outputs": [
    {
     "name": "stdout",
     "output_type": "stream",
     "text": [
      "Frecuencias Relativas\n"
     ]
    },
    {
     "data": {
      "text/plain": [
       "female    58.712871\n",
       "male      40.693069\n",
       "Name: Gender, dtype: float64"
      ]
     },
     "execution_count": 16,
     "metadata": {
      "tags": []
     },
     "output_type": "execute_result"
    }
   ],
   "source": [
    "print (\n",
    "    \"Frecuencias Relativas\"\n",
    "         )\n",
    "\n",
    "100 * encuesta_corta['Gender'].value_counts() / len(encuesta_corta['Gender'])"
   ]
  },
  {
   "cell_type": "code",
   "execution_count": null,
   "metadata": {
    "id": "-F3VFBSrUdkA",
    "outputId": "b8b0ed4f-655e-4634-e68b-94053b142ee8"
   },
   "outputs": [
    {
     "name": "stdout",
     "output_type": "stream",
     "text": [
      "Frecuencias Absolutas\n"
     ]
    },
    {
     "data": {
      "text/plain": [
       "social drinker    659\n",
       "drink a lot       222\n",
       "never             124\n",
       "Name: Alcohol, dtype: int64"
      ]
     },
     "execution_count": 17,
     "metadata": {
      "tags": []
     },
     "output_type": "execute_result"
    }
   ],
   "source": [
    "print (\n",
    "    \"Frecuencias Absolutas\")\n",
    "pd.value_counts(encuesta_corta['Alcohol'])"
   ]
  },
  {
   "cell_type": "code",
   "execution_count": null,
   "metadata": {
    "id": "j8QasCpyUdkA",
    "outputId": "2186afa0-9125-4f9f-f527-209f68cc7c5e"
   },
   "outputs": [
    {
     "name": "stdout",
     "output_type": "stream",
     "text": [
      "Frecuencias Relativas\n"
     ]
    },
    {
     "data": {
      "text/plain": [
       "social drinker    65.247525\n",
       "drink a lot       21.980198\n",
       "never             12.277228\n",
       "Name: Alcohol, dtype: float64"
      ]
     },
     "execution_count": 18,
     "metadata": {
      "tags": []
     },
     "output_type": "execute_result"
    }
   ],
   "source": [
    "print (\n",
    "    \"Frecuencias Relativas\"\n",
    "         )\n",
    "100 * encuesta_corta[\"Alcohol\"].value_counts() / len(encuesta_corta[\"Alcohol\"])              "
   ]
  },
  {
   "cell_type": "code",
   "execution_count": null,
   "metadata": {
    "id": "LMvx3maOUdkA",
    "outputId": "511ecabd-2e37-48ce-faf8-61a3cbdcc0da"
   },
   "outputs": [
    {
     "name": "stdout",
     "output_type": "stream",
     "text": [
      "Frecuencias Absolutas\n"
     ]
    },
    {
     "data": {
      "text/plain": [
       "tried smoking     430\n",
       "never smoked      208\n",
       "current smoker    189\n",
       "former smoker     175\n",
       "Name: Smoking, dtype: int64"
      ]
     },
     "execution_count": 19,
     "metadata": {
      "tags": []
     },
     "output_type": "execute_result"
    }
   ],
   "source": [
    "print (\n",
    "    \"Frecuencias Absolutas\")\n",
    "pd.value_counts(encuesta_corta['Smoking'])"
   ]
  },
  {
   "cell_type": "code",
   "execution_count": null,
   "metadata": {
    "id": "Uxj1CruwUdkA",
    "outputId": "6911877e-a3c6-4e14-91b0-9cccd373ef0a"
   },
   "outputs": [
    {
     "name": "stdout",
     "output_type": "stream",
     "text": [
      "Frecuencias Relativas\n"
     ]
    },
    {
     "data": {
      "text/plain": [
       "tried smoking     42.574257\n",
       "never smoked      20.594059\n",
       "current smoker    18.712871\n",
       "former smoker     17.326733\n",
       "Name: Smoking, dtype: float64"
      ]
     },
     "execution_count": 20,
     "metadata": {
      "tags": []
     },
     "output_type": "execute_result"
    }
   ],
   "source": [
    "print (\n",
    "    \"Frecuencias Relativas\"\n",
    "         )\n",
    "100 * encuesta_corta['Smoking'].value_counts() / len(encuesta_corta['Smoking'])  "
   ]
  },
  {
   "cell_type": "code",
   "execution_count": null,
   "metadata": {
    "id": "1CtZJxAIUdkB",
    "outputId": "baba80ad-9e46-4f1c-d88a-48a5754cc4a0"
   },
   "outputs": [
    {
     "data": {
      "image/png": "[encoded data removed]",
      "text/plain": [
       "<matplotlib.figure.Figure at 0x20046b22ba8>"
      ]
     },
     "metadata": {
      "tags": []
     },
     "output_type": "display_data"
    }
   ],
   "source": [
    "plot = encuesta_corta['Gender'].value_counts().plot(kind='pie', autopct='%.2f', \n",
    "                                            figsize=(5, 5),\n",
    "                                            title='Jóvenes encuestados por Género- %')"
   ]
  },
  {
   "cell_type": "code",
   "execution_count": null,
   "metadata": {
    "id": "B2mdeLVuUdkB",
    "outputId": "bcdb1596-434e-46f4-cabd-d95e37959e35"
   },
   "outputs": [
    {
     "data": {
      "image/png": "[encoded data removed]",
      "text/plain": [
       "<matplotlib.figure.Figure at 0x20046b542e8>"
      ]
     },
     "metadata": {
      "tags": []
     },
     "output_type": "display_data"
    }
   ],
   "source": [
    "plot = encuesta_corta['Alcohol'].value_counts().plot(kind='pie', autopct='%.2f', \n",
    "                                            figsize=(5, 5),\n",
    "                                            title='Comportamiento de los Jóvenes frente al Consumo de Alcohol (%)')"
   ]
  },
  {
   "cell_type": "code",
   "execution_count": null,
   "metadata": {
    "id": "XVsca7OTUdkB",
    "outputId": "0d2ce0eb-d274-43b9-d73f-57544fde28be"
   },
   "outputs": [
    {
     "data": {
      "image/png": "[encoded data removed]",
      "text/plain": [
       "<matplotlib.figure.Figure at 0x20046b89b38>"
      ]
     },
     "metadata": {
      "tags": []
     },
     "output_type": "display_data"
    }
   ],
   "source": [
    "plot = encuesta_corta['Smoking'].value_counts().plot(kind='bar',\n",
    "                                            title='Comportamiento de los Jovenes frente tabaco')"
   ]
  },
  {
   "cell_type": "markdown",
   "metadata": {
    "id": "wwHbbo3_UdkB"
   },
   "source": [
    "ANÁLISIS BIDIMENSIONAL"
   ]
  },
  {
   "cell_type": "markdown",
   "metadata": {
    "id": "DMZgWL3JUdkC"
   },
   "source": [
    "Variables numéricas según el Género"
   ]
  },
  {
   "cell_type": "code",
   "execution_count": null,
   "metadata": {
    "id": "8J3rWeziUdkC",
    "outputId": "c9b0b541-94c3-433d-d273-6d5c673d62a7"
   },
   "outputs": [
    {
     "data": {
      "text/plain": [
       "<matplotlib.axes._subplots.AxesSubplot at 0x20046a196d8>"
      ]
     },
     "execution_count": 24,
     "metadata": {
      "tags": []
     },
     "output_type": "execute_result"
    },
    {
     "data": {
      "image/png": "[encoded data removed]",
      "text/plain": [
       "<matplotlib.figure.Figure at 0x20046b04630>"
      ]
     },
     "metadata": {
      "tags": []
     },
     "output_type": "display_data"
    }
   ],
   "source": [
    "sns.boxplot(x=\"Age\", y=\"Gender\", data=encuesta_corta)"
   ]
  },
  {
   "cell_type": "code",
   "execution_count": null,
   "metadata": {
    "id": "VRZYCb41UdkC",
    "outputId": "74aa1b2c-8e33-4c5b-902e-f3c905986f73"
   },
   "outputs": [
    {
     "data": {
      "text/plain": [
       "<matplotlib.axes._subplots.AxesSubplot at 0x20046866ba8>"
      ]
     },
     "execution_count": 25,
     "metadata": {
      "tags": []
     },
     "output_type": "execute_result"
    },
    {
     "data": {
      "image/png": "[encoded data removed]",
      "text/plain": [
       "<matplotlib.figure.Figure at 0x20046814898>"
      ]
     },
     "metadata": {
      "tags": []
     },
     "output_type": "display_data"
    }
   ],
   "source": [
    "sns.boxplot(x=\"Weight\", y=\"Gender\", data=encuesta_corta)"
   ]
  },
  {
   "cell_type": "code",
   "execution_count": null,
   "metadata": {
    "id": "-c048f38UdkC",
    "outputId": "4e859062-b554-4173-cdb6-8ad6879725c3"
   },
   "outputs": [
    {
     "data": {
      "text/plain": [
       "<matplotlib.axes._subplots.AxesSubplot at 0x20046642470>"
      ]
     },
     "execution_count": 26,
     "metadata": {
      "tags": []
     },
     "output_type": "execute_result"
    },
    {
     "data": {
      "image/png": "[encoded data removed]",
      "text/plain": [
       "<matplotlib.figure.Figure at 0x2004693c5c0>"
      ]
     },
     "metadata": {
      "tags": []
     },
     "output_type": "display_data"
    }
   ],
   "source": [
    "sns.boxplot(x=\"Height\", y=\"Gender\", data=encuesta_corta)"
   ]
  },
  {
   "cell_type": "code",
   "execution_count": null,
   "metadata": {
    "id": "YcLkVfCDUdkC",
    "outputId": "5c59adea-970c-4265-ffa9-a749fa037151"
   },
   "outputs": [
    {
     "data": {
      "text/plain": [
       "<matplotlib.axes._subplots.AxesSubplot at 0x20046bc0ef0>"
      ]
     },
     "execution_count": 27,
     "metadata": {
      "tags": []
     },
     "output_type": "execute_result"
    },
    {
     "data": {
      "image/png": "[encoded data removed]",
      "text/plain": [
       "<matplotlib.figure.Figure at 0x20046bdf668>"
      ]
     },
     "metadata": {
      "tags": []
     },
     "output_type": "display_data"
    }
   ],
   "source": [
    "sns.boxplot(x=\"Age\", y=\"Smoking\", data=encuesta_corta)"
   ]
  },
  {
   "cell_type": "code",
   "execution_count": null,
   "metadata": {
    "id": "y1ZuRqXFUdkD",
    "outputId": "a357001c-d3c9-4ad0-9eb8-af14913ef8cb"
   },
   "outputs": [
    {
     "data": {
      "text/plain": [
       "<matplotlib.axes._subplots.AxesSubplot at 0x20046cc0eb8>"
      ]
     },
     "execution_count": 28,
     "metadata": {
      "tags": []
     },
     "output_type": "execute_result"
    },
    {
     "data": {
      "image/png": "[encoded data removed]",
      "text/plain": [
       "<matplotlib.figure.Figure at 0x20046ca6c88>"
      ]
     },
     "metadata": {
      "tags": []
     },
     "output_type": "display_data"
    }
   ],
   "source": [
    "sns.boxplot(x=\"Weight\", y=\"Smoking\", data=encuesta_corta)"
   ]
  },
  {
   "cell_type": "code",
   "execution_count": null,
   "metadata": {
    "id": "vTLM8ZqWUdkD",
    "outputId": "c2db40cb-0334-4d6f-90a4-bbdc4712f7f7"
   },
   "outputs": [
    {
     "data": {
      "text/plain": [
       "<matplotlib.axes._subplots.AxesSubplot at 0x20046cfc588>"
      ]
     },
     "execution_count": 29,
     "metadata": {
      "tags": []
     },
     "output_type": "execute_result"
    },
    {
     "data": {
      "image/png": "[encoded data removed]",
      "text/plain": [
       "<matplotlib.figure.Figure at 0x2004686d1d0>"
      ]
     },
     "metadata": {
      "tags": []
     },
     "output_type": "display_data"
    }
   ],
   "source": [
    "sns.boxplot(x=\"Height\", y=\"Smoking\", data=encuesta_corta)"
   ]
  },
  {
   "cell_type": "code",
   "execution_count": null,
   "metadata": {
    "id": "I5eTsVndUdkD",
    "outputId": "902c697b-00da-4b49-fd62-cf182a479ad8"
   },
   "outputs": [
    {
     "data": {
      "text/plain": [
       "<matplotlib.axes._subplots.AxesSubplot at 0x20046dea9b0>"
      ]
     },
     "execution_count": 30,
     "metadata": {
      "tags": []
     },
     "output_type": "execute_result"
    },
    {
     "data": {
      "image/png": "[encoded data removed]",
      "text/plain": [
       "<matplotlib.figure.Figure at 0x20046c73f98>"
      ]
     },
     "metadata": {
      "tags": []
     },
     "output_type": "display_data"
    }
   ],
   "source": [
    "sns.boxplot(x=\"Age\", y=\"Alcohol\", data=encuesta_corta)"
   ]
  },
  {
   "cell_type": "code",
   "execution_count": null,
   "metadata": {
    "id": "6JmOrdP6UdkE",
    "outputId": "1c131554-ca66-4490-f789-abb5b98e1686"
   },
   "outputs": [
    {
     "data": {
      "text/plain": [
       "<matplotlib.axes._subplots.AxesSubplot at 0x20046e66828>"
      ]
     },
     "execution_count": 31,
     "metadata": {
      "tags": []
     },
     "output_type": "execute_result"
    },
    {
     "data": {
      "image/png": "[encoded data removed]",
      "text/plain": [
       "<matplotlib.figure.Figure at 0x20046def5f8>"
      ]
     },
     "metadata": {
      "tags": []
     },
     "output_type": "display_data"
    }
   ],
   "source": [
    "sns.boxplot(x=\"Weight\", y=\"Alcohol\", data=encuesta_corta)"
   ]
  },
  {
   "cell_type": "code",
   "execution_count": null,
   "metadata": {
    "id": "6qIvYtN1UdkE",
    "outputId": "e08dc94c-25a3-4177-8425-4baf240bfe19"
   },
   "outputs": [
    {
     "data": {
      "text/plain": [
       "<matplotlib.axes._subplots.AxesSubplot at 0x20046ef9c18>"
      ]
     },
     "execution_count": 32,
     "metadata": {
      "tags": []
     },
     "output_type": "execute_result"
    },
    {
     "data": {
      "image/png": "[encoded data removed]",
      "text/plain": [
       "<matplotlib.figure.Figure at 0x20046e9d828>"
      ]
     },
     "metadata": {
      "tags": []
     },
     "output_type": "display_data"
    }
   ],
   "source": [
    "sns.boxplot(x=\"Height\", y=\"Alcohol\", data=encuesta_corta)"
   ]
  },
  {
   "cell_type": "code",
   "execution_count": null,
   "metadata": {
    "id": "w0Upy2D6UdkE",
    "outputId": "e9e85abb-75d9-4d9b-ee52-40a515daba63"
   },
   "outputs": [
    {
     "data": {
      "text/plain": [
       "<matplotlib.axes._subplots.AxesSubplot at 0x20046f33668>"
      ]
     },
     "execution_count": 33,
     "metadata": {
      "tags": []
     },
     "output_type": "execute_result"
    },
    {
     "data": {
      "image/png": "[encoded data removed]",
      "text/plain": [
       "<matplotlib.figure.Figure at 0x20046f18d30>"
      ]
     },
     "metadata": {
      "tags": []
     },
     "output_type": "display_data"
    }
   ],
   "source": [
    "sns.boxplot(x=\"Alcohol\", y=\"Healthy eating\", hue=\"Gender\", data=encuesta_corta)"
   ]
  },
  {
   "cell_type": "code",
   "execution_count": null,
   "metadata": {
    "id": "H5eRT8gmUdkE",
    "outputId": "9f1d44f0-2bf4-42f5-a488-02a2c024e8ae"
   },
   "outputs": [
    {
     "data": {
      "text/plain": [
       "<matplotlib.axes._subplots.AxesSubplot at 0x20046b567f0>"
      ]
     },
     "execution_count": 34,
     "metadata": {
      "tags": []
     },
     "output_type": "execute_result"
    },
    {
     "data": {
      "image/png": "[encoded data removed]",
      "text/plain": [
       "<matplotlib.figure.Figure at 0x20046b61a90>"
      ]
     },
     "metadata": {
      "tags": []
     },
     "output_type": "display_data"
    }
   ],
   "source": [
    "sns.boxplot(x=\"Smoking\", y=\"Healthy eating\", hue=\"Gender\", data=encuesta_corta)"
   ]
  },
  {
   "cell_type": "code",
   "execution_count": null,
   "metadata": {
    "id": "-JbXFNKQUdkF",
    "outputId": "5873ddc3-3cf9-45e9-bc27-c1c2708dbb2c"
   },
   "outputs": [
    {
     "data": {
      "text/plain": [
       "<matplotlib.axes._subplots.AxesSubplot at 0x20046fc5c18>"
      ]
     },
     "execution_count": 35,
     "metadata": {
      "tags": []
     },
     "output_type": "execute_result"
    },
    {
     "data": {
      "image/png": "[encoded data removed]",
      "text/plain": [
       "<matplotlib.figure.Figure at 0x20046e6ecc0>"
      ]
     },
     "metadata": {
      "tags": []
     },
     "output_type": "display_data"
    }
   ],
   "source": [
    "sns.boxplot(x=\"Smoking\", y=\"Healthy eating\", hue=\"Alcohol\", data=encuesta_corta)"
   ]
  },
  {
   "cell_type": "code",
   "execution_count": null,
   "metadata": {
    "id": "iSR5JhBNUdkF",
    "outputId": "4659b853-42f0-4768-b1f6-d47d82899d96"
   },
   "outputs": [
    {
     "data": {
      "text/plain": [
       "<seaborn.axisgrid.FacetGrid at 0x224113e10b8>"
      ]
     },
     "execution_count": 32,
     "metadata": {
      "tags": []
     },
     "output_type": "execute_result"
    },
    {
     "data": {
      "image/png": "[encoded data removed]",
      "text/plain": [
       "<matplotlib.figure.Figure at 0x224113b6ef0>"
      ]
     },
     "metadata": {
      "tags": []
     },
     "output_type": "display_data"
    }
   ],
   "source": [
    "sns.factorplot(x=\"Gender\",y=\"Healthy eating\", hue=\"Smoking\", data=encuesta_corta)"
   ]
  },
  {
   "cell_type": "code",
   "execution_count": null,
   "metadata": {
    "id": "ljTWXdhSUdkF",
    "outputId": "f1430cd3-b915-4bff-e839-35168329bb1c"
   },
   "outputs": [
    {
     "data": {
      "text/plain": [
       "<matplotlib.axes._subplots.AxesSubplot at 0x200481d9a58>"
      ]
     },
     "execution_count": 37,
     "metadata": {
      "tags": []
     },
     "output_type": "execute_result"
    },
    {
     "data": {
      "image/png": "[encoded data removed]",
      "text/plain": [
       "<matplotlib.figure.Figure at 0x200481d9080>"
      ]
     },
     "metadata": {
      "tags": []
     },
     "output_type": "display_data"
    }
   ],
   "source": [
    "sns.boxplot(x=\"Height\", y=\"Alcohol\", data=encuesta_corta)"
   ]
  },
  {
   "cell_type": "code",
   "execution_count": null,
   "metadata": {
    "id": "3TciYsE8UdkF",
    "outputId": "f4c05b2d-1b5c-4b6b-eca0-4b7c5aba3f32"
   },
   "outputs": [
    {
     "data": {
      "text/plain": [
       "<matplotlib.axes._subplots.AxesSubplot at 0x2004824e358>"
      ]
     },
     "execution_count": 38,
     "metadata": {
      "tags": []
     },
     "output_type": "execute_result"
    },
    {
     "data": {
      "image/png": "[encoded data removed]",
      "text/plain": [
       "<matplotlib.figure.Figure at 0x200471cada0>"
      ]
     },
     "metadata": {
      "tags": []
     },
     "output_type": "display_data"
    }
   ],
   "source": [
    "sns.boxplot(x=\"Healthy eating\", y=\"Gender\", data=encuesta_corta)"
   ]
  },
  {
   "cell_type": "code",
   "execution_count": null,
   "metadata": {
    "id": "9BhEQQwEUdkG",
    "outputId": "40470bc0-f5a2-42f3-d470-b2d477dcb8b6"
   },
   "outputs": [
    {
     "data": {
      "text/plain": [
       "<matplotlib.axes._subplots.AxesSubplot at 0x200471e2550>"
      ]
     },
     "execution_count": 39,
     "metadata": {
      "tags": []
     },
     "output_type": "execute_result"
    },
    {
     "data": {
      "image/png": "[encoded data removed]",
      "text/plain": [
       "<matplotlib.figure.Figure at 0x20048283550>"
      ]
     },
     "metadata": {
      "tags": []
     },
     "output_type": "display_data"
    }
   ],
   "source": [
    "sns.boxplot(x=\"Healthy eating\", y=\"Alcohol\", data=encuesta_corta)"
   ]
  },
  {
   "cell_type": "code",
   "execution_count": null,
   "metadata": {
    "id": "gQHwAldJUdkG",
    "outputId": "2515274e-9931-41d9-df42-15494bb351d0"
   },
   "outputs": [
    {
     "data": {
      "text/plain": [
       "<matplotlib.axes._subplots.AxesSubplot at 0x200483445c0>"
      ]
     },
     "execution_count": 40,
     "metadata": {
      "tags": []
     },
     "output_type": "execute_result"
    },
    {
     "data": {
      "image/png": "[encoded data removed]",
      "text/plain": [
       "<matplotlib.figure.Figure at 0x200482000b8>"
      ]
     },
     "metadata": {
      "tags": []
     },
     "output_type": "display_data"
    }
   ],
   "source": [
    "sns.boxplot(x=\"Healthy eating\", y=\"Smoking\", data=encuesta_corta)"
   ]
  },
  {
   "cell_type": "code",
   "execution_count": null,
   "metadata": {
    "id": "r7BtYyOfUdkG",
    "outputId": "846feff9-52a8-4773-8d81-3086fde6898c"
   },
   "outputs": [
    {
     "data": {
      "text/html": [
       "<div>\n",
       "<style scoped>\n",
       "    .dataframe tbody tr th:only-of-type {\n",
       "        vertical-align: middle;\n",
       "    }\n",
       "\n",
       "    .dataframe tbody tr th {\n",
       "        vertical-align: top;\n",
       "    }\n",
       "\n",
       "    .dataframe thead th {\n",
       "        text-align: right;\n",
       "    }\n",
       "</style>\n",
       "<table border=\"1\" class=\"dataframe\">\n",
       "  <thead>\n",
       "    <tr style=\"text-align: right;\">\n",
       "      <th>Smoking</th>\n",
       "      <th>current smoker</th>\n",
       "      <th>former smoker</th>\n",
       "      <th>never smoked</th>\n",
       "      <th>tried smoking</th>\n",
       "    </tr>\n",
       "    <tr>\n",
       "      <th>Alcohol</th>\n",
       "      <th></th>\n",
       "      <th></th>\n",
       "      <th></th>\n",
       "      <th></th>\n",
       "    </tr>\n",
       "  </thead>\n",
       "  <tbody>\n",
       "    <tr>\n",
       "      <th>drink a lot</th>\n",
       "      <td>78</td>\n",
       "      <td>55</td>\n",
       "      <td>15</td>\n",
       "      <td>72</td>\n",
       "    </tr>\n",
       "    <tr>\n",
       "      <th>never</th>\n",
       "      <td>11</td>\n",
       "      <td>11</td>\n",
       "      <td>61</td>\n",
       "      <td>39</td>\n",
       "    </tr>\n",
       "    <tr>\n",
       "      <th>social drinker</th>\n",
       "      <td>99</td>\n",
       "      <td>109</td>\n",
       "      <td>131</td>\n",
       "      <td>319</td>\n",
       "    </tr>\n",
       "  </tbody>\n",
       "</table>\n",
       "</div>"
      ],
      "text/plain": [
       "Smoking         current smoker  former smoker  never smoked  tried smoking\n",
       "Alcohol                                                                   \n",
       "drink a lot                 78             55            15             72\n",
       "never                       11             11            61             39\n",
       "social drinker              99            109           131            319"
      ]
     },
     "execution_count": 41,
     "metadata": {
      "tags": []
     },
     "output_type": "execute_result"
    }
   ],
   "source": [
    "#Estos son los valores observados\n",
    "\n",
    "crosstab_alc_fum = pd.crosstab(index=encuesta['Alcohol'], columns=encuesta['Smoking'], margins=False, normalize=False )\n",
    "crosstab_alc_fum"
   ]
  },
  {
   "cell_type": "code",
   "execution_count": null,
   "metadata": {
    "id": "EWUqvz3KUdkG"
   },
   "outputs": [],
   "source": [
    "crosstab_alc_fum_conmarg = pd.crosstab(index=encuesta['Alcohol'], columns=encuesta['Smoking'], margins=True, normalize=False )"
   ]
  },
  {
   "cell_type": "code",
   "execution_count": null,
   "metadata": {
    "id": "h2J2vZicUdkG",
    "outputId": "a8746694-e48a-44e6-ca24-11dfd512e257"
   },
   "outputs": [
    {
     "data": {
      "text/html": [
       "<div>\n",
       "<style scoped>\n",
       "    .dataframe tbody tr th:only-of-type {\n",
       "        vertical-align: middle;\n",
       "    }\n",
       "\n",
       "    .dataframe tbody tr th {\n",
       "        vertical-align: top;\n",
       "    }\n",
       "\n",
       "    .dataframe thead th {\n",
       "        text-align: right;\n",
       "    }\n",
       "</style>\n",
       "<table border=\"1\" class=\"dataframe\">\n",
       "  <thead>\n",
       "    <tr style=\"text-align: right;\">\n",
       "      <th>Smoking</th>\n",
       "      <th>current smoker</th>\n",
       "      <th>former smoker</th>\n",
       "      <th>never smoked</th>\n",
       "      <th>tried smoking</th>\n",
       "      <th>All</th>\n",
       "    </tr>\n",
       "    <tr>\n",
       "      <th>Alcohol</th>\n",
       "      <th></th>\n",
       "      <th></th>\n",
       "      <th></th>\n",
       "      <th></th>\n",
       "      <th></th>\n",
       "    </tr>\n",
       "  </thead>\n",
       "  <tbody>\n",
       "    <tr>\n",
       "      <th>drink a lot</th>\n",
       "      <td>78</td>\n",
       "      <td>55</td>\n",
       "      <td>15</td>\n",
       "      <td>72</td>\n",
       "      <td>220</td>\n",
       "    </tr>\n",
       "    <tr>\n",
       "      <th>never</th>\n",
       "      <td>11</td>\n",
       "      <td>11</td>\n",
       "      <td>61</td>\n",
       "      <td>39</td>\n",
       "      <td>122</td>\n",
       "    </tr>\n",
       "    <tr>\n",
       "      <th>social drinker</th>\n",
       "      <td>99</td>\n",
       "      <td>109</td>\n",
       "      <td>131</td>\n",
       "      <td>319</td>\n",
       "      <td>658</td>\n",
       "    </tr>\n",
       "    <tr>\n",
       "      <th>All</th>\n",
       "      <td>188</td>\n",
       "      <td>175</td>\n",
       "      <td>207</td>\n",
       "      <td>430</td>\n",
       "      <td>1000</td>\n",
       "    </tr>\n",
       "  </tbody>\n",
       "</table>\n",
       "</div>"
      ],
      "text/plain": [
       "Smoking         current smoker  former smoker  never smoked  tried smoking  \\\n",
       "Alcohol                                                                      \n",
       "drink a lot                 78             55            15             72   \n",
       "never                       11             11            61             39   \n",
       "social drinker              99            109           131            319   \n",
       "All                        188            175           207            430   \n",
       "\n",
       "Smoking          All  \n",
       "Alcohol               \n",
       "drink a lot      220  \n",
       "never            122  \n",
       "social drinker   658  \n",
       "All             1000  "
      ]
     },
     "execution_count": 12,
     "metadata": {
      "tags": []
     },
     "output_type": "execute_result"
    }
   ],
   "source": [
    "crosstab_alc_fum_conmarg"
   ]
  },
  {
   "cell_type": "code",
   "execution_count": null,
   "metadata": {
    "id": "vEZbBx1fUdkH"
   },
   "outputs": [],
   "source": [
    "observado=crosstab_alc_fum\n"
   ]
  },
  {
   "cell_type": "code",
   "execution_count": null,
   "metadata": {
    "id": "TqvJfVkRUdkH",
    "outputId": "d3710736-fe0e-4524-e8cb-bcf30a2943c7"
   },
   "outputs": [
    {
     "data": {
      "image/png": "[encoded data removed]",
      "text/plain": [
       "<matplotlib.figure.Figure at 0x252abb0a940>"
      ]
     },
     "metadata": {
      "tags": []
     },
     "output_type": "display_data"
    }
   ],
   "source": [
    "# Gráfico de barras de Alcohol según género# Gráfic \n",
    "plot = pd.crosstab(index=encuesta_corta['Alcohol'],\n",
    "            columns=encuesta_corta['Gender']).apply(lambda r: r/r.sum() *100,\n",
    "                                              axis=1).plot(kind='bar')"
   ]
  },
  {
   "cell_type": "code",
   "execution_count": null,
   "metadata": {
    "id": "dYMC5ZaeUdkH",
    "outputId": "18b2727f-7ae6-42c4-9cec-1174f53fb35c"
   },
   "outputs": [
    {
     "data": {
      "image/png": "[encoded data removed]",
      "text/plain": [
       "<matplotlib.figure.Figure at 0x252abb795f8>"
      ]
     },
     "metadata": {
      "tags": []
     },
     "output_type": "display_data"
    }
   ],
   "source": [
    "plot = pd.crosstab(index=encuesta_corta['Smoking'],\n",
    "            columns=encuesta_corta['Gender']\n",
    "                  ).apply(lambda r: r/r.sum() *100,\n",
    "                          axis=0).plot(kind='bar', stacked=True)"
   ]
  },
  {
   "cell_type": "code",
   "execution_count": null,
   "metadata": {
    "id": "5SvvEOk6UdkH",
    "outputId": "2eeb9301-64c3-4d4e-e482-9ec2b2e5fa54"
   },
   "outputs": [
    {
     "data": {
      "image/png": "[encoded data removed]",
      "text/plain": [
       "<matplotlib.figure.Figure at 0x252abb59438>"
      ]
     },
     "metadata": {
      "tags": []
     },
     "output_type": "display_data"
    }
   ],
   "source": [
    "plot = pd.crosstab(index=encuesta_corta['Gender'],\n",
    "            columns=encuesta_corta['Smoking']\n",
    "                  ).apply(lambda r: r/r.sum() *100,\n",
    "                          axis=0).plot(kind='bar', stacked=True)\n",
    "# Sólo conservar en la notebook - NO mostrar"
   ]
  },
  {
   "cell_type": "code",
   "execution_count": null,
   "metadata": {
    "id": "LkGR6ZTpUdkI",
    "outputId": "9e465706-f32d-4980-c502-296d57cc511a"
   },
   "outputs": [
    {
     "data": {
      "image/png": "[encoded data removed]",
      "text/plain": [
       "<matplotlib.figure.Figure at 0x252aaa17828>"
      ]
     },
     "metadata": {
      "tags": []
     },
     "output_type": "display_data"
    }
   ],
   "source": [
    "plot = pd.crosstab(index=encuesta_corta['Smoking'],\n",
    "            columns=encuesta_corta['Alcohol']\n",
    "                  ).apply(lambda r: r/r.sum() *100,\n",
    "                          axis=0).plot(kind='bar', stacked=True)"
   ]
  },
  {
   "cell_type": "code",
   "execution_count": null,
   "metadata": {
    "id": "ICTA7dpqUdkI",
    "outputId": "22c69b7d-d18e-4f68-fdf4-e9e7ae7aebdb"
   },
   "outputs": [
    {
     "data": {
      "image/png": "[encoded data removed]",
      "text/plain": [
       "<matplotlib.figure.Figure at 0x252a9e6bf60>"
      ]
     },
     "metadata": {
      "tags": []
     },
     "output_type": "display_data"
    }
   ],
   "source": [
    "plot = pd.crosstab(index=encuesta_corta['Alcohol'],\n",
    "            columns=encuesta_corta['Smoking']\n",
    "                  ).apply(lambda r: r/r.sum() *100,\n",
    "                          axis=0).plot(kind='bar', stacked=True)"
   ]
  },
  {
   "cell_type": "code",
   "execution_count": null,
   "metadata": {
    "id": "hJJjG2yKUdkI",
    "outputId": "8e9f9af3-ec18-41f0-a473-aab0a86c0fee"
   },
   "outputs": [
    {
     "data": {
      "image/png": "[encoded data removed]",
      "text/plain": [
       "<matplotlib.figure.Figure at 0x252aba79128>"
      ]
     },
     "metadata": {
      "tags": []
     },
     "output_type": "display_data"
    }
   ],
   "source": [
    "plot = pd.crosstab(index=encuesta_corta['Alcohol'],\n",
    "            columns=encuesta_corta['Smoking']).apply(lambda r: r/r.sum() *100,\n",
    "                                              axis=1).plot(kind='bar')"
   ]
  },
  {
   "cell_type": "code",
   "execution_count": null,
   "metadata": {
    "id": "Hkrn-kVyUdkI",
    "outputId": "67b5934b-9a21-453a-ad50-7f51dff26f53"
   },
   "outputs": [
    {
     "data": {
      "image/png": "[encoded data removed]",
      "text/plain": [
       "<matplotlib.figure.Figure at 0x252aa8a10f0>"
      ]
     },
     "metadata": {
      "tags": []
     },
     "output_type": "display_data"
    }
   ],
   "source": [
    "plot = pd.crosstab(index=encuesta_corta['Smoking'],\n",
    "            columns=encuesta_corta['Alcohol']).apply(lambda r: r/r.sum() *100,\n",
    "                                              axis=1).plot(kind='bar')"
   ]
  },
  {
   "cell_type": "code",
   "execution_count": null,
   "metadata": {
    "id": "kAuB_z9xUdkI"
   },
   "outputs": [],
   "source": [
    "Análisis de correlación de variables numéricas"
   ]
  },
  {
   "cell_type": "code",
   "execution_count": null,
   "metadata": {
    "id": "uj5HVlDPUdkJ",
    "outputId": "ae66e0d0-6332-49d6-defc-b1eb8cfc58bf"
   },
   "outputs": [
    {
     "data": {
      "image/png": "[encoded data removed]",
      "text/plain": [
       "<matplotlib.figure.Figure at 0x22411461be0>"
      ]
     },
     "metadata": {
      "tags": []
     },
     "output_type": "display_data"
    }
   ],
   "source": [
    "encuesta_corta.plot(kind='scatter', x='Age', y='Weight', title = 'Diagrama de dispersión')\n",
    "plt.show()"
   ]
  },
  {
   "cell_type": "code",
   "execution_count": null,
   "metadata": {
    "id": "1e4anrOtUdkJ",
    "outputId": "f88b0b9b-c491-4617-c760-1fc03c6f29e0"
   },
   "outputs": [
    {
     "data": {
      "image/png": "[encoded data removed]",
      "text/plain": [
       "<matplotlib.figure.Figure at 0x22411586198>"
      ]
     },
     "metadata": {
      "tags": []
     },
     "output_type": "display_data"
    }
   ],
   "source": [
    "encuesta_corta_n.plot(kind='scatter', x='Age', y='Height', title = 'Diagrama de dispersión')\n",
    "plt.show()"
   ]
  },
  {
   "cell_type": "code",
   "execution_count": null,
   "metadata": {
    "id": "lcyPjteoUdkJ",
    "outputId": "373a3996-c35c-4ddc-dcd1-d5f33958d594"
   },
   "outputs": [
    {
     "data": {
      "image/png": "[encoded data removed]",
      "text/plain": [
       "<matplotlib.figure.Figure at 0x224115ca3c8>"
      ]
     },
     "metadata": {
      "tags": []
     },
     "output_type": "display_data"
    }
   ],
   "source": [
    "encuesta_corta.plot(kind='scatter', x='Weight', y='Height', title = 'Diagrama de dispersión')\n",
    "plt.show()\n",
    "#con el valor atípico de altura. Notar cómo se distorsiona el gráfico"
   ]
  },
  {
   "cell_type": "code",
   "execution_count": null,
   "metadata": {
    "id": "UCUrRrXyUdkJ",
    "outputId": "dae75126-5274-4d66-d8b6-b8a8de6cfcaa"
   },
   "outputs": [
    {
     "data": {
      "image/png": "[encoded data removed]",
      "text/plain": [
       "<matplotlib.figure.Figure at 0x2241161dd30>"
      ]
     },
     "metadata": {
      "tags": []
     },
     "output_type": "display_data"
    }
   ],
   "source": [
    "encuesta_corta_n.plot(kind='scatter', x='Weight', y='Height', title = 'Diagrama de dispersión')\n",
    "plt.show()"
   ]
  },
  {
   "cell_type": "code",
   "execution_count": null,
   "metadata": {
    "id": "YiVHLJT-UdkK",
    "outputId": "a0d91034-f7bf-4700-b100-f749eb3fdaca"
   },
   "outputs": [
    {
     "data": {
      "image/png": "[encoded data removed]",
      "text/plain": [
       "<matplotlib.figure.Figure at 0x22412602198>"
      ]
     },
     "metadata": {
      "tags": []
     },
     "output_type": "display_data"
    }
   ],
   "source": [
    "g = sns.lmplot(x=\"Weight\", y=\"Height\", hue=\"Gender\",\n",
    "               truncate=True, size=5, data=encuesta_corta_n)"
   ]
  },
  {
   "cell_type": "code",
   "execution_count": null,
   "metadata": {
    "id": "W5hHQ0JiUdkK",
    "outputId": "bbeb25e7-511d-45ff-b197-1d3b0f649b5a"
   },
   "outputs": [
    {
     "name": "stdout",
     "output_type": "stream",
     "text": [
      " \n",
      "Matriz de coeficientes de Correlación\n",
      "      \n"
     ]
    },
    {
     "data": {
      "text/html": [
       "<div>\n",
       "<style scoped>\n",
       "    .dataframe tbody tr th:only-of-type {\n",
       "        vertical-align: middle;\n",
       "    }\n",
       "\n",
       "    .dataframe tbody tr th {\n",
       "        vertical-align: top;\n",
       "    }\n",
       "\n",
       "    .dataframe thead th {\n",
       "        text-align: right;\n",
       "    }\n",
       "</style>\n",
       "<table border=\"1\" class=\"dataframe\">\n",
       "  <thead>\n",
       "    <tr style=\"text-align: right;\">\n",
       "      <th></th>\n",
       "      <th>Age</th>\n",
       "      <th>Weight</th>\n",
       "      <th>Height</th>\n",
       "    </tr>\n",
       "  </thead>\n",
       "  <tbody>\n",
       "    <tr>\n",
       "      <th>Age</th>\n",
       "      <td>1.000000</td>\n",
       "      <td>0.237722</td>\n",
       "      <td>0.120936</td>\n",
       "    </tr>\n",
       "    <tr>\n",
       "      <th>Weight</th>\n",
       "      <td>0.237722</td>\n",
       "      <td>1.000000</td>\n",
       "      <td>0.736421</td>\n",
       "    </tr>\n",
       "    <tr>\n",
       "      <th>Height</th>\n",
       "      <td>0.120936</td>\n",
       "      <td>0.736421</td>\n",
       "      <td>1.000000</td>\n",
       "    </tr>\n",
       "  </tbody>\n",
       "</table>\n",
       "</div>"
      ],
      "text/plain": [
       "             Age    Weight    Height\n",
       "Age     1.000000  0.237722  0.120936\n",
       "Weight  0.237722  1.000000  0.736421\n",
       "Height  0.120936  0.736421  1.000000"
      ]
     },
     "execution_count": 39,
     "metadata": {
      "tags": []
     },
     "output_type": "execute_result"
    }
   ],
   "source": [
    "corr_edad_peso = encuesta_corta_n[['Age','Weight','Height']]\n",
    "print(\"\"\" \n",
    "Matriz de coeficientes de Correlación\n",
    "      \"\"\" )\n",
    "corr_edad_peso.corr()"
   ]
  },
  {
   "cell_type": "code",
   "execution_count": null,
   "metadata": {
    "id": "7jA1EG9LUdkK"
   },
   "outputs": [],
   "source": [
    "#Para calcular los valores esperados y luego aplicar la formula de chi cuadrado"
   ]
  },
  {
   "cell_type": "markdown",
   "metadata": {
    "id": "d-9ZnrleUdkL"
   },
   "source": [
    "Para obtener el conteo esperado para una celda, multiplique el total de la fila para esa celda por el total de la columna para esa celda y luego divida por el número total de observaciones."
   ]
  },
  {
   "cell_type": "markdown",
   "metadata": {
    "id": "YbZdj42-UdkL"
   },
   "source": [
    "O bien aplicar lo siguiente: Podemos obtener rápidamente los recuentos esperados para todas las celdas de la tabla tomando los totales de las filas y los totales de las columnas de la tabla,  realizando un  producto externo  con la función np.outer () y dividiendo por el número de observaciones:"
   ]
  },
  {
   "cell_type": "code",
   "execution_count": null,
   "metadata": {
    "id": "4H0qlJDPUdkL",
    "outputId": "05685e72-5a97-4064-d746-4b4ca954c7da"
   },
   "outputs": [
    {
     "data": {
      "text/html": [
       "<div>\n",
       "<style scoped>\n",
       "    .dataframe tbody tr th:only-of-type {\n",
       "        vertical-align: middle;\n",
       "    }\n",
       "\n",
       "    .dataframe tbody tr th {\n",
       "        vertical-align: top;\n",
       "    }\n",
       "\n",
       "    .dataframe thead th {\n",
       "        text-align: right;\n",
       "    }\n",
       "</style>\n",
       "<table border=\"1\" class=\"dataframe\">\n",
       "  <thead>\n",
       "    <tr style=\"text-align: right;\">\n",
       "      <th></th>\n",
       "      <th>current smoker</th>\n",
       "      <th>former smoker</th>\n",
       "      <th>never smoked</th>\n",
       "      <th>tried smoking</th>\n",
       "    </tr>\n",
       "  </thead>\n",
       "  <tbody>\n",
       "    <tr>\n",
       "      <th>drink a lot</th>\n",
       "      <td>41.360</td>\n",
       "      <td>38.50</td>\n",
       "      <td>45.540</td>\n",
       "      <td>94.60</td>\n",
       "    </tr>\n",
       "    <tr>\n",
       "      <th>never</th>\n",
       "      <td>22.936</td>\n",
       "      <td>21.35</td>\n",
       "      <td>25.254</td>\n",
       "      <td>52.46</td>\n",
       "    </tr>\n",
       "    <tr>\n",
       "      <th>social drinker</th>\n",
       "      <td>123.704</td>\n",
       "      <td>115.15</td>\n",
       "      <td>136.206</td>\n",
       "      <td>282.94</td>\n",
       "    </tr>\n",
       "  </tbody>\n",
       "</table>\n",
       "</div>"
      ],
      "text/plain": [
       "                current smoker  former smoker  never smoked  tried smoking\n",
       "drink a lot             41.360          38.50        45.540          94.60\n",
       "never                   22.936          21.35        25.254          52.46\n",
       "social drinker         123.704         115.15       136.206         282.94"
      ]
     },
     "execution_count": 9,
     "metadata": {
      "tags": []
     },
     "output_type": "execute_result"
    }
   ],
   "source": [
    "esperado = np.outer(crosstab_alc_fum_conmarg [ \"All\" ] [ 0 : 3 ], \n",
    "                     crosstab_alc_fum_conmarg.loc [ \"All\" ] [ 0 : 4 ])  /  1000\n",
    "\n",
    "esperado  =  pd . DataFrame ( esperado )\n",
    "esperado.columns =[ \"current smoker\" , \"former smoker\" , \"never smoked\" ,\"tried smoking\" ] \n",
    "esperado . index  =  [\"drink a lot\" , \"never\" , \"social drinker\"]\n",
    "\n",
    "esperado\n"
   ]
  },
  {
   "cell_type": "code",
   "execution_count": null,
   "metadata": {
    "id": "_p1WJ3EnUdkL",
    "outputId": "ade58829-677c-4415-dbea-a9a46dd2030b"
   },
   "outputs": [
    {
     "data": {
      "text/plain": [
       "Smoking\n",
       "current smoker    43.603646\n",
       "former smoker     12.417339\n",
       "never smoked      71.276688\n",
       "tried smoking     13.448431\n",
       "dtype: float64"
      ]
     },
     "execution_count": 10,
     "metadata": {
      "tags": []
     },
     "output_type": "execute_result"
    }
   ],
   "source": [
    "chi_squared_stat = (((observado-esperado)**2)/esperado).sum()\n",
    "chi_squared_stat"
   ]
  },
  {
   "cell_type": "code",
   "execution_count": null,
   "metadata": {
    "id": "ElXEjprxUdkL",
    "outputId": "35d26f3d-b2af-4583-ce8f-4129d4383e80"
   },
   "outputs": [
    {
     "data": {
      "text/plain": [
       "Power_divergenceResult(statistic=array([43.60364634, 12.41733875, 71.27668785, 13.44843061]), pvalue=array([3.40085803e-10, 2.01191278e-03, 3.33015071e-16, 1.20146299e-03]))"
      ]
     },
     "execution_count": 19,
     "metadata": {
      "tags": []
     },
     "output_type": "execute_result"
    }
   ],
   "source": [
    "import scipy.stats as ss\n",
    "chi_cuadrado=ss.chisquare(observado,esperado)\n",
    "chi_cuadrado"
   ]
  },
  {
   "cell_type": "code",
   "execution_count": null,
   "metadata": {
    "id": "Sr4kvIP7UdkM"
   },
   "outputs": [],
   "source": [
    "dof = observado.size - sum(observado.shape) + observado.ndim - 1\n",
    "#scipy.stats.chi2_contingency(observado\n",
    "                        "
   ]
  },
  {
   "cell_type": "code",
   "execution_count": null,
   "metadata": {
    "id": "mJIw0dnfUdkN",
    "outputId": "98fd0a24-9a28-472f-fe00-41b81c4c52dd"
   },
   "outputs": [
    {
     "name": "stdout",
     "output_type": "stream",
     "text": [
      "Critical value\n",
      "140.7461035508088\n",
      "p valor\n",
      "6.974221284156533e-28\n",
      "Grados de Libertad\n",
      "6\n"
     ]
    }
   ],
   "source": [
    "dof\n",
    "chi2, p, dof, ex = ss.chi2_contingency(observado, correction=False)\n",
    "\n",
    "print(\"Critical value\")\n",
    "print(chi2)\n",
    "\n",
    "print(\"p valor\")\n",
    "print(p)\n",
    "\n",
    "print (\"Grados de Libertad\")\n",
    "print (dof)\n",
    " "
   ]
  }
 ],
 "metadata": {
  "colab": {
   "name": "LabII-checkpoint.ipynb",
   "provenance": []
  },
  "kernelspec": {
   "display_name": "Python 3",
   "language": "python",
   "name": "python3"
  },
  "language_info": {
   "codemirror_mode": {
    "name": "ipython",
    "version": 3
   },
   "file_extension": ".py",
   "mimetype": "text/x-python",
   "name": "python",
   "nbconvert_exporter": "python",
   "pygments_lexer": "ipython3",
   "version": "3.7.3"
  }
 },
 "nbformat": 4,
 "nbformat_minor": 1
}
