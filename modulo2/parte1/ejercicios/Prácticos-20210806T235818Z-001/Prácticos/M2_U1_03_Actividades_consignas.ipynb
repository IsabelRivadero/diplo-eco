{
 "cells": [
  {
   "cell_type": "markdown",
   "metadata": {
    "id": "XqTPL_FiEoUO"
   },
   "source": [
    "![img](https://drive.google.com/uc?export=view&id=1kgX98Ziw9LzgBCT2BxChttfrTcBltLej)"
   ]
  },
  {
   "cell_type": "markdown",
   "metadata": {
    "id": "MHH3evxvx6sh"
   },
   "source": [
    "# PRÁCTICO 9"
   ]
  },
  {
   "cell_type": "code",
   "execution_count": 1,
   "metadata": {
    "id": "oYl4HniuzugP"
   },
   "outputs": [],
   "source": [
    "import pandas as pd\n",
    "import numpy as np\n",
    "import matplotlib.pyplot as plt\n",
    "import seaborn as sbn"
   ]
  },
  {
   "cell_type": "markdown",
   "metadata": {
    "id": "TWRZbD7eyC7e"
   },
   "source": [
    "Crear un data frame con el nombre abrev_prov a partir del archivo .csv disponible en \n",
    "https://drive.google.com/file/d/153_-kXz33qQCa4OXJ_PPxWCEHuNVQVSF/view?usp=sharing\n"
   ]
  },
  {
   "cell_type": "code",
   "execution_count": null,
   "metadata": {
    "id": "tbXgPo2XBzMv"
   },
   "outputs": [],
   "source": []
  },
  {
   "cell_type": "markdown",
   "metadata": {
    "id": "5T1rMsL-0IR4"
   },
   "source": [
    "Definir el row_labels igual a la abreviatura de la provincia segun [IATA](https://www.iata.org/)\n",
    "\n",
    "\n"
   ]
  },
  {
   "cell_type": "code",
   "execution_count": null,
   "metadata": {
    "id": "UVKytkKRB0ve"
   },
   "outputs": [],
   "source": []
  },
  {
   "cell_type": "markdown",
   "metadata": {
    "id": "lZ-JgT7xwsVv"
   },
   "source": [
    "Leer nuevamente el arlchivo csv indicando que el index se la columna que continen las abreviaturas de las provincias IATA "
   ]
  },
  {
   "cell_type": "code",
   "execution_count": null,
   "metadata": {
    "id": "RPRgdnSxB1vt"
   },
   "outputs": [],
   "source": []
  },
  {
   "cell_type": "markdown",
   "metadata": {
    "id": "GpNLOPST0jtp"
   },
   "source": [
    "\"Descargar\" el archivo con extensión .csv"
   ]
  },
  {
   "cell_type": "code",
   "execution_count": null,
   "metadata": {
    "id": "OZpPvoQAB3pO"
   },
   "outputs": [],
   "source": []
  },
  {
   "cell_type": "code",
   "execution_count": null,
   "metadata": {
    "colab": {
     "base_uri": "https://localhost:8080/"
    },
    "id": "mbXIoZXZ7NZK",
    "outputId": "80bc10ca-32b7-4608-dcb3-17487b744fab"
   },
   "outputs": [
    {
     "name": "stdout",
     "output_type": "stream",
     "text": [
      "Mounted at /content/drive\n"
     ]
    }
   ],
   "source": [
    "from google.colab import drive\n",
    "drive.mount('/content/drive')"
   ]
  },
  {
   "cell_type": "markdown",
   "metadata": {
    "id": "UDUKZm_r151z"
   },
   "source": [
    "\"Guardar en Drive\" el archivo con extensión .csv"
   ]
  },
  {
   "cell_type": "code",
   "execution_count": null,
   "metadata": {
    "id": "eNcHye4eCRte"
   },
   "outputs": [],
   "source": []
  },
  {
   "cell_type": "markdown",
   "metadata": {
    "id": "sD55XMFa8r5Y"
   },
   "source": [
    "# PRÁCTICO 10"
   ]
  },
  {
   "cell_type": "markdown",
   "metadata": {
    "id": "EYIIhYow1eCQ"
   },
   "source": [
    "Crear un gráfico de dispersión para represetar el comportamiento conjunto de las variables Pob_proy_2020  (eje x)\n",
    "Sup_km2        (eje y) "
   ]
  },
  {
   "cell_type": "code",
   "execution_count": null,
   "metadata": {
    "id": "fSQ2Fzv7CUE2"
   },
   "outputs": [],
   "source": []
  },
  {
   "cell_type": "markdown",
   "metadata": {
    "id": "BQsWRApL2eMC"
   },
   "source": [
    "Crear un gráfico de barras de cada provincia en el ejex y la población representada por al altura de las barras."
   ]
  },
  {
   "cell_type": "code",
   "execution_count": null,
   "metadata": {
    "id": "1C40cGh-CXm3"
   },
   "outputs": [],
   "source": []
  },
  {
   "cell_type": "markdown",
   "metadata": {
    "id": "y14oli-W3XOK"
   },
   "source": [
    "Crear un bar plot con nom_provincias en el eje x y población en millones en el eje y"
   ]
  },
  {
   "cell_type": "code",
   "execution_count": null,
   "metadata": {
    "id": "aTosYG2nCZFw"
   },
   "outputs": [],
   "source": []
  },
  {
   "cell_type": "markdown",
   "metadata": {
    "id": "BR77OEIoC0Db"
   },
   "source": [
    "# PRÁCTICO 11"
   ]
  },
  {
   "cell_type": "markdown",
   "metadata": {
    "id": "viqGCKVuC8t4"
   },
   "source": [
    "Crear un gráfico de barras con nombre de provincias en el eje x y superficie  de provincias en el eje y"
   ]
  },
  {
   "cell_type": "code",
   "execution_count": null,
   "metadata": {
    "id": "F-YvA8phCe_d"
   },
   "outputs": [],
   "source": []
  },
  {
   "cell_type": "markdown",
   "metadata": {
    "id": "1DOB9UHj5ogq"
   },
   "source": [
    "Agregar etiquetas/nombres a los ejes: Provincia y Superficie (Km2)\n",
    "\n",
    "Agregarle el título al gráfico: \"Superficie de las Provincias Argentinas\"\n",
    "\n",
    "Rotar las xticks para mejorar la visualización"
   ]
  },
  {
   "cell_type": "code",
   "execution_count": null,
   "metadata": {
    "id": "70KiMU-pCg8d"
   },
   "outputs": [],
   "source": []
  },
  {
   "cell_type": "markdown",
   "metadata": {
    "id": "RbJuXW7OaMxd"
   },
   "source": [
    "# PRÁCTICO 12"
   ]
  },
  {
   "cell_type": "markdown",
   "metadata": {
    "id": "zfI3uso0HMpX"
   },
   "source": [
    "Realizar un gráfico de barras con las siguientes características\n",
    "\n",
    "Eje x: Nombre Provincia (corregir Tierra del Fuego)\n",
    "\n",
    "Eje y: Densidad Poblacional (pob_provncias / sup_provincias)\n",
    "\n",
    "Label x: Sin Label X\n",
    "\n",
    "Label y: Densidad Poblacional (Hab/Km2)\n",
    "\n",
    "Title: Densidad Poblacional de las Provincias Argentinas"
   ]
  },
  {
   "cell_type": "markdown",
   "metadata": {
    "id": "wxJXqh_baWGD"
   },
   "source": [
    "Crear un gráfico de barras"
   ]
  },
  {
   "cell_type": "code",
   "execution_count": null,
   "metadata": {
    "id": "THNhmjEWDBJe"
   },
   "outputs": [],
   "source": []
  }
 ],
 "metadata": {
  "colab": {
   "collapsed_sections": [
    "MHH3evxvx6sh",
    "sD55XMFa8r5Y",
    "BR77OEIoC0Db",
    "RbJuXW7OaMxd"
   ],
   "name": "M2.U1_03 Actividades. consignas.ipynb",
   "provenance": []
  },
  "kernelspec": {
   "display_name": "Python 3",
   "language": "python",
   "name": "python3"
  },
  "language_info": {
   "codemirror_mode": {
    "name": "ipython",
    "version": 3
   },
   "file_extension": ".py",
   "mimetype": "text/x-python",
   "name": "python",
   "nbconvert_exporter": "python",
   "pygments_lexer": "ipython3",
   "version": "3.7.3"
  }
 },
 "nbformat": 4,
 "nbformat_minor": 1
}
