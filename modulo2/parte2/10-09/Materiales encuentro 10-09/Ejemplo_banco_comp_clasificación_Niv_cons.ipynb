{
 "cells": [
  {
   "cell_type": "markdown",
   "metadata": {
    "id": "IGQqZ8VrL51s"
   },
   "source": [
    "\n",
    "\n",
    "    \n",
    "<center>\n",
    "<img src=\"\" />\n",
    "        \n",
    "# Diplo Cs Datos 2021\n",
    "\n",
    "**Ejemplo Bancos**\n",
    "Variable respuesta categorías de consumo\n"
   ]
  },
  {
   "cell_type": "code",
   "execution_count": 1,
   "metadata": {
    "executionInfo": {
     "elapsed": 401,
     "status": "ok",
     "timestamp": 1631299790167,
     "user": {
      "displayName": "MARIA INES STIMOLO",
      "photoUrl": "https://lh3.googleusercontent.com/a-/AOh14GiiSi_WlVy1nGXfjnRzL2LpjvRn_JZOB4OpoMFb=s64",
      "userId": "01469115874005837220"
     },
     "user_tz": 180
    },
    "id": "_Fdk2oqfCb9H"
   },
   "outputs": [],
   "source": [
    "# Tratamiento de datos\n",
    "# ==============================================================================\n",
    "import numpy as np\n",
    "import pandas as pd\n",
    "import os\n",
    "import numpy as np\n",
    "\n",
    "\n",
    "# Gráficos\n",
    "# ==============================================================================\n",
    "\n",
    "import matplotlib.pyplot as plt\n",
    "import matplotlib.font_manager\n",
    "from matplotlib import style\n",
    "style.use('ggplot') or plt.style.use('ggplot')\n",
    "import seaborn as sns\n",
    "\n",
    "\n",
    "\n",
    "# Configuración warnings\n",
    "# ==============================================================================\n",
    "import warnings\n",
    "warnings.filterwarnings('ignore')\n"
   ]
  },
  {
   "cell_type": "markdown",
   "metadata": {
    "id": "a6P2R6tBWrN-"
   },
   "source": [
    "**Base de clientes de un banco**\n",
    "\n",
    "TV: si tiene tarjeta visa\n",
    "\n",
    "TC: si tiene tarjeta del banco\n",
    "\n",
    "saldo res : saldo del ultimo resumen \n",
    "\n",
    "antc: antigüedad en la cuenta \n",
    "\n",
    "cons:\tultimos  consumos mensuales \n",
    "\n",
    "antig_pp:\tantigüedad en prestamos personales \n",
    "\n",
    "endeu:\ttasa de endeudamiento\n",
    "\n",
    "conscateg:\tconsumo en cateogiras (4)\n",
    "\n",
    "ESTADO_CIVIL:\t1-soltero, 2 casado/conviviente , 3 divorciado/viudo\n",
    "\n",
    "SEXO:\t1 varon, 2 mujer\n",
    "\n",
    "riesgo: Bajo, Alto\n"
   ]
  },
  {
   "cell_type": "code",
   "execution_count": 2,
   "metadata": {
    "colab": {
     "base_uri": "https://localhost:8080/",
     "height": 674
    },
    "executionInfo": {
     "elapsed": 1171,
     "status": "ok",
     "timestamp": 1631299791889,
     "user": {
      "displayName": "MARIA INES STIMOLO",
      "photoUrl": "https://lh3.googleusercontent.com/a-/AOh14GiiSi_WlVy1nGXfjnRzL2LpjvRn_JZOB4OpoMFb=s64",
      "userId": "01469115874005837220"
     },
     "user_tz": 180
    },
    "id": "YRPvTkg5ue2T",
    "outputId": "fa7318a4-bfaa-4078-e699-ed6bf840adac"
   },
   "outputs": [
    {
     "name": "stdout",
     "output_type": "stream",
     "text": [
      "<class 'pandas.core.frame.DataFrame'>\n",
      "RangeIndex: 2488 entries, 0 to 2487\n",
      "Data columns (total 14 columns):\n",
      " #   Column        Non-Null Count  Dtype  \n",
      "---  ------        --------------  -----  \n",
      " 0   id            2488 non-null   int64  \n",
      " 1   TV            2488 non-null   int64  \n",
      " 2   antc          2488 non-null   int64  \n",
      " 3   saldores      2488 non-null   float64\n",
      " 4   TC            2488 non-null   int64  \n",
      " 5   cons          2488 non-null   float64\n",
      " 6   edad          2488 non-null   int64  \n",
      " 7   ESTADO_CIVIL  2488 non-null   int64  \n",
      " 8   SEXO          2488 non-null   int64  \n",
      " 9   antig_pp      2488 non-null   int64  \n",
      " 10  ingresos      2488 non-null   float64\n",
      " 11  endeud        2488 non-null   float64\n",
      " 12  riesgo        2488 non-null   object \n",
      " 13  conscateg     2488 non-null   int64  \n",
      "dtypes: float64(4), int64(9), object(1)\n",
      "memory usage: 272.2+ KB\n"
     ]
    },
    {
     "data": {
      "text/html": [
       "<div>\n",
       "<style scoped>\n",
       "    .dataframe tbody tr th:only-of-type {\n",
       "        vertical-align: middle;\n",
       "    }\n",
       "\n",
       "    .dataframe tbody tr th {\n",
       "        vertical-align: top;\n",
       "    }\n",
       "\n",
       "    .dataframe thead th {\n",
       "        text-align: right;\n",
       "    }\n",
       "</style>\n",
       "<table border=\"1\" class=\"dataframe\">\n",
       "  <thead>\n",
       "    <tr style=\"text-align: right;\">\n",
       "      <th></th>\n",
       "      <th>id</th>\n",
       "      <th>TV</th>\n",
       "      <th>antc</th>\n",
       "      <th>saldores</th>\n",
       "      <th>TC</th>\n",
       "      <th>cons</th>\n",
       "      <th>edad</th>\n",
       "      <th>ESTADO_CIVIL</th>\n",
       "      <th>SEXO</th>\n",
       "      <th>antig_pp</th>\n",
       "      <th>ingresos</th>\n",
       "      <th>endeud</th>\n",
       "      <th>conscateg</th>\n",
       "    </tr>\n",
       "  </thead>\n",
       "  <tbody>\n",
       "    <tr>\n",
       "      <th>count</th>\n",
       "      <td>2488.000000</td>\n",
       "      <td>2488.000000</td>\n",
       "      <td>2488.000000</td>\n",
       "      <td>2488.000000</td>\n",
       "      <td>2488.0</td>\n",
       "      <td>2488.000000</td>\n",
       "      <td>2488.000000</td>\n",
       "      <td>2488.00000</td>\n",
       "      <td>2488.000000</td>\n",
       "      <td>2488.000000</td>\n",
       "      <td>2488.000000</td>\n",
       "      <td>2488.000000</td>\n",
       "      <td>2488.000000</td>\n",
       "    </tr>\n",
       "    <tr>\n",
       "      <th>mean</th>\n",
       "      <td>6654.606511</td>\n",
       "      <td>0.389871</td>\n",
       "      <td>67.761656</td>\n",
       "      <td>13530.722630</td>\n",
       "      <td>1.0</td>\n",
       "      <td>64385.664772</td>\n",
       "      <td>43.063505</td>\n",
       "      <td>1.41881</td>\n",
       "      <td>1.516881</td>\n",
       "      <td>18.528939</td>\n",
       "      <td>36077.647727</td>\n",
       "      <td>211.907609</td>\n",
       "      <td>2.475884</td>\n",
       "    </tr>\n",
       "    <tr>\n",
       "      <th>std</th>\n",
       "      <td>4506.300139</td>\n",
       "      <td>0.487819</td>\n",
       "      <td>36.618056</td>\n",
       "      <td>14308.202528</td>\n",
       "      <td>0.0</td>\n",
       "      <td>58084.038010</td>\n",
       "      <td>9.611052</td>\n",
       "      <td>0.63271</td>\n",
       "      <td>0.499815</td>\n",
       "      <td>10.818269</td>\n",
       "      <td>21657.464009</td>\n",
       "      <td>1338.695648</td>\n",
       "      <td>1.055469</td>\n",
       "    </tr>\n",
       "    <tr>\n",
       "      <th>min</th>\n",
       "      <td>104.000000</td>\n",
       "      <td>0.000000</td>\n",
       "      <td>2.000000</td>\n",
       "      <td>3.850432</td>\n",
       "      <td>1.0</td>\n",
       "      <td>83.252589</td>\n",
       "      <td>20.000000</td>\n",
       "      <td>1.00000</td>\n",
       "      <td>1.000000</td>\n",
       "      <td>0.000000</td>\n",
       "      <td>0.000000</td>\n",
       "      <td>0.000000</td>\n",
       "      <td>1.000000</td>\n",
       "    </tr>\n",
       "    <tr>\n",
       "      <th>25%</th>\n",
       "      <td>3474.250000</td>\n",
       "      <td>0.000000</td>\n",
       "      <td>35.000000</td>\n",
       "      <td>4666.751419</td>\n",
       "      <td>1.0</td>\n",
       "      <td>21904.692707</td>\n",
       "      <td>36.000000</td>\n",
       "      <td>1.00000</td>\n",
       "      <td>1.000000</td>\n",
       "      <td>10.000000</td>\n",
       "      <td>22937.983753</td>\n",
       "      <td>0.244951</td>\n",
       "      <td>2.000000</td>\n",
       "    </tr>\n",
       "    <tr>\n",
       "      <th>50%</th>\n",
       "      <td>5231.000000</td>\n",
       "      <td>0.000000</td>\n",
       "      <td>66.000000</td>\n",
       "      <td>9723.734711</td>\n",
       "      <td>1.0</td>\n",
       "      <td>50034.493670</td>\n",
       "      <td>43.000000</td>\n",
       "      <td>1.00000</td>\n",
       "      <td>2.000000</td>\n",
       "      <td>17.000000</td>\n",
       "      <td>34475.704320</td>\n",
       "      <td>0.361665</td>\n",
       "      <td>3.000000</td>\n",
       "    </tr>\n",
       "    <tr>\n",
       "      <th>75%</th>\n",
       "      <td>8814.000000</td>\n",
       "      <td>1.000000</td>\n",
       "      <td>104.000000</td>\n",
       "      <td>17819.285825</td>\n",
       "      <td>1.0</td>\n",
       "      <td>88009.213905</td>\n",
       "      <td>51.000000</td>\n",
       "      <td>2.00000</td>\n",
       "      <td>2.000000</td>\n",
       "      <td>26.000000</td>\n",
       "      <td>45672.101380</td>\n",
       "      <td>0.502146</td>\n",
       "      <td>3.000000</td>\n",
       "    </tr>\n",
       "    <tr>\n",
       "      <th>max</th>\n",
       "      <td>19998.000000</td>\n",
       "      <td>1.000000</td>\n",
       "      <td>115.000000</td>\n",
       "      <td>238833.951400</td>\n",
       "      <td>1.0</td>\n",
       "      <td>347033.329500</td>\n",
       "      <td>59.000000</td>\n",
       "      <td>3.00000</td>\n",
       "      <td>2.000000</td>\n",
       "      <td>60.000000</td>\n",
       "      <td>268459.494300</td>\n",
       "      <td>18868.290000</td>\n",
       "      <td>4.000000</td>\n",
       "    </tr>\n",
       "  </tbody>\n",
       "</table>\n",
       "</div>"
      ],
      "text/plain": [
       "                 id           TV         antc       saldores      TC  \\\n",
       "count   2488.000000  2488.000000  2488.000000    2488.000000  2488.0   \n",
       "mean    6654.606511     0.389871    67.761656   13530.722630     1.0   \n",
       "std     4506.300139     0.487819    36.618056   14308.202528     0.0   \n",
       "min      104.000000     0.000000     2.000000       3.850432     1.0   \n",
       "25%     3474.250000     0.000000    35.000000    4666.751419     1.0   \n",
       "50%     5231.000000     0.000000    66.000000    9723.734711     1.0   \n",
       "75%     8814.000000     1.000000   104.000000   17819.285825     1.0   \n",
       "max    19998.000000     1.000000   115.000000  238833.951400     1.0   \n",
       "\n",
       "                cons         edad  ESTADO_CIVIL         SEXO     antig_pp  \\\n",
       "count    2488.000000  2488.000000    2488.00000  2488.000000  2488.000000   \n",
       "mean    64385.664772    43.063505       1.41881     1.516881    18.528939   \n",
       "std     58084.038010     9.611052       0.63271     0.499815    10.818269   \n",
       "min        83.252589    20.000000       1.00000     1.000000     0.000000   \n",
       "25%     21904.692707    36.000000       1.00000     1.000000    10.000000   \n",
       "50%     50034.493670    43.000000       1.00000     2.000000    17.000000   \n",
       "75%     88009.213905    51.000000       2.00000     2.000000    26.000000   \n",
       "max    347033.329500    59.000000       3.00000     2.000000    60.000000   \n",
       "\n",
       "            ingresos        endeud    conscateg  \n",
       "count    2488.000000   2488.000000  2488.000000  \n",
       "mean    36077.647727    211.907609     2.475884  \n",
       "std     21657.464009   1338.695648     1.055469  \n",
       "min         0.000000      0.000000     1.000000  \n",
       "25%     22937.983753      0.244951     2.000000  \n",
       "50%     34475.704320      0.361665     3.000000  \n",
       "75%     45672.101380      0.502146     3.000000  \n",
       "max    268459.494300  18868.290000     4.000000  "
      ]
     },
     "execution_count": 2,
     "metadata": {},
     "output_type": "execute_result"
    }
   ],
   "source": [
    "# Base de datos \n",
    "# ==============================================================================\n",
    "url = 'https://drive.google.com/file/d/1JQbD1tQJsMPmfKd7ufkuF0DK1BNDN8lE/view?usp=sharing'\n",
    "path = 'https://drive.google.com/uc?export=download&id='+url.split('/')[-2]\n",
    "data = pd.read_table(path)\n",
    "\n",
    "data.info()\n",
    "\n",
    "data.describe()"
   ]
  },
  {
   "cell_type": "markdown",
   "metadata": {
    "id": "S1MbwxirpxN1"
   },
   "source": [
    "### Armemos ahora un conjunto de test y otro de test para calcular generalizacion de los métodos"
   ]
  },
  {
   "cell_type": "code",
   "execution_count": 3,
   "metadata": {
    "executionInfo": {
     "elapsed": 19,
     "status": "ok",
     "timestamp": 1631299791892,
     "user": {
      "displayName": "MARIA INES STIMOLO",
      "photoUrl": "https://lh3.googleusercontent.com/a-/AOh14GiiSi_WlVy1nGXfjnRzL2LpjvRn_JZOB4OpoMFb=s64",
      "userId": "01469115874005837220"
     },
     "user_tz": 180
    },
    "id": "tNx-t9FcCb9X"
   },
   "outputs": [],
   "source": [
    "from sklearn.model_selection import train_test_split\n",
    "\n",
    "# Create X and y\n",
    "#X = df.drop([\"conscateg\"],axis = 1)\n",
    "#y = df. conscateg\n",
    "X=data.drop([\"id\",\"conscateg\",\"TC\", \"riesgo\", 'cons'],axis = 1) #features variables clasificadoras\n",
    "y=data.conscateg # target o grupo\n",
    "\n",
    "# Split the data to 80-20\n",
    "\n",
    "\n",
    "X_train,X_test,y_train,y_test = train_test_split(X,y,test_size=0.2,random_state=42, stratify=y)"
   ]
  },
  {
   "cell_type": "markdown",
   "metadata": {
    "id": "qB41wLqep6ex"
   },
   "source": [
    "### Cada método tiene muchos parámetros, para que sean comparables, hay que buscar los mejores parámetros usando la muestra de entrenamiento."
   ]
  },
  {
   "cell_type": "code",
   "execution_count": 8,
   "metadata": {
    "executionInfo": {
     "elapsed": 19,
     "status": "ok",
     "timestamp": 1631299791894,
     "user": {
      "displayName": "MARIA INES STIMOLO",
      "photoUrl": "https://lh3.googleusercontent.com/a-/AOh14GiiSi_WlVy1nGXfjnRzL2LpjvRn_JZOB4OpoMFb=s64",
      "userId": "01469115874005837220"
     },
     "user_tz": 180
    },
    "id": "LoFnGU8LCb9Z"
   },
   "outputs": [],
   "source": [
    "from sklearn.model_selection import GridSearchCV\n",
    "from sklearn.preprocessing import StandardScaler\n",
    "from sklearn.pipeline import Pipeline"
   ]
  },
  {
   "cell_type": "markdown",
   "metadata": {
    "id": "7Gv-A5tNu-xD"
   },
   "source": [
    "# Clasificadores"
   ]
  },
  {
   "cell_type": "markdown",
   "metadata": {
    "id": "GCTxOcQou7p7"
   },
   "source": [
    "AdaBoostClassifier: este algoritmo comienza ajustando un clasificador en el conjunto de datos original y luego ajusta copias adicionales del clasificador en el mismo conjunto de datos pero donde los pesos de las instancias clasificadas incorrectamente se ajustan de modo que los clasificadores posteriores se centren más en casos difíciles.\n",
    "\n",
    "Bagging Classifier: es un algoritmo que ajusta clasificadores base, cada uno en un subconjunto aleatorio del conjunto de datos original y luego agrega su prediccion individual(ya sea por voto o promedio) para formar una prediccion final.El objetivo es generar un modelo compuesto con menor tasa de error.\n",
    "\n",
    "ExtraTreesClassifier: este algoritmo implementa un estimador que se ajusta a varios árboles de decisión aleatorios (también conocidos como árboles adicionales) en varias submuestras del conjunto de datos y utiliza el promedio para mejorar la precisión predictiva y controlar el sobreajuste.\n",
    "\n",
    "GradientBoostingClassifier: este algoritmo construye un modelo aditivo de manera progresiva por etapas. Permite la optimización de funciones arbitrarias de pérdida diferenciable. En cada etapa, las n_clases de los árboles de regresión se ajustan en el gradiente negativo de la función de pérdida de desviación binomial o multinomial. La clasificación binaria es un caso especial donde solo se induce un solo árbol de regresión.\n",
    "\n",
    "RandomForestClassifier: un bosque aleatorio es un estimador que se ajusta a varios clasificadores de árbol de decisión en varias submuestras del conjunto de datos y utiliza el promedio para mejorar la precisión predictiva y controlar el sobreajuste. El tamaño de la submuestra siempre es el mismo que el tamaño de la muestra de entrada original, pero las muestras se extraen con reemplazo y a diferencia de Bagging tambien se aleatorizan las variables.\n",
    "\n",
    "LogisticRegression : la regresión logística es un método estadístico para analizar un conjunto de datos en el que hay una o más variables independientes que determinan un resultado. El resultado se mide con una variable dicotómica. En este modelo, las probabilidades que describen los posibles resultados de un solo ensayo se modelan utilizando una función logística.\n",
    "\n",
    "\n",
    "KNeighborsClassifier: Clasificador que implementa el voto de k-vecinos más cercanos.\n",
    "\n",
    "SVC: Usa un clasificador discriminativo definido formalmente por un hiperplano de separación. Es decir, dados los datos de entrenamiento etiquetados, el algoritmo genera un hiperplano óptimo que categoriza nuevos ejemplos. En dos espacios dimensionales, este hiperplano es una línea que divide un plano en dos partes donde en cada clase se encuentra a cada lado.\n",
    "\n",
    "\n",
    "DecisionTree: los árboles de decisión son un método de aprendizaje supervisado no paramétrico utilizado para la clasificación y la regresión. El objetivo es crear un modelo que prediga el valor de una variable objetivo mediante el aprendizaje de reglas de decisión simples inferidas de las características de los datos.\n",
    "\n",
    "\n",
    "ExtraTreeClassifier: estos algoritmos difieren de los árboles de decisión clásicos en la forma en que se construyen. Al buscar la mejor división para separar las muestras de un nodo en dos grupos, se dibujan divisiones aleatorias para cada una de las características max_features seleccionadas aleatoriamente y se elige la mejor división entre ellas. Cuando max_features se establece en 1, esto equivale a construir un árbol de decisión totalmente aleatorio.\n",
    "\n",
    "\n",
    "XGBoost: es un algoritmo de aprendizaje automático de conjunto basado en un árbol de decisión que utiliza un marco de refuerzo de gradiente."
   ]
  },
  {
   "cell_type": "code",
   "execution_count": 7,
   "metadata": {
    "executionInfo": {
     "elapsed": 19,
     "status": "ok",
     "timestamp": 1631299791896,
     "user": {
      "displayName": "MARIA INES STIMOLO",
      "photoUrl": "https://lh3.googleusercontent.com/a-/AOh14GiiSi_WlVy1nGXfjnRzL2LpjvRn_JZOB4OpoMFb=s64",
      "userId": "01469115874005837220"
     },
     "user_tz": 180
    },
    "id": "YnaJO8cWYe0D"
   },
   "outputs": [
    {
     "ename": "ModuleNotFoundError",
     "evalue": "No module named 'xgboost'",
     "output_type": "error",
     "traceback": [
      "\u001b[0;31m---------------------------------------------------------------------------\u001b[0m",
      "\u001b[0;31mModuleNotFoundError\u001b[0m                       Traceback (most recent call last)",
      "\u001b[0;32m<ipython-input-7-2f4393fe2e08>\u001b[0m in \u001b[0;36m<module>\u001b[0;34m\u001b[0m\n\u001b[1;32m      1\u001b[0m \u001b[0;31m#Clasificadores usuales\u001b[0m\u001b[0;34m\u001b[0m\u001b[0;34m\u001b[0m\u001b[0;34m\u001b[0m\u001b[0m\n\u001b[1;32m      2\u001b[0m \u001b[0;32mfrom\u001b[0m \u001b[0msklearn\u001b[0m \u001b[0;32mimport\u001b[0m \u001b[0msvm\u001b[0m\u001b[0;34m,\u001b[0m \u001b[0mtree\u001b[0m\u001b[0;34m,\u001b[0m \u001b[0mlinear_model\u001b[0m\u001b[0;34m,\u001b[0m \u001b[0mneighbors\u001b[0m\u001b[0;34m,\u001b[0m \u001b[0mnaive_bayes\u001b[0m\u001b[0;34m,\u001b[0m \u001b[0mensemble\u001b[0m\u001b[0;34m,\u001b[0m \u001b[0mdiscriminant_analysis\u001b[0m\u001b[0;34m,\u001b[0m \u001b[0mgaussian_process\u001b[0m\u001b[0;34m\u001b[0m\u001b[0;34m\u001b[0m\u001b[0m\n\u001b[0;32m----> 3\u001b[0;31m \u001b[0;32mfrom\u001b[0m \u001b[0mxgboost\u001b[0m \u001b[0;32mimport\u001b[0m \u001b[0mXGBClassifier\u001b[0m\u001b[0;34m\u001b[0m\u001b[0;34m\u001b[0m\u001b[0m\n\u001b[0m\u001b[1;32m      4\u001b[0m \u001b[0;31m#Evaluaciones usuales de los modelos\u001b[0m\u001b[0;34m\u001b[0m\u001b[0;34m\u001b[0m\u001b[0;34m\u001b[0m\u001b[0m\n\u001b[1;32m      5\u001b[0m \u001b[0;32mfrom\u001b[0m \u001b[0msklearn\u001b[0m \u001b[0;32mimport\u001b[0m \u001b[0mfeature_selection\u001b[0m\u001b[0;34m\u001b[0m\u001b[0;34m\u001b[0m\u001b[0m\n",
      "\u001b[0;31mModuleNotFoundError\u001b[0m: No module named 'xgboost'"
     ]
    }
   ],
   "source": [
    "#Clasificadores usuales\n",
    "from sklearn import svm, tree, linear_model, neighbors, naive_bayes, ensemble, discriminant_analysis, gaussian_process\n",
    "from xgboost import XGBClassifier\n",
    "#Evaluaciones usuales de los modelos\n",
    "from sklearn import feature_selection\n",
    "from sklearn import model_selection\n",
    "from sklearn import metrics\n",
    "from sklearn.model_selection import train_test_split\n",
    "from sklearn.metrics import confusion_matrix\n",
    "import warnings\n",
    "warnings.filterwarnings('ignore')"
   ]
  },
  {
   "cell_type": "markdown",
   "metadata": {
    "id": "g057nKvXqIvM"
   },
   "source": [
    "# K vecinos mas cercanos"
   ]
  },
  {
   "cell_type": "code",
   "execution_count": 134,
   "metadata": {
    "executionInfo": {
     "elapsed": 20,
     "status": "ok",
     "timestamp": 1631299791898,
     "user": {
      "displayName": "MARIA INES STIMOLO",
      "photoUrl": "https://lh3.googleusercontent.com/a-/AOh14GiiSi_WlVy1nGXfjnRzL2LpjvRn_JZOB4OpoMFb=s64",
      "userId": "01469115874005837220"
     },
     "user_tz": 180
    },
    "id": "XUO44WV9VzvL"
   },
   "outputs": [],
   "source": [
    "from sklearn.neighbors import KNeighborsClassifier"
   ]
  },
  {
   "cell_type": "code",
   "execution_count": 135,
   "metadata": {
    "colab": {
     "base_uri": "https://localhost:8080/"
    },
    "executionInfo": {
     "elapsed": 11311,
     "status": "ok",
     "timestamp": 1631299803189,
     "user": {
      "displayName": "MARIA INES STIMOLO",
      "photoUrl": "https://lh3.googleusercontent.com/a-/AOh14GiiSi_WlVy1nGXfjnRzL2LpjvRn_JZOB4OpoMFb=s64",
      "userId": "01469115874005837220"
     },
     "user_tz": 180
    },
    "id": "x49YzPKNCb9b",
    "outputId": "8a223daf-f44e-47fe-e585-afbba8508418"
   },
   "outputs": [
    {
     "name": "stdout",
     "output_type": "stream",
     "text": [
      " Best score is: 0.4452261306532663 with parameters: {'knn__n_neighbors': 19}\n"
     ]
    }
   ],
   "source": [
    "pipe_knn = Pipeline([\n",
    "    ('sc', StandardScaler()),\n",
    "    ('knn', KNeighborsClassifier())\n",
    "    ])\n",
    "\n",
    "params_knn = {\n",
    "    'knn__n_neighbors': range(1, 20)\n",
    "    }\n",
    "\n",
    "search_knn = GridSearchCV(estimator=pipe_knn,\n",
    "                      param_grid=params_knn,\n",
    "                      cv = 5,\n",
    "                      return_train_score=True)\n",
    "\n",
    "search_knn.fit(X_train, y_train)\n",
    "print(f\" Best score is: {search_knn.best_score_} with parameters: {search_knn.best_params_}\")"
   ]
  },
  {
   "cell_type": "markdown",
   "metadata": {
    "id": "BwQz5UMAqPb1"
   },
   "source": [
    "### El único parametro es K, encontro que el mejor k en ¿? vecinos"
   ]
  },
  {
   "cell_type": "code",
   "execution_count": 136,
   "metadata": {
    "executionInfo": {
     "elapsed": 67,
     "status": "ok",
     "timestamp": 1631299803194,
     "user": {
      "displayName": "MARIA INES STIMOLO",
      "photoUrl": "https://lh3.googleusercontent.com/a-/AOh14GiiSi_WlVy1nGXfjnRzL2LpjvRn_JZOB4OpoMFb=s64",
      "userId": "01469115874005837220"
     },
     "user_tz": 180
    },
    "id": "SRTCRpiACb9c"
   },
   "outputs": [],
   "source": [
    "knn = KNeighborsClassifier(n_neighbors = 19)\n",
    "# Train the model\n",
    "knn.fit(X_train, y_train)\n",
    "# Get the predict value from X_test\n",
    "y_pred_knn = knn.predict(X_test)"
   ]
  },
  {
   "cell_type": "code",
   "execution_count": 137,
   "metadata": {
    "executionInfo": {
     "elapsed": 63,
     "status": "ok",
     "timestamp": 1631299803196,
     "user": {
      "displayName": "MARIA INES STIMOLO",
      "photoUrl": "https://lh3.googleusercontent.com/a-/AOh14GiiSi_WlVy1nGXfjnRzL2LpjvRn_JZOB4OpoMFb=s64",
      "userId": "01469115874005837220"
     },
     "user_tz": 180
    },
    "id": "AzfHCFsXCb9c"
   },
   "outputs": [],
   "source": [
    "from sklearn import metrics\n",
    "from sklearn.metrics import classification_report"
   ]
  },
  {
   "cell_type": "code",
   "execution_count": 138,
   "metadata": {
    "colab": {
     "base_uri": "https://localhost:8080/"
    },
    "executionInfo": {
     "elapsed": 63,
     "status": "ok",
     "timestamp": 1631299803198,
     "user": {
      "displayName": "MARIA INES STIMOLO",
      "photoUrl": "https://lh3.googleusercontent.com/a-/AOh14GiiSi_WlVy1nGXfjnRzL2LpjvRn_JZOB4OpoMFb=s64",
      "userId": "01469115874005837220"
     },
     "user_tz": 180
    },
    "id": "KY40dRXUCb9d",
    "outputId": "e5176502-1b0d-46d6-8e51-5edbb329a92c"
   },
   "outputs": [
    {
     "name": "stdout",
     "output_type": "stream",
     "text": [
      "              precision    recall  f1-score   support\n",
      "\n",
      "           1      0.675     0.733     0.703       105\n",
      "           2      0.570     0.507     0.537       152\n",
      "           3      0.581     0.537     0.558       160\n",
      "           4      0.515     0.642     0.571        81\n",
      "\n",
      "    accuracy                          0.586       498\n",
      "   macro avg      0.585     0.605     0.592       498\n",
      "weighted avg      0.587     0.586     0.584       498\n",
      "\n",
      "accuracy:  0.5863453815261044\n"
     ]
    }
   ],
   "source": [
    "# Report\n",
    "print(classification_report(y_pred_knn,y_test, digits = 3))\n",
    "print('accuracy: ', metrics.accuracy_score(y_pred_knn, y_test))\n"
   ]
  },
  {
   "cell_type": "markdown",
   "metadata": {
    "id": "Bai7tuUjQF6l"
   },
   "source": [
    "![image.png](data:image/png;base64,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)\n"
   ]
  },
  {
   "cell_type": "markdown",
   "metadata": {
    "id": "e7qw6g6Pby-A"
   },
   "source": [
    "**precision**  \n",
    "Valor predictivo positivo: TP / (TP + FP)\n",
    "La precisión es la capacidad del clasificador en términos de probabilidad de que las predcciones hechas sean las correctas\n",
    "\n",
    "**recall** \n",
    "Sensibilidad TP / (TP + FN)  Es la capacidad del clasificador de para identificar los valores del grupo positivo.\n",
    "\n",
    "**f1-score**\n",
    "La puntuación de la F1 puede interpretarse como un promedio ponderado de la precisión y la memoria (recall). La fórmula para la puntuación de la F1 es:\n",
    "F1 = 2 * (precision * recall) / (precision + recall)\n",
    "donde la puntuación de la F1 alcanza su mejor valor en 1 y la peor puntuación en 0. El valor 1 significa que la contribución relativa de la precisión y la memoria a la puntuación de la F1 son iguales.\n",
    "En el caso de múltiples clases y múltiples etiquetas, este es el promedio de la puntuación F1 de cada clase con una ponderación que depende del parámetro average .\n",
    "\n",
    "**support** es el número de clasificados de cada clase en y_true .\n",
    "\n",
    "Para mirar esto y más:\n",
    "\n",
    "https://runebook.dev/es/docs/scikit_learn/modules/model_evaluation#precision-recall-f-measure-metrics"
   ]
  },
  {
   "cell_type": "code",
   "execution_count": 139,
   "metadata": {
    "colab": {
     "base_uri": "https://localhost:8080/",
     "height": 581
    },
    "executionInfo": {
     "elapsed": 710,
     "status": "ok",
     "timestamp": 1631299803858,
     "user": {
      "displayName": "MARIA INES STIMOLO",
      "photoUrl": "https://lh3.googleusercontent.com/a-/AOh14GiiSi_WlVy1nGXfjnRzL2LpjvRn_JZOB4OpoMFb=s64",
      "userId": "01469115874005837220"
     },
     "user_tz": 180
    },
    "id": "3qMZJBOeCb9e",
    "outputId": "a89a7ea1-7623-47ef-c7a9-72ef030f60c0"
   },
   "outputs": [
    {
     "data": {
      "image/png": "[encoded data removed]",
      "text/plain": [
       "<Figure size 432x288 with 2 Axes>"
      ]
     },
     "metadata": {},
     "output_type": "display_data"
    },
    {
     "data": {
      "image/png": "[encoded data removed]",
      "text/plain": [
       "<Figure size 432x288 with 2 Axes>"
      ]
     },
     "metadata": {},
     "output_type": "display_data"
    }
   ],
   "source": [
    "from sklearn.metrics import plot_confusion_matrix\n",
    "titles_options = [(\"Unnormalized Confusion Matrix\", None),\n",
    "                  (\"Normalized Confusion Matrix\", 'true')]\n",
    "for title, normalize in titles_options:\n",
    "    disp = plot_confusion_matrix(knn.fit(X_train, y_train), X_test, y_test,\n",
    "                                  display_labels=['1', '2', '3', '4'],\n",
    "                                  cmap='Blues',\n",
    "                                  normalize=normalize)\n",
    "    disp.ax_.set_title(title)"
   ]
  },
  {
   "cell_type": "markdown",
   "metadata": {
    "id": "RCfMOoAAqc_n"
   },
   "source": [
    "# Arbol de decision"
   ]
  },
  {
   "cell_type": "code",
   "execution_count": 140,
   "metadata": {
    "colab": {
     "base_uri": "https://localhost:8080/"
    },
    "executionInfo": {
     "elapsed": 1536,
     "status": "ok",
     "timestamp": 1631299805383,
     "user": {
      "displayName": "MARIA INES STIMOLO",
      "photoUrl": "https://lh3.googleusercontent.com/a-/AOh14GiiSi_WlVy1nGXfjnRzL2LpjvRn_JZOB4OpoMFb=s64",
      "userId": "01469115874005837220"
     },
     "user_tz": 180
    },
    "id": "5UHh6au0Cb9f",
    "outputId": "7d3d138a-3dbd-455e-ae52-1665e6f70d97"
   },
   "outputs": [
    {
     "name": "stdout",
     "output_type": "stream",
     "text": [
      " Best score is: 0.5819095477386935 with parameters: {'decsT__criterion': 'gini', 'decsT__max_depth': 4}\n"
     ]
    }
   ],
   "source": [
    "from sklearn.tree import DecisionTreeClassifier\n",
    "import numpy as np\n",
    "\n",
    "pipe_decsT = Pipeline([\n",
    "    ('sc', StandardScaler()),\n",
    "    ('decsT', DecisionTreeClassifier())\n",
    "    ])\n",
    "\n",
    "params_decsT = {\n",
    "    'decsT__criterion' : ['gini', 'entropy'],\n",
    "    'decsT__max_depth' : np.arange(3, 15)\n",
    "    }\n",
    "\n",
    "search_decsT = GridSearchCV(estimator=pipe_decsT,\n",
    "                      param_grid=params_decsT,\n",
    "                      cv = 5,\n",
    "                      return_train_score=True)\n",
    "\n",
    "search_decsT.fit(X_train, y_train)\n",
    "print(f\" Best score is: {search_decsT.best_score_} with parameters: {search_decsT.best_params_}\")"
   ]
  },
  {
   "cell_type": "markdown",
   "metadata": {
    "id": "rrQwDx0rqhg-"
   },
   "source": [
    "### Encontramos que la metrica Gini y la profundidad es ??"
   ]
  },
  {
   "cell_type": "code",
   "execution_count": 141,
   "metadata": {
    "colab": {
     "base_uri": "https://localhost:8080/"
    },
    "executionInfo": {
     "elapsed": 24,
     "status": "ok",
     "timestamp": 1631299805384,
     "user": {
      "displayName": "MARIA INES STIMOLO",
      "photoUrl": "https://lh3.googleusercontent.com/a-/AOh14GiiSi_WlVy1nGXfjnRzL2LpjvRn_JZOB4OpoMFb=s64",
      "userId": "01469115874005837220"
     },
     "user_tz": 180
    },
    "id": "78rlcNKaCb9g",
    "outputId": "d3925aef-9046-45cc-e13c-607886c326b3"
   },
   "outputs": [
    {
     "name": "stdout",
     "output_type": "stream",
     "text": [
      "(2, 'gini'): 0.5748743719\n",
      "(3, 'gini'): 0.5819095477\n",
      "(4, 'gini'): 0.5643216080\n",
      "(5, 'gini'): 0.5457286432\n",
      "(6, 'gini'): 0.5432160804\n",
      "(7, 'gini'): 0.5396984925\n",
      "(8, 'gini'): 0.5221105528\n",
      "(9, 'gini'): 0.5080402010\n",
      "(10, 'gini'): 0.4964824121\n",
      "(11, 'gini'): 0.4919597990\n",
      "(12, 'gini'): 0.5005025126\n",
      "(13, 'gini'): 0.4919597990\n",
      "(14, 'gini'): 0.5592964824\n",
      "(2, 'entropy'): 0.5597989950\n",
      "(3, 'entropy'): 0.5613065327\n",
      "(4, 'entropy'): 0.5497487437\n",
      "(5, 'entropy'): 0.5276381910\n",
      "(6, 'entropy'): 0.5195979899\n",
      "(7, 'entropy'): 0.5060301508\n",
      "(8, 'entropy'): 0.4994974874\n",
      "(9, 'entropy'): 0.4934673367\n",
      "(10, 'entropy'): 0.4904522613\n",
      "(11, 'entropy'): 0.4969849246\n",
      "(12, 'entropy'): 0.4929648241\n"
     ]
    }
   ],
   "source": [
    "scores_decsT = search_decsT.cv_results_['mean_test_score']\n",
    "criterion = ['gini', 'entropy']\n",
    "DEPTH = np.arange(2, 15)\n",
    "for idx, criterion in enumerate(criterion):\n",
    "    for score, depth in (zip(scores_decsT[idx*len(DEPTH): (idx+1)*len(DEPTH)], DEPTH)):\n",
    "        print(f\"{depth, criterion}: {score:.10f}\")"
   ]
  },
  {
   "cell_type": "code",
   "execution_count": 142,
   "metadata": {
    "executionInfo": {
     "elapsed": 18,
     "status": "ok",
     "timestamp": 1631299805386,
     "user": {
      "displayName": "MARIA INES STIMOLO",
      "photoUrl": "https://lh3.googleusercontent.com/a-/AOh14GiiSi_WlVy1nGXfjnRzL2LpjvRn_JZOB4OpoMFb=s64",
      "userId": "01469115874005837220"
     },
     "user_tz": 180
    },
    "id": "hbEXcDpRCb9g"
   },
   "outputs": [],
   "source": [
    "decsT = DecisionTreeClassifier(max_depth=3)\n",
    "decsT.fit(X_train,y_train)\n",
    "y_pred_decsT = decsT.predict(X_test)"
   ]
  },
  {
   "cell_type": "code",
   "execution_count": 143,
   "metadata": {
    "colab": {
     "base_uri": "https://localhost:8080/"
    },
    "executionInfo": {
     "elapsed": 17,
     "status": "ok",
     "timestamp": 1631299805387,
     "user": {
      "displayName": "MARIA INES STIMOLO",
      "photoUrl": "https://lh3.googleusercontent.com/a-/AOh14GiiSi_WlVy1nGXfjnRzL2LpjvRn_JZOB4OpoMFb=s64",
      "userId": "01469115874005837220"
     },
     "user_tz": 180
    },
    "id": "IQiTCbm1Cb9g",
    "outputId": "b17b6b92-4069-43df-b45c-0d32ce4e45ec"
   },
   "outputs": [
    {
     "name": "stdout",
     "output_type": "stream",
     "text": [
      "              precision    recall  f1-score   support\n",
      "\n",
      "           1      0.491     0.848     0.622        66\n",
      "           2      0.689     0.460     0.552       202\n",
      "           3      0.588     0.527     0.556       165\n",
      "           4      0.465     0.723     0.566        65\n",
      "\n",
      "    accuracy                          0.568       498\n",
      "   macro avg      0.558     0.640     0.574       498\n",
      "weighted avg      0.600     0.568     0.564       498\n",
      "\n",
      "accuracy:  0.5682730923694779\n"
     ]
    }
   ],
   "source": [
    "# Report\n",
    "print(classification_report(y_pred_decsT,y_test, digits = 3))\n",
    "print('accuracy: ', metrics.accuracy_score(y_pred_decsT,y_test))"
   ]
  },
  {
   "cell_type": "code",
   "execution_count": 144,
   "metadata": {
    "colab": {
     "base_uri": "https://localhost:8080/",
     "height": 0
    },
    "executionInfo": {
     "elapsed": 1235,
     "status": "ok",
     "timestamp": 1631299806608,
     "user": {
      "displayName": "MARIA INES STIMOLO",
      "photoUrl": "https://lh3.googleusercontent.com/a-/AOh14GiiSi_WlVy1nGXfjnRzL2LpjvRn_JZOB4OpoMFb=s64",
      "userId": "01469115874005837220"
     },
     "user_tz": 180
    },
    "id": "yX1KN-zTCb9h",
    "outputId": "788d2c2c-ab98-4f54-94eb-6aa33ff65a96"
   },
   "outputs": [
    {
     "data": {
      "image/png": "[encoded data removed]",
      "text/plain": [
       "<Figure size 432x288 with 2 Axes>"
      ]
     },
     "metadata": {},
     "output_type": "display_data"
    },
    {
     "data": {
      "image/png": "[encoded data removed]",
      "text/plain": [
       "<Figure size 432x288 with 2 Axes>"
      ]
     },
     "metadata": {},
     "output_type": "display_data"
    }
   ],
   "source": [
    "for title, normalize in titles_options:\n",
    "    disp = plot_confusion_matrix(decsT.fit(X_train, y_train), X_test, y_test,\n",
    "                                  display_labels=['1', '2', '3', '4'],\n",
    "                                  cmap='Blues',\n",
    "                                  normalize=normalize)\n",
    "    disp.ax_.set_title(title)"
   ]
  },
  {
   "cell_type": "markdown",
   "metadata": {
    "id": "OGZxFj0wrVP0"
   },
   "source": [
    "# Logistic regression"
   ]
  },
  {
   "cell_type": "code",
   "execution_count": 145,
   "metadata": {
    "colab": {
     "base_uri": "https://localhost:8080/"
    },
    "executionInfo": {
     "elapsed": 12317,
     "status": "ok",
     "timestamp": 1631299818917,
     "user": {
      "displayName": "MARIA INES STIMOLO",
      "photoUrl": "https://lh3.googleusercontent.com/a-/AOh14GiiSi_WlVy1nGXfjnRzL2LpjvRn_JZOB4OpoMFb=s64",
      "userId": "01469115874005837220"
     },
     "user_tz": 180
    },
    "id": "iFggi_xmCb9k",
    "outputId": "c9b681b5-1a35-4623-a8ad-969985b9d597"
   },
   "outputs": [
    {
     "name": "stdout",
     "output_type": "stream",
     "text": [
      " Best score is: 0.5507537688442211 with parameters: {'LR__C': 10.0, 'LR__solver': 'newton-cg'}\n"
     ]
    }
   ],
   "source": [
    "from sklearn.linear_model import LogisticRegression\n",
    "\n",
    "solver = ['liblinear', 'newton-cg', 'lbfgs', 'sag', 'saga']\n",
    "C = np.logspace(-2, 10, 13)\n",
    "\n",
    "pipe_lr = Pipeline([\n",
    "    ('sc', StandardScaler()),\n",
    "    ('LR', LogisticRegression())\n",
    "    ])\n",
    "\n",
    "params_lr = {\n",
    "    'LR__C': C,\n",
    "    'LR__solver': solver\n",
    "    }\n",
    "\n",
    "search_lr = GridSearchCV(estimator=pipe_lr,\n",
    "                      param_grid=params_lr,\n",
    "                      cv = 5,\n",
    "                      return_train_score=True)\n",
    "\n",
    "search_lr.fit(X_train, y_train)\n",
    "print(f\" Best score is: {search_lr.best_score_} with parameters: {search_lr.best_params_}\")"
   ]
  },
  {
   "cell_type": "code",
   "execution_count": 146,
   "metadata": {
    "executionInfo": {
     "elapsed": 966,
     "status": "ok",
     "timestamp": 1631299819844,
     "user": {
      "displayName": "MARIA INES STIMOLO",
      "photoUrl": "https://lh3.googleusercontent.com/a-/AOh14GiiSi_WlVy1nGXfjnRzL2LpjvRn_JZOB4OpoMFb=s64",
      "userId": "01469115874005837220"
     },
     "user_tz": 180
    },
    "id": "8isGm_jOCb9k"
   },
   "outputs": [],
   "source": [
    "lr = LogisticRegression(C=10, solver='newton-cg') \n",
    "lr.fit(X_train,y_train)\n",
    "y_pred_lr = lr.predict(X_test)"
   ]
  },
  {
   "cell_type": "code",
   "execution_count": 147,
   "metadata": {
    "colab": {
     "base_uri": "https://localhost:8080/"
    },
    "executionInfo": {
     "elapsed": 21,
     "status": "ok",
     "timestamp": 1631299819846,
     "user": {
      "displayName": "MARIA INES STIMOLO",
      "photoUrl": "https://lh3.googleusercontent.com/a-/AOh14GiiSi_WlVy1nGXfjnRzL2LpjvRn_JZOB4OpoMFb=s64",
      "userId": "01469115874005837220"
     },
     "user_tz": 180
    },
    "id": "mHhGlKGECb9k",
    "outputId": "c1fbba97-3727-4119-a7dc-27c34bdfbe1f"
   },
   "outputs": [
    {
     "name": "stdout",
     "output_type": "stream",
     "text": [
      "              precision    recall  f1-score   support\n",
      "\n",
      "           1      0.772     0.667     0.715       132\n",
      "           2      0.496     0.493     0.494       136\n",
      "           3      0.561     0.503     0.530       165\n",
      "           4      0.416     0.646     0.506        65\n",
      "\n",
      "    accuracy                          0.562       498\n",
      "   macro avg      0.561     0.577     0.562       498\n",
      "weighted avg      0.580     0.562     0.566       498\n",
      "\n",
      "accuracy:  0.5622489959839357\n"
     ]
    }
   ],
   "source": [
    "# Report\n",
    "print(metrics.classification_report(y_pred_lr,y_test, digits = 3))\n",
    "print('accuracy: ', metrics.accuracy_score(y_pred_lr,y_test))"
   ]
  },
  {
   "cell_type": "code",
   "execution_count": 148,
   "metadata": {
    "colab": {
     "base_uri": "https://localhost:8080/",
     "height": 581
    },
    "executionInfo": {
     "elapsed": 2327,
     "status": "ok",
     "timestamp": 1631299822165,
     "user": {
      "displayName": "MARIA INES STIMOLO",
      "photoUrl": "https://lh3.googleusercontent.com/a-/AOh14GiiSi_WlVy1nGXfjnRzL2LpjvRn_JZOB4OpoMFb=s64",
      "userId": "01469115874005837220"
     },
     "user_tz": 180
    },
    "id": "CMzsJDVUCb9l",
    "outputId": "944137d9-f2d6-4fa2-8fc9-8fdf050babd1"
   },
   "outputs": [
    {
     "data": {
      "image/png": "[encoded data removed]",
      "text/plain": [
       "<Figure size 432x288 with 2 Axes>"
      ]
     },
     "metadata": {},
     "output_type": "display_data"
    },
    {
     "data": {
      "image/png": "[encoded data removed]",
      "text/plain": [
       "<Figure size 432x288 with 2 Axes>"
      ]
     },
     "metadata": {},
     "output_type": "display_data"
    }
   ],
   "source": [
    "for title, normalize in titles_options:\n",
    "    disp = plot_confusion_matrix(lr.fit(X_train, y_train), X_test, y_test,\n",
    "                                  display_labels=['1', '2', '3', '4'],\n",
    "                                  cmap='Blues',\n",
    "                                  normalize=normalize)\n",
    "    disp.ax_.set_title(title)"
   ]
  },
  {
   "cell_type": "markdown",
   "metadata": {
    "id": "iXYuSACgrfhd"
   },
   "source": [
    "## Gradient Boosting Classifier"
   ]
  },
  {
   "cell_type": "markdown",
   "metadata": {
    "id": "JQiGjoaPPlfE"
   },
   "source": [
    "### A continuación se pretende realizar un mejoramiento de los parámetros del algoritmo Gradient Boosting Classifier. Para ello se probarán diferentes combinaciones de algunos parámetros que seran considerados dentro de ciertos rangos y se buscara la combinación óptima. Los parámetros que se utilizaran con valores diferentes a los establecidos por defecto son: **min_samples_split**, **subsample**,**max_depth**, **learning_rate**, **n_estimators**."
   ]
  },
  {
   "cell_type": "code",
   "execution_count": 149,
   "metadata": {
    "colab": {
     "base_uri": "https://localhost:8080/"
    },
    "executionInfo": {
     "elapsed": 65847,
     "status": "ok",
     "timestamp": 1631299887987,
     "user": {
      "displayName": "MARIA INES STIMOLO",
      "photoUrl": "https://lh3.googleusercontent.com/a-/AOh14GiiSi_WlVy1nGXfjnRzL2LpjvRn_JZOB4OpoMFb=s64",
      "userId": "01469115874005837220"
     },
     "user_tz": 180
    },
    "id": "7xm1aQ96PlfE",
    "outputId": "08fc79a9-840a-4961-a1e8-8b3e7085a5e8"
   },
   "outputs": [
    {
     "name": "stdout",
     "output_type": "stream",
     "text": [
      "Fitting 3 folds for each of 3 candidates, totalling 9 fits\n"
     ]
    },
    {
     "name": "stderr",
     "output_type": "stream",
     "text": [
      "[Parallel(n_jobs=4)]: Using backend LokyBackend with 4 concurrent workers.\n",
      "[Parallel(n_jobs=4)]: Done   6 out of   9 | elapsed:   50.8s remaining:   25.4s\n",
      "[Parallel(n_jobs=4)]: Done   9 out of   9 | elapsed:   54.9s finished\n"
     ]
    },
    {
     "name": "stdout",
     "output_type": "stream",
     "text": [
      "\n",
      " Mejores hypermarametros:\n",
      "{'subsample': 0.6, 'min_samples_split': 180, 'max_depth': 8}\n"
     ]
    }
   ],
   "source": [
    "from sklearn.model_selection import RandomizedSearchCV, GridSearchCV\n",
    "from sklearn.model_selection import StratifiedKFold\n",
    "from datetime import datetime\n",
    "params = {\n",
    "        'min_samples_split':[180, 370],\n",
    "        'subsample': [0.6, 0.8, 1.0],\n",
    "        'max_depth': [3,8]\n",
    "        }\n",
    "GBC =  ensemble.GradientBoostingClassifier(learning_rate=0.02, n_estimators=600,min_samples_leaf = 50, warm_start=True)\n",
    "folds = 3\n",
    "param_comb = 3\n",
    "\n",
    "skf = StratifiedKFold(n_splits=folds, shuffle = True, random_state = 1001)\n",
    "\n",
    "random_search = RandomizedSearchCV(GBC, param_distributions=params, n_iter=param_comb, n_jobs=4, cv=skf.split(X_train,y_train), verbose=3, random_state=1001 )\n",
    "random_search.fit(X_train,y_train)\n",
    "print('\\n Mejores hypermarametros:')\n",
    "print(random_search.best_params_)\n"
   ]
  },
  {
   "cell_type": "markdown",
   "metadata": {
    "id": "oAyjo2hxPlfE"
   },
   "source": [
    "**El clasificador Gradient Boosting queda determinado por los siguientes parametros:**"
   ]
  },
  {
   "cell_type": "code",
   "execution_count": 150,
   "metadata": {
    "executionInfo": {
     "elapsed": 22,
     "status": "ok",
     "timestamp": 1631299887988,
     "user": {
      "displayName": "MARIA INES STIMOLO",
      "photoUrl": "https://lh3.googleusercontent.com/a-/AOh14GiiSi_WlVy1nGXfjnRzL2LpjvRn_JZOB4OpoMFb=s64",
      "userId": "01469115874005837220"
     },
     "user_tz": 180
    },
    "id": "t5V4q57lWn7I"
   },
   "outputs": [],
   "source": [
    "ejemplos = np.array([[ 'Parametro', 'Valor'],\n",
    "['criterion', 'friedman_mse'], \n",
    "['init', 'None'],\n",
    "['learning_rate', 0.02], \n",
    "['loss', 'deviance'], \n",
    "['max_depth' ,3],\n",
    "['max_features', 'None'], \n",
    "['max_leaf_nodes','None'],\n",
    "['min_impurity_decrease',0.0], \n",
    "['min_impurity_split','None'],\n",
    "['min_samples_leaf',50], \n",
    "['min_samples_split',180],\n",
    "['min_weight_fraction_leaf',0.0], \n",
    "['n_estimators', 600],\n",
    "['n_iter_no_change','None'], \n",
    "['presort','auto'],\n",
    "['random_state','None'], \n",
    "['subsample',0.6], \n",
    "['tol', 0.0001],\n",
    "['validation_fraction',0.1], \n",
    "['verbose',0], \n",
    "['warm_start',True]])\n",
    "Parametros = pd.DataFrame(data=ejemplos[1:,0:],\n",
    "                   columns = ejemplos[0,0:])"
   ]
  },
  {
   "cell_type": "code",
   "execution_count": 151,
   "metadata": {
    "colab": {
     "base_uri": "https://localhost:8080/"
    },
    "executionInfo": {
     "elapsed": 10881,
     "status": "ok",
     "timestamp": 1631299898848,
     "user": {
      "displayName": "MARIA INES STIMOLO",
      "photoUrl": "https://lh3.googleusercontent.com/a-/AOh14GiiSi_WlVy1nGXfjnRzL2LpjvRn_JZOB4OpoMFb=s64",
      "userId": "01469115874005837220"
     },
     "user_tz": 180
    },
    "id": "jNn6ScBPWtgI",
    "outputId": "39418be6-3f7b-433c-dc60-80b56b1931e8"
   },
   "outputs": [
    {
     "name": "stdout",
     "output_type": "stream",
     "text": [
      "Exactitud del clasificador Gradient Boost Classifier en la base de prueba: 0.58\n"
     ]
    }
   ],
   "source": [
    "GBC=ensemble.GradientBoostingClassifier(criterion='friedman_mse', init=None,\n",
    "                           learning_rate=0.02, loss='deviance', max_depth=8,\n",
    "                           max_features=None, max_leaf_nodes=None,\n",
    "                           min_impurity_decrease=0.0, min_impurity_split=None,\n",
    "                           min_samples_leaf=50, min_samples_split=180,\n",
    "                           min_weight_fraction_leaf=0.0, n_estimators=600,\n",
    "                           n_iter_no_change=None,\n",
    "                           random_state=None, subsample=0.6, tol=0.0001,\n",
    "                           validation_fraction=0.1, verbose=0, warm_start=True)\n",
    "GBC_model  = GBC.fit(X_train,y_train)\n",
    "\n",
    "y_pred_GBC = GBC.predict(X_test)\n",
    "\n",
    "print('Exactitud del clasificador Gradient Boost Classifier en la base de prueba: {:.2f}'.format(GBC.score(X_test, y_test)))"
   ]
  },
  {
   "cell_type": "code",
   "execution_count": 152,
   "metadata": {
    "colab": {
     "base_uri": "https://localhost:8080/"
    },
    "executionInfo": {
     "elapsed": 27,
     "status": "ok",
     "timestamp": 1631299898849,
     "user": {
      "displayName": "MARIA INES STIMOLO",
      "photoUrl": "https://lh3.googleusercontent.com/a-/AOh14GiiSi_WlVy1nGXfjnRzL2LpjvRn_JZOB4OpoMFb=s64",
      "userId": "01469115874005837220"
     },
     "user_tz": 180
    },
    "id": "tdHOp2erPlfF",
    "outputId": "e207fd8c-9fb0-486d-80f8-e3c0afa6ae80"
   },
   "outputs": [
    {
     "name": "stdout",
     "output_type": "stream",
     "text": [
      "              precision    recall  f1-score   support\n",
      "\n",
      "           1      0.649     0.740     0.692       100\n",
      "           2      0.481     0.461     0.471       141\n",
      "           3      0.588     0.544     0.565       160\n",
      "           4      0.624     0.649     0.636        97\n",
      "\n",
      "    accuracy                          0.580       498\n",
      "   macro avg      0.586     0.599     0.591       498\n",
      "weighted avg      0.577     0.580     0.578       498\n",
      "\n",
      "accuracy:  0.5803212851405622\n"
     ]
    }
   ],
   "source": [
    "print(metrics.classification_report(y_pred_GBC,y_test, digits = 3))\n",
    "print('accuracy: ', metrics.accuracy_score(y_pred_GBC,y_test))"
   ]
  },
  {
   "cell_type": "code",
   "execution_count": 153,
   "metadata": {
    "colab": {
     "base_uri": "https://localhost:8080/",
     "height": 581
    },
    "executionInfo": {
     "elapsed": 793,
     "status": "ok",
     "timestamp": 1631299899628,
     "user": {
      "displayName": "MARIA INES STIMOLO",
      "photoUrl": "https://lh3.googleusercontent.com/a-/AOh14GiiSi_WlVy1nGXfjnRzL2LpjvRn_JZOB4OpoMFb=s64",
      "userId": "01469115874005837220"
     },
     "user_tz": 180
    },
    "id": "NRSnPNqqPlfF",
    "outputId": "c6ecf9c2-ea67-45fe-b2cc-f96da3a8793a"
   },
   "outputs": [
    {
     "data": {
      "image/png": "[encoded data removed]",
      "text/plain": [
       "<Figure size 432x288 with 2 Axes>"
      ]
     },
     "metadata": {},
     "output_type": "display_data"
    },
    {
     "data": {
      "image/png": "[encoded data removed]",
      "text/plain": [
       "<Figure size 432x288 with 2 Axes>"
      ]
     },
     "metadata": {},
     "output_type": "display_data"
    }
   ],
   "source": [
    "for title, normalize in titles_options:\n",
    "    disp = plot_confusion_matrix(GBC_model, X_test, y_test,\n",
    "                                  display_labels=['1', '2', '3', '4'],\n",
    "                                  cmap='Blues',\n",
    "                                  normalize=normalize)\n",
    "    disp.ax_.set_title(title)"
   ]
  },
  {
   "cell_type": "markdown",
   "metadata": {
    "id": "3d3-TKpJsaLn"
   },
   "source": [
    "# XGboost\n",
    "XGBoost es un algoritmo de aprendizaje automático de conjunto basado en un árbol de decisión que utiliza un marco de refuerzo de gradiente.\n",
    "\n",
    "## Parametros generales\n",
    "Se relacionan con el refuerzo que estamos utilizando para impulsar, comúnmente árbol o modelo lineal\n",
    "\n",
    "booster [default= gbtree ] Qué booster usar. Puede ser gbtree, gblinear o dart; gbtree y dart usan modelos basados en árboles, mientras que gblinear usa funciones lineales.\n",
    "\n",
    "silent [default=0] [Deprecated] Obsoleto. Por favor, use verbosidad en su lugar.\n",
    "\n",
    "verbosity [default=1] Verbosidad de la impresión de mensajes. Los valores válidos son 0 (silencioso), 1 (advertencia), 2 (información), 3 (depuración). A veces, XGBoost intenta cambiar las configuraciones en función de la heurística, que se muestra como mensaje de advertencia. Si hay un comportamiento inesperado, intente aumentar el valor de la verbosidad.\n",
    "\n",
    "nthread [default to maximum number of threads available if not set] Número de subprocesos paralelos utilizados para ejecutar XGBoost.\n",
    "\n",
    "disable_default_eval_metric [default=0] Marcador para deshabilitar la métrica predeterminada. Establezca en> 0 para deshabilitar.\n",
    "\n",
    "num_pbuffer [set automatically by XGBoost, no need to be set by user] Tamaño del búfer de predicción, normalmente establecido en el número de instancias de entrenamiento. Los buffers se utilizan para guardar los resultados de predicción del último paso de refuerzo.\n",
    "\n",
    "num_feature [set automatically by XGBoost, no need to be set by user] Dimensión de la característica utilizada para impulsar, establecer en la dimensión máxima de la característica."
   ]
  },
  {
   "cell_type": "markdown",
   "metadata": {
    "id": "W4SegM5PXOuU"
   },
   "source": [
    "Analogamente a lo hecho con anterioridad se pretende realizar un mejoramiento de los parámetros del clasificador XGBoost. Para ello se probarán diferentes combinaciones de algunos parámetros que seran considerados dentro de ciertos rangos y se buscara la combinación óptima. Los parámetros que se modificaran son algunos de los que estan relacionados con párametros generales y párametros del árbol: min_child_weight,gamma,subsample,colsample_bytree, max_depth, learning_rate, objective, nthread."
   ]
  },
  {
   "cell_type": "code",
   "execution_count": 154,
   "metadata": {
    "executionInfo": {
     "elapsed": 24,
     "status": "ok",
     "timestamp": 1631299899632,
     "user": {
      "displayName": "MARIA INES STIMOLO",
      "photoUrl": "https://lh3.googleusercontent.com/a-/AOh14GiiSi_WlVy1nGXfjnRzL2LpjvRn_JZOB4OpoMFb=s64",
      "userId": "01469115874005837220"
     },
     "user_tz": 180
    },
    "id": "-jt0HUCTXTF-"
   },
   "outputs": [],
   "source": [
    "params = {\n",
    "        'min_child_weight': [1, 5, 10],\n",
    "        'gamma': [0.5, 1, 1.5, 2, 5],\n",
    "        'subsample': [0.6, 0.8, 1.0],\n",
    "        'colsample_bytree': [0.6, 0.8, 1.0],\n",
    "        'max_depth': [3, 4, 5]\n",
    "        }\n",
    "        \n",
    "xgb = XGBClassifier(learning_rate=0.02, n_estimators=600, objective='binary:logistic',\n",
    "                    silent=True, nthread=1)"
   ]
  },
  {
   "cell_type": "code",
   "execution_count": 155,
   "metadata": {
    "colab": {
     "base_uri": "https://localhost:8080/"
    },
    "executionInfo": {
     "elapsed": 32099,
     "status": "ok",
     "timestamp": 1631299931709,
     "user": {
      "displayName": "MARIA INES STIMOLO",
      "photoUrl": "https://lh3.googleusercontent.com/a-/AOh14GiiSi_WlVy1nGXfjnRzL2LpjvRn_JZOB4OpoMFb=s64",
      "userId": "01469115874005837220"
     },
     "user_tz": 180
    },
    "id": "0AcXrKg_Xgh6",
    "outputId": "45412a10-ab85-43ea-915d-fa59d4d86402"
   },
   "outputs": [
    {
     "name": "stdout",
     "output_type": "stream",
     "text": [
      "Fitting 3 folds for each of 5 candidates, totalling 15 fits\n"
     ]
    },
    {
     "name": "stderr",
     "output_type": "stream",
     "text": [
      "[Parallel(n_jobs=4)]: Using backend LokyBackend with 4 concurrent workers.\n",
      "[Parallel(n_jobs=4)]: Done  15 out of  15 | elapsed:   29.1s finished\n"
     ]
    },
    {
     "name": "stdout",
     "output_type": "stream",
     "text": [
      "\n",
      " Mejores hyperparametros:\n",
      "{'subsample': 1.0, 'min_child_weight': 5, 'max_depth': 5, 'gamma': 5, 'colsample_bytree': 0.6}\n"
     ]
    }
   ],
   "source": [
    "folds = 3\n",
    "param_comb = 5\n",
    "\n",
    "skf = StratifiedKFold(n_splits=folds, shuffle = True, random_state = 1001)\n",
    "\n",
    "random_search = RandomizedSearchCV(xgb, param_distributions=params, n_iter=param_comb, n_jobs=4, cv=skf.split(X_train,y_train), verbose=3, random_state=1001 )\n",
    "\n",
    "#start_time = timer(None) # timing starts from this point for \"start_time\" variable\n",
    "random_search.fit(X_train,y_train)\n",
    "#timer(start_time) # timing ends here for \"start_time\" variable\n",
    "\n",
    "print('\\n Mejores hyperparametros:')\n",
    "print(random_search.best_params_)\n",
    "results = pd.DataFrame(random_search.cv_results_)\n"
   ]
  },
  {
   "cell_type": "code",
   "execution_count": 156,
   "metadata": {
    "executionInfo": {
     "elapsed": 51,
     "status": "ok",
     "timestamp": 1631299931711,
     "user": {
      "displayName": "MARIA INES STIMOLO",
      "photoUrl": "https://lh3.googleusercontent.com/a-/AOh14GiiSi_WlVy1nGXfjnRzL2LpjvRn_JZOB4OpoMFb=s64",
      "userId": "01469115874005837220"
     },
     "user_tz": 180
    },
    "id": "SKbfIRGFCb9o"
   },
   "outputs": [],
   "source": [
    "\n",
    "from xgboost import XGBClassifier\n",
    "from datetime import datetime"
   ]
  },
  {
   "cell_type": "code",
   "execution_count": 157,
   "metadata": {
    "colab": {
     "base_uri": "https://localhost:8080/"
    },
    "executionInfo": {
     "elapsed": 3694,
     "status": "ok",
     "timestamp": 1631299935357,
     "user": {
      "displayName": "MARIA INES STIMOLO",
      "photoUrl": "https://lh3.googleusercontent.com/a-/AOh14GiiSi_WlVy1nGXfjnRzL2LpjvRn_JZOB4OpoMFb=s64",
      "userId": "01469115874005837220"
     },
     "user_tz": 180
    },
    "id": "S_AGMUL1jqez",
    "outputId": "5c4fce2b-051b-400d-cfc4-d93a6a114cc6"
   },
   "outputs": [
    {
     "name": "stdout",
     "output_type": "stream",
     "text": [
      "Accuracy of XGBClassifier on test set: 0.60\n"
     ]
    }
   ],
   "source": [
    "xgb = XGBClassifier(base_score=0.5, booster='gbtree', colsample_bylevel=1,\n",
    "       colsample_bytree=0.6, gamma=5, learning_rate=0.02,\n",
    "       max_delta_step=0, max_depth=5, min_child_weight=5, missing=None,\n",
    "       n_estimators=600, n_jobs=1, nthread=1, objective='multi:softprob',\n",
    "       random_state=0, reg_alpha=0, reg_lambda=1, scale_pos_weight=1,\n",
    "       seed=None, silent=True, subsample=0.6)\n",
    "\n",
    "XGB=xgb.fit(X_train,y_train)\n",
    "\n",
    "y_pred_xgb = xgb.predict(X_test)\n",
    "\n",
    "print('Accuracy of XGBClassifier on test set: {:.2f}'.format(xgb.score(X_test, y_test)))"
   ]
  },
  {
   "cell_type": "code",
   "execution_count": 158,
   "metadata": {
    "colab": {
     "base_uri": "https://localhost:8080/"
    },
    "executionInfo": {
     "elapsed": 45,
     "status": "ok",
     "timestamp": 1631299935359,
     "user": {
      "displayName": "MARIA INES STIMOLO",
      "photoUrl": "https://lh3.googleusercontent.com/a-/AOh14GiiSi_WlVy1nGXfjnRzL2LpjvRn_JZOB4OpoMFb=s64",
      "userId": "01469115874005837220"
     },
     "user_tz": 180
    },
    "id": "kR0njo6_ks00",
    "outputId": "d39c4fad-c66b-45a9-c80d-89fcddf6c692"
   },
   "outputs": [
    {
     "name": "stdout",
     "output_type": "stream",
     "text": [
      "              precision    recall  f1-score   support\n",
      "\n",
      "           1      0.623     0.772     0.689        92\n",
      "           2      0.526     0.504     0.514       141\n",
      "           3      0.676     0.538     0.599       186\n",
      "           4      0.554     0.709     0.622        79\n",
      "\n",
      "    accuracy                          0.598       498\n",
      "   macro avg      0.595     0.630     0.606       498\n",
      "weighted avg      0.604     0.598     0.595       498\n",
      "\n",
      "accuracy:  0.5983935742971888\n"
     ]
    }
   ],
   "source": [
    "# Report\n",
    "print(metrics.classification_report(y_pred_xgb,y_test, digits = 3))\n",
    "print('accuracy: ', metrics.accuracy_score(y_pred_xgb,y_test))"
   ]
  },
  {
   "cell_type": "code",
   "execution_count": 159,
   "metadata": {
    "colab": {
     "base_uri": "https://localhost:8080/",
     "height": 581
    },
    "executionInfo": {
     "elapsed": 1007,
     "status": "ok",
     "timestamp": 1631299936333,
     "user": {
      "displayName": "MARIA INES STIMOLO",
      "photoUrl": "https://lh3.googleusercontent.com/a-/AOh14GiiSi_WlVy1nGXfjnRzL2LpjvRn_JZOB4OpoMFb=s64",
      "userId": "01469115874005837220"
     },
     "user_tz": 180
    },
    "id": "BRelbMGTlD1c",
    "outputId": "dd19c4fc-9214-452b-eee7-07e6d96b0109"
   },
   "outputs": [
    {
     "data": {
      "image/png": "[encoded data removed]",
      "text/plain": [
       "<Figure size 432x288 with 2 Axes>"
      ]
     },
     "metadata": {},
     "output_type": "display_data"
    },
    {
     "data": {
      "image/png": "[encoded data removed]",
      "text/plain": [
       "<Figure size 432x288 with 2 Axes>"
      ]
     },
     "metadata": {},
     "output_type": "display_data"
    }
   ],
   "source": [
    "for title, normalize in titles_options:\n",
    "    disp = plot_confusion_matrix(XGB, X_test, y_test,\n",
    "                                  display_labels=['1', '2', '3', '4'],\n",
    "                                  cmap='Blues',\n",
    "                                  normalize=normalize)\n",
    "    disp.ax_.set_title(title)"
   ]
  },
  {
   "cell_type": "markdown",
   "metadata": {
    "id": "qi-1kPRyrVo2"
   },
   "source": [
    "#**Random forest**"
   ]
  },
  {
   "cell_type": "code",
   "execution_count": 160,
   "metadata": {
    "colab": {
     "base_uri": "https://localhost:8080/"
    },
    "executionInfo": {
     "elapsed": 41,
     "status": "ok",
     "timestamp": 1631299936337,
     "user": {
      "displayName": "MARIA INES STIMOLO",
      "photoUrl": "https://lh3.googleusercontent.com/a-/AOh14GiiSi_WlVy1nGXfjnRzL2LpjvRn_JZOB4OpoMFb=s64",
      "userId": "01469115874005837220"
     },
     "user_tz": 180
    },
    "id": "cSYRbSXDreuE",
    "outputId": "9806bf15-84ce-4028-de6e-76b4c2fd01a5"
   },
   "outputs": [
    {
     "name": "stdout",
     "output_type": "stream",
     "text": [
      "Accuracy of XGBClassifier on test set: 0.61\n"
     ]
    }
   ],
   "source": [
    "from sklearn.ensemble import RandomForestClassifier\n",
    "\n",
    "#Create a Gaussian Classifier\n",
    "RF=RandomForestClassifier(n_estimators=100)\n",
    "\n",
    "#Train the model using the training sets y_pred=clf.predict(X_test)\n",
    "RF.fit(X_train,y_train)\n",
    "\n",
    "# prediction on test set\n",
    "y_pred_RF=RF.predict(X_test)\n",
    "\n",
    "#Import scikit-learn metrics module for accuracy calculation\n",
    "from sklearn import metrics\n",
    "print('Accuracy of XGBClassifier on test set: {:.2f}'.format(RF.score(X_test, y_test)))\n"
   ]
  },
  {
   "cell_type": "code",
   "execution_count": 161,
   "metadata": {
    "colab": {
     "base_uri": "https://localhost:8080/"
    },
    "executionInfo": {
     "elapsed": 31,
     "status": "ok",
     "timestamp": 1631299936339,
     "user": {
      "displayName": "MARIA INES STIMOLO",
      "photoUrl": "https://lh3.googleusercontent.com/a-/AOh14GiiSi_WlVy1nGXfjnRzL2LpjvRn_JZOB4OpoMFb=s64",
      "userId": "01469115874005837220"
     },
     "user_tz": 180
    },
    "id": "LWLiCCd4s5h0",
    "outputId": "2bc54902-1018-4e0a-e90e-841b324f6dd2"
   },
   "outputs": [
    {
     "name": "stdout",
     "output_type": "stream",
     "text": [
      "              precision    recall  f1-score   support\n",
      "\n",
      "           1      0.640     0.777     0.702        94\n",
      "           2      0.526     0.500     0.513       142\n",
      "           3      0.649     0.545     0.593       176\n",
      "           4      0.614     0.721     0.663        86\n",
      "\n",
      "    accuracy                          0.606       498\n",
      "   macro avg      0.607     0.636     0.618       498\n",
      "weighted avg      0.606     0.606     0.603       498\n",
      "\n",
      "accuracy:  0.606425702811245\n"
     ]
    }
   ],
   "source": [
    "# Report\n",
    "print(metrics.classification_report(y_pred_RF,y_test, digits = 3))\n",
    "print('accuracy: ', metrics.accuracy_score(y_pred_RF,y_test))"
   ]
  },
  {
   "cell_type": "code",
   "execution_count": 162,
   "metadata": {
    "colab": {
     "base_uri": "https://localhost:8080/",
     "height": 581
    },
    "executionInfo": {
     "elapsed": 919,
     "status": "ok",
     "timestamp": 1631299937237,
     "user": {
      "displayName": "MARIA INES STIMOLO",
      "photoUrl": "https://lh3.googleusercontent.com/a-/AOh14GiiSi_WlVy1nGXfjnRzL2LpjvRn_JZOB4OpoMFb=s64",
      "userId": "01469115874005837220"
     },
     "user_tz": 180
    },
    "id": "dQ101fpOtFp_",
    "outputId": "15890d56-09b6-49d2-e8a2-995a40d955b4"
   },
   "outputs": [
    {
     "data": {
      "image/png": "[encoded data removed]",
      "text/plain": [
       "<Figure size 432x288 with 2 Axes>"
      ]
     },
     "metadata": {},
     "output_type": "display_data"
    },
    {
     "data": {
      "image/png": "[encoded data removed]",
      "text/plain": [
       "<Figure size 432x288 with 2 Axes>"
      ]
     },
     "metadata": {},
     "output_type": "display_data"
    }
   ],
   "source": [
    "for title, normalize in titles_options:\n",
    "    disp = plot_confusion_matrix(RF, X_test, y_test,\n",
    "                                  display_labels=['1', '2', '3', '4'],\n",
    "                                  cmap='Blues',\n",
    "                                  normalize=normalize)\n",
    "    disp.ax_.set_title(title)"
   ]
  }
 ],
 "metadata": {
  "colab": {
   "name": "Ejemplo_banco_comp_clasificación_Niv_cons.ipynb",
   "provenance": [
    {
     "file_id": "1Id_1FUVCQNOy8niafhY184K9NgbUeeTa",
     "timestamp": 1631068299899
    },
    {
     "file_id": "18jPxojx9bxyF_OtjaqVa_nR1CBobf4Ev",
     "timestamp": 1630696722663
    }
   ]
  },
  "kernelspec": {
   "display_name": "Python 3",
   "language": "python",
   "name": "python3"
  },
  "language_info": {
   "codemirror_mode": {
    "name": "ipython",
    "version": 3
   },
   "file_extension": ".py",
   "mimetype": "text/x-python",
   "name": "python",
   "nbconvert_exporter": "python",
   "pygments_lexer": "ipython3",
   "version": "3.7.3"
  }
 },
 "nbformat": 4,
 "nbformat_minor": 1
}
