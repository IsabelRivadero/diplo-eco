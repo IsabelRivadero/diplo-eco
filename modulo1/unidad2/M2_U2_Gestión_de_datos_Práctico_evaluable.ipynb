{
 "cells": [
  {
   "cell_type": "markdown",
   "metadata": {
    "id": "7cUqukj4_P_A"
   },
   "source": [
    "![img](https://drive.google.com/uc?export=view&id=1kgX98Ziw9LzgBCT2BxChttfrTcBltLej)\n"
   ]
  },
  {
   "cell_type": "markdown",
   "metadata": {
    "id": "mgqhxY2yCx6i"
   },
   "source": [
    "# MÓDULO 2. Unidad 2 - Trabajo práctico evaluable.\n",
    "\n",
    "---\n",
    "•\tSe trata de un trabajo práctico integrador de pre-procesamiento de un archivo de datos, con el objetivo de realizar un Análisis exploratorio del mismo (EDA).\n",
    "•\tLos alumnos podrán trabajar con un set de datos propio o usar el provisto por la docente.\n",
    "•\tLas consignas se entregarán la clase del sábado 19/6 contando con dos horas para comenzar a realizar el trabajo, realizar consultas sobre consignas, etc. Fecha límite de entrega 10/7.  \n",
    "•\tMáximos 6 integrantes. Cada equipo podrá trabajar con una o más bases de datos propias. \n",
    "•\tEl trabajo de procesamiento se podrá realizar en equipos, con la posibilidad de conservar los grupos de la unidad anterior, pero la entrega es individual. Cada alumno deberá agregar las anotaciones, interpretaciones, conclusiones, observaciones, etc. Individualmente. Es decir, el trabajo en grupo se propone para que brinden apoyo e intercambien conocimientos en cuanto al procesamiento o elaboración del código.  \n",
    "•\tPor lo tanto, la entrega se concreta mediante el envío individual de la Notebook al correspondiente buzón de tarea disponible en el Aula Virtual. \n",
    "•\tEl envío puede compartiendo el link, si trabajó en Colab, enviando la notebook si trabajó localmente en su equipo.\n",
    "•\tSi el equipo no cuenta con un set de datos para realizar el trabajo (o el que consigue no es apropiado para responder las consignas), el docente le proveerá una. \n"
   ]
  },
  {
   "cell_type": "markdown",
   "metadata": {
    "id": "7ZzjJ_RRlRje"
   },
   "source": [
    "# Creterios de evaluación.\n",
    "•\tLa notebook debe ser legible, y tener las respuestas en lenguaje natural (las interpretaciones, conclusiones, justificaciones).  Es decir, no es suficiente con calcular los valores, dejando sólo el código. Las interpretaciones/conclusiones de los resultados son importantes y deben elaborarse de manera individual.\n",
    "•\tEl repositorio debe ser autocontenido, con indicaciones de librerías a instalar y links para descargar los datos utilizados.\n"
   ]
  },
  {
   "cell_type": "markdown",
   "metadata": {
    "id": "n23l-yT5_Dil"
   },
   "source": [
    "**\"Mundo real\"** Identificar, descubrir una situación problemática que esté afectando a la organización. Este descubrimiento implica obtener información de todas las *fuentes internas y externas* conocidas que respondan al tal situación. "
   ]
  },
  {
   "cell_type": "markdown",
   "metadata": {
    "id": "xEJfhuk7lgKB"
   },
   "source": [
    "# 1. CONTEXTO\n",
    "\n",
    "Hace un poco más de un año atrás muchos no imaginamos una situación de crisis global como la que nos encontramos atravesando. La propagación de la pandemia por el coronavirus, el impacto en las economías familiares provoca que consumidores que, en una situación normal nunca dejarían de pagar, puedan estar enfrentando una situación inesperada, que los arrastra a estar en importantes dificultades.  Así las familias terminan reevaluando los servicios que consumen y en consecuencia a considerar cancelar o cambiar de proveedor, buscando alternativas más económicas.\n",
    "En este momento, la mayoría de las compañías enfrentan el reto de brindar de forma consistente el nivel de experiencias personalizadas que los clientes esperan, en múltiples puntos de contacto. Aspiran a proponer ofertas relevantes en tiempo real, como mayor velocidad u opciones para recargar cuentas. Otra beta es el desarrollo de programas de lealtad efectivos y convertir datos muy voluminosos en insights en tiempo real que se puedan utilizar para orientar las decisiones de negocios. \n",
    "Asimismo, resulta difícil anticipar con precisión la pérdida de clientes, evaluar la rentabilidad de los clientes y entender el valor de por vida de un cliente.\n",
    "\n",
    "Existen particulares desarrollos de nuevos modelos de pérdida de clientes, considerando la nueva situación económica (mundo en pandemia) que logran implementarse a tiempo, para retener a los clientes. \n",
    "\n",
    "El objetivo general es proporcionar una solución completa de inteligencia de clientes, que ayude a una empresa a anticipar y reducir la pérdida de clientes, conocer la siguiente mejor oferta y mejorar la experiencia para el cliente a través de múltiples canales. \n"
   ]
  },
  {
   "cell_type": "markdown",
   "metadata": {
    "id": "do4t0MwnAPYf"
   },
   "source": [
    "# 2. Proyecto: Retención en telefonía móvil \n",
    "**Contenido del Archivo de datos:**\n",
    "Contiene 7043 filas (clientes) y 21 columnas (características).\n",
    "La columna \"Churn\" es nuestro variable target.\n",
    "Cada fila representa un cliente, cada columna contiene los atributos del cliente descritos en la columna Metadatos.\n",
    "\n",
    "**El conjunto de datos incluye información sobre:**\n",
    "Clientes que se fueron en el último mes. Columna Churn (Renuncia)\n",
    "Servicios a los que se ha suscrito cada cliente: phone, multiple lines, internet, online security, online backup, device protection, tech support, and streaming TV and movies.\n",
    "Información de la cuenta del cliente: cuánto tiempo ha sido cliente, contrato, método de pago, facturación electrónica, cargos mensuales y cargos totales.\n",
    "Información demográfica sobre los clientes: sexo, rango de edad y si tienen socios y dependientes\n",
    "[Fuente](https://www.kaggle.com/blastchar/telco-customer-churn)\n"
   ]
  },
  {
   "cell_type": "markdown",
   "metadata": {
    "id": "S-7QFC3veHix"
   },
   "source": [
    "**Variables**\n",
    "![img](https://drive.google.com/uc?export=view&id=1RrwEJa7mm0MsLMgyBt-J4jvgmFpeo4-s) "
   ]
  },
  {
   "cell_type": "markdown",
   "metadata": {
    "id": "N-b0ssnalrk6"
   },
   "source": [
    "## EJERCICIOS\n"
   ]
  },
  {
   "cell_type": "code",
   "execution_count": null,
   "metadata": {
    "id": "B0Yb19t0Lpvi"
   },
   "outputs": [],
   "source": [
    "import matplotlib.pyplot as plt\n",
    "import numpy\n",
    "import pandas as pd\n",
    "import seaborn\n",
    "seaborn.set_context('talk')"
   ]
  },
  {
   "cell_type": "markdown",
   "metadata": {
    "id": "1GEQg1Rnou84"
   },
   "source": [
    "**EJERCICIO N° 1**\n",
    "\n",
    "Basándose en los pasos vistos en EDA, investigar la distribución de las variables del conjunto de datos y seleccionar un subconjunto de columnas que les parezcan relevantes al problema de predicción  de abandono de cliente.(Churn).\n",
    "\n",
    "Justificar cada columna no seleccionada. Intente conservar variables de distito tipo\n",
    "\n",
    "* Para las variables categóricas seleccionadas, agrupe o combine las categorías poco frecuentes o con significados similares.\n",
    "* Eliminar los valores extremos que no sean relevantes para la predicción. (O el objetivo que se ha planteado)\n",
    "* Realice un completo análisis (EDA) y documente la información que resulte relevate para reportar, considerando el objetivo planteado."
   ]
  },
  {
   "cell_type": "markdown",
   "metadata": {
    "id": "buT6uXpgp4yc"
   },
   "source": [
    "**No olvide!**\n",
    "\n",
    "Crear y guardar un nuevo conjunto de datos con todas las transformaciones realizadas anteriormente al conjunto original."
   ]
  }
 ],
 "metadata": {
  "colab": {
   "collapsed_sections": [
    "mgqhxY2yCx6i"
   ],
   "name": "M2.U2 Gestión de datos -Práctico evaluable.ipynb",
   "provenance": []
  },
  "kernelspec": {
   "display_name": "Python 3",
   "language": "python",
   "name": "python3"
  },
  "language_info": {
   "codemirror_mode": {
    "name": "ipython",
    "version": 3
   },
   "file_extension": ".py",
   "mimetype": "text/x-python",
   "name": "python",
   "nbconvert_exporter": "python",
   "pygments_lexer": "ipython3",
   "version": "3.7.3"
  }
 },
 "nbformat": 4,
 "nbformat_minor": 1
}
