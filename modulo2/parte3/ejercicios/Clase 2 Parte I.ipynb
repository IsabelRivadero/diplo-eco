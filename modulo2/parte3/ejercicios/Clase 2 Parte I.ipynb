{
 "cells": [
  {
   "cell_type": "markdown",
   "metadata": {
    "id": "7ADlDNmccSq7"
   },
   "source": [
    "#**Herramientas de econometría: Clase 2 Parte I**"
   ]
  },
  {
   "cell_type": "markdown",
   "metadata": {
    "id": "dcfhcRdBvKq7"
   },
   "source": [
    "##**Preparación del entorno**"
   ]
  },
  {
   "cell_type": "markdown",
   "metadata": {
    "id": "XLzyf2VeBmKT"
   },
   "source": [
    "Volvemos a importamos las librerías que necesitamos"
   ]
  },
  {
   "cell_type": "code",
   "execution_count": 1,
   "metadata": {
    "colab": {
     "base_uri": "https://localhost:8080/"
    },
    "executionInfo": {
     "elapsed": 1759,
     "status": "ok",
     "timestamp": 1631911210099,
     "user": {
      "displayName": "Sergio Martín Buzzi",
      "photoUrl": "https://lh3.googleusercontent.com/a/default-user=s64",
      "userId": "07651094353741333090"
     },
     "user_tz": 180
    },
    "id": "TrE1weD9bSTU",
    "outputId": "1c92c66c-24b1-48e6-9c72-19addfbe95d3"
   },
   "outputs": [],
   "source": [
    "import numpy as np                          # analisis numérico \n",
    "import pandas as pd                         # manejo de datos\n",
    "import statsmodels.api as sm                # modelos estadísticos\n",
    "import statsmodels.stats.api as sms         # módulo stats de statsmodels\n",
    "import matplotlib.pyplot as plt             # gráficos básicos\n",
    "import seaborn as sns                       # gráficos más avanzados\n",
    "%matplotlib inline\n",
    "plt.style.use(\"seaborn-white\")"
   ]
  },
  {
   "cell_type": "markdown",
   "metadata": {
    "id": "8AT-K1t6vlmF"
   },
   "source": [
    "##**Importación y exploración de los datos**"
   ]
  },
  {
   "cell_type": "markdown",
   "metadata": {
    "id": "qyCq0qlKB1An"
   },
   "source": [
    "Seguiremos trabajando con los datos que venimos utilizando de la primera clase, que eran datos de un ejemplo del libro de Gujarati y Porter (2010) guardados en el archivo GujaratiPorter71.txt. \n",
    "\n",
    "Importamos la base de datos en un data frame."
   ]
  },
  {
   "cell_type": "code",
   "execution_count": 2,
   "metadata": {
    "executionInfo": {
     "elapsed": 684,
     "status": "ok",
     "timestamp": 1631911210781,
     "user": {
      "displayName": "Sergio Martín Buzzi",
      "photoUrl": "https://lh3.googleusercontent.com/a/default-user=s64",
      "userId": "07651094353741333090"
     },
     "user_tz": 180
    },
    "id": "iZxCgXxFdHNF"
   },
   "outputs": [],
   "source": [
    "path = 'https://drive.google.com/uc?export=download&id=1jV5k9TcTpOzQT1l-hfOc5n617Lwh3-WV'\n",
    "data = pd.read_csv(path, sep = \" \", delimiter = \"\\t\")"
   ]
  },
  {
   "cell_type": "markdown",
   "metadata": {
    "id": "gs8x8qOnB5zU"
   },
   "source": [
    "Revisamos que la importación haya sido exitosa"
   ]
  },
  {
   "cell_type": "code",
   "execution_count": 3,
   "metadata": {
    "colab": {
     "base_uri": "https://localhost:8080/",
     "height": 235
    },
    "executionInfo": {
     "elapsed": 4,
     "status": "ok",
     "timestamp": 1631911211650,
     "user": {
      "displayName": "Sergio Martín Buzzi",
      "photoUrl": "https://lh3.googleusercontent.com/a/default-user=s64",
      "userId": "07651094353741333090"
     },
     "user_tz": 180
    },
    "id": "GhQjvdaxbSTa",
    "outputId": "74a9d0f5-081b-44d9-ead3-09bacbc6e9b9"
   },
   "outputs": [
    {
     "data": {
      "text/html": [
       "<div>\n",
       "<style scoped>\n",
       "    .dataframe tbody tr th:only-of-type {\n",
       "        vertical-align: middle;\n",
       "    }\n",
       "\n",
       "    .dataframe tbody tr th {\n",
       "        vertical-align: top;\n",
       "    }\n",
       "\n",
       "    .dataframe thead th {\n",
       "        text-align: right;\n",
       "    }\n",
       "</style>\n",
       "<table border=\"1\" class=\"dataframe\">\n",
       "  <thead>\n",
       "    <tr style=\"text-align: right;\">\n",
       "      <th></th>\n",
       "      <th>CM</th>\n",
       "      <th>FLR</th>\n",
       "      <th>PGNP</th>\n",
       "      <th>TFR</th>\n",
       "    </tr>\n",
       "  </thead>\n",
       "  <tbody>\n",
       "    <tr>\n",
       "      <th>1</th>\n",
       "      <td>204</td>\n",
       "      <td>22</td>\n",
       "      <td>130</td>\n",
       "      <td>6.15</td>\n",
       "    </tr>\n",
       "    <tr>\n",
       "      <th>54</th>\n",
       "      <td>79</td>\n",
       "      <td>43</td>\n",
       "      <td>1340</td>\n",
       "      <td>7.17</td>\n",
       "    </tr>\n",
       "    <tr>\n",
       "      <th>12</th>\n",
       "      <td>24</td>\n",
       "      <td>93</td>\n",
       "      <td>1730</td>\n",
       "      <td>3.50</td>\n",
       "    </tr>\n",
       "    <tr>\n",
       "      <th>11</th>\n",
       "      <td>129</td>\n",
       "      <td>55</td>\n",
       "      <td>900</td>\n",
       "      <td>5.99</td>\n",
       "    </tr>\n",
       "    <tr>\n",
       "      <th>5</th>\n",
       "      <td>209</td>\n",
       "      <td>26</td>\n",
       "      <td>200</td>\n",
       "      <td>6.44</td>\n",
       "    </tr>\n",
       "    <tr>\n",
       "      <th>3</th>\n",
       "      <td>197</td>\n",
       "      <td>65</td>\n",
       "      <td>570</td>\n",
       "      <td>6.25</td>\n",
       "    </tr>\n",
       "  </tbody>\n",
       "</table>\n",
       "</div>"
      ],
      "text/plain": [
       "     CM  FLR  PGNP   TFR\n",
       "1   204   22   130  6.15\n",
       "54   79   43  1340  7.17\n",
       "12   24   93  1730  3.50\n",
       "11  129   55   900  5.99\n",
       "5   209   26   200  6.44\n",
       "3   197   65   570  6.25"
      ]
     },
     "execution_count": 3,
     "metadata": {},
     "output_type": "execute_result"
    }
   ],
   "source": [
    "data.sample(6)"
   ]
  },
  {
   "cell_type": "markdown",
   "metadata": {
    "id": "ytO6nt8cqtxm"
   },
   "source": [
    "Recordemos que los significados de estas variables eran son los siguientes:\n",
    "\n",
    "* **CM**: child mortality (mortalidad infantil, fallecimientos en un año de niños menores a 5 años por cada 1000 nacidos vivos)\n",
    "* **FLR**: female literacy rate (tasa de alfabetización de las mujeres)  \n",
    "* **PGNP**: Per cápita Gross National Product (PIB per cápita en 1980)\n",
    "* **TFR**: total fertility rate (tasa de fecundidad total)"
   ]
  },
  {
   "cell_type": "markdown",
   "metadata": {
    "id": "GkLCDBj1xvQ9"
   },
   "source": [
    "##**Especificación y estimación**\n",
    "\n",
    "En el ejemplo que venimos viendo nos interesa relacionar CM (mortalidad infantil) en función de FLR (tasa de alfabetización de las mujeres), PGNP (PIB per cápita) y TFR (tasa de fertilidad)."
   ]
  },
  {
   "cell_type": "markdown",
   "metadata": {
    "id": "kLv12XkNDQHl"
   },
   "source": [
    "Para esto, volveremos a estimar el modelo por OLS, pero primero era recomendable asignar las variables a objetos. "
   ]
  },
  {
   "cell_type": "code",
   "execution_count": 4,
   "metadata": {
    "executionInfo": {
     "elapsed": 3,
     "status": "ok",
     "timestamp": 1631911215796,
     "user": {
      "displayName": "Sergio Martín Buzzi",
      "photoUrl": "https://lh3.googleusercontent.com/a/default-user=s64",
      "userId": "07651094353741333090"
     },
     "user_tz": 180
    },
    "id": "onl78HUIbSTl"
   },
   "outputs": [],
   "source": [
    "Y = data[\"CM\"]\n",
    "X = data[[\"FLR\", \"PGNP\", \"TFR\"]]"
   ]
  },
  {
   "cell_type": "markdown",
   "metadata": {
    "id": "b27KPZNUDeLW"
   },
   "source": [
    "Ahora sí volvamos a estimar nuestro modelo por OLS utilizando la función `OLS()` de la librería `statsmodels` para su especificación y los métodos `fit()` y `summary()` para la etimación y presentación de los resultados."
   ]
  },
  {
   "cell_type": "code",
   "execution_count": 5,
   "metadata": {
    "colab": {
     "base_uri": "https://localhost:8080/"
    },
    "executionInfo": {
     "elapsed": 7,
     "status": "ok",
     "timestamp": 1631911216466,
     "user": {
      "displayName": "Sergio Martín Buzzi",
      "photoUrl": "https://lh3.googleusercontent.com/a/default-user=s64",
      "userId": "07651094353741333090"
     },
     "user_tz": 180
    },
    "id": "2IrxFnkkbSTl",
    "outputId": "3ef9bf2c-dfcf-487e-81b6-a785e5b0c7aa"
   },
   "outputs": [
    {
     "name": "stdout",
     "output_type": "stream",
     "text": [
      "                            OLS Regression Results                            \n",
      "==============================================================================\n",
      "Dep. Variable:                     CM   R-squared:                       0.747\n",
      "Model:                            OLS   Adj. R-squared:                  0.735\n",
      "Method:                 Least Squares   F-statistic:                     59.17\n",
      "Date:                Fri, 17 Sep 2021   Prob (F-statistic):           6.46e-18\n",
      "Time:                        18:30:49   Log-Likelihood:                -323.43\n",
      "No. Observations:                  64   AIC:                             654.9\n",
      "Df Residuals:                      60   BIC:                             663.5\n",
      "Df Model:                           3                                         \n",
      "Covariance Type:            nonrobust                                         \n",
      "==============================================================================\n",
      "                 coef    std err          t      P>|t|      [0.025      0.975]\n",
      "------------------------------------------------------------------------------\n",
      "const        168.3067     32.892      5.117      0.000     102.514     234.100\n",
      "FLR           -1.7680      0.248     -7.129      0.000      -2.264      -1.272\n",
      "PGNP          -0.0055      0.002     -2.934      0.005      -0.009      -0.002\n",
      "TFR           12.8686      4.191      3.071      0.003       4.486      21.251\n",
      "==============================================================================\n",
      "Omnibus:                        1.103   Durbin-Watson:                   2.170\n",
      "Prob(Omnibus):                  0.576   Jarque-Bera (JB):                0.509\n",
      "Skew:                           0.145   Prob(JB):                        0.775\n",
      "Kurtosis:                       3.327   Cond. No.                     2.06e+04\n",
      "==============================================================================\n",
      "\n",
      "Notes:\n",
      "[1] Standard Errors assume that the covariance matrix of the errors is correctly specified.\n",
      "[2] The condition number is large, 2.06e+04. This might indicate that there are\n",
      "strong multicollinearity or other numerical problems.\n"
     ]
    }
   ],
   "source": [
    "MiModelo = sm.OLS(Y, sm.add_constant(X))  # Construimos el modelo (agregando una constante con add_constant de Statsmodels)\n",
    "Resultados = MiModelo.fit()               # Estimamos el modelo y guardamos los resultados\n",
    "print(Resultados.summary())               # Mostramos los resultados"
   ]
  },
  {
   "cell_type": "markdown",
   "metadata": {
    "id": "VAq5tB3eQVGf"
   },
   "source": [
    "Será necesario también que guardemos los residuos y los valores ajustados de este modelo porque muchos métodos que aplicaremos luego están basados en ellos."
   ]
  },
  {
   "cell_type": "code",
   "execution_count": 6,
   "metadata": {
    "executionInfo": {
     "elapsed": 236,
     "status": "ok",
     "timestamp": 1631911218398,
     "user": {
      "displayName": "Sergio Martín Buzzi",
      "photoUrl": "https://lh3.googleusercontent.com/a/default-user=s64",
      "userId": "07651094353741333090"
     },
     "user_tz": 180
    },
    "id": "w90ryJLMbSTn"
   },
   "outputs": [],
   "source": [
    "Residuos = Resultados.resid                    # guardamos los residuos\n",
    "Valores_ajustados = Resultados.predict()       # guardamos los valores ajustados"
   ]
  },
  {
   "cell_type": "markdown",
   "metadata": {
    "id": "2oiCdcg3CHPR"
   },
   "source": [
    "##**Diagnóstico: verificación de supuestos sobre el error**\n",
    "\n",
    "Constatemos si la **media de los residuos** es próxima a **cero**."
   ]
  },
  {
   "cell_type": "code",
   "execution_count": 7,
   "metadata": {
    "colab": {
     "base_uri": "https://localhost:8080/"
    },
    "executionInfo": {
     "elapsed": 375,
     "status": "ok",
     "timestamp": 1631911221555,
     "user": {
      "displayName": "Sergio Martín Buzzi",
      "photoUrl": "https://lh3.googleusercontent.com/a/default-user=s64",
      "userId": "07651094353741333090"
     },
     "user_tz": 180
    },
    "id": "oENrSsTICigD",
    "outputId": "f8e57d84-ea11-4914-f4d0-a9db3bdcf9e3"
   },
   "outputs": [
    {
     "data": {
      "text/plain": [
       "5.820899318109696e-13"
      ]
     },
     "execution_count": 7,
     "metadata": {},
     "output_type": "execute_result"
    }
   ],
   "source": [
    "np.mean(Residuos)"
   ]
  },
  {
   "cell_type": "markdown",
   "metadata": {
    "id": "0uOyB8XmCke1"
   },
   "source": [
    "El resultado está expresado en notación exponencial y muestra que la media de los residuos es prácticamente **cero**."
   ]
  },
  {
   "cell_type": "markdown",
   "metadata": {
    "id": "3eWAyNmLE4yj"
   },
   "source": [
    "Otra alternativa para obtener este mismo resultado, en lugar de utilizar la función `mean()` de `numpy`, es recurrir a un método de la siguiente manera:"
   ]
  },
  {
   "cell_type": "code",
   "execution_count": 8,
   "metadata": {
    "colab": {
     "base_uri": "https://localhost:8080/"
    },
    "executionInfo": {
     "elapsed": 7,
     "status": "ok",
     "timestamp": 1631911223483,
     "user": {
      "displayName": "Sergio Martín Buzzi",
      "photoUrl": "https://lh3.googleusercontent.com/a/default-user=s64",
      "userId": "07651094353741333090"
     },
     "user_tz": 180
    },
    "id": "NhJRAYGgFSBR",
    "outputId": "49df8719-1683-479d-d960-e88808d088d5"
   },
   "outputs": [
    {
     "data": {
      "text/plain": [
       "5.820899318109696e-13"
      ]
     },
     "execution_count": 8,
     "metadata": {},
     "output_type": "execute_result"
    }
   ],
   "source": [
    "Residuos.mean()"
   ]
  },
  {
   "cell_type": "markdown",
   "metadata": {
    "id": "fSC-YhDyRbaI"
   },
   "source": [
    "Por las dudas, examinemos también un gráfico de los residuos"
   ]
  },
  {
   "cell_type": "code",
   "execution_count": 9,
   "metadata": {
    "colab": {
     "base_uri": "https://localhost:8080/",
     "height": 394
    },
    "executionInfo": {
     "elapsed": 822,
     "status": "ok",
     "timestamp": 1631911228701,
     "user": {
      "displayName": "Sergio Martín Buzzi",
      "photoUrl": "https://lh3.googleusercontent.com/a/default-user=s64",
      "userId": "07651094353741333090"
     },
     "user_tz": 180
    },
    "id": "I_8Ebm6rGKJv",
    "outputId": "ae196855-13b0-4054-f980-7a765bbeb487"
   },
   "outputs": [
    {
     "data": {
      "image/png": "[encoded data removed]",
      "text/plain": [
       "<Figure size 720x360 with 1 Axes>"
      ]
     },
     "metadata": {},
     "output_type": "display_data"
    }
   ],
   "source": [
    "fig, ax = plt.subplots(figsize = (10,5))\n",
    "fig.suptitle(\"Residuos\", fontsize = 18, fontweight = \"bold\")\n",
    "ax.plot(Residuos, color = \"darkblue\")\n",
    "ax.set_xlabel(\"Observaciones\", fontsize = 15)\n",
    "ax.set_ylabel(\"Residuos\", fontsize = 15)\n",
    "ax.tick_params(labelsize = 14)\n",
    "fig.text(.9,-.02, \"Elaboración propia en base a Triana (2019)\", fontsize = 13, fontweight = \"bold\", ha = \"right\")\n",
    "plt.axhline(y=0,color='red')\n",
    "plt.show()"
   ]
  },
  {
   "cell_type": "markdown",
   "metadata": {
    "id": "Szw7C3cYR0x_"
   },
   "source": [
    "Observar que los residuos se distribuyen por encima y por debajo del cero de manera más o menos uniforme."
   ]
  },
  {
   "cell_type": "markdown",
   "metadata": {
    "id": "M4oVhQ_vFxlZ"
   },
   "source": [
    "###**Heteroscedasticidad**\n",
    "Veamos ahora si se cumple el supuesto de **homoscedasticidad** o varianza constante del error."
   ]
  },
  {
   "cell_type": "markdown",
   "metadata": {
    "id": "XNuhT41wSiEb"
   },
   "source": [
    "Aprovechando el gráfico anterior de los residuos, en principio pareciera que la variabilidad no presenta grandes cambios, por lo cual no parece haber indicios de heteroscedasticidad.\n",
    "\n",
    "Pero para tener más en cuenta la magnitud de los residuos, con independencia de sus signos, es más usual ver el gráfico de los residuos al cuadrado versus los valores ajustados del modelo para revisar si puede haber algún patrón o relación de dependencia."
   ]
  },
  {
   "cell_type": "code",
   "execution_count": 10,
   "metadata": {
    "colab": {
     "base_uri": "https://localhost:8080/",
     "height": 394
    },
    "executionInfo": {
     "elapsed": 382,
     "status": "ok",
     "timestamp": 1630438406148,
     "user": {
      "displayName": "Adrian Maximiliano Moneta Pizarro",
      "photoUrl": "https://lh3.googleusercontent.com/a-/AOh14GiOIt9PcT6Qg_RVr6d65mtb23o5uWmfH5VSfw5t=s64",
      "userId": "00392462548663890204"
     },
     "user_tz": 180
    },
    "id": "2rkfmI02ISDQ",
    "outputId": "ec132b0a-2f19-42da-e03e-5721ca48308b"
   },
   "outputs": [
    {
     "data": {
      "image/png": "[encoded data removed]",
      "text/plain": [
       "<Figure size 720x360 with 1 Axes>"
      ]
     },
     "metadata": {},
     "output_type": "display_data"
    }
   ],
   "source": [
    "fig, ax = plt.subplots(figsize = (10,5))\n",
    "fig.suptitle(\"Residuos cuadrados vs.\\nvalores ajustados\", fontsize = 18, fontweight = \"bold\")\n",
    "ax.scatter(Valores_ajustados, Residuos**2, color = \"darkblue\")                  # ** es el operador potencia\n",
    "ax.set_xlabel(\"Valores ajustados de la variable dependiente\", fontsize = 15)\n",
    "ax.set_ylabel(\"Residuos cuadrados\", fontsize = 15)\n",
    "ax.tick_params(labelsize = 14)\n",
    "fig.text(.9,-.02, \"Elaboración propia en base a Triana (2019)\", fontsize = 13, fontweight = \"bold\", ha = \"right\")\n",
    "plt.subplots_adjust(top = 0.85)\n",
    "plt.show()"
   ]
  },
  {
   "cell_type": "markdown",
   "metadata": {
    "id": "rM7dLJgzJsdb"
   },
   "source": [
    "Observando este último gráfico, da la impresión de que la varianza se va incrementando a medida que aumentan los valores ajustados de la variable dependiente (que a su vez son función de las variables explicativas del modelo). Por lo tanto, tenemos un indicio de **posible heteroscedasticidad** que es conveniente revisar con algún contraste más formal."
   ]
  },
  {
   "cell_type": "markdown",
   "metadata": {
    "id": "RyrP6vryNJRV"
   },
   "source": [
    "Para esto podemos recurrir a un contraste general de heteroscedasticidad como es el test de **White**, que es una prueba de multiplicadores de Lagrange (LM test). Para llevar adelante este contraste tenemos la función `het_white()` de `statsmodels.stats`. Sus argumentos son los residuos del modelo y el conjunto de variables explicativas del modelo que, si el modelo tiene constante, es bueno tener guardado en un objeto (que volveremos a llamar exog)."
   ]
  },
  {
   "cell_type": "code",
   "execution_count": 11,
   "metadata": {
    "colab": {
     "base_uri": "https://localhost:8080/"
    },
    "executionInfo": {
     "elapsed": 480,
     "status": "ok",
     "timestamp": 1630438413093,
     "user": {
      "displayName": "Adrian Maximiliano Moneta Pizarro",
      "photoUrl": "https://lh3.googleusercontent.com/a-/AOh14GiOIt9PcT6Qg_RVr6d65mtb23o5uWmfH5VSfw5t=s64",
      "userId": "00392462548663890204"
     },
     "user_tz": 180
    },
    "id": "B9Fq4AJF67MM",
    "outputId": "da79b803-1f57-4e8f-c16a-e1f8ffb368c7"
   },
   "outputs": [
    {
     "data": {
      "text/plain": [
       "Estadístico LM                7.253524\n",
       "p-value del estadístico LM    0.610742\n",
       "Estadístico F                 0.766940\n",
       "p-value del estadístico F     0.646936\n",
       "dtype: float64"
      ]
     },
     "execution_count": 11,
     "metadata": {},
     "output_type": "execute_result"
    }
   ],
   "source": [
    "exog = sm.add_constant(X)\n",
    "ResultadosTestWhite = sms.het_white(Residuos, exog)       # Aplicamos el test y guardamos los resultados\n",
    "Nombres = [\"Estadístico LM\", \"p-value del estadístico LM\", \"Estadístico F\", \"p-value del estadístico F\"]\n",
    "pd.Series(ResultadosTestWhite, index = Nombres)           # Presentamos los resultados de una manera más ordenada"
   ]
  },
  {
   "cell_type": "markdown",
   "metadata": {
    "id": "rzbbYg3z8xGB"
   },
   "source": [
    "Los resultados no muestran evidencia de heteroscedasticidad y permiten mantener el supuesto de homoscedasticidad. No obstante, como es un test demasiado general, podríamos probar también alguno más específico."
   ]
  },
  {
   "cell_type": "markdown",
   "metadata": {
    "id": "7lex3sbbKjiW"
   },
   "source": [
    "Una posibilidad es aplicar el contraste de **Breusch-Pagan**, que también es un **LM test** y que en Python se puede aplicar con la función `het_breuschpagan()` de `statsmodels.stats`. Igual que vimos con la función del test de White, entre los argumentos esta función necesita los residuos y las variables explicativas del modelo que podrían ser responsables de la heteroscedasticidad. Como nosotros no sospechamos de ninguna en particular, podemos incluirlas a todas que ya las teníamos guardadas en el objeto exog."
   ]
  },
  {
   "cell_type": "code",
   "execution_count": 12,
   "metadata": {
    "colab": {
     "base_uri": "https://localhost:8080/"
    },
    "executionInfo": {
     "elapsed": 261,
     "status": "ok",
     "timestamp": 1630438420018,
     "user": {
      "displayName": "Adrian Maximiliano Moneta Pizarro",
      "photoUrl": "https://lh3.googleusercontent.com/a-/AOh14GiOIt9PcT6Qg_RVr6d65mtb23o5uWmfH5VSfw5t=s64",
      "userId": "00392462548663890204"
     },
     "user_tz": 180
    },
    "id": "xuNVYYP95emH",
    "outputId": "84da3d9c-6e8c-4132-f2bc-28879a7c334e"
   },
   "outputs": [
    {
     "data": {
      "text/plain": [
       "Estadístico LM                6.353684\n",
       "p-value del estadístico LM    0.095615\n",
       "Estadístico F                 2.204368\n",
       "p-value del estadístico F     0.096831\n",
       "dtype: float64"
      ]
     },
     "execution_count": 12,
     "metadata": {},
     "output_type": "execute_result"
    }
   ],
   "source": [
    "ResultadosTestBP = sms.het_breuschpagan(Residuos, exog)    # Aplicamos el test y guardamos los resultados\n",
    "pd.Series(ResultadosTestBP, index = Nombres)               # Presentamos los resultados de una manera más ordenada"
   ]
  },
  {
   "cell_type": "markdown",
   "metadata": {
    "id": "yIgQoTqC8hKB"
   },
   "source": [
    "Los resultados no son demasiado concluyentes porque con una significación del 5% indican que no habría heteroscedasticidad, pero con una significación del 10% sí. Por lo tanto, podría presentarse una violación al supuesto de homoscedasticidad.\n",
    "\n",
    "Dado lo que habíamos observado en el gráfico (varianza probablemente creciente), resulta útil también probar el contraste de **Goldfeld-Quandt**."
   ]
  },
  {
   "cell_type": "code",
   "execution_count": 13,
   "metadata": {
    "colab": {
     "base_uri": "https://localhost:8080/"
    },
    "executionInfo": {
     "elapsed": 260,
     "status": "ok",
     "timestamp": 1630438431887,
     "user": {
      "displayName": "Adrian Maximiliano Moneta Pizarro",
      "photoUrl": "https://lh3.googleusercontent.com/a-/AOh14GiOIt9PcT6Qg_RVr6d65mtb23o5uWmfH5VSfw5t=s64",
      "userId": "00392462548663890204"
     },
     "user_tz": 180
    },
    "id": "YCggieFW-rhX",
    "outputId": "cf814ef6-9063-4d42-ca55-e1f30e4e0149"
   },
   "outputs": [
    {
     "data": {
      "text/plain": [
       "Estadístico F              0.944458\n",
       "p-value                      0.5852\n",
       "Hipótesis alternativa    increasing\n",
       "dtype: object"
      ]
     },
     "execution_count": 13,
     "metadata": {},
     "output_type": "execute_result"
    }
   ],
   "source": [
    "ResultadosTestGQ = sms.het_goldfeldquandt(Y, exog, drop = 0.33)   \n",
    "# observar que a diferencia de los anteriores, requiere como argumentos la variable endógena y las regresoras exógenas\n",
    "# la opción drop indica que porción del centro es descarta\n",
    "# está disponible también la opción alternative con “increasing”, “decreasing”, “two-sided” para distintos tipos de heteroscedasticidad\n",
    "# por defecto prueba \"increasing\"\n",
    "Nombres = [\"Estadístico F\", \"p-value\", \"Hipótesis alternativa\"]   \n",
    "pd.Series(ResultadosTestGQ, index = Nombres)"
   ]
  },
  {
   "cell_type": "markdown",
   "metadata": {
    "id": "6XwFzrbbBv0m"
   },
   "source": [
    "Afortunadamente, los resultados señalan que no se rechaza la hipótesis nula de homoscedasticidad."
   ]
  },
  {
   "cell_type": "markdown",
   "metadata": {
    "id": "MoJ-B1pe-ccK"
   },
   "source": [
    "Ante la duda, o si hubiéramos encontrado evidencia de heteroscedasticidad, una forma bastante sencilla de corregir el problema es estimando nuestro modelo con **errores estándares robustos**. Esto se consigue aplicando el método `get_robustcov_results()` sobre nuestro objeto creado con la función `OLS()`"
   ]
  },
  {
   "cell_type": "code",
   "execution_count": 14,
   "metadata": {
    "colab": {
     "base_uri": "https://localhost:8080/"
    },
    "executionInfo": {
     "elapsed": 319,
     "status": "ok",
     "timestamp": 1630438436034,
     "user": {
      "displayName": "Adrian Maximiliano Moneta Pizarro",
      "photoUrl": "https://lh3.googleusercontent.com/a-/AOh14GiOIt9PcT6Qg_RVr6d65mtb23o5uWmfH5VSfw5t=s64",
      "userId": "00392462548663890204"
     },
     "user_tz": 180
    },
    "id": "WH4bcK90bSTp",
    "outputId": "a5c82ef9-ca5a-4c87-aa3d-d254f0f5d7e1"
   },
   "outputs": [
    {
     "name": "stdout",
     "output_type": "stream",
     "text": [
      "                            OLS Regression Results                            \n",
      "==============================================================================\n",
      "Dep. Variable:                     CM   R-squared:                       0.747\n",
      "Model:                            OLS   Adj. R-squared:                  0.735\n",
      "Method:                 Least Squares   F-statistic:                     93.27\n",
      "Date:                Fri, 17 Sep 2021   Prob (F-statistic):           1.46e-22\n",
      "Time:                        18:33:53   Log-Likelihood:                -323.43\n",
      "No. Observations:                  64   AIC:                             654.9\n",
      "Df Residuals:                      60   BIC:                             663.5\n",
      "Df Model:                           3                                         \n",
      "Covariance Type:                  HC1                                         \n",
      "==============================================================================\n",
      "                 coef    std err          t      P>|t|      [0.025      0.975]\n",
      "------------------------------------------------------------------------------\n",
      "const        168.3067     33.429      5.035      0.000     101.438     235.175\n",
      "FLR           -1.7680      0.253     -6.985      0.000      -2.274      -1.262\n",
      "PGNP          -0.0055      0.001     -6.998      0.000      -0.007      -0.004\n",
      "TFR           12.8686      4.197      3.066      0.003       4.472      21.265\n",
      "==============================================================================\n",
      "Omnibus:                        1.103   Durbin-Watson:                   2.170\n",
      "Prob(Omnibus):                  0.576   Jarque-Bera (JB):                0.509\n",
      "Skew:                           0.145   Prob(JB):                        0.775\n",
      "Kurtosis:                       3.327   Cond. No.                     2.06e+04\n",
      "==============================================================================\n",
      "\n",
      "Notes:\n",
      "[1] Standard Errors are heteroscedasticity robust (HC1)\n",
      "[2] The condition number is large, 2.06e+04. This might indicate that there are\n",
      "strong multicollinearity or other numerical problems.\n"
     ]
    }
   ],
   "source": [
    "Resultados_robustos = Resultados.get_robustcov_results()\n",
    "print(Resultados_robustos.summary())"
   ]
  },
  {
   "cell_type": "markdown",
   "metadata": {
    "id": "onlQvFJE_cRE"
   },
   "source": [
    "Si comparamos esta última salida con la de nuestro modelo originalmente estimado por OLS, notaremos que los coeficientes estimados son los mismos, pero que han cambiado las estimaciones de los errores estándar. Ahora son estimaciones robustas frente a heteroscedasticidad.\n",
    "\n",
    "Los errores estándar estimados por defecto con este método son los tipo HC1. Las diferencias no son demasiado importantes con otros métodos de estimación robusta, como puede verse si armamos una tabla como la siguiente."
   ]
  },
  {
   "cell_type": "code",
   "execution_count": 15,
   "metadata": {
    "colab": {
     "base_uri": "https://localhost:8080/",
     "height": 172
    },
    "executionInfo": {
     "elapsed": 274,
     "status": "ok",
     "timestamp": 1630438441242,
     "user": {
      "displayName": "Adrian Maximiliano Moneta Pizarro",
      "photoUrl": "https://lh3.googleusercontent.com/a-/AOh14GiOIt9PcT6Qg_RVr6d65mtb23o5uWmfH5VSfw5t=s64",
      "userId": "00392462548663890204"
     },
     "user_tz": 180
    },
    "id": "1HBrJkJpeg9L",
    "outputId": "28ea6855-fa3c-4213-ce47-6c2b69991fe2"
   },
   "outputs": [
    {
     "data": {
      "text/html": [
       "<div>\n",
       "<style scoped>\n",
       "    .dataframe tbody tr th:only-of-type {\n",
       "        vertical-align: middle;\n",
       "    }\n",
       "\n",
       "    .dataframe tbody tr th {\n",
       "        vertical-align: top;\n",
       "    }\n",
       "\n",
       "    .dataframe thead th {\n",
       "        text-align: right;\n",
       "    }\n",
       "</style>\n",
       "<table border=\"1\" class=\"dataframe\">\n",
       "  <thead>\n",
       "    <tr style=\"text-align: right;\">\n",
       "      <th></th>\n",
       "      <th>HC0</th>\n",
       "      <th>HC1</th>\n",
       "      <th>HC2</th>\n",
       "      <th>HC3</th>\n",
       "    </tr>\n",
       "  </thead>\n",
       "  <tbody>\n",
       "    <tr>\n",
       "      <th>const</th>\n",
       "      <td>32.367698</td>\n",
       "      <td>33.429214</td>\n",
       "      <td>33.587382</td>\n",
       "      <td>34.887573</td>\n",
       "    </tr>\n",
       "    <tr>\n",
       "      <th>FLR</th>\n",
       "      <td>0.245067</td>\n",
       "      <td>0.253104</td>\n",
       "      <td>0.253279</td>\n",
       "      <td>0.263717</td>\n",
       "    </tr>\n",
       "    <tr>\n",
       "      <th>PGNP</th>\n",
       "      <td>0.000762</td>\n",
       "      <td>0.000787</td>\n",
       "      <td>0.001217</td>\n",
       "      <td>0.002314</td>\n",
       "    </tr>\n",
       "    <tr>\n",
       "      <th>TFR</th>\n",
       "      <td>4.064170</td>\n",
       "      <td>4.197456</td>\n",
       "      <td>4.224024</td>\n",
       "      <td>4.395384</td>\n",
       "    </tr>\n",
       "  </tbody>\n",
       "</table>\n",
       "</div>"
      ],
      "text/plain": [
       "             HC0        HC1        HC2        HC3\n",
       "const  32.367698  33.429214  33.587382  34.887573\n",
       "FLR     0.245067   0.253104   0.253279   0.263717\n",
       "PGNP    0.000762   0.000787   0.001217   0.002314\n",
       "TFR     4.064170   4.197456   4.224024   4.395384"
      ]
     },
     "execution_count": 15,
     "metadata": {},
     "output_type": "execute_result"
    }
   ],
   "source": [
    "pd.DataFrame({'HC0':Resultados.HC0_se, 'HC1':Resultados.HC1_se, 'HC2':Resultados.HC2_se, 'HC3':Resultados.HC3_se})"
   ]
  },
  {
   "cell_type": "markdown",
   "metadata": {
    "id": "hDiR80lTU0Oi"
   },
   "source": [
    "###**Autocorrelación**"
   ]
  },
  {
   "cell_type": "markdown",
   "metadata": {
    "id": "cNi28EmXf7qf"
   },
   "source": [
    "Otro supuesto importante para verificar es la ausencia de **autocorrelación** entre las perturbaciones. La autocorrelación, o correlación serial, es un problema mucho más frecuente en series de tiempo, pero si los datos son de corte transversal y fueron obtenidos en determinado orden, también podrían tenerlo presente.\n",
    "\n",
    "Los resultados del contraste más clásico de autocorrelación, el test de **Durbin-Watson**, que sólo prueba correlación de primer orden, se puede ver directamente en la salida de nuestro modelo estimado por OLS."
   ]
  },
  {
   "cell_type": "code",
   "execution_count": 16,
   "metadata": {
    "colab": {
     "base_uri": "https://localhost:8080/"
    },
    "executionInfo": {
     "elapsed": 308,
     "status": "ok",
     "timestamp": 1630331669814,
     "user": {
      "displayName": "Adrian Maximiliano Moneta Pizarro",
      "photoUrl": "https://lh3.googleusercontent.com/a-/AOh14GiOIt9PcT6Qg_RVr6d65mtb23o5uWmfH5VSfw5t=s64",
      "userId": "00392462548663890204"
     },
     "user_tz": 180
    },
    "id": "P0QmHjnhg_QU",
    "outputId": "be2e46ac-b4cd-4cbe-eed8-156889333ab0"
   },
   "outputs": [
    {
     "name": "stdout",
     "output_type": "stream",
     "text": [
      "                            OLS Regression Results                            \n",
      "==============================================================================\n",
      "Dep. Variable:                     CM   R-squared:                       0.747\n",
      "Model:                            OLS   Adj. R-squared:                  0.735\n",
      "Method:                 Least Squares   F-statistic:                     59.17\n",
      "Date:                Fri, 17 Sep 2021   Prob (F-statistic):           6.46e-18\n",
      "Time:                        18:33:53   Log-Likelihood:                -323.43\n",
      "No. Observations:                  64   AIC:                             654.9\n",
      "Df Residuals:                      60   BIC:                             663.5\n",
      "Df Model:                           3                                         \n",
      "Covariance Type:            nonrobust                                         \n",
      "==============================================================================\n",
      "                 coef    std err          t      P>|t|      [0.025      0.975]\n",
      "------------------------------------------------------------------------------\n",
      "const        168.3067     32.892      5.117      0.000     102.514     234.100\n",
      "FLR           -1.7680      0.248     -7.129      0.000      -2.264      -1.272\n",
      "PGNP          -0.0055      0.002     -2.934      0.005      -0.009      -0.002\n",
      "TFR           12.8686      4.191      3.071      0.003       4.486      21.251\n",
      "==============================================================================\n",
      "Omnibus:                        1.103   Durbin-Watson:                   2.170\n",
      "Prob(Omnibus):                  0.576   Jarque-Bera (JB):                0.509\n",
      "Skew:                           0.145   Prob(JB):                        0.775\n",
      "Kurtosis:                       3.327   Cond. No.                     2.06e+04\n",
      "==============================================================================\n",
      "\n",
      "Notes:\n",
      "[1] Standard Errors assume that the covariance matrix of the errors is correctly specified.\n",
      "[2] The condition number is large, 2.06e+04. This might indicate that there are\n",
      "strong multicollinearity or other numerical problems.\n"
     ]
    }
   ],
   "source": [
    "print(Resultados.summary())"
   ]
  },
  {
   "cell_type": "markdown",
   "metadata": {
    "id": "ya_N2Rj0hNay"
   },
   "source": [
    "Como podemos observar, el resultado del estadístico de Durbin-Watson que obtuvimos está muy cerca de 2. Por lo tanto, no hay indicios de autocorrelación.\n",
    "\n",
    "Si queremos exponer aparte el resultado de este contraste, podemos usar la función `durbin_watson()` de `statsmodels.stats`"
   ]
  },
  {
   "cell_type": "code",
   "execution_count": 17,
   "metadata": {
    "colab": {
     "base_uri": "https://localhost:8080/"
    },
    "executionInfo": {
     "elapsed": 263,
     "status": "ok",
     "timestamp": 1630438449917,
     "user": {
      "displayName": "Adrian Maximiliano Moneta Pizarro",
      "photoUrl": "https://lh3.googleusercontent.com/a-/AOh14GiOIt9PcT6Qg_RVr6d65mtb23o5uWmfH5VSfw5t=s64",
      "userId": "00392462548663890204"
     },
     "user_tz": 180
    },
    "id": "mVGL99Gwh6Dc",
    "outputId": "66794b94-6f33-4b47-c1f4-936715e59b99"
   },
   "outputs": [
    {
     "data": {
      "text/plain": [
       "Estadístico DW    2.170318\n",
       "dtype: float64"
      ]
     },
     "execution_count": 17,
     "metadata": {},
     "output_type": "execute_result"
    }
   ],
   "source": [
    "ResultadosTestDW = sms.durbin_watson(Residuos)\n",
    "Nombres = [\"Estadístico DW\"]\n",
    "pd.Series(ResultadosTestDW, index = Nombres)"
   ]
  },
  {
   "cell_type": "markdown",
   "metadata": {
    "id": "hUg1ymxAitui"
   },
   "source": [
    "El problema, en ambos tipos de presentaciones, es que los resultados no vienen con algún p-value. Esto es porque el estadístico DW no tiene un único valor crítico para cada posible combinación de parámetros (tamaño de muestra y cantidad de variables explicativas excluyendo la constante), sino dos límites (dL y dU) que encierran áreas de indecisión. Se pueden consultar las tablas de DW y decidir con mayor precisión, pero en la práctica lo más usual es ver dónde se ubica el resultado del estadístico dentro del rango que va de 0 a 4."
   ]
  },
  {
   "cell_type": "markdown",
   "metadata": {
    "id": "ZKjbVgYynlB-"
   },
   "source": [
    "Para tener una salida mucho más completa y también probar autocorrelación de órdenes superiores podemos utilizar el test de **Breusch-Godfrey** que en Python se puede aplicar con la función `acorr_breusch_godfrey()` de `statsmodels.stats`. Como argumentos requiere los resultados del modelo (no los residuos, cuidado con esto) y el número de lags (rezagos) que queremos contrastar."
   ]
  },
  {
   "cell_type": "code",
   "execution_count": 18,
   "metadata": {
    "colab": {
     "base_uri": "https://localhost:8080/"
    },
    "executionInfo": {
     "elapsed": 264,
     "status": "ok",
     "timestamp": 1630438453589,
     "user": {
      "displayName": "Adrian Maximiliano Moneta Pizarro",
      "photoUrl": "https://lh3.googleusercontent.com/a-/AOh14GiOIt9PcT6Qg_RVr6d65mtb23o5uWmfH5VSfw5t=s64",
      "userId": "00392462548663890204"
     },
     "user_tz": 180
    },
    "id": "FUb2qSFZoEfZ",
    "outputId": "75a6e164-0f55-4725-ac8e-8f5b6018a125"
   },
   "outputs": [
    {
     "data": {
      "text/plain": [
       "Estadístico LM                0.640626\n",
       "p-value del estadístico LM    0.423484\n",
       "Estadístico F                 0.596548\n",
       "p-value del estadístico F     0.442981\n",
       "dtype: float64"
      ]
     },
     "execution_count": 18,
     "metadata": {},
     "output_type": "execute_result"
    }
   ],
   "source": [
    "ResultadosTestBG1 = sms.acorr_breusch_godfrey(Resultados, nlags = 1)             # probamos primero autocorrelación de orden 1\n",
    "Nombres = [\"Estadístico LM\", \"p-value del estadístico LM\", \"Estadístico F\", \"p-value del estadístico F\"]\n",
    "pd.Series(ResultadosTestBG1, index = Nombres)"
   ]
  },
  {
   "cell_type": "markdown",
   "metadata": {
    "id": "rKlrumtNpIjO"
   },
   "source": [
    "No se rechaza la hipótesis nula de independencia serial (no autocorrelación) de primer orden. No habiendo autocorrelación de primer orden, difícilmente haya de órdenes superiores (excepto tal vez en series estacionales), pero veamos lo simple que sería poner a prueba, por ejemplo, la autocorrelación hasta de orden 4."
   ]
  },
  {
   "cell_type": "code",
   "execution_count": 19,
   "metadata": {
    "colab": {
     "base_uri": "https://localhost:8080/"
    },
    "executionInfo": {
     "elapsed": 296,
     "status": "ok",
     "timestamp": 1630438458144,
     "user": {
      "displayName": "Adrian Maximiliano Moneta Pizarro",
      "photoUrl": "https://lh3.googleusercontent.com/a-/AOh14GiOIt9PcT6Qg_RVr6d65mtb23o5uWmfH5VSfw5t=s64",
      "userId": "00392462548663890204"
     },
     "user_tz": 180
    },
    "id": "_f898aMqovHr",
    "outputId": "f4b60947-e6d9-427b-fcc2-4e762eb3b1b8"
   },
   "outputs": [
    {
     "data": {
      "text/plain": [
       "Estadístico LM                2.178171\n",
       "p-value del estadístico LM    0.703028\n",
       "Estadístico F                 0.493263\n",
       "p-value del estadístico F     0.740668\n",
       "dtype: float64"
      ]
     },
     "execution_count": 19,
     "metadata": {},
     "output_type": "execute_result"
    }
   ],
   "source": [
    "ResultadosTestBG4 = sms.acorr_breusch_godfrey(Resultados, nlags = 4)            # probamos autocorrelación hasta de orden 4\n",
    "pd.Series(ResultadosTestBG4, index = Nombres)"
   ]
  },
  {
   "cell_type": "markdown",
   "metadata": {
    "id": "I6X-hoxNprBE"
   },
   "source": [
    "Como era de esperar, menos prueba hay aún de autocorrelación de órdenes superiores."
   ]
  },
  {
   "cell_type": "markdown",
   "metadata": {
    "id": "HB-oKn9pqa03"
   },
   "source": [
    "Si quisiéramos aplicar los test de **Box-Pierce** o **Ljung-Box**, podemos usar la función `acorr_ljungbox()` de `statsmodels.stats`"
   ]
  },
  {
   "cell_type": "code",
   "execution_count": 20,
   "metadata": {
    "colab": {
     "base_uri": "https://localhost:8080/"
    },
    "executionInfo": {
     "elapsed": 349,
     "status": "ok",
     "timestamp": 1630438467306,
     "user": {
      "displayName": "Adrian Maximiliano Moneta Pizarro",
      "photoUrl": "https://lh3.googleusercontent.com/a-/AOh14GiOIt9PcT6Qg_RVr6d65mtb23o5uWmfH5VSfw5t=s64",
      "userId": "00392462548663890204"
     },
     "user_tz": 180
    },
    "id": "6WZr__tIqyb5",
    "outputId": "d32669ee-615f-41a0-8e2c-68fe82dc4b3b"
   },
   "outputs": [
    {
     "name": "stderr",
     "output_type": "stream",
     "text": [
      "/home/adalisa/anaconda3/lib/python3.7/site-packages/statsmodels/stats/diagnostic.py:559: FutureWarning: The value returned will change to a single DataFrame after 0.12 is released.  Set return_df to True to use to return a DataFrame now.  Set return_df to False to silence this warning.\n",
      "  warnings.warn(msg, FutureWarning)\n"
     ]
    },
    {
     "data": {
      "text/plain": [
       "Estadístico LB                 [0.6565780403888075, 0.6566908454821845]\n",
       "p-value del estadístico LB    [0.41777062943072274, 0.7201142329072359]\n",
       "Estadístico BP                 [0.6267335840074981, 0.6268395524285493]\n",
       "p-value del estadístico BP    [0.42855599423865787, 0.7309430156674115]\n",
       "dtype: object"
      ]
     },
     "execution_count": 20,
     "metadata": {},
     "output_type": "execute_result"
    }
   ],
   "source": [
    "ResultadosTestLB = sms.acorr_ljungbox(Residuos, lags = 2, boxpierce = True)     # el argumento boxpierce = True permite agregar los resultados de Box-Pierce\n",
    "Nombres = [\"Estadístico LB\", \"p-value del estadístico LB\", \"Estadístico BP\", \"p-value del estadístico BP\"]\n",
    "pd.Series(ResultadosTestLB, index = Nombres)"
   ]
  },
  {
   "cell_type": "markdown",
   "metadata": {
    "id": "tqZqg1vDrrmo"
   },
   "source": [
    "Notar que a diferencia del test de Breusch-Godfrey, estos contrastes de Box-Pierce y Ljung-Box van probando de manera sucesiva la autocorrelación de órdenes superiores y arrojando tanto los estadísticos como los p-values de cada orden. \n",
    "\n",
    "En este ejemplo claramente no hay evidencia alguna de autocorrelación."
   ]
  },
  {
   "cell_type": "markdown",
   "metadata": {
    "id": "gVzlvXxwWnXy"
   },
   "source": [
    "###**Normalidad**"
   ]
  },
  {
   "cell_type": "markdown",
   "metadata": {
    "id": "ICl4RDbtslyB"
   },
   "source": [
    "La prueba de normalidad más clásica en econometría, el test de **Jarque-Bera**, ya viene en la salida de nuestro modelo estimado por OLS."
   ]
  },
  {
   "cell_type": "code",
   "execution_count": 21,
   "metadata": {
    "colab": {
     "base_uri": "https://localhost:8080/"
    },
    "executionInfo": {
     "elapsed": 313,
     "status": "ok",
     "timestamp": 1630438474218,
     "user": {
      "displayName": "Adrian Maximiliano Moneta Pizarro",
      "photoUrl": "https://lh3.googleusercontent.com/a-/AOh14GiOIt9PcT6Qg_RVr6d65mtb23o5uWmfH5VSfw5t=s64",
      "userId": "00392462548663890204"
     },
     "user_tz": 180
    },
    "id": "Pm2IMLTTs8f-",
    "outputId": "3839410b-fa92-4398-ca37-b2c0dbdfa579"
   },
   "outputs": [
    {
     "name": "stdout",
     "output_type": "stream",
     "text": [
      "                            OLS Regression Results                            \n",
      "==============================================================================\n",
      "Dep. Variable:                     CM   R-squared:                       0.747\n",
      "Model:                            OLS   Adj. R-squared:                  0.735\n",
      "Method:                 Least Squares   F-statistic:                     59.17\n",
      "Date:                Fri, 17 Sep 2021   Prob (F-statistic):           6.46e-18\n",
      "Time:                        18:33:55   Log-Likelihood:                -323.43\n",
      "No. Observations:                  64   AIC:                             654.9\n",
      "Df Residuals:                      60   BIC:                             663.5\n",
      "Df Model:                           3                                         \n",
      "Covariance Type:            nonrobust                                         \n",
      "==============================================================================\n",
      "                 coef    std err          t      P>|t|      [0.025      0.975]\n",
      "------------------------------------------------------------------------------\n",
      "const        168.3067     32.892      5.117      0.000     102.514     234.100\n",
      "FLR           -1.7680      0.248     -7.129      0.000      -2.264      -1.272\n",
      "PGNP          -0.0055      0.002     -2.934      0.005      -0.009      -0.002\n",
      "TFR           12.8686      4.191      3.071      0.003       4.486      21.251\n",
      "==============================================================================\n",
      "Omnibus:                        1.103   Durbin-Watson:                   2.170\n",
      "Prob(Omnibus):                  0.576   Jarque-Bera (JB):                0.509\n",
      "Skew:                           0.145   Prob(JB):                        0.775\n",
      "Kurtosis:                       3.327   Cond. No.                     2.06e+04\n",
      "==============================================================================\n",
      "\n",
      "Notes:\n",
      "[1] Standard Errors assume that the covariance matrix of the errors is correctly specified.\n",
      "[2] The condition number is large, 2.06e+04. This might indicate that there are\n",
      "strong multicollinearity or other numerical problems.\n"
     ]
    }
   ],
   "source": [
    "print(Resultados.summary())"
   ]
  },
  {
   "cell_type": "markdown",
   "metadata": {
    "id": "tu0w1aSrtFkz"
   },
   "source": [
    "Pero si queremos resultados más completos de esta prueba, incluidos los coeficientes de asimetría y curtosis, podemos utilizar el siguiente código."
   ]
  },
  {
   "cell_type": "code",
   "execution_count": 22,
   "metadata": {
    "colab": {
     "base_uri": "https://localhost:8080/"
    },
    "executionInfo": {
     "elapsed": 14,
     "status": "ok",
     "timestamp": 1630438477084,
     "user": {
      "displayName": "Adrian Maximiliano Moneta Pizarro",
      "photoUrl": "https://lh3.googleusercontent.com/a-/AOh14GiOIt9PcT6Qg_RVr6d65mtb23o5uWmfH5VSfw5t=s64",
      "userId": "00392462548663890204"
     },
     "user_tz": 180
    },
    "id": "Jv0mt_VStLLK",
    "outputId": "1170061b-0382-444b-edba-0fab7913c191"
   },
   "outputs": [
    {
     "data": {
      "text/plain": [
       "Jarque-Bera    0.509408\n",
       "p-value        0.775146\n",
       "Asimetría      0.145068\n",
       "Curtosis       3.326877\n",
       "dtype: float64"
      ]
     },
     "execution_count": 22,
     "metadata": {},
     "output_type": "execute_result"
    }
   ],
   "source": [
    "ResultadosTestJB = sms.jarque_bera(Residuos)\n",
    "Nombres = [\"Jarque-Bera\", \"p-value\", \"Asimetría\", \"Curtosis\"]\n",
    "pd.Series(ResultadosTestJB, index = Nombres)"
   ]
  },
  {
   "cell_type": "markdown",
   "metadata": {
    "id": "EEWRTfYYtpY5"
   },
   "source": [
    "Observar que el p-value supera ampliamente los niveles de significación usuales. Por lo tanto, no se rechaza la hipótesis de normalidad.\n",
    "\n",
    "A conclusión similar podemos arribar observando los valores de los coeficientes de asimetría (cercano a 0) y curtosis (cercano a 3)."
   ]
  },
  {
   "cell_type": "markdown",
   "metadata": {
    "id": "Vo84TBmQKGZY"
   },
   "source": [
    "La salida de nuestro modelo estimado por OLS también incluye los resultados del test **omnibus** o **$K^2$ de D´Agostino**. Si queremos exponer su resultado de una manera más elegante podemos hacer... "
   ]
  },
  {
   "cell_type": "code",
   "execution_count": 23,
   "metadata": {
    "colab": {
     "base_uri": "https://localhost:8080/"
    },
    "executionInfo": {
     "elapsed": 275,
     "status": "ok",
     "timestamp": 1630438481191,
     "user": {
      "displayName": "Adrian Maximiliano Moneta Pizarro",
      "photoUrl": "https://lh3.googleusercontent.com/a-/AOh14GiOIt9PcT6Qg_RVr6d65mtb23o5uWmfH5VSfw5t=s64",
      "userId": "00392462548663890204"
     },
     "user_tz": 180
    },
    "id": "6bSuXUMAK7f7",
    "outputId": "598235c2-eb7c-4cac-8dd7-ba0d40117a7f"
   },
   "outputs": [
    {
     "data": {
      "text/plain": [
       "Estadístico K2    1.102902\n",
       "p-value           0.576113\n",
       "dtype: float64"
      ]
     },
     "execution_count": 23,
     "metadata": {},
     "output_type": "execute_result"
    }
   ],
   "source": [
    "ResultadosTestK2 = sms.omni_normtest(Residuos)\n",
    "Nombres = [\"Estadístico K2\", \"p-value\"]\n",
    "pd.Series(ResultadosTestK2, index = Nombres)"
   ]
  },
  {
   "cell_type": "markdown",
   "metadata": {
    "id": "_qr9rg2N78uL"
   },
   "source": [
    "Otra prueba de normalidad que se usa mucho en econometría, también en estadística en general, es la de **Kolmogorov-Smirnov**."
   ]
  },
  {
   "cell_type": "code",
   "execution_count": 24,
   "metadata": {
    "colab": {
     "base_uri": "https://localhost:8080/"
    },
    "executionInfo": {
     "elapsed": 267,
     "status": "ok",
     "timestamp": 1630438485901,
     "user": {
      "displayName": "Adrian Maximiliano Moneta Pizarro",
      "photoUrl": "https://lh3.googleusercontent.com/a-/AOh14GiOIt9PcT6Qg_RVr6d65mtb23o5uWmfH5VSfw5t=s64",
      "userId": "00392462548663890204"
     },
     "user_tz": 180
    },
    "id": "1OlkeORS8HNH",
    "outputId": "58f79348-8b14-4f24-cfc4-97f9fbb22b76"
   },
   "outputs": [
    {
     "data": {
      "text/plain": [
       "Estadístico KS    0.105760\n",
       "p-value           0.096427\n",
       "dtype: float64"
      ]
     },
     "execution_count": 24,
     "metadata": {},
     "output_type": "execute_result"
    }
   ],
   "source": [
    "ResultadosTestKS = sms.diagnostic.kstest_normal(Residuos)\n",
    "Nombres = [\"Estadístico KS\", \"p-value\"]\n",
    "pd.Series(ResultadosTestKS, index = Nombres)"
   ]
  },
  {
   "cell_type": "markdown",
   "metadata": {
    "id": "Orph-1nc8XJS"
   },
   "source": [
    "Observar que aquí los resultados no son demasiado concluyentes. A un 5% de significación no rechaza la normalidad, pero sí lo hace para niveles mayores a 7,26%. \n",
    "\n",
    "Podemos probar también el test de **Shapiro-Wilk**, que es más específico para normalidad que Kolmogorov-Smirnov."
   ]
  },
  {
   "cell_type": "code",
   "execution_count": 25,
   "metadata": {
    "colab": {
     "base_uri": "https://localhost:8080/"
    },
    "executionInfo": {
     "elapsed": 263,
     "status": "ok",
     "timestamp": 1630438490576,
     "user": {
      "displayName": "Adrian Maximiliano Moneta Pizarro",
      "photoUrl": "https://lh3.googleusercontent.com/a-/AOh14GiOIt9PcT6Qg_RVr6d65mtb23o5uWmfH5VSfw5t=s64",
      "userId": "00392462548663890204"
     },
     "user_tz": 180
    },
    "id": "gVLDX-rrQzX7",
    "outputId": "a82c3d5b-d323-4002-8018-20161d8fc556"
   },
   "outputs": [
    {
     "data": {
      "text/plain": [
       "Estadístico SW    0.982833\n",
       "p-value           0.514986\n",
       "dtype: float64"
      ]
     },
     "execution_count": 25,
     "metadata": {},
     "output_type": "execute_result"
    }
   ],
   "source": [
    "from scipy.stats import shapiro               # importamos la función shapiro de la librería scipy\n",
    "ResultadosTestSW = shapiro(Residuos)\n",
    "Nombres = [\"Estadístico SW\", \"p-value\"]\n",
    "pd.Series(ResultadosTestSW, index = Nombres)"
   ]
  },
  {
   "cell_type": "markdown",
   "metadata": {
    "id": "NPXi-dmLQhbu"
   },
   "source": [
    "Si quisiéramos explorar un poco más el supuesto de normalidad con **métodos gráficos**, podemos podemos visualizar la distribución empírica de los residuos versus la distribución teórica de una normal."
   ]
  },
  {
   "cell_type": "code",
   "execution_count": 26,
   "metadata": {
    "colab": {
     "base_uri": "https://localhost:8080/",
     "height": 466
    },
    "executionInfo": {
     "elapsed": 1011,
     "status": "ok",
     "timestamp": 1630438496464,
     "user": {
      "displayName": "Adrian Maximiliano Moneta Pizarro",
      "photoUrl": "https://lh3.googleusercontent.com/a-/AOh14GiOIt9PcT6Qg_RVr6d65mtb23o5uWmfH5VSfw5t=s64",
      "userId": "00392462548663890204"
     },
     "user_tz": 180
    },
    "id": "5v9t1eSB9O_z",
    "outputId": "819949f2-b1b2-42d7-fce4-23cc925626ef"
   },
   "outputs": [
    {
     "data": {
      "image/png": "[encoded data removed]",
      "text/plain": [
       "<Figure size 576x432 with 1 Axes>"
      ]
     },
     "metadata": {},
     "output_type": "display_data"
    }
   ],
   "source": [
    "# Primero armamos la función de distribución de nuestros residuos\n",
    "x = np.sort(Residuos)              # ordenamos los residuos\n",
    "n = x.size                         # tamaño total de la muestra\n",
    "y = np.arange(1, n+1) / n          # calculamos las probabilidades acumuladas por cada valor observado en orden\n",
    "\n",
    "# Luego obtenemos la función de distribución teórica de una normal\n",
    "Residuos_teoricos = np.random.normal(loc = np.mean(Residuos),   # obtenemos una muestra aleatoria proveniente de una \n",
    "                    scale = np.std(Residuos), size = 10000)     # distribución normal con la media y desv.est. de nuestros residuos\n",
    "x_teor = np.sort(Residuos_teoricos)       # ordenamos la muestra aleatoria\n",
    "n_teor = x_teor.size                      # guardamos el tamaño de esta muestra\n",
    "y_teor = np.arange(1, n_teor+1) / n_teor  # calculamos las probabilidades acumuladas por sus valores\n",
    "\n",
    "# Por último, superponemos ambas distribuciones en un mismo gráfico\n",
    "fig, ax = plt.subplots(figsize = (8,6))\n",
    "fig.suptitle(\"Distribución empírica vs. teórica\", fontsize = 18, fontweight = \"bold\")\n",
    "ax.scatter(x, y, color = \"darkblue\", label = \"Distribución empírica\")\n",
    "ax.plot(x_teor, y_teor, color = \"red\", label = \"Distribución teórica\")\n",
    "ax.set_xlabel(\"Residuos ($x$)\", fontsize = 15)\n",
    "ax.set_ylabel(\"$F(x)$\", fontsize = 15)\n",
    "ax.tick_params(labelsize = 14)\n",
    "ax.legend()\n",
    "fig.text(.9,-.02, \"Elaboración propia en base a Triana (2019)\", fontsize = 13, fontweight = \"bold\", ha = \"right\")\n",
    "plt.subplots_adjust(top = 0.85)\n",
    "plt.show()"
   ]
  },
  {
   "cell_type": "markdown",
   "metadata": {
    "id": "YEedVUAXDuVg"
   },
   "source": [
    "Observar que los puntos azules (distribución empírica) no se alejan demasiado de la curva roja (distribución teórica). Por lo tanto, no parece haber un problema serio de falta de normalidad."
   ]
  },
  {
   "cell_type": "markdown",
   "metadata": {
    "id": "zEjaup4lEII1"
   },
   "source": [
    "También podemos revisar un QQ plot"
   ]
  },
  {
   "cell_type": "code",
   "execution_count": 27,
   "metadata": {
    "colab": {
     "base_uri": "https://localhost:8080/",
     "height": 466
    },
    "executionInfo": {
     "elapsed": 447,
     "status": "ok",
     "timestamp": 1630333384596,
     "user": {
      "displayName": "Adrian Maximiliano Moneta Pizarro",
      "photoUrl": "https://lh3.googleusercontent.com/a-/AOh14GiOIt9PcT6Qg_RVr6d65mtb23o5uWmfH5VSfw5t=s64",
      "userId": "00392462548663890204"
     },
     "user_tz": 180
    },
    "id": "57v2Yeh5EQov",
    "outputId": "5842cffd-0996-4ccc-c7b7-4c42e65466ed"
   },
   "outputs": [
    {
     "data": {
      "image/png": "[encoded data removed]",
      "text/plain": [
       "<Figure size 576x432 with 1 Axes>"
      ]
     },
     "metadata": {},
     "output_type": "display_data"
    }
   ],
   "source": [
    "fig, ax = plt.subplots(figsize = (8,6))\n",
    "fig.suptitle(\"Q-Q plot de normalidad\", size = 20, fontweight = \"bold\")\n",
    "sm.qqplot(Residuos, ax = ax, line = \"s\", color = \"darkblue\")\n",
    "ax.set_xlabel(\"Cuantiles teóricos\", fontsize = 14)\n",
    "ax.set_ylabel(\"Cuantiles muestrales\", fontsize = 14)\n",
    "fig.text(.9,-.02, \"Elaboración propia en base a Triana (2019)\", fontsize = 13, fontweight = \"bold\", ha = \"right\")\n",
    "plt.show()"
   ]
  },
  {
   "cell_type": "markdown",
   "metadata": {
    "id": "2YQfHqkbEzgO"
   },
   "source": [
    "La mayoría de los cuantiles muestrales (puntos azules) no se alejan demasiado de los teóricos (línea roja). La distribución de los residuos parece aproximarse bien a una normal."
   ]
  },
  {
   "cell_type": "code",
   "execution_count": null,
   "metadata": {},
   "outputs": [],
   "source": []
  },
  {
   "cell_type": "code",
   "execution_count": null,
   "metadata": {},
   "outputs": [],
   "source": [
    "                                                                                                                                                                                                                                                                                                                                                                                                                                                                                                                                                                                                                                                                                                                                                                                                          "
   ]
  }
 ],
 "metadata": {
  "colab": {
   "collapsed_sections": [],
   "name": "Clase 2 Parte I.ipynb",
   "provenance": []
  },
  "kernelspec": {
   "display_name": "Python 3",
   "language": "python",
   "name": "python3"
  },
  "language_info": {
   "codemirror_mode": {
    "name": "ipython",
    "version": 3
   },
   "file_extension": ".py",
   "mimetype": "text/x-python",
   "name": "python",
   "nbconvert_exporter": "python",
   "pygments_lexer": "ipython3",
   "version": "3.7.3"
  }
 },
 "nbformat": 4,
 "nbformat_minor": 1
}
