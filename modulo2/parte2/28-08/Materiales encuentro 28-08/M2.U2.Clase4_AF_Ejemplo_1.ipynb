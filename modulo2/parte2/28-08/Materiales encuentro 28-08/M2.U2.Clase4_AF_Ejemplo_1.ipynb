{
 "cells": [
  {
   "cell_type": "markdown",
   "metadata": {
    "id": "uEW6AnJQIFpZ"
   },
   "source": [
    "#**Lectura de paquetes y datos**"
   ]
  },
  {
   "cell_type": "code",
   "execution_count": 1,
   "metadata": {
    "colab": {
     "base_uri": "https://localhost:8080/"
    },
    "executionInfo": {
     "elapsed": 6495,
     "status": "ok",
     "timestamp": 1630628145971,
     "user": {
      "displayName": "MARIA INES STIMOLO",
      "photoUrl": "https://lh3.googleusercontent.com/a-/AOh14GiiSi_WlVy1nGXfjnRzL2LpjvRn_JZOB4OpoMFb=s64",
      "userId": "01469115874005837220"
     },
     "user_tz": 180
    },
    "id": "B33Ipc_882-g",
    "outputId": "531db76c-026a-4718-cbc8-d5b17bd44168"
   },
   "outputs": [
    {
     "name": "stdout",
     "output_type": "stream",
     "text": [
      "\u001b[33mWARNING: Value for scheme.headers does not match. Please report this to <https://github.com/pypa/pip/issues/9617>\n",
      "distutils: /home/adalisa/anaconda3/include/python3.7m/UNKNOWN\n",
      "sysconfig: /home/adalisa/anaconda3/include/python3.7m\u001b[0m\n",
      "\u001b[33mWARNING: Additional context:\n",
      "user = False\n",
      "home = None\n",
      "root = None\n",
      "prefix = None\u001b[0m\n",
      "Collecting factor_analyzer\n",
      "  Downloading factor_analyzer-0.3.2.tar.gz (40 kB)\n",
      "\u001b[K     |████████████████████████████████| 40 kB 87 kB/s eta 0:00:01\n",
      "\u001b[?25hRequirement already satisfied: pandas in /home/adalisa/anaconda3/lib/python3.7/site-packages (from factor_analyzer) (1.1.5)\n",
      "Requirement already satisfied: scipy in /home/adalisa/anaconda3/lib/python3.7/site-packages (from factor_analyzer) (1.5.2)\n",
      "Requirement already satisfied: numpy in /home/adalisa/anaconda3/lib/python3.7/site-packages (from factor_analyzer) (1.19.2)\n",
      "Requirement already satisfied: scikit-learn in /home/adalisa/anaconda3/lib/python3.7/site-packages (from factor_analyzer) (0.23.2)\n",
      "Requirement already satisfied: python-dateutil>=2.7.3 in /home/adalisa/anaconda3/lib/python3.7/site-packages (from pandas->factor_analyzer) (2.8.1)\n",
      "Requirement already satisfied: pytz>=2017.2 in /home/adalisa/anaconda3/lib/python3.7/site-packages (from pandas->factor_analyzer) (2020.4)\n",
      "Requirement already satisfied: six>=1.5 in /home/adalisa/anaconda3/lib/python3.7/site-packages (from python-dateutil>=2.7.3->pandas->factor_analyzer) (1.15.0)\n",
      "Requirement already satisfied: threadpoolctl>=2.0.0 in /home/adalisa/anaconda3/lib/python3.7/site-packages (from scikit-learn->factor_analyzer) (2.1.0)\n",
      "Requirement already satisfied: joblib>=0.11 in /home/adalisa/anaconda3/lib/python3.7/site-packages (from scikit-learn->factor_analyzer) (1.0.0)\n",
      "Building wheels for collected packages: factor-analyzer\n",
      "  Building wheel for factor-analyzer (setup.py) ... \u001b[?25ldone\n",
      "\u001b[?25h  Created wheel for factor-analyzer: filename=factor_analyzer-0.3.2-py3-none-any.whl size=40380 sha256=900294ffc0550fc85c83e9f799bcfd7010a9848b26d1ded1a21fb1022543d0d0\n",
      "  Stored in directory: /home/adalisa/.cache/pip/wheels/8d/9e/4c/fd4cb92cecf157b13702cc0907e5c56ddc48e5388134dc9f1a\n",
      "Successfully built factor-analyzer\n",
      "Installing collected packages: factor-analyzer\n",
      "\u001b[33mWARNING: Value for scheme.headers does not match. Please report this to <https://github.com/pypa/pip/issues/9617>\n",
      "distutils: /home/adalisa/anaconda3/include/python3.7m/UNKNOWN\n",
      "sysconfig: /home/adalisa/anaconda3/include/python3.7m\u001b[0m\n",
      "\u001b[33mWARNING: Additional context:\n",
      "user = False\n",
      "home = None\n",
      "root = None\n",
      "prefix = None\u001b[0m\n",
      "Successfully installed factor-analyzer-0.3.2\n",
      "\u001b[33mWARNING: You are using pip version 21.1; however, version 21.2.4 is available.\n",
      "You should consider upgrading via the '/home/adalisa/anaconda3/bin/python -m pip install --upgrade pip' command.\u001b[0m\n"
     ]
    }
   ],
   "source": [
    "# Tratamiento de datos\n",
    "# ==============================================================================\n",
    "import numpy as np\n",
    "import pandas as pd\n",
    "\n",
    "# instalar el paquete prince\n",
    "# ==============================================================================\n",
    "!pip install factor_analyzer\n",
    "\n",
    "# Gráficos\n",
    "# ==============================================================================\n",
    "\n",
    "import matplotlib.pyplot as plt\n",
    "import matplotlib.font_manager\n",
    "from matplotlib import style\n",
    "style.use('ggplot') or plt.style.use('ggplot')\n",
    "import seaborn as sns\n",
    "\n",
    "# Preprocesado y modelado\n",
    "# ==============================================================================\n",
    "from sklearn.decomposition import FactorAnalysis\n",
    "\n",
    "# Configuración warnings\n",
    "# ==============================================================================\n",
    "import warnings\n",
    "warnings.filterwarnings('ignore')"
   ]
  },
  {
   "cell_type": "markdown",
   "metadata": {
    "id": "li-1ykcZJ5-a"
   },
   "source": [
    "#**Indicadores de deuda de países**\n",
    "\n",
    "Los once indicadores que se detallan a continuación, han sido citados repetidamente en los reportes de las agencias calificadoras como determinantes de las calificaciones soberanas y se corresponden con los analizados por un gran número de estudios sobre riesgo crediticio soberano como determinantes de incumplimiento: \n",
    " \n",
    "1. **Producto Bruto Interno (PBI) per cápita ajustado en función de la Paridad de Poder Adquisitivo (PBIpcPPP)**\n",
    "Se estima que un país con creciente nivel de vida y distribución del ingreso equitativa puede respaldar altos niveles de deuda. \n",
    " \n",
    "2. **Tasa de crecimiento anual del PBI real (cPBIr)**\n",
    "Se emplea como una medida del desempeño de la economía. Una tasa de crecimiento relativamente elevada sugiere un mejoramiento dinámico del país y que, por lo tanto, será más fácil para el mismo cumplir con los servicios de su deuda en el tiempo, debido, por ejemplo, al impacto favorable sobre las finanzas públicas vía mayor recaudación fiscal. \n",
    " \n",
    "3. **Variación anual del Tipo de Cambio Real (VTCR)**\n",
    "A mayor tipo de cambio, mayor es la cantidad de moneda local que se requiere para cancelar igual monto de deuda, siendo mayor la carga para cumplir con los compromisos de deuda. Adicionalmente, variaciones amplias de la cotización de la moneda local en términos del dólar estadounidense podrían ser consideradas un factor de inestabilidad.\n",
    " \n",
    "4. **Inflación, medida por el Deflactor del PBI anual (DPBI)**\n",
    "Una alta tasa de inflación revela problemas estructurales en las finanzas del país y puede provocar crisis económicas y descontento político. Las calificadoras de riesgo perciben la inflación como el resultado de una irresponsable administración del gobierno. \n",
    " \n",
    "5. **Cuenta Corriente/PBI (CC.PBI)**\n",
    "Un déficit persistente en cuenta corriente puede implicar la necesidad de financiamiento externo y los inversores perciben, en consecuencia, que puede reducirse la capacidad de repago de la deuda. \n",
    " \n",
    "6. **Deuda Externa Total/Exportaciones (DTE.EX)**\n",
    "El ratio permite tener una referencia de los futuros flujos de pagos que los residentes de un país deberán realizar a no residentes, en relación a la capacidad del país de generar los ingresos necesarios para cumplir con esos compromisos. \n",
    " \n",
    "7. **Servicio de la Deuda Externa Total/Exportaciones (SDT.EX)**\n",
    "También llamado Ratio del Servicio de la Deuda, representa la suma de los reembolsos de principal e intereses realmente pagados en moneda extranjera, bienes o servicios en relación a la capacidad del país de generar los ingresos necesarios para honrar sus compromisos de deuda. Un ratio elevado refleja que una gran proporción de los ingresos por exportaciones son destinados al pago de las deudas. \n",
    " \n",
    "8. **Reservas a Importaciones en número de meses (RaImp)**\n",
    "Las reservas de moneda extranjera en poder del Banco Central de un país son la primera línea de defensa ante la restricción (cancelación) de crédito externo, determinando la capacidad del país de hacer frente a un período de dificultades, en el corto plazo. La suficiencia de las reservas se mide en relación a las importaciones, determinando la cantidad de meses de importaciones que cubren las reservas disponibles. \n",
    " \n",
    "Los datos de los ocho indicadores anteriores fueron obtenidos de Indicadores de Desempeño Mundial publicada por el Banco Mundial y se consideró para cada uno de ellos el valor promedio o mediana entre los  años 2000 – 2007. \n",
    "\n",
    "Los siguientes tres indicadores buscan reflejar los aspectos políticos que inciden en la evaluación del riesgo crediticio de los países soberanos, se obtubvieron del Banco Mundial en Cuestiones de Gobernabilidad V del año 2007.\n",
    " \n",
    " 9. **Indicador de Estabilidad Política (EP.2005)**\n",
    "Este agregado combina diferentes indicadores que miden las percepciones de la probabilidad de que el gobierno en ejercicio sea desestabilizado o derrocado por medios violentos y/o inconstitucionales, incluyendo violencia política y terrorismo.\n",
    " \n",
    "10. **Indicador de Calidad Regulatoria (CR.2005)**\n",
    "Este agregado mide la capacidad del gobierno de formular e implementar políticas profundas y regulaciones que permitan y promuevan el desarrollo del sector privado. Incluye medidas sobre la incidencia de políticas de mercado poco amigables como los controles de precios, la supervisión inadecuada de bancos, al igual que las percepciones sobre cargas impuestas por una regulación excesiva en áreas tales como comercio internacional y desarrollo de los negocios.\n",
    " \n",
    "11. **Indicador de Control de la Corrupción (CC.2005)**\n",
    "En este índice se combinan indicadores que buscan reflejar la existencia de casos de ejercicio de poder público para el beneficio propio.\n"
   ]
  },
  {
   "cell_type": "code",
   "execution_count": 2,
   "metadata": {
    "colab": {
     "base_uri": "https://localhost:8080/"
    },
    "executionInfo": {
     "elapsed": 1102,
     "status": "ok",
     "timestamp": 1630628147069,
     "user": {
      "displayName": "MARIA INES STIMOLO",
      "photoUrl": "https://lh3.googleusercontent.com/a-/AOh14GiiSi_WlVy1nGXfjnRzL2LpjvRn_JZOB4OpoMFb=s64",
      "userId": "01469115874005837220"
     },
     "user_tz": 180
    },
    "id": "G5ElCGzF9O4E",
    "outputId": "a1a7f8e4-e07d-43af-b140-99549c2a5e68"
   },
   "outputs": [
    {
     "name": "stdout",
     "output_type": "stream",
     "text": [
      "<class 'pandas.core.frame.DataFrame'>\n",
      "RangeIndex: 98 entries, 0 to 97\n",
      "Data columns (total 21 columns):\n",
      " #   Column           Non-Null Count  Dtype  \n",
      "---  ------           --------------  -----  \n",
      " 0   Pais             98 non-null     object \n",
      " 1   Codigo_Pais      98 non-null     object \n",
      " 2   Codigo_Ingresos  98 non-null     int64  \n",
      " 3   Codigo_Region    98 non-null     int64  \n",
      " 4   PBIpc            98 non-null     float64\n",
      " 5   cPBIr            98 non-null     float64\n",
      " 6   VTCR             98 non-null     float64\n",
      " 7   DPBI             98 non-null     float64\n",
      " 8   CCPBI            98 non-null     float64\n",
      " 9   RaImp            98 non-null     float64\n",
      " 10  DTEEx            98 non-null     float64\n",
      " 11  DTEPBI           98 non-null     float64\n",
      " 12  SDTEx            98 non-null     float64\n",
      " 13  DPPGEx           98 non-null     float64\n",
      " 14  DPPGPBI          98 non-null     float64\n",
      " 15  SDPPGEx          98 non-null     float64\n",
      " 16  BPGPBI           98 non-null     float64\n",
      " 17  EP2007           98 non-null     float64\n",
      " 18  EG2007           98 non-null     float64\n",
      " 19  CR2007           98 non-null     float64\n",
      " 20  CC2007           98 non-null     float64\n",
      "dtypes: float64(17), int64(2), object(2)\n",
      "memory usage: 16.2+ KB\n"
     ]
    }
   ],
   "source": [
    "# Base de datos \n",
    "# ==============================================================================\n",
    "\n",
    "url = 'https://drive.google.com/file/d/1DntsXvklBiZKF0hY_XsNuv2YwVKSJ_hi/view?usp=sharing'\n",
    "path = 'https://drive.google.com/uc?export=download&id='+url.split('/')[-2]\n",
    "ratios = pd.read_table(path)\n",
    "ratios.info()"
   ]
  },
  {
   "cell_type": "code",
   "execution_count": 3,
   "metadata": {
    "colab": {
     "base_uri": "https://localhost:8080/",
     "height": 222
    },
    "executionInfo": {
     "elapsed": 10,
     "status": "ok",
     "timestamp": 1630628147070,
     "user": {
      "displayName": "MARIA INES STIMOLO",
      "photoUrl": "https://lh3.googleusercontent.com/a-/AOh14GiiSi_WlVy1nGXfjnRzL2LpjvRn_JZOB4OpoMFb=s64",
      "userId": "01469115874005837220"
     },
     "user_tz": 180
    },
    "id": "hpJ1Vl7bEoIJ",
    "outputId": "80f6bcce-646c-488b-8bb0-f42cb594c50d"
   },
   "outputs": [
    {
     "data": {
      "text/html": [
       "<div>\n",
       "<style scoped>\n",
       "    .dataframe tbody tr th:only-of-type {\n",
       "        vertical-align: middle;\n",
       "    }\n",
       "\n",
       "    .dataframe tbody tr th {\n",
       "        vertical-align: top;\n",
       "    }\n",
       "\n",
       "    .dataframe thead th {\n",
       "        text-align: right;\n",
       "    }\n",
       "</style>\n",
       "<table border=\"1\" class=\"dataframe\">\n",
       "  <thead>\n",
       "    <tr style=\"text-align: right;\">\n",
       "      <th></th>\n",
       "      <th>Pais</th>\n",
       "      <th>Codigo_Pais</th>\n",
       "      <th>Codigo_Ingresos</th>\n",
       "      <th>Codigo_Region</th>\n",
       "      <th>PBIpc</th>\n",
       "      <th>cPBIr</th>\n",
       "      <th>VTCR</th>\n",
       "      <th>DPBI</th>\n",
       "      <th>CCPBI</th>\n",
       "      <th>RaImp</th>\n",
       "      <th>...</th>\n",
       "      <th>DTEPBI</th>\n",
       "      <th>SDTEx</th>\n",
       "      <th>DPPGEx</th>\n",
       "      <th>DPPGPBI</th>\n",
       "      <th>SDPPGEx</th>\n",
       "      <th>BPGPBI</th>\n",
       "      <th>EP2007</th>\n",
       "      <th>EG2007</th>\n",
       "      <th>CR2007</th>\n",
       "      <th>CC2007</th>\n",
       "    </tr>\n",
       "  </thead>\n",
       "  <tbody>\n",
       "    <tr>\n",
       "      <th>0</th>\n",
       "      <td>Albania</td>\n",
       "      <td>ALB</td>\n",
       "      <td>4</td>\n",
       "      <td>2</td>\n",
       "      <td>0.0875</td>\n",
       "      <td>0.0986</td>\n",
       "      <td>-0.1675</td>\n",
       "      <td>0.0295</td>\n",
       "      <td>-0.0805</td>\n",
       "      <td>0.0957</td>\n",
       "      <td>...</td>\n",
       "      <td>0.0391</td>\n",
       "      <td>0.0175</td>\n",
       "      <td>0.0498</td>\n",
       "      <td>0.0404</td>\n",
       "      <td>0.0266</td>\n",
       "      <td>-0.0379</td>\n",
       "      <td>-0.0248</td>\n",
       "      <td>-0.0531</td>\n",
       "      <td>0.0148</td>\n",
       "      <td>-0.0812</td>\n",
       "    </tr>\n",
       "    <tr>\n",
       "      <th>1</th>\n",
       "      <td>Argentina</td>\n",
       "      <td>ARG</td>\n",
       "      <td>5</td>\n",
       "      <td>3</td>\n",
       "      <td>0.1679</td>\n",
       "      <td>0.0611</td>\n",
       "      <td>-0.0448</td>\n",
       "      <td>0.0850</td>\n",
       "      <td>0.0327</td>\n",
       "      <td>0.1242</td>\n",
       "      <td>...</td>\n",
       "      <td>0.1261</td>\n",
       "      <td>0.2023</td>\n",
       "      <td>0.1143</td>\n",
       "      <td>0.0910</td>\n",
       "      <td>0.1374</td>\n",
       "      <td>0.0624</td>\n",
       "      <td>0.0206</td>\n",
       "      <td>-0.0150</td>\n",
       "      <td>-0.1175</td>\n",
       "      <td>-0.0600</td>\n",
       "    </tr>\n",
       "    <tr>\n",
       "      <th>2</th>\n",
       "      <td>Armenia</td>\n",
       "      <td>ARM</td>\n",
       "      <td>4</td>\n",
       "      <td>2</td>\n",
       "      <td>0.0585</td>\n",
       "      <td>0.2046</td>\n",
       "      <td>-0.1868</td>\n",
       "      <td>0.0358</td>\n",
       "      <td>-0.0725</td>\n",
       "      <td>0.0794</td>\n",
       "      <td>...</td>\n",
       "      <td>0.0775</td>\n",
       "      <td>0.0540</td>\n",
       "      <td>0.0534</td>\n",
       "      <td>0.0525</td>\n",
       "      <td>0.0363</td>\n",
       "      <td>0.2688</td>\n",
       "      <td>-0.0095</td>\n",
       "      <td>-0.0350</td>\n",
       "      <td>0.0377</td>\n",
       "      <td>-0.0982</td>\n",
       "    </tr>\n",
       "    <tr>\n",
       "      <th>3</th>\n",
       "      <td>Azerbaijan</td>\n",
       "      <td>AZE</td>\n",
       "      <td>4</td>\n",
       "      <td>2</td>\n",
       "      <td>0.0679</td>\n",
       "      <td>0.3024</td>\n",
       "      <td>-0.0794</td>\n",
       "      <td>0.0846</td>\n",
       "      <td>-0.0235</td>\n",
       "      <td>0.0512</td>\n",
       "      <td>...</td>\n",
       "      <td>0.0304</td>\n",
       "      <td>0.0261</td>\n",
       "      <td>0.0149</td>\n",
       "      <td>0.0262</td>\n",
       "      <td>0.0156</td>\n",
       "      <td>0.0198</td>\n",
       "      <td>-0.0776</td>\n",
       "      <td>-0.0959</td>\n",
       "      <td>-0.0772</td>\n",
       "      <td>-0.1399</td>\n",
       "    </tr>\n",
       "    <tr>\n",
       "      <th>4</th>\n",
       "      <td>Bangladesh</td>\n",
       "      <td>BGD</td>\n",
       "      <td>3</td>\n",
       "      <td>6</td>\n",
       "      <td>0.0165</td>\n",
       "      <td>0.1005</td>\n",
       "      <td>0.0419</td>\n",
       "      <td>0.0378</td>\n",
       "      <td>-0.0002</td>\n",
       "      <td>0.0470</td>\n",
       "      <td>...</td>\n",
       "      <td>0.0526</td>\n",
       "      <td>0.0382</td>\n",
       "      <td>0.1084</td>\n",
       "      <td>0.0640</td>\n",
       "      <td>0.0714</td>\n",
       "      <td>-0.0523</td>\n",
       "      <td>-0.1563</td>\n",
       "      <td>-0.1175</td>\n",
       "      <td>-0.1313</td>\n",
       "      <td>-0.1501</td>\n",
       "    </tr>\n",
       "  </tbody>\n",
       "</table>\n",
       "<p>5 rows × 21 columns</p>\n",
       "</div>"
      ],
      "text/plain": [
       "         Pais Codigo_Pais  Codigo_Ingresos  Codigo_Region   PBIpc  cPBIr   \\\n",
       "0     Albania         ALB                4              2  0.0875  0.0986   \n",
       "1   Argentina         ARG                5              3  0.1679  0.0611   \n",
       "2     Armenia         ARM                4              2  0.0585  0.2046   \n",
       "3  Azerbaijan         AZE                4              2  0.0679  0.3024   \n",
       "4  Bangladesh         BGD                3              6  0.0165  0.1005   \n",
       "\n",
       "     VTCR    DPBI   CCPBI   RaImp  ...  DTEPBI   SDTEx  DPPGEx  DPPGPBI  \\\n",
       "0 -0.1675  0.0295 -0.0805  0.0957  ...  0.0391  0.0175  0.0498   0.0404   \n",
       "1 -0.0448  0.0850  0.0327  0.1242  ...  0.1261  0.2023  0.1143   0.0910   \n",
       "2 -0.1868  0.0358 -0.0725  0.0794  ...  0.0775  0.0540  0.0534   0.0525   \n",
       "3 -0.0794  0.0846 -0.0235  0.0512  ...  0.0304  0.0261  0.0149   0.0262   \n",
       "4  0.0419  0.0378 -0.0002  0.0470  ...  0.0526  0.0382  0.1084   0.0640   \n",
       "\n",
       "   SDPPGEx  BPGPBI  EP2007  EG2007  CR2007  CC2007  \n",
       "0   0.0266 -0.0379 -0.0248 -0.0531  0.0148 -0.0812  \n",
       "1   0.1374  0.0624  0.0206 -0.0150 -0.1175 -0.0600  \n",
       "2   0.0363  0.2688 -0.0095 -0.0350  0.0377 -0.0982  \n",
       "3   0.0156  0.0198 -0.0776 -0.0959 -0.0772 -0.1399  \n",
       "4   0.0714 -0.0523 -0.1563 -0.1175 -0.1313 -0.1501  \n",
       "\n",
       "[5 rows x 21 columns]"
      ]
     },
     "execution_count": 3,
     "metadata": {},
     "output_type": "execute_result"
    }
   ],
   "source": [
    "ratios.head()"
   ]
  },
  {
   "cell_type": "code",
   "execution_count": 4,
   "metadata": {
    "colab": {
     "base_uri": "https://localhost:8080/",
     "height": 314
    },
    "executionInfo": {
     "elapsed": 460,
     "status": "ok",
     "timestamp": 1630628147524,
     "user": {
      "displayName": "MARIA INES STIMOLO",
      "photoUrl": "https://lh3.googleusercontent.com/a-/AOh14GiiSi_WlVy1nGXfjnRzL2LpjvRn_JZOB4OpoMFb=s64",
      "userId": "01469115874005837220"
     },
     "user_tz": 180
    },
    "id": "d-OND3mBCd5i",
    "outputId": "c6129f6b-a858-4fa9-e9a3-2fe8776bb9aa"
   },
   "outputs": [
    {
     "data": {
      "text/html": [
       "<div>\n",
       "<style scoped>\n",
       "    .dataframe tbody tr th:only-of-type {\n",
       "        vertical-align: middle;\n",
       "    }\n",
       "\n",
       "    .dataframe tbody tr th {\n",
       "        vertical-align: top;\n",
       "    }\n",
       "\n",
       "    .dataframe thead th {\n",
       "        text-align: right;\n",
       "    }\n",
       "</style>\n",
       "<table border=\"1\" class=\"dataframe\">\n",
       "  <thead>\n",
       "    <tr style=\"text-align: right;\">\n",
       "      <th></th>\n",
       "      <th>Codigo_Ingresos</th>\n",
       "      <th>Codigo_Region</th>\n",
       "      <th>PBIpc</th>\n",
       "      <th>cPBIr</th>\n",
       "      <th>VTCR</th>\n",
       "      <th>DPBI</th>\n",
       "      <th>CCPBI</th>\n",
       "      <th>RaImp</th>\n",
       "      <th>DTEEx</th>\n",
       "      <th>DTEPBI</th>\n",
       "      <th>SDTEx</th>\n",
       "      <th>DPPGEx</th>\n",
       "      <th>DPPGPBI</th>\n",
       "      <th>SDPPGEx</th>\n",
       "      <th>BPGPBI</th>\n",
       "      <th>EP2007</th>\n",
       "      <th>EG2007</th>\n",
       "      <th>CR2007</th>\n",
       "      <th>CC2007</th>\n",
       "    </tr>\n",
       "  </thead>\n",
       "  <tbody>\n",
       "    <tr>\n",
       "      <th>count</th>\n",
       "      <td>98.000000</td>\n",
       "      <td>98.000000</td>\n",
       "      <td>98.000000</td>\n",
       "      <td>98.000000</td>\n",
       "      <td>98.000000</td>\n",
       "      <td>98.000000</td>\n",
       "      <td>98.000000</td>\n",
       "      <td>98.000000</td>\n",
       "      <td>98.000000</td>\n",
       "      <td>98.000000</td>\n",
       "      <td>98.000000</td>\n",
       "      <td>98.000000</td>\n",
       "      <td>98.000000</td>\n",
       "      <td>98.000000</td>\n",
       "      <td>98.000000</td>\n",
       "      <td>98.000000</td>\n",
       "      <td>98.000000</td>\n",
       "      <td>98.000000</td>\n",
       "      <td>98.000000</td>\n",
       "    </tr>\n",
       "    <tr>\n",
       "      <th>mean</th>\n",
       "      <td>4.112245</td>\n",
       "      <td>3.806122</td>\n",
       "      <td>0.080040</td>\n",
       "      <td>0.087929</td>\n",
       "      <td>-0.068304</td>\n",
       "      <td>0.063350</td>\n",
       "      <td>-0.050533</td>\n",
       "      <td>0.085132</td>\n",
       "      <td>0.082163</td>\n",
       "      <td>0.089152</td>\n",
       "      <td>0.080089</td>\n",
       "      <td>0.076768</td>\n",
       "      <td>0.083893</td>\n",
       "      <td>0.081219</td>\n",
       "      <td>0.006637</td>\n",
       "      <td>-0.034917</td>\n",
       "      <td>-0.047664</td>\n",
       "      <td>-0.036155</td>\n",
       "      <td>-0.058265</td>\n",
       "    </tr>\n",
       "    <tr>\n",
       "      <th>std</th>\n",
       "      <td>0.771699</td>\n",
       "      <td>2.264282</td>\n",
       "      <td>0.061626</td>\n",
       "      <td>0.045099</td>\n",
       "      <td>0.069966</td>\n",
       "      <td>0.046974</td>\n",
       "      <td>0.087614</td>\n",
       "      <td>0.054143</td>\n",
       "      <td>0.058632</td>\n",
       "      <td>0.045926</td>\n",
       "      <td>0.060859</td>\n",
       "      <td>0.065514</td>\n",
       "      <td>0.054563</td>\n",
       "      <td>0.058028</td>\n",
       "      <td>0.079726</td>\n",
       "      <td>0.095126</td>\n",
       "      <td>0.086752</td>\n",
       "      <td>0.092683</td>\n",
       "      <td>0.081180</td>\n",
       "    </tr>\n",
       "    <tr>\n",
       "      <th>min</th>\n",
       "      <td>3.000000</td>\n",
       "      <td>1.000000</td>\n",
       "      <td>0.009500</td>\n",
       "      <td>-0.002700</td>\n",
       "      <td>-0.250200</td>\n",
       "      <td>0.007500</td>\n",
       "      <td>-0.339400</td>\n",
       "      <td>0.015500</td>\n",
       "      <td>0.005000</td>\n",
       "      <td>0.008700</td>\n",
       "      <td>0.005400</td>\n",
       "      <td>0.003400</td>\n",
       "      <td>0.008300</td>\n",
       "      <td>0.004700</td>\n",
       "      <td>-0.162200</td>\n",
       "      <td>-0.274000</td>\n",
       "      <td>-0.263300</td>\n",
       "      <td>-0.239500</td>\n",
       "      <td>-0.185800</td>\n",
       "    </tr>\n",
       "    <tr>\n",
       "      <th>25%</th>\n",
       "      <td>4.000000</td>\n",
       "      <td>2.000000</td>\n",
       "      <td>0.025950</td>\n",
       "      <td>0.061300</td>\n",
       "      <td>-0.122575</td>\n",
       "      <td>0.028525</td>\n",
       "      <td>-0.081250</td>\n",
       "      <td>0.053325</td>\n",
       "      <td>0.045075</td>\n",
       "      <td>0.060025</td>\n",
       "      <td>0.038600</td>\n",
       "      <td>0.029150</td>\n",
       "      <td>0.039650</td>\n",
       "      <td>0.043575</td>\n",
       "      <td>-0.038775</td>\n",
       "      <td>-0.080675</td>\n",
       "      <td>-0.111250</td>\n",
       "      <td>-0.094350</td>\n",
       "      <td>-0.118375</td>\n",
       "    </tr>\n",
       "    <tr>\n",
       "      <th>50%</th>\n",
       "      <td>4.000000</td>\n",
       "      <td>3.000000</td>\n",
       "      <td>0.061800</td>\n",
       "      <td>0.084600</td>\n",
       "      <td>-0.062950</td>\n",
       "      <td>0.053350</td>\n",
       "      <td>-0.042200</td>\n",
       "      <td>0.068700</td>\n",
       "      <td>0.069050</td>\n",
       "      <td>0.081300</td>\n",
       "      <td>0.058650</td>\n",
       "      <td>0.058500</td>\n",
       "      <td>0.073350</td>\n",
       "      <td>0.070600</td>\n",
       "      <td>-0.006650</td>\n",
       "      <td>-0.020550</td>\n",
       "      <td>-0.059900</td>\n",
       "      <td>-0.045750</td>\n",
       "      <td>-0.074650</td>\n",
       "    </tr>\n",
       "    <tr>\n",
       "      <th>75%</th>\n",
       "      <td>5.000000</td>\n",
       "      <td>7.000000</td>\n",
       "      <td>0.124125</td>\n",
       "      <td>0.111325</td>\n",
       "      <td>-0.008700</td>\n",
       "      <td>0.077250</td>\n",
       "      <td>-0.005025</td>\n",
       "      <td>0.103525</td>\n",
       "      <td>0.106225</td>\n",
       "      <td>0.111925</td>\n",
       "      <td>0.103350</td>\n",
       "      <td>0.099050</td>\n",
       "      <td>0.110775</td>\n",
       "      <td>0.099225</td>\n",
       "      <td>0.036450</td>\n",
       "      <td>0.026925</td>\n",
       "      <td>0.007425</td>\n",
       "      <td>0.030800</td>\n",
       "      <td>-0.023350</td>\n",
       "    </tr>\n",
       "    <tr>\n",
       "      <th>max</th>\n",
       "      <td>5.000000</td>\n",
       "      <td>7.000000</td>\n",
       "      <td>0.286300</td>\n",
       "      <td>0.302400</td>\n",
       "      <td>0.092000</td>\n",
       "      <td>0.254600</td>\n",
       "      <td>0.199800</td>\n",
       "      <td>0.394600</td>\n",
       "      <td>0.304500</td>\n",
       "      <td>0.248600</td>\n",
       "      <td>0.360600</td>\n",
       "      <td>0.343200</td>\n",
       "      <td>0.265400</td>\n",
       "      <td>0.348600</td>\n",
       "      <td>0.268800</td>\n",
       "      <td>0.142100</td>\n",
       "      <td>0.181400</td>\n",
       "      <td>0.222400</td>\n",
       "      <td>0.185200</td>\n",
       "    </tr>\n",
       "  </tbody>\n",
       "</table>\n",
       "</div>"
      ],
      "text/plain": [
       "       Codigo_Ingresos  Codigo_Region      PBIpc     cPBIr        VTCR  \\\n",
       "count        98.000000      98.000000  98.000000  98.000000  98.000000   \n",
       "mean          4.112245       3.806122   0.080040   0.087929  -0.068304   \n",
       "std           0.771699       2.264282   0.061626   0.045099   0.069966   \n",
       "min           3.000000       1.000000   0.009500  -0.002700  -0.250200   \n",
       "25%           4.000000       2.000000   0.025950   0.061300  -0.122575   \n",
       "50%           4.000000       3.000000   0.061800   0.084600  -0.062950   \n",
       "75%           5.000000       7.000000   0.124125   0.111325  -0.008700   \n",
       "max           5.000000       7.000000   0.286300   0.302400   0.092000   \n",
       "\n",
       "            DPBI      CCPBI      RaImp      DTEEx     DTEPBI      SDTEx  \\\n",
       "count  98.000000  98.000000  98.000000  98.000000  98.000000  98.000000   \n",
       "mean    0.063350  -0.050533   0.085132   0.082163   0.089152   0.080089   \n",
       "std     0.046974   0.087614   0.054143   0.058632   0.045926   0.060859   \n",
       "min     0.007500  -0.339400   0.015500   0.005000   0.008700   0.005400   \n",
       "25%     0.028525  -0.081250   0.053325   0.045075   0.060025   0.038600   \n",
       "50%     0.053350  -0.042200   0.068700   0.069050   0.081300   0.058650   \n",
       "75%     0.077250  -0.005025   0.103525   0.106225   0.111925   0.103350   \n",
       "max     0.254600   0.199800   0.394600   0.304500   0.248600   0.360600   \n",
       "\n",
       "          DPPGEx    DPPGPBI    SDPPGEx     BPGPBI     EP2007     EG2007  \\\n",
       "count  98.000000  98.000000  98.000000  98.000000  98.000000  98.000000   \n",
       "mean    0.076768   0.083893   0.081219   0.006637  -0.034917  -0.047664   \n",
       "std     0.065514   0.054563   0.058028   0.079726   0.095126   0.086752   \n",
       "min     0.003400   0.008300   0.004700  -0.162200  -0.274000  -0.263300   \n",
       "25%     0.029150   0.039650   0.043575  -0.038775  -0.080675  -0.111250   \n",
       "50%     0.058500   0.073350   0.070600  -0.006650  -0.020550  -0.059900   \n",
       "75%     0.099050   0.110775   0.099225   0.036450   0.026925   0.007425   \n",
       "max     0.343200   0.265400   0.348600   0.268800   0.142100   0.181400   \n",
       "\n",
       "          CR2007     CC2007  \n",
       "count  98.000000  98.000000  \n",
       "mean   -0.036155  -0.058265  \n",
       "std     0.092683   0.081180  \n",
       "min    -0.239500  -0.185800  \n",
       "25%    -0.094350  -0.118375  \n",
       "50%    -0.045750  -0.074650  \n",
       "75%     0.030800  -0.023350  \n",
       "max     0.222400   0.185200  "
      ]
     },
     "execution_count": 4,
     "metadata": {},
     "output_type": "execute_result"
    }
   ],
   "source": [
    "ratios.describe()"
   ]
  },
  {
   "cell_type": "code",
   "execution_count": 5,
   "metadata": {
    "colab": {
     "base_uri": "https://localhost:8080/",
     "height": 347
    },
    "executionInfo": {
     "elapsed": 19,
     "status": "ok",
     "timestamp": 1630628147526,
     "user": {
      "displayName": "MARIA INES STIMOLO",
      "photoUrl": "https://lh3.googleusercontent.com/a-/AOh14GiiSi_WlVy1nGXfjnRzL2LpjvRn_JZOB4OpoMFb=s64",
      "userId": "01469115874005837220"
     },
     "user_tz": 180
    },
    "id": "vVI1N3J4UCy2",
    "outputId": "01af57b2-bcca-43b5-a623-839a6b9c7b87"
   },
   "outputs": [
    {
     "name": "stdout",
     "output_type": "stream",
     "text": [
      "------------------------------------------\n",
      "Seleccionamos las variables para  trabajar\n",
      "------------------------------------------\n"
     ]
    },
    {
     "data": {
      "text/html": [
       "<div>\n",
       "<style scoped>\n",
       "    .dataframe tbody tr th:only-of-type {\n",
       "        vertical-align: middle;\n",
       "    }\n",
       "\n",
       "    .dataframe tbody tr th {\n",
       "        vertical-align: top;\n",
       "    }\n",
       "\n",
       "    .dataframe thead th {\n",
       "        text-align: right;\n",
       "    }\n",
       "</style>\n",
       "<table border=\"1\" class=\"dataframe\">\n",
       "  <thead>\n",
       "    <tr style=\"text-align: right;\">\n",
       "      <th></th>\n",
       "      <th>cPBIr</th>\n",
       "      <th>VTCR</th>\n",
       "      <th>DPBI</th>\n",
       "      <th>CCPBI</th>\n",
       "      <th>RaImp</th>\n",
       "      <th>DTEEx</th>\n",
       "      <th>DTEPBI</th>\n",
       "      <th>SDTEx</th>\n",
       "      <th>DPPGEx</th>\n",
       "      <th>DPPGPBI</th>\n",
       "      <th>SDPPGEx</th>\n",
       "      <th>BPGPBI</th>\n",
       "      <th>EP2007</th>\n",
       "      <th>EG2007</th>\n",
       "      <th>CR2007</th>\n",
       "      <th>CC2007</th>\n",
       "    </tr>\n",
       "  </thead>\n",
       "  <tbody>\n",
       "    <tr>\n",
       "      <th>count</th>\n",
       "      <td>98.000000</td>\n",
       "      <td>98.000000</td>\n",
       "      <td>98.000000</td>\n",
       "      <td>98.000000</td>\n",
       "      <td>98.000000</td>\n",
       "      <td>98.000000</td>\n",
       "      <td>98.000000</td>\n",
       "      <td>98.000000</td>\n",
       "      <td>98.000000</td>\n",
       "      <td>98.000000</td>\n",
       "      <td>98.000000</td>\n",
       "      <td>98.000000</td>\n",
       "      <td>98.000000</td>\n",
       "      <td>98.000000</td>\n",
       "      <td>98.000000</td>\n",
       "      <td>98.000000</td>\n",
       "    </tr>\n",
       "    <tr>\n",
       "      <th>mean</th>\n",
       "      <td>0.087929</td>\n",
       "      <td>-0.068304</td>\n",
       "      <td>0.063350</td>\n",
       "      <td>-0.050533</td>\n",
       "      <td>0.085132</td>\n",
       "      <td>0.082163</td>\n",
       "      <td>0.089152</td>\n",
       "      <td>0.080089</td>\n",
       "      <td>0.076768</td>\n",
       "      <td>0.083893</td>\n",
       "      <td>0.081219</td>\n",
       "      <td>0.006637</td>\n",
       "      <td>-0.034917</td>\n",
       "      <td>-0.047664</td>\n",
       "      <td>-0.036155</td>\n",
       "      <td>-0.058265</td>\n",
       "    </tr>\n",
       "    <tr>\n",
       "      <th>std</th>\n",
       "      <td>0.045099</td>\n",
       "      <td>0.069966</td>\n",
       "      <td>0.046974</td>\n",
       "      <td>0.087614</td>\n",
       "      <td>0.054143</td>\n",
       "      <td>0.058632</td>\n",
       "      <td>0.045926</td>\n",
       "      <td>0.060859</td>\n",
       "      <td>0.065514</td>\n",
       "      <td>0.054563</td>\n",
       "      <td>0.058028</td>\n",
       "      <td>0.079726</td>\n",
       "      <td>0.095126</td>\n",
       "      <td>0.086752</td>\n",
       "      <td>0.092683</td>\n",
       "      <td>0.081180</td>\n",
       "    </tr>\n",
       "    <tr>\n",
       "      <th>min</th>\n",
       "      <td>-0.002700</td>\n",
       "      <td>-0.250200</td>\n",
       "      <td>0.007500</td>\n",
       "      <td>-0.339400</td>\n",
       "      <td>0.015500</td>\n",
       "      <td>0.005000</td>\n",
       "      <td>0.008700</td>\n",
       "      <td>0.005400</td>\n",
       "      <td>0.003400</td>\n",
       "      <td>0.008300</td>\n",
       "      <td>0.004700</td>\n",
       "      <td>-0.162200</td>\n",
       "      <td>-0.274000</td>\n",
       "      <td>-0.263300</td>\n",
       "      <td>-0.239500</td>\n",
       "      <td>-0.185800</td>\n",
       "    </tr>\n",
       "    <tr>\n",
       "      <th>25%</th>\n",
       "      <td>0.061300</td>\n",
       "      <td>-0.122575</td>\n",
       "      <td>0.028525</td>\n",
       "      <td>-0.081250</td>\n",
       "      <td>0.053325</td>\n",
       "      <td>0.045075</td>\n",
       "      <td>0.060025</td>\n",
       "      <td>0.038600</td>\n",
       "      <td>0.029150</td>\n",
       "      <td>0.039650</td>\n",
       "      <td>0.043575</td>\n",
       "      <td>-0.038775</td>\n",
       "      <td>-0.080675</td>\n",
       "      <td>-0.111250</td>\n",
       "      <td>-0.094350</td>\n",
       "      <td>-0.118375</td>\n",
       "    </tr>\n",
       "    <tr>\n",
       "      <th>50%</th>\n",
       "      <td>0.084600</td>\n",
       "      <td>-0.062950</td>\n",
       "      <td>0.053350</td>\n",
       "      <td>-0.042200</td>\n",
       "      <td>0.068700</td>\n",
       "      <td>0.069050</td>\n",
       "      <td>0.081300</td>\n",
       "      <td>0.058650</td>\n",
       "      <td>0.058500</td>\n",
       "      <td>0.073350</td>\n",
       "      <td>0.070600</td>\n",
       "      <td>-0.006650</td>\n",
       "      <td>-0.020550</td>\n",
       "      <td>-0.059900</td>\n",
       "      <td>-0.045750</td>\n",
       "      <td>-0.074650</td>\n",
       "    </tr>\n",
       "    <tr>\n",
       "      <th>75%</th>\n",
       "      <td>0.111325</td>\n",
       "      <td>-0.008700</td>\n",
       "      <td>0.077250</td>\n",
       "      <td>-0.005025</td>\n",
       "      <td>0.103525</td>\n",
       "      <td>0.106225</td>\n",
       "      <td>0.111925</td>\n",
       "      <td>0.103350</td>\n",
       "      <td>0.099050</td>\n",
       "      <td>0.110775</td>\n",
       "      <td>0.099225</td>\n",
       "      <td>0.036450</td>\n",
       "      <td>0.026925</td>\n",
       "      <td>0.007425</td>\n",
       "      <td>0.030800</td>\n",
       "      <td>-0.023350</td>\n",
       "    </tr>\n",
       "    <tr>\n",
       "      <th>max</th>\n",
       "      <td>0.302400</td>\n",
       "      <td>0.092000</td>\n",
       "      <td>0.254600</td>\n",
       "      <td>0.199800</td>\n",
       "      <td>0.394600</td>\n",
       "      <td>0.304500</td>\n",
       "      <td>0.248600</td>\n",
       "      <td>0.360600</td>\n",
       "      <td>0.343200</td>\n",
       "      <td>0.265400</td>\n",
       "      <td>0.348600</td>\n",
       "      <td>0.268800</td>\n",
       "      <td>0.142100</td>\n",
       "      <td>0.181400</td>\n",
       "      <td>0.222400</td>\n",
       "      <td>0.185200</td>\n",
       "    </tr>\n",
       "  </tbody>\n",
       "</table>\n",
       "</div>"
      ],
      "text/plain": [
       "          cPBIr        VTCR       DPBI      CCPBI      RaImp      DTEEx  \\\n",
       "count  98.000000  98.000000  98.000000  98.000000  98.000000  98.000000   \n",
       "mean    0.087929  -0.068304   0.063350  -0.050533   0.085132   0.082163   \n",
       "std     0.045099   0.069966   0.046974   0.087614   0.054143   0.058632   \n",
       "min    -0.002700  -0.250200   0.007500  -0.339400   0.015500   0.005000   \n",
       "25%     0.061300  -0.122575   0.028525  -0.081250   0.053325   0.045075   \n",
       "50%     0.084600  -0.062950   0.053350  -0.042200   0.068700   0.069050   \n",
       "75%     0.111325  -0.008700   0.077250  -0.005025   0.103525   0.106225   \n",
       "max     0.302400   0.092000   0.254600   0.199800   0.394600   0.304500   \n",
       "\n",
       "          DTEPBI      SDTEx     DPPGEx    DPPGPBI    SDPPGEx     BPGPBI  \\\n",
       "count  98.000000  98.000000  98.000000  98.000000  98.000000  98.000000   \n",
       "mean    0.089152   0.080089   0.076768   0.083893   0.081219   0.006637   \n",
       "std     0.045926   0.060859   0.065514   0.054563   0.058028   0.079726   \n",
       "min     0.008700   0.005400   0.003400   0.008300   0.004700  -0.162200   \n",
       "25%     0.060025   0.038600   0.029150   0.039650   0.043575  -0.038775   \n",
       "50%     0.081300   0.058650   0.058500   0.073350   0.070600  -0.006650   \n",
       "75%     0.111925   0.103350   0.099050   0.110775   0.099225   0.036450   \n",
       "max     0.248600   0.360600   0.343200   0.265400   0.348600   0.268800   \n",
       "\n",
       "          EP2007     EG2007     CR2007     CC2007  \n",
       "count  98.000000  98.000000  98.000000  98.000000  \n",
       "mean   -0.034917  -0.047664  -0.036155  -0.058265  \n",
       "std     0.095126   0.086752   0.092683   0.081180  \n",
       "min    -0.274000  -0.263300  -0.239500  -0.185800  \n",
       "25%    -0.080675  -0.111250  -0.094350  -0.118375  \n",
       "50%    -0.020550  -0.059900  -0.045750  -0.074650  \n",
       "75%     0.026925   0.007425   0.030800  -0.023350  \n",
       "max     0.142100   0.181400   0.222400   0.185200  "
      ]
     },
     "execution_count": 5,
     "metadata": {},
     "output_type": "execute_result"
    }
   ],
   "source": [
    "print('------------------------------------------')\n",
    "print('Seleccionamos las variables para  trabajar')\n",
    "print('------------------------------------------')\n",
    "\n",
    "X=  ratios.iloc[:, 5:21]\n",
    "# guardamos sus nombres en un  objeto\n",
    "names_var =ratios.columns[5:21] \n",
    "X.describe()"
   ]
  },
  {
   "cell_type": "code",
   "execution_count": 6,
   "metadata": {
    "colab": {
     "base_uri": "https://localhost:8080/"
    },
    "executionInfo": {
     "elapsed": 17,
     "status": "ok",
     "timestamp": 1630628147528,
     "user": {
      "displayName": "MARIA INES STIMOLO",
      "photoUrl": "https://lh3.googleusercontent.com/a-/AOh14GiiSi_WlVy1nGXfjnRzL2LpjvRn_JZOB4OpoMFb=s64",
      "userId": "01469115874005837220"
     },
     "user_tz": 180
    },
    "id": "9vqiEH46skNi",
    "outputId": "f8f53177-e6ff-4b11-d3f8-491b6321fd22"
   },
   "outputs": [
    {
     "name": "stdout",
     "output_type": "stream",
     "text": [
      "--------------------------------------------------------\n",
      "Analisis de la estructura de correlación entre variables\n",
      "--------------------------------------------------------\n"
     ]
    },
    {
     "data": {
      "text/plain": [
       "(16, 16)"
      ]
     },
     "execution_count": 6,
     "metadata": {},
     "output_type": "execute_result"
    }
   ],
   "source": [
    "print('--------------------------------------------------------')\n",
    "print('Analisis de la estructura de correlación entre variables')\n",
    "print('--------------------------------------------------------')\n",
    "corrX = X.corr(method='pearson')\n",
    "corrX.shape"
   ]
  },
  {
   "cell_type": "code",
   "execution_count": 7,
   "metadata": {
    "colab": {
     "base_uri": "https://localhost:8080/",
     "height": 1000
    },
    "executionInfo": {
     "elapsed": 2165,
     "status": "ok",
     "timestamp": 1630628149679,
     "user": {
      "displayName": "MARIA INES STIMOLO",
      "photoUrl": "https://lh3.googleusercontent.com/a-/AOh14GiiSi_WlVy1nGXfjnRzL2LpjvRn_JZOB4OpoMFb=s64",
      "userId": "01469115874005837220"
     },
     "user_tz": 180
    },
    "id": "5QmzfVeZsI9N",
    "outputId": "60159382-5b58-4f61-cede-559bcb47f326"
   },
   "outputs": [
    {
     "data": {
      "text/plain": [
       "Text(0.5, 1.0, 'Matriz de correlación')"
      ]
     },
     "execution_count": 7,
     "metadata": {},
     "output_type": "execute_result"
    },
    {
     "data": {
      "image/png": "[encoded data removed]",
      "text/plain": [
       "<Figure size 1800x1800 with 2 Axes>"
      ]
     },
     "metadata": {},
     "output_type": "display_data"
    }
   ],
   "source": [
    "# Heatmap matriz de correlaciones. Usando paquete matplotlib.pyplot\n",
    "# ==================================================================\n",
    "\n",
    "fig, ax = plt.subplots(nrows=1, ncols=1, figsize=(25, 25))\n",
    "\n",
    "sns.heatmap(corrX,\n",
    "    annot     = True,\n",
    "    cbar      = True,\n",
    "    annot_kws = {\"size\": 10},\n",
    "    vmin      = -1,\n",
    "    vmax      = 1,\n",
    "    center    = 0,\n",
    "    cmap      = sns.diverging_palette(20, 250, n=200),\n",
    "    square    = True,\n",
    "    ax        = ax\n",
    ")\n",
    "\n",
    "ax.set_xticklabels(\n",
    "    ax.get_xticklabels(),\n",
    "    rotation = 45,\n",
    "    horizontalalignment = 'right',\n",
    ")\n",
    "\n",
    "ax.tick_params(labelsize = 2)\n",
    "plt.title('Matriz de correlación')\n"
   ]
  },
  {
   "cell_type": "code",
   "execution_count": 8,
   "metadata": {
    "colab": {
     "base_uri": "https://localhost:8080/"
    },
    "executionInfo": {
     "elapsed": 561,
     "status": "ok",
     "timestamp": 1630628150233,
     "user": {
      "displayName": "MARIA INES STIMOLO",
      "photoUrl": "https://lh3.googleusercontent.com/a-/AOh14GiiSi_WlVy1nGXfjnRzL2LpjvRn_JZOB4OpoMFb=s64",
      "userId": "01469115874005837220"
     },
     "user_tz": 180
    },
    "id": "GYJURLwsscs2",
    "outputId": "2c3d79e0-923e-47e6-8892-2426062e380f"
   },
   "outputs": [
    {
     "data": {
      "text/plain": [
       "FactorAnalyzer(impute='drop', n_factors=16, rotation=None, rotation_kwargs={})"
      ]
     },
     "execution_count": 8,
     "metadata": {},
     "output_type": "execute_result"
    }
   ],
   "source": [
    "from factor_analyzer import FactorAnalyzer\n",
    "fa = FactorAnalyzer(n_factors=X.shape[1],rotation = None,impute = \"drop\",method='minres',is_corr_matrix=False)\n",
    "fa.fit(X)\n",
    "\n",
    "#Pemite la imputación de datos perdidos, impute : {'drop', 'mean', 'median'}, optional/ drop por defecto\n",
    "# Metodos de ajuste que se pueden elegir: MINRES or Maximum Likelihood. Defaults to 'minres'.\n",
    "  ## Al final de este colab hay una descrición de algunos métodos de estimación.\n",
    "\n",
    "#rotation: Methods include: (a) varimax (orthogonal rotation) (b) promax (oblique rotation) (c) oblimin (oblique rotation) (d) oblimax (orthogonal rotation) (e) quartimin (oblique rotation) (f) quartimax (orthogonal rotation) (g) equamax (orthogonal rotation)    Defaults to 'promax'.\n",
    "          #'promax' poir defecto.\n"
   ]
  },
  {
   "cell_type": "markdown",
   "metadata": {
    "id": "REEZnu36MQXS"
   },
   "source": [
    "**Determinación del número de factores**\n",
    "\n",
    "Número máximo de factores: Los que cumplan la desigualdad $p (p+1)/2\\geq p (m +1)$\n"
   ]
  },
  {
   "cell_type": "code",
   "execution_count": 12,
   "metadata": {
    "colab": {
     "base_uri": "https://localhost:8080/",
     "height": 592
    },
    "executionInfo": {
     "elapsed": 50,
     "status": "ok",
     "timestamp": 1630628150234,
     "user": {
      "displayName": "MARIA INES STIMOLO",
      "photoUrl": "https://lh3.googleusercontent.com/a-/AOh14GiiSi_WlVy1nGXfjnRzL2LpjvRn_JZOB4OpoMFb=s64",
      "userId": "01469115874005837220"
     },
     "user_tz": 180
    },
    "id": "xkx5UDyx-ssC",
    "outputId": "cf178832-4aa5-4fdd-f6b3-748a5bee85e3"
   },
   "outputs": [
    {
     "name": "stdout",
     "output_type": "stream",
     "text": [
      "----------------------------------------------------------\n",
      "Elegir la cantidad de factores mirando los valores propios\n",
      "----------------------------------------------------------\n"
     ]
    },
    {
     "data": {
      "text/html": [
       "<div>\n",
       "<style scoped>\n",
       "    .dataframe tbody tr th:only-of-type {\n",
       "        vertical-align: middle;\n",
       "    }\n",
       "\n",
       "    .dataframe tbody tr th {\n",
       "        vertical-align: top;\n",
       "    }\n",
       "\n",
       "    .dataframe thead th {\n",
       "        text-align: right;\n",
       "    }\n",
       "</style>\n",
       "<table border=\"1\" class=\"dataframe\">\n",
       "  <thead>\n",
       "    <tr style=\"text-align: right;\">\n",
       "      <th></th>\n",
       "      <th>0</th>\n",
       "    </tr>\n",
       "  </thead>\n",
       "  <tbody>\n",
       "    <tr>\n",
       "      <th>0</th>\n",
       "      <td>4.323339</td>\n",
       "    </tr>\n",
       "    <tr>\n",
       "      <th>1</th>\n",
       "      <td>2.975163</td>\n",
       "    </tr>\n",
       "    <tr>\n",
       "      <th>2</th>\n",
       "      <td>1.972188</td>\n",
       "    </tr>\n",
       "    <tr>\n",
       "      <th>3</th>\n",
       "      <td>1.413933</td>\n",
       "    </tr>\n",
       "    <tr>\n",
       "      <th>4</th>\n",
       "      <td>1.174736</td>\n",
       "    </tr>\n",
       "    <tr>\n",
       "      <th>5</th>\n",
       "      <td>0.856644</td>\n",
       "    </tr>\n",
       "    <tr>\n",
       "      <th>6</th>\n",
       "      <td>0.775609</td>\n",
       "    </tr>\n",
       "    <tr>\n",
       "      <th>7</th>\n",
       "      <td>0.708365</td>\n",
       "    </tr>\n",
       "    <tr>\n",
       "      <th>8</th>\n",
       "      <td>0.551098</td>\n",
       "    </tr>\n",
       "    <tr>\n",
       "      <th>9</th>\n",
       "      <td>0.394826</td>\n",
       "    </tr>\n",
       "    <tr>\n",
       "      <th>10</th>\n",
       "      <td>0.337831</td>\n",
       "    </tr>\n",
       "    <tr>\n",
       "      <th>11</th>\n",
       "      <td>0.255289</td>\n",
       "    </tr>\n",
       "    <tr>\n",
       "      <th>12</th>\n",
       "      <td>0.137913</td>\n",
       "    </tr>\n",
       "    <tr>\n",
       "      <th>13</th>\n",
       "      <td>0.073452</td>\n",
       "    </tr>\n",
       "    <tr>\n",
       "      <th>14</th>\n",
       "      <td>0.043736</td>\n",
       "    </tr>\n",
       "    <tr>\n",
       "      <th>15</th>\n",
       "      <td>0.005879</td>\n",
       "    </tr>\n",
       "  </tbody>\n",
       "</table>\n",
       "</div>"
      ],
      "text/plain": [
       "           0\n",
       "0   4.323339\n",
       "1   2.975163\n",
       "2   1.972188\n",
       "3   1.413933\n",
       "4   1.174736\n",
       "5   0.856644\n",
       "6   0.775609\n",
       "7   0.708365\n",
       "8   0.551098\n",
       "9   0.394826\n",
       "10  0.337831\n",
       "11  0.255289\n",
       "12  0.137913\n",
       "13  0.073452\n",
       "14  0.043736\n",
       "15  0.005879"
      ]
     },
     "execution_count": 12,
     "metadata": {},
     "output_type": "execute_result"
    }
   ],
   "source": [
    "print('----------------------------------------------------------')\n",
    "print ('Elegir la cantidad de factores mirando los valores propios')\n",
    "print('----------------------------------------------------------')\n",
    "ev, v = fa.get_eigenvalues()\n",
    "pd.DataFrame(ev)\n",
    "    \n"
   ]
  },
  {
   "cell_type": "code",
   "execution_count": 13,
   "metadata": {
    "colab": {
     "base_uri": "https://localhost:8080/",
     "height": 298
    },
    "executionInfo": {
     "elapsed": 47,
     "status": "ok",
     "timestamp": 1630628150236,
     "user": {
      "displayName": "MARIA INES STIMOLO",
      "photoUrl": "https://lh3.googleusercontent.com/a-/AOh14GiiSi_WlVy1nGXfjnRzL2LpjvRn_JZOB4OpoMFb=s64",
      "userId": "01469115874005837220"
     },
     "user_tz": 180
    },
    "id": "_V7H5qzMkcN4",
    "outputId": "c30dce4d-e722-42ea-b61f-27de7067d17e"
   },
   "outputs": [
    {
     "data": {
      "image/png": "[encoded data removed]",
      "text/plain": [
       "<Figure size 432x288 with 1 Axes>"
      ]
     },
     "metadata": {},
     "output_type": "display_data"
    }
   ],
   "source": [
    "# Create scree plot using matplotlib\n",
    "plt.scatter(range(1,X.shape[1]+1),ev)\n",
    "plt.plot(range(1,X.shape[1]+1),ev)\n",
    "plt.title('Gráfico de sedimentación')\n",
    "plt.xlabel('Factores')\n",
    "plt.ylabel('Autovalores')\n",
    "plt.grid()\n",
    "plt.show()  "
   ]
  },
  {
   "cell_type": "markdown",
   "metadata": {
    "id": "RBas7JcpikLP"
   },
   "source": [
    "Si la unicidad es alta ( significa que esa variable no está explicada por los constructos) Son considerados altos los valores mayores a 0,6.\n",
    "Identificar las variables con valoes mayores a 0,6."
   ]
  },
  {
   "cell_type": "code",
   "execution_count": 14,
   "metadata": {
    "colab": {
     "base_uri": "https://localhost:8080/",
     "height": 110
    },
    "executionInfo": {
     "elapsed": 48,
     "status": "ok",
     "timestamp": 1630628150239,
     "user": {
      "displayName": "MARIA INES STIMOLO",
      "photoUrl": "https://lh3.googleusercontent.com/a-/AOh14GiiSi_WlVy1nGXfjnRzL2LpjvRn_JZOB4OpoMFb=s64",
      "userId": "01469115874005837220"
     },
     "user_tz": 180
    },
    "id": "70CEzK-hpSp-",
    "outputId": "9adb9dcf-0c8b-4720-8dc2-b0d26099b3ef"
   },
   "outputs": [
    {
     "data": {
      "text/html": [
       "<div>\n",
       "<style scoped>\n",
       "    .dataframe tbody tr th:only-of-type {\n",
       "        vertical-align: middle;\n",
       "    }\n",
       "\n",
       "    .dataframe tbody tr th {\n",
       "        vertical-align: top;\n",
       "    }\n",
       "\n",
       "    .dataframe thead th {\n",
       "        text-align: right;\n",
       "    }\n",
       "</style>\n",
       "<table border=\"1\" class=\"dataframe\">\n",
       "  <thead>\n",
       "    <tr style=\"text-align: right;\">\n",
       "      <th></th>\n",
       "      <th>cPBIr</th>\n",
       "      <th>VTCR</th>\n",
       "      <th>DPBI</th>\n",
       "      <th>CCPBI</th>\n",
       "      <th>RaImp</th>\n",
       "      <th>DTEEx</th>\n",
       "      <th>DTEPBI</th>\n",
       "      <th>SDTEx</th>\n",
       "      <th>DPPGEx</th>\n",
       "      <th>DPPGPBI</th>\n",
       "      <th>SDPPGEx</th>\n",
       "      <th>BPGPBI</th>\n",
       "      <th>EP2007</th>\n",
       "      <th>EG2007</th>\n",
       "      <th>CR2007</th>\n",
       "      <th>CC2007</th>\n",
       "    </tr>\n",
       "  </thead>\n",
       "  <tbody>\n",
       "    <tr>\n",
       "      <th>Comunalidad</th>\n",
       "      <td>0.413888</td>\n",
       "      <td>0.500024</td>\n",
       "      <td>0.562136</td>\n",
       "      <td>0.901607</td>\n",
       "      <td>0.559233</td>\n",
       "      <td>0.995092</td>\n",
       "      <td>0.995029</td>\n",
       "      <td>0.971087</td>\n",
       "      <td>0.995085</td>\n",
       "      <td>0.99503</td>\n",
       "      <td>0.970454</td>\n",
       "      <td>0.437386</td>\n",
       "      <td>0.770128</td>\n",
       "      <td>0.995</td>\n",
       "      <td>0.960799</td>\n",
       "      <td>0.995001</td>\n",
       "    </tr>\n",
       "    <tr>\n",
       "      <th>Unicidad</th>\n",
       "      <td>0.586112</td>\n",
       "      <td>0.499976</td>\n",
       "      <td>0.437864</td>\n",
       "      <td>0.098393</td>\n",
       "      <td>0.440767</td>\n",
       "      <td>0.004908</td>\n",
       "      <td>0.004971</td>\n",
       "      <td>0.028913</td>\n",
       "      <td>0.004915</td>\n",
       "      <td>0.00497</td>\n",
       "      <td>0.029546</td>\n",
       "      <td>0.562614</td>\n",
       "      <td>0.229872</td>\n",
       "      <td>0.005</td>\n",
       "      <td>0.039201</td>\n",
       "      <td>0.004999</td>\n",
       "    </tr>\n",
       "  </tbody>\n",
       "</table>\n",
       "</div>"
      ],
      "text/plain": [
       "               cPBIr       VTCR      DPBI     CCPBI     RaImp     DTEEx  \\\n",
       "Comunalidad  0.413888  0.500024  0.562136  0.901607  0.559233  0.995092   \n",
       "Unicidad     0.586112  0.499976  0.437864  0.098393  0.440767  0.004908   \n",
       "\n",
       "               DTEPBI     SDTEx    DPPGEx  DPPGPBI   SDPPGEx    BPGPBI  \\\n",
       "Comunalidad  0.995029  0.971087  0.995085  0.99503  0.970454  0.437386   \n",
       "Unicidad     0.004971  0.028913  0.004915  0.00497  0.029546  0.562614   \n",
       "\n",
       "               EP2007  EG2007    CR2007    CC2007  \n",
       "Comunalidad  0.770128   0.995  0.960799  0.995001  \n",
       "Unicidad     0.229872   0.005  0.039201  0.004999  "
      ]
     },
     "execution_count": 14,
     "metadata": {},
     "output_type": "execute_result"
    }
   ],
   "source": [
    "pd.DataFrame((fa.get_communalities(),fa.get_uniquenesses()),index=['Comunalidad','Unicidad'], columns=names_var)"
   ]
  },
  {
   "cell_type": "markdown",
   "metadata": {
    "id": "f4vhFVaEOuSB"
   },
   "source": [
    "**Definimos el modelo con ? factores**"
   ]
  },
  {
   "cell_type": "code",
   "execution_count": 15,
   "metadata": {
    "colab": {
     "base_uri": "https://localhost:8080/"
    },
    "executionInfo": {
     "elapsed": 49,
     "status": "ok",
     "timestamp": 1630628150241,
     "user": {
      "displayName": "MARIA INES STIMOLO",
      "photoUrl": "https://lh3.googleusercontent.com/a-/AOh14GiiSi_WlVy1nGXfjnRzL2LpjvRn_JZOB4OpoMFb=s64",
      "userId": "01469115874005837220"
     },
     "user_tz": 180
    },
    "id": "L0KhzOtjpViO",
    "outputId": "21ae6200-d71e-4280-f898-dcd84e1a3c2e"
   },
   "outputs": [
    {
     "data": {
      "text/plain": [
       "FactorAnalyzer(impute='drop', n_factors=5, rotation=None, rotation_kwargs={})"
      ]
     },
     "execution_count": 15,
     "metadata": {},
     "output_type": "execute_result"
    }
   ],
   "source": [
    "fa5 = FactorAnalyzer(rotation = None,impute = \"drop\",is_corr_matrix=False,n_factors=5)\n",
    "fa5.fit(X)"
   ]
  },
  {
   "cell_type": "code",
   "execution_count": 16,
   "metadata": {
    "colab": {
     "base_uri": "https://localhost:8080/",
     "height": 194
    },
    "executionInfo": {
     "elapsed": 47,
     "status": "ok",
     "timestamp": 1630628150243,
     "user": {
      "displayName": "MARIA INES STIMOLO",
      "photoUrl": "https://lh3.googleusercontent.com/a-/AOh14GiiSi_WlVy1nGXfjnRzL2LpjvRn_JZOB4OpoMFb=s64",
      "userId": "01469115874005837220"
     },
     "user_tz": 180
    },
    "id": "t5mrOJNssmtx",
    "outputId": "9c73d3a3-d095-44f1-9135-95cf8177715c"
   },
   "outputs": [
    {
     "name": "stdout",
     "output_type": "stream",
     "text": [
      "--------------------------------------------------------------\n",
      "Varianza de cada factor/ proporción de la varianza y acumulada\n",
      "---------------------------------------------------------------\n"
     ]
    },
    {
     "data": {
      "text/html": [
       "<div>\n",
       "<style scoped>\n",
       "    .dataframe tbody tr th:only-of-type {\n",
       "        vertical-align: middle;\n",
       "    }\n",
       "\n",
       "    .dataframe tbody tr th {\n",
       "        vertical-align: top;\n",
       "    }\n",
       "\n",
       "    .dataframe thead th {\n",
       "        text-align: right;\n",
       "    }\n",
       "</style>\n",
       "<table border=\"1\" class=\"dataframe\">\n",
       "  <thead>\n",
       "    <tr style=\"text-align: right;\">\n",
       "      <th></th>\n",
       "      <th>F1</th>\n",
       "      <th>F2</th>\n",
       "      <th>F3</th>\n",
       "      <th>F4</th>\n",
       "      <th>F5</th>\n",
       "    </tr>\n",
       "  </thead>\n",
       "  <tbody>\n",
       "    <tr>\n",
       "      <th>Varianza factor</th>\n",
       "      <td>4.139762</td>\n",
       "      <td>2.645912</td>\n",
       "      <td>1.694635</td>\n",
       "      <td>0.864521</td>\n",
       "      <td>0.826963</td>\n",
       "    </tr>\n",
       "    <tr>\n",
       "      <th>Proporción varianza</th>\n",
       "      <td>0.258735</td>\n",
       "      <td>0.165369</td>\n",
       "      <td>0.105915</td>\n",
       "      <td>0.054033</td>\n",
       "      <td>0.051685</td>\n",
       "    </tr>\n",
       "    <tr>\n",
       "      <th>Proporción varianza acumulada</th>\n",
       "      <td>0.258735</td>\n",
       "      <td>0.424105</td>\n",
       "      <td>0.530019</td>\n",
       "      <td>0.584052</td>\n",
       "      <td>0.635737</td>\n",
       "    </tr>\n",
       "  </tbody>\n",
       "</table>\n",
       "</div>"
      ],
      "text/plain": [
       "                                     F1        F2        F3        F4  \\\n",
       "Varianza factor                4.139762  2.645912  1.694635  0.864521   \n",
       "Proporción varianza            0.258735  0.165369  0.105915  0.054033   \n",
       "Proporción varianza acumulada  0.258735  0.424105  0.530019  0.584052   \n",
       "\n",
       "                                     F5  \n",
       "Varianza factor                0.826963  \n",
       "Proporción varianza            0.051685  \n",
       "Proporción varianza acumulada  0.635737  "
      ]
     },
     "execution_count": 16,
     "metadata": {},
     "output_type": "execute_result"
    }
   ],
   "source": [
    " print('--------------------------------------------------------------')\n",
    "print ('Varianza de cada factor/ proporción de la varianza y acumulada')\n",
    "print('---------------------------------------------------------------')\n",
    "name_factor=['F1','F2','F3','F4','F5']\n",
    "pd.DataFrame(fa5.get_factor_variance(),index=['Varianza factor','Proporción varianza', 'Proporción varianza acumulada'] ,columns=name_factor)"
   ]
  },
  {
   "cell_type": "code",
   "execution_count": 17,
   "metadata": {
    "colab": {
     "base_uri": "https://localhost:8080/",
     "height": 110
    },
    "executionInfo": {
     "elapsed": 45,
     "status": "ok",
     "timestamp": 1630628150245,
     "user": {
      "displayName": "MARIA INES STIMOLO",
      "photoUrl": "https://lh3.googleusercontent.com/a-/AOh14GiiSi_WlVy1nGXfjnRzL2LpjvRn_JZOB4OpoMFb=s64",
      "userId": "01469115874005837220"
     },
     "user_tz": 180
    },
    "id": "mIKqga-4h9Xb",
    "outputId": "1fe99b28-8587-4c4d-8751-6d70d65683c3"
   },
   "outputs": [
    {
     "data": {
      "text/html": [
       "<div>\n",
       "<style scoped>\n",
       "    .dataframe tbody tr th:only-of-type {\n",
       "        vertical-align: middle;\n",
       "    }\n",
       "\n",
       "    .dataframe tbody tr th {\n",
       "        vertical-align: top;\n",
       "    }\n",
       "\n",
       "    .dataframe thead th {\n",
       "        text-align: right;\n",
       "    }\n",
       "</style>\n",
       "<table border=\"1\" class=\"dataframe\">\n",
       "  <thead>\n",
       "    <tr style=\"text-align: right;\">\n",
       "      <th></th>\n",
       "      <th>cPBIr</th>\n",
       "      <th>VTCR</th>\n",
       "      <th>DPBI</th>\n",
       "      <th>CCPBI</th>\n",
       "      <th>RaImp</th>\n",
       "      <th>DTEEx</th>\n",
       "      <th>DTEPBI</th>\n",
       "      <th>SDTEx</th>\n",
       "      <th>DPPGEx</th>\n",
       "      <th>DPPGPBI</th>\n",
       "      <th>SDPPGEx</th>\n",
       "      <th>BPGPBI</th>\n",
       "      <th>EP2007</th>\n",
       "      <th>EG2007</th>\n",
       "      <th>CR2007</th>\n",
       "      <th>CC2007</th>\n",
       "    </tr>\n",
       "  </thead>\n",
       "  <tbody>\n",
       "    <tr>\n",
       "      <th>Comunalidad</th>\n",
       "      <td>0.147338</td>\n",
       "      <td>0.328291</td>\n",
       "      <td>0.30358</td>\n",
       "      <td>0.576125</td>\n",
       "      <td>0.368178</td>\n",
       "      <td>0.937142</td>\n",
       "      <td>0.679375</td>\n",
       "      <td>0.830563</td>\n",
       "      <td>0.949893</td>\n",
       "      <td>0.774834</td>\n",
       "      <td>0.84544</td>\n",
       "      <td>0.354381</td>\n",
       "      <td>0.530045</td>\n",
       "      <td>0.922052</td>\n",
       "      <td>0.789572</td>\n",
       "      <td>0.834987</td>\n",
       "    </tr>\n",
       "    <tr>\n",
       "      <th>Unicidad</th>\n",
       "      <td>0.852662</td>\n",
       "      <td>0.671709</td>\n",
       "      <td>0.69642</td>\n",
       "      <td>0.423875</td>\n",
       "      <td>0.631822</td>\n",
       "      <td>0.062858</td>\n",
       "      <td>0.320625</td>\n",
       "      <td>0.169437</td>\n",
       "      <td>0.050107</td>\n",
       "      <td>0.225166</td>\n",
       "      <td>0.15456</td>\n",
       "      <td>0.645619</td>\n",
       "      <td>0.469955</td>\n",
       "      <td>0.077948</td>\n",
       "      <td>0.210428</td>\n",
       "      <td>0.165013</td>\n",
       "    </tr>\n",
       "  </tbody>\n",
       "</table>\n",
       "</div>"
      ],
      "text/plain": [
       "               cPBIr       VTCR     DPBI     CCPBI     RaImp     DTEEx  \\\n",
       "Comunalidad  0.147338  0.328291  0.30358  0.576125  0.368178  0.937142   \n",
       "Unicidad     0.852662  0.671709  0.69642  0.423875  0.631822  0.062858   \n",
       "\n",
       "               DTEPBI     SDTEx    DPPGEx   DPPGPBI  SDPPGEx    BPGPBI  \\\n",
       "Comunalidad  0.679375  0.830563  0.949893  0.774834  0.84544  0.354381   \n",
       "Unicidad     0.320625  0.169437  0.050107  0.225166  0.15456  0.645619   \n",
       "\n",
       "               EP2007    EG2007    CR2007    CC2007  \n",
       "Comunalidad  0.530045  0.922052  0.789572  0.834987  \n",
       "Unicidad     0.469955  0.077948  0.210428  0.165013  "
      ]
     },
     "execution_count": 17,
     "metadata": {},
     "output_type": "execute_result"
    }
   ],
   "source": [
    "pd.DataFrame((fa5.get_communalities(),fa5.get_uniquenesses()),index=['Comunalidad','Unicidad'],columns=names_var)"
   ]
  },
  {
   "cell_type": "markdown",
   "metadata": {
    "id": "JamtPc7ph8ny"
   },
   "source": [
    "**Rotación**"
   ]
  },
  {
   "cell_type": "code",
   "execution_count": 18,
   "metadata": {
    "colab": {
     "base_uri": "https://localhost:8080/"
    },
    "executionInfo": {
     "elapsed": 43,
     "status": "ok",
     "timestamp": 1630628150246,
     "user": {
      "displayName": "MARIA INES STIMOLO",
      "photoUrl": "https://lh3.googleusercontent.com/a-/AOh14GiiSi_WlVy1nGXfjnRzL2LpjvRn_JZOB4OpoMFb=s64",
      "userId": "01469115874005837220"
     },
     "user_tz": 180
    },
    "id": "TQV47v7fTCDD",
    "outputId": "f93af6cb-b00e-4cc0-d264-c2c92ab23501"
   },
   "outputs": [
    {
     "data": {
      "text/plain": [
       "FactorAnalyzer(impute='drop', n_factors=5, rotation='varimax',\n",
       "               rotation_kwargs={})"
      ]
     },
     "execution_count": 18,
     "metadata": {},
     "output_type": "execute_result"
    }
   ],
   "source": [
    "fa5v= FactorAnalyzer(rotation = 'varimax' ,impute = \"drop\",is_corr_matrix=False,n_factors=5)\n",
    "fa5v.fit(X)\n",
    "\n"
   ]
  },
  {
   "cell_type": "code",
   "execution_count": 19,
   "metadata": {
    "colab": {
     "base_uri": "https://localhost:8080/",
     "height": 592
    },
    "executionInfo": {
     "elapsed": 42,
     "status": "ok",
     "timestamp": 1630628150248,
     "user": {
      "displayName": "MARIA INES STIMOLO",
      "photoUrl": "https://lh3.googleusercontent.com/a-/AOh14GiiSi_WlVy1nGXfjnRzL2LpjvRn_JZOB4OpoMFb=s64",
      "userId": "01469115874005837220"
     },
     "user_tz": 180
    },
    "id": "6ScZOTQ9czKd",
    "outputId": "97bf066a-01e3-4a36-e83b-5067471b20e3"
   },
   "outputs": [
    {
     "name": "stdout",
     "output_type": "stream",
     "text": [
      "----------------------------------------------------\n",
      "Matriz de coeficientes o cargas factoriales rotadas\n",
      "-----------------------------------------------------\n"
     ]
    },
    {
     "data": {
      "text/html": [
       "<div>\n",
       "<style scoped>\n",
       "    .dataframe tbody tr th:only-of-type {\n",
       "        vertical-align: middle;\n",
       "    }\n",
       "\n",
       "    .dataframe tbody tr th {\n",
       "        vertical-align: top;\n",
       "    }\n",
       "\n",
       "    .dataframe thead th {\n",
       "        text-align: right;\n",
       "    }\n",
       "</style>\n",
       "<table border=\"1\" class=\"dataframe\">\n",
       "  <thead>\n",
       "    <tr style=\"text-align: right;\">\n",
       "      <th></th>\n",
       "      <th>F1</th>\n",
       "      <th>F2</th>\n",
       "      <th>F3</th>\n",
       "      <th>F4</th>\n",
       "      <th>F5</th>\n",
       "      <th>Mayor carga</th>\n",
       "    </tr>\n",
       "  </thead>\n",
       "  <tbody>\n",
       "    <tr>\n",
       "      <th>VTCR</th>\n",
       "      <td>0.115330</td>\n",
       "      <td>0.033153</td>\n",
       "      <td>0.009028</td>\n",
       "      <td>0.093008</td>\n",
       "      <td>-0.552412</td>\n",
       "      <td>F1</td>\n",
       "    </tr>\n",
       "    <tr>\n",
       "      <th>EP2007</th>\n",
       "      <td>0.667664</td>\n",
       "      <td>-0.164062</td>\n",
       "      <td>-0.118562</td>\n",
       "      <td>-0.206334</td>\n",
       "      <td>-0.026877</td>\n",
       "      <td>F1</td>\n",
       "    </tr>\n",
       "    <tr>\n",
       "      <th>EG2007</th>\n",
       "      <td>0.901779</td>\n",
       "      <td>-0.199208</td>\n",
       "      <td>0.124605</td>\n",
       "      <td>0.214242</td>\n",
       "      <td>-0.087956</td>\n",
       "      <td>F1</td>\n",
       "    </tr>\n",
       "    <tr>\n",
       "      <th>CR2007</th>\n",
       "      <td>0.857195</td>\n",
       "      <td>-0.189660</td>\n",
       "      <td>0.108916</td>\n",
       "      <td>0.076916</td>\n",
       "      <td>-0.032218</td>\n",
       "      <td>F1</td>\n",
       "    </tr>\n",
       "    <tr>\n",
       "      <th>CC2007</th>\n",
       "      <td>0.883148</td>\n",
       "      <td>-0.119527</td>\n",
       "      <td>0.106625</td>\n",
       "      <td>0.093673</td>\n",
       "      <td>-0.143549</td>\n",
       "      <td>F1</td>\n",
       "    </tr>\n",
       "    <tr>\n",
       "      <th>DTEEx</th>\n",
       "      <td>-0.173408</td>\n",
       "      <td>0.942510</td>\n",
       "      <td>0.125963</td>\n",
       "      <td>-0.008482</td>\n",
       "      <td>0.052995</td>\n",
       "      <td>F2</td>\n",
       "    </tr>\n",
       "    <tr>\n",
       "      <th>DTEPBI</th>\n",
       "      <td>-0.126566</td>\n",
       "      <td>0.564119</td>\n",
       "      <td>0.143451</td>\n",
       "      <td>-0.567366</td>\n",
       "      <td>-0.051411</td>\n",
       "      <td>F2</td>\n",
       "    </tr>\n",
       "    <tr>\n",
       "      <th>DPPGEx</th>\n",
       "      <td>-0.213405</td>\n",
       "      <td>0.946000</td>\n",
       "      <td>0.011900</td>\n",
       "      <td>0.009721</td>\n",
       "      <td>-0.095911</td>\n",
       "      <td>F2</td>\n",
       "    </tr>\n",
       "    <tr>\n",
       "      <th>DPPGPBI</th>\n",
       "      <td>-0.205569</td>\n",
       "      <td>0.629598</td>\n",
       "      <td>0.056618</td>\n",
       "      <td>-0.517920</td>\n",
       "      <td>-0.254430</td>\n",
       "      <td>F2</td>\n",
       "    </tr>\n",
       "    <tr>\n",
       "      <th>SDTEx</th>\n",
       "      <td>0.131139</td>\n",
       "      <td>0.042853</td>\n",
       "      <td>0.862492</td>\n",
       "      <td>0.031384</td>\n",
       "      <td>0.258170</td>\n",
       "      <td>F3</td>\n",
       "    </tr>\n",
       "    <tr>\n",
       "      <th>SDPPGEx</th>\n",
       "      <td>0.007316</td>\n",
       "      <td>0.154934</td>\n",
       "      <td>0.852704</td>\n",
       "      <td>0.084083</td>\n",
       "      <td>-0.295309</td>\n",
       "      <td>F3</td>\n",
       "    </tr>\n",
       "    <tr>\n",
       "      <th>CCPBI</th>\n",
       "      <td>-0.371892</td>\n",
       "      <td>-0.279029</td>\n",
       "      <td>0.058795</td>\n",
       "      <td>0.512073</td>\n",
       "      <td>0.307065</td>\n",
       "      <td>F4</td>\n",
       "    </tr>\n",
       "    <tr>\n",
       "      <th>RaImp</th>\n",
       "      <td>0.066513</td>\n",
       "      <td>0.036226</td>\n",
       "      <td>0.096272</td>\n",
       "      <td>0.593955</td>\n",
       "      <td>0.019756</td>\n",
       "      <td>F4</td>\n",
       "    </tr>\n",
       "    <tr>\n",
       "      <th>cPBIr</th>\n",
       "      <td>-0.029886</td>\n",
       "      <td>0.007574</td>\n",
       "      <td>-0.124469</td>\n",
       "      <td>0.110971</td>\n",
       "      <td>0.344354</td>\n",
       "      <td>F5</td>\n",
       "    </tr>\n",
       "    <tr>\n",
       "      <th>DPBI</th>\n",
       "      <td>-0.358390</td>\n",
       "      <td>-0.109897</td>\n",
       "      <td>0.039054</td>\n",
       "      <td>0.020618</td>\n",
       "      <td>0.401384</td>\n",
       "      <td>F5</td>\n",
       "    </tr>\n",
       "    <tr>\n",
       "      <th>BPGPBI</th>\n",
       "      <td>0.029008</td>\n",
       "      <td>-0.032445</td>\n",
       "      <td>0.122604</td>\n",
       "      <td>0.124067</td>\n",
       "      <td>0.567505</td>\n",
       "      <td>F5</td>\n",
       "    </tr>\n",
       "  </tbody>\n",
       "</table>\n",
       "</div>"
      ],
      "text/plain": [
       "               F1        F2        F3        F4        F5 Mayor carga\n",
       "VTCR     0.115330  0.033153  0.009028  0.093008 -0.552412          F1\n",
       "EP2007   0.667664 -0.164062 -0.118562 -0.206334 -0.026877          F1\n",
       "EG2007   0.901779 -0.199208  0.124605  0.214242 -0.087956          F1\n",
       "CR2007   0.857195 -0.189660  0.108916  0.076916 -0.032218          F1\n",
       "CC2007   0.883148 -0.119527  0.106625  0.093673 -0.143549          F1\n",
       "DTEEx   -0.173408  0.942510  0.125963 -0.008482  0.052995          F2\n",
       "DTEPBI  -0.126566  0.564119  0.143451 -0.567366 -0.051411          F2\n",
       "DPPGEx  -0.213405  0.946000  0.011900  0.009721 -0.095911          F2\n",
       "DPPGPBI -0.205569  0.629598  0.056618 -0.517920 -0.254430          F2\n",
       "SDTEx    0.131139  0.042853  0.862492  0.031384  0.258170          F3\n",
       "SDPPGEx  0.007316  0.154934  0.852704  0.084083 -0.295309          F3\n",
       "CCPBI   -0.371892 -0.279029  0.058795  0.512073  0.307065          F4\n",
       "RaImp    0.066513  0.036226  0.096272  0.593955  0.019756          F4\n",
       "cPBIr   -0.029886  0.007574 -0.124469  0.110971  0.344354          F5\n",
       "DPBI    -0.358390 -0.109897  0.039054  0.020618  0.401384          F5\n",
       "BPGPBI   0.029008 -0.032445  0.122604  0.124067  0.567505          F5"
      ]
     },
     "execution_count": 19,
     "metadata": {},
     "output_type": "execute_result"
    }
   ],
   "source": [
    "print('----------------------------------------------------')\n",
    "print ('Matriz de coeficientes o cargas factoriales rotadas')\n",
    "print('-----------------------------------------------------')\n",
    "Matriz_carga_rot = pd.DataFrame(fa5v.loadings_, columns=name_factor, index=names_var)\n",
    "Matriz_carga_rot['Mayor carga'] = Matriz_carga_rot.idxmax(axis=1) # agrega una columna identificando la carga factorial más alta\n",
    "Matriz_carga_rot_ord= Matriz_carga_rot.sort_values('Mayor carga') #ordena la matriz según los factores\n",
    "Matriz_carga_rot_ord"
   ]
  },
  {
   "cell_type": "code",
   "execution_count": 20,
   "metadata": {
    "id": "ZGDmCjZQrQVD"
   },
   "outputs": [
    {
     "name": "stdout",
     "output_type": "stream",
     "text": [
      "------------------------------------------------------------------------------\n",
      "Gráfico para visualizar las cargas factoriales más importantes en cada factor\n",
      "------------------------------------------------------------------------------\n"
     ]
    },
    {
     "data": {
      "image/png": "[encoded data removed]",
      "text/plain": [
       "<Figure size 1800x360 with 2 Axes>"
      ]
     },
     "metadata": {},
     "output_type": "display_data"
    }
   ],
   "source": [
    "print('------------------------------------------------------------------------------')\n",
    "print ('Gráfico para visualizar las cargas factoriales más importantes en cada factor')\n",
    "print('------------------------------------------------------------------------------')\n",
    "import seaborn as sns\n",
    "\n",
    "plt.figure(figsize=(25,5))\n",
    "\n",
    "# plot the heatmap for correlation matrix\n",
    "ax = sns.heatmap(Matriz_carga_rot.drop('Mayor carga', axis=1).T, \n",
    "                vmin=-1, vmax=1, center=0,\n",
    "                cmap=sns.diverging_palette(220, 20, n=200),\n",
    "                square=True, annot=True, fmt='.2f')\n",
    "\n",
    "ax.set_yticklabels(\n",
    "    ax.get_yticklabels(),\n",
    "    rotation=0);"
   ]
  },
  {
   "cell_type": "markdown",
   "metadata": {
    "id": "1au3nwiIDXBm"
   },
   "source": [
    "Describir los factores:\n",
    "\n",
    "\n",
    "\n",
    "\n"
   ]
  },
  {
   "cell_type": "markdown",
   "metadata": {
    "id": "-ZISWCPWqRFQ"
   },
   "source": [
    "**Cálculo de los factores**"
   ]
  },
  {
   "cell_type": "code",
   "execution_count": 21,
   "metadata": {
    "executionInfo": {
     "elapsed": 374,
     "status": "ok",
     "timestamp": 1630628730802,
     "user": {
      "displayName": "MARIA INES STIMOLO",
      "photoUrl": "https://lh3.googleusercontent.com/a-/AOh14GiiSi_WlVy1nGXfjnRzL2LpjvRn_JZOB4OpoMFb=s64",
      "userId": "01469115874005837220"
     },
     "user_tz": 180
    },
    "id": "0Qz95q6fqJz0"
   },
   "outputs": [],
   "source": [
    "scores = pd.DataFrame(fa5v.fit_transform(X))\n"
   ]
  },
  {
   "cell_type": "markdown",
   "metadata": {
    "id": "E8tjQ073CROO"
   },
   "source": [
    "**Biplot para los factores**"
   ]
  },
  {
   "cell_type": "code",
   "execution_count": 22,
   "metadata": {
    "executionInfo": {
     "elapsed": 272,
     "status": "ok",
     "timestamp": 1630628734304,
     "user": {
      "displayName": "MARIA INES STIMOLO",
      "photoUrl": "https://lh3.googleusercontent.com/a-/AOh14GiiSi_WlVy1nGXfjnRzL2LpjvRn_JZOB4OpoMFb=s64",
      "userId": "01469115874005837220"
     },
     "user_tz": 180
    },
    "id": "WPC8FOP7CW6q"
   },
   "outputs": [],
   "source": [
    "score=scores.iloc[:,[0,1]]\n",
    "score=score.to_numpy()\n",
    "\n",
    "coeff=Matriz_carga_rot.iloc[:,[0,1]]\n",
    "coeff=coeff.to_numpy()\n"
   ]
  },
  {
   "cell_type": "code",
   "execution_count": 23,
   "metadata": {
    "id": "1flx3pif0Fk9"
   },
   "outputs": [
    {
     "data": {
      "image/png": "[encoded data removed]",
      "text/plain": [
       "<Figure size 432x288 with 1 Axes>"
      ]
     },
     "metadata": {},
     "output_type": "display_data"
    }
   ],
   "source": [
    "y= [1] *98 # esto se puede utilizar en el caso que hubiera grupos de pueden identificar,en este caso que no hay grupo se asigna a todos el valor 1\n",
    "\n",
    "# se define una función para graficar\n",
    "def myplot(score,coeff,labels=None):\n",
    "    xs = score[:,0]\n",
    "    ys = score[:,1]\n",
    "    n = coeff.shape[0]\n",
    "    scalex = 1.0/(xs.max() - xs.min())\n",
    "    scaley = 1.0/(ys.max() - ys.min())\n",
    "    plt.scatter(xs * scalex,ys * scaley, c = y)\n",
    "    for i in range(n):\n",
    "        plt.arrow(0, 0, coeff[i,0], coeff[i,1], color = 'r',alpha = 0.5)\n",
    "        if labels is None:\n",
    "            plt.text(coeff[i,0]* 1.15, coeff[i,1] * 1.15, \"Var\"+str(i+1), color = 'g', ha = 'center', va = 'center')\n",
    "        else:\n",
    "            plt.text(coeff[i,0]* 1.15, coeff[i,1] * 1.15, labels[i], color = 'g', ha = 'center', va = 'center')\n",
    "    plt.xlim(-1,1)\n",
    "    plt.ylim(-1,1)\n",
    "    plt.xlabel(\"F{}\".format(1))\n",
    "    plt.ylabel(\"F{}\".format(2))\n",
    "    plt.grid()\n",
    "\n",
    "#Call the function. Use only the 2 PCs.\n",
    "\n",
    "myplot(score,coeff,labels=names_var)\n",
    "plt.show()"
   ]
  },
  {
   "cell_type": "code",
   "execution_count": null,
   "metadata": {},
   "outputs": [],
   "source": []
  },
  {
   "cell_type": "code",
   "execution_count": null,
   "metadata": {},
   "outputs": [],
   "source": []
  },
  {
   "cell_type": "code",
   "execution_count": null,
   "metadata": {},
   "outputs": [],
   "source": []
  },
  {
   "cell_type": "code",
   "execution_count": null,
   "metadata": {},
   "outputs": [],
   "source": []
  },
  {
   "cell_type": "code",
   "execution_count": null,
   "metadata": {},
   "outputs": [],
   "source": []
  },
  {
   "cell_type": "code",
   "execution_count": null,
   "metadata": {},
   "outputs": [],
   "source": []
  },
  {
   "cell_type": "code",
   "execution_count": null,
   "metadata": {},
   "outputs": [],
   "source": []
  },
  {
   "cell_type": "code",
   "execution_count": null,
   "metadata": {},
   "outputs": [],
   "source": []
  },
  {
   "cell_type": "code",
   "execution_count": null,
   "metadata": {},
   "outputs": [],
   "source": []
  },
  {
   "cell_type": "code",
   "execution_count": null,
   "metadata": {},
   "outputs": [],
   "source": []
  },
  {
   "cell_type": "code",
   "execution_count": null,
   "metadata": {},
   "outputs": [],
   "source": []
  }
 ],
 "metadata": {
  "colab": {
   "authorship_tag": "ABX9TyMzpULCNyrFpEU7igmKO8j5",
   "name": "M2.U2.Clase4_AF_Ejemplo_1.ipynb",
   "provenance": [
    {
     "file_id": "1mS6IeuqrN0w_gLmER5gTCAyBY1P7S2QY",
     "timestamp": 1630595454900
    },
    {
     "file_id": "1LKzFmABsua2ZJBBqbzbU38BBaDUtFNGs",
     "timestamp": 1630469858516
    },
    {
     "file_id": "1sXhQq-HTfDptTre10R50YOxc_q-zQKNu",
     "timestamp": 1630453076601
    },
    {
     "file_id": "19w34ZGuYCX84E-7IVdnkCl9kOfZUrQIX",
     "timestamp": 1629398033121
    }
   ]
  },
  "kernelspec": {
   "display_name": "Python 3",
   "language": "python",
   "name": "python3"
  },
  "language_info": {
   "codemirror_mode": {
    "name": "ipython",
    "version": 3
   },
   "file_extension": ".py",
   "mimetype": "text/x-python",
   "name": "python",
   "nbconvert_exporter": "python",
   "pygments_lexer": "ipython3",
   "version": "3.7.3"
  }
 },
 "nbformat": 4,
 "nbformat_minor": 1
}
