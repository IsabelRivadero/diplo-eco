{
 "cells": [
  {
   "cell_type": "markdown",
   "metadata": {
    "id": "XqTPL_FiEoUO"
   },
   "source": [
    "![img](https://drive.google.com/uc?export=view&id=1kgX98Ziw9LzgBCT2BxChttfrTcBltLej)"
   ]
  },
  {
   "cell_type": "markdown",
   "metadata": {
    "id": "MHH3evxvx6sh"
   },
   "source": [
    "# PRÁCTICO 13"
   ]
  },
  {
   "cell_type": "code",
   "execution_count": null,
   "metadata": {
    "id": "oYl4HniuzugP"
   },
   "outputs": [],
   "source": [
    "import pandas as pd\n",
    "import numpy as np\n",
    "import matplotlib.pyplot as plt\n",
    "import seaborn as sbn"
   ]
  },
  {
   "cell_type": "markdown",
   "metadata": {
    "id": "TWRZbD7eyC7e"
   },
   "source": [
    "Importar la [**serie temporal** ](http://www.bcra.gov.ar/PublicacionesEstadisticas/Principales_variables_datos.asp)del archivo disponible en:\n",
    "https://drive.google.com/file/d/1TGqFDXCPVrJDquKJuz9ec3aPRRxqSUwX/view?usp=sharing\n",
    "\n",
    "Reservas Internacionales del BCRA (en millones de dólares - cifras provisorias sujetas a cambio de valuación)\n"
   ]
  },
  {
   "cell_type": "code",
   "execution_count": null,
   "metadata": {
    "id": "6ra7oWMzlWix"
   },
   "outputs": [],
   "source": []
  },
  {
   "cell_type": "code",
   "execution_count": null,
   "metadata": {
    "id": "nTobVExqlWVZ"
   },
   "outputs": [],
   "source": []
  },
  {
   "cell_type": "markdown",
   "metadata": {
    "id": "5T1rMsL-0IR4"
   },
   "source": [
    " * Utilizar el método sort_index(inplace=True) para ordenar la serie temporal \n",
    " * Utilizar el argumento parse_dates para convertir la primera columna del archivo en una fecha\n",
    " * Utilizar el argumento index_col para convertir la primera columna del archivo en índice\n",
    " * Utilizar el nombre de objeto df_reservas\n",
    " *Guardar el archivo modifificado como .csv\n",
    "\n",
    "\n"
   ]
  },
  {
   "cell_type": "code",
   "execution_count": null,
   "metadata": {
    "id": "CI4w-iBXlUs5"
   },
   "outputs": [],
   "source": []
  },
  {
   "cell_type": "markdown",
   "metadata": {
    "id": "lZ-JgT7xwsVv"
   },
   "source": [
    "Descriptiva básica"
   ]
  },
  {
   "cell_type": "markdown",
   "metadata": {
    "id": "ELsWHRmLSOgI"
   },
   "source": [
    "Graficar la evolución histórica de la serie\n",
    " * Importar matplotlib\n",
    " * Visualizar la serie temporal completa\n",
    " * Agregarle el título \"Evolución Historica de las Reservas del BCRA\"\n",
    " * Agregarle una etiqueta a eje y: \"Millones de USD\"\n",
    " * Usar style=r para cambiar el color de la linea a rojo"
   ]
  },
  {
   "cell_type": "code",
   "execution_count": null,
   "metadata": {
    "id": "PXnBwDSFlTkD"
   },
   "outputs": [],
   "source": []
  }
 ],
 "metadata": {
  "colab": {
   "collapsed_sections": [],
   "name": "M2.U1_04 Actividades.consignas.ipynb",
   "provenance": []
  },
  "kernelspec": {
   "display_name": "Python 3",
   "language": "python",
   "name": "python3"
  },
  "language_info": {
   "codemirror_mode": {
    "name": "ipython",
    "version": 3
   },
   "file_extension": ".py",
   "mimetype": "text/x-python",
   "name": "python",
   "nbconvert_exporter": "python",
   "pygments_lexer": "ipython3",
   "version": "3.7.3"
  }
 },
 "nbformat": 4,
 "nbformat_minor": 1
}
