{
 "cells": [
  {
   "cell_type": "markdown",
   "metadata": {
    "id": "zO4bRoxr2Apy"
   },
   "source": [
    "![img](https://drive.google.com/uc?export=view&id=1kgX98Ziw9LzgBCT2BxChttfrTcBltLej)\n",
    "\n",
    "\n",
    "----\n",
    "##MODULO 2 Unidad 1\n"
   ]
  },
  {
   "cell_type": "markdown",
   "metadata": {
    "id": "1S2Ud6UtDVSx"
   },
   "source": [
    "\n",
    "# Exploración de datos. A practicar!!\n",
    "**Programa Ahora 12**\n",
    "Ministerio de Desarrollo Productivo. Secretaria de Comercio Interior. Subsecretaría de Políticas para el Mercado Interno. Dirección Nacional de Políticas para el Desarrollo del Mercado Interno. \n",
    "\n",
    "Información sobre operaciones y facturación del Programa Ahora 12, desagregados por rubro y provincia.\n",
    "\n",
    "Utilizaremos el conjunto de datos disponible en [Datos Abiertos del Ministerio de Desarrollo Productivo / Dataset / Recurso](https://datos.produccion.gob.ar/dataset/f3de9daa-f899-4132-9b42-5d245249bba2/archivo/644bd06d-b7d0-4d63-a00b-88561dc6079c). Hemos subido una copia al aula del curso para facilitar su acceso remoto, con una modificaciónal ser de dato original, al cuál le agregué el dato del día, en el campo fecha. Esto ultimo con le objetivo de hacer un poco más completo el ejemplo."
   ]
  },
  {
   "cell_type": "markdown",
   "metadata": {
    "id": "ZNzQqxfLDEyZ"
   },
   "source": []
  },
  {
   "cell_type": "code",
   "execution_count": 13,
   "metadata": {
    "executionInfo": {
     "elapsed": 631,
     "status": "ok",
     "timestamp": 1627743511488,
     "user": {
      "displayName": "MARIA INES AHUMADA",
      "photoUrl": "https://lh3.googleusercontent.com/a-/AOh14GirsNUv4JCB0wVzfTAl_HffOYU50Lqvg1bVb1zU=s64",
      "userId": "07490966292012509010"
     },
     "user_tz": 180
    },
    "id": "4udjxjk1EtVU"
   },
   "outputs": [],
   "source": [
    "import matplotlib.pyplot as plt\n",
    "import numpy as np\n",
    "import pandas as pd\n",
    "import seaborn as sbn"
   ]
  },
  {
   "cell_type": "code",
   "execution_count": 14,
   "metadata": {
    "colab": {
     "base_uri": "https://localhost:8080/",
     "height": 518
    },
    "executionInfo": {
     "elapsed": 1183,
     "status": "ok",
     "timestamp": 1627743512664,
     "user": {
      "displayName": "MARIA INES AHUMADA",
      "photoUrl": "https://lh3.googleusercontent.com/a-/AOh14GirsNUv4JCB0wVzfTAl_HffOYU50Lqvg1bVb1zU=s64",
      "userId": "07490966292012509010"
     },
     "user_tz": 180
    },
    "id": "_qeFN3GnEvMk",
    "outputId": "b76e1dd5-734d-41fb-ac22-b9f5dc6ceb1f"
   },
   "outputs": [
    {
     "data": {
      "text/html": [
       "<div>\n",
       "<style scoped>\n",
       "    .dataframe tbody tr th:only-of-type {\n",
       "        vertical-align: middle;\n",
       "    }\n",
       "\n",
       "    .dataframe tbody tr th {\n",
       "        vertical-align: top;\n",
       "    }\n",
       "\n",
       "    .dataframe thead th {\n",
       "        text-align: right;\n",
       "    }\n",
       "</style>\n",
       "<table border=\"1\" class=\"dataframe\">\n",
       "  <thead>\n",
       "    <tr style=\"text-align: right;\">\n",
       "      <th></th>\n",
       "      <th>id_orig</th>\n",
       "      <th>provincia</th>\n",
       "      <th>rubro A12</th>\n",
       "      <th>facturacion</th>\n",
       "      <th>fecha</th>\n",
       "    </tr>\n",
       "  </thead>\n",
       "  <tbody>\n",
       "    <tr>\n",
       "      <th>0</th>\n",
       "      <td>1</td>\n",
       "      <td>BUENOS AIRES</td>\n",
       "      <td>Anteojos</td>\n",
       "      <td>30878823</td>\n",
       "      <td>15/1/2019</td>\n",
       "    </tr>\n",
       "    <tr>\n",
       "      <th>1</th>\n",
       "      <td>2</td>\n",
       "      <td>BUENOS AIRES</td>\n",
       "      <td>Artículos de librería</td>\n",
       "      <td>4657723</td>\n",
       "      <td>4/1/2019</td>\n",
       "    </tr>\n",
       "    <tr>\n",
       "      <th>2</th>\n",
       "      <td>3</td>\n",
       "      <td>BUENOS AIRES</td>\n",
       "      <td>Balnearios</td>\n",
       "      <td>5839079</td>\n",
       "      <td>11/1/2019</td>\n",
       "    </tr>\n",
       "    <tr>\n",
       "      <th>3</th>\n",
       "      <td>4</td>\n",
       "      <td>BUENOS AIRES</td>\n",
       "      <td>Bicicletas</td>\n",
       "      <td>20645150</td>\n",
       "      <td>15/1/2019</td>\n",
       "    </tr>\n",
       "    <tr>\n",
       "      <th>4</th>\n",
       "      <td>5</td>\n",
       "      <td>BUENOS AIRES</td>\n",
       "      <td>Calzado y Marroquinería</td>\n",
       "      <td>229075801</td>\n",
       "      <td>19/1/2019</td>\n",
       "    </tr>\n",
       "    <tr>\n",
       "      <th>5</th>\n",
       "      <td>6</td>\n",
       "      <td>BUENOS AIRES</td>\n",
       "      <td>Colchones</td>\n",
       "      <td>53323671</td>\n",
       "      <td>13/1/2019</td>\n",
       "    </tr>\n",
       "    <tr>\n",
       "      <th>6</th>\n",
       "      <td>7</td>\n",
       "      <td>BUENOS AIRES</td>\n",
       "      <td>Electrodomésticos</td>\n",
       "      <td>439238382</td>\n",
       "      <td>10/1/2019</td>\n",
       "    </tr>\n",
       "    <tr>\n",
       "      <th>7</th>\n",
       "      <td>8</td>\n",
       "      <td>BUENOS AIRES</td>\n",
       "      <td>Indumentaria</td>\n",
       "      <td>1160938790</td>\n",
       "      <td>29/1/2019</td>\n",
       "    </tr>\n",
       "    <tr>\n",
       "      <th>8</th>\n",
       "      <td>9</td>\n",
       "      <td>BUENOS AIRES</td>\n",
       "      <td>Instrumentos musicales</td>\n",
       "      <td>2273994</td>\n",
       "      <td>26/1/2019</td>\n",
       "    </tr>\n",
       "    <tr>\n",
       "      <th>9</th>\n",
       "      <td>10</td>\n",
       "      <td>BUENOS AIRES</td>\n",
       "      <td>Juguetes y Juegos de mesa</td>\n",
       "      <td>68559650</td>\n",
       "      <td>17/1/2019</td>\n",
       "    </tr>\n",
       "    <tr>\n",
       "      <th>10</th>\n",
       "      <td>11</td>\n",
       "      <td>BUENOS AIRES</td>\n",
       "      <td>Libros</td>\n",
       "      <td>7189394</td>\n",
       "      <td>8/1/2019</td>\n",
       "    </tr>\n",
       "    <tr>\n",
       "      <th>11</th>\n",
       "      <td>12</td>\n",
       "      <td>BUENOS AIRES</td>\n",
       "      <td>Materiales para la construcción</td>\n",
       "      <td>374184123</td>\n",
       "      <td>13/1/2019</td>\n",
       "    </tr>\n",
       "    <tr>\n",
       "      <th>12</th>\n",
       "      <td>13</td>\n",
       "      <td>BUENOS AIRES</td>\n",
       "      <td>Motocicletas</td>\n",
       "      <td>927871</td>\n",
       "      <td>15/1/2019</td>\n",
       "    </tr>\n",
       "    <tr>\n",
       "      <th>13</th>\n",
       "      <td>14</td>\n",
       "      <td>BUENOS AIRES</td>\n",
       "      <td>Motos y Bicicletas</td>\n",
       "      <td>150439725</td>\n",
       "      <td>18/1/2019</td>\n",
       "    </tr>\n",
       "    <tr>\n",
       "      <th>14</th>\n",
       "      <td>15</td>\n",
       "      <td>BUENOS AIRES</td>\n",
       "      <td>Muebles</td>\n",
       "      <td>159902472</td>\n",
       "      <td>6/1/2019</td>\n",
       "    </tr>\n",
       "  </tbody>\n",
       "</table>\n",
       "</div>"
      ],
      "text/plain": [
       "    id_orig     provincia                        rubro A12  facturacion   \\\n",
       "0         1  BUENOS AIRES                         Anteojos      30878823   \n",
       "1         2  BUENOS AIRES            Artículos de librería       4657723   \n",
       "2         3  BUENOS AIRES                       Balnearios       5839079   \n",
       "3         4  BUENOS AIRES                       Bicicletas      20645150   \n",
       "4         5  BUENOS AIRES          Calzado y Marroquinería     229075801   \n",
       "5         6  BUENOS AIRES                        Colchones      53323671   \n",
       "6         7  BUENOS AIRES                Electrodomésticos     439238382   \n",
       "7         8  BUENOS AIRES                     Indumentaria    1160938790   \n",
       "8         9  BUENOS AIRES           Instrumentos musicales       2273994   \n",
       "9        10  BUENOS AIRES        Juguetes y Juegos de mesa      68559650   \n",
       "10       11  BUENOS AIRES                           Libros       7189394   \n",
       "11       12  BUENOS AIRES  Materiales para la construcción     374184123   \n",
       "12       13  BUENOS AIRES                     Motocicletas        927871   \n",
       "13       14  BUENOS AIRES               Motos y Bicicletas     150439725   \n",
       "14       15  BUENOS AIRES                          Muebles     159902472   \n",
       "\n",
       "        fecha  \n",
       "0   15/1/2019  \n",
       "1    4/1/2019  \n",
       "2   11/1/2019  \n",
       "3   15/1/2019  \n",
       "4   19/1/2019  \n",
       "5   13/1/2019  \n",
       "6   10/1/2019  \n",
       "7   29/1/2019  \n",
       "8   26/1/2019  \n",
       "9   17/1/2019  \n",
       "10   8/1/2019  \n",
       "11  13/1/2019  \n",
       "12  15/1/2019  \n",
       "13  18/1/2019  \n",
       "14   6/1/2019  "
      ]
     },
     "execution_count": 14,
     "metadata": {},
     "output_type": "execute_result"
    }
   ],
   "source": [
    "a12 = pd.read_csv('https://drive.google.com/uc?export=download&id=1Yo3OI7YBTr3Rv4PJHF4KhzMBcMNfK_u_',encoding='latin-1', sep=';')\n",
    "a12[:15]\n",
    "#https://drive.google.com/file/d/1Yo3OI7YBTr3Rv4PJHF4KhzMBcMNfK_u_/view?usp=sharing"
   ]
  },
  {
   "cell_type": "code",
   "execution_count": 15,
   "metadata": {
    "colab": {
     "base_uri": "https://localhost:8080/",
     "height": 502
    },
    "executionInfo": {
     "elapsed": 14,
     "status": "ok",
     "timestamp": 1627743512665,
     "user": {
      "displayName": "MARIA INES AHUMADA",
      "photoUrl": "https://lh3.googleusercontent.com/a-/AOh14GirsNUv4JCB0wVzfTAl_HffOYU50Lqvg1bVb1zU=s64",
      "userId": "07490966292012509010"
     },
     "user_tz": 180
    },
    "id": "OSefWvQo7as8",
    "outputId": "cbc4187e-b573-470d-8f2a-558fc6cd849e"
   },
   "outputs": [
    {
     "name": "stdout",
     "output_type": "stream",
     "text": [
      "id_orig          int64\n",
      "provincia       object\n",
      "rubro A12       object\n",
      "facturacion      int64\n",
      "fecha           object\n",
      "dtype: object\n"
     ]
    },
    {
     "data": {
      "text/html": [
       "<div>\n",
       "<style scoped>\n",
       "    .dataframe tbody tr th:only-of-type {\n",
       "        vertical-align: middle;\n",
       "    }\n",
       "\n",
       "    .dataframe tbody tr th {\n",
       "        vertical-align: top;\n",
       "    }\n",
       "\n",
       "    .dataframe thead th {\n",
       "        text-align: right;\n",
       "    }\n",
       "</style>\n",
       "<table border=\"1\" class=\"dataframe\">\n",
       "  <thead>\n",
       "    <tr style=\"text-align: right;\">\n",
       "      <th></th>\n",
       "      <th>id_orig</th>\n",
       "      <th>provincia</th>\n",
       "      <th>rubro A12</th>\n",
       "      <th>facturacion</th>\n",
       "      <th>fecha</th>\n",
       "    </tr>\n",
       "  </thead>\n",
       "  <tbody>\n",
       "    <tr>\n",
       "      <th>count</th>\n",
       "      <td>13560.0</td>\n",
       "      <td>13560</td>\n",
       "      <td>13560</td>\n",
       "      <td>1.356000e+04</td>\n",
       "      <td>13560</td>\n",
       "    </tr>\n",
       "    <tr>\n",
       "      <th>unique</th>\n",
       "      <td>NaN</td>\n",
       "      <td>24</td>\n",
       "      <td>33</td>\n",
       "      <td>NaN</td>\n",
       "      <td>842</td>\n",
       "    </tr>\n",
       "    <tr>\n",
       "      <th>top</th>\n",
       "      <td>NaN</td>\n",
       "      <td>BUENOS AIRES</td>\n",
       "      <td>Muebles</td>\n",
       "      <td>NaN</td>\n",
       "      <td>2/1/2021</td>\n",
       "    </tr>\n",
       "    <tr>\n",
       "      <th>freq</th>\n",
       "      <td>NaN</td>\n",
       "      <td>650</td>\n",
       "      <td>672</td>\n",
       "      <td>NaN</td>\n",
       "      <td>42</td>\n",
       "    </tr>\n",
       "    <tr>\n",
       "      <th>mean</th>\n",
       "      <td>6780.0</td>\n",
       "      <td>NaN</td>\n",
       "      <td>NaN</td>\n",
       "      <td>8.573787e+07</td>\n",
       "      <td>NaN</td>\n",
       "    </tr>\n",
       "    <tr>\n",
       "      <th>std</th>\n",
       "      <td>3915.0</td>\n",
       "      <td>NaN</td>\n",
       "      <td>NaN</td>\n",
       "      <td>4.406132e+08</td>\n",
       "      <td>NaN</td>\n",
       "    </tr>\n",
       "    <tr>\n",
       "      <th>min</th>\n",
       "      <td>1.0</td>\n",
       "      <td>NaN</td>\n",
       "      <td>NaN</td>\n",
       "      <td>1.000000e+00</td>\n",
       "      <td>NaN</td>\n",
       "    </tr>\n",
       "    <tr>\n",
       "      <th>25%</th>\n",
       "      <td>3391.0</td>\n",
       "      <td>NaN</td>\n",
       "      <td>NaN</td>\n",
       "      <td>8.032880e+05</td>\n",
       "      <td>NaN</td>\n",
       "    </tr>\n",
       "    <tr>\n",
       "      <th>50%</th>\n",
       "      <td>6780.0</td>\n",
       "      <td>NaN</td>\n",
       "      <td>NaN</td>\n",
       "      <td>4.683592e+06</td>\n",
       "      <td>NaN</td>\n",
       "    </tr>\n",
       "    <tr>\n",
       "      <th>75%</th>\n",
       "      <td>10170.0</td>\n",
       "      <td>NaN</td>\n",
       "      <td>NaN</td>\n",
       "      <td>2.879002e+07</td>\n",
       "      <td>NaN</td>\n",
       "    </tr>\n",
       "    <tr>\n",
       "      <th>max</th>\n",
       "      <td>13560.0</td>\n",
       "      <td>NaN</td>\n",
       "      <td>NaN</td>\n",
       "      <td>1.069319e+10</td>\n",
       "      <td>NaN</td>\n",
       "    </tr>\n",
       "  </tbody>\n",
       "</table>\n",
       "</div>"
      ],
      "text/plain": [
       "        id_orig     provincia rubro A12  facturacion      fecha\n",
       "count   13560.0         13560     13560  1.356000e+04     13560\n",
       "unique      NaN            24        33           NaN       842\n",
       "top         NaN  BUENOS AIRES   Muebles           NaN  2/1/2021\n",
       "freq        NaN           650       672           NaN        42\n",
       "mean     6780.0           NaN       NaN  8.573787e+07       NaN\n",
       "std      3915.0           NaN       NaN  4.406132e+08       NaN\n",
       "min         1.0           NaN       NaN  1.000000e+00       NaN\n",
       "25%      3391.0           NaN       NaN  8.032880e+05       NaN\n",
       "50%      6780.0           NaN       NaN  4.683592e+06       NaN\n",
       "75%     10170.0           NaN       NaN  2.879002e+07       NaN\n",
       "max     13560.0           NaN       NaN  1.069319e+10       NaN"
      ]
     },
     "execution_count": 15,
     "metadata": {},
     "output_type": "execute_result"
    }
   ],
   "source": [
    "a12.columns\n",
    "#a12.columns.to_native_types\n",
    "print(a12.dtypes)\n",
    "#si defino cmo variable de interés la facturación, verifico que se encuentre definida como variable, float\n",
    "a12.describe(include='all').round() # entrega estadística descriptiva para todos los campos sin importar el tipo"
   ]
  },
  {
   "cell_type": "code",
   "execution_count": null,
   "metadata": {
    "executionInfo": {
     "elapsed": 12,
     "status": "ok",
     "timestamp": 1627743512666,
     "user": {
      "displayName": "MARIA INES AHUMADA",
      "photoUrl": "https://lh3.googleusercontent.com/a-/AOh14GirsNUv4JCB0wVzfTAl_HffOYU50Lqvg1bVb1zU=s64",
      "userId": "07490966292012509010"
     },
     "user_tz": 180
    },
    "id": "0iEAuhXplWj6"
   },
   "outputs": [],
   "source": []
  },
  {
   "cell_type": "markdown",
   "metadata": {
    "id": "25pJCg-X_pNZ"
   },
   "source": [
    "Agregamos una columna con la facturación en \"millones de pesos\""
   ]
  },
  {
   "cell_type": "code",
   "execution_count": 16,
   "metadata": {
    "colab": {
     "base_uri": "https://localhost:8080/"
    },
    "executionInfo": {
     "elapsed": 13,
     "status": "ok",
     "timestamp": 1627743512668,
     "user": {
      "displayName": "MARIA INES AHUMADA",
      "photoUrl": "https://lh3.googleusercontent.com/a-/AOh14GirsNUv4JCB0wVzfTAl_HffOYU50Lqvg1bVb1zU=s64",
      "userId": "07490966292012509010"
     },
     "user_tz": 180
    },
    "id": "6R4qHGSu_oqU",
    "outputId": "57e9f48a-5d5d-425c-9b4f-3c2c957395df"
   },
   "outputs": [
    {
     "data": {
      "text/plain": [
       "Index(['id_orig', 'provincia', 'rubro A12', 'facturacion ', 'fecha',\n",
       "       'facturacion'],\n",
       "      dtype='object')"
      ]
     },
     "execution_count": 16,
     "metadata": {},
     "output_type": "execute_result"
    }
   ],
   "source": [
    "a12['facturacion'] = a12['facturacion '].astype(float)  ## cuidado!! aquí, además estamos corrigiendo la escritura del nombre de la variable, que tiene un espacio en blanco al final!\n",
    "a12.columns"
   ]
  },
  {
   "cell_type": "code",
   "execution_count": 17,
   "metadata": {
    "colab": {
     "base_uri": "https://localhost:8080/",
     "height": 362
    },
    "executionInfo": {
     "elapsed": 11,
     "status": "ok",
     "timestamp": 1627743512668,
     "user": {
      "displayName": "MARIA INES AHUMADA",
      "photoUrl": "https://lh3.googleusercontent.com/a-/AOh14GirsNUv4JCB0wVzfTAl_HffOYU50Lqvg1bVb1zU=s64",
      "userId": "07490966292012509010"
     },
     "user_tz": 180
    },
    "id": "3FViU-KmiMEF",
    "outputId": "47b5f528-7225-4606-e31f-726413012b4b"
   },
   "outputs": [
    {
     "data": {
      "text/html": [
       "<div>\n",
       "<style scoped>\n",
       "    .dataframe tbody tr th:only-of-type {\n",
       "        vertical-align: middle;\n",
       "    }\n",
       "\n",
       "    .dataframe tbody tr th {\n",
       "        vertical-align: top;\n",
       "    }\n",
       "\n",
       "    .dataframe thead th {\n",
       "        text-align: right;\n",
       "    }\n",
       "</style>\n",
       "<table border=\"1\" class=\"dataframe\">\n",
       "  <thead>\n",
       "    <tr style=\"text-align: right;\">\n",
       "      <th></th>\n",
       "      <th>id_orig</th>\n",
       "      <th>provincia</th>\n",
       "      <th>rubro A12</th>\n",
       "      <th>facturacion</th>\n",
       "      <th>fecha</th>\n",
       "      <th>facturacion</th>\n",
       "      <th>fact_millones</th>\n",
       "    </tr>\n",
       "  </thead>\n",
       "  <tbody>\n",
       "    <tr>\n",
       "      <th>0</th>\n",
       "      <td>1</td>\n",
       "      <td>BUENOS AIRES</td>\n",
       "      <td>Anteojos</td>\n",
       "      <td>30878823</td>\n",
       "      <td>15/1/2019</td>\n",
       "      <td>3.087882e+07</td>\n",
       "      <td>30.878823</td>\n",
       "    </tr>\n",
       "    <tr>\n",
       "      <th>1</th>\n",
       "      <td>2</td>\n",
       "      <td>BUENOS AIRES</td>\n",
       "      <td>Artículos de librería</td>\n",
       "      <td>4657723</td>\n",
       "      <td>4/1/2019</td>\n",
       "      <td>4.657723e+06</td>\n",
       "      <td>4.657723</td>\n",
       "    </tr>\n",
       "    <tr>\n",
       "      <th>2</th>\n",
       "      <td>3</td>\n",
       "      <td>BUENOS AIRES</td>\n",
       "      <td>Balnearios</td>\n",
       "      <td>5839079</td>\n",
       "      <td>11/1/2019</td>\n",
       "      <td>5.839079e+06</td>\n",
       "      <td>5.839079</td>\n",
       "    </tr>\n",
       "    <tr>\n",
       "      <th>3</th>\n",
       "      <td>4</td>\n",
       "      <td>BUENOS AIRES</td>\n",
       "      <td>Bicicletas</td>\n",
       "      <td>20645150</td>\n",
       "      <td>15/1/2019</td>\n",
       "      <td>2.064515e+07</td>\n",
       "      <td>20.645150</td>\n",
       "    </tr>\n",
       "    <tr>\n",
       "      <th>4</th>\n",
       "      <td>5</td>\n",
       "      <td>BUENOS AIRES</td>\n",
       "      <td>Calzado y Marroquinería</td>\n",
       "      <td>229075801</td>\n",
       "      <td>19/1/2019</td>\n",
       "      <td>2.290758e+08</td>\n",
       "      <td>229.075801</td>\n",
       "    </tr>\n",
       "    <tr>\n",
       "      <th>5</th>\n",
       "      <td>6</td>\n",
       "      <td>BUENOS AIRES</td>\n",
       "      <td>Colchones</td>\n",
       "      <td>53323671</td>\n",
       "      <td>13/1/2019</td>\n",
       "      <td>5.332367e+07</td>\n",
       "      <td>53.323671</td>\n",
       "    </tr>\n",
       "    <tr>\n",
       "      <th>6</th>\n",
       "      <td>7</td>\n",
       "      <td>BUENOS AIRES</td>\n",
       "      <td>Electrodomésticos</td>\n",
       "      <td>439238382</td>\n",
       "      <td>10/1/2019</td>\n",
       "      <td>4.392384e+08</td>\n",
       "      <td>439.238382</td>\n",
       "    </tr>\n",
       "    <tr>\n",
       "      <th>7</th>\n",
       "      <td>8</td>\n",
       "      <td>BUENOS AIRES</td>\n",
       "      <td>Indumentaria</td>\n",
       "      <td>1160938790</td>\n",
       "      <td>29/1/2019</td>\n",
       "      <td>1.160939e+09</td>\n",
       "      <td>1160.938790</td>\n",
       "    </tr>\n",
       "    <tr>\n",
       "      <th>8</th>\n",
       "      <td>9</td>\n",
       "      <td>BUENOS AIRES</td>\n",
       "      <td>Instrumentos musicales</td>\n",
       "      <td>2273994</td>\n",
       "      <td>26/1/2019</td>\n",
       "      <td>2.273994e+06</td>\n",
       "      <td>2.273994</td>\n",
       "    </tr>\n",
       "    <tr>\n",
       "      <th>9</th>\n",
       "      <td>10</td>\n",
       "      <td>BUENOS AIRES</td>\n",
       "      <td>Juguetes y Juegos de mesa</td>\n",
       "      <td>68559650</td>\n",
       "      <td>17/1/2019</td>\n",
       "      <td>6.855965e+07</td>\n",
       "      <td>68.559650</td>\n",
       "    </tr>\n",
       "  </tbody>\n",
       "</table>\n",
       "</div>"
      ],
      "text/plain": [
       "   id_orig     provincia                  rubro A12  facturacion       fecha  \\\n",
       "0        1  BUENOS AIRES                   Anteojos      30878823  15/1/2019   \n",
       "1        2  BUENOS AIRES      Artículos de librería       4657723   4/1/2019   \n",
       "2        3  BUENOS AIRES                 Balnearios       5839079  11/1/2019   \n",
       "3        4  BUENOS AIRES                 Bicicletas      20645150  15/1/2019   \n",
       "4        5  BUENOS AIRES    Calzado y Marroquinería     229075801  19/1/2019   \n",
       "5        6  BUENOS AIRES                  Colchones      53323671  13/1/2019   \n",
       "6        7  BUENOS AIRES          Electrodomésticos     439238382  10/1/2019   \n",
       "7        8  BUENOS AIRES               Indumentaria    1160938790  29/1/2019   \n",
       "8        9  BUENOS AIRES     Instrumentos musicales       2273994  26/1/2019   \n",
       "9       10  BUENOS AIRES  Juguetes y Juegos de mesa      68559650  17/1/2019   \n",
       "\n",
       "    facturacion  fact_millones  \n",
       "0  3.087882e+07      30.878823  \n",
       "1  4.657723e+06       4.657723  \n",
       "2  5.839079e+06       5.839079  \n",
       "3  2.064515e+07      20.645150  \n",
       "4  2.290758e+08     229.075801  \n",
       "5  5.332367e+07      53.323671  \n",
       "6  4.392384e+08     439.238382  \n",
       "7  1.160939e+09    1160.938790  \n",
       "8  2.273994e+06       2.273994  \n",
       "9  6.855965e+07      68.559650  "
      ]
     },
     "execution_count": 17,
     "metadata": {},
     "output_type": "execute_result"
    }
   ],
   "source": [
    "a12[\"fact_millones\"]=a12[\"facturacion\"]/1000000\n",
    "a12[:10]"
   ]
  },
  {
   "cell_type": "code",
   "execution_count": 18,
   "metadata": {
    "colab": {
     "base_uri": "https://localhost:8080/"
    },
    "executionInfo": {
     "elapsed": 3377,
     "status": "ok",
     "timestamp": 1627743516035,
     "user": {
      "displayName": "MARIA INES AHUMADA",
      "photoUrl": "https://lh3.googleusercontent.com/a-/AOh14GirsNUv4JCB0wVzfTAl_HffOYU50Lqvg1bVb1zU=s64",
      "userId": "07490966292012509010"
     },
     "user_tz": 180
    },
    "id": "1Hnka7QuOF5q",
    "outputId": "57d178a7-afbf-4970-ee41-b472471491b8"
   },
   "outputs": [
    {
     "name": "stdout",
     "output_type": "stream",
     "text": [
      "\u001b[33mWARNING: Value for scheme.headers does not match. Please report this to <https://github.com/pypa/pip/issues/9617>\n",
      "distutils: /home/adalisa/anaconda3/include/python3.7m/UNKNOWN\n",
      "sysconfig: /home/adalisa/anaconda3/include/python3.7m\u001b[0m\n",
      "\u001b[33mWARNING: Additional context:\n",
      "user = False\n",
      "home = None\n",
      "root = None\n",
      "prefix = None\u001b[0m\n",
      "Requirement already satisfied: pandas-profiling==2.7.1 in /home/adalisa/anaconda3/lib/python3.7/site-packages (2.7.1)\n",
      "Requirement already satisfied: requests>=2.23.0 in /home/adalisa/anaconda3/lib/python3.7/site-packages (from pandas-profiling==2.7.1) (2.25.1)\n",
      "Requirement already satisfied: missingno>=0.4.2 in /home/adalisa/anaconda3/lib/python3.7/site-packages (from pandas-profiling==2.7.1) (0.5.0)\n",
      "Requirement already satisfied: confuse>=1.0.0 in /home/adalisa/anaconda3/lib/python3.7/site-packages (from pandas-profiling==2.7.1) (1.5.0)\n",
      "Requirement already satisfied: matplotlib>=3.2.0 in /home/adalisa/anaconda3/lib/python3.7/site-packages (from pandas-profiling==2.7.1) (3.3.4)\n",
      "Requirement already satisfied: scipy>=1.4.1 in /home/adalisa/anaconda3/lib/python3.7/site-packages (from pandas-profiling==2.7.1) (1.5.2)\n",
      "Requirement already satisfied: astropy>=4.0 in /home/adalisa/anaconda3/lib/python3.7/site-packages (from pandas-profiling==2.7.1) (4.2)\n",
      "Requirement already satisfied: tqdm>=4.43.0 in /home/adalisa/anaconda3/lib/python3.7/site-packages (from pandas-profiling==2.7.1) (4.54.1)\n",
      "Requirement already satisfied: pandas!=1.0.0,!=1.0.1,!=1.0.2,>=0.25.3 in /home/adalisa/anaconda3/lib/python3.7/site-packages (from pandas-profiling==2.7.1) (1.1.5)\n",
      "Requirement already satisfied: tangled-up-in-unicode>=0.0.4 in /home/adalisa/anaconda3/lib/python3.7/site-packages (from pandas-profiling==2.7.1) (0.1.0)\n",
      "Requirement already satisfied: joblib in /home/adalisa/anaconda3/lib/python3.7/site-packages (from pandas-profiling==2.7.1) (1.0.0)\n",
      "Requirement already satisfied: ipywidgets>=7.5.1 in /home/adalisa/anaconda3/lib/python3.7/site-packages (from pandas-profiling==2.7.1) (7.5.1)\n",
      "Requirement already satisfied: jinja2>=2.11.1 in /home/adalisa/anaconda3/lib/python3.7/site-packages (from pandas-profiling==2.7.1) (2.11.2)\n",
      "Requirement already satisfied: htmlmin>=0.1.12 in /home/adalisa/anaconda3/lib/python3.7/site-packages (from pandas-profiling==2.7.1) (0.1.12)\n",
      "Requirement already satisfied: visions[type_image_path]==0.4.1 in /home/adalisa/anaconda3/lib/python3.7/site-packages (from pandas-profiling==2.7.1) (0.4.1)\n",
      "Requirement already satisfied: numpy>=1.16.0 in /home/adalisa/anaconda3/lib/python3.7/site-packages (from pandas-profiling==2.7.1) (1.19.2)\n",
      "Requirement already satisfied: phik>=0.9.10 in /home/adalisa/anaconda3/lib/python3.7/site-packages (from pandas-profiling==2.7.1) (0.12.0)\n",
      "Requirement already satisfied: attrs>=19.3.0 in /home/adalisa/anaconda3/lib/python3.7/site-packages (from visions[type_image_path]==0.4.1->pandas-profiling==2.7.1) (20.3.0)\n",
      "Requirement already satisfied: networkx>=2.4 in /home/adalisa/anaconda3/lib/python3.7/site-packages (from visions[type_image_path]==0.4.1->pandas-profiling==2.7.1) (2.5)\n",
      "Requirement already satisfied: imagehash in /home/adalisa/anaconda3/lib/python3.7/site-packages (from visions[type_image_path]==0.4.1->pandas-profiling==2.7.1) (4.2.1)\n",
      "Requirement already satisfied: Pillow in /home/adalisa/anaconda3/lib/python3.7/site-packages (from visions[type_image_path]==0.4.1->pandas-profiling==2.7.1) (8.0.1)\n",
      "Requirement already satisfied: pyerfa in /home/adalisa/anaconda3/lib/python3.7/site-packages (from astropy>=4.0->pandas-profiling==2.7.1) (1.7.1.1)\n",
      "Requirement already satisfied: pyyaml in /home/adalisa/anaconda3/lib/python3.7/site-packages (from confuse>=1.0.0->pandas-profiling==2.7.1) (5.3.1)\n",
      "Requirement already satisfied: ipython>=4.0.0 in /home/adalisa/anaconda3/lib/python3.7/site-packages (from ipywidgets>=7.5.1->pandas-profiling==2.7.1) (7.19.0)\n",
      "Requirement already satisfied: widgetsnbextension~=3.5.0 in /home/adalisa/anaconda3/lib/python3.7/site-packages (from ipywidgets>=7.5.1->pandas-profiling==2.7.1) (3.5.1)\n",
      "Requirement already satisfied: nbformat>=4.2.0 in /home/adalisa/anaconda3/lib/python3.7/site-packages (from ipywidgets>=7.5.1->pandas-profiling==2.7.1) (5.0.8)\n",
      "Requirement already satisfied: traitlets>=4.3.1 in /home/adalisa/anaconda3/lib/python3.7/site-packages (from ipywidgets>=7.5.1->pandas-profiling==2.7.1) (5.0.5)\n",
      "Requirement already satisfied: ipykernel>=4.5.1 in /home/adalisa/anaconda3/lib/python3.7/site-packages (from ipywidgets>=7.5.1->pandas-profiling==2.7.1) (5.3.4)\n",
      "Requirement already satisfied: jupyter-client in /home/adalisa/anaconda3/lib/python3.7/site-packages (from ipykernel>=4.5.1->ipywidgets>=7.5.1->pandas-profiling==2.7.1) (6.1.7)\n",
      "Requirement already satisfied: tornado>=4.2 in /home/adalisa/anaconda3/lib/python3.7/site-packages (from ipykernel>=4.5.1->ipywidgets>=7.5.1->pandas-profiling==2.7.1) (6.1)\n",
      "Requirement already satisfied: pygments in /home/adalisa/anaconda3/lib/python3.7/site-packages (from ipython>=4.0.0->ipywidgets>=7.5.1->pandas-profiling==2.7.1) (2.7.3)\n",
      "Requirement already satisfied: prompt-toolkit!=3.0.0,!=3.0.1,<3.1.0,>=2.0.0 in /home/adalisa/anaconda3/lib/python3.7/site-packages (from ipython>=4.0.0->ipywidgets>=7.5.1->pandas-profiling==2.7.1) (3.0.8)\n",
      "Requirement already satisfied: pickleshare in /home/adalisa/anaconda3/lib/python3.7/site-packages (from ipython>=4.0.0->ipywidgets>=7.5.1->pandas-profiling==2.7.1) (0.7.5)\n",
      "Requirement already satisfied: setuptools>=18.5 in /home/adalisa/anaconda3/lib/python3.7/site-packages (from ipython>=4.0.0->ipywidgets>=7.5.1->pandas-profiling==2.7.1) (56.0.0)\n",
      "Requirement already satisfied: pexpect>4.3 in /home/adalisa/anaconda3/lib/python3.7/site-packages (from ipython>=4.0.0->ipywidgets>=7.5.1->pandas-profiling==2.7.1) (4.8.0)\n",
      "Requirement already satisfied: decorator in /home/adalisa/anaconda3/lib/python3.7/site-packages (from ipython>=4.0.0->ipywidgets>=7.5.1->pandas-profiling==2.7.1) (4.4.2)\n",
      "Requirement already satisfied: backcall in /home/adalisa/anaconda3/lib/python3.7/site-packages (from ipython>=4.0.0->ipywidgets>=7.5.1->pandas-profiling==2.7.1) (0.2.0)\n",
      "Requirement already satisfied: jedi>=0.10 in /home/adalisa/anaconda3/lib/python3.7/site-packages (from ipython>=4.0.0->ipywidgets>=7.5.1->pandas-profiling==2.7.1) (0.17.2)\n",
      "Requirement already satisfied: parso<0.8.0,>=0.7.0 in /home/adalisa/anaconda3/lib/python3.7/site-packages (from jedi>=0.10->ipython>=4.0.0->ipywidgets>=7.5.1->pandas-profiling==2.7.1) (0.7.0)\n",
      "Requirement already satisfied: MarkupSafe>=0.23 in /home/adalisa/anaconda3/lib/python3.7/site-packages (from jinja2>=2.11.1->pandas-profiling==2.7.1) (1.1.1)\n",
      "Requirement already satisfied: pyparsing!=2.0.4,!=2.1.2,!=2.1.6,>=2.0.3 in /home/adalisa/anaconda3/lib/python3.7/site-packages (from matplotlib>=3.2.0->pandas-profiling==2.7.1) (2.4.7)\n",
      "Requirement already satisfied: kiwisolver>=1.0.1 in /home/adalisa/anaconda3/lib/python3.7/site-packages (from matplotlib>=3.2.0->pandas-profiling==2.7.1) (1.3.0)\n",
      "Requirement already satisfied: python-dateutil>=2.1 in /home/adalisa/anaconda3/lib/python3.7/site-packages (from matplotlib>=3.2.0->pandas-profiling==2.7.1) (2.8.1)\n",
      "Requirement already satisfied: cycler>=0.10 in /home/adalisa/anaconda3/lib/python3.7/site-packages (from matplotlib>=3.2.0->pandas-profiling==2.7.1) (0.10.0)\n",
      "Requirement already satisfied: six in /home/adalisa/anaconda3/lib/python3.7/site-packages (from cycler>=0.10->matplotlib>=3.2.0->pandas-profiling==2.7.1) (1.15.0)\n",
      "Requirement already satisfied: seaborn in /home/adalisa/anaconda3/lib/python3.7/site-packages (from missingno>=0.4.2->pandas-profiling==2.7.1) (0.11.1)\n",
      "Requirement already satisfied: ipython-genutils in /home/adalisa/anaconda3/lib/python3.7/site-packages (from nbformat>=4.2.0->ipywidgets>=7.5.1->pandas-profiling==2.7.1) (0.2.0)\n",
      "Requirement already satisfied: jsonschema!=2.5.0,>=2.4 in /home/adalisa/anaconda3/lib/python3.7/site-packages (from nbformat>=4.2.0->ipywidgets>=7.5.1->pandas-profiling==2.7.1) (3.2.0)\n",
      "Requirement already satisfied: jupyter-core in /home/adalisa/anaconda3/lib/python3.7/site-packages (from nbformat>=4.2.0->ipywidgets>=7.5.1->pandas-profiling==2.7.1) (4.7.0)\n",
      "Requirement already satisfied: importlib-metadata in /home/adalisa/anaconda3/lib/python3.7/site-packages (from jsonschema!=2.5.0,>=2.4->nbformat>=4.2.0->ipywidgets>=7.5.1->pandas-profiling==2.7.1) (2.0.0)\n",
      "Requirement already satisfied: pyrsistent>=0.14.0 in /home/adalisa/anaconda3/lib/python3.7/site-packages (from jsonschema!=2.5.0,>=2.4->nbformat>=4.2.0->ipywidgets>=7.5.1->pandas-profiling==2.7.1) (0.17.3)\n"
     ]
    },
    {
     "name": "stdout",
     "output_type": "stream",
     "text": [
      "Requirement already satisfied: pytz>=2017.2 in /home/adalisa/anaconda3/lib/python3.7/site-packages (from pandas!=1.0.0,!=1.0.1,!=1.0.2,>=0.25.3->pandas-profiling==2.7.1) (2020.4)\n",
      "Requirement already satisfied: ptyprocess>=0.5 in /home/adalisa/anaconda3/lib/python3.7/site-packages (from pexpect>4.3->ipython>=4.0.0->ipywidgets>=7.5.1->pandas-profiling==2.7.1) (0.6.0)\n",
      "Requirement already satisfied: wcwidth in /home/adalisa/anaconda3/lib/python3.7/site-packages (from prompt-toolkit!=3.0.0,!=3.0.1,<3.1.0,>=2.0.0->ipython>=4.0.0->ipywidgets>=7.5.1->pandas-profiling==2.7.1) (0.2.5)\n",
      "Requirement already satisfied: chardet<5,>=3.0.2 in /home/adalisa/anaconda3/lib/python3.7/site-packages (from requests>=2.23.0->pandas-profiling==2.7.1) (4.0.0)\n",
      "Requirement already satisfied: urllib3<1.27,>=1.21.1 in /home/adalisa/anaconda3/lib/python3.7/site-packages (from requests>=2.23.0->pandas-profiling==2.7.1) (1.26.2)\n",
      "Requirement already satisfied: idna<3,>=2.5 in /home/adalisa/anaconda3/lib/python3.7/site-packages (from requests>=2.23.0->pandas-profiling==2.7.1) (2.10)\n",
      "Requirement already satisfied: certifi>=2017.4.17 in /home/adalisa/anaconda3/lib/python3.7/site-packages (from requests>=2.23.0->pandas-profiling==2.7.1) (2020.12.5)\n",
      "Requirement already satisfied: notebook>=4.4.1 in /home/adalisa/anaconda3/lib/python3.7/site-packages (from widgetsnbextension~=3.5.0->ipywidgets>=7.5.1->pandas-profiling==2.7.1) (6.1.5)\n",
      "Requirement already satisfied: nbconvert in /home/adalisa/anaconda3/lib/python3.7/site-packages (from notebook>=4.4.1->widgetsnbextension~=3.5.0->ipywidgets>=7.5.1->pandas-profiling==2.7.1) (6.0.7)\n",
      "Requirement already satisfied: terminado>=0.8.3 in /home/adalisa/anaconda3/lib/python3.7/site-packages (from notebook>=4.4.1->widgetsnbextension~=3.5.0->ipywidgets>=7.5.1->pandas-profiling==2.7.1) (0.9.1)\n",
      "Requirement already satisfied: prometheus-client in /home/adalisa/anaconda3/lib/python3.7/site-packages (from notebook>=4.4.1->widgetsnbextension~=3.5.0->ipywidgets>=7.5.1->pandas-profiling==2.7.1) (0.9.0)\n",
      "Requirement already satisfied: Send2Trash in /home/adalisa/anaconda3/lib/python3.7/site-packages (from notebook>=4.4.1->widgetsnbextension~=3.5.0->ipywidgets>=7.5.1->pandas-profiling==2.7.1) (1.5.0)\n",
      "Requirement already satisfied: argon2-cffi in /home/adalisa/anaconda3/lib/python3.7/site-packages (from notebook>=4.4.1->widgetsnbextension~=3.5.0->ipywidgets>=7.5.1->pandas-profiling==2.7.1) (20.1.0)\n",
      "Requirement already satisfied: pyzmq>=17 in /home/adalisa/anaconda3/lib/python3.7/site-packages (from notebook>=4.4.1->widgetsnbextension~=3.5.0->ipywidgets>=7.5.1->pandas-profiling==2.7.1) (20.0.0)\n",
      "Requirement already satisfied: cffi>=1.0.0 in /home/adalisa/anaconda3/lib/python3.7/site-packages (from argon2-cffi->notebook>=4.4.1->widgetsnbextension~=3.5.0->ipywidgets>=7.5.1->pandas-profiling==2.7.1) (1.14.0)\n",
      "Requirement already satisfied: pycparser in /home/adalisa/anaconda3/lib/python3.7/site-packages (from cffi>=1.0.0->argon2-cffi->notebook>=4.4.1->widgetsnbextension~=3.5.0->ipywidgets>=7.5.1->pandas-profiling==2.7.1) (2.20)\n",
      "Requirement already satisfied: PyWavelets in /home/adalisa/anaconda3/lib/python3.7/site-packages (from imagehash->visions[type_image_path]==0.4.1->pandas-profiling==2.7.1) (1.1.1)\n",
      "Requirement already satisfied: zipp>=0.5 in /home/adalisa/anaconda3/lib/python3.7/site-packages (from importlib-metadata->jsonschema!=2.5.0,>=2.4->nbformat>=4.2.0->ipywidgets>=7.5.1->pandas-profiling==2.7.1) (3.4.0)\n",
      "Requirement already satisfied: nbclient<0.6.0,>=0.5.0 in /home/adalisa/anaconda3/lib/python3.7/site-packages (from nbconvert->notebook>=4.4.1->widgetsnbextension~=3.5.0->ipywidgets>=7.5.1->pandas-profiling==2.7.1) (0.5.1)\n",
      "Requirement already satisfied: entrypoints>=0.2.2 in /home/adalisa/anaconda3/lib/python3.7/site-packages (from nbconvert->notebook>=4.4.1->widgetsnbextension~=3.5.0->ipywidgets>=7.5.1->pandas-profiling==2.7.1) (0.3)\n",
      "Requirement already satisfied: jupyterlab-pygments in /home/adalisa/anaconda3/lib/python3.7/site-packages (from nbconvert->notebook>=4.4.1->widgetsnbextension~=3.5.0->ipywidgets>=7.5.1->pandas-profiling==2.7.1) (0.1.2)\n",
      "Requirement already satisfied: testpath in /home/adalisa/anaconda3/lib/python3.7/site-packages (from nbconvert->notebook>=4.4.1->widgetsnbextension~=3.5.0->ipywidgets>=7.5.1->pandas-profiling==2.7.1) (0.4.4)\n",
      "Requirement already satisfied: mistune<2,>=0.8.1 in /home/adalisa/anaconda3/lib/python3.7/site-packages (from nbconvert->notebook>=4.4.1->widgetsnbextension~=3.5.0->ipywidgets>=7.5.1->pandas-profiling==2.7.1) (0.8.4)\n",
      "Requirement already satisfied: pandocfilters>=1.4.1 in /home/adalisa/anaconda3/lib/python3.7/site-packages (from nbconvert->notebook>=4.4.1->widgetsnbextension~=3.5.0->ipywidgets>=7.5.1->pandas-profiling==2.7.1) (1.4.3)\n",
      "Requirement already satisfied: defusedxml in /home/adalisa/anaconda3/lib/python3.7/site-packages (from nbconvert->notebook>=4.4.1->widgetsnbextension~=3.5.0->ipywidgets>=7.5.1->pandas-profiling==2.7.1) (0.6.0)\n",
      "Requirement already satisfied: bleach in /home/adalisa/anaconda3/lib/python3.7/site-packages (from nbconvert->notebook>=4.4.1->widgetsnbextension~=3.5.0->ipywidgets>=7.5.1->pandas-profiling==2.7.1) (3.2.1)\n",
      "Requirement already satisfied: async-generator in /home/adalisa/anaconda3/lib/python3.7/site-packages (from nbclient<0.6.0,>=0.5.0->nbconvert->notebook>=4.4.1->widgetsnbextension~=3.5.0->ipywidgets>=7.5.1->pandas-profiling==2.7.1) (1.10)\n",
      "Requirement already satisfied: nest-asyncio in /home/adalisa/anaconda3/lib/python3.7/site-packages (from nbclient<0.6.0,>=0.5.0->nbconvert->notebook>=4.4.1->widgetsnbextension~=3.5.0->ipywidgets>=7.5.1->pandas-profiling==2.7.1) (1.4.3)\n",
      "Requirement already satisfied: webencodings in /home/adalisa/anaconda3/lib/python3.7/site-packages (from bleach->nbconvert->notebook>=4.4.1->widgetsnbextension~=3.5.0->ipywidgets>=7.5.1->pandas-profiling==2.7.1) (0.5.1)\n",
      "Requirement already satisfied: packaging in /home/adalisa/anaconda3/lib/python3.7/site-packages (from bleach->nbconvert->notebook>=4.4.1->widgetsnbextension~=3.5.0->ipywidgets>=7.5.1->pandas-profiling==2.7.1) (20.8)\n",
      "\u001b[33mWARNING: Value for scheme.headers does not match. Please report this to <https://github.com/pypa/pip/issues/9617>\n",
      "distutils: /home/adalisa/anaconda3/include/python3.7m/UNKNOWN\n",
      "sysconfig: /home/adalisa/anaconda3/include/python3.7m\u001b[0m\n",
      "\u001b[33mWARNING: Additional context:\n",
      "user = False\n",
      "home = None\n",
      "root = None\n",
      "prefix = None\u001b[0m\n",
      "\u001b[33mWARNING: You are using pip version 21.1; however, version 21.2.2 is available.\n",
      "You should consider upgrading via the '/home/adalisa/anaconda3/bin/python -m pip install --upgrade pip' command.\u001b[0m\n"
     ]
    }
   ],
   "source": [
    "#import pandas_profiling as pp\n",
    "!pip install pandas-profiling==2.7.1"
   ]
  },
  {
   "cell_type": "code",
   "execution_count": 19,
   "metadata": {
    "colab": {
     "base_uri": "https://localhost:8080/",
     "height": 467
    },
    "executionInfo": {
     "elapsed": 448,
     "status": "error",
     "timestamp": 1627743551995,
     "user": {
      "displayName": "MARIA INES AHUMADA",
      "photoUrl": "https://lh3.googleusercontent.com/a-/AOh14GirsNUv4JCB0wVzfTAl_HffOYU50Lqvg1bVb1zU=s64",
      "userId": "07490966292012509010"
     },
     "user_tz": 180
    },
    "id": "pgqZ02twBCHi",
    "outputId": "6c4af62c-9a2f-40b3-c51b-647a5837f501"
   },
   "outputs": [
    {
     "ename": "NameError",
     "evalue": "name 'pp' is not defined",
     "output_type": "error",
     "traceback": [
      "\u001b[0;31m---------------------------------------------------------------------------\u001b[0m",
      "\u001b[0;31mNameError\u001b[0m                                 Traceback (most recent call last)",
      "\u001b[0;32m<ipython-input-19-873129bdcd02>\u001b[0m in \u001b[0;36m<module>\u001b[0;34m\u001b[0m\n\u001b[0;32m----> 1\u001b[0;31m \u001b[0mpp\u001b[0m\u001b[0;34m.\u001b[0m\u001b[0mProfileReport\u001b[0m\u001b[0;34m(\u001b[0m\u001b[0ma12\u001b[0m\u001b[0;34m)\u001b[0m\u001b[0;34m\u001b[0m\u001b[0;34m\u001b[0m\u001b[0m\n\u001b[0m",
      "\u001b[0;31mNameError\u001b[0m: name 'pp' is not defined"
     ]
    }
   ],
   "source": [
    "pp.ProfileReport(a12)"
   ]
  },
  {
   "cell_type": "markdown",
   "metadata": {
    "id": "FAJeDN9uMC4Z"
   },
   "source": [
    "Visualizamos la variable de interés..."
   ]
  },
  {
   "cell_type": "code",
   "execution_count": 20,
   "metadata": {
    "executionInfo": {
     "elapsed": 39,
     "status": "aborted",
     "timestamp": 1627743516036,
     "user": {
      "displayName": "MARIA INES AHUMADA",
      "photoUrl": "https://lh3.googleusercontent.com/a-/AOh14GirsNUv4JCB0wVzfTAl_HffOYU50Lqvg1bVb1zU=s64",
      "userId": "07490966292012509010"
     },
     "user_tz": 180
    },
    "id": "y94ACBhh3xKU"
   },
   "outputs": [
    {
     "data": {
      "text/plain": [
       "<AxesSubplot:ylabel='Frequency'>"
      ]
     },
     "execution_count": 20,
     "metadata": {},
     "output_type": "execute_result"
    },
    {
     "data": {
      "image/png": "[encoded data removed]",
      "text/plain": [
       "<Figure size 864x432 with 1 Axes>"
      ]
     },
     "metadata": {
      "needs_background": "light"
     },
     "output_type": "display_data"
    }
   ],
   "source": [
    "#sbn.histplot(a12.Fact_millones) # no se visualiza correctamente por la existencia de valores extremos.\n",
    "a12['fact_millones'].plot(kind='hist', bins=100, figsize=(12,6), facecolor='blue',edgecolor='black')"
   ]
  },
  {
   "cell_type": "code",
   "execution_count": 21,
   "metadata": {
    "executionInfo": {
     "elapsed": 40,
     "status": "aborted",
     "timestamp": 1627743516037,
     "user": {
      "displayName": "MARIA INES AHUMADA",
      "photoUrl": "https://lh3.googleusercontent.com/a-/AOh14GirsNUv4JCB0wVzfTAl_HffOYU50Lqvg1bVb1zU=s64",
      "userId": "07490966292012509010"
     },
     "user_tz": 180
    },
    "id": "c5vdxu_qA4a6"
   },
   "outputs": [
    {
     "data": {
      "text/plain": [
       "<AxesSubplot:>"
      ]
     },
     "execution_count": 21,
     "metadata": {},
     "output_type": "execute_result"
    },
    {
     "data": {
      "image/png": "[encoded data removed]",
      "text/plain": [
       "<Figure size 432x288 with 1 Axes>"
      ]
     },
     "metadata": {
      "needs_background": "light"
     },
     "output_type": "display_data"
    }
   ],
   "source": [
    "a12.boxplot('fact_millones') # se pierde la correcta visualización de la caja por valores muy extremos"
   ]
  },
  {
   "cell_type": "markdown",
   "metadata": {
    "id": "VpbUm7lGIspp"
   },
   "source": [
    "** Hay valores realmente grades que dificultan visualizar el comportamiento de la variable.\n",
    "Una manera de identificar **valores extremos** consideremos aquellos observados en el set de datos que superen 3 veces el recorrido intercuartílico, de manera que dicho límite será:"
   ]
  },
  {
   "cell_type": "code",
   "execution_count": 22,
   "metadata": {
    "executionInfo": {
     "elapsed": 42,
     "status": "aborted",
     "timestamp": 1627743516040,
     "user": {
      "displayName": "MARIA INES AHUMADA",
      "photoUrl": "https://lh3.googleusercontent.com/a-/AOh14GirsNUv4JCB0wVzfTAl_HffOYU50Lqvg1bVb1zU=s64",
      "userId": "07490966292012509010"
     },
     "user_tz": 180
    },
    "id": "rahefqTKI9ig"
   },
   "outputs": [
    {
     "data": {
      "image/png": "[encoded data removed]",
      "text/plain": [
       "<Figure size 864x432 with 1 Axes>"
      ]
     },
     "metadata": {
      "needs_background": "light"
     },
     "output_type": "display_data"
    }
   ],
   "source": [
    "boxplot = a12.boxplot(column=['fact_millones'],by='provincia', figsize=(12,6), return_type='axes',rot=90)"
   ]
  },
  {
   "cell_type": "code",
   "execution_count": 23,
   "metadata": {
    "executionInfo": {
     "elapsed": 42,
     "status": "aborted",
     "timestamp": 1627743516041,
     "user": {
      "displayName": "MARIA INES AHUMADA",
      "photoUrl": "https://lh3.googleusercontent.com/a-/AOh14GirsNUv4JCB0wVzfTAl_HffOYU50Lqvg1bVb1zU=s64",
      "userId": "07490966292012509010"
     },
     "user_tz": 180
    },
    "id": "UIweoLbrBLMc"
   },
   "outputs": [
    {
     "name": "stdout",
     "output_type": "stream",
     "text": [
      "112.7502125 0.8032885000000001 28.7900195\n"
     ]
    }
   ],
   "source": [
    "# RI=Q3-Q1  Recorrido intrecuartilico. Luego LSE= Q3+3*RI  Es decir, el límite superior para valores extremos serán una barrera \n",
    "# a partir de la cuál cualquier valor observado que supere dicho límite será considerado \"extremo\" para el conjunto de datos analizado.\n",
    "\n",
    "Q1=a12.fact_millones.quantile(q=0.25)\n",
    "Q3=a12.fact_millones.quantile(q=0.75)\n",
    "LSE=Q3+3*(Q3-Q1)\n",
    "LIE=Q1-3*(Q3-Q1)\n",
    "print(LSE,Q1,Q3)\n"
   ]
  },
  {
   "cell_type": "markdown",
   "metadata": {
    "id": "qfZTOgLON-GS"
   },
   "source": [
    "Notemos que existen valores que superan dicho limíte y vamos a reducir el conjunto de datos de manera que queden eliminado los valores extremos."
   ]
  },
  {
   "cell_type": "code",
   "execution_count": 24,
   "metadata": {
    "executionInfo": {
     "elapsed": 43,
     "status": "aborted",
     "timestamp": 1627743516042,
     "user": {
      "displayName": "MARIA INES AHUMADA",
      "photoUrl": "https://lh3.googleusercontent.com/a-/AOh14GirsNUv4JCB0wVzfTAl_HffOYU50Lqvg1bVb1zU=s64",
      "userId": "07490966292012509010"
     },
     "user_tz": 180
    },
    "id": "hflupYK8OZWD"
   },
   "outputs": [
    {
     "data": {
      "text/plain": [
       "False     1439\n",
       "True     12121\n",
       "Name: fact_millones, dtype: int64"
      ]
     },
     "execution_count": 24,
     "metadata": {},
     "output_type": "execute_result"
    }
   ],
   "source": [
    "pd.value_counts(a12['fact_millones']< LSE.sum()).sort_index()\n"
   ]
  },
  {
   "cell_type": "markdown",
   "metadata": {
    "id": "l0nh84oEk6YH"
   },
   "source": [
    "Vemos que encontramos 1439 valores extremos. Que podríamos omitir o exlcuir , a priori para mejorar la visualiación de variable. No necesariamente para análisis posteriores.\n"
   ]
  },
  {
   "cell_type": "code",
   "execution_count": 25,
   "metadata": {
    "executionInfo": {
     "elapsed": 43,
     "status": "aborted",
     "timestamp": 1627743516043,
     "user": {
      "displayName": "MARIA INES AHUMADA",
      "photoUrl": "https://lh3.googleusercontent.com/a-/AOh14GirsNUv4JCB0wVzfTAl_HffOYU50Lqvg1bVb1zU=s64",
      "userId": "07490966292012509010"
     },
     "user_tz": 180
    },
    "id": "urC7HrcslTIl"
   },
   "outputs": [
    {
     "name": "stdout",
     "output_type": "stream",
     "text": [
      "(12121, 7)\n"
     ]
    }
   ],
   "source": [
    "a12_visual = a12[a12['fact_millones']< LSE]\n",
    "print(a12_visual.shape)"
   ]
  },
  {
   "cell_type": "markdown",
   "metadata": {
    "id": "l0OKX4XVQ4i7"
   },
   "source": [
    "Volvemos a graficar, con el conjunto reducido."
   ]
  },
  {
   "cell_type": "code",
   "execution_count": 26,
   "metadata": {
    "executionInfo": {
     "elapsed": 43,
     "status": "aborted",
     "timestamp": 1627743516043,
     "user": {
      "displayName": "MARIA INES AHUMADA",
      "photoUrl": "https://lh3.googleusercontent.com/a-/AOh14GirsNUv4JCB0wVzfTAl_HffOYU50Lqvg1bVb1zU=s64",
      "userId": "07490966292012509010"
     },
     "user_tz": 180
    },
    "id": "QLW-B9BnRB1Y"
   },
   "outputs": [
    {
     "data": {
      "text/plain": [
       "<AxesSubplot:ylabel='Frequency'>"
      ]
     },
     "execution_count": 26,
     "metadata": {},
     "output_type": "execute_result"
    },
    {
     "data": {
      "image/png": "[encoded data removed]",
      "text/plain": [
       "<Figure size 864x432 with 1 Axes>"
      ]
     },
     "metadata": {
      "needs_background": "light"
     },
     "output_type": "display_data"
    }
   ],
   "source": [
    "#sbn.histplot(a12_visual.fact_millones)  #con Seaborn\n",
    "a12_visual['fact_millones'].plot(kind='hist', bins=50, figsize=(12,6), facecolor='blue',edgecolor='black')"
   ]
  },
  {
   "cell_type": "code",
   "execution_count": 27,
   "metadata": {
    "executionInfo": {
     "elapsed": 43,
     "status": "aborted",
     "timestamp": 1627743516044,
     "user": {
      "displayName": "MARIA INES AHUMADA",
      "photoUrl": "https://lh3.googleusercontent.com/a-/AOh14GirsNUv4JCB0wVzfTAl_HffOYU50Lqvg1bVb1zU=s64",
      "userId": "07490966292012509010"
     },
     "user_tz": 180
    },
    "id": "fGlqvB6hXrA-"
   },
   "outputs": [
    {
     "data": {
      "text/plain": [
       "<AxesSubplot:>"
      ]
     },
     "execution_count": 27,
     "metadata": {},
     "output_type": "execute_result"
    },
    {
     "data": {
      "image/png": "[encoded data removed]",
      "text/plain": [
       "<Figure size 864x432 with 1 Axes>"
      ]
     },
     "metadata": {
      "needs_background": "light"
     },
     "output_type": "display_data"
    }
   ],
   "source": [
    "a12_visual.boxplot('fact_millones',figsize=(12,6))"
   ]
  },
  {
   "cell_type": "code",
   "execution_count": 28,
   "metadata": {
    "executionInfo": {
     "elapsed": 44,
     "status": "aborted",
     "timestamp": 1627743516045,
     "user": {
      "displayName": "MARIA INES AHUMADA",
      "photoUrl": "https://lh3.googleusercontent.com/a-/AOh14GirsNUv4JCB0wVzfTAl_HffOYU50Lqvg1bVb1zU=s64",
      "userId": "07490966292012509010"
     },
     "user_tz": 180
    },
    "id": "lU_lBQYJKL0g"
   },
   "outputs": [
    {
     "data": {
      "text/plain": [
       "fact_millones    AxesSubplot(0.1,0.15;0.8x0.75)\n",
       "dtype: object"
      ]
     },
     "execution_count": 28,
     "metadata": {},
     "output_type": "execute_result"
    },
    {
     "data": {
      "image/png": "[encoded data removed]",
      "text/plain": [
       "<Figure size 864x432 with 1 Axes>"
      ]
     },
     "metadata": {
      "needs_background": "light"
     },
     "output_type": "display_data"
    }
   ],
   "source": [
    "a12_visual.boxplot('fact_millones',by='provincia', figsize=(12,6), return_type='axes',rot=90)"
   ]
  },
  {
   "cell_type": "markdown",
   "metadata": {
    "id": "hA2uDmD6Kz66"
   },
   "source": [
    "Quitando los valores extremos, notar que mejora la visualización. La facturación separada por provincias muestra algo a considerar, ¿Por qué la facturación en Bueno Aires, CABA, Córdoba (casi) y Santa Fe no presentan valores outliers? (Recoradar que sólo eliminamos los extremos.)"
   ]
  },
  {
   "cell_type": "markdown",
   "metadata": {
    "id": "QGyWTFCR3sfh"
   },
   "source": [
    "\n",
    "\n",
    "## Fechas - Volvamos al conjunto de datos completo *a12* \n",
    "\n",
    "Las fechas representan la variable *tiempo*, cuya representación tiene varias aristas\n",
    "\n",
    "* ¿Cómo afecta el tiempo en el problema que quiero estudiar?\n",
    "* ¿Es importante de manera absoluta o de manera relativa?\n",
    "* ¿Con qué nivel de precisión (o con qué escala) sería apropiado trabajar con la variable tiempo? ¿Años, días, minutos?\n",
    "* ¿La zona horaria es importante?\n",
    "\n",
    "Además de estas preguntas conceptuales, tenemos que tener en cuenta con qué tipo de datos (de Python) está la variable \"fecha\" en este conjunto de datos:"
   ]
  },
  {
   "cell_type": "code",
   "execution_count": 30,
   "metadata": {
    "executionInfo": {
     "elapsed": 44,
     "status": "aborted",
     "timestamp": 1627743516046,
     "user": {
      "displayName": "MARIA INES AHUMADA",
      "photoUrl": "https://lh3.googleusercontent.com/a-/AOh14GirsNUv4JCB0wVzfTAl_HffOYU50Lqvg1bVb1zU=s64",
      "userId": "07490966292012509010"
     },
     "user_tz": 180
    },
    "id": "7gO621iSsBSZ"
   },
   "outputs": [
    {
     "name": "stdout",
     "output_type": "stream",
     "text": [
      "id_orig            int64\n",
      "provincia         object\n",
      "rubro A12         object\n",
      "facturacion        int64\n",
      "fecha             object\n",
      "facturacion      float64\n",
      "fact_millones    float64\n",
      "dtype: object\n"
     ]
    },
    {
     "data": {
      "image/png": "[encoded data removed]",
      "text/plain": [
       "<Figure size 432x288 with 1 Axes>"
      ]
     },
     "metadata": {
      "needs_background": "light"
     },
     "output_type": "display_data"
    }
   ],
   "source": [
    "print(a12.dtypes)\n",
    "sbn.lineplot(data=a12, x='fecha', y='fact_millones') # Grafico de lineas  de seaborn- Por defecto usa \"estimator='mean'\"!\n",
    "plt.xticks(rotation=45);   # qué opinan sobre la calidad de gráfico que obtenemos?"
   ]
  },
  {
   "cell_type": "markdown",
   "metadata": {
    "id": "1ovpqUl0ro6p"
   },
   "source": [
    "Para evitar que las fechas sean reconocidas como strings. Podemos cambiar el tipo de datos de la columna fecha a `datetime` (castear). \n",
    "Datetime  funciona como estructura de datos diseñada para trabajar con fechas hasta una precisión de milisegundos."
   ]
  },
  {
   "cell_type": "code",
   "execution_count": 31,
   "metadata": {
    "executionInfo": {
     "elapsed": 45,
     "status": "aborted",
     "timestamp": 1627743516047,
     "user": {
      "displayName": "MARIA INES AHUMADA",
      "photoUrl": "https://lh3.googleusercontent.com/a-/AOh14GirsNUv4JCB0wVzfTAl_HffOYU50Lqvg1bVb1zU=s64",
      "userId": "07490966292012509010"
     },
     "user_tz": 180
    },
    "id": "VfC8WT3srq17"
   },
   "outputs": [],
   "source": [
    "a12['date'] = pd.to_datetime(a12.fecha)"
   ]
  },
  {
   "cell_type": "markdown",
   "metadata": {
    "id": "0Xbc45q9ZgSl"
   },
   "source": [
    "Ahora la nueva columna *date*   tiene formato   \"datetime64\""
   ]
  },
  {
   "cell_type": "code",
   "execution_count": 32,
   "metadata": {
    "executionInfo": {
     "elapsed": 46,
     "status": "aborted",
     "timestamp": 1627743516048,
     "user": {
      "displayName": "MARIA INES AHUMADA",
      "photoUrl": "https://lh3.googleusercontent.com/a-/AOh14GirsNUv4JCB0wVzfTAl_HffOYU50Lqvg1bVb1zU=s64",
      "userId": "07490966292012509010"
     },
     "user_tz": 180
    },
    "id": "0aqRupRNVqU-"
   },
   "outputs": [
    {
     "data": {
      "image/png": "[encoded data removed]",
      "text/plain": [
       "<Figure size 432x288 with 1 Axes>"
      ]
     },
     "metadata": {
      "needs_background": "light"
     },
     "output_type": "display_data"
    }
   ],
   "source": [
    "sbn.lineplot(data=a12, x='date', y='fact_millones')\n",
    "plt.xticks(rotation=45);"
   ]
  },
  {
   "cell_type": "markdown",
   "metadata": {
    "id": "zOcHF5kWsQ48"
   },
   "source": [
    "Logramos representar la facturación a traves del tiempo, pero día a día- se representa por defecto la facturación promedio por día. \n",
    "\n",
    "Pero, adicionalmente podemos considerar que el \"día\" no es importante para este conjunto de datos, y que sólo está aportando ruido.\n",
    "\n",
    "Para extraer sólo el mes-año de una fecha, aplicamos la función siguiente:"
   ]
  },
  {
   "cell_type": "code",
   "execution_count": 33,
   "metadata": {
    "executionInfo": {
     "elapsed": 45,
     "status": "aborted",
     "timestamp": 1627743516048,
     "user": {
      "displayName": "MARIA INES AHUMADA",
      "photoUrl": "https://lh3.googleusercontent.com/a-/AOh14GirsNUv4JCB0wVzfTAl_HffOYU50Lqvg1bVb1zU=s64",
      "userId": "07490966292012509010"
     },
     "user_tz": 180
    },
    "id": "BEdzIKhHr_sj"
   },
   "outputs": [
    {
     "data": {
      "text/html": [
       "<div>\n",
       "<style scoped>\n",
       "    .dataframe tbody tr th:only-of-type {\n",
       "        vertical-align: middle;\n",
       "    }\n",
       "\n",
       "    .dataframe tbody tr th {\n",
       "        vertical-align: top;\n",
       "    }\n",
       "\n",
       "    .dataframe thead th {\n",
       "        text-align: right;\n",
       "    }\n",
       "</style>\n",
       "<table border=\"1\" class=\"dataframe\">\n",
       "  <thead>\n",
       "    <tr style=\"text-align: right;\">\n",
       "      <th></th>\n",
       "      <th>id_orig</th>\n",
       "      <th>provincia</th>\n",
       "      <th>rubro A12</th>\n",
       "      <th>facturacion</th>\n",
       "      <th>fecha</th>\n",
       "      <th>facturacion</th>\n",
       "      <th>fact_millones</th>\n",
       "      <th>date</th>\n",
       "      <th>anio-mes</th>\n",
       "    </tr>\n",
       "  </thead>\n",
       "  <tbody>\n",
       "    <tr>\n",
       "      <th>0</th>\n",
       "      <td>1</td>\n",
       "      <td>BUENOS AIRES</td>\n",
       "      <td>Anteojos</td>\n",
       "      <td>30878823</td>\n",
       "      <td>15/1/2019</td>\n",
       "      <td>30878823.0</td>\n",
       "      <td>30.878823</td>\n",
       "      <td>2019-01-15</td>\n",
       "      <td>2019-01-01</td>\n",
       "    </tr>\n",
       "    <tr>\n",
       "      <th>1</th>\n",
       "      <td>2</td>\n",
       "      <td>BUENOS AIRES</td>\n",
       "      <td>Artículos de librería</td>\n",
       "      <td>4657723</td>\n",
       "      <td>4/1/2019</td>\n",
       "      <td>4657723.0</td>\n",
       "      <td>4.657723</td>\n",
       "      <td>2019-04-01</td>\n",
       "      <td>2019-04-01</td>\n",
       "    </tr>\n",
       "    <tr>\n",
       "      <th>2</th>\n",
       "      <td>3</td>\n",
       "      <td>BUENOS AIRES</td>\n",
       "      <td>Balnearios</td>\n",
       "      <td>5839079</td>\n",
       "      <td>11/1/2019</td>\n",
       "      <td>5839079.0</td>\n",
       "      <td>5.839079</td>\n",
       "      <td>2019-11-01</td>\n",
       "      <td>2019-11-01</td>\n",
       "    </tr>\n",
       "    <tr>\n",
       "      <th>3</th>\n",
       "      <td>4</td>\n",
       "      <td>BUENOS AIRES</td>\n",
       "      <td>Bicicletas</td>\n",
       "      <td>20645150</td>\n",
       "      <td>15/1/2019</td>\n",
       "      <td>20645150.0</td>\n",
       "      <td>20.645150</td>\n",
       "      <td>2019-01-15</td>\n",
       "      <td>2019-01-01</td>\n",
       "    </tr>\n",
       "    <tr>\n",
       "      <th>4</th>\n",
       "      <td>5</td>\n",
       "      <td>BUENOS AIRES</td>\n",
       "      <td>Calzado y Marroquinería</td>\n",
       "      <td>229075801</td>\n",
       "      <td>19/1/2019</td>\n",
       "      <td>229075801.0</td>\n",
       "      <td>229.075801</td>\n",
       "      <td>2019-01-19</td>\n",
       "      <td>2019-01-01</td>\n",
       "    </tr>\n",
       "  </tbody>\n",
       "</table>\n",
       "</div>"
      ],
      "text/plain": [
       "   id_orig     provincia                rubro A12  facturacion       fecha  \\\n",
       "0        1  BUENOS AIRES                 Anteojos      30878823  15/1/2019   \n",
       "1        2  BUENOS AIRES    Artículos de librería       4657723   4/1/2019   \n",
       "2        3  BUENOS AIRES               Balnearios       5839079  11/1/2019   \n",
       "3        4  BUENOS AIRES               Bicicletas      20645150  15/1/2019   \n",
       "4        5  BUENOS AIRES  Calzado y Marroquinería     229075801  19/1/2019   \n",
       "\n",
       "   facturacion  fact_millones       date   anio-mes  \n",
       "0   30878823.0      30.878823 2019-01-15 2019-01-01  \n",
       "1    4657723.0       4.657723 2019-04-01 2019-04-01  \n",
       "2    5839079.0       5.839079 2019-11-01 2019-11-01  \n",
       "3   20645150.0      20.645150 2019-01-15 2019-01-01  \n",
       "4  229075801.0     229.075801 2019-01-19 2019-01-01  "
      ]
     },
     "execution_count": 33,
     "metadata": {},
     "output_type": "execute_result"
    }
   ],
   "source": [
    "a12['anio-mes'] = pd.to_datetime(a12.date.dt.strftime('%Y-%m')) # cuidado correr sólo una vez y luego comentar\n",
    "a12.head()"
   ]
  },
  {
   "cell_type": "code",
   "execution_count": 34,
   "metadata": {
    "executionInfo": {
     "elapsed": 46,
     "status": "aborted",
     "timestamp": 1627743516049,
     "user": {
      "displayName": "MARIA INES AHUMADA",
      "photoUrl": "https://lh3.googleusercontent.com/a-/AOh14GirsNUv4JCB0wVzfTAl_HffOYU50Lqvg1bVb1zU=s64",
      "userId": "07490966292012509010"
     },
     "user_tz": 180
    },
    "id": "7VZuzJkiseKF"
   },
   "outputs": [
    {
     "data": {
      "image/png": "[encoded data removed]",
      "text/plain": [
       "<Figure size 864x432 with 1 Axes>"
      ]
     },
     "metadata": {
      "needs_background": "light"
     },
     "output_type": "display_data"
    }
   ],
   "source": [
    "fig = plt.figure(figsize=(12, 6))\n",
    "sbn.lineplot(data=a12.sort_values('anio-mes'), x='anio-mes', y='fact_millones')\n",
    "plt.xticks(rotation=45);"
   ]
  },
  {
   "cell_type": "markdown",
   "metadata": {
    "id": "2PcbIiyk4Xwj"
   },
   "source": [
    "Notar que la línea representa la estimación puntual de la facturación promedio para el mes_año y las zonas celeste por encima y por debajo de la linea represeten los intervalos de confianza para dichas estimaciones. Por defecto considera IC con 1-alpha= 95%.  Si desea modificar pude agregar el argumento ci=90 por ejemplo...  "
   ]
  },
  {
   "cell_type": "markdown",
   "metadata": {
    "id": "dKRuEDW87SGI"
   },
   "source": [
    "\n",
    "En lugar de utilizar una precisión de meses, podríamos requerir utilizar cuatrimestres para representar la facturación. \n",
    "\n",
    "Realizar una visualización del cambio de precios con respecto al año y al cuatrimestre.\n"
   ]
  },
  {
   "cell_type": "code",
   "execution_count": 35,
   "metadata": {
    "executionInfo": {
     "elapsed": 47,
     "status": "aborted",
     "timestamp": 1627743516050,
     "user": {
      "displayName": "MARIA INES AHUMADA",
      "photoUrl": "https://lh3.googleusercontent.com/a-/AOh14GirsNUv4JCB0wVzfTAl_HffOYU50Lqvg1bVb1zU=s64",
      "userId": "07490966292012509010"
     },
     "user_tz": 180
    },
    "id": "XWeeqYVa-SUS"
   },
   "outputs": [],
   "source": [
    "import time\n",
    "from datetime import date\n",
    "today = pd.Timestamp(\"20210622\") # estoy podría ser dinámico usando datetime.today()\n"
   ]
  },
  {
   "cell_type": "code",
   "execution_count": 36,
   "metadata": {
    "executionInfo": {
     "elapsed": 47,
     "status": "aborted",
     "timestamp": 1627743516051,
     "user": {
      "displayName": "MARIA INES AHUMADA",
      "photoUrl": "https://lh3.googleusercontent.com/a-/AOh14GirsNUv4JCB0wVzfTAl_HffOYU50Lqvg1bVb1zU=s64",
      "userId": "07490966292012509010"
     },
     "user_tz": 180
    },
    "id": "t9KuE_T7T0EE"
   },
   "outputs": [
    {
     "data": {
      "text/html": [
       "<div>\n",
       "<style scoped>\n",
       "    .dataframe tbody tr th:only-of-type {\n",
       "        vertical-align: middle;\n",
       "    }\n",
       "\n",
       "    .dataframe tbody tr th {\n",
       "        vertical-align: top;\n",
       "    }\n",
       "\n",
       "    .dataframe thead th {\n",
       "        text-align: right;\n",
       "    }\n",
       "</style>\n",
       "<table border=\"1\" class=\"dataframe\">\n",
       "  <thead>\n",
       "    <tr style=\"text-align: right;\">\n",
       "      <th></th>\n",
       "      <th>id_orig</th>\n",
       "      <th>provincia</th>\n",
       "      <th>rubro A12</th>\n",
       "      <th>facturacion</th>\n",
       "      <th>fecha</th>\n",
       "      <th>facturacion</th>\n",
       "      <th>fact_millones</th>\n",
       "      <th>date</th>\n",
       "      <th>anio-mes</th>\n",
       "      <th>tiempo</th>\n",
       "    </tr>\n",
       "  </thead>\n",
       "  <tbody>\n",
       "    <tr>\n",
       "      <th>0</th>\n",
       "      <td>1</td>\n",
       "      <td>BUENOS AIRES</td>\n",
       "      <td>Anteojos</td>\n",
       "      <td>30878823</td>\n",
       "      <td>15/1/2019</td>\n",
       "      <td>30878823.0</td>\n",
       "      <td>30.878823</td>\n",
       "      <td>2019-01-15</td>\n",
       "      <td>2019-01-01</td>\n",
       "      <td>889 days</td>\n",
       "    </tr>\n",
       "    <tr>\n",
       "      <th>1</th>\n",
       "      <td>2</td>\n",
       "      <td>BUENOS AIRES</td>\n",
       "      <td>Artículos de librería</td>\n",
       "      <td>4657723</td>\n",
       "      <td>4/1/2019</td>\n",
       "      <td>4657723.0</td>\n",
       "      <td>4.657723</td>\n",
       "      <td>2019-04-01</td>\n",
       "      <td>2019-04-01</td>\n",
       "      <td>813 days</td>\n",
       "    </tr>\n",
       "    <tr>\n",
       "      <th>2</th>\n",
       "      <td>3</td>\n",
       "      <td>BUENOS AIRES</td>\n",
       "      <td>Balnearios</td>\n",
       "      <td>5839079</td>\n",
       "      <td>11/1/2019</td>\n",
       "      <td>5839079.0</td>\n",
       "      <td>5.839079</td>\n",
       "      <td>2019-11-01</td>\n",
       "      <td>2019-11-01</td>\n",
       "      <td>599 days</td>\n",
       "    </tr>\n",
       "    <tr>\n",
       "      <th>3</th>\n",
       "      <td>4</td>\n",
       "      <td>BUENOS AIRES</td>\n",
       "      <td>Bicicletas</td>\n",
       "      <td>20645150</td>\n",
       "      <td>15/1/2019</td>\n",
       "      <td>20645150.0</td>\n",
       "      <td>20.645150</td>\n",
       "      <td>2019-01-15</td>\n",
       "      <td>2019-01-01</td>\n",
       "      <td>889 days</td>\n",
       "    </tr>\n",
       "    <tr>\n",
       "      <th>4</th>\n",
       "      <td>5</td>\n",
       "      <td>BUENOS AIRES</td>\n",
       "      <td>Calzado y Marroquinería</td>\n",
       "      <td>229075801</td>\n",
       "      <td>19/1/2019</td>\n",
       "      <td>229075801.0</td>\n",
       "      <td>229.075801</td>\n",
       "      <td>2019-01-19</td>\n",
       "      <td>2019-01-01</td>\n",
       "      <td>885 days</td>\n",
       "    </tr>\n",
       "  </tbody>\n",
       "</table>\n",
       "</div>"
      ],
      "text/plain": [
       "   id_orig     provincia                rubro A12  facturacion       fecha  \\\n",
       "0        1  BUENOS AIRES                 Anteojos      30878823  15/1/2019   \n",
       "1        2  BUENOS AIRES    Artículos de librería       4657723   4/1/2019   \n",
       "2        3  BUENOS AIRES               Balnearios       5839079  11/1/2019   \n",
       "3        4  BUENOS AIRES               Bicicletas      20645150  15/1/2019   \n",
       "4        5  BUENOS AIRES  Calzado y Marroquinería     229075801  19/1/2019   \n",
       "\n",
       "   facturacion  fact_millones       date   anio-mes   tiempo  \n",
       "0   30878823.0      30.878823 2019-01-15 2019-01-01 889 days  \n",
       "1    4657723.0       4.657723 2019-04-01 2019-04-01 813 days  \n",
       "2    5839079.0       5.839079 2019-11-01 2019-11-01 599 days  \n",
       "3   20645150.0      20.645150 2019-01-15 2019-01-01 889 days  \n",
       "4  229075801.0     229.075801 2019-01-19 2019-01-01 885 days  "
      ]
     },
     "execution_count": 36,
     "metadata": {},
     "output_type": "execute_result"
    }
   ],
   "source": [
    "a12['tiempo']=today-a12['date'] #Agrega la variable tiempo...calcula la cantidad de días trasncurridos desde \"date\" hasta \"today\"\n",
    "a12.head() "
   ]
  },
  {
   "cell_type": "markdown",
   "metadata": {
    "id": "UBVsM5lvXV4m"
   },
   "source": [
    "## Mas información consultar en:\n",
    "[datetime — Basic date and time types](https://docs.python.org/3/library/datetime.html#strftime-and-strptime-behavior.\\)\n",
    "\n"
   ]
  },
  {
   "cell_type": "markdown",
   "metadata": {
    "id": "r0utaMOJZAIZ"
   },
   "source": [
    "Otro ejemplos sencillos..."
   ]
  },
  {
   "cell_type": "code",
   "execution_count": 37,
   "metadata": {
    "executionInfo": {
     "elapsed": 47,
     "status": "aborted",
     "timestamp": 1627743516051,
     "user": {
      "displayName": "MARIA INES AHUMADA",
      "photoUrl": "https://lh3.googleusercontent.com/a-/AOh14GirsNUv4JCB0wVzfTAl_HffOYU50Lqvg1bVb1zU=s64",
      "userId": "07490966292012509010"
     },
     "user_tz": 180
    },
    "id": "4Vxq1zp07zXb"
   },
   "outputs": [
    {
     "data": {
      "text/plain": [
       "PeriodIndex(['2017-01', '2017-02', '2017-03', '2017-04', '2017-05', '2017-06',\n",
       "             '2017-07', '2017-08', '2017-09', '2017-10', '2017-11', '2017-12',\n",
       "             '2018-01'],\n",
       "            dtype='period[M]', freq='M')"
      ]
     },
     "execution_count": 37,
     "metadata": {},
     "output_type": "execute_result"
    }
   ],
   "source": [
    "pd.period_range(start='2017-01-01', end='2018-01-01', freq='M')\n",
    "pd.PeriodIndex(['2017-01', '2017-02', '2017-03', '2017-04', '2017-05', '2017-06',\n",
    "         '2017-07', '2017-08', '2017-09', '2017-10', '2017-11', '2017-12',\n",
    "         '2018-01'],\n",
    "        dtype='period[M]', freq='M')"
   ]
  },
  {
   "cell_type": "code",
   "execution_count": 39,
   "metadata": {
    "executionInfo": {
     "elapsed": 47,
     "status": "aborted",
     "timestamp": 1627743516052,
     "user": {
      "displayName": "MARIA INES AHUMADA",
      "photoUrl": "https://lh3.googleusercontent.com/a-/AOh14GirsNUv4JCB0wVzfTAl_HffOYU50Lqvg1bVb1zU=s64",
      "userId": "07490966292012509010"
     },
     "user_tz": 180
    },
    "id": "Gx0xkNlARD-g"
   },
   "outputs": [],
   "source": [
    "#actividad"
   ]
  },
  {
   "cell_type": "code",
   "execution_count": 38,
   "metadata": {},
   "outputs": [],
   "source": [
    "a12['anio-mes-dia']=pd.to_datetime(a12.date.dt.strftime('%Y-%m-%d'))\n",
    "a12['anio-mes']= a12['anio-mes-dia'].apply(lambda x: f'{x.year}-{x.month}')"
   ]
  },
  {
   "cell_type": "code",
   "execution_count": null,
   "metadata": {},
   "outputs": [],
   "source": []
  },
  {
   "cell_type": "code",
   "execution_count": null,
   "metadata": {},
   "outputs": [],
   "source": []
  },
  {
   "cell_type": "code",
   "execution_count": null,
   "metadata": {},
   "outputs": [],
   "source": []
  }
 ],
 "metadata": {
  "colab": {
   "collapsed_sections": [],
   "name": "Ejemplo_Análisis_exploratorio.ipynb",
   "provenance": []
  },
  "kernelspec": {
   "display_name": "Python 3",
   "language": "python",
   "name": "python3"
  },
  "language_info": {
   "codemirror_mode": {
    "name": "ipython",
    "version": 3
   },
   "file_extension": ".py",
   "mimetype": "text/x-python",
   "name": "python",
   "nbconvert_exporter": "python",
   "pygments_lexer": "ipython3",
   "version": "3.7.3"
  }
 },
 "nbformat": 4,
 "nbformat_minor": 1
}
