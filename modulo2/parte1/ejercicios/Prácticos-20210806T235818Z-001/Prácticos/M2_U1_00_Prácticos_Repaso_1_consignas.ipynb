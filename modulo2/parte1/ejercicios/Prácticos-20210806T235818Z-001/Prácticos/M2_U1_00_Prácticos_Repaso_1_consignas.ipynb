{
 "cells": [
  {
   "cell_type": "markdown",
   "metadata": {
    "id": "qDRjc4odOL2m"
   },
   "source": [
    "##PRÁCTICO 1"
   ]
  },
  {
   "cell_type": "markdown",
   "metadata": {
    "id": "gbOhehCuTkFn"
   },
   "source": [
    "Declarar una variable llamada poblacion con valor 1000000"
   ]
  },
  {
   "cell_type": "code",
   "execution_count": null,
   "metadata": {
    "id": "XKE8y7ga8A7G"
   },
   "outputs": [],
   "source": []
  },
  {
   "cell_type": "markdown",
   "metadata": {
    "id": "mrYvtGJKT1aH"
   },
   "source": [
    "Declarar la variable area con valor 300000\n"
   ]
  },
  {
   "cell_type": "code",
   "execution_count": null,
   "metadata": {
    "id": "Lx0nV_808DRi"
   },
   "outputs": [],
   "source": []
  },
  {
   "cell_type": "markdown",
   "metadata": {
    "id": "u5uEzH6qUBn-"
   },
   "source": [
    "Calcular Densidad pobacional"
   ]
  },
  {
   "cell_type": "code",
   "execution_count": null,
   "metadata": {
    "id": "CytvFGfF8D7a"
   },
   "outputs": [],
   "source": []
  },
  {
   "cell_type": "markdown",
   "metadata": {
    "id": "Ld0ZkOsLOrbN"
   },
   "source": [
    "Declarar variable provincia igual a \"Buenos Aires\""
   ]
  },
  {
   "cell_type": "code",
   "execution_count": null,
   "metadata": {
    "id": "YEg5TCFY8IMO"
   },
   "outputs": [],
   "source": []
  },
  {
   "cell_type": "markdown",
   "metadata": {
    "id": "FgrFm4jbOJqH"
   },
   "source": [
    "Crear variable es_patagonia igual a False"
   ]
  },
  {
   "cell_type": "code",
   "execution_count": null,
   "metadata": {
    "id": "WlJKedP68QVm"
   },
   "outputs": [],
   "source": []
  },
  {
   "cell_type": "markdown",
   "metadata": {
    "id": "tE2SKamBPNfN"
   },
   "source": [
    "Verificar qué tipos de variables son las anteriores"
   ]
  },
  {
   "cell_type": "code",
   "execution_count": null,
   "metadata": {
    "id": "FeyueWl38cRm"
   },
   "outputs": [],
   "source": []
  },
  {
   "cell_type": "markdown",
   "metadata": {
    "id": "FRDc4Nb5QyHG"
   },
   "source": [
    "Declarar la variable doble_poblacion\n",
    "\n",
    "Print doble_poblacion"
   ]
  },
  {
   "cell_type": "code",
   "execution_count": null,
   "metadata": {
    "id": "kaRicLRy8c-t"
   },
   "outputs": [],
   "source": []
  },
  {
   "cell_type": "markdown",
   "metadata": {
    "id": "jSQ4rUTSQ-HO"
   },
   "source": [
    "Crear una variable doble_provincia\n",
    "\n",
    "Print doble_provincia\n"
   ]
  },
  {
   "cell_type": "code",
   "execution_count": null,
   "metadata": {
    "id": "MAbnDDFn8fTq"
   },
   "outputs": [],
   "source": []
  },
  {
   "cell_type": "markdown",
   "metadata": {
    "id": "iUjHLDalRzHt"
   },
   "source": [
    "Escribir en la consola \"La Provincia de <provincia> tiene una población de <poblacion> habitantes\""
   ]
  },
  {
   "cell_type": "code",
   "execution_count": null,
   "metadata": {
    "id": "w0lkWbHY8gCg"
   },
   "outputs": [],
   "source": []
  },
  {
   "cell_type": "markdown",
   "metadata": {
    "id": "PhMRExZxS8Wu"
   },
   "source": [
    "Definicion de la variable pi_string  ( $\\pi$ )- Nada que ver con la temática pero es para ver opciones de cambiar el formato al imporimir."
   ]
  },
  {
   "cell_type": "code",
   "execution_count": null,
   "metadata": {
    "id": "a6tM51QR8idu"
   },
   "outputs": [],
   "source": []
  },
  {
   "cell_type": "markdown",
   "metadata": {
    "id": "58xEDLpPYYqR"
   },
   "source": [
    "Convertir pi_string en pi_float"
   ]
  },
  {
   "cell_type": "code",
   "execution_count": null,
   "metadata": {
    "id": "5rUfvqny8l-3"
   },
   "outputs": [],
   "source": []
  },
  {
   "cell_type": "markdown",
   "metadata": {
    "id": "fbrY829mZehl"
   },
   "source": [
    "# PRÁCTICO 2"
   ]
  },
  {
   "cell_type": "markdown",
   "metadata": {
    "id": "mZ40cfiBZsIF"
   },
   "source": [
    "Vamos a definir las superficies de cada provincia en Km2\n",
    "Fuente: [IGN](https://www.ign.gob.ar/NuestrasActividades/Geografia/DatosArgentina/DivisionPolitica) \n",
    "\n",
    "Ciudad Autónoma de Buenos Aires\t**200** \n",
    "Córdoba\t**165321**\n",
    "Corrientes **88199**\n",
    "Entre Ríos **78781**\n",
    "Formosa **72066**\n",
    "Jujuy\t**53219**\n",
    "La Pampa\t**143440**\n",
    "La Rioja\t**89680**\n",
    "Mendoza\t**148827**\n",
    "Misiones\t**29801**\n",
    "Neuquén\t**94078**\n",
    "Salta\t**155488**\n",
    "San Luis\t**76748**\n",
    "San Juan **89651**\n"
   ]
  },
  {
   "cell_type": "code",
   "execution_count": null,
   "metadata": {
    "id": "MXssW4_UZjVl"
   },
   "outputs": [],
   "source": [
    "caba=200\n",
    "cordoba=165321\n",
    "corrientes=88199\n",
    "entre_rios= 78781\n",
    "formosa =72066\n",
    "jujuy=\t53219\n",
    "la_pampa=\t143440\n",
    "la_rioja=\t89680\n",
    "mendoza=\t148827\n",
    "misiones=\t29801\n",
    "neuquen=\t94078\n",
    "salta=\t155488\n",
    "san_luis=\t76748\n",
    "san_juan= 89651"
   ]
  },
  {
   "cell_type": "markdown",
   "metadata": {
    "id": "OQXOHKhXeSoS"
   },
   "source": [
    "Crear una lista de áreas"
   ]
  },
  {
   "cell_type": "code",
   "execution_count": null,
   "metadata": {
    "id": "mOg6W3O08u1m"
   },
   "outputs": [],
   "source": []
  },
  {
   "cell_type": "markdown",
   "metadata": {
    "id": "O_voOlP-fXd5"
   },
   "source": [
    "Completar lista de áreas con los nombres"
   ]
  },
  {
   "cell_type": "code",
   "execution_count": null,
   "metadata": {
    "id": "OaFeTjds8w-l"
   },
   "outputs": [],
   "source": []
  },
  {
   "cell_type": "markdown",
   "metadata": {
    "id": "u1jPL_rJhrQj"
   },
   "source": [
    "Información de estas provincias de Argentina como una lista"
   ]
  },
  {
   "cell_type": "code",
   "execution_count": null,
   "metadata": {
    "id": "8c89C_4B83SO"
   },
   "outputs": [],
   "source": []
  },
  {
   "cell_type": "markdown",
   "metadata": {
    "id": "P_0A2m3Pim5T"
   },
   "source": [
    "# PRÁCTICO 3"
   ]
  },
  {
   "cell_type": "code",
   "execution_count": null,
   "metadata": {
    "colab": {
     "base_uri": "https://localhost:8080/"
    },
    "id": "tGDoahn7i7fC",
    "outputId": "401e9709-a1ee-4a26-e9b9-187fed027c25"
   },
   "outputs": [
    {
     "name": "stdout",
     "output_type": "stream",
     "text": [
      "[200, 165321, 88199, 78781, 72066, 53219, 143440, 89680, 148827, 29801, 94078, 155488, 76748, 89651]\n"
     ]
    }
   ],
   "source": [
    "#recuperamos la lista de areas\n",
    "print(areas)"
   ]
  },
  {
   "cell_type": "markdown",
   "metadata": {
    "id": "PYXoadMujOpx"
   },
   "source": [
    "Identificar el terecer elemento de la lista areas y el último elemento"
   ]
  },
  {
   "cell_type": "markdown",
   "metadata": {
    "id": "wFdx12S3lf5d"
   },
   "source": [
    "A partir de la lista *areas* crear la variable region_cuyo y obtener el total de superfice en km2 de esa región: \n",
    "\n",
    "---\n",
    "\n"
   ]
  },
  {
   "cell_type": "code",
   "execution_count": null,
   "metadata": {
    "id": "iJfRSyU58-JP"
   },
   "outputs": [],
   "source": []
  },
  {
   "cell_type": "markdown",
   "metadata": {
    "id": "zQDA2V_uQ-Z8"
   },
   "source": [
    "# PRÁCTICO 4"
   ]
  },
  {
   "cell_type": "markdown",
   "metadata": {
    "id": "tylEiRvkRDPS"
   },
   "source": [
    "Agregar al final de la lista *areas* las provincias y  superficies de Buenos Aires = 307571  y de Santa Fé= 13007, en ese orden.\n",
    "use función .append\n"
   ]
  },
  {
   "cell_type": "code",
   "execution_count": null,
   "metadata": {
    "id": "I84yBGmW9LEm"
   },
   "outputs": [],
   "source": []
  },
  {
   "cell_type": "markdown",
   "metadata": {
    "id": "DkJRoJx9UpXb"
   },
   "source": [
    "Corregir en la lista areas el dato de la superficie de Santa Fe= 133007"
   ]
  },
  {
   "cell_type": "code",
   "execution_count": null,
   "metadata": {
    "id": "lsfjxVyC9L4n"
   },
   "outputs": [],
   "source": []
  },
  {
   "cell_type": "markdown",
   "metadata": {
    "id": "9ImsROFLglD7"
   },
   "source": [
    "la corrección se hizo sólo sobre la lista areas, y el objeto o variable santa_fe??"
   ]
  },
  {
   "cell_type": "code",
   "execution_count": null,
   "metadata": {
    "id": "pSwTEHSQ9RB_"
   },
   "outputs": [],
   "source": []
  },
  {
   "cell_type": "markdown",
   "metadata": {
    "id": "7hBvI1suhbPm"
   },
   "source": [
    "Agregar como segundo y tercer elmentos de la lista *nombre_areas* las provincias y  Buenos Aires  y  Santa Fé.\n",
    "use función .extend creando previamente otra lista"
   ]
  },
  {
   "cell_type": "code",
   "execution_count": null,
   "metadata": {
    "id": "fTsHRc1J9WJu"
   },
   "outputs": [],
   "source": []
  },
  {
   "cell_type": "markdown",
   "metadata": {
    "id": "-j0sV0nglOdB"
   },
   "source": [
    "Verificar que la cantidad de elementos de las listas areas y nombres_areas sean iguales"
   ]
  },
  {
   "cell_type": "code",
   "execution_count": null,
   "metadata": {
    "id": "ej50WZyU9Xmu"
   },
   "outputs": [],
   "source": []
  },
  {
   "cell_type": "markdown",
   "metadata": {
    "id": "ZQqILqINlmnz"
   },
   "source": [
    "Crear una copia de la lista nombre_areas, en el objeto nombre_areas_copia"
   ]
  },
  {
   "cell_type": "code",
   "execution_count": null,
   "metadata": {
    "id": "iF6qrgkb9Zom"
   },
   "outputs": [],
   "source": []
  },
  {
   "cell_type": "markdown",
   "metadata": {
    "id": "ROcoIgDDnBtV"
   },
   "source": [
    "Ordenar alfabéticamente los elementos de la lista copia"
   ]
  },
  {
   "cell_type": "code",
   "execution_count": null,
   "metadata": {
    "id": "5y2MvOX69a83"
   },
   "outputs": [],
   "source": []
  },
  {
   "cell_type": "markdown",
   "metadata": {
    "id": "JdrVZOpBnis8"
   },
   "source": [
    "Verificar si en la lista nombres_areas se encuentra la provincia \"Rio Negro\" ( use *in*)"
   ]
  },
  {
   "cell_type": "code",
   "execution_count": null,
   "metadata": {
    "id": "C77BRV_W9fAo"
   },
   "outputs": [],
   "source": []
  },
  {
   "cell_type": "markdown",
   "metadata": {
    "id": "1N9RdQ4mnrSL"
   },
   "source": [
    "Reescribir el nombre de la Ciudad Autónoma de Buenos Aires\" como Caba"
   ]
  },
  {
   "cell_type": "code",
   "execution_count": null,
   "metadata": {
    "id": "0j9b6FFN9f7v"
   },
   "outputs": [],
   "source": []
  },
  {
   "cell_type": "markdown",
   "metadata": {
    "id": "cpkZl1WJFokn"
   },
   "source": [
    "Agregar a nombre_areas un elemento en la posición 2 (tercer elemento) que sea igual a \"Tierra del Fuego\". Use .insert"
   ]
  },
  {
   "cell_type": "code",
   "execution_count": null,
   "metadata": {
    "id": "QRHucJ1t9jdW"
   },
   "outputs": [],
   "source": []
  },
  {
   "cell_type": "markdown",
   "metadata": {
    "id": "i85h2vh3PiO8"
   },
   "source": [
    "Ahora borrar de la lista nombre_areas el elemento \"Tierra del Fuego\" con la función .remove"
   ]
  },
  {
   "cell_type": "code",
   "execution_count": null,
   "metadata": {
    "id": "lmBcvMES9laF"
   },
   "outputs": [],
   "source": []
  }
 ],
 "metadata": {
  "colab": {
   "collapsed_sections": [
    "qDRjc4odOL2m",
    "fbrY829mZehl",
    "P_0A2m3Pim5T",
    "zQDA2V_uQ-Z8"
   ],
   "name": "M2.U1_00 Prácticos Repaso 1_consignas.ipynb",
   "provenance": [],
   "toc_visible": true
  },
  "kernelspec": {
   "display_name": "Python 3",
   "language": "python",
   "name": "python3"
  },
  "language_info": {
   "codemirror_mode": {
    "name": "ipython",
    "version": 3
   },
   "file_extension": ".py",
   "mimetype": "text/x-python",
   "name": "python",
   "nbconvert_exporter": "python",
   "pygments_lexer": "ipython3",
   "version": "3.7.3"
  }
 },
 "nbformat": 4,
 "nbformat_minor": 1
}
