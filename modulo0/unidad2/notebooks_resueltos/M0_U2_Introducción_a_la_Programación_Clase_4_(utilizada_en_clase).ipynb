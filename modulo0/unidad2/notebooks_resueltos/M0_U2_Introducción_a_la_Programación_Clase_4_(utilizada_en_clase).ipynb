{
  "nbformat": 4,
  "nbformat_minor": 0,
  "metadata": {
    "colab": {
      "name": "M0.U2 Introducción a la Programación - Clase 4 (utilizada en clase).ipynb",
      "provenance": [],
      "collapsed_sections": []
    },
    "kernelspec": {
      "name": "python3",
      "display_name": "Python 3"
    }
  },
  "cells": [
    {
      "cell_type": "markdown",
      "metadata": {
        "id": "7cUqukj4_P_A"
      },
      "source": [
        "![img](https://drive.google.com/uc?export=view&id=1kgX98Ziw9LzgBCT2BxChttfrTcBltLej)\n"
      ]
    },
    {
      "cell_type": "markdown",
      "metadata": {
        "id": "mgqhxY2yCx6i"
      },
      "source": [
        "# MÓDULO 0. Unidad 2 - Clase 4\n",
        "\n",
        "---\n",
        "\n",
        "> Librerías: Qué son y cómo se usan. Ejemplos.\n",
        "\n",
        "> Cálculos matriciales y entre arrays con Numpy.\n",
        "\n",
        "> Carga de datos en Python: manipulación de archivos de texto.\n",
        "\n",
        "> Importación y exportación de datos utilizando Pandas.\n"
      ]
    },
    {
      "cell_type": "markdown",
      "metadata": {
        "id": "Z9i5-cpq2Cxg"
      },
      "source": [
        "# Librerías"
      ]
    },
    {
      "cell_type": "markdown",
      "metadata": {
        "id": "GstwH_NNGHGv"
      },
      "source": [
        "Hasta ahora, hemos usado solamente funciones y estructuras disponibles en la instalación base de Python, pero una de las fortalezas del lenguaje es su comunidad y todo lo que ha creado para facilitar un montón de trabajo a lo largo del tiempo, gracias a las librerías creadas (y en proceso de creación).\n",
        "\n",
        "Una *librería* o *paquete* es código organizado en un conjunto de funciones implementadas por otras personas que nos facilitan realizar tareas, principalmente porque no debemos volver a programar este código. \n",
        "\n",
        "<img src=\"http://www.goalexandria.com/wp-content/uploads/2016/02/alt-lib.png\" width=200px>\n",
        "\n",
        "## ¿Cómo Usamos una Librería?\n",
        "\n",
        "Para utilizar cualquier librería primero debemos *importarla*. Para ello, se usa la *palabra clave* **`import`**, pero hay muchas formas de emplearla. Sabiendo esto, una posibilidad es utilizar la siguiente sintaxis:\n",
        "\n",
        "> **`import`** (nombre de la libreria) **`as`** (nombre abreviado)\n",
        "\n",
        "De esta forma, estamos habilitando el uso de todo lo que contiene el paquete importado. El comando **`as`** nos permite indicar el nombre que le damos a la librería dentro de nuestro código.\n"
      ]
    },
    {
      "cell_type": "code",
      "metadata": {
        "id": "wTRD4TD0zd4e",
        "colab": {
          "base_uri": "https://localhost:8080/"
        },
        "outputId": "2c2a17b3-8d1d-48eb-976c-ceb0d240cd9b"
      },
      "source": [
        "import math as m\n",
        "\n",
        "print('El seno de 0 es ', m.sin(0), 'y el coseno', m.cos(0))"
      ],
      "execution_count": null,
      "outputs": [
        {
          "output_type": "stream",
          "text": [
            "El seno de 0 es  0.0 y el coseno 1.0\n"
          ],
          "name": "stdout"
        }
      ]
    },
    {
      "cell_type": "markdown",
      "metadata": {
        "id": "gHbeMYxXzeHe"
      },
      "source": [
        "Por otro lado, las librerías muchas veces están separadas en distintos **módulos**. Podemos pensar entonces que una librería es como un estante de libros, donde en cada libro se encuentran las funciones de un tema en común. Incluso un \"libro\" podría estar subdividido en \"capítulos\". Es decir, los distintos módulos de una librería podrían llegar a estar subdivididos en submódulos, y cada submódulo podría estar nuevamente subdividido, etc.\n",
        "\n",
        "En el caso de que no querramos importar la librería completa, podemos importar sólo un módulo, de esta forma:\n",
        "\n",
        "> **`from`** (nombre de la libreria) **`import`** (nombre de un módulo) **`as`** (nombre abreviado)\n",
        "\n",
        "Análogamente a la importación anterior, se puede usar un punto para acceder a un módulo, como se muestra a continuación:\n",
        "\n",
        "> **`import`** (nombre de la libreria)**.**(nombre de un módulo) **`as`** (nombre abreviado)\n",
        "\n",
        "Una vez importada una librería, podremos utilizar las funciones definidas en ella. Para poder hacer uso y ejecutar una función que se encuentra en una librería, necesitamos especificarlo usando un punto entre el nombre de la librería (o su nombre abreviado) y la función. La sintaxis es la siguiente:\n",
        "\n",
        "> (nombre de la libreria)**.**función*(argumentos)*\n",
        "\n",
        "En el caso de importar una librería que se encuentre dividida en módulos, debemos especificar el módulo correspondiente a la función nuevamente con un punto:\n",
        "\n",
        "> (nombre de la libreria)**.**(nombre del módulo)**.**función*(argumentos)*\n"
      ]
    },
    {
      "cell_type": "code",
      "metadata": {
        "id": "NPtBY8VO24B4"
      },
      "source": [
        "from math import sin,cos #Importamos directamente las funciones que usaremos (separadas por comas)\n",
        "\n",
        "print('El seno de 0 es ', sin(0), 'y el coseno', cos(0))"
      ],
      "execution_count": null,
      "outputs": []
    },
    {
      "cell_type": "code",
      "metadata": {
        "id": "pvT2S9nJ26rY"
      },
      "source": [
        "#En este caso usamos el módulo 'path' de la librería 'os' y lo apodamos 'pth'\n",
        "from os import path as pth\n",
        "\n",
        "print(pth.join('Carpeta', 'Archivo.rar'))"
      ],
      "execution_count": null,
      "outputs": []
    },
    {
      "cell_type": "markdown",
      "metadata": {
        "id": "yCmbBG-9z4ma"
      },
      "source": [
        "**Aclaraciones:**\n",
        "- **No es obligatorio especificar un nombre abreviado con `as`**, puede utilizarse una librería con su nombre original, omitiendo este comando. Sin embargo, utilizar abreviaturas puede simplificar la legibilidad del código.\n",
        "- Así como pueden importarse módulos de una librería, **también pueden importarse funciones sueltas**, según lo que necesiten. **Pero cuidado!** Los nombres de funciones deben ser únicos. Si importan una función directamente, entonces no podrán definir su propia función con el mismo nombre.\n",
        "- Es una **buena práctica** que todas las librerías se importen al principio del programa, o sea que las instrucciones de **`import`** se encuentren arriba de todo. Y es aún mejor práctica que los imports estén hechos en orden alfabético (aunque al principio sea mucho pedir)."
      ]
    },
    {
      "cell_type": "code",
      "metadata": {
        "id": "iOSDofLD22T4"
      },
      "source": [
        "import math #Importamos la libreria math\n",
        "\n",
        "print('El seno de 0 es ', math.sin(0), 'y el coseno', math.cos(0))"
      ],
      "execution_count": null,
      "outputs": []
    },
    {
      "cell_type": "markdown",
      "metadata": {
        "id": "HzKJXAYX7VEL"
      },
      "source": [
        "A continuación veremos diversos ejemplos de librerías, no para que las aprendan de memoria, sino para que conozcan el potencial de estas herramientas y puedan aprender a utilizar otras librerías nuevas en el futuro, que se adapten a sus necesidades y problemáticas particulares.\n",
        "\n",
        "![Import all the things!](https://memegenerator.net/img/instances/60968180/python-programming-import-all-the-things.jpg)"
      ]
    },
    {
      "cell_type": "markdown",
      "metadata": {
        "id": "ye6V-CbH4Cu5"
      },
      "source": [
        "Algunas librerías muy conocidas y utilizadas, especialmente en ciencia de datos, son:\n",
        "\n",
        "*   [numpy](https://numpy.org/) (Cálculo matricial)\n",
        "*   [pandas](https://pandas.pydata.org/) (Lectura y manipulación de datos)\n",
        "*   [maplotlib](https://matplotlib.org/) (Gráficos)\n",
        "*   [seaborn](https://seaborn.pydata.org/) (Gráficos)\n",
        "*   [scipy](https://www.scipy.org/) (Ciencia de datos)\n",
        "*   [scikit-learn](https://scikit-learn.org) (Machine Learning)\n",
        "\n",
        "En clases siguientes indagaremos más acerca de estas librerías, utilizando **Pandas** para analizar archivos de información estructurada y **Matplotlib** o **Seaborn** para realizar gráficos y visualizaciones de esta información. Por el momento, vamos a inspeccionar otros paquetes \"menos complejos\", pero que también son de gran utilidad."
      ]
    },
    {
      "cell_type": "markdown",
      "metadata": {
        "id": "nxG7Oo-qGhXr"
      },
      "source": [
        "## Ejemplos de Librerías\n",
        "\n",
        "A continuación se presentan un conjunto de ejemplos con diversas librerías. Cada una de ellas ofrece muchas más opciones y capacidades, pero la idea es que les ayude a tener un panorama del tipo de herramientas que existen, y que se animen a buscar nuevas librerías que solucionen sus problemas específicos.\n",
        "\n",
        "Cabe destacar que algunas de estas librerías ya vienen incluídas con la instalación de Python, mientras que otras deben ser instaladas de forma independiente. En [este link](https://docs.python.org/3/library/) pueden investigar acerca de todas las librerías estándar que trae Python. Si cierta librería no se encuentra instalada en el sistema entonces el comando **`import`** para esa librería no funcionará con su instalación base de Python. \n",
        "\n",
        "La próxima clase ahondaremos más en la gestión y creación de entornos, donde aprenderán cómo instalar librerías nuevas no incluidas en la instalación de base, tanto en el entorno de Colab como en un entorno local.\n",
        "\n",
        "**Notas:**\n",
        "\n",
        "- Todas las librerías o paquetes cuentan con su **documentación**, la cual nos permite explorar los módulos que contiene y las funciones disponibles dentro de cada uno de ellos.\n",
        "- **Recurrir a la documentación** es muy útil e importante a la hora de entender cómo usar las herramientas disponibles en una librería."
      ]
    },
    {
      "cell_type": "markdown",
      "metadata": {
        "id": "xatrNCLt0P-o"
      },
      "source": [
        "### [math](https://docs.python.org/3/library/math.html#module-math)\n",
        "\n",
        "- *Compilado de funciones matemáticas básicas*"
      ]
    },
    {
      "cell_type": "code",
      "metadata": {
        "id": "oI8cVCIDHS75",
        "colab": {
          "base_uri": "https://localhost:8080/"
        },
        "outputId": "539b025e-01f1-4e55-a809-8058fc734cc3"
      },
      "source": [
        "import math\n",
        "\n",
        "x = 10.14\n",
        "print('Ceil de x', math.ceil(x))\n",
        "print('Floor de x', math.floor(x))\n",
        "print('Trunc de x', math.trunc(x))"
      ],
      "execution_count": null,
      "outputs": [
        {
          "output_type": "stream",
          "text": [
            "Ceil de x 11\n",
            "Floor de x 10\n",
            "Trunc de x 10\n"
          ],
          "name": "stdout"
        }
      ]
    },
    {
      "cell_type": "code",
      "metadata": {
        "id": "rwgHXexOJl-E",
        "colab": {
          "base_uri": "https://localhost:8080/"
        },
        "outputId": "44bfaf95-bbef-4f7c-a884-f3243b18de10"
      },
      "source": [
        "x = -10.14\n",
        "print('Ceil de x', math.ceil(x))\n",
        "print('Floor de x', math.floor(x))\n",
        "print('Trunc de x', math.trunc(x))\n",
        "\n",
        "print(type(math.ceil(x)))"
      ],
      "execution_count": null,
      "outputs": [
        {
          "output_type": "stream",
          "text": [
            "Ceil de x -10\n",
            "Floor de x -11\n",
            "Trunc de x -10\n",
            "<class 'int'>\n"
          ],
          "name": "stdout"
        }
      ]
    },
    {
      "cell_type": "code",
      "metadata": {
        "id": "VT4HW_KsKU7Y",
        "colab": {
          "base_uri": "https://localhost:8080/"
        },
        "outputId": "3f6dee30-4e7e-48a3-ce8d-18a36937042c"
      },
      "source": [
        "print(math.factorial(4))"
      ],
      "execution_count": null,
      "outputs": [
        {
          "output_type": "stream",
          "text": [
            "24\n"
          ],
          "name": "stdout"
        }
      ]
    },
    {
      "cell_type": "markdown",
      "metadata": {
        "id": "2vUBryEyLeYj"
      },
      "source": [
        "### [copy](https://docs.python.org/3/library/copy.html)\n",
        "\n",
        "* *Copiado de estructuras de datos*"
      ]
    },
    {
      "cell_type": "code",
      "metadata": {
        "id": "G7nwn3RoLpsi",
        "colab": {
          "base_uri": "https://localhost:8080/"
        },
        "outputId": "2deae123-8acc-4fc7-a095-10deab01816d"
      },
      "source": [
        "# Por defecto Python NO copia estructuras de datos para ahorrar memoria:\n",
        "\n",
        "A = [1, 2, 3]\n",
        "B = A\n",
        "B += [4, 5, 6]\n",
        "\n",
        "# No modificamos directamente A, sin embargo su valor cambió\n",
        "# En este caso, 'B' es un nombre alternativo de 'A', no es una copia\n",
        "print(A)\n",
        "print(id(A))\n",
        "print(B)\n",
        "print(id(B))"
      ],
      "execution_count": null,
      "outputs": [
        {
          "output_type": "stream",
          "text": [
            "[1, 2, 3, 4, 5, 6]\n",
            "140603987383232\n",
            "[1, 2, 3, 4, 5, 6]\n",
            "140603987383232\n"
          ],
          "name": "stdout"
        }
      ]
    },
    {
      "cell_type": "code",
      "metadata": {
        "id": "M5elhdB9MHRo",
        "colab": {
          "base_uri": "https://localhost:8080/"
        },
        "outputId": "84db3db6-4c13-4bfd-99de-013c35cfbd43"
      },
      "source": [
        "# Con .copy() realizamos una copia real\n",
        "\n",
        "A = [1, 2, 3]\n",
        "B = A.copy()\n",
        "B += [4, 5, 6]\n",
        "\n",
        "print(A)\n",
        "print(id(A))\n",
        "print(B)\n",
        "print(id(B))"
      ],
      "execution_count": null,
      "outputs": [
        {
          "output_type": "stream",
          "text": [
            "[1, 2, 3]\n",
            "140603987508192\n",
            "[1, 2, 3, 4, 5, 6]\n",
            "140603987459120\n"
          ],
          "name": "stdout"
        }
      ]
    },
    {
      "cell_type": "code",
      "metadata": {
        "id": "KqkfQVUpMYHH",
        "colab": {
          "base_uri": "https://localhost:8080/"
        },
        "outputId": "16add54c-956f-4541-bd67-af1464df7dcf"
      },
      "source": [
        "# Usando sólo .copy() no alcanza para que se copien las estructuras internas\n",
        "# Esto se llama una copia 'superficial'\n",
        "# solamente la capa 'externa' es la que se copia\n",
        "\n",
        "A = [[1,2,3], [4,5,6], [7,8,9]]\n",
        "B = A.copy()\n",
        "B[0][0] = 999\n",
        "B += [10, 11, 12]\n",
        "\n",
        "print(A)\n",
        "print(id(A))\n",
        "print(B)\n",
        "print(id(B))"
      ],
      "execution_count": null,
      "outputs": [
        {
          "output_type": "stream",
          "text": [
            "[[999, 2, 3], [4, 5, 6], [7, 8, 9]]\n",
            "140603987059808\n",
            "[[999, 2, 3], [4, 5, 6], [7, 8, 9], 10, 11, 12]\n",
            "140603988040832\n"
          ],
          "name": "stdout"
        }
      ]
    },
    {
      "cell_type": "code",
      "metadata": {
        "id": "8nYqyG2LM8PL",
        "colab": {
          "base_uri": "https://localhost:8080/"
        },
        "outputId": "a2a8a289-1b51-4719-c6f9-4c2a86fd492d"
      },
      "source": [
        "# Con la librería copy y su funcióndeepcopy() realizamos una copia real\n",
        "# 'profunda' tal como queremos\n",
        "\n",
        "import copy\n",
        "\n",
        "A = [[1,2,3], [4,5,6], [7,8,9]]\n",
        "B = copy.deepcopy(A)\n",
        "B[0][0] = 999\n",
        "B += [10, 11, 12]\n",
        "\n",
        "# La lista A se mantiene intacta\n",
        "print(A)\n",
        "print(id(A))\n",
        "print(B)\n",
        "print(id(B))"
      ],
      "execution_count": null,
      "outputs": [
        {
          "output_type": "stream",
          "text": [
            "[[1, 2, 3], [4, 5, 6], [7, 8, 9]]\n",
            "140603987465472\n",
            "[[999, 2, 3], [4, 5, 6], [7, 8, 9], 10, 11, 12]\n",
            "140603987467392\n"
          ],
          "name": "stdout"
        }
      ]
    },
    {
      "cell_type": "markdown",
      "metadata": {
        "id": "7ALMENyDOUuN"
      },
      "source": [
        "### [random](https://docs.python.org/3/library/random.html)\n",
        "\n",
        "* *Generación aleatoria de números*"
      ]
    },
    {
      "cell_type": "code",
      "metadata": {
        "id": "h3NXC4unOcBu",
        "colab": {
          "base_uri": "https://localhost:8080/"
        },
        "outputId": "24ff68a4-294f-405a-ab60-3ae6254ed868"
      },
      "source": [
        "import random\n",
        "\n",
        "opciones = ['Manzanas', 'Bananas', 'Naranjas']\n",
        "# opciones = []\n",
        "print(random.choice(opciones))"
      ],
      "execution_count": null,
      "outputs": [
        {
          "output_type": "stream",
          "text": [
            "Bananas\n"
          ],
          "name": "stdout"
        }
      ]
    },
    {
      "cell_type": "code",
      "metadata": {
        "colab": {
          "base_uri": "https://localhost:8080/"
        },
        "id": "8GV9dNpX3Mr6",
        "outputId": "96c4edf8-73de-4762-dc6b-c6c64fb40cb4"
      },
      "source": [
        "print(random.choice(opciones))"
      ],
      "execution_count": null,
      "outputs": [
        {
          "output_type": "stream",
          "text": [
            "Manzanas\n"
          ],
          "name": "stdout"
        }
      ]
    },
    {
      "cell_type": "code",
      "metadata": {
        "colab": {
          "base_uri": "https://localhost:8080/"
        },
        "id": "soZuojqw3NoC",
        "outputId": "8f4f70ca-9f34-461b-8927-3dace6a367cf"
      },
      "source": [
        "print(random.choice(opciones))"
      ],
      "execution_count": null,
      "outputs": [
        {
          "output_type": "stream",
          "text": [
            "Bananas\n"
          ],
          "name": "stdout"
        }
      ]
    },
    {
      "cell_type": "code",
      "metadata": {
        "colab": {
          "base_uri": "https://localhost:8080/"
        },
        "id": "3D9ZyZA63O5A",
        "outputId": "60e18e03-13d8-42e2-d1e8-7ddf000ad4de"
      },
      "source": [
        "print(random.choice(opciones))"
      ],
      "execution_count": null,
      "outputs": [
        {
          "output_type": "stream",
          "text": [
            "Manzanas\n"
          ],
          "name": "stdout"
        }
      ]
    },
    {
      "cell_type": "code",
      "metadata": {
        "id": "7983CXceKsCB",
        "colab": {
          "base_uri": "https://localhost:8080/"
        },
        "outputId": "fadeb57d-456b-4389-b4f4-5f60d5684406"
      },
      "source": [
        "# La función shuffle modifica el elemento que recibe como argumento!\n",
        "print(opciones)\n",
        "random.shuffle(opciones)\n",
        "print(opciones)"
      ],
      "execution_count": null,
      "outputs": [
        {
          "output_type": "stream",
          "text": [
            "['Manzanas', 'Bananas', 'Naranjas']\n",
            "['Bananas', 'Naranjas', 'Manzanas']\n"
          ],
          "name": "stdout"
        }
      ]
    },
    {
      "cell_type": "code",
      "metadata": {
        "id": "aOaQPLkSLwyV",
        "colab": {
          "base_uri": "https://localhost:8080/"
        },
        "outputId": "30fc82ac-1064-4b88-c95e-404509a0a39a"
      },
      "source": [
        "print(random.sample(opciones, k=2))"
      ],
      "execution_count": null,
      "outputs": [
        {
          "output_type": "stream",
          "text": [
            "['Manzanas', 'Bananas']\n"
          ],
          "name": "stdout"
        }
      ]
    },
    {
      "cell_type": "code",
      "metadata": {
        "id": "g5vUqXLuMBlS",
        "colab": {
          "base_uri": "https://localhost:8080/"
        },
        "outputId": "9a9edf03-5d0a-45ac-dafe-7131c250f493"
      },
      "source": [
        "print(random.sample(['red', 'red', 'red', 'red', 'blue', 'blue'], k=5))"
      ],
      "execution_count": null,
      "outputs": [
        {
          "output_type": "stream",
          "text": [
            "['red', 'blue', 'red', 'red', 'blue']\n"
          ],
          "name": "stdout"
        }
      ]
    },
    {
      "cell_type": "code",
      "metadata": {
        "colab": {
          "base_uri": "https://localhost:8080/"
        },
        "id": "4y1txnCa1ZNl",
        "outputId": "4804fe50-4bdd-4a8a-9a1f-243b26d637b5"
      },
      "source": [
        "# Entero aleatorio entre dos números (inclusive ambos)\n",
        "print(random.randint( 10, 20 ))"
      ],
      "execution_count": null,
      "outputs": [
        {
          "output_type": "stream",
          "text": [
            "17\n"
          ],
          "name": "stdout"
        }
      ]
    },
    {
      "cell_type": "code",
      "metadata": {
        "id": "D2f3ZBgmLYGm",
        "colab": {
          "base_uri": "https://localhost:8080/"
        },
        "outputId": "773eef2a-2476-4ceb-840d-544c5a7c6de1"
      },
      "source": [
        "# Decimal aleatorio entre [0.0, 1.0)\n",
        "print(random.random())"
      ],
      "execution_count": null,
      "outputs": [
        {
          "output_type": "stream",
          "text": [
            "0.13675043488136907\n"
          ],
          "name": "stdout"
        }
      ]
    },
    {
      "cell_type": "code",
      "metadata": {
        "colab": {
          "base_uri": "https://localhost:8080/"
        },
        "id": "4nUoALSe1eg1",
        "outputId": "3eb12465-dafd-4bfd-e6c9-13a0ae8130d7"
      },
      "source": [
        "# random.gauss(mu, sigma)\n",
        "print(random.gauss(0, 1))"
      ],
      "execution_count": null,
      "outputs": [
        {
          "output_type": "stream",
          "text": [
            "-0.2136694916601475\n"
          ],
          "name": "stdout"
        }
      ]
    },
    {
      "cell_type": "code",
      "metadata": {
        "id": "8wF2-77v2hyI"
      },
      "source": [
        "random.seed(123)"
      ],
      "execution_count": null,
      "outputs": []
    },
    {
      "cell_type": "markdown",
      "metadata": {
        "id": "9TaGnqTJKhTJ"
      },
      "source": [
        "### [time](https://docs.python.org/3/library/time.html)\n",
        "\n",
        "* *Funciones relacionadas al manejo del tiempo*"
      ]
    },
    {
      "cell_type": "code",
      "metadata": {
        "id": "BGEu_UzwKv2M",
        "colab": {
          "base_uri": "https://localhost:8080/"
        },
        "outputId": "633a835b-57bf-4a27-b82a-1758bd935e0c"
      },
      "source": [
        "import time\n",
        "\n",
        "print(1)\n",
        "time.sleep(1)\n",
        "print(2)\n",
        "time.sleep(1)\n",
        "print(3)\n",
        "time.sleep(1)\n",
        "print(4)\n",
        "time.sleep(1)\n",
        "print(5)\n",
        "time.sleep(1)\n",
        "print('Adiós!')"
      ],
      "execution_count": null,
      "outputs": [
        {
          "output_type": "stream",
          "text": [
            "1\n",
            "2\n",
            "3\n",
            "4\n",
            "5\n",
            "Adiós!\n"
          ],
          "name": "stdout"
        }
      ]
    },
    {
      "cell_type": "code",
      "metadata": {
        "id": "CkL7WlHQxINh",
        "colab": {
          "base_uri": "https://localhost:8080/"
        },
        "outputId": "f50f63db-365c-481d-c240-aa19c5fcc1c2"
      },
      "source": [
        "start = time.time()\n",
        "print(\"Hola\")\n",
        "end = time.time()\n",
        "\n",
        "print(\"Imprimir esto nos tomó\", end - start, \"segundos\")"
      ],
      "execution_count": null,
      "outputs": [
        {
          "output_type": "stream",
          "text": [
            "Hola\n",
            "Imprimir esto nos tomó 0.0004742145538330078 segundos\n"
          ],
          "name": "stdout"
        }
      ]
    },
    {
      "cell_type": "code",
      "metadata": {
        "id": "B4qrlIrswi91",
        "colab": {
          "base_uri": "https://localhost:8080/"
        },
        "outputId": "0dc4f7a8-0062-42d9-b115-efb35f7b6470"
      },
      "source": [
        "%%time\n",
        "# Podemos imprimir el tiempo que toma correr una celda con %%time\n",
        "print(\"Hola\")"
      ],
      "execution_count": null,
      "outputs": [
        {
          "output_type": "stream",
          "text": [
            "Hola\n",
            "CPU times: user 64 µs, sys: 12 µs, total: 76 µs\n",
            "Wall time: 80.8 µs\n"
          ],
          "name": "stdout"
        }
      ]
    },
    {
      "cell_type": "markdown",
      "metadata": {
        "id": "sqEI3Do1Ip-D"
      },
      "source": [
        "### [datetime](https://docs.python.org/3/library/datetime.html)\n",
        "\n",
        "* *Manipulación de fechas y horarios*"
      ]
    },
    {
      "cell_type": "code",
      "metadata": {
        "id": "MaD4L7cANU5E",
        "colab": {
          "base_uri": "https://localhost:8080/"
        },
        "outputId": "c0c8a514-ce9f-4070-c2de-42c8c8656db7"
      },
      "source": [
        "from datetime import datetime, timedelta\n",
        "\n",
        "now = datetime.now()\n",
        "print(now)\n",
        "print(now.time())"
      ],
      "execution_count": null,
      "outputs": [
        {
          "output_type": "stream",
          "text": [
            "2021-05-14 22:32:54.711268\n",
            "22:32:54.711268\n"
          ],
          "name": "stdout"
        }
      ]
    },
    {
      "cell_type": "code",
      "metadata": {
        "id": "piv0wNnmNXFK",
        "colab": {
          "base_uri": "https://localhost:8080/"
        },
        "outputId": "d7b0d017-18a9-43c2-a377-c289a7ea4294"
      },
      "source": [
        "print((now.year, now.month))"
      ],
      "execution_count": null,
      "outputs": [
        {
          "output_type": "stream",
          "text": [
            "(2021, 5)\n"
          ],
          "name": "stdout"
        }
      ]
    },
    {
      "cell_type": "code",
      "metadata": {
        "id": "Z4WGHq6iNyrz",
        "colab": {
          "base_uri": "https://localhost:8080/"
        },
        "outputId": "4bceee91-1da7-47c8-8cc4-d53ee54fd211"
      },
      "source": [
        "# Algo de f-strings\n",
        "print(f\"Hoy es {now:%B %d, %Y}\")"
      ],
      "execution_count": null,
      "outputs": [
        {
          "output_type": "stream",
          "text": [
            "Hoy es May 14, 2021\n"
          ],
          "name": "stdout"
        }
      ]
    },
    {
      "cell_type": "code",
      "metadata": {
        "colab": {
          "base_uri": "https://localhost:8080/"
        },
        "id": "ovVqFnEmChwn",
        "outputId": "438c33e1-8a99-457f-e952-9b45cf0ae868"
      },
      "source": [
        "print(datetime(2010, 2, 6))\n",
        "new_time = datetime(2010, 2, 6, 10, 8, 20, 0)\n",
        "                #(año, mes, dia, [hora, minuto, segundo, milisegundo])\n",
        "print(new_time)\n",
        "\n",
        "new_time = new_time + timedelta(days=31, hours=1)\n",
        "print(new_time)\n"
      ],
      "execution_count": null,
      "outputs": [
        {
          "output_type": "stream",
          "text": [
            "2010-02-06 00:00:00\n",
            "2010-02-06 10:08:20\n",
            "2010-03-09 11:08:20\n"
          ],
          "name": "stdout"
        }
      ]
    },
    {
      "cell_type": "code",
      "metadata": {
        "id": "3Tc-QRTdIfzt",
        "colab": {
          "base_uri": "https://localhost:8080/"
        },
        "outputId": "be2bdb0c-e18b-4ba1-e2f4-ccbc9b41e384"
      },
      "source": [
        "fin_de_año = datetime.strptime(\"31/12/2021\", \"%d/%m/%Y\")\n",
        "\n",
        "print(fin_de_año.strftime(\"%Y-%m-%d %H:%M\"))\n",
        "\n",
        "# Tener cuidado con Timezones"
      ],
      "execution_count": null,
      "outputs": [
        {
          "output_type": "stream",
          "text": [
            "2021-12-31 00:00\n"
          ],
          "name": "stdout"
        }
      ]
    },
    {
      "cell_type": "code",
      "metadata": {
        "colab": {
          "base_uri": "https://localhost:8080/"
        },
        "id": "K4pM3kMwEGBD",
        "outputId": "244451f1-f5b2-452a-9c9d-fc3ef6146a1e"
      },
      "source": [
        "hora = datetime.strptime(\"12:35\", \"%H:%M\")\n",
        "print(hora)"
      ],
      "execution_count": null,
      "outputs": [
        {
          "output_type": "stream",
          "text": [
            "1900-01-01 12:35:00\n"
          ],
          "name": "stdout"
        }
      ]
    },
    {
      "cell_type": "markdown",
      "metadata": {
        "id": "_vOsYmofHtiY"
      },
      "source": [
        "### [NumPy](https://numpy.org/)\n",
        "* *Cálculo algebraico*\n",
        "\n",
        "NumPy permite crear vectores y matrices multidimensionales, junto con una gran colección de funciones matemáticas de alto nivel para operar con ellos de forma muy eficiente."
      ]
    },
    {
      "cell_type": "code",
      "metadata": {
        "id": "qYNa9QwtGm2d",
        "colab": {
          "base_uri": "https://localhost:8080/"
        },
        "outputId": "f25ea12c-385d-4e94-94c7-21a7d657dde3"
      },
      "source": [
        "import numpy as np\n",
        "\n",
        "A = np.array([\n",
        "    [1,2,3],\n",
        "    [4,5,6],\n",
        "])\n",
        "B = np.array([[1,2], [4,5], [7,8]])\n",
        "C = np.dot(A, B)\n",
        "\n",
        "print('A =')\n",
        "print(A)\n",
        "print()\n",
        "print('B =')\n",
        "print(B)\n",
        "print()\n",
        "print('A*B =')\n",
        "print(C)"
      ],
      "execution_count": null,
      "outputs": [
        {
          "output_type": "stream",
          "text": [
            "A =\n",
            "[[1 2 3]\n",
            " [4 5 6]]\n",
            "\n",
            "B =\n",
            "[[1 2]\n",
            " [4 5]\n",
            " [7 8]]\n",
            "\n",
            "A*B =\n",
            "[[30 36]\n",
            " [66 81]]\n"
          ],
          "name": "stdout"
        }
      ]
    },
    {
      "cell_type": "code",
      "metadata": {
        "id": "NTRjCd5g3Sm3",
        "colab": {
          "base_uri": "https://localhost:8080/"
        },
        "outputId": "78bae46d-2993-4f80-8794-c7e8a4254547"
      },
      "source": [
        "# Veamos la diferencia entre listas o arrays\n",
        "# Suma o producto de listas concatena\n",
        "a = [2, 4]\n",
        "print(a)\n",
        "print(type(a))\n",
        "print(a + a)\n",
        "print(a * 3)"
      ],
      "execution_count": null,
      "outputs": [
        {
          "output_type": "stream",
          "text": [
            "[2, 4]\n",
            "<class 'list'>\n",
            "[2, 4, 2, 4]\n",
            "[2, 4, 2, 4, 2, 4]\n"
          ],
          "name": "stdout"
        }
      ]
    },
    {
      "cell_type": "code",
      "metadata": {
        "colab": {
          "base_uri": "https://localhost:8080/"
        },
        "id": "nAteTnSbF3OI",
        "outputId": "f4257838-0932-435d-b9c3-133f4333b77f"
      },
      "source": [
        "# Suma o producto de numpy arrays aplica la operación elemento a elemento\n",
        "a = np.array([2, 4])\n",
        "print(a)\n",
        "print(type(a))\n",
        "print(a + a)\n",
        "print(a * 3.5)\n",
        "\n",
        "# Mostrar error de diferencias de dimensiones"
      ],
      "execution_count": null,
      "outputs": [
        {
          "output_type": "stream",
          "text": [
            "[2 4]\n",
            "<class 'numpy.ndarray'>\n",
            "[4 8]\n",
            "[ 7. 14.]\n"
          ],
          "name": "stdout"
        }
      ]
    },
    {
      "cell_type": "code",
      "metadata": {
        "colab": {
          "base_uri": "https://localhost:8080/"
        },
        "id": "BQj58PphGo8V",
        "outputId": "b6b426d7-eb75-422b-aa9a-51ace1539ebc"
      },
      "source": [
        "a = [2, 4]\n",
        "b = [1, 3, 5]\n",
        "print(a + b)"
      ],
      "execution_count": null,
      "outputs": [
        {
          "output_type": "stream",
          "text": [
            "[2, 4, 1, 3, 5]\n"
          ],
          "name": "stdout"
        }
      ]
    },
    {
      "cell_type": "code",
      "metadata": {
        "colab": {
          "base_uri": "https://localhost:8080/",
          "height": 201
        },
        "id": "XjV9m-YPGtqj",
        "outputId": "56e1a20c-ca71-4ad0-9c76-6f3e988fee18"
      },
      "source": [
        "a = np.array([2, 4])\n",
        "b = np.array([1, 3, 5])\n",
        "print(a + b)"
      ],
      "execution_count": null,
      "outputs": [
        {
          "output_type": "error",
          "ename": "ValueError",
          "evalue": "ignored",
          "traceback": [
            "\u001b[0;31m---------------------------------------------------------------------------\u001b[0m",
            "\u001b[0;31mValueError\u001b[0m                                Traceback (most recent call last)",
            "\u001b[0;32m<ipython-input-18-268f3444938d>\u001b[0m in \u001b[0;36m<module>\u001b[0;34m()\u001b[0m\n\u001b[1;32m      1\u001b[0m \u001b[0ma\u001b[0m \u001b[0;34m=\u001b[0m \u001b[0mnp\u001b[0m\u001b[0;34m.\u001b[0m\u001b[0marray\u001b[0m\u001b[0;34m(\u001b[0m\u001b[0;34m[\u001b[0m\u001b[0;36m2\u001b[0m\u001b[0;34m,\u001b[0m \u001b[0;36m4\u001b[0m\u001b[0;34m]\u001b[0m\u001b[0;34m)\u001b[0m\u001b[0;34m\u001b[0m\u001b[0;34m\u001b[0m\u001b[0m\n\u001b[1;32m      2\u001b[0m \u001b[0mb\u001b[0m \u001b[0;34m=\u001b[0m \u001b[0mnp\u001b[0m\u001b[0;34m.\u001b[0m\u001b[0marray\u001b[0m\u001b[0;34m(\u001b[0m\u001b[0;34m[\u001b[0m\u001b[0;36m1\u001b[0m\u001b[0;34m,\u001b[0m \u001b[0;36m3\u001b[0m\u001b[0;34m,\u001b[0m \u001b[0;36m5\u001b[0m\u001b[0;34m]\u001b[0m\u001b[0;34m)\u001b[0m\u001b[0;34m\u001b[0m\u001b[0;34m\u001b[0m\u001b[0m\n\u001b[0;32m----> 3\u001b[0;31m \u001b[0mprint\u001b[0m\u001b[0;34m(\u001b[0m\u001b[0ma\u001b[0m \u001b[0;34m+\u001b[0m \u001b[0mb\u001b[0m\u001b[0;34m)\u001b[0m\u001b[0;34m\u001b[0m\u001b[0;34m\u001b[0m\u001b[0m\n\u001b[0m",
            "\u001b[0;31mValueError\u001b[0m: operands could not be broadcast together with shapes (2,) (3,) "
          ]
        }
      ]
    },
    {
      "cell_type": "markdown",
      "metadata": {
        "id": "oAahKWT9fnbl"
      },
      "source": [
        "### [Matplotlib](https://matplotlib.org)\n",
        "* *Visualización de datos*"
      ]
    },
    {
      "cell_type": "code",
      "metadata": {
        "id": "Sw-DP4kEgKMi",
        "colab": {
          "base_uri": "https://localhost:8080/",
          "height": 283
        },
        "outputId": "e533257c-3f39-4687-916a-78e9e2212f99"
      },
      "source": [
        "# Ejemplo obtenido de la documentación de matplotlib para darse una idea del\n",
        "# uso de esta herramienta\n",
        "# No es necesario entender cómo funciona\n",
        "import numpy as np\n",
        "import matplotlib.pyplot as plt\n",
        "\n",
        "# example data\n",
        "mu = 100  # mean of distribution\n",
        "sigma = 15  # standard deviation of distribution\n",
        "x = mu + sigma * np.random.randn(437)\n",
        "\n",
        "num_bins = 50\n",
        "\n",
        "plt.plot(figsize=(14, 7))\n",
        "\n",
        "# the histogram of the data\n",
        "n, bins, patches = plt.hist(x, num_bins, density=True)\n",
        "\n",
        "# add a 'best fit' line\n",
        "y = ((1 / (np.sqrt(2 * np.pi) * sigma)) *\n",
        "     np.exp(-0.5 * (1 / sigma * (bins - mu))**2))\n",
        "plt.plot(bins, y, 'r--')\n",
        "plt.title(r'Histogram of IQ: $\\mu=100$, $\\sigma=15$')\n",
        "\n",
        "# Tweak spacing to prevent clipping of ylabel\n",
        "plt.show()"
      ],
      "execution_count": null,
      "outputs": [
        {
          "output_type": "display_data",
          "data": {
            "image/png": "[encoded data removed]",
            "text/plain": [
              "<Figure size 432x288 with 1 Axes>"
            ]
          },
          "metadata": {
            "tags": [],
            "needs_background": "light"
          }
        }
      ]
    },
    {
      "cell_type": "markdown",
      "metadata": {
        "id": "wO_4LxNnqm_1"
      },
      "source": [
        "# Paréntesis: *f-strings*\n",
        "\n",
        "Como habrán notado, existen formas de \"*incrustar*\" variables en texto de una manera muy amigable gracias a las *formatted strings literals* (más conocidas por su nombre artístico *f-strings*).\n",
        "\n",
        "Esto nos salva de concatenar strings y hace mucho más legible el texto que querramos crear. Por ejemplo, nos hacen muy sencillo presentar un número como un porcentaje.\n",
        "\n"
      ]
    },
    {
      "cell_type": "code",
      "metadata": {
        "id": "afDPYJqqsN4O",
        "colab": {
          "base_uri": "https://localhost:8080/"
        },
        "outputId": "4f6bc77e-76f5-4f8b-bb1e-3b4e585cad4e"
      },
      "source": [
        "# format_spec ::= [[fill]align][sign][#][0][width][grouping_option][.precision][type]\n",
        "\n",
        "x = 0.253246\n",
        "\n",
        "print(\"El porcentaje es\", round(x * 100, 3), \"%\")\n",
        "\n",
        "print(f\"El porcentaje a dos decimales es {x:.2%}\")\n",
        "print(f\"En porcentaje a tres decimales es {x:.3%}\")"
      ],
      "execution_count": null,
      "outputs": [
        {
          "output_type": "stream",
          "text": [
            "El porcentaje es 25.325 %\n",
            "El porcentaje a dos decimales es 25.32%\n",
            "En porcentaje a tres decimales es 25.325%\n"
          ],
          "name": "stdout"
        }
      ]
    },
    {
      "cell_type": "code",
      "metadata": {
        "id": "FtSR0YBTTXo3",
        "colab": {
          "base_uri": "https://localhost:8080/"
        },
        "outputId": "c7845f60-548f-434b-baff-584269d87c3e"
      },
      "source": [
        "cantante = \"La mona jimenez\"\n",
        "numero = 1000000\n",
        "fecha = datetime(2021, 4, 30)\n",
        "\n",
        "print(f\"{cantante.title()} sorteó ${numero:,.2f} en su último recital del día {fecha:%d/%m/%y}.\")"
      ],
      "execution_count": null,
      "outputs": [
        {
          "output_type": "stream",
          "text": [
            "La Mona Jimenez sorteó $1,000,000.00 en su último recital del día 30/04/21.\n"
          ],
          "name": "stdout"
        }
      ]
    },
    {
      "cell_type": "code",
      "metadata": {
        "colab": {
          "base_uri": "https://localhost:8080/"
        },
        "id": "PSWP1UXUJHmb",
        "outputId": "5286433b-d0b1-4f4a-a6f7-9a0fda017282"
      },
      "source": [
        "diccionario = {\n",
        "    \"cantante\": \"La Mona Jimenez\",\n",
        "    \"numero\": 100000,\n",
        "}\n",
        "\n",
        "print(f\"{diccionario['cantante']} sorteó ${diccionario['numero']} en su último recital.\")"
      ],
      "execution_count": null,
      "outputs": [
        {
          "output_type": "stream",
          "text": [
            "La Mona Jimenez sorteó $100000 en su último recital.\n"
          ],
          "name": "stdout"
        }
      ]
    },
    {
      "cell_type": "markdown",
      "metadata": {
        "id": "DGSNK6SlsMtv"
      },
      "source": [
        "En [esta documentación](https://docs.python.org/3/library/string.html#formatstrings) encontrarán más información al respecto. Además, dentro del tutorial de python, pueden revisar [esta sección](https://docs.python.org/3/tutorial/inputoutput.html)."
      ]
    },
    {
      "cell_type": "markdown",
      "metadata": {
        "id": "ISbfwNZkHkVX"
      },
      "source": [
        "# Cálculos Matriciales y Entre *Arrays* con Numpy\n",
        "\n",
        "En la siguiente sección, profundizaremos sobre la utilización de la librería Numpy, que se usa principalmente para operar con matrices o *arrays*. Además, se resolverán ejercicios analizados durante la unidad previa de este módulo, en los que se aplicó álgebra lineal.\n",
        "\n",
        "El elemento básico sobre el que se opera en Numpy se lo denomina *array*. Un ***array*** en Numpy es lo que conocemos como vector o matriz y sus valores son listas con una restricción especial: que sus valores sean todos del mismo tipo.\n",
        "\n",
        "¿Se acuerdan que tenían una lista de actividades a resolver durante la nivelación en álgebra lineal? Si no lo recuerdan o no las hicieron, podemos resolver algunas con esta librería."
      ]
    },
    {
      "cell_type": "code",
      "metadata": {
        "id": "R4dlbxi8sM5j",
        "colab": {
          "base_uri": "https://localhost:8080/"
        },
        "outputId": "078f357e-3be3-453b-a927-4323a2be07b1"
      },
      "source": [
        "import numpy as np\n",
        "\n",
        "# Tenemos 3 matrices y varias operaciones para realizar entre ellas.\n",
        "\n",
        "A = np.array([\n",
        "    [3, 0.],\n",
        "    [-1, 2],\n",
        "    [1, 1],\n",
        "])\n",
        "\n",
        "B = np.array([\n",
        "    [4, -1.],\n",
        "    [0, 2],\n",
        "])\n",
        "\n",
        "C = np.array([\n",
        "    [1., 1, -1],\n",
        "    [2, -1, 1],\n",
        "])\n",
        "\n",
        "print(f\"A * B = {A @ B}\")\n",
        "print(f\"B * C = {B @ C}\")\n",
        "print(f\"A * A^t = {A @ A.T}\")\n",
        "print(f\"A^t * A = {A.T @ A}\")\n",
        "print(f\"A + C^t = {A + C.T}\")\n",
        "print(f\"2A = {2 * A}\")"
      ],
      "execution_count": null,
      "outputs": [
        {
          "output_type": "stream",
          "text": [
            "A * B = [[12. -3.]\n",
            " [-4.  5.]\n",
            " [ 4.  1.]]\n",
            "B * C = [[ 2.  5. -5.]\n",
            " [ 4. -2.  2.]]\n",
            "A * A^t = [[ 9. -3.  3.]\n",
            " [-3.  5.  1.]\n",
            " [ 3.  1.  2.]]\n",
            "A^t * A = [[11. -1.]\n",
            " [-1.  5.]]\n",
            "A + C^t = [[4. 2.]\n",
            " [0. 1.]\n",
            " [0. 2.]]\n",
            "2A = [[ 6.  0.]\n",
            " [-2.  4.]\n",
            " [ 2.  2.]]\n"
          ],
          "name": "stdout"
        }
      ]
    },
    {
      "cell_type": "code",
      "metadata": {
        "id": "jRQM-v3tsk9M",
        "colab": {
          "base_uri": "https://localhost:8080/"
        },
        "outputId": "880efd3f-7a94-4f3f-f64d-fa069d7e195d"
      },
      "source": [
        "# Sistemas lineales\n",
        "# x + y = 2\n",
        "# 5x + 6y = 9\n",
        "\n",
        "sistema = np.array([\n",
        "    [1.0, 1],\n",
        "    [5, 6],\n",
        "])\n",
        "vector = np.array([2, 9])\n",
        "print(np.linalg.solve(sistema, vector))\n",
        "\n",
        "# x + 3y + z = 0\n",
        "# 2x + 2y + z = -1\n",
        "# 2x + 3y + z = 2\n",
        "\n",
        "sistema = np.array([\n",
        "    [1., 3, 1],\n",
        "    [2, 2, 1],\n",
        "    [2, 3, 1],\n",
        "])\n",
        "vector = np.array([0, -1, 2])\n",
        "print(np.linalg.solve(sistema, vector))\n"
      ],
      "execution_count": null,
      "outputs": [
        {
          "output_type": "stream",
          "text": [
            "[ 3. -1.]\n",
            "[  2.   3. -11.]\n"
          ],
          "name": "stdout"
        }
      ]
    },
    {
      "cell_type": "code",
      "metadata": {
        "id": "kCvIGo-SspJA",
        "colab": {
          "base_uri": "https://localhost:8080/"
        },
        "outputId": "30c6a000-5398-4258-8ced-d3d32c8c15bb"
      },
      "source": [
        "# Determinar si dos vectores son ortogonales\n",
        "v = np.array([6., 2])\n",
        "w = np.array([-3, 1])\n",
        "print(np.dot(v, w) == 0.0)\n",
        "\n",
        "v = np.array([-1., 3, 2])\n",
        "w = np.array([4, 2, -1])\n",
        "print(np.dot(v, w) == 0.0)"
      ],
      "execution_count": null,
      "outputs": [
        {
          "output_type": "stream",
          "text": [
            "False\n",
            "True\n"
          ],
          "name": "stdout"
        }
      ]
    },
    {
      "cell_type": "code",
      "metadata": {
        "id": "aM7rEsHUsqQ3",
        "colab": {
          "base_uri": "https://localhost:8080/"
        },
        "outputId": "e555d329-efcc-40ad-a809-6eb36e36c94e"
      },
      "source": [
        "# Determinante\n",
        "A = np.eye(4)\n",
        "print(A)\n",
        "print(np.linalg.det(A))\n",
        "\n",
        "B = 4 * A\n",
        "print(np.linalg.det(B))"
      ],
      "execution_count": null,
      "outputs": [
        {
          "output_type": "stream",
          "text": [
            "[[1. 0. 0. 0.]\n",
            " [0. 1. 0. 0.]\n",
            " [0. 0. 1. 0.]\n",
            " [0. 0. 0. 1.]]\n",
            "1.0\n",
            "255.99999999999994\n"
          ],
          "name": "stdout"
        }
      ]
    },
    {
      "cell_type": "code",
      "metadata": {
        "id": "8crVF_Opzp2S",
        "colab": {
          "base_uri": "https://localhost:8080/"
        },
        "outputId": "3f45e900-6e8c-4466-c2a6-8cd4fa27c799"
      },
      "source": [
        "# Autovalores y autovectores\n",
        "\n",
        "A = np.random.randn(3, 3)\n",
        "\n",
        "autovalores, autovectores = np.linalg.eig(A)\n",
        "print(autovalores)\n",
        "print(autovectores)"
      ],
      "execution_count": null,
      "outputs": [
        {
          "output_type": "stream",
          "text": [
            "[ 0.90750075+1.28507651j  0.90750075-1.28507651j -1.6102194 +0.j        ]\n",
            "[[ 0.79901233+0.j          0.79901233-0.j          0.17854194+0.j        ]\n",
            " [ 0.15028718+0.40843667j  0.15028718-0.40843667j  0.33158314+0.j        ]\n",
            " [-0.23311232-0.34326549j -0.23311232+0.34326549j  0.92637757+0.j        ]]\n"
          ],
          "name": "stdout"
        }
      ]
    },
    {
      "cell_type": "markdown",
      "metadata": {
        "id": "RhnuEXhvHgK2"
      },
      "source": [
        "# Manipulación de Archivos de Texto (Datos No Estructurados)\n",
        "\n",
        "<img src=\"https://icons-for-free.com/iconfiles/png/512/document+file+page+paper+programming+icon-1320165844326114116.png\" height=150>\n",
        "\n",
        "Muchas veces es necesario realizar un programa que pueda procesar información que se encuentra en un formato particular, almacenados sin ninguna estructura en particular. A este tipo de datos los llamamos ***datos no estructurados***.\n",
        "\n",
        "El análisis de un texto es un ejemplo de un archivo para el cual necesitamos realizar una lectura en modo \"manual\". A manera introductoria, comenzaremos a aprender a manipular archivos de texto (*.txt*), dado que son simples y muy usados."
      ]
    },
    {
      "cell_type": "markdown",
      "metadata": {
        "id": "mj0twLv6Grdv"
      },
      "source": [
        "## Lectura\n",
        "\n",
        "Imaginemos que se necesita leer un archivo ***.txt*** con una noticia del diario y analizar su contenido. \n",
        "\n",
        "<img src=\"http://www.harfordcountyhealth.com/wp-content/uploads/2015/01/Newspaper.jpg\" width=300>\n",
        "\n",
        "A continuación, mostraremos un ejemplo donde se accede a la información de un archivo llamado \"**Noticia Inflación EEUU.txt**\". Normalmente, desde nuestra computadora podremos acceder a los archivos locales conociendo su ubicación en el disco (es decir que, en tanto se conozca la carpeta donde se ubique el archivo, éste se podrá abrir), pero Colab requiere cargar los archivos al entorno online antes de poder usarlos. Esto se puede realizar mediante el siguiente comando, que descarga un archivo de internet y lo carga al entorno de Colab:"
      ]
    },
    {
      "cell_type": "code",
      "metadata": {
        "id": "pJqU8NbcdnFh",
        "colab": {
          "base_uri": "https://localhost:8080/"
        },
        "outputId": "1526f4da-286b-435b-c32f-d26a273299c1"
      },
      "source": [
        "# Comando wget. Solo para maquinas Linux. Colab usa linux!\n",
        "! wget --no-check-certificate 'https://docs.google.com/uc?export=download&id=1YDkt6Ckvk-r-aoHcfvDQyJnXlgobPLCr' -O 'Noticia Inflación EEUU.txt'"
      ],
      "execution_count": null,
      "outputs": [
        {
          "output_type": "stream",
          "text": [
            "--2021-05-14 23:28:38--  https://docs.google.com/uc?export=download&id=1YDkt6Ckvk-r-aoHcfvDQyJnXlgobPLCr\n",
            "Resolving docs.google.com (docs.google.com)... 172.217.203.101, 172.217.203.102, 172.217.203.139, ...\n",
            "Connecting to docs.google.com (docs.google.com)|172.217.203.101|:443... connected.\n",
            "HTTP request sent, awaiting response... 302 Moved Temporarily\n",
            "Location: https://doc-14-20-docs.googleusercontent.com/docs/securesc/ha0ro937gcuc7l7deffksulhg5h7mbp1/bjo848hoc8mkoguu0c66b6k50n963um2/1621034850000/15440307337842019852/*/1YDkt6Ckvk-r-aoHcfvDQyJnXlgobPLCr?e=download [following]\n",
            "Warning: wildcards not supported in HTTP.\n",
            "--2021-05-14 23:28:38--  https://doc-14-20-docs.googleusercontent.com/docs/securesc/ha0ro937gcuc7l7deffksulhg5h7mbp1/bjo848hoc8mkoguu0c66b6k50n963um2/1621034850000/15440307337842019852/*/1YDkt6Ckvk-r-aoHcfvDQyJnXlgobPLCr?e=download\n",
            "Resolving doc-14-20-docs.googleusercontent.com (doc-14-20-docs.googleusercontent.com)... 173.194.211.132, 2607:f8b0:400c:c10::84\n",
            "Connecting to doc-14-20-docs.googleusercontent.com (doc-14-20-docs.googleusercontent.com)|173.194.211.132|:443... connected.\n",
            "HTTP request sent, awaiting response... 200 OK\n",
            "Length: 3777 (3.7K) [text/plain]\n",
            "Saving to: ‘Noticia Inflación EEUU.txt’\n",
            "\n",
            "Noticia Inflación E 100%[===================>]   3.69K  --.-KB/s    in 0s      \n",
            "\n",
            "2021-05-14 23:28:39 (25.2 MB/s) - ‘Noticia Inflación EEUU.txt’ saved [3777/3777]\n",
            "\n"
          ],
          "name": "stdout"
        }
      ]
    },
    {
      "cell_type": "markdown",
      "metadata": {
        "id": "NM3Fc5ImWOWz"
      },
      "source": [
        "En este caso, abriremos el archivo con el comando **`open()`** de Python y guardaremos el contenido \"*crudo*\" en una lista de strings, separando por renglones. Si el archivo se encuentra en la misma carpeta que el programa en Python alcanza con indicar el nombre del archivo. En caso contrario, es necesario indicar la ubicación del mismo entre los paréntesis de **`open()`**.\n",
        "\n",
        "Por otro lado, para obtener una lista de renglones en el archivo utilizamos un *método* llamado **`readlines()`**."
      ]
    },
    {
      "cell_type": "code",
      "metadata": {
        "id": "CmYQnfoCIqKF",
        "colab": {
          "base_uri": "https://localhost:8080/"
        },
        "outputId": "0456142f-dd63-482f-8580-531c6b456a08"
      },
      "source": [
        "file = open(\"Noticia Inflación EEUU.txt\") # Guardamos el contenido del archivo en una variable\n",
        "\n",
        "contenido = file.readlines() # Obtenemos una lista de renglones\n",
        "print(contenido)\n",
        "print(type(contenido))"
      ],
      "execution_count": null,
      "outputs": [
        {
          "output_type": "stream",
          "text": [
            "['Inflación en Estados Unidos: subió muy fuerte en abril y la estimación anual trepó al mayor valor en 14 años\\n', '\\n', 'FINANZAS 12 Mayo 2021 - 10:50\\n', '\\n', 'El Índice de Precios al Consumidor (IPC) de Estados Unidos trepó 0,8% en abril y la inflación anual escaló de 3,6% a 4,2%. El IPC núcleo tuvo el alza mensual más alta desde 1982.\\n', '\\n', 'La Inflación en Estados Unidos creció 0,8% en abril y la estimación anualizada trepó de 3,6% a 4,2%, el mayor aumento en los últimos casi 14 años, y la segunda más alta desde la época del fin de la Guerra Fría. El dato arrastró a terreno negativo a los mercados internacionales y generó expectativa de otra suba de tasas del Tesoro estadounidense.\\n', '\\n', 'Según los datos del Departamento de Trabajo estadounidense, este incremento de precios en medio de la pandemia representa el mayor aumento interanual desde 2008, con el estallido económico de las hipotecas hipotecas subprime, que también puso en vilo a la economía mundial.\\n', '\\n', 'En comparación con marzo pasado, el índice de precios al consumidor subió un 0,8% en abril, muy por encima de las expectativas e impulsado por aumentos generalizados de precios, incluidos de los vehículos usados y los alimentos, según el informe oficial.\\n', '\\n', 'Además, el Índice de Precios al Consumidor (IPC) núcleo tuvo el alza mensual más alta desde 1982.\\n', '\\n', 'Con este dato los principales índices de Wall Street abrieron en baja, ya que se reavivó la preocupación por un aumento de tasas de interés de la Reserva Federal antes de lo esperado para combatir un eventual periodo de fuertes alzas de precios. Las tasas respondieron de inmediato con una suba del 5% en los bonos del Tesoro a 5 años.\\n', '\\n', 'En los primeros minutos de la jornada, el promedio industrial Dow Jones pierde 0,18% a 34.206,40 unidades; mientras que el índice S&P 500 cedía 0,52% a 4.130,55 unidades; y el índice compuesto Nasdaq retrocede 1,30% a 13.215,49 unidades.\\n', '\\n', 'La inflación anualizada de 4,2% es similar a la de 2008 y apenas unas décimas por debajo de los registros de la época del fin de la Guerra Fría con Rusia. Según los datos oficiales de EEUU, tras la caída del Muro de Berlín en 1989 la inflación anual de Estados Unidos fue de 5,1%, en 1990 fue 4,9% y en 1991 alcanzó nuevamente 5,1%.\\n', '\\n', 'La aceleración de la marca interanual de la inflación, que en marzo había alcanzado el 2,6%, se explica en parte por la comparación con los precios hace un año, especialmente el petróleo, afectados por la pandemia. La suba mensual se debió, a diferencia de meses anteriores, a los incrementos de bienes y servicios y no a los de los combustibles.\\n', '\\n', 'Entre las alzas, la de los autos usados, muy populares desde el inicio de la pandemia que ha alejado a muchos del centro de las ciudades, continuó subiendo, registrando con respecto a marzo el mayor incremento desde que se empezaron a registrar estos datos en 1953. Además, subieron las tarifas de hotel, boletos de avión, recreación, seguro de automóvil y mobiliario, detalló el Departamento de Trabajo de Estados Unidos.\\n', '\\n', 'Como resultado, excluyendo los precios volátiles de la energía y los alimentos, la denominada inflación subyacente fue de 0,9% en un mes, lo que representa el mayor aumento desde abril de 1982. Y del 3% en un año.\\n', '\\n', 'Otro índice, el PCE, que es utilizado por la Reserva Federal de Estados Unidos (Fed), había reportado un aumento del 2,3% en marzo en un año, por encima del objetivo del 2% de la Fed.\\n', '\\n', 'La pregunta que ahora enfrentan los mercados y los economistas es si esta subida de precios, que probablemente se acelerará en los próximos meses, durará o se estabilizará. Casi todas las empresas han informado, al publicar sus resultados trimestrales, aumentos de precios, reales o futuros.']\n",
            "<class 'list'>\n"
          ],
          "name": "stdout"
        }
      ]
    },
    {
      "cell_type": "code",
      "metadata": {
        "id": "SZJ9SYxBWQCb",
        "colab": {
          "base_uri": "https://localhost:8080/"
        },
        "outputId": "2d5370ad-249f-48ca-f165-1f7568c15fe4"
      },
      "source": [
        "for i, line in enumerate(contenido):\n",
        "    if i<10:\n",
        "        print(f\"Fila {i}: {line}\") # Mostramos renglón a renglón las primeras 10 líneas"
      ],
      "execution_count": null,
      "outputs": [
        {
          "output_type": "stream",
          "text": [
            "Fila 0: Inflación en Estados Unidos: subió muy fuerte en abril y la estimación anual trepó al mayor valor en 14 años\n",
            "\n",
            "Fila 1: \n",
            "\n",
            "Fila 2: FINANZAS 12 Mayo 2021 - 10:50\n",
            "\n",
            "Fila 3: \n",
            "\n",
            "Fila 4: El Índice de Precios al Consumidor (IPC) de Estados Unidos trepó 0,8% en abril y la inflación anual escaló de 3,6% a 4,2%. El IPC núcleo tuvo el alza mensual más alta desde 1982.\n",
            "\n",
            "Fila 5: \n",
            "\n",
            "Fila 6: La Inflación en Estados Unidos creció 0,8% en abril y la estimación anualizada trepó de 3,6% a 4,2%, el mayor aumento en los últimos casi 14 años, y la segunda más alta desde la época del fin de la Guerra Fría. El dato arrastró a terreno negativo a los mercados internacionales y generó expectativa de otra suba de tasas del Tesoro estadounidense.\n",
            "\n",
            "Fila 7: \n",
            "\n",
            "Fila 8: Según los datos del Departamento de Trabajo estadounidense, este incremento de precios en medio de la pandemia representa el mayor aumento interanual desde 2008, con el estallido económico de las hipotecas hipotecas subprime, que también puso en vilo a la economía mundial.\n",
            "\n",
            "Fila 9: \n",
            "\n"
          ],
          "name": "stdout"
        }
      ]
    },
    {
      "cell_type": "markdown",
      "metadata": {
        "id": "ZKs68NfOX2JM"
      },
      "source": [
        "Luego de almacenar el contenido, podemos separarlo por palabras utilizando el método **`.split()`**"
      ]
    },
    {
      "cell_type": "code",
      "metadata": {
        "colab": {
          "base_uri": "https://localhost:8080/"
        },
        "id": "pP0CDDgOPswS",
        "outputId": "377b3fcc-61f2-4df5-a111-4acb8d2c6443"
      },
      "source": [
        "contenido[0].split(' ')"
      ],
      "execution_count": null,
      "outputs": [
        {
          "output_type": "execute_result",
          "data": {
            "text/plain": [
              "['Inflación',\n",
              " 'en',\n",
              " 'Estados',\n",
              " 'Unidos:',\n",
              " 'subió',\n",
              " 'muy',\n",
              " 'fuerte',\n",
              " 'en',\n",
              " 'abril',\n",
              " 'y',\n",
              " 'la',\n",
              " 'estimación',\n",
              " 'anual',\n",
              " 'trepó',\n",
              " 'al',\n",
              " 'mayor',\n",
              " 'valor',\n",
              " 'en',\n",
              " '14',\n",
              " 'años\\n']"
            ]
          },
          "metadata": {
            "tags": []
          },
          "execution_count": 43
        }
      ]
    },
    {
      "cell_type": "code",
      "metadata": {
        "id": "LCNVL9hVWb0i",
        "colab": {
          "base_uri": "https://localhost:8080/"
        },
        "outputId": "9a4bd450-cc93-4818-eafa-ed13191ddd58"
      },
      "source": [
        "palabras = []\n",
        "\n",
        "for line in contenido:\n",
        "    palabras_linea = line.split(' ') # Separamos por espacios\n",
        "    for word in palabras_linea:   # por cada \"string\" separado por espacios\n",
        "        palabras.append(word)\n",
        "\n",
        "print(palabras)\n",
        "print(f\"La cantidad de palabras es {len(palabras)}\")"
      ],
      "execution_count": null,
      "outputs": [
        {
          "output_type": "stream",
          "text": [
            "['Inflación', 'en', 'Estados', 'Unidos:', 'subió', 'muy', 'fuerte', 'en', 'abril', 'y', 'la', 'estimación', 'anual', 'trepó', 'al', 'mayor', 'valor', 'en', '14', 'años\\n', '\\n', 'FINANZAS', '12', 'Mayo', '2021', '-', '10:50\\n', '\\n', 'El', 'Índice', 'de', 'Precios', 'al', 'Consumidor', '(IPC)', 'de', 'Estados', 'Unidos', 'trepó', '0,8%', 'en', 'abril', 'y', 'la', 'inflación', 'anual', 'escaló', 'de', '3,6%', 'a', '4,2%.', 'El', 'IPC', 'núcleo', 'tuvo', 'el', 'alza', 'mensual', 'más', 'alta', 'desde', '1982.\\n', '\\n', 'La', 'Inflación', 'en', 'Estados', 'Unidos', 'creció', '0,8%', 'en', 'abril', 'y', 'la', 'estimación', 'anualizada', 'trepó', 'de', '3,6%', 'a', '4,2%,', 'el', 'mayor', 'aumento', 'en', 'los', 'últimos', 'casi', '14', 'años,', 'y', 'la', 'segunda', 'más', 'alta', 'desde', 'la', 'época', 'del', 'fin', 'de', 'la', 'Guerra', 'Fría.', 'El', 'dato', 'arrastró', 'a', 'terreno', 'negativo', 'a', 'los', 'mercados', 'internacionales', 'y', 'generó', 'expectativa', 'de', 'otra', 'suba', 'de', 'tasas', 'del', 'Tesoro', 'estadounidense.\\n', '\\n', 'Según', 'los', 'datos', 'del', 'Departamento', 'de', 'Trabajo', 'estadounidense,', 'este', 'incremento', 'de', 'precios', 'en', 'medio', 'de', 'la', 'pandemia', 'representa', 'el', 'mayor', 'aumento', 'interanual', 'desde', '2008,', 'con', 'el', 'estallido', 'económico', 'de', 'las', 'hipotecas', 'hipotecas', 'subprime,', 'que', 'también', 'puso', 'en', 'vilo', 'a', 'la', 'economía', 'mundial.\\n', '\\n', 'En', 'comparación', 'con', 'marzo', 'pasado,', 'el', 'índice', 'de', 'precios', 'al', 'consumidor', 'subió', 'un', '0,8%', 'en', 'abril,', 'muy', 'por', 'encima', 'de', 'las', 'expectativas', 'e', 'impulsado', 'por', 'aumentos', 'generalizados', 'de', 'precios,', 'incluidos', 'de', 'los', 'vehículos', 'usados', 'y', 'los', 'alimentos,', 'según', 'el', 'informe', 'oficial.\\n', '\\n', 'Además,', 'el', 'Índice', 'de', 'Precios', 'al', 'Consumidor', '(IPC)', 'núcleo', 'tuvo', 'el', 'alza', 'mensual', 'más', 'alta', 'desde', '1982.\\n', '\\n', 'Con', 'este', 'dato', 'los', 'principales', 'índices', 'de', 'Wall', 'Street', 'abrieron', 'en', 'baja,', 'ya', 'que', 'se', 'reavivó', 'la', 'preocupación', 'por', 'un', 'aumento', 'de', 'tasas', 'de', 'interés', 'de', 'la', 'Reserva', 'Federal', 'antes', 'de', 'lo', 'esperado', 'para', 'combatir', 'un', 'eventual', 'periodo', 'de', 'fuertes', 'alzas', 'de', 'precios.', 'Las', 'tasas', 'respondieron', 'de', 'inmediato', 'con', 'una', 'suba', 'del', '5%', 'en', 'los', 'bonos', 'del', 'Tesoro', 'a', '5', 'años.\\n', '\\n', 'En', 'los', 'primeros', 'minutos', 'de', 'la', 'jornada,', 'el', 'promedio', 'industrial', 'Dow', 'Jones', 'pierde', '0,18%', 'a', '34.206,40', 'unidades;', 'mientras', 'que', 'el', 'índice', 'S&P', '500', 'cedía', '0,52%', 'a', '4.130,55', 'unidades;', 'y', 'el', 'índice', 'compuesto', 'Nasdaq', 'retrocede', '1,30%', 'a', '13.215,49', 'unidades.\\n', '\\n', 'La', 'inflación', 'anualizada', 'de', '4,2%', 'es', 'similar', 'a', 'la', 'de', '2008', 'y', 'apenas', 'unas', 'décimas', 'por', 'debajo', 'de', 'los', 'registros', 'de', 'la', 'época', 'del', 'fin', 'de', 'la', 'Guerra', 'Fría', 'con', 'Rusia.', 'Según', 'los', 'datos', 'oficiales', 'de', 'EEUU,', 'tras', 'la', 'caída', 'del', 'Muro', 'de', 'Berlín', 'en', '1989', 'la', 'inflación', 'anual', 'de', 'Estados', 'Unidos', 'fue', 'de', '5,1%,', 'en', '1990', 'fue', '4,9%', 'y', 'en', '1991', 'alcanzó', 'nuevamente', '5,1%.\\n', '\\n', 'La', 'aceleración', 'de', 'la', 'marca', 'interanual', 'de', 'la', 'inflación,', 'que', 'en', 'marzo', 'había', 'alcanzado', 'el', '2,6%,', 'se', 'explica', 'en', 'parte', 'por', 'la', 'comparación', 'con', 'los', 'precios', 'hace', 'un', 'año,', 'especialmente', 'el', 'petróleo,', 'afectados', 'por', 'la', 'pandemia.', 'La', 'suba', 'mensual', 'se', 'debió,', 'a', 'diferencia', 'de', 'meses', 'anteriores,', 'a', 'los', 'incrementos', 'de', 'bienes', 'y', 'servicios', 'y', 'no', 'a', 'los', 'de', 'los', 'combustibles.\\n', '\\n', 'Entre', 'las', 'alzas,', 'la', 'de', 'los', 'autos', 'usados,', 'muy', 'populares', 'desde', 'el', 'inicio', 'de', 'la', 'pandemia', 'que', 'ha', 'alejado', 'a', 'muchos', 'del', 'centro', 'de', 'las', 'ciudades,', 'continuó', 'subiendo,', 'registrando', 'con', 'respecto', 'a', 'marzo', 'el', 'mayor', 'incremento', 'desde', 'que', 'se', 'empezaron', 'a', 'registrar', 'estos', 'datos', 'en', '1953.', 'Además,', 'subieron', 'las', 'tarifas', 'de', 'hotel,', 'boletos', 'de', 'avión,', 'recreación,', 'seguro', 'de', 'automóvil', 'y', 'mobiliario,', 'detalló', 'el', 'Departamento', 'de', 'Trabajo', 'de', 'Estados', 'Unidos.\\n', '\\n', 'Como', 'resultado,', 'excluyendo', 'los', 'precios', 'volátiles', 'de', 'la', 'energía', 'y', 'los', 'alimentos,', 'la', 'denominada', 'inflación', 'subyacente', 'fue', 'de', '0,9%', 'en', 'un', 'mes,', 'lo', 'que', 'representa', 'el', 'mayor', 'aumento', 'desde', 'abril', 'de', '1982.', 'Y', 'del', '3%', 'en', 'un', 'año.\\n', '\\n', 'Otro', 'índice,', 'el', 'PCE,', 'que', 'es', 'utilizado', 'por', 'la', 'Reserva', 'Federal', 'de', 'Estados', 'Unidos', '(Fed),', 'había', 'reportado', 'un', 'aumento', 'del', '2,3%', 'en', 'marzo', 'en', 'un', 'año,', 'por', 'encima', 'del', 'objetivo', 'del', '2%', 'de', 'la', 'Fed.\\n', '\\n', 'La', 'pregunta', 'que', 'ahora', 'enfrentan', 'los', 'mercados', 'y', 'los', 'economistas', 'es', 'si', 'esta', 'subida', 'de', 'precios,', 'que', 'probablemente', 'se', 'acelerará', 'en', 'los', 'próximos', 'meses,', 'durará', 'o', 'se', 'estabilizará.', 'Casi', 'todas', 'las', 'empresas', 'han', 'informado,', 'al', 'publicar', 'sus', 'resultados', 'trimestrales,', 'aumentos', 'de', 'precios,', 'reales', 'o', 'futuros.']\n",
            "La cantidad de palabras es 647\n"
          ],
          "name": "stdout"
        }
      ]
    },
    {
      "cell_type": "markdown",
      "metadata": {
        "id": "idd9lVBFYInK"
      },
      "source": [
        "Si prestamos atencion, vamos a notar que aparecen algunos ***carácteres no deseados*** entre las palabras (como `\\n` ó `:`). Cuando realizamos la lectura manual de un archivo de manera \"personalizada\", es común que ocurran esta clase de \"problemas\", los cuales debemos resolver con algunos ajustes a nuestro programa.\n",
        "\n",
        "En este caso los carácteres no deseados que podemos observar a simple vista son: `\\n` `:` `,` y `.`. Los caracteres que tienen la barra invertida *`\\`* son llamados '*secuencias de escape*' o '*escape characters*' y se utilizan para definir ciertos ***caracteres especiales*** dentro de strings. Por ejemplo **`\\n`** es el caracter que corresponde a una nueva línea, o lo que es lo mismo: lo que se almacena en memoria cuando se presiona la tecla **`Enter`**.\n",
        "\n",
        "Para filtrar estos caracteres especiales, usaremos de método de strings [**`replace()`**](https://www.geeksforgeeks.org/python-string-replace/) - ([*documentación de Python*](https://docs.python.org/3/library/stdtypes.html#str.replace)):\n",
        "\n"
      ]
    },
    {
      "cell_type": "code",
      "metadata": {
        "id": "Q_mvfMWgYK3z",
        "colab": {
          "base_uri": "https://localhost:8080/"
        },
        "outputId": "c15eb57b-521d-43f4-b648-f416dca9a9ae"
      },
      "source": [
        "palabras = []\n",
        "\n",
        "for line in contenido: # por cada línea en el contenido\n",
        "    \n",
        "    # eliminamos los distintos carácteres no deseados uno por uno, reemplazando\n",
        "    # por un caracter vacío ''.\n",
        "    line = line.replace('\\n','')\n",
        "    line = line.replace(':','')\n",
        "    line = line.replace(',','')\n",
        "    line = line.replace('.','')\n",
        "    \n",
        "    palabras_linea = line.split(' ') # separamos por espacios \n",
        "    \n",
        "    for w in palabras_linea: # por cada \"string\" separado por espacios\n",
        "        if w != '':\n",
        "            palabras.append(w) # solamente agregamos la palabra a la lista\n",
        "                                     # si esta palabra no es vacía.\n",
        "\n",
        "print(palabras)"
      ],
      "execution_count": null,
      "outputs": [
        {
          "output_type": "stream",
          "text": [
            "['Inflación', 'en', 'Estados', 'Unidos', 'subió', 'muy', 'fuerte', 'en', 'abril', 'y', 'la', 'estimación', 'anual', 'trepó', 'al', 'mayor', 'valor', 'en', '14', 'años', 'FINANZAS', '12', 'Mayo', '2021', '-', '1050', 'El', 'Índice', 'de', 'Precios', 'al', 'Consumidor', '(IPC)', 'de', 'Estados', 'Unidos', 'trepó', '08%', 'en', 'abril', 'y', 'la', 'inflación', 'anual', 'escaló', 'de', '36%', 'a', '42%', 'El', 'IPC', 'núcleo', 'tuvo', 'el', 'alza', 'mensual', 'más', 'alta', 'desde', '1982', 'La', 'Inflación', 'en', 'Estados', 'Unidos', 'creció', '08%', 'en', 'abril', 'y', 'la', 'estimación', 'anualizada', 'trepó', 'de', '36%', 'a', '42%', 'el', 'mayor', 'aumento', 'en', 'los', 'últimos', 'casi', '14', 'años', 'y', 'la', 'segunda', 'más', 'alta', 'desde', 'la', 'época', 'del', 'fin', 'de', 'la', 'Guerra', 'Fría', 'El', 'dato', 'arrastró', 'a', 'terreno', 'negativo', 'a', 'los', 'mercados', 'internacionales', 'y', 'generó', 'expectativa', 'de', 'otra', 'suba', 'de', 'tasas', 'del', 'Tesoro', 'estadounidense', 'Según', 'los', 'datos', 'del', 'Departamento', 'de', 'Trabajo', 'estadounidense', 'este', 'incremento', 'de', 'precios', 'en', 'medio', 'de', 'la', 'pandemia', 'representa', 'el', 'mayor', 'aumento', 'interanual', 'desde', '2008', 'con', 'el', 'estallido', 'económico', 'de', 'las', 'hipotecas', 'hipotecas', 'subprime', 'que', 'también', 'puso', 'en', 'vilo', 'a', 'la', 'economía', 'mundial', 'En', 'comparación', 'con', 'marzo', 'pasado', 'el', 'índice', 'de', 'precios', 'al', 'consumidor', 'subió', 'un', '08%', 'en', 'abril', 'muy', 'por', 'encima', 'de', 'las', 'expectativas', 'e', 'impulsado', 'por', 'aumentos', 'generalizados', 'de', 'precios', 'incluidos', 'de', 'los', 'vehículos', 'usados', 'y', 'los', 'alimentos', 'según', 'el', 'informe', 'oficial', 'Además', 'el', 'Índice', 'de', 'Precios', 'al', 'Consumidor', '(IPC)', 'núcleo', 'tuvo', 'el', 'alza', 'mensual', 'más', 'alta', 'desde', '1982', 'Con', 'este', 'dato', 'los', 'principales', 'índices', 'de', 'Wall', 'Street', 'abrieron', 'en', 'baja', 'ya', 'que', 'se', 'reavivó', 'la', 'preocupación', 'por', 'un', 'aumento', 'de', 'tasas', 'de', 'interés', 'de', 'la', 'Reserva', 'Federal', 'antes', 'de', 'lo', 'esperado', 'para', 'combatir', 'un', 'eventual', 'periodo', 'de', 'fuertes', 'alzas', 'de', 'precios', 'Las', 'tasas', 'respondieron', 'de', 'inmediato', 'con', 'una', 'suba', 'del', '5%', 'en', 'los', 'bonos', 'del', 'Tesoro', 'a', '5', 'años', 'En', 'los', 'primeros', 'minutos', 'de', 'la', 'jornada', 'el', 'promedio', 'industrial', 'Dow', 'Jones', 'pierde', '018%', 'a', '3420640', 'unidades;', 'mientras', 'que', 'el', 'índice', 'S&P', '500', 'cedía', '052%', 'a', '413055', 'unidades;', 'y', 'el', 'índice', 'compuesto', 'Nasdaq', 'retrocede', '130%', 'a', '1321549', 'unidades', 'La', 'inflación', 'anualizada', 'de', '42%', 'es', 'similar', 'a', 'la', 'de', '2008', 'y', 'apenas', 'unas', 'décimas', 'por', 'debajo', 'de', 'los', 'registros', 'de', 'la', 'época', 'del', 'fin', 'de', 'la', 'Guerra', 'Fría', 'con', 'Rusia', 'Según', 'los', 'datos', 'oficiales', 'de', 'EEUU', 'tras', 'la', 'caída', 'del', 'Muro', 'de', 'Berlín', 'en', '1989', 'la', 'inflación', 'anual', 'de', 'Estados', 'Unidos', 'fue', 'de', '51%', 'en', '1990', 'fue', '49%', 'y', 'en', '1991', 'alcanzó', 'nuevamente', '51%', 'La', 'aceleración', 'de', 'la', 'marca', 'interanual', 'de', 'la', 'inflación', 'que', 'en', 'marzo', 'había', 'alcanzado', 'el', '26%', 'se', 'explica', 'en', 'parte', 'por', 'la', 'comparación', 'con', 'los', 'precios', 'hace', 'un', 'año', 'especialmente', 'el', 'petróleo', 'afectados', 'por', 'la', 'pandemia', 'La', 'suba', 'mensual', 'se', 'debió', 'a', 'diferencia', 'de', 'meses', 'anteriores', 'a', 'los', 'incrementos', 'de', 'bienes', 'y', 'servicios', 'y', 'no', 'a', 'los', 'de', 'los', 'combustibles', 'Entre', 'las', 'alzas', 'la', 'de', 'los', 'autos', 'usados', 'muy', 'populares', 'desde', 'el', 'inicio', 'de', 'la', 'pandemia', 'que', 'ha', 'alejado', 'a', 'muchos', 'del', 'centro', 'de', 'las', 'ciudades', 'continuó', 'subiendo', 'registrando', 'con', 'respecto', 'a', 'marzo', 'el', 'mayor', 'incremento', 'desde', 'que', 'se', 'empezaron', 'a', 'registrar', 'estos', 'datos', 'en', '1953', 'Además', 'subieron', 'las', 'tarifas', 'de', 'hotel', 'boletos', 'de', 'avión', 'recreación', 'seguro', 'de', 'automóvil', 'y', 'mobiliario', 'detalló', 'el', 'Departamento', 'de', 'Trabajo', 'de', 'Estados', 'Unidos', 'Como', 'resultado', 'excluyendo', 'los', 'precios', 'volátiles', 'de', 'la', 'energía', 'y', 'los', 'alimentos', 'la', 'denominada', 'inflación', 'subyacente', 'fue', 'de', '09%', 'en', 'un', 'mes', 'lo', 'que', 'representa', 'el', 'mayor', 'aumento', 'desde', 'abril', 'de', '1982', 'Y', 'del', '3%', 'en', 'un', 'año', 'Otro', 'índice', 'el', 'PCE', 'que', 'es', 'utilizado', 'por', 'la', 'Reserva', 'Federal', 'de', 'Estados', 'Unidos', '(Fed)', 'había', 'reportado', 'un', 'aumento', 'del', '23%', 'en', 'marzo', 'en', 'un', 'año', 'por', 'encima', 'del', 'objetivo', 'del', '2%', 'de', 'la', 'Fed', 'La', 'pregunta', 'que', 'ahora', 'enfrentan', 'los', 'mercados', 'y', 'los', 'economistas', 'es', 'si', 'esta', 'subida', 'de', 'precios', 'que', 'probablemente', 'se', 'acelerará', 'en', 'los', 'próximos', 'meses', 'durará', 'o', 'se', 'estabilizará', 'Casi', 'todas', 'las', 'empresas', 'han', 'informado', 'al', 'publicar', 'sus', 'resultados', 'trimestrales', 'aumentos', 'de', 'precios', 'reales', 'o', 'futuros']\n"
          ],
          "name": "stdout"
        }
      ]
    },
    {
      "cell_type": "markdown",
      "metadata": {
        "id": "RIyBwATppoN3"
      },
      "source": [
        "Como podrán observar, entre las líneas 7 y 10 repetimos el mismo código. Podríamos simplificar esto utilizando una lista de caracteres indeseados y recorrer esa lista para ir remplazándolos.\n",
        "\n",
        "Además, una idea muy útil es pasar todo el texto a minúsculas para poder analizarlo de una manera más simple y homogénea. Por ejemplo, si quiero buscar una palabra, no voy a tener que considerar la posibilidad de que la primera letra sea mayúscula y el resto no.\n",
        "\n",
        "Veamos cómo hacemos que nuestro programa sea más sofisticado:"
      ]
    },
    {
      "cell_type": "code",
      "metadata": {
        "id": "dIXbRM7Epnrs",
        "colab": {
          "base_uri": "https://localhost:8080/"
        },
        "outputId": "638e5825-4885-47a9-a548-e0e719ecacda"
      },
      "source": [
        "palabras = []\n",
        "no_deseados = ['\\n', ':', ',', '.', '-']\n",
        "\n",
        "for line in contenido: # por cada línea en el contenido\n",
        "    \n",
        "    # eliminamos los distintos carácteres no deseados recorriendo la lista\n",
        "    # definida previamente, reemplazandolos por un caracter vacío ''.\n",
        "    for caracter in no_deseados:\n",
        "        line = line.replace(caracter,'')\n",
        "    \n",
        "    palabras_linea = line.split(' ') # separamos por espacios \n",
        "    \n",
        "    for w in palabras_linea: # por cada \"string\" separado por espacios\n",
        "        if w != '':\n",
        "            palabras.append(w.lower()) # convertimos todo a minúsculas\n",
        "\n",
        "print(palabras)"
      ],
      "execution_count": null,
      "outputs": [
        {
          "output_type": "stream",
          "text": [
            "['inflación', 'en', 'estados', 'unidos', 'subió', 'muy', 'fuerte', 'en', 'abril', 'y', 'la', 'estimación', 'anual', 'trepó', 'al', 'mayor', 'valor', 'en', '14', 'años', 'finanzas', '12', 'mayo', '2021', '1050', 'el', 'índice', 'de', 'precios', 'al', 'consumidor', '(ipc)', 'de', 'estados', 'unidos', 'trepó', '08%', 'en', 'abril', 'y', 'la', 'inflación', 'anual', 'escaló', 'de', '36%', 'a', '42%', 'el', 'ipc', 'núcleo', 'tuvo', 'el', 'alza', 'mensual', 'más', 'alta', 'desde', '1982', 'la', 'inflación', 'en', 'estados', 'unidos', 'creció', '08%', 'en', 'abril', 'y', 'la', 'estimación', 'anualizada', 'trepó', 'de', '36%', 'a', '42%', 'el', 'mayor', 'aumento', 'en', 'los', 'últimos', 'casi', '14', 'años', 'y', 'la', 'segunda', 'más', 'alta', 'desde', 'la', 'época', 'del', 'fin', 'de', 'la', 'guerra', 'fría', 'el', 'dato', 'arrastró', 'a', 'terreno', 'negativo', 'a', 'los', 'mercados', 'internacionales', 'y', 'generó', 'expectativa', 'de', 'otra', 'suba', 'de', 'tasas', 'del', 'tesoro', 'estadounidense', 'según', 'los', 'datos', 'del', 'departamento', 'de', 'trabajo', 'estadounidense', 'este', 'incremento', 'de', 'precios', 'en', 'medio', 'de', 'la', 'pandemia', 'representa', 'el', 'mayor', 'aumento', 'interanual', 'desde', '2008', 'con', 'el', 'estallido', 'económico', 'de', 'las', 'hipotecas', 'hipotecas', 'subprime', 'que', 'también', 'puso', 'en', 'vilo', 'a', 'la', 'economía', 'mundial', 'en', 'comparación', 'con', 'marzo', 'pasado', 'el', 'índice', 'de', 'precios', 'al', 'consumidor', 'subió', 'un', '08%', 'en', 'abril', 'muy', 'por', 'encima', 'de', 'las', 'expectativas', 'e', 'impulsado', 'por', 'aumentos', 'generalizados', 'de', 'precios', 'incluidos', 'de', 'los', 'vehículos', 'usados', 'y', 'los', 'alimentos', 'según', 'el', 'informe', 'oficial', 'además', 'el', 'índice', 'de', 'precios', 'al', 'consumidor', '(ipc)', 'núcleo', 'tuvo', 'el', 'alza', 'mensual', 'más', 'alta', 'desde', '1982', 'con', 'este', 'dato', 'los', 'principales', 'índices', 'de', 'wall', 'street', 'abrieron', 'en', 'baja', 'ya', 'que', 'se', 'reavivó', 'la', 'preocupación', 'por', 'un', 'aumento', 'de', 'tasas', 'de', 'interés', 'de', 'la', 'reserva', 'federal', 'antes', 'de', 'lo', 'esperado', 'para', 'combatir', 'un', 'eventual', 'periodo', 'de', 'fuertes', 'alzas', 'de', 'precios', 'las', 'tasas', 'respondieron', 'de', 'inmediato', 'con', 'una', 'suba', 'del', '5%', 'en', 'los', 'bonos', 'del', 'tesoro', 'a', '5', 'años', 'en', 'los', 'primeros', 'minutos', 'de', 'la', 'jornada', 'el', 'promedio', 'industrial', 'dow', 'jones', 'pierde', '018%', 'a', '3420640', 'unidades;', 'mientras', 'que', 'el', 'índice', 's&p', '500', 'cedía', '052%', 'a', '413055', 'unidades;', 'y', 'el', 'índice', 'compuesto', 'nasdaq', 'retrocede', '130%', 'a', '1321549', 'unidades', 'la', 'inflación', 'anualizada', 'de', '42%', 'es', 'similar', 'a', 'la', 'de', '2008', 'y', 'apenas', 'unas', 'décimas', 'por', 'debajo', 'de', 'los', 'registros', 'de', 'la', 'época', 'del', 'fin', 'de', 'la', 'guerra', 'fría', 'con', 'rusia', 'según', 'los', 'datos', 'oficiales', 'de', 'eeuu', 'tras', 'la', 'caída', 'del', 'muro', 'de', 'berlín', 'en', '1989', 'la', 'inflación', 'anual', 'de', 'estados', 'unidos', 'fue', 'de', '51%', 'en', '1990', 'fue', '49%', 'y', 'en', '1991', 'alcanzó', 'nuevamente', '51%', 'la', 'aceleración', 'de', 'la', 'marca', 'interanual', 'de', 'la', 'inflación', 'que', 'en', 'marzo', 'había', 'alcanzado', 'el', '26%', 'se', 'explica', 'en', 'parte', 'por', 'la', 'comparación', 'con', 'los', 'precios', 'hace', 'un', 'año', 'especialmente', 'el', 'petróleo', 'afectados', 'por', 'la', 'pandemia', 'la', 'suba', 'mensual', 'se', 'debió', 'a', 'diferencia', 'de', 'meses', 'anteriores', 'a', 'los', 'incrementos', 'de', 'bienes', 'y', 'servicios', 'y', 'no', 'a', 'los', 'de', 'los', 'combustibles', 'entre', 'las', 'alzas', 'la', 'de', 'los', 'autos', 'usados', 'muy', 'populares', 'desde', 'el', 'inicio', 'de', 'la', 'pandemia', 'que', 'ha', 'alejado', 'a', 'muchos', 'del', 'centro', 'de', 'las', 'ciudades', 'continuó', 'subiendo', 'registrando', 'con', 'respecto', 'a', 'marzo', 'el', 'mayor', 'incremento', 'desde', 'que', 'se', 'empezaron', 'a', 'registrar', 'estos', 'datos', 'en', '1953', 'además', 'subieron', 'las', 'tarifas', 'de', 'hotel', 'boletos', 'de', 'avión', 'recreación', 'seguro', 'de', 'automóvil', 'y', 'mobiliario', 'detalló', 'el', 'departamento', 'de', 'trabajo', 'de', 'estados', 'unidos', 'como', 'resultado', 'excluyendo', 'los', 'precios', 'volátiles', 'de', 'la', 'energía', 'y', 'los', 'alimentos', 'la', 'denominada', 'inflación', 'subyacente', 'fue', 'de', '09%', 'en', 'un', 'mes', 'lo', 'que', 'representa', 'el', 'mayor', 'aumento', 'desde', 'abril', 'de', '1982', 'y', 'del', '3%', 'en', 'un', 'año', 'otro', 'índice', 'el', 'pce', 'que', 'es', 'utilizado', 'por', 'la', 'reserva', 'federal', 'de', 'estados', 'unidos', '(fed)', 'había', 'reportado', 'un', 'aumento', 'del', '23%', 'en', 'marzo', 'en', 'un', 'año', 'por', 'encima', 'del', 'objetivo', 'del', '2%', 'de', 'la', 'fed', 'la', 'pregunta', 'que', 'ahora', 'enfrentan', 'los', 'mercados', 'y', 'los', 'economistas', 'es', 'si', 'esta', 'subida', 'de', 'precios', 'que', 'probablemente', 'se', 'acelerará', 'en', 'los', 'próximos', 'meses', 'durará', 'o', 'se', 'estabilizará', 'casi', 'todas', 'las', 'empresas', 'han', 'informado', 'al', 'publicar', 'sus', 'resultados', 'trimestrales', 'aumentos', 'de', 'precios', 'reales', 'o', 'futuros']\n"
          ],
          "name": "stdout"
        }
      ]
    },
    {
      "cell_type": "markdown",
      "metadata": {
        "id": "BsOiRz0V5RrZ"
      },
      "source": [
        "## **Ejercicio 1:** Archivos de texto\n",
        "\n",
        "1. ¿Qué cantidad de palabras tiene el artículo? ¿Y qué cantidad de palabras distintas tiene el artículo?\n",
        "2. Encontrar la cantidad de ocurrencias de las palabras \"**inflación**\" e \"**índice**\" en el texto de la noticia.\n",
        "3. ¿Cuántas veces se menciona \"**precio**\" o \"**precios**\"?\n",
        "4. ¿Cuántas veces se repite la palabra más frecuente? ¿Cuál es esa palabra?"
      ]
    },
    {
      "cell_type": "code",
      "metadata": {
        "colab": {
          "base_uri": "https://localhost:8080/"
        },
        "id": "tjXkqxo8Shso",
        "outputId": "4e75afef-1d53-4c41-9755-ea21abd8f118"
      },
      "source": [
        "print(f\"Este artículo tiene en total {len(palabras)} palabras.\")\n",
        "print(f\"Este artículo tiene en total {len(set(palabras))} palabras diferentes.\")"
      ],
      "execution_count": null,
      "outputs": [
        {
          "output_type": "stream",
          "text": [
            "Este artículo tiene en total 632 palabras.\n",
            "Este artículo tiene en total 272 palabras diferentes.\n"
          ],
          "name": "stdout"
        }
      ]
    },
    {
      "cell_type": "code",
      "metadata": {
        "id": "5PtKWm7R24VS"
      },
      "source": [
        "# Ayudita\n",
        "frecuencia = {}\n",
        "\n",
        "for p in palabras:\n",
        "    frecuencia[p] = frecuencia.get(p, 0) + 1"
      ],
      "execution_count": null,
      "outputs": []
    },
    {
      "cell_type": "code",
      "metadata": {
        "id": "RXoQbvRFH5ug",
        "colab": {
          "base_uri": "https://localhost:8080/"
        },
        "outputId": "861f90e3-69d3-43be-dbda-1d650872dcae"
      },
      "source": [
        "print(frecuencia)"
      ],
      "execution_count": null,
      "outputs": [
        {
          "output_type": "stream",
          "text": [
            "{'inflación': 7, 'en': 25, 'estados': 6, 'unidos': 6, 'subió': 2, 'muy': 3, 'fuerte': 1, 'abril': 5, 'y': 15, 'la': 31, 'estimación': 2, 'anual': 3, 'trepó': 3, 'al': 5, 'mayor': 5, 'valor': 1, '14': 2, 'años': 3, 'finanzas': 1, '12': 1, 'mayo': 1, '2021': 1, '1050': 1, 'el': 21, 'índice': 6, 'de': 54, 'precios': 10, 'consumidor': 3, '(ipc)': 2, '08%': 3, 'escaló': 1, '36%': 2, 'a': 16, '42%': 3, 'ipc': 1, 'núcleo': 2, 'tuvo': 2, 'alza': 2, 'mensual': 3, 'más': 3, 'alta': 3, 'desde': 7, '1982': 3, 'creció': 1, 'anualizada': 2, 'aumento': 5, 'los': 20, 'últimos': 1, 'casi': 2, 'segunda': 1, 'época': 2, 'del': 12, 'fin': 2, 'guerra': 2, 'fría': 2, 'dato': 2, 'arrastró': 1, 'terreno': 1, 'negativo': 1, 'mercados': 2, 'internacionales': 1, 'generó': 1, 'expectativa': 1, 'otra': 1, 'suba': 3, 'tasas': 3, 'tesoro': 2, 'estadounidense': 2, 'según': 3, 'datos': 3, 'departamento': 2, 'trabajo': 2, 'este': 2, 'incremento': 2, 'medio': 1, 'pandemia': 3, 'representa': 2, 'interanual': 2, '2008': 2, 'con': 7, 'estallido': 1, 'económico': 1, 'las': 7, 'hipotecas': 2, 'subprime': 1, 'que': 10, 'también': 1, 'puso': 1, 'vilo': 1, 'economía': 1, 'mundial': 1, 'comparación': 2, 'marzo': 4, 'pasado': 1, 'un': 8, 'por': 8, 'encima': 2, 'expectativas': 1, 'e': 1, 'impulsado': 1, 'aumentos': 2, 'generalizados': 1, 'incluidos': 1, 'vehículos': 1, 'usados': 2, 'alimentos': 2, 'informe': 1, 'oficial': 1, 'además': 2, 'principales': 1, 'índices': 1, 'wall': 1, 'street': 1, 'abrieron': 1, 'baja': 1, 'ya': 1, 'se': 6, 'reavivó': 1, 'preocupación': 1, 'interés': 1, 'reserva': 2, 'federal': 2, 'antes': 1, 'lo': 2, 'esperado': 1, 'para': 1, 'combatir': 1, 'eventual': 1, 'periodo': 1, 'fuertes': 1, 'alzas': 2, 'respondieron': 1, 'inmediato': 1, 'una': 1, '5%': 1, 'bonos': 1, '5': 1, 'primeros': 1, 'minutos': 1, 'jornada': 1, 'promedio': 1, 'industrial': 1, 'dow': 1, 'jones': 1, 'pierde': 1, '018%': 1, '3420640': 1, 'unidades;': 2, 'mientras': 1, 's&p': 1, '500': 1, 'cedía': 1, '052%': 1, '413055': 1, 'compuesto': 1, 'nasdaq': 1, 'retrocede': 1, '130%': 1, '1321549': 1, 'unidades': 1, 'es': 3, 'similar': 1, 'apenas': 1, 'unas': 1, 'décimas': 1, 'debajo': 1, 'registros': 1, 'rusia': 1, 'oficiales': 1, 'eeuu': 1, 'tras': 1, 'caída': 1, 'muro': 1, 'berlín': 1, '1989': 1, 'fue': 3, '51%': 2, '1990': 1, '49%': 1, '1991': 1, 'alcanzó': 1, 'nuevamente': 1, 'aceleración': 1, 'marca': 1, 'había': 2, 'alcanzado': 1, '26%': 1, 'explica': 1, 'parte': 1, 'hace': 1, 'año': 3, 'especialmente': 1, 'petróleo': 1, 'afectados': 1, 'debió': 1, 'diferencia': 1, 'meses': 2, 'anteriores': 1, 'incrementos': 1, 'bienes': 1, 'servicios': 1, 'no': 1, 'combustibles': 1, 'entre': 1, 'autos': 1, 'populares': 1, 'inicio': 1, 'ha': 1, 'alejado': 1, 'muchos': 1, 'centro': 1, 'ciudades': 1, 'continuó': 1, 'subiendo': 1, 'registrando': 1, 'respecto': 1, 'empezaron': 1, 'registrar': 1, 'estos': 1, '1953': 1, 'subieron': 1, 'tarifas': 1, 'hotel': 1, 'boletos': 1, 'avión': 1, 'recreación': 1, 'seguro': 1, 'automóvil': 1, 'mobiliario': 1, 'detalló': 1, 'como': 1, 'resultado': 1, 'excluyendo': 1, 'volátiles': 1, 'energía': 1, 'denominada': 1, 'subyacente': 1, '09%': 1, 'mes': 1, '3%': 1, 'otro': 1, 'pce': 1, 'utilizado': 1, '(fed)': 1, 'reportado': 1, '23%': 1, 'objetivo': 1, '2%': 1, 'fed': 1, 'pregunta': 1, 'ahora': 1, 'enfrentan': 1, 'economistas': 1, 'si': 1, 'esta': 1, 'subida': 1, 'probablemente': 1, 'acelerará': 1, 'próximos': 1, 'durará': 1, 'o': 2, 'estabilizará': 1, 'todas': 1, 'empresas': 1, 'han': 1, 'informado': 1, 'publicar': 1, 'sus': 1, 'resultados': 1, 'trimestrales': 1, 'reales': 1, 'futuros': 1}\n"
          ],
          "name": "stdout"
        }
      ]
    },
    {
      "cell_type": "code",
      "metadata": {
        "colab": {
          "base_uri": "https://localhost:8080/"
        },
        "id": "L-BjhGw0T5_t",
        "outputId": "fea48791-3638-4514-e28d-d7305bc7d8bb"
      },
      "source": [
        "len(frecuencia)"
      ],
      "execution_count": null,
      "outputs": [
        {
          "output_type": "execute_result",
          "data": {
            "text/plain": [
              "272"
            ]
          },
          "metadata": {
            "tags": []
          },
          "execution_count": 51
        }
      ]
    },
    {
      "cell_type": "code",
      "metadata": {
        "colab": {
          "base_uri": "https://localhost:8080/"
        },
        "id": "wXFLXBf5UBg7",
        "outputId": "038d6845-32bb-4139-f0f1-c00046d292fe"
      },
      "source": [
        "print(f\"La palabra 'inflación' se repite {frecuencia['inflación']} veces.\")"
      ],
      "execution_count": null,
      "outputs": [
        {
          "output_type": "stream",
          "text": [
            "La palabra 'inflación' se repite 7 veces.\n"
          ],
          "name": "stdout"
        }
      ]
    },
    {
      "cell_type": "markdown",
      "metadata": {
        "id": "FKY4waIfk4wx"
      },
      "source": [
        "# Importación y Exportación de Datos Utilizando Pandas (Datos Estructurados)\n",
        "\n",
        "Lo cierto es que, en la mayoría de los casos de uso que verán, lo más común será encontrarse con archivos con formato ***.csv*** o ***.xlsx***, que contienen datos con cierta estructura.\n",
        "\n",
        "Para importar datos de este tipo, existe una librería que nos facilitará mucho la tarea, ya que está pensada y diseñada para el manejo de datos. [**Pandas**](https://pandas.pydata.org/docs/reference/index.html#api) es un paquete de manipulación de datos de alto nivel y que está construída sobre **Numpy** (podemos pensarla como una capa superior).\n",
        "\n",
        "En esta sección aprenderemos cómo importar datos a nuestro programa y también cómo podemos guardarlos nuevamente."
      ]
    },
    {
      "cell_type": "markdown",
      "metadata": {
        "id": "NfZfghr7fVUO"
      },
      "source": [
        "## Importación de Datos\n",
        "\n",
        "La función de Pandas que nos permite leer un csv es **`read_csv()`**, donde como argumento recibe la ubicación del archivo que queremos leer. Veamos un ejemplo, en el que guardamos los datos leidos en una variable `df`, utilizando los datos de muestra que tenemos en Colab:"
      ]
    },
    {
      "cell_type": "code",
      "metadata": {
        "id": "R_Wg-HgdtOLY"
      },
      "source": [
        "'/content/sample_data/california_housing_test.csv'"
      ],
      "execution_count": null,
      "outputs": []
    },
    {
      "cell_type": "code",
      "metadata": {
        "id": "ycNiD1lStWgm"
      },
      "source": [
        "import pandas as pd"
      ],
      "execution_count": null,
      "outputs": []
    },
    {
      "cell_type": "code",
      "metadata": {
        "id": "uBJs66F84ysS"
      },
      "source": [
        "df = pd.read_csv('/content/sample_data/california_housing_test.csv')"
      ],
      "execution_count": null,
      "outputs": []
    },
    {
      "cell_type": "markdown",
      "metadata": {
        "id": "5vllAvQ-cMrM"
      },
      "source": [
        "¡Parece que algo ejecutó! Veamos qué se almacenó en la variable **`df`**, explorando primero su tipo y luego el contenido."
      ]
    },
    {
      "cell_type": "code",
      "metadata": {
        "id": "RAHjE2QucvGF",
        "colab": {
          "base_uri": "https://localhost:8080/"
        },
        "outputId": "9466ee44-f7f0-4004-eaac-51e99403fde1"
      },
      "source": [
        "print('Tipo de df:', type(df), '\\n')\n",
        "print('Contenido de df:\\n', df)"
      ],
      "execution_count": null,
      "outputs": [
        {
          "output_type": "stream",
          "text": [
            "Tipo de df: <class 'pandas.core.frame.DataFrame'> \n",
            "\n",
            "Contenido de df:\n",
            "       longitude  latitude  ...  median_income  median_house_value\n",
            "0       -122.05     37.37  ...         6.6085            344700.0\n",
            "1       -118.30     34.26  ...         3.5990            176500.0\n",
            "2       -117.81     33.78  ...         5.7934            270500.0\n",
            "3       -118.36     33.82  ...         6.1359            330000.0\n",
            "4       -119.67     36.33  ...         2.9375             81700.0\n",
            "...         ...       ...  ...            ...                 ...\n",
            "2995    -119.86     34.42  ...         1.1790            225000.0\n",
            "2996    -118.14     34.06  ...         3.3906            237200.0\n",
            "2997    -119.70     36.30  ...         2.2895             62000.0\n",
            "2998    -117.12     34.10  ...         3.2708            162500.0\n",
            "2999    -119.63     34.42  ...         8.5608            500001.0\n",
            "\n",
            "[3000 rows x 9 columns]\n"
          ],
          "name": "stdout"
        }
      ]
    },
    {
      "cell_type": "markdown",
      "metadata": {
        "id": "9DdUuCkEdVeE"
      },
      "source": [
        "¡Logramos importar nuestro primer archivo csv! Exploremos un poco algunas propiedades como:\n",
        "- Cantidad de filas y columnas: para ello consultaremos el *atributo* **`shape`**.\n",
        "- Contenido de las primeras 10 filas: para ello utilizaremos el método **`head()`**."
      ]
    },
    {
      "cell_type": "code",
      "metadata": {
        "id": "_869UNiSeN5h",
        "colab": {
          "base_uri": "https://localhost:8080/"
        },
        "outputId": "3187673c-865d-4937-a1c9-50c741ec8a30"
      },
      "source": [
        "print('Cantidad de (filas, columnas) de df:', df.shape, '\\n')\n",
        "print('Contenido de las primeras 10 filas de df:\\n', df.head(10))"
      ],
      "execution_count": null,
      "outputs": [
        {
          "output_type": "stream",
          "text": [
            "Cantidad de (filas, columnas) de df: (3000, 9) \n",
            "\n",
            "Contenido de las primeras 10 filas de df:\n",
            "    longitude  latitude  ...  median_income  median_house_value\n",
            "0    -122.05     37.37  ...         6.6085            344700.0\n",
            "1    -118.30     34.26  ...         3.5990            176500.0\n",
            "2    -117.81     33.78  ...         5.7934            270500.0\n",
            "3    -118.36     33.82  ...         6.1359            330000.0\n",
            "4    -119.67     36.33  ...         2.9375             81700.0\n",
            "5    -119.56     36.51  ...         1.6635             67000.0\n",
            "6    -121.43     38.63  ...         1.6641             67000.0\n",
            "7    -120.65     35.48  ...         3.2250            166900.0\n",
            "8    -122.84     38.40  ...         3.6696            194400.0\n",
            "9    -118.02     34.08  ...         2.3333            164200.0\n",
            "\n",
            "[10 rows x 9 columns]\n"
          ],
          "name": "stdout"
        }
      ]
    },
    {
      "cell_type": "markdown",
      "metadata": {
        "id": "LCioTzaFeOl2"
      },
      "source": [
        "Probemos ahora qué ocurre cuando a la última sentencia de una celda ejecutable no le aplicamos la función print."
      ]
    },
    {
      "cell_type": "code",
      "metadata": {
        "id": "Q6itQozdedjv",
        "colab": {
          "base_uri": "https://localhost:8080/",
          "height": 343
        },
        "outputId": "8d2f64a3-9bf5-4d3b-8ccb-6052a171f23f"
      },
      "source": [
        "df.head(10)"
      ],
      "execution_count": null,
      "outputs": [
        {
          "output_type": "execute_result",
          "data": {
            "text/html": [
              "<div>\n",
              "<style scoped>\n",
              "    .dataframe tbody tr th:only-of-type {\n",
              "        vertical-align: middle;\n",
              "    }\n",
              "\n",
              "    .dataframe tbody tr th {\n",
              "        vertical-align: top;\n",
              "    }\n",
              "\n",
              "    .dataframe thead th {\n",
              "        text-align: right;\n",
              "    }\n",
              "</style>\n",
              "<table border=\"1\" class=\"dataframe\">\n",
              "  <thead>\n",
              "    <tr style=\"text-align: right;\">\n",
              "      <th></th>\n",
              "      <th>longitude</th>\n",
              "      <th>latitude</th>\n",
              "      <th>housing_median_age</th>\n",
              "      <th>total_rooms</th>\n",
              "      <th>total_bedrooms</th>\n",
              "      <th>population</th>\n",
              "      <th>households</th>\n",
              "      <th>median_income</th>\n",
              "      <th>median_house_value</th>\n",
              "    </tr>\n",
              "  </thead>\n",
              "  <tbody>\n",
              "    <tr>\n",
              "      <th>0</th>\n",
              "      <td>-122.05</td>\n",
              "      <td>37.37</td>\n",
              "      <td>27.0</td>\n",
              "      <td>3885.0</td>\n",
              "      <td>661.0</td>\n",
              "      <td>1537.0</td>\n",
              "      <td>606.0</td>\n",
              "      <td>6.6085</td>\n",
              "      <td>344700.0</td>\n",
              "    </tr>\n",
              "    <tr>\n",
              "      <th>1</th>\n",
              "      <td>-118.30</td>\n",
              "      <td>34.26</td>\n",
              "      <td>43.0</td>\n",
              "      <td>1510.0</td>\n",
              "      <td>310.0</td>\n",
              "      <td>809.0</td>\n",
              "      <td>277.0</td>\n",
              "      <td>3.5990</td>\n",
              "      <td>176500.0</td>\n",
              "    </tr>\n",
              "    <tr>\n",
              "      <th>2</th>\n",
              "      <td>-117.81</td>\n",
              "      <td>33.78</td>\n",
              "      <td>27.0</td>\n",
              "      <td>3589.0</td>\n",
              "      <td>507.0</td>\n",
              "      <td>1484.0</td>\n",
              "      <td>495.0</td>\n",
              "      <td>5.7934</td>\n",
              "      <td>270500.0</td>\n",
              "    </tr>\n",
              "    <tr>\n",
              "      <th>3</th>\n",
              "      <td>-118.36</td>\n",
              "      <td>33.82</td>\n",
              "      <td>28.0</td>\n",
              "      <td>67.0</td>\n",
              "      <td>15.0</td>\n",
              "      <td>49.0</td>\n",
              "      <td>11.0</td>\n",
              "      <td>6.1359</td>\n",
              "      <td>330000.0</td>\n",
              "    </tr>\n",
              "    <tr>\n",
              "      <th>4</th>\n",
              "      <td>-119.67</td>\n",
              "      <td>36.33</td>\n",
              "      <td>19.0</td>\n",
              "      <td>1241.0</td>\n",
              "      <td>244.0</td>\n",
              "      <td>850.0</td>\n",
              "      <td>237.0</td>\n",
              "      <td>2.9375</td>\n",
              "      <td>81700.0</td>\n",
              "    </tr>\n",
              "    <tr>\n",
              "      <th>5</th>\n",
              "      <td>-119.56</td>\n",
              "      <td>36.51</td>\n",
              "      <td>37.0</td>\n",
              "      <td>1018.0</td>\n",
              "      <td>213.0</td>\n",
              "      <td>663.0</td>\n",
              "      <td>204.0</td>\n",
              "      <td>1.6635</td>\n",
              "      <td>67000.0</td>\n",
              "    </tr>\n",
              "    <tr>\n",
              "      <th>6</th>\n",
              "      <td>-121.43</td>\n",
              "      <td>38.63</td>\n",
              "      <td>43.0</td>\n",
              "      <td>1009.0</td>\n",
              "      <td>225.0</td>\n",
              "      <td>604.0</td>\n",
              "      <td>218.0</td>\n",
              "      <td>1.6641</td>\n",
              "      <td>67000.0</td>\n",
              "    </tr>\n",
              "    <tr>\n",
              "      <th>7</th>\n",
              "      <td>-120.65</td>\n",
              "      <td>35.48</td>\n",
              "      <td>19.0</td>\n",
              "      <td>2310.0</td>\n",
              "      <td>471.0</td>\n",
              "      <td>1341.0</td>\n",
              "      <td>441.0</td>\n",
              "      <td>3.2250</td>\n",
              "      <td>166900.0</td>\n",
              "    </tr>\n",
              "    <tr>\n",
              "      <th>8</th>\n",
              "      <td>-122.84</td>\n",
              "      <td>38.40</td>\n",
              "      <td>15.0</td>\n",
              "      <td>3080.0</td>\n",
              "      <td>617.0</td>\n",
              "      <td>1446.0</td>\n",
              "      <td>599.0</td>\n",
              "      <td>3.6696</td>\n",
              "      <td>194400.0</td>\n",
              "    </tr>\n",
              "    <tr>\n",
              "      <th>9</th>\n",
              "      <td>-118.02</td>\n",
              "      <td>34.08</td>\n",
              "      <td>31.0</td>\n",
              "      <td>2402.0</td>\n",
              "      <td>632.0</td>\n",
              "      <td>2830.0</td>\n",
              "      <td>603.0</td>\n",
              "      <td>2.3333</td>\n",
              "      <td>164200.0</td>\n",
              "    </tr>\n",
              "  </tbody>\n",
              "</table>\n",
              "</div>"
            ],
            "text/plain": [
              "   longitude  latitude  ...  median_income  median_house_value\n",
              "0    -122.05     37.37  ...         6.6085            344700.0\n",
              "1    -118.30     34.26  ...         3.5990            176500.0\n",
              "2    -117.81     33.78  ...         5.7934            270500.0\n",
              "3    -118.36     33.82  ...         6.1359            330000.0\n",
              "4    -119.67     36.33  ...         2.9375             81700.0\n",
              "5    -119.56     36.51  ...         1.6635             67000.0\n",
              "6    -121.43     38.63  ...         1.6641             67000.0\n",
              "7    -120.65     35.48  ...         3.2250            166900.0\n",
              "8    -122.84     38.40  ...         3.6696            194400.0\n",
              "9    -118.02     34.08  ...         2.3333            164200.0\n",
              "\n",
              "[10 rows x 9 columns]"
            ]
          },
          "metadata": {
            "tags": []
          },
          "execution_count": 5
        }
      ]
    },
    {
      "cell_type": "markdown",
      "metadata": {
        "id": "SPU0dLgGeqbX"
      },
      "source": [
        "Mucho más amigable, verdad?"
      ]
    },
    {
      "cell_type": "markdown",
      "metadata": {
        "id": "xVKEj0W4fbdJ"
      },
      "source": [
        "## Exportación de Datos\n",
        "\n",
        "Supongamos ahora que necesitamos guardar en un nuevo archivo csv las 100 primeras líneas del archivo original. **Pandas** también tiene prevista esta tarea. Para esto, usaremos el método de Pandas **`to_csv()`**, que se aplica sobre un ***DataFrame*** y recibe como argumento el *path* donde se guardarán los datos.\n",
        "\n",
        "Veamos cómo aplicarlo:"
      ]
    },
    {
      "cell_type": "code",
      "metadata": {
        "colab": {
          "base_uri": "https://localhost:8080/"
        },
        "id": "22ttHbOnu1EU",
        "outputId": "6b35ac5e-13c1-4f6b-9afb-c0b11e2cffc0"
      },
      "source": [
        "datos_para_guardar = df.head(100)\n",
        "print(type(datos_para_guardar))\n",
        "print(datos_para_guardar.shape)"
      ],
      "execution_count": null,
      "outputs": [
        {
          "output_type": "stream",
          "text": [
            "<class 'pandas.core.frame.DataFrame'>\n",
            "(100, 9)\n"
          ],
          "name": "stdout"
        }
      ]
    },
    {
      "cell_type": "code",
      "metadata": {
        "id": "WXkP7kpNhDAc",
        "colab": {
          "base_uri": "https://localhost:8080/"
        },
        "outputId": "763cc263-5f77-4672-bdd3-045f1fbf67a6"
      },
      "source": [
        "datos_para_guardar.to_csv('/content/muestra_housing_prices.csv')\n",
        "print(\"Ya terminé de guardar!\")"
      ],
      "execution_count": null,
      "outputs": [
        {
          "output_type": "stream",
          "text": [
            "Ya terminé de guardar!\n"
          ],
          "name": "stdout"
        }
      ]
    },
    {
      "cell_type": "markdown",
      "metadata": {
        "id": "kuGXjB0L-z9p"
      },
      "source": [
        "# Ejercicios Integradores"
      ]
    },
    {
      "cell_type": "markdown",
      "metadata": {
        "id": "zl_xTr9t_9Z6"
      },
      "source": [
        "## 1- Análisis Estadístico de Fallas en Lotes de Producción\n",
        "\n",
        "Una planta de producción de botellas plásticas fabrica 1000 lotes de botellas por día. Debido al proceso de fabricación algunas de las botellas salen falladas, estos fallos son detectados automáticamente durante el proceso de control de calidad y se cargan en una base de datos que registra la cantidad de productos fallados que fueron detectados por cada lote. El departamento de control de calidad sospecha que la cantidad de fallos por lote sigue una distribución de *Poisson*, pero todavía no conocen la media y la varianza.\n",
        "\n",
        "Se pide importar los datos de los últimos 30 días (en total son 30000 datos) y calcular la *media*, la *varianza*, la *moda* y la *mediana* de la distribución de datos medidos (sin utilizar librerías de estadística). Los datos se encuentran en el archivo *ControlCalidadBotellas.csv* bajo la columna *Fallas*.\n",
        "\n",
        "**Definiciones:**\n",
        "- **Media:** El valor promedio:\n",
        "\n",
        "  $\\mu=\\frac{X_1+X_2+X_3+\\cdots+X_n}{n}$\n",
        "\n",
        "- **Varianza:** El promedio de las distancias al cuadrado entre cada valor y la media:\n",
        "\n",
        "  $\\sigma^2=\\frac{(X_1-\\mu)^2+(X_2-\\mu)^2+\\cdots+(X_n-\\mu)^2}{n}$\n",
        "\n",
        "- **Moda:** El valor que ocurre con mayor frecuencia.\n",
        "\n",
        "- **Mediana:** El valor que cumple la propiedad que la mitad de las veces el valor medido es menor a la mediana y la otra mitad de las veces es mayor.\n",
        "\n",
        "Si las sospechas acerca de la distribución fueran correctas, entonces de acuerdo a las propiedades de la distribución de Poisson la media y la varianza deberían ser iguales, además la moda sería $\\lceil{\\mu}\\rceil-1$\n",
        "¿Esta sospecha les parece acertada?\n",
        "\n",
        "*Nota: Usando las librerías numpy y scipy se pueden realizar todo tipo de análisis de estadística.*"
      ]
    },
    {
      "cell_type": "code",
      "metadata": {
        "id": "yRs4g22X__5p"
      },
      "source": [
        ""
      ],
      "execution_count": null,
      "outputs": []
    }
  ]
}